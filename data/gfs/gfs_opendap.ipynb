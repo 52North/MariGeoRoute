{
 "cells": [
  {
   "cell_type": "code",
   "execution_count": null,
   "id": "1db7100e",
   "metadata": {},
   "outputs": [],
   "source": [
    "import xarray as xr"
   ]
  },
  {
   "cell_type": "code",
   "execution_count": null,
   "id": "94b477d8",
   "metadata": {},
   "outputs": [],
   "source": [
    "%load_ext autoreload\n",
    "%autoreload 2"
   ]
  },
  {
   "cell_type": "code",
   "execution_count": null,
   "id": "b2f07446",
   "metadata": {},
   "outputs": [],
   "source": [
    "# check from terminal: ncdump -h https://thredds.ucar.edu/thredds/dodsC/grib/NCEP/GFS/Global_0p25deg/Best"
   ]
  },
  {
   "cell_type": "code",
   "execution_count": null,
   "id": "ef4b6a1b",
   "metadata": {},
   "outputs": [],
   "source": [
    "url = 'https://thredds.ucar.edu/thredds/dodsC/grib/NCEP/GFS/Global_0p25deg/Best'"
   ]
  },
  {
   "cell_type": "code",
   "execution_count": null,
   "id": "08345992",
   "metadata": {},
   "outputs": [],
   "source": [
    "dataset = xr.open_dataset(url)"
   ]
  },
  {
   "cell_type": "code",
   "execution_count": null,
   "id": "e0742185",
   "metadata": {},
   "outputs": [],
   "source": [
    "dataset\n",
    "#dataset.head()"
   ]
  },
  {
   "cell_type": "code",
   "execution_count": null,
   "id": "15767922",
   "metadata": {},
   "outputs": [],
   "source": [
    "dataset['u-component_of_wind_height_above_ground'].isel(time=0, height_above_ground2=0).plot(robust=True, aspect=2, size=7);"
   ]
  },
  {
   "cell_type": "code",
   "execution_count": null,
   "id": "5e4ef221",
   "metadata": {},
   "outputs": [],
   "source": [
    "dataset['v-component_of_wind_height_above_ground'].isel(time=0, height_above_ground2=0).plot(robust=True, aspect=2, size=7);"
   ]
  },
  {
   "cell_type": "code",
   "execution_count": null,
   "id": "c7f7df7a",
   "metadata": {},
   "outputs": [],
   "source": []
  }
 ],
 "metadata": {
  "kernelspec": {
   "display_name": "Python 3 (ipykernel)",
   "language": "python",
   "name": "python3"
  },
  "language_info": {
   "codemirror_mode": {
    "name": "ipython",
    "version": 3
   },
   "file_extension": ".py",
   "mimetype": "text/x-python",
   "name": "python",
   "nbconvert_exporter": "python",
   "pygments_lexer": "ipython3",
   "version": "3.10.6"
  }
 },
 "nbformat": 4,
 "nbformat_minor": 5
}
