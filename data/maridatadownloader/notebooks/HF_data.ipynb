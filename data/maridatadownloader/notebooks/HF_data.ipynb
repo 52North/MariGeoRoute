{
 "cells": [
  {
   "cell_type": "code",
   "execution_count": null,
   "id": "05fdcc1d",
   "metadata": {},
   "outputs": [],
   "source": [
    "import os\n",
    "import time\n",
    "from datetime import datetime\n",
    "\n",
    "import getpass\n",
    "import numpy as np\n",
    "import pandas as pd\n",
    "import xarray\n",
    "from matplotlib import pyplot as plt\n",
    "\n",
    "from maridatadownloader import DownloaderFactory"
   ]
  },
  {
   "cell_type": "code",
   "execution_count": null,
   "id": "f19f640d",
   "metadata": {},
   "outputs": [],
   "source": [
    "%load_ext autoreload\n",
    "%autoreload 2"
   ]
  },
  {
   "cell_type": "code",
   "execution_count": null,
   "id": "fd4fa2da",
   "metadata": {},
   "outputs": [],
   "source": [
    "def absolute_file_paths(directory):\n",
    "    for root, dirs, files in os.walk(directory):\n",
    "        for f in files:\n",
    "            yield os.path.abspath(os.path.join(root, f))"
   ]
  },
  {
   "cell_type": "code",
   "execution_count": null,
   "id": "2445c35e",
   "metadata": {},
   "outputs": [],
   "source": [
    "position_files_folder = '<insert-path>'"
   ]
  },
  {
   "cell_type": "code",
   "execution_count": null,
   "id": "5b768938",
   "metadata": {},
   "outputs": [],
   "source": [
    "position_files = list(absolute_file_paths(position_files_folder))\n",
    "position_files"
   ]
  },
  {
   "cell_type": "code",
   "execution_count": null,
   "id": "f2e16c37",
   "metadata": {},
   "outputs": [],
   "source": [
    "csv_file = position_files[0]"
   ]
  },
  {
   "cell_type": "code",
   "execution_count": 7,
   "id": "43b16911",
   "metadata": {},
   "outputs": [
    {
     "data": {
      "text/html": [
       "<div>\n",
       "<style scoped>\n",
       "    .dataframe tbody tr th:only-of-type {\n",
       "        vertical-align: middle;\n",
       "    }\n",
       "\n",
       "    .dataframe tbody tr th {\n",
       "        vertical-align: top;\n",
       "    }\n",
       "\n",
       "    .dataframe thead th {\n",
       "        text-align: right;\n",
       "    }\n",
       "</style>\n",
       "<table border=\"1\" class=\"dataframe\">\n",
       "  <thead>\n",
       "    <tr style=\"text-align: right;\">\n",
       "      <th></th>\n",
       "      <th>time</th>\n",
       "      <th>latitude</th>\n",
       "      <th>longitude</th>\n",
       "    </tr>\n",
       "  </thead>\n",
       "  <tbody>\n",
       "    <tr>\n",
       "      <th>0</th>\n",
       "      <td>2023-08-09 01:17:39.046</td>\n",
       "      <td>44.438958</td>\n",
       "      <td>12.244237</td>\n",
       "    </tr>\n",
       "    <tr>\n",
       "      <th>1</th>\n",
       "      <td>2023-08-09 01:17:40.885</td>\n",
       "      <td>44.438958</td>\n",
       "      <td>12.244237</td>\n",
       "    </tr>\n",
       "    <tr>\n",
       "      <th>2</th>\n",
       "      <td>2023-08-09 01:17:43.974</td>\n",
       "      <td>44.438958</td>\n",
       "      <td>12.244237</td>\n",
       "    </tr>\n",
       "    <tr>\n",
       "      <th>3</th>\n",
       "      <td>2023-08-09 01:17:44.204</td>\n",
       "      <td>44.438958</td>\n",
       "      <td>12.244237</td>\n",
       "    </tr>\n",
       "    <tr>\n",
       "      <th>4</th>\n",
       "      <td>2023-08-09 01:17:46.113</td>\n",
       "      <td>44.438957</td>\n",
       "      <td>12.244237</td>\n",
       "    </tr>\n",
       "    <tr>\n",
       "      <th>...</th>\n",
       "      <td>...</td>\n",
       "      <td>...</td>\n",
       "      <td>...</td>\n",
       "    </tr>\n",
       "    <tr>\n",
       "      <th>20995</th>\n",
       "      <td>2023-08-09 10:57:20.052</td>\n",
       "      <td>44.438970</td>\n",
       "      <td>12.244205</td>\n",
       "    </tr>\n",
       "    <tr>\n",
       "      <th>20996</th>\n",
       "      <td>2023-08-09 10:57:23.340</td>\n",
       "      <td>44.438970</td>\n",
       "      <td>12.244205</td>\n",
       "    </tr>\n",
       "    <tr>\n",
       "      <th>20997</th>\n",
       "      <td>2023-08-09 10:57:24.470</td>\n",
       "      <td>44.438970</td>\n",
       "      <td>12.244205</td>\n",
       "    </tr>\n",
       "    <tr>\n",
       "      <th>20998</th>\n",
       "      <td>2023-08-09 10:57:24.660</td>\n",
       "      <td>44.438970</td>\n",
       "      <td>12.244205</td>\n",
       "    </tr>\n",
       "    <tr>\n",
       "      <th>20999</th>\n",
       "      <td>2023-08-09 10:57:27.098</td>\n",
       "      <td>44.438970</td>\n",
       "      <td>12.244205</td>\n",
       "    </tr>\n",
       "  </tbody>\n",
       "</table>\n",
       "<p>21000 rows × 3 columns</p>\n",
       "</div>"
      ],
      "text/plain": [
       "                         time   latitude  longitude\n",
       "0     2023-08-09 01:17:39.046  44.438958  12.244237\n",
       "1     2023-08-09 01:17:40.885  44.438958  12.244237\n",
       "2     2023-08-09 01:17:43.974  44.438958  12.244237\n",
       "3     2023-08-09 01:17:44.204  44.438958  12.244237\n",
       "4     2023-08-09 01:17:46.113  44.438957  12.244237\n",
       "...                       ...        ...        ...\n",
       "20995 2023-08-09 10:57:20.052  44.438970  12.244205\n",
       "20996 2023-08-09 10:57:23.340  44.438970  12.244205\n",
       "20997 2023-08-09 10:57:24.470  44.438970  12.244205\n",
       "20998 2023-08-09 10:57:24.660  44.438970  12.244205\n",
       "20999 2023-08-09 10:57:27.098  44.438970  12.244205\n",
       "\n",
       "[21000 rows x 3 columns]"
      ]
     },
     "execution_count": 7,
     "metadata": {},
     "output_type": "execute_result"
    }
   ],
   "source": [
    "# Read csv\n",
    "df_positions = pd.read_csv(csv_file, names=['time','latitude','N','longitude','E'], sep='\\||,', dtype=str, engine='python')\n",
    "\n",
    "# Parse coordinates\n",
    "df_positions['latitude'] = df_positions['latitude'].map(lambda item: int(item[:2]) + float(item[2:])/60)\n",
    "df_positions['longitude'] = df_positions['longitude'].map(lambda item: int(item[:3]) + float(item[3:])/60)\n",
    "df_positions['time'] = df_positions['time'].map(lambda item: datetime.strptime(item, '%Y-%m-%dT%H:%M:%S.%f'))\n",
    "df_positions.drop(columns=['N','E'], inplace=True)\n",
    "\n",
    "# Create xarray.Dataset from pandas.Dataframe \n",
    "#ds_positions = df_positions.to_xarray().rename({'index': 'trajectory'}).set_coords(['time', 'latitude', 'longitude']).drop_vars('trajectory')\n",
    "\n",
    "df_positions"
   ]
  },
  {
   "cell_type": "code",
   "execution_count": null,
   "id": "7e914268",
   "metadata": {},
   "outputs": [],
   "source": [
    "# Define parameters for enriching trajectory with environmental data\n",
    "every_nth_row = 1\n",
    "\n",
    "lons = df_positions.iloc[::every_nth_row]['longitude'].tolist()\n",
    "lats = df_positions.iloc[::every_nth_row]['latitude'].tolist()\n",
    "#times = df_positions.iloc[::every_nth_row]['time'].tolist()\n",
    "times = [ts.to_pydatetime() for ts in df_positions.iloc[::every_nth_row]['time'].tolist()]\n",
    "\n",
    "lons_xr = xarray.DataArray(lons, dims=['trajectory'])\n",
    "lats_xr = xarray.DataArray(lats, dims=['trajectory'])\n",
    "times_xr = xarray.DataArray(times, dims=['trajectory'])"
   ]
  },
  {
   "cell_type": "markdown",
   "id": "f2ff6300",
   "metadata": {},
   "source": [
    "# GFS (weather data)"
   ]
  },
  {
   "cell_type": "code",
   "execution_count": null,
   "id": "e012714a",
   "metadata": {},
   "outputs": [],
   "source": [
    "height = 10\n",
    "\n",
    "parameters = [\"Temperature_surface\", \"Pressure_reduced_to_MSL_msl\", \"Wind_speed_gust_surface\", \n",
    "              \"u-component_of_wind_height_above_ground\", \"v-component_of_wind_height_above_ground\"]\n",
    "\n",
    "sel_dict = {'time': times_xr, 'time1': times_xr, 'longitude': lons_xr, 'latitude': lats_xr, \n",
    "            'height_above_ground2': height}"
   ]
  },
  {
   "cell_type": "code",
   "execution_count": null,
   "id": "8a420b38",
   "metadata": {},
   "outputs": [],
   "source": [
    "gfs = DownloaderFactory.get_downloader('opendap', 'gfs')"
   ]
  },
  {
   "cell_type": "markdown",
   "id": "1a58c82e",
   "metadata": {},
   "source": [
    "\"ValueError: polynomial is not a valid interpolator for interpolating over multiple dimensions.\" <br>\n",
    "-> for multiple dimensions only 'nearest' and 'linear' are supported"
   ]
  },
  {
   "cell_type": "code",
   "execution_count": null,
   "id": "953e157b",
   "metadata": {},
   "outputs": [],
   "source": [
    "%%time\n",
    "# Subset data along trajectory using linear interpolation\n",
    "dataset_gfs_trajectory_interp = gfs.download(parameters=parameters, sel_dict=sel_dict, interpolate=True)\n",
    "dataset_gfs_trajectory_interp"
   ]
  },
  {
   "cell_type": "code",
   "execution_count": null,
   "id": "b5a805af",
   "metadata": {},
   "outputs": [],
   "source": [
    "%%time\n",
    "# Subset data along trajectory using nearest interpolation\n",
    "dataset_gfs_trajectory_interp_nearest = gfs.download(parameters=parameters, sel_dict=sel_dict, interpolate=True, method='nearest')\n",
    "dataset_gfs_trajectory_interp_nearest"
   ]
  },
  {
   "cell_type": "code",
   "execution_count": null,
   "id": "8a50d7f6",
   "metadata": {},
   "outputs": [],
   "source": [
    "%%time\n",
    "# Subset data along trajectory using inexact matches\n",
    "dataset_gfs_trajectory_inexact = gfs.download(parameters=parameters, sel_dict=sel_dict, interpolate=False, method='nearest')\n",
    "dataset_gfs_trajectory_inexact"
   ]
  },
  {
   "cell_type": "code",
   "execution_count": 13,
   "id": "6ece8e43",
   "metadata": {},
   "outputs": [
    {
     "data": {
      "image/png": "[encoded data removed]",
      "text/plain": [
       "<Figure size 640x480 with 1 Axes>"
      ]
     },
     "metadata": {},
     "output_type": "display_data"
    }
   ],
   "source": [
    "# Plot comparison\n",
    "dataset_gfs_trajectory_inexact['u-component_of_wind_height_above_ground'].plot.step(x='time', label=\"inexact match\");\n",
    "dataset_gfs_trajectory_interp['u-component_of_wind_height_above_ground'].plot(x='time', label=\"linear interpolation\");\n",
    "dataset_gfs_trajectory_interp_nearest['u-component_of_wind_height_above_ground'].plot(x='time', label=\"nearest interpolation\");\n",
    "plt.legend(loc=\"lower center\");"
   ]
  },
  {
   "cell_type": "markdown",
   "id": "c5723d11",
   "metadata": {},
   "source": [
    "# CMEMS"
   ]
  },
  {
   "cell_type": "code",
   "execution_count": null,
   "id": "b273916b",
   "metadata": {},
   "outputs": [],
   "source": [
    "username = '<username>'\n",
    "password = getpass.getpass('Enter your password: ')"
   ]
  },
  {
   "cell_type": "code",
   "execution_count": null,
   "id": "89979b34",
   "metadata": {},
   "outputs": [],
   "source": [
    "sel_dict = {'time': times_xr, 'longitude': lons_xr, 'latitude': lats_xr}"
   ]
  },
  {
   "cell_type": "code",
   "execution_count": null,
   "id": "37a61ab7",
   "metadata": {},
   "outputs": [],
   "source": [
    "def check_nan_values(data_array):\n",
    "    assert type(data_array) == xarray.DataArray\n",
    "    number_nans = (np.isnan(data_array)).sum().values\n",
    "    number_non_nans = (~np.isnan(data_array)).sum().values\n",
    "    if number_nans > 0:\n",
    "        print(\"!!! Warning: NaN values detected !!!\")\n",
    "    print(\"Number of nan values (nans):\", number_nans)\n",
    "    print(\"Number of no nan values (nonans):\", number_non_nans)\n",
    "    print(\"Total number of values (nans + nonans):\", number_nans + number_non_nans)\n",
    "    print(\"---------------------\")\n",
    "    if 'trajectory' in data_array.dims:\n",
    "        assert len(data_array.trajectory) == len(data_array.latitude) == len(data_array.longitude) == len(data_array.time)\n",
    "        print(\"Total number of points in trajectory:\", len(data_array.trajectory))\n",
    "    else:\n",
    "        print(\"Number of latitudes (lats):\", len(data_array.latitude))\n",
    "        print(\"Number of longitudes (lons):\", len(data_array.longitude))\n",
    "        if 'time' in data_array.coords:\n",
    "            print(\"Number of times (times):\", len(data_array.time))\n",
    "            print(\"Total number of points (lats * lons * time):\", \n",
    "                  len(data_array.latitude) * len(data_array.longitude) * len(data_array.time))\n",
    "            print(\"(lats * lons * times) - (sum nans + no nans):\",\n",
    "                  len(data_array.latitude) * len(data_array.longitude) * len(data_array.time) - number_nans - number_non_nans)\n",
    "        else:\n",
    "            print(\"Total number of points (lats * lons):\", len(data_array.latitude) * len(data_array.longitude))\n",
    "            print(\"(lats * lons) - (sum nans + no nans):\", \n",
    "                  len(data_array.latitude) * len(data_array.longitude) - number_nans - number_non_nans)"
   ]
  },
  {
   "cell_type": "markdown",
   "id": "03a08296",
   "metadata": {},
   "source": [
    "## Wave data "
   ]
  },
  {
   "cell_type": "code",
   "execution_count": null,
   "id": "62099bc4",
   "metadata": {},
   "outputs": [],
   "source": [
    "product = 'cmems_mod_glo_wav_anfc_0.083deg_PT3H-i'  # nrt\n",
    "product_type = 'nrt'\n",
    "\n",
    "parameters = [\"VHM0\", \"VMDR\", \"VTPK\"]"
   ]
  },
  {
   "cell_type": "code",
   "execution_count": null,
   "id": "71986d35",
   "metadata": {},
   "outputs": [],
   "source": [
    "cmems = DownloaderFactory.get_downloader('opendap', 'cmems', username, password, \n",
    "                                         product=product, product_type=product_type)"
   ]
  },
  {
   "cell_type": "code",
   "execution_count": null,
   "id": "7f84eabb",
   "metadata": {},
   "outputs": [],
   "source": [
    "dataset_waves_trajectory = cmems.download(parameters=parameters, sel_dict=sel_dict, interpolate=True, method='nearest')\n",
    "dataset_waves_trajectory"
   ]
  },
  {
   "cell_type": "code",
   "execution_count": null,
   "id": "9d54955a",
   "metadata": {},
   "outputs": [],
   "source": [
    "for var in dataset_waves_trajectory.data_vars:\n",
    "    print(\"########## Variable:\", var, \"##########\")\n",
    "    check_nan_values(dataset_waves_trajectory[var])"
   ]
  },
  {
   "cell_type": "markdown",
   "id": "daeb45c3",
   "metadata": {},
   "source": [
    "### Handle NaN values (e.g. route points close to coast) "
   ]
  },
  {
   "cell_type": "code",
   "execution_count": null,
   "id": "9fa0f764",
   "metadata": {},
   "outputs": [],
   "source": [
    "# Create sub cube for efficiency\n",
    "buffer_space = 1  # in degress\n",
    "\n",
    "time_next_lower = cmems.dataset.time.sel(time=min(times), method='ffill')\n",
    "time_next_upper = cmems.dataset.time.sel(time=max(times), method='bfill')\n",
    "\n",
    "cmems_sub_cube = cmems.download(parameters=parameters, sel_dict={'time': slice(time_next_lower, time_next_upper)})\n",
    "cmems_sub_cube = cmems_sub_cube.sel(latitude=slice(lats[0]-buffer_space, lats[-1]+buffer_space), \n",
    "                                    longitude=slice(lons[0]-buffer_space, lons[-1]+buffer_space))\n",
    "cmems_sub_cube"
   ]
  },
  {
   "cell_type": "markdown",
   "id": "8034e94e",
   "metadata": {},
   "source": [
    "### 1) Backward/forward fill approach"
   ]
  },
  {
   "cell_type": "code",
   "execution_count": null,
   "id": "57c30d74",
   "metadata": {},
   "outputs": [],
   "source": [
    "# ffill = forward fill, bfill = backward fill\n",
    "# Note that changing the order changes the result\n",
    "fill_limit = 1  # in pixels\n",
    "\n",
    "cmems_sub_cube_corrected = cmems_sub_cube.ffill(dim='longitude', limit=fill_limit).bfill(dim='longitude', limit=fill_limit)\n",
    "cmems_sub_cube_corrected = cmems_sub_cube_corrected.ffill(dim='latitude', limit=fill_limit).bfill(dim='latitude', limit=fill_limit)\n",
    "cmems_sub_cube_corrected"
   ]
  },
  {
   "cell_type": "markdown",
   "id": "58501ba3",
   "metadata": {},
   "source": [
    "### 2) Extrapolation approach"
   ]
  },
  {
   "cell_type": "code",
   "execution_count": null,
   "id": "c87d2dc9",
   "metadata": {},
   "outputs": [],
   "source": [
    "extrapolation_method = 'linear'\n",
    "\n",
    "cmems_sub_cube_corrected = cmems_sub_cube.interpolate_na(dim=\"longitude\", use_coordinate=\"longitude\", fill_value=\"extrapolate\", method=extrapolation_method)\n",
    "cmems_sub_cube_corrected = cmems_sub_cube_corrected.interpolate_na(dim=\"latitude\", use_coordinate=\"latitude\", fill_value=\"extrapolate\", method=extrapolation_method)\n",
    "cmems_sub_cube_corrected"
   ]
  },
  {
   "cell_type": "code",
   "execution_count": null,
   "id": "cd0f44b1",
   "metadata": {},
   "outputs": [],
   "source": [
    "# Check difference\n",
    "diff_orig_corrected = cmems_sub_cube[var].isel(time=time_idx)-cmems_sub_cube_corrected[var].isel(time=time_idx)\n",
    "np.unique(diff_orig_corrected)"
   ]
  },
  {
   "cell_type": "code",
   "execution_count": null,
   "id": "52502917",
   "metadata": {},
   "outputs": [],
   "source": [
    "var = 'VHM0'\n",
    "time_idx = 0\n",
    "\n",
    "fig, axs = plt.subplots(ncols=2, figsize=(10,4))\n",
    "cmems_sub_cube[var].isel(time=time_idx).plot(ax=axs[0])\n",
    "cmems_sub_cube_corrected[var].isel(time=time_idx).plot(ax=axs[1]);"
   ]
  },
  {
   "cell_type": "code",
   "execution_count": null,
   "id": "7ac25ab9",
   "metadata": {},
   "outputs": [],
   "source": [
    "dataset_waves_trajectory = cmems_sub_cube_corrected.interp(**sel_dict, method='nearest')\n",
    "dataset_waves_trajectory"
   ]
  },
  {
   "cell_type": "code",
   "execution_count": null,
   "id": "c8b75872",
   "metadata": {},
   "outputs": [],
   "source": [
    "for var in dataset_waves_trajectory.data_vars:\n",
    "    print(\"########## Variable:\", var, \"##########\")\n",
    "    check_nan_values(dataset_waves_trajectory[var])"
   ]
  },
  {
   "cell_type": "code",
   "execution_count": null,
   "id": "6faa1489",
   "metadata": {},
   "outputs": [],
   "source": [
    "fig, axs = plt.subplots(ncols=len(dataset_waves_trajectory.data_vars), figsize=(12,4))\n",
    "for idx, var in enumerate(dataset_waves_trajectory.data_vars):\n",
    "    dataset_waves_trajectory[var].plot(ax=axs[idx])"
   ]
  },
  {
   "cell_type": "markdown",
   "id": "818ecd1f",
   "metadata": {},
   "source": [
    "# Combine everything into a single dataframe"
   ]
  },
  {
   "cell_type": "code",
   "execution_count": null,
   "id": "5662a216",
   "metadata": {},
   "outputs": [],
   "source": [
    "#tbd"
   ]
  },
  {
   "cell_type": "code",
   "execution_count": null,
   "id": "987aa20b",
   "metadata": {},
   "outputs": [],
   "source": [
    "df_positions_env = dataset_gfs_trajectory_interp_nearest.to_dataframe()\n",
    "df_positions_env"
   ]
  }
 ],
 "metadata": {
  "kernelspec": {
   "display_name": "Python 3 (ipykernel)",
   "language": "python",
   "name": "python3"
  },
  "language_info": {
   "codemirror_mode": {
    "name": "ipython",
    "version": 3
   },
   "file_extension": ".py",
   "mimetype": "text/x-python",
   "name": "python",
   "nbconvert_exporter": "python",
   "pygments_lexer": "ipython3",
   "version": "3.10.12"
  }
 },
 "nbformat": 4,
 "nbformat_minor": 5
}
