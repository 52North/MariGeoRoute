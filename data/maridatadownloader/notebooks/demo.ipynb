{
 "cells": [
  {
   "cell_type": "markdown",
   "id": "eaac0f21",
   "metadata": {},
   "source": [
    "# Demo notebook for using maridatadownloader"
   ]
  },
  {
   "cell_type": "markdown",
   "id": "147a6756",
   "metadata": {},
   "source": [
    "# Table of content <a class=\"anchor\" id=\"toc\"></a>\n",
    "\n",
    "* [1) GFS](#gfs)\n",
    "    * [1.1) Create downloader object](#gfs-init)\n",
    "    * [1.2) Download data as datacube](#gfs-datacube)\n",
    "    * [1.3) Download data along trajectory](#gfs-trajectory)\n",
    "* [2) CMEMS](#cmems)\n",
    "    * [1.1) Create downloader object](#cmems-init)\n",
    "    * [1.2) Download data as datacube](#cmems-datacube)"
   ]
  },
  {
   "cell_type": "markdown",
   "id": "f802aeba",
   "metadata": {},
   "source": [
    "---"
   ]
  },
  {
   "cell_type": "code",
   "execution_count": null,
   "id": "c7bbec98",
   "metadata": {},
   "outputs": [],
   "source": [
    "import os\n",
    "import time\n",
    "from datetime import datetime, timezone, timedelta\n",
    "\n",
    "import folium\n",
    "import getpass\n",
    "import numpy as np\n",
    "import rioxarray\n",
    "import xarray\n",
    "\n",
    "from maridatadownloader import DownloaderFactory"
   ]
  },
  {
   "cell_type": "code",
   "execution_count": null,
   "id": "59574299",
   "metadata": {},
   "outputs": [],
   "source": [
    "%load_ext autoreload\n",
    "%autoreload 2"
   ]
  },
  {
   "cell_type": "markdown",
   "id": "7d725984",
   "metadata": {},
   "source": [
    "---"
   ]
  },
  {
   "cell_type": "markdown",
   "id": "63f8209f",
   "metadata": {},
   "source": [
    "# 1) GFS <a class=\"anchor\" id=\"gfs\"></a>\n",
    "[go to TOC](#toc)"
   ]
  },
  {
   "cell_type": "markdown",
   "id": "ded5c246",
   "metadata": {},
   "source": [
    "## 1.1) Create downloader object <a class=\"anchor\" id=\"gfs-init\"></a>\n",
    "[go to TOC](#toc)"
   ]
  },
  {
   "cell_type": "code",
   "execution_count": null,
   "id": "ba079f98",
   "metadata": {},
   "outputs": [],
   "source": [
    "gfs = DownloaderFactory.get_downloader('opendap', 'gfs')"
   ]
  },
  {
   "cell_type": "code",
   "execution_count": null,
   "id": "390fe358",
   "metadata": {},
   "outputs": [],
   "source": [
    "gfs.dataset"
   ]
  },
  {
   "cell_type": "markdown",
   "id": "785231cc",
   "metadata": {},
   "source": [
    "## 1.2) Download data as datacube <a class=\"anchor\" id=\"gfs-datacube\"></a>\n",
    "[go to TOC](#toc)"
   ]
  },
  {
   "cell_type": "code",
   "execution_count": null,
   "id": "667de366",
   "metadata": {},
   "outputs": [],
   "source": [
    "# Configuration for downloading as cube\n",
    "time_min = \"2023-09-20 11:00:00\"\n",
    "time_max = \"2023-09-20 16:00:00\"\n",
    "\n",
    "lon_min=-180\n",
    "lon_max=180\n",
    "lat_min=-90\n",
    "lat_max=90\n",
    "\n",
    "height_min = 10\n",
    "height_max = 10\n",
    "\n",
    "parameters = [\"Temperature_surface\", \"Pressure_reduced_to_MSL_msl\", \"Wind_speed_gust_surface\", \n",
    "              \"u-component_of_wind_height_above_ground\", \"v-component_of_wind_height_above_ground\"]\n",
    "\n",
    "sel_dict = {'time': slice(time_min, time_max), 'time1': slice(time_min, time_max)}\n",
    "sel_dict = {'time': slice(time_min, time_max), 'time1': slice(time_min, time_max)}\n",
    "#sel_dict = {'time': slice(time_min, time_max), 'time1': slice(time_min, time_max), \n",
    "#            'height_above_ground2': slice(height_min, height_max)}"
   ]
  },
  {
   "cell_type": "code",
   "execution_count": null,
   "id": "06e68d51",
   "metadata": {},
   "outputs": [],
   "source": [
    "dataset_gfs = gfs.download(parameters=parameters, sel_dict=sel_dict)\n",
    "dataset_gfs"
   ]
  },
  {
   "cell_type": "code",
   "execution_count": null,
   "id": "6fefa37f",
   "metadata": {},
   "outputs": [],
   "source": [
    "if 'sigma' in dataset_gfs.coords:\n",
    "    dataset_gfs = dataset_gfs.isel(sigma=0).drop('sigma')\n",
    "if 'height_above_ground' in dataset_gfs.coords and 'height_above_ground' not in sel_dict.keys():\n",
    "    dataset_gfs = dataset_gfs.sel(height_above_ground=10).drop('height_above_ground')\n",
    "if 'reftime' in dataset_gfs.coords:\n",
    "    dataset_gfs = dataset_gfs.drop('reftime')\n",
    "if 'LatLon_Projection' in dataset_gfs.coords:   \n",
    "    dataset_gfs = dataset_gfs.drop('LatLon_Projection')\n",
    "dataset_gfs"
   ]
  },
  {
   "cell_type": "code",
   "execution_count": null,
   "id": "1cf515dd",
   "metadata": {},
   "outputs": [],
   "source": [
    "gfs.dataset['u-component_of_wind_height_above_ground'].sel(height_above_ground2=10).isel(time=0).plot()"
   ]
  },
  {
   "cell_type": "markdown",
   "id": "1a258c70",
   "metadata": {},
   "source": [
    "### Calculate difference "
   ]
  },
  {
   "cell_type": "code",
   "execution_count": null,
   "id": "31748d92",
   "metadata": {},
   "outputs": [],
   "source": [
    "diff = gfs.dataset['u-component_of_wind_height_above_ground'].sel(height_above_ground2=10).isel(time=0) - gfs.dataset['u-component_of_wind_height_above_ground'].sel(height_above_ground2=80).isel(time=0)"
   ]
  },
  {
   "cell_type": "code",
   "execution_count": null,
   "id": "3c720674",
   "metadata": {},
   "outputs": [],
   "source": [
    "diff.plot()"
   ]
  },
  {
   "cell_type": "markdown",
   "id": "e85de5d5",
   "metadata": {},
   "source": [
    "## 1.3) Download data along trajectory <a class=\"anchor\" id=\"gfs-trajectory\"></a>\n",
    "[go to TOC](#toc)"
   ]
  },
  {
   "cell_type": "markdown",
   "id": "97e2bf11",
   "metadata": {},
   "source": [
    "References:\n",
    " - https://docs.xarray.dev/en/latest/user-guide/interpolation.html#advanced-interpolation\n",
    " - https://earth-env-data-science.github.io/lectures/xarray/xarray-part2.html\n",
    " - https://xesmf.readthedocs.io/en/stable/\n",
    " - https://stackoverflow.com/questions/56144678/xarray-point-interpolation-on-multiple-dimensions\n",
    " - https://stackoverflow.com/questions/72179103/xarray-select-the-data-at-specific-x-and-y-coordinates"
   ]
  },
  {
   "cell_type": "code",
   "execution_count": null,
   "id": "b3341ba7",
   "metadata": {},
   "outputs": [],
   "source": [
    "# Configuration for downloading along trajectory\n",
    "lons = [2.81, 3.19, 4.56, 6.67, 6.68]\n",
    "lats = [51.9, 53.0, 54.0, 54.3, 55.5]\n",
    "\n",
    "times = [datetime.strptime(\"2023-09-20 09:00:00\", '%Y-%m-%d %H:%M:%S'),\n",
    "         datetime.strptime(\"2023-09-20 11:00:00\", '%Y-%m-%d %H:%M:%S'),\n",
    "         datetime.strptime(\"2023-09-20 13:00:00\", '%Y-%m-%d %H:%M:%S'),\n",
    "         datetime.strptime(\"2023-09-20 15:00:00\", '%Y-%m-%d %H:%M:%S'),\n",
    "         datetime.strptime(\"2023-09-20 17:00:00\", '%Y-%m-%d %H:%M:%S')]\n",
    "\n",
    "#times = [\"2023-09-28 09:00:00\",\n",
    "#         \"2023-09-28 11:00:00\",\n",
    "#         \"2023-09-28 13:00:00\",\n",
    "#         \"2023-09-28 15:00:00\",\n",
    "#         \"2023-09-28 17:00:00\"]\n",
    "\n",
    "height = 10\n",
    "\n",
    "parameters = [\"Temperature_surface\", \"Pressure_reduced_to_MSL_msl\", \"Wind_speed_gust_surface\", \n",
    "              \"u-component_of_wind_height_above_ground\", \"v-component_of_wind_height_above_ground\"]\n",
    "\n",
    "x = xarray.DataArray(lons, dims=['trajectory'])\n",
    "y = xarray.DataArray(lats, dims=['trajectory'])\n",
    "t = xarray.DataArray(times, dims=['trajectory'])\n",
    "\n",
    "sel_dict = {'time1': t, 'longitude': x, 'latitude': y, 'height_above_ground2': height}"
   ]
  },
  {
   "cell_type": "code",
   "execution_count": null,
   "id": "b6dbf50e",
   "metadata": {},
   "outputs": [],
   "source": [
    "%%time\n",
    "dataset_gfs_trajectory = gfs.download(parameters=parameters, sel_dict=sel_dict, interpolate=True)\n",
    "dataset_gfs_trajectory"
   ]
  },
  {
   "cell_type": "code",
   "execution_count": null,
   "id": "a23e6e1c",
   "metadata": {},
   "outputs": [],
   "source": [
    "dataset_gfs_trajectory.Temperature_surface.plot();"
   ]
  },
  {
   "cell_type": "code",
   "execution_count": null,
   "id": "779da152",
   "metadata": {},
   "outputs": [],
   "source": [
    "df_trajectory = dataset_gfs_trajectory.to_dataframe()\n",
    "df_trajectory"
   ]
  },
  {
   "cell_type": "code",
   "execution_count": null,
   "id": "4b85d56b",
   "metadata": {
    "scrolled": false
   },
   "outputs": [],
   "source": [
    "m = folium.Map(location=(np.mean(y).item(), np.mean(x).item()), zoom_start=6)\n",
    "\n",
    "for idx, row in df_trajectory.iterrows():\n",
    "    html = f\"\"\"\n",
    "    <b>Point {idx+1}<b/>\n",
    "    <table style=\"width:100%\">\n",
    "      <tr>\n",
    "        <th>Latitude</th>\n",
    "        <th>{row['latitude']}</th>\n",
    "      </tr>\n",
    "      <tr>\n",
    "        <th>Longitude</th>\n",
    "        <th>{row['longitude']}</th>\n",
    "      </tr>\n",
    "      <tr>\n",
    "        <th>Time</th>\n",
    "        <th>{row['time']}</th>\n",
    "      </tr>\n",
    "      <tr>\n",
    "        <th>Temperature_surface</th>\n",
    "        <th>{row['Temperature_surface']}</th>\n",
    "      </tr>\n",
    "      <tr>\n",
    "        <th>Pressure_reduced_to_MSL_msl</th>\n",
    "        <th>{row['Pressure_reduced_to_MSL_msl']}</th>\n",
    "      </tr>\n",
    "      <tr>\n",
    "        <th>Wind_speed_gust_surface</th>\n",
    "        <th>{row['Wind_speed_gust_surface']}</th>\n",
    "      </tr>\n",
    "      <tr>\n",
    "        <th>u-component_of_wind_height_above_ground</th>\n",
    "        <th>{row['u-component_of_wind_height_above_ground']}</th>\n",
    "      </tr>\n",
    "      <tr>\n",
    "        <th>v-component_of_wind_height_above_ground</th>\n",
    "        <th>{row['v-component_of_wind_height_above_ground']}</th>\n",
    "      </tr>\n",
    "    </table>\n",
    "    \"\"\"\n",
    "    folium.Marker(\n",
    "        location=[row['latitude'], row['longitude']],\n",
    "        tooltip=html,\n",
    "        popup=html,\n",
    "    ).add_to(m)\n",
    "m"
   ]
  },
  {
   "cell_type": "code",
   "execution_count": null,
   "id": "f732a26b",
   "metadata": {},
   "outputs": [],
   "source": [
    "#idx = 0\n",
    "#point = gfs.dataset.Temperature_surface.sel(\n",
    "#    time=dataset_gfs_trajectory['trajectory'].time[idx].values,\n",
    "#    lon=dataset_gfs_trajectory['trajectory'].lon[idx].values,\n",
    "#    lat=dataset_gfs_trajectory['trajectory'].lat[idx].values,\n",
    "#    method='nearest'\n",
    "#)\n",
    "#print(point.values)\n",
    "#print(dataset_gfs_trajectory.Temperature_surface.values[idx])\n",
    "#point"
   ]
  },
  {
   "cell_type": "code",
   "execution_count": null,
   "id": "9feb6f49",
   "metadata": {},
   "outputs": [],
   "source": [
    "dataset_gfs_trajectory.Temperature_surface.sel(time=dataset_gfs_trajectory['trajectory'].time[0].values).plot()"
   ]
  },
  {
   "cell_type": "markdown",
   "id": "b00f5c2f",
   "metadata": {},
   "source": [
    "---"
   ]
  },
  {
   "cell_type": "markdown",
   "id": "22a09a43",
   "metadata": {},
   "source": [
    "# 2) CMEMS <a class=\"anchor\" id=\"cmems\"></a>\n",
    "[go to TOC](#toc)"
   ]
  },
  {
   "cell_type": "markdown",
   "id": "e7b24387",
   "metadata": {},
   "source": [
    "## 2.1) Create downloader object <a class=\"anchor\" id=\"cmems-init\"></a>\n",
    "[go to TOC](#toc)"
   ]
  },
  {
   "cell_type": "code",
   "execution_count": null,
   "id": "2f05d3bc",
   "metadata": {},
   "outputs": [],
   "source": [
    "USERNAME = '<insert-username>'\n",
    "PASSWORD = getpass.getpass('Enter your password: ')"
   ]
  },
  {
   "cell_type": "code",
   "execution_count": null,
   "id": "efd7dd64",
   "metadata": {},
   "outputs": [],
   "source": [
    "#product = 'cmems_mod_glo_phy_anfc_merged-uv_PT1H-i'  # currents\n",
    "#product = 'cmems_mod_glo_phy_anfc_0.083deg_PT1H-m'  # phyiscs\n",
    "product = 'cmems_mod_glo_phy_my_0.083_P1D-m' # phyiscs, my\n",
    "#product = 'cmems_mod_glo_wav_anfc_0.083deg_PT3H-i'  # waves\n",
    "#product = 'cmems_obs-wind_glo_phy_nrt_l4_0.125deg_PT1H' # wind\n",
    "product_type = 'my'"
   ]
  },
  {
   "cell_type": "code",
   "execution_count": null,
   "id": "b6e3a62b",
   "metadata": {},
   "outputs": [],
   "source": [
    "downloader_kwargs = {'product': product, 'product_type': product_type}"
   ]
  },
  {
   "cell_type": "code",
   "execution_count": null,
   "id": "a76ff6af",
   "metadata": {},
   "outputs": [],
   "source": [
    "cmems = DownloaderFactory.get_downloader('opendap', 'cmems', USERNAME, PASSWORD, **downloader_kwargs)"
   ]
  },
  {
   "cell_type": "markdown",
   "id": "fced78b9",
   "metadata": {},
   "source": [
    "## 2.2) Download data as datacube <a class=\"anchor\" id=\"cmems-datacube\"></a>\n",
    "[go to TOC](#toc)"
   ]
  },
  {
   "cell_type": "code",
   "execution_count": null,
   "id": "0a8518ba",
   "metadata": {},
   "outputs": [],
   "source": [
    "time_min = \"2023-08-29T02:30:00\"\n",
    "time_max = \"2023-08-29T02:30:00\"\n",
    "\n",
    "lon_min=-180\n",
    "lon_max=180\n",
    "lat_min=-90\n",
    "lat_max=90\n",
    "\n",
    "#parameters = [\"VHM0\", \"VMDR\", \"VTPK\"]\n",
    "#parameters = [\"uo\",\"vo\",\"vsdx\",\"vsdy\",\"utide\",\"vtide\",\"utotal\",\"vtotal\"]\n",
    "parameters = [\"so\", \"zos\", \"thetao\"]\n",
    "\n",
    "sel_dict = {'time': slice(time_min, time_max)}"
   ]
  },
  {
   "cell_type": "code",
   "execution_count": null,
   "id": "6d27d47a",
   "metadata": {},
   "outputs": [],
   "source": [
    "#cmems.dataset = cmems.dataset.sortby('time')"
   ]
  },
  {
   "cell_type": "code",
   "execution_count": null,
   "id": "dc15bb08",
   "metadata": {},
   "outputs": [],
   "source": [
    "dataset_cmemcs = cmems.download(parameters=parameters, sel_dict=sel_dict)\n",
    "dataset_cmemcs"
   ]
  },
  {
   "cell_type": "code",
   "execution_count": null,
   "id": "427dbff1",
   "metadata": {},
   "outputs": [],
   "source": [
    "dataset_cmemcs"
   ]
  },
  {
   "cell_type": "markdown",
   "id": "7538672a",
   "metadata": {},
   "source": [
    "### Check ocean currents contributions"
   ]
  },
  {
   "cell_type": "code",
   "execution_count": null,
   "id": "f75a54c3",
   "metadata": {},
   "outputs": [],
   "source": [
    "diff = dataset_cmemcs['uo'].isel(time=0) + dataset_cmemcs['vsdx'].isel(time=0) + dataset_cmemcs['utide'].isel(time=0) - dataset_cmemcs['utotal'].isel(time=0)"
   ]
  },
  {
   "cell_type": "code",
   "execution_count": null,
   "id": "1b95473b",
   "metadata": {},
   "outputs": [],
   "source": [
    "diff.plot()"
   ]
  }
 ],
 "metadata": {
  "kernelspec": {
   "display_name": "Python 3 (ipykernel)",
   "language": "python",
   "name": "python3"
  },
  "language_info": {
   "codemirror_mode": {
    "name": "ipython",
    "version": 3
   },
   "file_extension": ".py",
   "mimetype": "text/x-python",
   "name": "python",
   "nbconvert_exporter": "python",
   "pygments_lexer": "ipython3",
   "version": "3.10.12"
  }
 },
 "nbformat": 4,
 "nbformat_minor": 5
}
