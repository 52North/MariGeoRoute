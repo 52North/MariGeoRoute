{
 "cells": [
  {
   "cell_type": "markdown",
   "id": "d3da7199",
   "metadata": {},
   "source": [
    "# Demo notebook for using maridatadownloader"
   ]
  },
  {
   "cell_type": "markdown",
   "id": "31c3a8e8",
   "metadata": {},
   "source": [
    "# Table of content <a class=\"anchor\" id=\"toc\"></a>\n",
    "\n",
    "* [1) GFS](#gfs)\n",
    "    * [1.1) Create downloader object](#gfs-init)\n",
    "    * [1.2) Download data as datacube](#gfs-datacube)\n",
    "    * [1.3) Download data along trajectory](#gfs-trajectory)\n",
    "* [2) CMEMS](#cmems)\n",
    "    * [1.1) Create downloader object](#cmems-init)\n",
    "    * [1.2) Download data as datacube](#cmems-datacube)"
   ]
  },
  {
   "cell_type": "markdown",
   "id": "99fd5303",
   "metadata": {},
   "source": [
    "---"
   ]
  },
  {
   "cell_type": "code",
   "execution_count": null,
   "id": "c7bbec98",
   "metadata": {},
   "outputs": [],
   "source": [
    "import os\n",
    "import time\n",
    "\n",
    "import getpass\n",
    "import numpy as np\n",
    "import rioxarray\n",
    "import xarray\n",
    "\n",
    "from maridatadownloader import DownloaderFactory"
   ]
  },
  {
   "cell_type": "code",
   "execution_count": null,
   "id": "59574299",
   "metadata": {},
   "outputs": [],
   "source": [
    "%load_ext autoreload\n",
    "%autoreload 2"
   ]
  },
  {
   "cell_type": "markdown",
   "id": "7d725984",
   "metadata": {},
   "source": [
    "---"
   ]
  },
  {
   "cell_type": "markdown",
   "id": "63f8209f",
   "metadata": {},
   "source": [
    "# 1) GFS <a class=\"anchor\" id=\"gfs\"></a>\n",
    "[go to TOC](#toc)"
   ]
  },
  {
   "cell_type": "markdown",
   "id": "0c754e3a",
   "metadata": {},
   "source": [
    "## 1.1) Create downloader object <a class=\"anchor\" id=\"gfs-init\"></a>\n",
    "[go to TOC](#toc)"
   ]
  },
  {
   "cell_type": "code",
   "execution_count": null,
   "id": "ba079f98",
   "metadata": {},
   "outputs": [],
   "source": [
    "gfs = DownloaderFactory.get_downloader('opendap', 'gfs')"
   ]
  },
  {
   "cell_type": "code",
   "execution_count": null,
   "id": "390fe358",
   "metadata": {},
   "outputs": [],
   "source": [
    "gfs.dataset"
   ]
  },
  {
   "cell_type": "markdown",
   "id": "9fd030d6",
   "metadata": {},
   "source": [
    "## 1.2) Download data as datacube <a class=\"anchor\" id=\"gfs-datacube\"></a>\n",
    "[go to TOC](#toc)"
   ]
  },
  {
   "cell_type": "code",
   "execution_count": null,
   "id": "667de366",
   "metadata": {},
   "outputs": [],
   "source": [
    "# Configuration for downloading as cube\n",
    "time_min = \"2023-07-30 11:00:00\"\n",
    "time_max = \"2023-07-30 16:00:00\"\n",
    "\n",
    "lon_min=-180\n",
    "lon_max=180\n",
    "lat_min=-90\n",
    "lat_max=90\n",
    "\n",
    "height_min = 10\n",
    "height_max = 10\n",
    "\n",
    "parameters = [\"Temperature_surface\", \"Pressure_reduced_to_MSL_msl\", \"Wind_speed_gust_surface\", \n",
    "              \"u-component_of_wind_height_above_ground\", \"v-component_of_wind_height_above_ground\"]\n",
    "\n",
    "sel_dict = {'time': slice(time_min, time_max), 'time1': slice(time_min, time_max)}\n",
    "#sel_dict = {'time': slice(time_min, time_max), 'time1': slice(time_min, time_max), \n",
    "#            'height_above_ground2': slice(height_min, height_max)}"
   ]
  },
  {
   "cell_type": "code",
   "execution_count": null,
   "id": "06e68d51",
   "metadata": {},
   "outputs": [],
   "source": [
    "dataset_gfs = gfs.download(parameters=parameters, sel_dict=sel_dict)\n",
    "dataset_gfs"
   ]
  },
  {
   "cell_type": "code",
   "execution_count": null,
   "id": "6fefa37f",
   "metadata": {},
   "outputs": [],
   "source": [
    "if 'sigma' in dataset_gfs.coords:\n",
    "    dataset_gfs = dataset_gfs.isel(sigma=0).drop('sigma')\n",
    "if 'height_above_ground' in dataset_gfs.coords and 'height_above_ground' not in sel_dict.keys():\n",
    "    dataset_gfs = dataset_gfs.sel(height_above_ground=10).drop('height_above_ground')\n",
    "if 'reftime' in dataset_gfs.coords:\n",
    "    dataset_gfs = dataset_gfs.drop('reftime')\n",
    "if 'LatLon_Projection' in dataset_gfs.coords:   \n",
    "    dataset_gfs = dataset_gfs.drop('LatLon_Projection')\n",
    "dataset_gfs"
   ]
  },
  {
   "cell_type": "code",
   "execution_count": null,
   "id": "1cf515dd",
   "metadata": {},
   "outputs": [],
   "source": [
    "gfs.dataset['u-component_of_wind_height_above_ground'].sel(height_above_ground2=10).isel(time=0).plot()"
   ]
  },
  {
   "cell_type": "markdown",
   "id": "e9c6711d",
   "metadata": {},
   "source": [
    "### Calculate difference "
   ]
  },
  {
   "cell_type": "code",
   "execution_count": null,
   "id": "31748d92",
   "metadata": {},
   "outputs": [],
   "source": [
    "diff = gfs.dataset['u-component_of_wind_height_above_ground'].sel(height_above_ground2=10).isel(time=0) - gfs.dataset['u-component_of_wind_height_above_ground'].sel(height_above_ground2=80).isel(time=0)"
   ]
  },
  {
   "cell_type": "code",
   "execution_count": null,
   "id": "3c720674",
   "metadata": {},
   "outputs": [],
   "source": [
    "diff.plot()"
   ]
  },
  {
   "cell_type": "markdown",
   "id": "bd3ffa27",
   "metadata": {},
   "source": [
    "## 1.3) Download data along trajectory <a class=\"anchor\" id=\"gfs-trajectory\"></a>\n",
    "[go to TOC](#toc)"
   ]
  },
  {
   "cell_type": "code",
   "execution_count": null,
   "id": "ab42b2d1",
   "metadata": {},
   "outputs": [],
   "source": [
    "# Configuration for downloading along trajectory\n",
    "# https://stackoverflow.com/questions/72179103/xarray-select-the-data-at-specific-x-and-y-coordinates\n",
    "lons = [2.81, 3.19, 4.56, 6.67, 6.68]\n",
    "lats = [51.9, 53.0, 54.0, 54.3, 55.5]\n",
    "times = [\"2023-07-30 09:00:00\",\n",
    "         \"2023-07-30 11:00:00\",\n",
    "         \"2023-07-30 13:00:00\",\n",
    "         \"2023-07-30 15:00:00\",\n",
    "         \"2023-07-30 17:00:00\"]\n",
    "\n",
    "parameters = [\"Temperature_surface\", \"Pressure_reduced_to_MSL_msl\", \"Wind_speed_gust_surface\", \n",
    "              \"u-component_of_wind_height_above_ground\", \"v-component_of_wind_height_above_ground\"]\n",
    "                 \n",
    "x = xarray.DataArray(lons, dims=['trajectory'])\n",
    "y = xarray.DataArray(lats, dims=['trajectory'])\n",
    "t = xarray.DataArray(times, dims=['trajectory'])\n",
    "\n",
    "sel_dict = {'time': t, 'time1': t, 'lon': x, 'lat': y}"
   ]
  },
  {
   "cell_type": "code",
   "execution_count": null,
   "id": "ebee93d9",
   "metadata": {},
   "outputs": [],
   "source": [
    "ds_trajectory = gfs.dataset.sel(sel_dict, method=\"backfill\")\n",
    "ds_trajectory"
   ]
  },
  {
   "cell_type": "code",
   "execution_count": null,
   "id": "f9fe688a",
   "metadata": {},
   "outputs": [],
   "source": [
    "ds_trajectory['trajectory']"
   ]
  },
  {
   "cell_type": "code",
   "execution_count": null,
   "id": "7a50a530",
   "metadata": {},
   "outputs": [],
   "source": [
    "ds_trajectory['Temperature_surface'].plot()"
   ]
  },
  {
   "cell_type": "markdown",
   "id": "b00f5c2f",
   "metadata": {},
   "source": [
    "---"
   ]
  },
  {
   "cell_type": "markdown",
   "id": "22a09a43",
   "metadata": {},
   "source": [
    "# 2) CMEMS <a class=\"anchor\" id=\"cmems\"></a>\n",
    "[go to TOC](#toc)"
   ]
  },
  {
   "cell_type": "markdown",
   "id": "9c9ad8c1",
   "metadata": {},
   "source": [
    "## 2.1) Create downloader object <a class=\"anchor\" id=\"cmems-init\"></a>\n",
    "[go to TOC](#toc)"
   ]
  },
  {
   "cell_type": "code",
   "execution_count": null,
   "id": "2f05d3bc",
   "metadata": {},
   "outputs": [],
   "source": [
    "USERNAME = '<insert-username>'\n",
    "PASSWORD = getpass.getpass('Enter your password: ')"
   ]
  },
  {
   "cell_type": "code",
   "execution_count": null,
   "id": "efd7dd64",
   "metadata": {},
   "outputs": [],
   "source": [
    "#product = 'cmems_mod_glo_phy_anfc_merged-uv_PT1H-i'  # currents\n",
    "#product = 'cmems_mod_glo_phy_anfc_0.083deg_PT1H-m'  # phyiscs\n",
    "product = 'cmems_mod_glo_phy_my_0.083_P1D-m' # phyiscs, my\n",
    "#product = 'cmems_mod_glo_wav_anfc_0.083deg_PT3H-i'  # waves\n",
    "#product = 'cmems_obs-wind_glo_phy_nrt_l4_0.125deg_PT1H' # wind\n",
    "product_type = 'my'"
   ]
  },
  {
   "cell_type": "code",
   "execution_count": null,
   "id": "b6e3a62b",
   "metadata": {},
   "outputs": [],
   "source": [
    "downloader_kwargs = {'product': product, 'product_type': product_type}"
   ]
  },
  {
   "cell_type": "code",
   "execution_count": null,
   "id": "a76ff6af",
   "metadata": {},
   "outputs": [],
   "source": [
    "cmems = DownloaderFactory.get_downloader('opendap', 'cmems', USERNAME, PASSWORD, **downloader_kwargs)"
   ]
  },
  {
   "cell_type": "markdown",
   "id": "127077ff",
   "metadata": {},
   "source": [
    "## 2.2) Download data as datacube <a class=\"anchor\" id=\"cmems-datacube\"></a>\n",
    "[go to TOC](#toc)"
   ]
  },
  {
   "cell_type": "code",
   "execution_count": null,
   "id": "0a8518ba",
   "metadata": {},
   "outputs": [],
   "source": [
    "time_min = \"2023-05-24T12:00:00\"\n",
    "time_max = \"2023-05-24T18:00:00\"\n",
    "\n",
    "lon_min=-180\n",
    "lon_max=180\n",
    "lat_min=-90\n",
    "lat_max=90\n",
    "\n",
    "parameters = [\"VHM0\", \"VMDR\", \"VTPK\"]\n",
    "#parameters = [\"uo\",\"vo\",\"vsdx\",\"vsdy\",\"utide\",\"vtide\",\"utotal\",\"vtotal\"]\n",
    "#parameters = [\"so\"]\n",
    "\n",
    "sel_dict = {'time': slice(time_min, time_max)}"
   ]
  },
  {
   "cell_type": "code",
   "execution_count": null,
   "id": "dc15bb08",
   "metadata": {},
   "outputs": [],
   "source": [
    "dataset_cmemcs = cmems.download(parameters=parameters, sel_dict=sel_dict)\n",
    "dataset_cmemcs"
   ]
  },
  {
   "cell_type": "markdown",
   "id": "f778dc8d",
   "metadata": {},
   "source": [
    "### Check ocean currents contributions"
   ]
  },
  {
   "cell_type": "code",
   "execution_count": null,
   "id": "f75a54c3",
   "metadata": {},
   "outputs": [],
   "source": [
    "diff = dataset_cmemcs['uo'].isel(time=0) + dataset_cmemcs['vsdx'].isel(time=0) + dataset_cmemcs['utide'].isel(time=0) - dataset_cmemcs['utotal'].isel(time=0)"
   ]
  },
  {
   "cell_type": "code",
   "execution_count": null,
   "id": "1b95473b",
   "metadata": {},
   "outputs": [],
   "source": [
    "diff.plot()"
   ]
  }
 ],
 "metadata": {
  "kernelspec": {
   "display_name": "Python 3 (ipykernel)",
   "language": "python",
   "name": "python3"
  },
  "language_info": {
   "codemirror_mode": {
    "name": "ipython",
    "version": 3
   },
   "file_extension": ".py",
   "mimetype": "text/x-python",
   "name": "python",
   "nbconvert_exporter": "python",
   "pygments_lexer": "ipython3",
   "version": "3.10.6"
  }
 },
 "nbformat": 4,
 "nbformat_minor": 5
}
