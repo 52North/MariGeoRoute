{
 "cells": [
  {
   "cell_type": "code",
   "execution_count": 1,
   "metadata": {},
   "outputs": [],
   "source": [
    "import os\n",
    "import numpy as np\n",
    "import matplotlib.pyplot as plt\n",
    "import netCDF4 as nc"
   ]
  },
  {
   "cell_type": "markdown",
   "metadata": {},
   "source": [
    "# Prerequisites"
   ]
  },
  {
   "cell_type": "markdown",
   "metadata": {},
   "source": [
    "- The Python library motuclient has to be installed: pip install motuclient\n",
    "- Valid username and password for CMEMS need to be available"
   ]
  },
  {
   "cell_type": "markdown",
   "metadata": {},
   "source": [
    "# Download data via command line directly"
   ]
  },
  {
   "cell_type": "markdown",
   "metadata": {},
   "source": [
    "Download netCFD file (default.nc) using the motu client from command line\n",
    "- create/check config file (motu-client.ini)\n",
    "- set shell environment variables for CMEMS credentials (or define them in the config)\n",
    "- download the file: \n",
    "   - Linux: motuclient --config motu-client.ini --user=\\\\${UN_CMEMS} --pwd=\\\\${PW_CMEMS}\n",
    "   - Windows: motuclient --config motu-client.ini --user=%UN_CMEMS% --pwd=%PW_CMEMS%\n",
    "\n",
    "\n",
    "Reference: https://github.com/clstoulouse/motu-client-python"
   ]
  },
  {
   "cell_type": "markdown",
   "metadata": {},
   "source": [
    "# Download data via command line call from Python"
   ]
  },
  {
   "cell_type": "code",
   "execution_count": 2,
   "metadata": {},
   "outputs": [],
   "source": [
    "# Set credentials from environment variables\n",
    "UN_CMEMS = %env UN_CMEMS\n",
    "PW_CMEMS = %env PW_CMEMS"
   ]
  },
  {
   "cell_type": "code",
   "execution_count": 3,
   "metadata": {},
   "outputs": [],
   "source": [
    "motu_cmd = 'motuclient'\n",
    "user = UN_CMEMS\n",
    "pwd = PW_CMEMS\n",
    "motu = 'https://nrt.cmems-du.eu/motu-web/Motu'\n",
    "service_id = 'GLOBAL_ANALYSIS_FORECAST_WAV_001_027-TDS'\n",
    "product_id = 'global-analysis-forecast-wav-001-027'\n",
    "date_min = '2020-12-01'\n",
    "date_max = '2020-12-01'\n",
    "latitude_min = '27'\n",
    "latitude_max = '61'\n",
    "longitude_min = '-20'\n",
    "longitude_max = '30'\n",
    "depth_min = '0.493'\n",
    "depth_max = '0.4942'\n",
    "variable = 'VHM0'\n",
    "out_dir = '.'\n",
    "out_name = 'default.nc'"
   ]
  },
  {
   "cell_type": "code",
   "execution_count": 4,
   "metadata": {},
   "outputs": [
    {
     "data": {
      "text/plain": [
       "0"
      ]
     },
     "execution_count": 4,
     "metadata": {},
     "output_type": "execute_result"
    }
   ],
   "source": [
    "cmd = '{motu_cmd} \\\n",
    "       --user={user} \\\n",
    "       --pwd={pwd} \\\n",
    "       --motu={motu} \\\n",
    "       --service-id={service_id} \\\n",
    "       --product-id={product_id} \\\n",
    "       --date-min=\"{date_min}\" \\\n",
    "       --date-max=\"{date_max}\" \\\n",
    "       --latitude-min={latitude_min} \\\n",
    "       --latitude-max={latitude_max} \\\n",
    "       --longitude-min={longitude_min} \\\n",
    "       --longitude-max={longitude_max} \\\n",
    "       --depth-min={depth_min} \\\n",
    "       --depth-max={depth_max} \\\n",
    "       --variable={variable} \\\n",
    "       --out-dir=\"{out_dir}\" \\\n",
    "       --out-name=\"{out_name}\"'.format(motu_cmd=motu_cmd,\n",
    "                                    user=user,\n",
    "                                    pwd=pwd,\n",
    "                                    motu=motu,\n",
    "                                    service_id=service_id,\n",
    "                                    product_id=product_id,\n",
    "                                    date_min=date_min,\n",
    "                                    date_max=date_max,\n",
    "                                    latitude_min=latitude_min,\n",
    "                                    latitude_max=latitude_max,\n",
    "                                    longitude_min=longitude_min,\n",
    "                                    longitude_max=longitude_max,\n",
    "                                    depth_min=depth_min,\n",
    "                                    depth_max=depth_max,\n",
    "                                    variable=variable,\n",
    "                                    out_dir=out_dir,\n",
    "                                    out_name=out_name)\n",
    "\n",
    "# Or use config file (motu-client.ini)\n",
    "#cmd = 'motuclient --config motu-client.ini --user=${UN_CMEMS} --pwd=${PW_CMEMS}' # Linux\n",
    "#cmd = 'motuclient --config motu-client.ini --user=%UN_CMEMS% --pwd=%PW_CMEMS%' # Windows\n",
    "\n",
    "os.system(cmd)"
   ]
  },
  {
   "cell_type": "markdown",
   "metadata": {},
   "source": [
    "# Read and plot data"
   ]
  },
  {
   "cell_type": "code",
   "execution_count": 5,
   "metadata": {},
   "outputs": [],
   "source": [
    "file = 'default.nc'"
   ]
  },
  {
   "cell_type": "code",
   "execution_count": 6,
   "metadata": {},
   "outputs": [
    {
     "data": {
      "text/plain": [
       "<class 'netCDF4._netCDF4.Dataset'>\n",
       "root group (NETCDF3_CLASSIC data model, file format NETCDF3):\n",
       "    Conventions: CF-1.6\n",
       "    time_coverage_start: 20210205-03:00:00\n",
       "    time_coverage_end: 20210206-00:00:00\n",
       "    date_created: 20210127-08:28:00\n",
       "    product_type: forecast\n",
       "    product: GLOBAL_ANALYSIS_FORECAST_WAV_001_027\n",
       "    product_ref_date: 20210127-00:00:00\n",
       "    product_range: D+9\n",
       "    product_user_manual: http://marine.copernicus.eu/documents/PUM/CMEMS-GLO-PUM-001-027.pdf\n",
       "    quality_information_document:  http://marine.copernicus.eu/documents/QUID/CMEMS-GLO-QUID-001-027.\n",
       "    dataset: global-analysis-forecast-wav-001-027\n",
       "    title: Mean fields from global wave model MFWAM of Meteo-France with ECMWF forcing\n",
       "    institution: METEO-FRANCE\n",
       "    references: http://marine.copernicus.eu\n",
       "    credit: E.U. Copernicus Marine Service Information (CMEMS)\n",
       "    licence: http://marine.copernicus.eu/services-portfolio/service-commitments-and\n",
       "    contact: servicedesk.cmems@mercator-ocean.eu\n",
       "    producer: CMEMS - Global Monitoring and Forecasting Centre\n",
       "    area: GLO\n",
       "    FROM_ORIGINAL_FILE__geospatial_lon_min: -180.0\n",
       "    FROM_ORIGINAL_FILE__geospatial_lon_max: 179.9167\n",
       "    FROM_ORIGINAL_FILE__geospatial_lon_step: 0.08332825\n",
       "    FROM_ORIGINAL_FILE__geospatial_lon_units: degree\n",
       "    FROM_ORIGINAL_FILE__geospatial_lat_min: -80.0\n",
       "    FROM_ORIGINAL_FILE__geospatial_lat_max: 90.0\n",
       "    FROM_ORIGINAL_FILE__geospatial_lat_step: 0.08333588\n",
       "    FROM_ORIGINAL_FILE__geospatial_lat_units: degree\n",
       "    _CoordSysBuilder: ucar.nc2.dataset.conv.CF1Convention\n",
       "    comment: \n",
       "    source:  \n",
       "    history: Data extracted from dataset http://localhost:8080/thredds/dodsC/global-analysis-forecast-wav-001-027\n",
       "    dimensions(sizes): time(8), latitude(409), longitude(601)\n",
       "    variables(dimensions): float64 latitude(latitude), float64 time(time), int16 VHM0(time, latitude, longitude), float64 longitude(longitude)\n",
       "    groups: "
      ]
     },
     "execution_count": 6,
     "metadata": {},
     "output_type": "execute_result"
    }
   ],
   "source": [
    "ds = nc.Dataset(file)\n",
    "ds"
   ]
  },
  {
   "cell_type": "code",
   "execution_count": 7,
   "metadata": {},
   "outputs": [
    {
     "data": {
      "image/png": "[encoded data removed]",
      "text/plain": [
       "<Figure size 432x288 with 1 Axes>"
      ]
     },
     "metadata": {
      "needs_background": "light"
     },
     "output_type": "display_data"
    }
   ],
   "source": [
    "plt.imshow(np.flipud(ds['VHM0'][0, :, :]))\n",
    "plt.gca().get_xaxis().set_visible(False)\n",
    "plt.gca().get_yaxis().set_visible(False)"
   ]
  },
  {
   "cell_type": "code",
   "execution_count": null,
   "metadata": {},
   "outputs": [],
   "source": []
  }
 ],
 "metadata": {
  "kernelspec": {
   "display_name": "Python 3",
   "language": "python",
   "name": "python3"
  },
  "language_info": {
   "codemirror_mode": {
    "name": "ipython",
    "version": 3
   },
   "file_extension": ".py",
   "mimetype": "text/x-python",
   "name": "python",
   "nbconvert_exporter": "python",
   "pygments_lexer": "ipython3",
   "version": "3.6.9"
  }
 },
 "nbformat": 4,
 "nbformat_minor": 4
}
