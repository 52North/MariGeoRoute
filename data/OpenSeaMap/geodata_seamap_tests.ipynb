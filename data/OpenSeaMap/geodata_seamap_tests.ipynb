{
 "cells": [
  {
   "cell_type": "markdown",
   "id": "93550992",
   "metadata": {},
   "source": [
    "### Connecting to the postgis using sqlalchemy and manipulating the tables as geodataframes"
   ]
  },
  {
   "cell_type": "markdown",
   "id": "df3f43e1",
   "metadata": {},
   "source": [
    "## functions"
   ]
  },
  {
   "cell_type": "code",
   "execution_count": 1,
   "id": "a6372e41",
   "metadata": {},
   "outputs": [],
   "source": [
    "def count_features(gdf, seamark):\n",
    "    '''Count how many  have that specific seamark type inside\n",
    "    \n",
    "    Parameters\n",
    "    ----------\n",
    "    \n",
    "    gdf : GeoDataFrame\n",
    "        GeoDataFrame already filtered with a specific interest tag to be visualized\n",
    "        \n",
    "    seamark : str\n",
    "        seamark filter tag for gdf\n",
    "    '''\n",
    "\n",
    "    counter = 0\n",
    "\n",
    "    #iterate through each row of the df \n",
    "    for index, row in gdf.iterrows():\n",
    "\n",
    "        #iterate through each item and key of the dictionary inside the tags column\n",
    "        for key, value in row['tags'].items():\n",
    "            if key == 'seamark:type' and value == seamark:\n",
    "                counter += 1\n",
    "            else:\n",
    "                pass\n",
    "\n",
    "    print(counter)"
   ]
  },
  {
   "cell_type": "code",
   "execution_count": 2,
   "id": "a8cd5376",
   "metadata": {},
   "outputs": [],
   "source": [
    "def filtered_gdf_seamark(gdf, seamark):\n",
    "    '''Create new gdf with only the rows with the specified seamark\n",
    "    \n",
    "    Parameters\n",
    "    ----------\n",
    "    \n",
    "    gdf : GeoDataFrame\n",
    "        GeoDataFrame already filtered with a specific interest tag to be visualized\n",
    "        \n",
    "    seamark : str\n",
    "        seamark filter tag for gdf\n",
    "    '''\n",
    "\n",
    "    return gdf[gdf['tags'].apply(lambda x: seamark in x.values())]"
   ]
  },
  {
   "cell_type": "code",
   "execution_count": 3,
   "id": "3bfc4cfe",
   "metadata": {},
   "outputs": [],
   "source": [
    "def gdf_seamark_combined(gdf, seamark_list):\n",
    "    '''Create new GeoDataFrame with different seamark tags\n",
    "    \n",
    "    Parameters\n",
    "    ----------\n",
    "    \n",
    "    gdf : GeoDataFrame\n",
    "        GeoDataFrame of all the public.ways\n",
    "        \n",
    "    seamark_list : list\n",
    "        list of all the tags that must be overlayed together\n",
    "    '''\n",
    "\n",
    "    gdf_list = []\n",
    "    for i in range(0, len(seamark_list)):\n",
    "        gdf = table_list_gdf_ways2[table_list_gdf_ways2['tags'].apply(lambda x: seamark_list[i] in x.values())]\n",
    "        gdf_list.append(gdf) \n",
    "\n",
    "\n",
    "    gdf_combined = pd.concat(gdf_list)\n",
    "\n",
    "    return gdf_combined"
   ]
  },
  {
   "cell_type": "code",
   "execution_count": 4,
   "id": "fe23629f",
   "metadata": {},
   "outputs": [],
   "source": [
    "def visualize_map(gdf):\n",
    "    '''Visualize features of the GeoDataFrame on a map\n",
    "    \n",
    "    Parameters\n",
    "    ----------\n",
    "    \n",
    "    gdf : GeoDataFrame\n",
    "        GeoDataFrame already filtered with a specific interest tag to be visualized\n",
    "    '''\n",
    "        \n",
    "    import folium\n",
    "\n",
    "    # Create a map centered on Germany with a zoom level of 6\n",
    "    map = folium.Map(location=[51.1657, 10.4515], zoom_start=6)\n",
    "\n",
    "    # Add OpenSeaMap tiles as a base layer\n",
    "    folium.TileLayer('http://tiles.openseamap.org/seamark/{z}/{x}/{y}.png',\n",
    "                     name='OpenSeaMap',\n",
    "                     attr='Map data © OpenSeaMap contributors').add_to(map)\n",
    "\n",
    "    #Add geodataframe to the map \n",
    "    folium.GeoJson(gdf,popup=folium.GeoJsonPopup(fields=list(gdf.columns[:-1]))).add_to(map)\n",
    "\n",
    "\n",
    "    # Display the map\n",
    "    return map"
   ]
  },
  {
   "cell_type": "code",
   "execution_count": 5,
   "id": "e5edb9d4",
   "metadata": {},
   "outputs": [],
   "source": [
    "def visualize_map_overlay(gdf, seamark1, seamark2):\n",
    "    '''Visualize features of two different GeoDataFrames with different filter seamark tags on a map \n",
    "    with different colors \n",
    "    \n",
    "    Parameters\n",
    "    ----------\n",
    "    \n",
    "    gdf : GeoDataFrame\n",
    "        GeoDataFrame of all the public.ways\n",
    "        \n",
    "    seamark1 : str\n",
    "        seamark filter tag for gdf1\n",
    "        \n",
    "    seamark2 : str\n",
    "        seamark filter tag for gdf2\n",
    "    '''\n",
    "        \n",
    "    import folium\n",
    "    \n",
    "    gdf1 = filtered_gdf_seamark(gdf, seamark1)\n",
    "    gdf2 = filtered_gdf_seamark(gdf, seamark2)\n",
    "\n",
    "    # Create a map centered on Germany with a zoom level of 6\n",
    "    map = folium.Map(location=[51.1657, 10.4515], zoom_start=6)\n",
    "\n",
    "    # Add OpenSeaMap tiles as a base layer\n",
    "    folium.TileLayer('http://tiles.openseamap.org/seamark/{z}/{x}/{y}.png',\n",
    "                     name='OpenSeaMap',\n",
    "                     attr='Map data © OpenSeaMap contributors').add_to(map)\n",
    "\n",
    "    #Add geodataframe to the map \n",
    "    folium.GeoJson(gdf1,popup=folium.GeoJsonPopup(fields=list(gdf1.columns[:-1])), \n",
    "                   style_function=lambda feature: {'fillColor': '#a60717', 'color': '#a60717'}).add_to(map)\n",
    "    \n",
    "    folium.GeoJson(gdf2,popup=folium.GeoJsonPopup(fields=list(gdf2.columns[:-1])),\n",
    "                   style_function=lambda feature: {'fillColor': '#a607a3', 'color': '#a607a3'}).add_to(map)\n",
    "    \n",
    "\n",
    "    # Add the LayerControl to the map\n",
    "    folium.LayerControl().add_to(map)\n",
    "    \n",
    "\n",
    "    # Display the map\n",
    "    return map"
   ]
  },
  {
   "cell_type": "code",
   "execution_count": 6,
   "id": "37fa3537",
   "metadata": {},
   "outputs": [],
   "source": [
    "def visualize_map_overlay_all(gdf, seamark_list):\n",
    "    '''Visualize features of different GeoDataFrames with different filter seamark tags on a map\n",
    "    \n",
    "    Parameters\n",
    "    ----------\n",
    "    \n",
    "    gdf : GeoDataFrame\n",
    "        GeoDataFrame of all the public.ways\n",
    "        \n",
    "    seamark_list : list\n",
    "        list with the names of all the tags to be filtered \n",
    "    '''\n",
    "    \n",
    "    import folium\n",
    "        \n",
    "    gdf_dict = {}\n",
    "    for i in range(0, len(seamark_list)):\n",
    "        gdf_dict[f'gdf{i}'] = filtered_gdf_seamark(gdf, seamark_list[i])\n",
    "        \n",
    "\n",
    "    # Create a map centered on Germany with a zoom level of 6\n",
    "    map = folium.Map(location=[51.1657, 10.4515], zoom_start=6)\n",
    "\n",
    "    # Add OpenSeaMap tiles as a base layer\n",
    "    folium.TileLayer('http://tiles.openseamap.org/seamark/{z}/{x}/{y}.png',\n",
    "                     name='OpenSeaMap',\n",
    "                     attr='Map data © OpenSeaMap contributors').add_to(map)\n",
    "\n",
    "    \n",
    "    for k, v in  gdf_dict.items():\n",
    "        #Add geodataframe to the map \n",
    "        folium.GeoJson(v,popup=folium.GeoJsonPopup(fields=list(v.columns[:-1])), \n",
    "                       style_function=lambda feature: {'fillColor': '#a60717','color': '#a60717'}).add_to(map)\n",
    "    \n",
    "\n",
    "    # Display the map\n",
    "    return map"
   ]
  },
  {
   "cell_type": "code",
   "execution_count": 7,
   "id": "d9255aef",
   "metadata": {},
   "outputs": [],
   "source": [
    "def harbours_bbox(bbox_list):\n",
    "    '''Create new gdf with all the harbours in that region of specified bbox \n",
    "    (considers harbours from ways and nodes query)\n",
    "\n",
    "    Parameters\n",
    "    ----------\n",
    "\n",
    "    bbox_list : list\n",
    "        list with the coordinates of the bbox (Xmin, Ymin, Xmax, Ymax)\n",
    "    '''\n",
    "\n",
    "    from shapely.geometry import box\n",
    "    import geopandas as gpd\n",
    "    \n",
    "    #combine all harbour data from nodes and ways\n",
    "    gdf_harbours = pd.concat([filtered_gdf_seamark(table_list_gdf_ways2, 'harbour'),filtered_gdf_seamark(table_list_gdf_nodes2, 'harbour')])\n",
    "\n",
    "    #remove None type row \n",
    "    gdf_harbours = gdf_harbours[gdf_harbours['geom'] != None]\n",
    "\n",
    "    #convert the geom to crs with meter units, calculate centroid from linestring features and convert again to WGS84\n",
    "    gdf_harbours['geom'] = gdf_harbours.to_crs('EPSG:3035').centroid.to_crs('EPSG:4326')\n",
    "\n",
    "    #remove duplicate records if exist\n",
    "    gdf_harbours.drop_duplicates(subset=['id'], keep='first')\n",
    "    \n",
    "    \n",
    "    if len(bbox_list):\n",
    "\n",
    "        #specify bbox\n",
    "        bbox = box(bbox_list[0], bbox_list[1], bbox_list[2], bbox_list[3])\n",
    "\n",
    "        #select the harbours only in one specific bbox\n",
    "        gdf_harbours_clip = gpd.clip(gdf_harbours, mask=bbox)\n",
    "    \n",
    "    else:\n",
    "        #harbours without bbox\n",
    "        gdf_harbours_clip = gdf_harbours\n",
    "        \n",
    "    return gdf_harbours_clip\n"
   ]
  },
  {
   "cell_type": "code",
   "execution_count": 8,
   "id": "dcb36f6d",
   "metadata": {},
   "outputs": [],
   "source": [
    "def get_harbours_origin_destination(bbox,id_origin,id_destination):\n",
    "    '''Generate a list with coordinate values for the origin / destination harbours \n",
    "    \n",
    "    Parameters\n",
    "    ----------\n",
    "\n",
    "    bbox : list\n",
    "        list with the coordinates of the bbox (Xmin, Ymin, Xmax, Ymax)\n",
    "        \n",
    "    id_origin : int\n",
    "        id value for the origin harbour\n",
    "        \n",
    "    id_destination : int\n",
    "        id value for the destination harbour\n",
    "    '''\n",
    "    \n",
    "    harbours = harbours_bbox(bbox)\n",
    "\n",
    "    #get coordinates (origin, destination) from interested harbours filterind by id \n",
    "    origin_harbour = harbours[harbours['id'] == id_origin]['geom']\n",
    "    destination_harbour = harbours[harbours['id'] == id_destination]['geom']\n",
    "\n",
    "    route_coordinates_longlat = [\n",
    "        (origin_harbour.x.values[0], origin_harbour.y.values[0]),\n",
    "        (destination_harbour.x.values[0], destination_harbour.y.values[0])\n",
    "    ]\n",
    "\n",
    "    route_coordinates_latlong = [\n",
    "        (origin_harbour.y.values[0], origin_harbour.x.values[0]),\n",
    "        (destination_harbour.y.values[0], destination_harbour.x.values[0])\n",
    "    ]\n",
    "\n",
    "    return route_coordinates_longlat, route_coordinates_latlong"
   ]
  },
  {
   "cell_type": "code",
   "execution_count": 9,
   "id": "b141396b",
   "metadata": {},
   "outputs": [],
   "source": [
    "def gdf_seamark_combined(seamark_object, seamark_list):\n",
    "    '''Create new GeoDataFrame with different seamark tags\n",
    "\n",
    "    Parameters\n",
    "    ----------\n",
    "\n",
    "    gdf : GeoDataFrame\n",
    "        GeoDataFrame of all the public.ways (query_ways()) and public.nodes (query_nodes())\n",
    "\n",
    "    seamark_object : str\n",
    "        nodes or ways table name\n",
    "\n",
    "    seamark_list : list\n",
    "        list of all the tags that must be overlayed together\n",
    "    '''\n",
    "    \n",
    "    tags = ['separation_zone', 'separation_line', 'separation_lane', 'restricted_area' ,'separation_roundabout']\n",
    "    \n",
    "    if ('nodes' in seamark_object) and (seamark_list in tags):\n",
    "        gdf = table_list_gdf_nodes2\n",
    "        gdf_list = []\n",
    "        for i in range(0, len(seamark_list)):\n",
    "            gdf = gdf[gdf['tags'].apply(lambda x: seamark_list[i] in x.values())]\n",
    "            gdf_list.append(gdf)\n",
    "        gdf_concat = pd.concat(gdf_list)\n",
    "\n",
    "    elif ('ways' in seamark_object) and (seamark_list in tags):\n",
    "        gdf = table_list_gdf_ways2\n",
    "        gdf_list = []\n",
    "        for i in range(0, len(seamark_list)):\n",
    "            gdf = gdf[gdf['tags'].apply(lambda x: seamark_list[i] in x.values())]\n",
    "            gdf_list.append(gdf)\n",
    "\n",
    "        gdf_concat = pd.concat(gdf_list)\n",
    "\n",
    "    elif ('nodes' in seamark_object) and ('ways' in seamark_object) and (seamark_list in tags):\n",
    "\n",
    "        # consider the scenario for a tag present in nodes and ways at the same time\n",
    "        gdf_nodes = table_list_gdf_nodes2\n",
    "        gdf_ways = table_list_gdf_ways2\n",
    "\n",
    "        #checks if there are repeated values in both gdfs\n",
    "        if gdf_nodes.overlaps(gdf_ways).values.sum() == 0:\n",
    "            gdf_all = pd.concat([gdf_nodes, gdf_ways])\n",
    "        else:\n",
    "            gdf_all =  pd.concat([gdf_nodes, gdf_ways]).drop_duplicates(subset='id', keep='first')\n",
    "\n",
    "\n",
    "        gdf = gdf_all\n",
    "        gdf_list = []\n",
    "        for i in range(0, len(seamark_list)):\n",
    "            gdf = gdf[gdf['tags'].apply(lambda x: seamark_list[i] in x.values())]\n",
    "            gdf_list.append(gdf)\n",
    "\n",
    "        gdf_concat = pd.concat(gdf_list)\n",
    "    else:\n",
    "        print('Check the seamark object and seamark tag list')\n",
    "        \n",
    "    return gdf_concat\n"
   ]
  },
  {
   "cell_type": "markdown",
   "id": "a701e25f",
   "metadata": {},
   "source": [
    "## public.nodes"
   ]
  },
  {
   "cell_type": "code",
   "execution_count": 10,
   "id": "f05b3140",
   "metadata": {},
   "outputs": [],
   "source": [
    "import requests\n",
    "import datetime\n",
    "import os\n",
    "import geopandas as gpd\n",
    "import pandas as pd\n",
    "def get_city_bounding_box(city_name):\n",
    "    \"\"\"\n",
    "    Function to retrieve bounding box coordinates of a city. Input is city name as a string.\n",
    "    Result can be used as input argument for function \"get_box_data\" which gets sensorbox data for all boxes within the given bounding box.\n",
    "    \"\"\"\n",
    "    # Set the base URL for the API\n",
    "    base_url = \"https://nominatim.openstreetmap.org/search\"\n",
    "    # Set the search query\n",
    "    query = city_name\n",
    "    # Set the parameters for the API call\n",
    "    params = {\n",
    "        \"q\": query,\n",
    "        \"format\": \"json\"\n",
    "    }\n",
    "    # Make the API call\n",
    "    response = requests.get(base_url, params=params)\n",
    "    #print(response.json())\n",
    "    # Check the status code of the response\n",
    "    if response.status_code == 200:\n",
    "        # If the request was successful, the data will be in the response's JSON\n",
    "        data = response.json()\n",
    "        # Extract the bounding box from the response\n",
    "        bounding_box = data[0][\"boundingbox\"]\n",
    "        # Shift the order of the coordinates so that it is in the correct order as used in OpenSenseMap API calls\n",
    "        bounding_box_ordered = [bounding_box[2], bounding_box[0], bounding_box[3], bounding_box[1]]\n",
    "        # Join the bounding box coordinates with commas\n",
    "        bounding_box_string = \",\".join(bounding_box_ordered)\n",
    "        # Print the result\n",
    "        print(f\"Bounding box of {city_name} retrieved: {bounding_box_string}\")\n",
    "        # Return the bounding box\n",
    "        return bounding_box_string\n",
    "    else:\n",
    "        # If the request was not successful, print and return the error message\n",
    "        #print(response.text)\n",
    "        return response.text"
   ]
  },
  {
   "cell_type": "code",
   "execution_count": 11,
   "id": "a420ed3a",
   "metadata": {},
   "outputs": [
    {
     "name": "stdout",
     "output_type": "stream",
     "text": [
      "Bounding box of Germany retrieved: 5.8663153,47.2701114,15.0419309,55.0991610\n"
     ]
    },
    {
     "data": {
      "text/plain": [
       "'5.8663153,47.2701114,15.0419309,55.0991610'"
      ]
     },
     "execution_count": 11,
     "metadata": {},
     "output_type": "execute_result"
    }
   ],
   "source": [
    "get_city_bounding_box('Germany')"
   ]
  },
  {
   "cell_type": "code",
   "execution_count": 12,
   "id": "86fbf6d4",
   "metadata": {},
   "outputs": [
    {
     "data": {
      "text/html": [
       "<div>\n",
       "<style scoped>\n",
       "    .dataframe tbody tr th:only-of-type {\n",
       "        vertical-align: middle;\n",
       "    }\n",
       "\n",
       "    .dataframe tbody tr th {\n",
       "        vertical-align: top;\n",
       "    }\n",
       "\n",
       "    .dataframe thead th {\n",
       "        text-align: right;\n",
       "    }\n",
       "</style>\n",
       "<table border=\"1\" class=\"dataframe\">\n",
       "  <thead>\n",
       "    <tr style=\"text-align: right;\">\n",
       "      <th></th>\n",
       "      <th>id</th>\n",
       "      <th>version</th>\n",
       "      <th>user_id</th>\n",
       "      <th>tstamp</th>\n",
       "      <th>changeset_id</th>\n",
       "      <th>tags</th>\n",
       "      <th>geom</th>\n",
       "    </tr>\n",
       "  </thead>\n",
       "  <tbody>\n",
       "    <tr>\n",
       "      <th>0</th>\n",
       "      <td>106904</td>\n",
       "      <td>5</td>\n",
       "      <td>4948143</td>\n",
       "      <td>2020-06-15 19:23:35</td>\n",
       "      <td>86684855</td>\n",
       "      <td>{'waterway': 'lock_gate', 'seamark:type': 'gate'}</td>\n",
       "      <td>POINT (-0.03623 51.51956)</td>\n",
       "    </tr>\n",
       "    <tr>\n",
       "      <th>1</th>\n",
       "      <td>108735</td>\n",
       "      <td>6</td>\n",
       "      <td>4948143</td>\n",
       "      <td>2020-06-15 19:23:35</td>\n",
       "      <td>86684855</td>\n",
       "      <td>{'waterway': 'lock_gate', 'seamark:type': 'gate'}</td>\n",
       "      <td>POINT (-0.03489 51.51475)</td>\n",
       "    </tr>\n",
       "    <tr>\n",
       "      <th>2</th>\n",
       "      <td>110210</td>\n",
       "      <td>7</td>\n",
       "      <td>4948143</td>\n",
       "      <td>2020-06-15 19:23:35</td>\n",
       "      <td>86684855</td>\n",
       "      <td>{'waterway': 'lock_gate', 'seamark:type': 'gate'}</td>\n",
       "      <td>POINT (-0.03777 51.52499)</td>\n",
       "    </tr>\n",
       "    <tr>\n",
       "      <th>3</th>\n",
       "      <td>142325</td>\n",
       "      <td>5</td>\n",
       "      <td>53773</td>\n",
       "      <td>2017-04-26 14:43:20</td>\n",
       "      <td>48165623</td>\n",
       "      <td>{}</td>\n",
       "      <td>POINT (6.16037 49.11819)</td>\n",
       "    </tr>\n",
       "    <tr>\n",
       "      <th>4</th>\n",
       "      <td>148969</td>\n",
       "      <td>14</td>\n",
       "      <td>420980</td>\n",
       "      <td>2018-10-23 11:53:56</td>\n",
       "      <td>63792931</td>\n",
       "      <td>{}</td>\n",
       "      <td>POINT (11.23781 60.42730)</td>\n",
       "    </tr>\n",
       "    <tr>\n",
       "      <th>...</th>\n",
       "      <td>...</td>\n",
       "      <td>...</td>\n",
       "      <td>...</td>\n",
       "      <td>...</td>\n",
       "      <td>...</td>\n",
       "      <td>...</td>\n",
       "      <td>...</td>\n",
       "    </tr>\n",
       "    <tr>\n",
       "      <th>2124700</th>\n",
       "      <td>11040475916</td>\n",
       "      <td>1</td>\n",
       "      <td>124870</td>\n",
       "      <td>2023-07-11 21:52:06</td>\n",
       "      <td>138396972</td>\n",
       "      <td>{}</td>\n",
       "      <td>POINT (20.21348 59.92810)</td>\n",
       "    </tr>\n",
       "    <tr>\n",
       "      <th>2124701</th>\n",
       "      <td>11040475917</td>\n",
       "      <td>1</td>\n",
       "      <td>124870</td>\n",
       "      <td>2023-07-11 21:52:06</td>\n",
       "      <td>138396972</td>\n",
       "      <td>{}</td>\n",
       "      <td>POINT (20.21348 59.92808)</td>\n",
       "    </tr>\n",
       "    <tr>\n",
       "      <th>2124702</th>\n",
       "      <td>11040475918</td>\n",
       "      <td>1</td>\n",
       "      <td>124870</td>\n",
       "      <td>2023-07-11 21:52:06</td>\n",
       "      <td>138396972</td>\n",
       "      <td>{}</td>\n",
       "      <td>POINT (20.21352 59.92806)</td>\n",
       "    </tr>\n",
       "    <tr>\n",
       "      <th>2124703</th>\n",
       "      <td>11040475919</td>\n",
       "      <td>1</td>\n",
       "      <td>124870</td>\n",
       "      <td>2023-07-11 21:52:06</td>\n",
       "      <td>138396972</td>\n",
       "      <td>{}</td>\n",
       "      <td>POINT (20.21354 59.92804)</td>\n",
       "    </tr>\n",
       "    <tr>\n",
       "      <th>2124704</th>\n",
       "      <td>11040475920</td>\n",
       "      <td>1</td>\n",
       "      <td>124870</td>\n",
       "      <td>2023-07-11 21:52:06</td>\n",
       "      <td>138396972</td>\n",
       "      <td>{}</td>\n",
       "      <td>POINT (20.21358 59.92801)</td>\n",
       "    </tr>\n",
       "  </tbody>\n",
       "</table>\n",
       "<p>2124705 rows × 7 columns</p>\n",
       "</div>"
      ],
      "text/plain": [
       "                  id  version  user_id               tstamp  changeset_id   \n",
       "0             106904        5  4948143  2020-06-15 19:23:35      86684855  \\\n",
       "1             108735        6  4948143  2020-06-15 19:23:35      86684855   \n",
       "2             110210        7  4948143  2020-06-15 19:23:35      86684855   \n",
       "3             142325        5    53773  2017-04-26 14:43:20      48165623   \n",
       "4             148969       14   420980  2018-10-23 11:53:56      63792931   \n",
       "...              ...      ...      ...                  ...           ...   \n",
       "2124700  11040475916        1   124870  2023-07-11 21:52:06     138396972   \n",
       "2124701  11040475917        1   124870  2023-07-11 21:52:06     138396972   \n",
       "2124702  11040475918        1   124870  2023-07-11 21:52:06     138396972   \n",
       "2124703  11040475919        1   124870  2023-07-11 21:52:06     138396972   \n",
       "2124704  11040475920        1   124870  2023-07-11 21:52:06     138396972   \n",
       "\n",
       "                                                      tags   \n",
       "0        {'waterway': 'lock_gate', 'seamark:type': 'gate'}  \\\n",
       "1        {'waterway': 'lock_gate', 'seamark:type': 'gate'}   \n",
       "2        {'waterway': 'lock_gate', 'seamark:type': 'gate'}   \n",
       "3                                                       {}   \n",
       "4                                                       {}   \n",
       "...                                                    ...   \n",
       "2124700                                                 {}   \n",
       "2124701                                                 {}   \n",
       "2124702                                                 {}   \n",
       "2124703                                                 {}   \n",
       "2124704                                                 {}   \n",
       "\n",
       "                              geom  \n",
       "0        POINT (-0.03623 51.51956)  \n",
       "1        POINT (-0.03489 51.51475)  \n",
       "2        POINT (-0.03777 51.52499)  \n",
       "3         POINT (6.16037 49.11819)  \n",
       "4        POINT (11.23781 60.42730)  \n",
       "...                            ...  \n",
       "2124700  POINT (20.21348 59.92810)  \n",
       "2124701  POINT (20.21348 59.92808)  \n",
       "2124702  POINT (20.21352 59.92806)  \n",
       "2124703  POINT (20.21354 59.92804)  \n",
       "2124704  POINT (20.21358 59.92801)  \n",
       "\n",
       "[2124705 rows x 7 columns]"
      ]
     },
     "execution_count": 12,
     "metadata": {},
     "output_type": "execute_result"
    }
   ],
   "source": [
    "import os\n",
    "import sqlalchemy as db\n",
    "import pandas as pd\n",
    "import geopandas as gpd\n",
    "from dotenv import load_dotenv\n",
    "\n",
    "# Load the environment variables from the .env file\n",
    "load_dotenv(\"./python_docker/.env\")\n",
    "\n",
    "\n",
    "# Connect to the PostgreSQL database using SQLAlchemy\n",
    "engine = db.create_engine('postgresql://{user}:{pw}@{host}/{db}'\n",
    "                           .format(user=os.environ.get(\"POSTGIS_USER\"),\n",
    "                                   pw=os.environ.get(\"POSTGIS_PASSWORD\"),\n",
    "                                   host=\"172.20.0.3\",\n",
    "                                   db=os.environ.get(\"POSTGIS_DATABASE\"),\n",
    "                                   port='5434'))\n",
    "\n",
    "\n",
    "connection = engine.connect()\n",
    "\n",
    "# Define SQL query to retrieve list of tables\n",
    "#sql_query = \"SELECT table_name FROM information_schema.tables WHERE table_schema = 'public'\"\n",
    "\n",
    "query = \"SELECT * FROM nodes\"\n",
    "#query = f\"SELECT * FROM nodes WHERE ST_Intersects(geom, ST_MakeEnvelope({-14.282227}, {42.358544}, {12.963867}, {59.130863}, 4326))\"\n",
    "#query = f\"SELECT * FROM nodes WHERE ST_Intersects(geom, ST_MakeEnvelope({get_city_bounding_box('Germany')}, 4326))\"\n",
    "\n",
    "# Use pandas to read the SQL query into a dataframe\n",
    "#table_list_df = pd.read_sql(sql_query, engine)\n",
    "\n",
    "# Use geopandas to read the SQL query into a dataframe from postgis\n",
    "table_list_gdf_nodes = gpd.read_postgis(query, engine,geom_col='geom')\n",
    "\n",
    "# read timestamp type data as string\n",
    "table_list_gdf_nodes['tstamp']=table_list_gdf_nodes['tstamp'].dt.strftime('%Y-%m-%d %H:%M:%S')\n",
    "\n",
    "table_list_gdf_nodes"
   ]
  },
  {
   "cell_type": "code",
   "execution_count": 13,
   "id": "1fcb00aa",
   "metadata": {},
   "outputs": [
    {
     "data": {
      "text/html": [
       "<div>\n",
       "<style scoped>\n",
       "    .dataframe tbody tr th:only-of-type {\n",
       "        vertical-align: middle;\n",
       "    }\n",
       "\n",
       "    .dataframe tbody tr th {\n",
       "        vertical-align: top;\n",
       "    }\n",
       "\n",
       "    .dataframe thead th {\n",
       "        text-align: right;\n",
       "    }\n",
       "</style>\n",
       "<table border=\"1\" class=\"dataframe\">\n",
       "  <thead>\n",
       "    <tr style=\"text-align: right;\">\n",
       "      <th></th>\n",
       "      <th>FID</th>\n",
       "      <th>geometry</th>\n",
       "    </tr>\n",
       "  </thead>\n",
       "  <tbody>\n",
       "    <tr>\n",
       "      <th>0</th>\n",
       "      <td>0</td>\n",
       "      <td>POLYGON ((-4.94237 55.72545, -4.94192 55.72559...</td>\n",
       "    </tr>\n",
       "    <tr>\n",
       "      <th>1</th>\n",
       "      <td>1</td>\n",
       "      <td>POLYGON ((-4.94051 55.72458, -4.94049 55.72407...</td>\n",
       "    </tr>\n",
       "    <tr>\n",
       "      <th>2</th>\n",
       "      <td>2</td>\n",
       "      <td>POLYGON ((-4.73290 55.52496, -4.73380 55.52495...</td>\n",
       "    </tr>\n",
       "    <tr>\n",
       "      <th>3</th>\n",
       "      <td>3</td>\n",
       "      <td>POLYGON ((-4.95385 55.16290, -4.95388 55.16341...</td>\n",
       "    </tr>\n",
       "    <tr>\n",
       "      <th>4</th>\n",
       "      <td>4</td>\n",
       "      <td>POLYGON ((-1.75372 50.72274, -1.75350 50.72284...</td>\n",
       "    </tr>\n",
       "    <tr>\n",
       "      <th>...</th>\n",
       "      <td>...</td>\n",
       "      <td>...</td>\n",
       "    </tr>\n",
       "    <tr>\n",
       "      <th>740750</th>\n",
       "      <td>740750</td>\n",
       "      <td>POLYGON ((21.01898 60.54063, 21.01896 60.54063...</td>\n",
       "    </tr>\n",
       "    <tr>\n",
       "      <th>740751</th>\n",
       "      <td>740751</td>\n",
       "      <td>POLYGON ((20.25760 59.94406, 20.25756 59.94405...</td>\n",
       "    </tr>\n",
       "    <tr>\n",
       "      <th>740752</th>\n",
       "      <td>740752</td>\n",
       "      <td>POLYGON ((20.22910 59.93757, 20.22908 59.93758...</td>\n",
       "    </tr>\n",
       "    <tr>\n",
       "      <th>740753</th>\n",
       "      <td>740753</td>\n",
       "      <td>POLYGON ((20.22908 59.93762, 20.22907 59.93762...</td>\n",
       "    </tr>\n",
       "    <tr>\n",
       "      <th>740754</th>\n",
       "      <td>740754</td>\n",
       "      <td>POLYGON ((20.21658 59.93621, 20.21658 59.93621...</td>\n",
       "    </tr>\n",
       "  </tbody>\n",
       "</table>\n",
       "<p>740755 rows × 2 columns</p>\n",
       "</div>"
      ],
      "text/plain": [
       "           FID                                           geometry\n",
       "0            0  POLYGON ((-4.94237 55.72545, -4.94192 55.72559...\n",
       "1            1  POLYGON ((-4.94051 55.72458, -4.94049 55.72407...\n",
       "2            2  POLYGON ((-4.73290 55.52496, -4.73380 55.52495...\n",
       "3            3  POLYGON ((-4.95385 55.16290, -4.95388 55.16341...\n",
       "4            4  POLYGON ((-1.75372 50.72274, -1.75350 50.72284...\n",
       "...        ...                                                ...\n",
       "740750  740750  POLYGON ((21.01898 60.54063, 21.01896 60.54063...\n",
       "740751  740751  POLYGON ((20.25760 59.94406, 20.25756 59.94405...\n",
       "740752  740752  POLYGON ((20.22910 59.93757, 20.22908 59.93758...\n",
       "740753  740753  POLYGON ((20.22908 59.93762, 20.22907 59.93762...\n",
       "740754  740754  POLYGON ((20.21658 59.93621, 20.21658 59.93621...\n",
       "\n",
       "[740755 rows x 2 columns]"
      ]
     },
     "execution_count": 13,
     "metadata": {},
     "output_type": "execute_result"
    }
   ],
   "source": [
    "import os\n",
    "import sqlalchemy as db\n",
    "import pandas as pd\n",
    "import geopandas as gpd\n",
    "from dotenv import load_dotenv\n",
    "\n",
    "# Load the environment variables from the .env file\n",
    "load_dotenv(\"./python_docker/.env\")\n",
    "\n",
    "\n",
    "# Connect to the PostgreSQL database using SQLAlchemy\n",
    "engine = db.create_engine('postgresql://{user}:{pw}@{host}/{db}'\n",
    "                           .format(user=os.environ.get(\"POSTGIS_USER\"),\n",
    "                                   pw=os.environ.get(\"POSTGIS_PASSWORD\"),\n",
    "                                   host=\"172.20.0.3\",\n",
    "                                   db=os.environ.get(\"POSTGIS_DATABASE\"),\n",
    "                                   port='5434'))\n",
    "\n",
    "\n",
    "connection = engine.connect()\n",
    "\n",
    "# Define SQL query to retrieve list of tables\n",
    "#sql_query = \"SELECT table_name FROM information_schema.tables WHERE table_schema = 'public'\"\n",
    "\n",
    "# query = \"SELECT * FROM nodes LIMIT 500\"\n",
    "#query = f\"SELECT * FROM nodes WHERE ST_Intersects(geom, ST_MakeEnvelope({-14.282227}, {42.358544}, {12.963867}, {59.130863}, 4326))\"\n",
    "#query = f\"SELECT * FROM land_polygons WHERE ST_Intersects(geometry, ST_MakeEnvelope({get_city_bounding_box('Germany')}, 4326))\"\n",
    "query = f\"SELECT * FROM land_polygons\"\n",
    "# Use pandas to read the SQL query into a dataframe\n",
    "#table_list_df = pd.read_sql(sql_query, engine)\n",
    "\n",
    "# Use geopandas to read the SQL query into a dataframe from postgis\n",
    "table_list_gdf_land = gpd.read_postgis(query, engine,geom_col='geometry')\n",
    "table_list_gdf_land.set_crs=\"EPSG:4326\"\n",
    "# read timestamp type data as string\n",
    "#table_list_gdf_nodes['tstamp']=table_list_gdf_nodes['tstamp'].dt.strftime('%Y-%m-%d %H:%M:%S')\n",
    "\n",
    "table_list_gdf_land"
   ]
  },
  {
   "cell_type": "code",
   "execution_count": 14,
   "id": "580f6a14",
   "metadata": {},
   "outputs": [
    {
     "data": {
      "text/html": [
       "<div style=\"width:100%;\"><div style=\"position:relative;width:100%;height:0;padding-bottom:60%;\"><span style=\"color:#565656\">Make this Notebook Trusted to load map: File -> Trust Notebook</span><iframe srcdoc=\"&lt;!DOCTYPE html&gt;\n",
       "&lt;html&gt;\n",
       "&lt;head&gt;\n",
       "    \n",
       "    &lt;meta http-equiv=&quot;content-type&quot; content=&quot;text/html; charset=UTF-8&quot; /&gt;\n",
       "    \n",
       "        &lt;script&gt;\n",
       "            L_NO_TOUCH = false;\n",
       "            L_DISABLE_3D = false;\n",
       "        &lt;/script&gt;\n",
       "    \n",
       "    &lt;style&gt;html, body {width: 100%;height: 100%;margin: 0;padding: 0;}&lt;/style&gt;\n",
       "    &lt;style&gt;#map {position:absolute;top:0;bottom:0;right:0;left:0;}&lt;/style&gt;\n",
       "    &lt;script src=&quot;https://cdn.jsdelivr.net/npm/leaflet@1.9.3/dist/leaflet.js&quot;&gt;&lt;/script&gt;\n",
       "    &lt;script src=&quot;https://code.jquery.com/jquery-1.12.4.min.js&quot;&gt;&lt;/script&gt;\n",
       "    &lt;script src=&quot;https://cdn.jsdelivr.net/npm/bootstrap@5.2.2/dist/js/bootstrap.bundle.min.js&quot;&gt;&lt;/script&gt;\n",
       "    &lt;script src=&quot;https://cdnjs.cloudflare.com/ajax/libs/Leaflet.awesome-markers/2.0.2/leaflet.awesome-markers.js&quot;&gt;&lt;/script&gt;\n",
       "    &lt;link rel=&quot;stylesheet&quot; href=&quot;https://cdn.jsdelivr.net/npm/leaflet@1.9.3/dist/leaflet.css&quot;/&gt;\n",
       "    &lt;link rel=&quot;stylesheet&quot; href=&quot;https://cdn.jsdelivr.net/npm/bootstrap@5.2.2/dist/css/bootstrap.min.css&quot;/&gt;\n",
       "    &lt;link rel=&quot;stylesheet&quot; href=&quot;https://netdna.bootstrapcdn.com/bootstrap/3.0.0/css/bootstrap.min.css&quot;/&gt;\n",
       "    &lt;link rel=&quot;stylesheet&quot; href=&quot;https://cdn.jsdelivr.net/npm/@fortawesome/fontawesome-free@6.2.0/css/all.min.css&quot;/&gt;\n",
       "    &lt;link rel=&quot;stylesheet&quot; href=&quot;https://cdnjs.cloudflare.com/ajax/libs/Leaflet.awesome-markers/2.0.2/leaflet.awesome-markers.css&quot;/&gt;\n",
       "    &lt;link rel=&quot;stylesheet&quot; href=&quot;https://cdn.jsdelivr.net/gh/python-visualization/folium/folium/templates/leaflet.awesome.rotate.min.css&quot;/&gt;\n",
       "    \n",
       "            &lt;meta name=&quot;viewport&quot; content=&quot;width=device-width,\n",
       "                initial-scale=1.0, maximum-scale=1.0, user-scalable=no&quot; /&gt;\n",
       "            &lt;style&gt;\n",
       "                #map_7d42bc2199e4964d5a6f13e31f6dc6aa {\n",
       "                    position: relative;\n",
       "                    width: 100.0%;\n",
       "                    height: 100.0%;\n",
       "                    left: 0.0%;\n",
       "                    top: 0.0%;\n",
       "                }\n",
       "                .leaflet-container { font-size: 1rem; }\n",
       "            &lt;/style&gt;\n",
       "        \n",
       "    \n",
       "                    &lt;style&gt;\n",
       "                        .foliumtooltip {\n",
       "                            \n",
       "                        }\n",
       "                       .foliumtooltip table{\n",
       "                            margin: auto;\n",
       "                        }\n",
       "                        .foliumtooltip tr{\n",
       "                            text-align: left;\n",
       "                        }\n",
       "                        .foliumtooltip th{\n",
       "                            padding: 2px; padding-right: 8px;\n",
       "                        }\n",
       "                    &lt;/style&gt;\n",
       "            \n",
       "&lt;/head&gt;\n",
       "&lt;body&gt;\n",
       "    \n",
       "    \n",
       "            &lt;div class=&quot;folium-map&quot; id=&quot;map_7d42bc2199e4964d5a6f13e31f6dc6aa&quot; &gt;&lt;/div&gt;\n",
       "        \n",
       "&lt;/body&gt;\n",
       "&lt;script&gt;\n",
       "    \n",
       "    \n",
       "            var map_7d42bc2199e4964d5a6f13e31f6dc6aa = L.map(\n",
       "                &quot;map_7d42bc2199e4964d5a6f13e31f6dc6aa&quot;,\n",
       "                {\n",
       "                    center: [52.43672715, 3.9405275],\n",
       "                    crs: L.CRS.EPSG3857,\n",
       "                    zoom: 10,\n",
       "                    zoomControl: true,\n",
       "                    preferCanvas: false,\n",
       "                }\n",
       "            );\n",
       "            L.control.scale().addTo(map_7d42bc2199e4964d5a6f13e31f6dc6aa);\n",
       "\n",
       "            \n",
       "\n",
       "        \n",
       "    \n",
       "            var tile_layer_759159f1473b13c544b84a705cfb6fa7 = L.tileLayer(\n",
       "                &quot;https://{s}.tile.openstreetmap.org/{z}/{x}/{y}.png&quot;,\n",
       "                {&quot;attribution&quot;: &quot;Data by \\u0026copy; \\u003ca target=\\&quot;_blank\\&quot; href=\\&quot;http://openstreetmap.org\\&quot;\\u003eOpenStreetMap\\u003c/a\\u003e, under \\u003ca target=\\&quot;_blank\\&quot; href=\\&quot;http://www.openstreetmap.org/copyright\\&quot;\\u003eODbL\\u003c/a\\u003e.&quot;, &quot;detectRetina&quot;: false, &quot;maxNativeZoom&quot;: 18, &quot;maxZoom&quot;: 18, &quot;minZoom&quot;: 0, &quot;noWrap&quot;: false, &quot;opacity&quot;: 1, &quot;subdomains&quot;: &quot;abc&quot;, &quot;tms&quot;: false}\n",
       "            ).addTo(map_7d42bc2199e4964d5a6f13e31f6dc6aa);\n",
       "        \n",
       "    \n",
       "            map_7d42bc2199e4964d5a6f13e31f6dc6aa.fitBounds(\n",
       "                [[49.1478693, -5.0630246], [55.725585, 12.9440796]],\n",
       "                {}\n",
       "            );\n",
       "        \n",
       "    \n",
       "        function geo_json_73b3325e21895e5d488855c9449b5c82_styler(feature) {\n",
       "            switch(feature.id) {\n",
       "                default:\n",
       "                    return {&quot;fillOpacity&quot;: 0.5, &quot;weight&quot;: 2};\n",
       "            }\n",
       "        }\n",
       "        function geo_json_73b3325e21895e5d488855c9449b5c82_highlighter(feature) {\n",
       "            switch(feature.id) {\n",
       "                default:\n",
       "                    return {&quot;fillOpacity&quot;: 0.75};\n",
       "            }\n",
       "        }\n",
       "        function geo_json_73b3325e21895e5d488855c9449b5c82_pointToLayer(feature, latlng) {\n",
       "            var opts = {&quot;bubblingMouseEvents&quot;: true, &quot;color&quot;: &quot;#3388ff&quot;, &quot;dashArray&quot;: null, &quot;dashOffset&quot;: null, &quot;fill&quot;: true, &quot;fillColor&quot;: &quot;#3388ff&quot;, &quot;fillOpacity&quot;: 0.2, &quot;fillRule&quot;: &quot;evenodd&quot;, &quot;lineCap&quot;: &quot;round&quot;, &quot;lineJoin&quot;: &quot;round&quot;, &quot;opacity&quot;: 1.0, &quot;radius&quot;: 2, &quot;stroke&quot;: true, &quot;weight&quot;: 3};\n",
       "            \n",
       "            let style = geo_json_73b3325e21895e5d488855c9449b5c82_styler(feature)\n",
       "            Object.assign(opts, style)\n",
       "            \n",
       "            return new L.CircleMarker(latlng, opts)\n",
       "        }\n",
       "\n",
       "        function geo_json_73b3325e21895e5d488855c9449b5c82_onEachFeature(feature, layer) {\n",
       "            layer.on({\n",
       "                mouseout: function(e) {\n",
       "                    if(typeof e.target.setStyle === &quot;function&quot;){\n",
       "                        geo_json_73b3325e21895e5d488855c9449b5c82.resetStyle(e.target);\n",
       "                    }\n",
       "                },\n",
       "                mouseover: function(e) {\n",
       "                    if(typeof e.target.setStyle === &quot;function&quot;){\n",
       "                        const highlightStyle = geo_json_73b3325e21895e5d488855c9449b5c82_highlighter(e.target.feature)\n",
       "                        e.target.setStyle(highlightStyle);\n",
       "                    }\n",
       "                },\n",
       "            });\n",
       "        };\n",
       "        var geo_json_73b3325e21895e5d488855c9449b5c82 = L.geoJson(null, {\n",
       "                onEachFeature: geo_json_73b3325e21895e5d488855c9449b5c82_onEachFeature,\n",
       "            \n",
       "                style: geo_json_73b3325e21895e5d488855c9449b5c82_styler,\n",
       "                pointToLayer: geo_json_73b3325e21895e5d488855c9449b5c82_pointToLayer\n",
       "        });\n",
       "\n",
       "        function geo_json_73b3325e21895e5d488855c9449b5c82_add (data) {\n",
       "            geo_json_73b3325e21895e5d488855c9449b5c82\n",
       "                .addData(data)\n",
       "                .addTo(map_7d42bc2199e4964d5a6f13e31f6dc6aa);\n",
       "        }\n",
       "            geo_json_73b3325e21895e5d488855c9449b5c82_add({&quot;bbox&quot;: [-5.0630246, 49.1478693, 12.9440796, 55.725585], &quot;features&quot;: [{&quot;bbox&quot;: [-4.9425472, 55.7250997, -4.941922, 55.725585], &quot;geometry&quot;: {&quot;coordinates&quot;: [[[-4.94237, 55.725449], [-4.941922, 55.725585], [-4.9420024, 55.7252119], [-4.9422001, 55.7250997], [-4.9423197, 55.7251789], [-4.9425472, 55.7253089], [-4.94237, 55.725449]]], &quot;type&quot;: &quot;Polygon&quot;}, &quot;id&quot;: &quot;0&quot;, &quot;properties&quot;: {&quot;FID&quot;: 0}, &quot;type&quot;: &quot;Feature&quot;}, {&quot;bbox&quot;: [-4.9414587, 55.724071, -4.940096, 55.725358], &quot;geometry&quot;: {&quot;coordinates&quot;: [[[-4.940511, 55.724583], [-4.940486, 55.724071], [-4.9410543, 55.7242284], [-4.9411862, 55.7243997], [-4.9414587, 55.7245139], [-4.941424, 55.724696], [-4.940984, 55.724959], [-4.940543, 55.725222], [-4.940096, 55.725358], [-4.9402625, 55.7249286], [-4.940511, 55.724583]]], &quot;type&quot;: &quot;Polygon&quot;}, &quot;id&quot;: &quot;1&quot;, &quot;properties&quot;: {&quot;FID&quot;: 1}, &quot;type&quot;: &quot;Feature&quot;}, {&quot;bbox&quot;: [-4.738457, 55.524948, -4.731813, 55.528628], &quot;geometry&quot;: {&quot;coordinates&quot;: [[[-4.732901, 55.524961], [-4.733804, 55.524948], [-4.735169, 55.525185], [-4.736083, 55.525428], [-4.736315, 55.525553], [-4.736788, 55.526059], [-4.737262, 55.526564], [-4.737493, 55.526689], [-4.737725, 55.526814], [-4.737736, 55.52707], [-4.737747, 55.527326], [-4.737995, 55.527835], [-4.738446, 55.527828], [-4.738457, 55.528084], [-4.738012, 55.528218], [-4.736669, 55.528493], [-4.736224, 55.528628], [-4.736201, 55.528116], [-4.734842, 55.528007], [-4.733933, 55.527892], [-4.733697, 55.527639], [-4.733235, 55.52739], [-4.732761, 55.526884], [-4.732298, 55.526635], [-4.731825, 55.526129], [-4.731813, 55.525873], [-4.732242, 55.525355], [-4.732461, 55.525223], [-4.732682, 55.525092], [-4.732901, 55.524961]]], &quot;type&quot;: &quot;Polygon&quot;}, &quot;id&quot;: &quot;2&quot;, &quot;properties&quot;: {&quot;FID&quot;: 2}, &quot;type&quot;: &quot;Feature&quot;}, {&quot;bbox&quot;: [-4.954782, 55.162896, -4.951417, 55.164212], &quot;geometry&quot;: {&quot;coordinates&quot;: [[[-4.95385, 55.162896], [-4.953875, 55.163408], [-4.95477, 55.163394], [-4.954782, 55.16365], [-4.954341, 55.163785], [-4.953894, 55.163792], [-4.953447, 55.163799], [-4.952565, 55.164069], [-4.951677, 55.164212], [-4.951442, 55.163959], [-4.951417, 55.163448], [-4.951634, 55.163315], [-4.952081, 55.163308], [-4.952528, 55.163301], [-4.95341, 55.163031], [-4.95385, 55.162896]]], &quot;type&quot;: &quot;Polygon&quot;}, &quot;id&quot;: &quot;3&quot;, &quot;properties&quot;: {&quot;FID&quot;: 3}, &quot;type&quot;: &quot;Feature&quot;}, {&quot;bbox&quot;: [-1.7537454, 50.7226936, -1.7534051, 50.723163], &quot;geometry&quot;: {&quot;coordinates&quot;: [[[-1.7537208, 50.7227359], [-1.7534958, 50.7228391], [-1.7535015, 50.7228747], [-1.7535755, 50.7229721], [-1.7536153, 50.7231218], [-1.753595, 50.723163], [-1.7535519, 50.7231535], [-1.7535287, 50.7230491], [-1.7534666, 50.7229253], [-1.7534379, 50.7229046], [-1.7534051, 50.722822], [-1.7537007, 50.7226936], [-1.7537454, 50.722704], [-1.7537208, 50.7227359]]], &quot;type&quot;: &quot;Polygon&quot;}, &quot;id&quot;: &quot;4&quot;, &quot;properties&quot;: {&quot;FID&quot;: 4}, &quot;type&quot;: &quot;Feature&quot;}, {&quot;bbox&quot;: [-1.9898758, 50.6817161, -1.9808257, 50.6847884], &quot;geometry&quot;: {&quot;coordinates&quot;: [[[-1.9880991, 50.6819996], [-1.988515, 50.6818997], [-1.988731, 50.6819316], [-1.9891103, 50.682063], [-1.9896817, 50.6822468], [-1.9898172, 50.6825385], [-1.9898758, 50.6829578], [-1.9897719, 50.6836163], [-1.9893854, 50.684027], [-1.9888424, 50.6841167], [-1.9884799, 50.6841766], [-1.9879383, 50.6842906], [-1.9876161, 50.684272], [-1.9875577, 50.6842861], [-1.9872766, 50.6843537], [-1.986735, 50.6844083], [-1.9861934, 50.6844272], [-1.985846, 50.6843698], [-1.9856469, 50.6843575], [-1.9853726, 50.6843405], [-1.9845503, 50.6841744], [-1.9842714, 50.6842369], [-1.9840716, 50.6843023], [-1.9839034, 50.6843773], [-1.9837095, 50.684406], [-1.9835486, 50.6843831], [-1.9832978, 50.6843261], [-1.9830564, 50.6843176], [-1.982869, 50.6842975], [-1.9827144, 50.6842616], [-1.9825615, 50.6842922], [-1.98241, 50.684304], [-1.9822638, 50.6842981], [-1.9820703, 50.6843094], [-1.9817957, 50.6843984], [-1.9816576, 50.6844867], [-1.9815518, 50.6845714], [-1.981447, 50.6846465], [-1.981333, 50.6846958], [-1.981177, 50.6847357], [-1.9810246, 50.6847884], [-1.9811064, 50.6846924], [-1.9811842, 50.6845173], [-1.9811738, 50.6843493], [-1.9810857, 50.6841198], [-1.9808925, 50.6835797], [-1.9808257, 50.6832709], [-1.980831, 50.6829545], [-1.9810377, 50.6827746], [-1.981372, 50.6825625], [-1.9816289, 50.6824522], [-1.9818339, 50.6823408], [-1.9822804, 50.6821919], [-1.9824801, 50.6820299], [-1.9826938, 50.6818997], [-1.9828316, 50.6819499], [-1.9829408, 50.6819014], [-1.9828153, 50.6817161], [-1.9833057, 50.6819043], [-1.9837099, 50.6819628], [-1.9842526, 50.6819994], [-1.9849939, 50.6819974], [-1.9854547, 50.6820004], [-1.9859037, 50.682014], [-1.9866173, 50.6819193], [-1.9872282, 50.6819233], [-1.9875381, 50.6820168], [-1.9880991, 50.6819996]]], &quot;type&quot;: &quot;Polygon&quot;}, &quot;id&quot;: &quot;5&quot;, &quot;properties&quot;: {&quot;FID&quot;: 5}, &quot;type&quot;: &quot;Feature&quot;}, {&quot;bbox&quot;: [-1.99597, 50.6776454, -1.9899204, 50.6809783], &quot;geometry&quot;: {&quot;coordinates&quot;: [[[-1.9936261, 50.6777072], [-1.9940263, 50.677781], [-1.9941721, 50.6778675], [-1.9944061, 50.677957], [-1.9949402, 50.6783603], [-1.99528, 50.6788951], [-1.9955848, 50.6795625], [-1.9956994, 50.6798193], [-1.9957202, 50.6799942], [-1.995841, 50.6802369], [-1.99597, 50.6804725], [-1.9958714, 50.6806987], [-1.9955541, 50.6809783], [-1.9950917, 50.6809277], [-1.9950598, 50.6806756], [-1.9946894, 50.6806438], [-1.994157, 50.6806467], [-1.993339, 50.6806261], [-1.993017, 50.6805827], [-1.9927052, 50.6806711], [-1.992687, 50.6806773], [-1.9923692, 50.6807855], [-1.9921711, 50.6807514], [-1.9916651, 50.6808921], [-1.9915825, 50.6808729], [-1.99136, 50.6808214], [-1.9911478, 50.6807276], [-1.990856, 50.680693], [-1.9902873, 50.6803379], [-1.9899419, 50.6797165], [-1.9899204, 50.679089], [-1.9899762, 50.6785431], [-1.9903174, 50.6782423], [-1.990768, 50.6780655], [-1.9909182, 50.6778877], [-1.9911435, 50.677814], [-1.9917572, 50.6777392], [-1.9925618, 50.6776454], [-1.9929266, 50.677678], [-1.9936261, 50.6777072]]], &quot;type&quot;: &quot;Polygon&quot;}, &quot;id&quot;: &quot;6&quot;, &quot;properties&quot;: {&quot;FID&quot;: 6}, &quot;type&quot;: &quot;Feature&quot;}, {&quot;bbox&quot;: [-1.1378299, 50.8302592, -1.1359356, 50.832384], &quot;geometry&quot;: {&quot;coordinates&quot;: [[[-1.1367675, 50.8317967], [-1.1366883, 50.8318677], [-1.1365948, 50.8319295], [-1.1365322, 50.8319646], [-1.1364538, 50.8320085], [-1.1363536, 50.8320779], [-1.1362802, 50.8321183], [-1.1362165, 50.8321608], [-1.1361749, 50.8322019], [-1.1361462, 50.8322478], [-1.1361549, 50.8322851], [-1.1361746, 50.8323288], [-1.1361729, 50.8323555], [-1.1361403, 50.8323775], [-1.1360961, 50.832384], [-1.1360313, 50.8323707], [-1.1359823, 50.8323413], [-1.1359689, 50.8323145], [-1.1359647, 50.8322788], [-1.1359776, 50.8322232], [-1.135987, 50.8321509], [-1.135993, 50.8320978], [-1.1359751, 50.8320569], [-1.1359356, 50.832045], [-1.1359522, 50.8320109], [-1.1360235, 50.8319984], [-1.1360687, 50.8319794], [-1.1361374, 50.8319327], [-1.1361925, 50.831886], [-1.1362538, 50.8318178], [-1.1363078, 50.831743], [-1.1363619, 50.8316458], [-1.1363942, 50.8315927], [-1.1364163, 50.8315324], [-1.1364316, 50.8314592], [-1.1364324, 50.8313424], [-1.1364263, 50.8312728], [-1.1364095, 50.8312218], [-1.1363648, 50.8311712], [-1.1362725, 50.8311034], [-1.1362393, 50.831018], [-1.1362558, 50.8309497], [-1.1364918, 50.8306759], [-1.1365844, 50.830603], [-1.1367237, 50.8305886], [-1.1368079, 50.8305356], [-1.1370964, 50.8303627], [-1.1372371, 50.8303571], [-1.1374015, 50.8302825], [-1.1374704, 50.8302627], [-1.137518, 50.8302592], [-1.1375824, 50.8302602], [-1.1376142, 50.8302804], [-1.1376622, 50.8303109], [-1.1377862, 50.8303364], [-1.1378299, 50.830385], [-1.137829, 50.8305657], [-1.1378049, 50.83067], [-1.1377426, 50.8307435], [-1.1376928, 50.8308193], [-1.1375159, 50.8309445], [-1.13747, 50.8310091], [-1.1374286, 50.8310587], [-1.1373673, 50.8311201], [-1.1373059, 50.8311559], [-1.1372473, 50.8312069], [-1.1372186, 50.8312465], [-1.1371905, 50.831389], [-1.1371624, 50.831437], [-1.1371148, 50.8314867], [-1.1369794, 50.8315604], [-1.1369292, 50.8316013], [-1.1368859, 50.831655], [-1.1367675, 50.8317967]]], &quot;type&quot;: &quot;Polygon&quot;}, &quot;id&quot;: &quot;7&quot;, &quot;properties&quot;: {&quot;FID&quot;: 7}, &quot;type&quot;: &quot;Feature&quot;}, {&quot;bbox&quot;: [-1.1165763, 50.8251321, -1.1118759, 50.827923], &quot;geometry&quot;: {&quot;coordinates&quot;: [[[-1.114316, 50.8266009], [-1.1136382, 50.8262612], [-1.1131482, 50.8260106], [-1.1123443, 50.8262171], [-1.112273, 50.8261582], [-1.1122145, 50.8261099], [-1.1121516, 50.8260579], [-1.1120173, 50.8257702], [-1.1119909, 50.8257139], [-1.1119321, 50.8255879], [-1.1118759, 50.8254675], [-1.1120158, 50.8251543], [-1.1122734, 50.8251578], [-1.1124234, 50.8251346], [-1.1126145, 50.8251321], [-1.1127974, 50.8251398], [-1.1129881, 50.8251674], [-1.11309, 50.8252323], [-1.1131796, 50.8253195], [-1.1133259, 50.8255083], [-1.1134316, 50.8256354], [-1.1135333, 50.8257535], [-1.1135658, 50.8258075], [-1.1136796, 50.825959], [-1.1137717, 50.8260263], [-1.1138809, 50.8260933], [-1.1142422, 50.826263], [-1.1143378, 50.8263194], [-1.1144254, 50.8263809], [-1.1145353, 50.8264731], [-1.1147233, 50.8266534], [-1.1148891, 50.8268166], [-1.1149817, 50.826908], [-1.1150454, 50.8269822], [-1.1153042, 50.8273517], [-1.1153584, 50.8274024], [-1.1154455, 50.8274436], [-1.1155449, 50.8274643], [-1.1157273, 50.8274799], [-1.1161445, 50.8275054], [-1.1164092, 50.8275215], [-1.1165763, 50.827923], [-1.1161991, 50.8276924], [-1.1152136, 50.8276291], [-1.1151481, 50.8275542], [-1.1150693, 50.8274251], [-1.1150047, 50.8273586], [-1.1145917, 50.8268696], [-1.114316, 50.8266009]]], &quot;type&quot;: &quot;Polygon&quot;}, &quot;id&quot;: &quot;8&quot;, &quot;properties&quot;: {&quot;FID&quot;: 8}, &quot;type&quot;: &quot;Feature&quot;}, {&quot;bbox&quot;: [-1.1016768, 50.813412, -1.0925854, 50.8205872], &quot;geometry&quot;: {&quot;coordinates&quot;: [[[-1.0926192, 50.8153091], [-1.0925935, 50.8152318], [-1.0925854, 50.8151807], [-1.092586, 50.8151458], [-1.0926042, 50.815101], [-1.0926686, 50.8150231], [-1.0927303, 50.8149654], [-1.0927655, 50.8149472], [-1.0928, 50.8149383], [-1.0928375, 50.8149332], [-1.0935993, 50.8149637], [-1.0936342, 50.8149688], [-1.0937897, 50.8149959], [-1.0938273, 50.8149925], [-1.0938595, 50.8149824], [-1.0939963, 50.8148976], [-1.0940491, 50.8148717], [-1.0940982, 50.8148519], [-1.0943262, 50.8147864], [-1.0943664, 50.8147722], [-1.0950772, 50.8144265], [-1.0951487, 50.8144865], [-1.0962081, 50.8142087], [-1.0963486, 50.814174], [-1.0963748, 50.8141612], [-1.0964022, 50.814135], [-1.0964076, 50.8141062], [-1.0964076, 50.814074], [-1.0962869, 50.8138232], [-1.09626, 50.8137825], [-1.0962439, 50.8137469], [-1.0962466, 50.8137249], [-1.0962708, 50.8137063], [-1.0963059, 50.8136901], [-1.0963123, 50.8136882], [-1.0963223, 50.8136855], [-1.0963593, 50.8136859], [-1.0963942, 50.813691], [-1.0964156, 50.8137012], [-1.0964344, 50.8137232], [-1.0964741, 50.8138189], [-1.0965524, 50.8140079], [-1.0965739, 50.8140418], [-1.0966087, 50.8140639], [-1.0966597, 50.8140791], [-1.0967321, 50.8140825], [-1.0968018, 50.8140774], [-1.0974885, 50.8139859], [-1.0975502, 50.8139761], [-1.0976387, 50.8139554], [-1.0977286, 50.8139359], [-1.097856, 50.8139054], [-1.0979606, 50.8138783], [-1.0980853, 50.8138401], [-1.0981575, 50.8138154], [-1.0981828, 50.8138034], [-1.0982032, 50.8137935], [-1.0983025, 50.8137537], [-1.0983548, 50.8137368], [-1.0984098, 50.8137291], [-1.0984863, 50.8137266], [-1.0987371, 50.8137232], [-1.098902, 50.8137173], [-1.0989946, 50.8137122], [-1.0990656, 50.8137063], [-1.0992064, 50.8136944], [-1.0994398, 50.8136741], [-1.0997873, 50.81365], [-1.0998982, 50.8136404], [-1.0999144, 50.8136403], [-1.0999329, 50.8136379], [-1.1000922, 50.8136168], [-1.1000594, 50.8135456], [-1.1000919, 50.8135398], [-1.1000466, 50.8134371], [-1.1002163, 50.813412], [-1.1002586, 50.813519], [-1.1002958, 50.8135131], [-1.100329, 50.8135913], [-1.1003477, 50.8135885], [-1.1003568, 50.8136088], [-1.1008171, 50.8135546], [-1.1008636, 50.8135477], [-1.1008995, 50.8135453], [-1.1009713, 50.8135427], [-1.1010357, 50.8135439], [-1.1010913, 50.8135463], [-1.1011701, 50.8135525], [-1.1012995, 50.8135683], [-1.1012978, 50.8135537], [-1.1013599, 50.8135511], [-1.1013621, 50.8135702], [-1.1013632, 50.8135783], [-1.1014016, 50.8135833], [-1.1014619, 50.8135979], [-1.101491, 50.8135761], [-1.1015587, 50.8135978], [-1.1015932, 50.8136136], [-1.1016352, 50.813641], [-1.1016607, 50.8136605], [-1.1016768, 50.8136825], [-1.1016768, 50.8137003], [-1.1016674, 50.8137181], [-1.1016338, 50.813763], [-1.1015802, 50.8138164], [-1.101493, 50.8138825], [-1.101257, 50.8140622], [-1.1012007, 50.8141054], [-1.1011645, 50.8141418], [-1.1011376, 50.8141749], [-1.1011122, 50.8142147], [-1.1010934, 50.8142545], [-1.1010867, 50.8142791], [-1.101084, 50.8143214], [-1.1010867, 50.8143655], [-1.1010909, 50.8143964], [-1.1010961, 50.8144341], [-1.1011028, 50.814463], [-1.1011189, 50.8144952], [-1.1011779, 50.814607], [-1.101198, 50.8146621], [-1.1011993, 50.8146884], [-1.1011899, 50.8147239], [-1.1011725, 50.8147561], [-1.1011283, 50.8147985], [-1.1010894, 50.8148256], [-1.1010424, 50.814851], [-1.1009874, 50.8148731], [-1.1009056, 50.8149061], [-1.1008654, 50.8149188], [-1.1008225, 50.8149315], [-1.100789, 50.8149375], [-1.1006924, 50.8149527], [-1.1005221, 50.8150925], [-1.1004456, 50.8151637], [-1.1003746, 50.8152468], [-1.1003048, 50.8153408], [-1.1001855, 50.8155264], [-1.1001305, 50.8156425], [-1.100101, 50.815734], [-1.1000835, 50.8158424], [-1.1000393, 50.8162153], [-1.1000245, 50.8164864], [-1.1000232, 50.8170109], [-1.1000192, 50.8170516], [-1.0999856, 50.8171532], [-1.0998904, 50.8173761], [-1.0997617, 50.8177633], [-1.0996638, 50.8180565], [-1.0995981, 50.8182174], [-1.0995699, 50.8182759], [-1.099539, 50.8183284], [-1.099366, 50.8185682], [-1.0993379, 50.8186148], [-1.0993057, 50.8186784], [-1.0992038, 50.8189046], [-1.0991622, 50.8189732], [-1.0990267, 50.8191554], [-1.0989865, 50.8192113], [-1.0989557, 50.8192638], [-1.0989235, 50.8193248], [-1.098778, 50.8196058], [-1.0986378, 50.8198408], [-1.0985936, 50.8199027], [-1.0985654, 50.8199336], [-1.0985386, 50.8199598], [-1.0984943, 50.8199925], [-1.0984192, 50.820045], [-1.0983361, 50.8200924], [-1.0983006, 50.8201112], [-1.0981711, 50.8201797], [-1.0980933, 50.820217], [-1.097986, 50.8202594], [-1.0978372, 50.8203093], [-1.0976628, 50.8203695], [-1.0974375, 50.8204474], [-1.0974114, 50.8204553], [-1.097241, 50.8205068], [-1.097187, 50.8205231], [-1.0971318, 50.8205398], [-1.0970365, 50.8205635], [-1.0969708, 50.8205754], [-1.0969132, 50.8205838], [-1.0968421, 50.8205872], [-1.0962922, 50.8205669], [-1.0962265, 50.8205618], [-1.0961541, 50.82055], [-1.0961031, 50.8205398], [-1.0959462, 50.8204974], [-1.0958819, 50.8204847], [-1.0958378, 50.8204667], [-1.0957796, 50.8204431], [-1.0957151, 50.8204073], [-1.0956498, 50.8203491], [-1.0956106, 50.8203141], [-1.09555, 50.82026], [-1.0955222, 50.8202352], [-1.0952492, 50.8200266], [-1.0950096, 50.819833], [-1.0948801, 50.8197284], [-1.0946413, 50.8195138], [-1.0944858, 50.8193782], [-1.0943972, 50.8192884], [-1.094264, 50.819136], [-1.094071, 50.818877], [-1.0940325, 50.8188038], [-1.0939574, 50.8186512], [-1.0939171, 50.818553], [-1.0938129, 50.8182581], [-1.0937374, 50.8180446], [-1.0936838, 50.8179311], [-1.0936194, 50.8177989], [-1.0935577, 50.8176938], [-1.0935309, 50.8176514], [-1.0933324, 50.8173956], [-1.0932841, 50.8173227], [-1.093256, 50.81726], [-1.0932025, 50.8171078], [-1.0931755, 50.8169922], [-1.0931594, 50.8168736], [-1.0931724, 50.816686], [-1.0932121, 50.8161117], [-1.0932238, 50.8160094], [-1.0928697, 50.8160026], [-1.0928697, 50.815967], [-1.092808, 50.8159653], [-1.0927678, 50.8159585], [-1.0927517, 50.8159399], [-1.0927437, 50.8158314], [-1.0927517, 50.815806], [-1.0927812, 50.8157907], [-1.0928402, 50.8157874], [-1.0928429, 50.8157636], [-1.0928295, 50.8157297], [-1.0928068, 50.8156853], [-1.0926364, 50.8153518], [-1.0926192, 50.8153091]]], &quot;type&quot;: &quot;Polygon&quot;}, &quot;id&quot;: &quot;9&quot;, &quot;properties&quot;: {&quot;FID&quot;: 9}, &quot;type&quot;: &quot;Feature&quot;}, {&quot;bbox&quot;: [-1.1217528, 50.8026791, -1.1202446, 50.8037786], &quot;geometry&quot;: {&quot;coordinates&quot;: [[[-1.1203605, 50.8027159], [-1.1203976, 50.8026957], [-1.1204438, 50.8026846], [-1.1205008, 50.8026791], [-1.1205702, 50.8026852], [-1.1206194, 50.8027009], [-1.1207703, 50.8027614], [-1.1209058, 50.8028296], [-1.1209939, 50.8028847], [-1.1212053, 50.8030216], [-1.1212513, 50.8030411], [-1.1213343, 50.8030723], [-1.1213894, 50.8030879], [-1.1215057, 50.8031192], [-1.1216216, 50.8031555], [-1.1216946, 50.8031782], [-1.1217332, 50.8031985], [-1.1217498, 50.8032307], [-1.1217528, 50.8032638], [-1.1217396, 50.8033104], [-1.1216978, 50.8034131], [-1.1215911, 50.803517], [-1.1214572, 50.8036198], [-1.1213635, 50.8036848], [-1.1212912, 50.8037243], [-1.121214, 50.8037562], [-1.1211297, 50.8037734], [-1.1210635, 50.8037786], [-1.12097, 50.8037744], [-1.120871, 50.8037502], [-1.1207478, 50.8037091], [-1.1206732, 50.8036772], [-1.1206002, 50.8036304], [-1.1205342, 50.8035697], [-1.1204494, 50.8034989], [-1.1203869, 50.8034318], [-1.1203477, 50.8033864], [-1.1203146, 50.8033348], [-1.1202927, 50.8032836], [-1.1202869, 50.8032494], [-1.1202516, 50.8030535], [-1.1202446, 50.8029897], [-1.1202491, 50.8029036], [-1.1202541, 50.8028572], [-1.1202698, 50.8028209], [-1.1202874, 50.8027878], [-1.1203239, 50.8027499], [-1.1203605, 50.8027159]]], &quot;type&quot;: &quot;Polygon&quot;}, &quot;id&quot;: &quot;10&quot;, &quot;properties&quot;: {&quot;FID&quot;: 10}, &quot;type&quot;: &quot;Feature&quot;}, {&quot;bbox&quot;: [12.9333029, 55.4611145, 12.9372313, 55.4634505], &quot;geometry&quot;: {&quot;coordinates&quot;: [[[12.9341387, 55.4623903], [12.9335374, 55.4625771], [12.9333958, 55.4627276], [12.9333029, 55.4628728], [12.9335, 55.4630894], [12.9338275, 55.4632843], [12.9341237, 55.463313], [12.9343644, 55.4634363], [12.9349045, 55.4634505], [12.9354533, 55.4633304], [12.935808, 55.4632267], [12.9360984, 55.4630804], [12.9363808, 55.4628544], [12.9364682, 55.4627132], [12.936699, 55.4626557], [12.9369022, 55.4625222], [12.9369976, 55.4623804], [12.9372313, 55.4622015], [12.9371102, 55.4620752], [12.9369941, 55.4617784], [12.936988, 55.4616227], [12.9369549, 55.4613897], [12.9369238, 55.461211], [12.9367435, 55.4611398], [12.9364924, 55.4611145], [12.93618, 55.4611668], [12.935977, 55.4612084], [12.9358238, 55.4613827], [12.9352473, 55.4615931], [12.9349374, 55.4616038], [12.93445, 55.46204], [12.9341387, 55.4623903]]], &quot;type&quot;: &quot;Polygon&quot;}, &quot;id&quot;: &quot;11&quot;, &quot;properties&quot;: {&quot;FID&quot;: 11}, &quot;type&quot;: &quot;Feature&quot;}, {&quot;bbox&quot;: [12.9378129, 55.4604173, 12.9440796, 55.4640415], &quot;geometry&quot;: {&quot;coordinates&quot;: [[[12.9415909, 55.4607388], [12.9410887, 55.4608068], [12.9403967, 55.4608255], [12.9400466, 55.4608455], [12.9396909, 55.4608231], [12.9399544, 55.4607163], [12.939377, 55.460443], [12.938987, 55.4604236], [12.9388289, 55.460625], [12.9387873, 55.4608554], [12.9385936, 55.4609789], [12.9384726, 55.4611218], [12.9382811, 55.4613036], [12.9384043, 55.461472], [12.9384557, 55.4616403], [12.93851, 55.46185], [12.9382808, 55.4619433], [12.9383173, 55.4621479], [12.9382925, 55.46236], [12.9380877, 55.4626004], [12.9380242, 55.4628923], [12.9379643, 55.4630442], [12.937833, 55.4631724], [12.9378129, 55.4632369], [12.9378175, 55.4633013], [12.9379562, 55.4634434], [12.9381002, 55.4636453], [12.9383363, 55.4636593], [12.9383798, 55.4639614], [12.9390104, 55.4640415], [12.9393782, 55.4639248], [12.9397991, 55.4638567], [12.9395586, 55.463734], [12.9393922, 55.463453], [12.9397873, 55.4634795], [12.9401246, 55.4633802], [12.9402028, 55.463484], [12.9402029, 55.4636376], [12.9406002, 55.463697], [12.9407962, 55.463751], [12.9412553, 55.4634234], [12.9417211, 55.463028], [12.9422016, 55.4626266], [12.9425018, 55.4623759], [12.9426927, 55.4622307], [12.9426249, 55.4620646], [12.9427319, 55.4618596], [12.9429443, 55.4617739], [12.9432651, 55.4616802], [12.9434714, 55.4617424], [12.9437731, 55.4615878], [12.943884, 55.4614857], [12.9440796, 55.461395], [12.9439091, 55.4612366], [12.9436363, 55.4611168], [12.9433672, 55.4609912], [12.9433957, 55.4608689], [12.9431606, 55.460771], [12.9430494, 55.4606923], [12.9428234, 55.4606223], [12.9425674, 55.4604173], [12.9421919, 55.4604276], [12.9419635, 55.4605231], [12.9417912, 55.4606482], [12.9415909, 55.4607388]]], &quot;type&quot;: &quot;Polygon&quot;}, &quot;id&quot;: &quot;12&quot;, &quot;properties&quot;: {&quot;FID&quot;: 12}, &quot;type&quot;: &quot;Feature&quot;}, {&quot;bbox&quot;: [12.9366159, 55.4588351, 12.9383114, 55.4594013], &quot;geometry&quot;: {&quot;coordinates&quot;: [[[12.9366159, 55.4591453], [12.9367093, 55.4593793], [12.936981, 55.4594013], [12.9372406, 55.4593831], [12.9375541, 55.4592458], [12.9382285, 55.4593508], [12.9383114, 55.4593061], [12.9379699, 55.4591033], [12.9375739, 55.4588793], [12.9372948, 55.4588351], [12.9370087, 55.4588741], [12.9367766, 55.4589365], [12.9366159, 55.4591453]]], &quot;type&quot;: &quot;Polygon&quot;}, &quot;id&quot;: &quot;13&quot;, &quot;properties&quot;: {&quot;FID&quot;: 13}, &quot;type&quot;: &quot;Feature&quot;}, {&quot;bbox&quot;: [12.5065463, 55.6341385, 12.5073921, 55.63492], &quot;geometry&quot;: {&quot;coordinates&quot;: [[[12.5069314, 55.6349035], [12.5070589, 55.63492], [12.5072072, 55.6348963], [12.5073259, 55.6348276], [12.5073767, 55.6347263], [12.5073921, 55.634529], [12.5073707, 55.6343183], [12.5073203, 55.6342252], [12.5072462, 55.6341802], [12.5071406, 55.634145], [12.5070475, 55.6341385], [12.5068196, 55.6341586], [12.5065747, 55.6342382], [12.5065463, 55.634283], [12.5065854, 55.6344084], [12.506682, 55.6346703], [12.5067785, 55.6348126], [12.5069314, 55.6349035]]], &quot;type&quot;: &quot;Polygon&quot;}, &quot;id&quot;: &quot;14&quot;, &quot;properties&quot;: {&quot;FID&quot;: 14}, &quot;type&quot;: &quot;Feature&quot;}, {&quot;bbox&quot;: [-2.4292508, 49.4996107, -2.4280622, 49.500208], &quot;geometry&quot;: {&quot;coordinates&quot;: [[[-2.4283256, 49.4996713], [-2.4285573, 49.4996107], [-2.4289811, 49.4997025], [-2.4292269, 49.499831], [-2.4292508, 49.4999884], [-2.429121, 49.5001358], [-2.4289017, 49.500208], [-2.4285363, 49.5001853], [-2.4281609, 49.5001057], [-2.4280622, 49.5000211], [-2.4280632, 49.4998736], [-2.4283256, 49.4996713]]], &quot;type&quot;: &quot;Polygon&quot;}, &quot;id&quot;: &quot;15&quot;, &quot;properties&quot;: {&quot;FID&quot;: 15}, &quot;type&quot;: &quot;Feature&quot;}, {&quot;bbox&quot;: [-2.437543, 49.4919188, -2.4366492, 49.4926977], &quot;geometry&quot;: {&quot;coordinates&quot;: [[[-2.4366697, 49.4920768], [-2.4368492, 49.4919998], [-2.4372738, 49.4919188], [-2.4374637, 49.4919378], [-2.437543, 49.4920705], [-2.4375115, 49.4923581], [-2.4374184, 49.4925332], [-2.4372469, 49.4925622], [-2.4371611, 49.4926542], [-2.4370567, 49.4926977], [-2.4368791, 49.4926712], [-2.436784, 49.4926061], [-2.4368013, 49.4925039], [-2.4367724, 49.4924116], [-2.4366492, 49.492192], [-2.4366697, 49.4920768]]], &quot;type&quot;: &quot;Polygon&quot;}, &quot;id&quot;: &quot;16&quot;, &quot;properties&quot;: {&quot;FID&quot;: 16}, &quot;type&quot;: &quot;Feature&quot;}, {&quot;bbox&quot;: [-2.4311645, 49.4904442, -2.4295484, 49.4911537], &quot;geometry&quot;: {&quot;coordinates&quot;: [[[-2.4298228, 49.4904442], [-2.43028, 49.4904665], [-2.4309264, 49.4906426], [-2.431162, 49.490792], [-2.4311645, 49.4909305], [-2.430961, 49.4910676], [-2.4305725, 49.4911537], [-2.4300189, 49.4911509], [-2.4297319, 49.4910314], [-2.4295712, 49.4908643], [-2.4295484, 49.4906346], [-2.4296142, 49.4904977], [-2.4298228, 49.4904442]]], &quot;type&quot;: &quot;Polygon&quot;}, &quot;id&quot;: &quot;17&quot;, &quot;properties&quot;: {&quot;FID&quot;: 17}, &quot;type&quot;: &quot;Feature&quot;}, {&quot;bbox&quot;: [-2.4662114, 49.4803866, -2.4658381, 49.4806725], &quot;geometry&quot;: {&quot;coordinates&quot;: [[[-2.4658381, 49.4804486], [-2.4659832, 49.4803866], [-2.4662114, 49.4804849], [-2.466186, 49.4806321], [-2.466017, 49.4806725], [-2.4658381, 49.4804486]]], &quot;type&quot;: &quot;Polygon&quot;}, &quot;id&quot;: &quot;18&quot;, &quot;properties&quot;: {&quot;FID&quot;: 18}, &quot;type&quot;: &quot;Feature&quot;}, {&quot;bbox&quot;: [-2.462863, 49.4774102, -2.460946, 49.478681], &quot;geometry&quot;: {&quot;coordinates&quot;: [[[-2.461063, 49.4775448], [-2.4611222, 49.4775574], [-2.4611708, 49.4775353], [-2.4611402, 49.4774747], [-2.4611392, 49.4774457], [-2.4612407, 49.4774102], [-2.4612778, 49.4774218], [-2.4613429, 49.4775188], [-2.4614969, 49.4776685], [-2.4615578, 49.4778409], [-2.4616633, 49.4780265], [-2.4617832, 49.4781071], [-2.461903, 49.4781563], [-2.4620875, 49.4782134], [-2.4622506, 49.4782356], [-2.4625556, 49.4781395], [-2.4626516, 49.4780825], [-2.4627425, 49.4780923], [-2.4627585, 49.4781373], [-2.4627799, 49.4781946], [-2.4628415, 49.4782416], [-2.462863, 49.4783583], [-2.4628514, 49.4784715], [-2.4627196, 49.4785369], [-2.4625261, 49.4785918], [-2.4623555, 49.478637], [-2.462161, 49.4786364], [-2.4618217, 49.478648], [-2.4615552, 49.478681], [-2.4612754, 49.4786111], [-2.4610683, 49.478522], [-2.460946, 49.478446], [-2.460947, 49.4781192], [-2.46106, 49.4779531], [-2.4610347, 49.4775816], [-2.461063, 49.4775448]]], &quot;type&quot;: &quot;Polygon&quot;}, &quot;id&quot;: &quot;19&quot;, &quot;properties&quot;: {&quot;FID&quot;: 19}, &quot;type&quot;: &quot;Feature&quot;}, {&quot;bbox&quot;: [-2.4569054, 49.4722175, -2.4560311, 49.4729007], &quot;geometry&quot;: {&quot;coordinates&quot;: [[[-2.456192, 49.4725352], [-2.456184, 49.4723764], [-2.4562752, 49.4722735], [-2.4564469, 49.4722175], [-2.4565937, 49.4722725], [-2.456694, 49.4723348], [-2.4567942, 49.4724582], [-2.4568902, 49.472662], [-2.4569054, 49.4727345], [-2.4568778, 49.4728071], [-2.4566937, 49.4728755], [-2.4564757, 49.4729007], [-2.4562946, 49.4728849], [-2.4560452, 49.4727919], [-2.4560311, 49.4727029], [-2.4561243, 49.4726103], [-2.456192, 49.4725352]]], &quot;type&quot;: &quot;Polygon&quot;}, &quot;id&quot;: &quot;20&quot;, &quot;properties&quot;: {&quot;FID&quot;: 20}, &quot;type&quot;: &quot;Feature&quot;}, {&quot;bbox&quot;: [-2.4411915, 49.4687156, -2.4404673, 49.4693647], &quot;geometry&quot;: {&quot;coordinates&quot;: [[[-2.4404673, 49.4688119], [-2.4406589, 49.4687156], [-2.4409285, 49.4688022], [-2.4410822, 49.469043], [-2.4411915, 49.4692298], [-2.4411787, 49.4693647], [-2.4408895, 49.4693278], [-2.4408184, 49.4691701], [-2.440677, 49.469001], [-2.4404673, 49.4688119]]], &quot;type&quot;: &quot;Polygon&quot;}, &quot;id&quot;: &quot;21&quot;, &quot;properties&quot;: {&quot;FID&quot;: 21}, &quot;type&quot;: &quot;Feature&quot;}, {&quot;bbox&quot;: [-2.4579404, 49.4627643, -2.440916, 49.4828877], &quot;geometry&quot;: {&quot;coordinates&quot;: [[[-2.4571201, 49.4784076], [-2.4573483, 49.4786237], [-2.4574685, 49.4789531], [-2.4576661, 49.4796136], [-2.4577769, 49.479622], [-2.4579404, 49.4796674], [-2.4578287, 49.4797392], [-2.4573783, 49.4798821], [-2.4566183, 49.4801498], [-2.4559938, 49.4804012], [-2.4554324, 49.4805623], [-2.454818, 49.4806346], [-2.4542875, 49.480678], [-2.4539084, 49.4806921], [-2.4531289, 49.4808192], [-2.4529168, 49.480814], [-2.4526488, 49.4809046], [-2.4522442, 49.4810096], [-2.4520445, 49.4811791], [-2.4520249, 49.481285], [-2.4519439, 49.4813545], [-2.4518445, 49.4813196], [-2.4517827, 49.4812476], [-2.4515704, 49.4812846], [-2.4514842, 49.4813645], [-2.4512999, 49.4813806], [-2.4506774, 49.4817428], [-2.4503135, 49.481942], [-2.4494686, 49.4823831], [-2.449404, 49.482411], [-2.4490335, 49.4825497], [-2.4484615, 49.4828144], [-2.4482225, 49.4828864], [-2.4481007, 49.4828877], [-2.4480465, 49.4828135], [-2.4480259, 49.4826377], [-2.4480133, 49.4818683], [-2.448018, 49.4810642], [-2.4479555, 49.4804399], [-2.4482537, 49.4796809], [-2.4483429, 49.4795252], [-2.4482253, 49.4792213], [-2.4482399, 49.4786712], [-2.4482064, 49.4781907], [-2.4482432, 49.4780895], [-2.4483126, 49.4778989], [-2.4484597, 49.4777901], [-2.4484136, 49.477678], [-2.4483672, 49.4775401], [-2.4484039, 49.4773617], [-2.4480329, 49.4768498], [-2.4479199, 49.4767788], [-2.4476557, 49.4767865], [-2.447567, 49.4766705], [-2.4474236, 49.4766155], [-2.4473732, 49.4765931], [-2.4474083, 49.4765395], [-2.4471471, 49.4764248], [-2.4469861, 49.4763692], [-2.4470452, 49.476239], [-2.4469725, 49.4761834], [-2.4468822, 49.4761821], [-2.4467092, 49.4760005], [-2.4466628, 49.4758876], [-2.4465464, 49.4758493], [-2.4462351, 49.4755649], [-2.4462193, 49.4754428], [-2.4460519, 49.475307], [-2.4458935, 49.4752481], [-2.4456376, 49.475213], [-2.4454626, 49.4752894], [-2.44528, 49.4751936], [-2.4454094, 49.4751541], [-2.4452082, 49.4751201], [-2.4449734, 49.4751235], [-2.4450064, 49.4750038], [-2.4449607, 49.4749691], [-2.4449018, 49.4749652], [-2.4447922, 49.4750201], [-2.4445263, 49.4749277], [-2.4442491, 49.4746626], [-2.4440592, 49.4744294], [-2.4442098, 49.4742298], [-2.4444498, 49.474157], [-2.4446586, 49.4741544], [-2.4447557, 49.474126], [-2.4447659, 49.4739592], [-2.4448508, 49.4738927], [-2.4449242, 49.473789], [-2.4448968, 49.4734142], [-2.4446687, 49.4734246], [-2.44457, 49.4733309], [-2.4442849, 49.4732477], [-2.444004, 49.4730522], [-2.4436335, 49.4728331], [-2.4434291, 49.4726232], [-2.443474, 49.4725458], [-2.4435613, 49.47252], [-2.4435661, 49.4724479], [-2.4434661, 49.4724444], [-2.4434283, 49.472351], [-2.4433772, 49.4723577], [-2.4433612, 49.4723347], [-2.4434133, 49.4722774], [-2.4434977, 49.4722281], [-2.4435768, 49.4722202], [-2.4435143, 49.472193], [-2.4434225, 49.47224], [-2.4433585, 49.4722053], [-2.4434538, 49.4721121], [-2.4434989, 49.4720345], [-2.4434922, 49.4719698], [-2.4433953, 49.471812], [-2.4430519, 49.4717497], [-2.4427829, 49.4712845], [-2.4425933, 49.4710922], [-2.4425306, 49.4710278], [-2.4423757, 49.4708555], [-2.4419591, 49.4706456], [-2.4417293, 49.4706151], [-2.4416829, 49.4707236], [-2.4415384, 49.4707745], [-2.4414168, 49.4707741], [-2.441206, 49.470583], [-2.440916, 49.4702374], [-2.4410162, 49.4701953], [-2.4412927, 49.4703756], [-2.4413515, 49.4703468], [-2.4412372, 49.4700904], [-2.4413283, 49.4695613], [-2.4414129, 49.4695905], [-2.4414796, 49.4696136], [-2.4416092, 49.4696584], [-2.4418162, 49.4696711], [-2.4420932, 49.4694322], [-2.4426223, 49.4691965], [-2.4428, 49.4689855], [-2.4430456, 49.4688741], [-2.4429367, 49.4687015], [-2.4431746, 49.4684222], [-2.4433897, 49.4683247], [-2.4436481, 49.4683391], [-2.4437036, 49.4684119], [-2.4437942, 49.4683891], [-2.4437232, 49.4682506], [-2.443834, 49.468192], [-2.4441673, 49.4682828], [-2.4441217, 49.4681052], [-2.4438547, 49.4680182], [-2.443945, 49.4678936], [-2.4435627, 49.4672109], [-2.4431377, 49.4670663], [-2.4431663, 49.4668342], [-2.4434808, 49.4665466], [-2.4438509, 49.4665623], [-2.4441217, 49.4667018], [-2.4443358, 49.466695], [-2.444397, 49.466722], [-2.4447249, 49.4668667], [-2.4446987, 49.4667722], [-2.4448679, 49.4668292], [-2.4448264, 49.4666946], [-2.4448784, 49.4663931], [-2.4448656, 49.466306], [-2.4448894, 49.4660553], [-2.4449991, 49.4659415], [-2.4449633, 49.4658162], [-2.4445813, 49.4658614], [-2.4444221, 49.4656736], [-2.4444654, 49.4654606], [-2.444689, 49.4650443], [-2.4449472, 49.4645733], [-2.4453936, 49.4642472], [-2.4457539, 49.464235], [-2.4460702, 49.4644566], [-2.4460216, 49.4645216], [-2.4462346, 49.4645166], [-2.4463523, 49.4648235], [-2.4465649, 49.4645123], [-2.4470003, 49.4645893], [-2.4472787, 49.4645113], [-2.4474093, 49.4645435], [-2.4475603, 49.464504], [-2.4476684, 49.4644352], [-2.4479186, 49.4643795], [-2.4484632, 49.4640853], [-2.4485955, 49.4637732], [-2.4492588, 49.4635185], [-2.4494561, 49.463315], [-2.449897, 49.4633076], [-2.4503404, 49.4631088], [-2.4507199, 49.4629095], [-2.4512739, 49.4627643], [-2.4517935, 49.4629066], [-2.4520413, 49.4630266], [-2.4520597, 49.4632368], [-2.4515582, 49.4636523], [-2.4519084, 49.463778], [-2.4521928, 49.4640878], [-2.4520212, 49.4640928], [-2.4520245, 49.4641483], [-2.4524403, 49.4643669], [-2.4527633, 49.4645373], [-2.4527749, 49.464682], [-2.4529999, 49.4650521], [-2.453064, 49.4652718], [-2.4530511, 49.4654761], [-2.4532261, 49.4655634], [-2.4533776, 49.4658291], [-2.4533473, 49.4659621], [-2.4532613, 49.4661499], [-2.453253, 49.4661648], [-2.4528583, 49.466388], [-2.4528159, 49.46661], [-2.4528965, 49.4666673], [-2.4529304, 49.4667641], [-2.4532166, 49.467311], [-2.4533664, 49.4674415], [-2.4536676, 49.4678156], [-2.4537024, 49.4684607], [-2.4538105, 49.4686638], [-2.4539438, 49.4687962], [-2.4536275, 49.4692433], [-2.4536049, 49.4692752], [-2.4536648, 49.4694478], [-2.4538138, 49.4696038], [-2.4538577, 49.4696214], [-2.4539237, 49.4696948], [-2.4543496, 49.4701684], [-2.4542832, 49.4701903], [-2.4542109, 49.4702141], [-2.4537587, 49.4696894], [-2.453371, 49.4696787], [-2.4533576, 49.4698357], [-2.4537104, 49.4698485], [-2.4536963, 49.4698259], [-2.4537486, 49.4698244], [-2.453791, 49.4698849], [-2.4533455, 49.4698688], [-2.4532775, 49.4698859], [-2.4532873, 49.4697329], [-2.4532908, 49.4696776], [-2.4529192, 49.4697207], [-2.4528965, 49.469707], [-2.4527424, 49.4697363], [-2.4525687, 49.4698799], [-2.4524314, 49.4700745], [-2.4523991, 49.4702141], [-2.4522864, 49.4703738], [-2.4521762, 49.4704659], [-2.4520393, 49.4706746], [-2.4520378, 49.4707459], [-2.4519929, 49.4708398], [-2.4519536, 49.4712042], [-2.4521369, 49.471928], [-2.4526147, 49.4726114], [-2.4526345, 49.4727151], [-2.4530523, 49.4731392], [-2.4535177, 49.473552], [-2.453601, 49.47373], [-2.4535895, 49.4738806], [-2.4538338, 49.4743972], [-2.4539392, 49.4745435], [-2.453971, 49.4748069], [-2.4540474, 49.4749275], [-2.454247, 49.4753059], [-2.4546873, 49.4759398], [-2.455336, 49.4767515], [-2.4560594, 49.4774702], [-2.45622, 49.4774771], [-2.4564876, 49.4775726], [-2.4567305, 49.4777363], [-2.45691, 49.4778896], [-2.4569745, 49.478118], [-2.4569744, 49.4782347], [-2.4571201, 49.4784076]]], &quot;type&quot;: &quot;Polygon&quot;}, &quot;id&quot;: &quot;22&quot;, &quot;properties&quot;: {&quot;FID&quot;: 22}, &quot;type&quot;: &quot;Feature&quot;}, {&quot;bbox&quot;: [-2.4657432, 49.4620928, -2.4635263, 49.4634339], &quot;geometry&quot;: {&quot;coordinates&quot;: [[[-2.4635263, 49.4623147], [-2.4636129, 49.462207], [-2.4639538, 49.4622622], [-2.4643073, 49.4622758], [-2.4646759, 49.4620928], [-2.4651337, 49.462177], [-2.4656262, 49.462272], [-2.4656812, 49.4624565], [-2.4657432, 49.4626322], [-2.4655404, 49.46278], [-2.4656431, 49.4631396], [-2.4653362, 49.4632332], [-2.4651335, 49.4631816], [-2.4646641, 49.4634339], [-2.4642828, 49.4630357], [-2.4641585, 49.4629059], [-2.4639731, 49.4626977], [-2.4636615, 49.4625544], [-2.4635263, 49.4623147]]], &quot;type&quot;: &quot;Polygon&quot;}, &quot;id&quot;: &quot;23&quot;, &quot;properties&quot;: {&quot;FID&quot;: 23}, &quot;type&quot;: &quot;Feature&quot;}, {&quot;bbox&quot;: [-2.4657372, 49.4556031, -2.4589201, 49.4619954], &quot;geometry&quot;: {&quot;coordinates&quot;: [[[-2.4623496, 49.4566579], [-2.4623953, 49.4563375], [-2.4624129, 49.456214], [-2.462676, 49.4560161], [-2.4632208, 49.4559075], [-2.4638581, 49.4556031], [-2.4640732, 49.4557126], [-2.4638293, 49.4558543], [-2.4643252, 49.4559749], [-2.4644936, 49.4561272], [-2.4647886, 49.4562312], [-2.4651461, 49.4562521], [-2.4654275, 49.4564186], [-2.4654964, 49.4565307], [-2.4653977, 49.4566184], [-2.4655151, 49.4567939], [-2.4656794, 49.456852], [-2.4656634, 49.4569972], [-2.4653569, 49.4571062], [-2.4655385, 49.4576114], [-2.4656667, 49.4579362], [-2.4657372, 49.4582431], [-2.4656938, 49.4585257], [-2.4655527, 49.4586402], [-2.4653346, 49.4587039], [-2.4652126, 49.4588158], [-2.4652408, 49.4590708], [-2.4652131, 49.4593151], [-2.4651246, 49.4595597], [-2.4650841, 49.4597257], [-2.4648497, 49.4598203], [-2.4645479, 49.4597991], [-2.4642988, 49.4598934], [-2.4641241, 49.4601237], [-2.4639737, 49.4603219], [-2.4640021, 49.4605487], [-2.4636414, 49.4604975], [-2.463143, 49.460662], [-2.4629292, 49.460668], [-2.4622686, 49.4609572], [-2.4615999, 49.4611469], [-2.4609663, 49.4612887], [-2.4610289, 49.4614748], [-2.4612314, 49.46174], [-2.4610709, 49.4619954], [-2.4610463, 49.4619842], [-2.461192, 49.4617628], [-2.4609826, 49.4614919], [-2.4608734, 49.461223], [-2.4606174, 49.4612927], [-2.460627, 49.461235], [-2.4608087, 49.461143], [-2.460718, 49.4607713], [-2.4603248, 49.4606247], [-2.4601942, 49.4603231], [-2.4598451, 49.4602318], [-2.459698, 49.4601932], [-2.4593973, 49.4597813], [-2.4590325, 49.4594309], [-2.4589201, 49.458912], [-2.459235, 49.45879], [-2.4594625, 49.4584469], [-2.4592611, 49.4583032], [-2.4592918, 49.4581087], [-2.459698, 49.4579858], [-2.4604254, 49.4580004], [-2.4604656, 49.4578658], [-2.4603935, 49.4575574], [-2.460504, 49.4574369], [-2.4606042, 49.4574464], [-2.4606974, 49.4574552], [-2.4608602, 49.4574357], [-2.4610262, 49.4571872], [-2.4615345, 49.4570103], [-2.4619223, 49.4569548], [-2.4623496, 49.4566579]]], &quot;type&quot;: &quot;Polygon&quot;}, &quot;id&quot;: &quot;24&quot;, &quot;properties&quot;: {&quot;FID&quot;: 24}, &quot;type&quot;: &quot;Feature&quot;}, {&quot;bbox&quot;: [-2.4605075, 49.455431, -2.4586694, 49.4562722], &quot;geometry&quot;: {&quot;coordinates&quot;: [[[-2.459024, 49.4562254], [-2.4586694, 49.4557457], [-2.4590071, 49.4554335], [-2.4592262, 49.455431], [-2.4594764, 49.4556064], [-2.4597961, 49.4556032], [-2.4597811, 49.4557469], [-2.4599911, 49.4557942], [-2.4601132, 49.4556475], [-2.4604372, 49.4556754], [-2.4605075, 49.4558657], [-2.4601566, 49.4561151], [-2.459743, 49.4562722], [-2.459024, 49.4562254]]], &quot;type&quot;: &quot;Polygon&quot;}, &quot;id&quot;: &quot;25&quot;, &quot;properties&quot;: {&quot;FID&quot;: 25}, &quot;type&quot;: &quot;Feature&quot;}, {&quot;bbox&quot;: [-2.3693338, 49.4494315, -2.3670849, 49.4507234], &quot;geometry&quot;: {&quot;coordinates&quot;: [[[-2.367091, 49.4495195], [-2.3674639, 49.4494315], [-2.3679011, 49.4494709], [-2.3683088, 49.4496242], [-2.3684921, 49.4497647], [-2.368669, 49.449885], [-2.368854, 49.4500415], [-2.3691258, 49.4505479], [-2.3692666, 49.4505448], [-2.3693338, 49.4506331], [-2.3691022, 49.4507234], [-2.3688278, 49.4507184], [-2.3684725, 49.4506067], [-2.3680157, 49.4504396], [-2.3678143, 49.4502479], [-2.3673771, 49.4501873], [-2.3672316, 49.4502995], [-2.3671114, 49.4502221], [-2.3670849, 49.4499943], [-2.367156, 49.4497892], [-2.367091, 49.4495195]]], &quot;type&quot;: &quot;Polygon&quot;}, &quot;id&quot;: &quot;26&quot;, &quot;properties&quot;: {&quot;FID&quot;: 26}, &quot;type&quot;: &quot;Feature&quot;}, {&quot;bbox&quot;: [-2.3440791, 49.4417316, -2.3429584, 49.4439726], &quot;geometry&quot;: {&quot;coordinates&quot;: [[[-2.3432747, 49.4417316], [-2.3440791, 49.441772], [-2.3437599, 49.4423176], [-2.3435383, 49.4422998], [-2.3437079, 49.442541], [-2.3436309, 49.4427014], [-2.3434388, 49.4428634], [-2.3436837, 49.443282], [-2.3437736, 49.4437014], [-2.3436869, 49.4439726], [-2.3434555, 49.4439545], [-2.3434766, 49.443268], [-2.3433812, 49.4430319], [-2.3432221, 49.4428847], [-2.3432529, 49.4426496], [-2.3431626, 49.4424546], [-2.3429584, 49.4422797], [-2.3430982, 49.4421433], [-2.3430748, 49.4419316], [-2.3432747, 49.4417316]]], &quot;type&quot;: &quot;Polygon&quot;}, &quot;id&quot;: &quot;27&quot;, &quot;properties&quot;: {&quot;FID&quot;: 27}, &quot;type&quot;: &quot;Feature&quot;}, {&quot;bbox&quot;: [-2.3433514, 49.4371369, -2.3413714, 49.4386102], &quot;geometry&quot;: {&quot;coordinates&quot;: [[[-2.3419164, 49.4371906], [-2.3422914, 49.4371369], [-2.3425033, 49.43733], [-2.3423469, 49.4373584], [-2.3424891, 49.4375249], [-2.3426886, 49.4375129], [-2.3427033, 49.437591], [-2.3430671, 49.4376366], [-2.3433514, 49.4382322], [-2.3431929, 49.4382409], [-2.3428646, 49.4378051], [-2.3427328, 49.4378628], [-2.3426197, 49.438156], [-2.3427779, 49.4384736], [-2.3426256, 49.4386102], [-2.3424743, 49.4385741], [-2.3424051, 49.4384232], [-2.3424236, 49.4382101], [-2.3421551, 49.4382026], [-2.3421798, 49.4383507], [-2.3420451, 49.438367], [-2.3419939, 49.4381867], [-2.3418901, 49.4377578], [-2.3415589, 49.4378227], [-2.3413714, 49.4374132], [-2.3416629, 49.4372975], [-2.3418971, 49.4374343], [-2.3420116, 49.4373397], [-2.3419164, 49.4371906]]], &quot;type&quot;: &quot;Polygon&quot;}, &quot;id&quot;: &quot;28&quot;, &quot;properties&quot;: {&quot;FID&quot;: 28}, &quot;type&quot;: &quot;Feature&quot;}, {&quot;bbox&quot;: [-2.3803791, 49.4306507, -2.3788465, 49.4318987], &quot;geometry&quot;: {&quot;coordinates&quot;: [[[-2.3799676, 49.4310524], [-2.3800407, 49.4312114], [-2.380018, 49.4312386], [-2.380045, 49.4312581], [-2.3801374, 49.4312604], [-2.3802791, 49.4313032], [-2.3802995, 49.4313782], [-2.3803791, 49.4314659], [-2.380338, 49.4315624], [-2.3803032, 49.4316406], [-2.3801747, 49.4316472], [-2.380152, 49.4317104], [-2.3799932, 49.4317742], [-2.3799636, 49.4318466], [-2.3798928, 49.4318019], [-2.3798387, 49.4318098], [-2.3798117, 49.4318745], [-2.3797163, 49.4318987], [-2.3796522, 49.4318436], [-2.3794896, 49.431814], [-2.3793456, 49.431752], [-2.3791986, 49.4316067], [-2.3789902, 49.4315158], [-2.3789167, 49.431417], [-2.3788465, 49.4312904], [-2.3788978, 49.4310674], [-2.3790033, 49.4309507], [-2.3790825, 49.4309409], [-2.3791555, 49.4308907], [-2.3793084, 49.4308739], [-2.3793743, 49.4308147], [-2.3794725, 49.4308185], [-2.3795419, 49.4308467], [-2.3796703, 49.4307535], [-2.379705, 49.4306923], [-2.3798816, 49.4306507], [-2.3799618, 49.4306839], [-2.379973, 49.4307341], [-2.3800389, 49.4307415], [-2.3801956, 49.430724], [-2.3802912, 49.4307497], [-2.3802057, 49.4309057], [-2.3801077, 49.4309708], [-2.3800159, 49.4309934], [-2.3799676, 49.4310524]]], &quot;type&quot;: &quot;Polygon&quot;}, &quot;id&quot;: &quot;29&quot;, &quot;properties&quot;: {&quot;FID&quot;: 29}, &quot;type&quot;: &quot;Feature&quot;}, {&quot;bbox&quot;: [-2.3402545, 49.4283155, -2.3378459, 49.430497], &quot;geometry&quot;: {&quot;coordinates&quot;: [[[-2.3402545, 49.4296579], [-2.3401853, 49.4300386], [-2.3392868, 49.4302245], [-2.3383174, 49.430497], [-2.3381785, 49.4302428], [-2.338255, 49.4301317], [-2.3382214, 49.4299548], [-2.3378459, 49.4298358], [-2.338017, 49.4297324], [-2.3383084, 49.4298252], [-2.3383249, 49.4299278], [-2.3386776, 49.4299428], [-2.338784, 49.4300467], [-2.339041, 49.4301357], [-2.3388345, 49.4299137], [-2.3391135, 49.4297359], [-2.3391575, 49.4296316], [-2.3391513, 49.4293863], [-2.3395019, 49.4292879], [-2.3391323, 49.4290986], [-2.3390639, 49.428943], [-2.3393621, 49.428982], [-2.3393391, 49.4287135], [-2.3388976, 49.428437], [-2.3387541, 49.4283171], [-2.3389646, 49.4283155], [-2.3398211, 49.4286505], [-2.3398289, 49.4287931], [-2.3400496, 49.4288289], [-2.3399469, 49.4289699], [-2.3396816, 49.4290238], [-2.3397583, 49.4293066], [-2.3402019, 49.4294512], [-2.3402545, 49.4296579]]], &quot;type&quot;: &quot;Polygon&quot;}, &quot;id&quot;: &quot;30&quot;, &quot;properties&quot;: {&quot;FID&quot;: 30}, &quot;type&quot;: &quot;Feature&quot;}, {&quot;bbox&quot;: [-2.3952712, 49.4283402, -2.3814477, 49.4343817], &quot;geometry&quot;: {&quot;coordinates&quot;: [[[-2.3877538, 49.429066], [-2.3882192, 49.4289197], [-2.3883154, 49.428717], [-2.3885568, 49.4283962], [-2.3889906, 49.4283402], [-2.3890286, 49.4286454], [-2.3888039, 49.4288967], [-2.3893511, 49.4289797], [-2.389755, 49.4292607], [-2.390539, 49.4293937], [-2.3904539, 49.429871], [-2.3901375, 49.4299741], [-2.3902391, 49.4303438], [-2.3901112, 49.4303519], [-2.3899928, 49.4299511], [-2.3897397, 49.4299894], [-2.389511, 49.429952], [-2.389352, 49.4300277], [-2.3893304, 49.4302214], [-2.3888961, 49.4301995], [-2.388857, 49.4303812], [-2.3889256, 49.4305813], [-2.3890702, 49.4306503], [-2.3892619, 49.4307413], [-2.3894613, 49.4307245], [-2.3896427, 49.4307914], [-2.3897489, 49.4308928], [-2.3898813, 49.4308215], [-2.390028, 49.4307621], [-2.3901431, 49.4309059], [-2.3903271, 49.4310892], [-2.390517, 49.4311877], [-2.3906193, 49.4313037], [-2.390552, 49.4314334], [-2.3903279, 49.4315561], [-2.3906133, 49.4315034], [-2.3908807, 49.4315161], [-2.3911489, 49.4314699], [-2.3913497, 49.4316093], [-2.3913972, 49.4317479], [-2.3914003, 49.4318942], [-2.3914459, 49.4319043], [-2.3914885, 49.4318449], [-2.3914915, 49.4316945], [-2.3915288, 49.4315351], [-2.3917389, 49.4314473], [-2.3918658, 49.4312675], [-2.3922081, 49.431221], [-2.3925099, 49.4311615], [-2.3926468, 49.4313178], [-2.392477, 49.4315817], [-2.3930289, 49.4316784], [-2.3933056, 49.4317153], [-2.3935958, 49.4314435], [-2.3938537, 49.4314578], [-2.3940709, 49.4315083], [-2.3943859, 49.4315058], [-2.395227, 49.4317257], [-2.3952712, 49.431986], [-2.395025, 49.4322367], [-2.394629, 49.4324917], [-2.39438, 49.4325103], [-2.3939621, 49.4326645], [-2.3936869, 49.4329264], [-2.3934486, 49.4332249], [-2.3932336, 49.4335671], [-2.3930789, 49.4337893], [-2.3931079, 49.4339421], [-2.3928185, 49.4340444], [-2.3926774, 49.4342363], [-2.3924228, 49.4341829], [-2.39238, 49.4340354], [-2.3921376, 49.433783], [-2.3919342, 49.4337427], [-2.3916089, 49.433848], [-2.3914092, 49.433979], [-2.3911528, 49.4339883], [-2.3907578, 49.4339771], [-2.390484, 49.4338786], [-2.389694, 49.4341316], [-2.389302, 49.4341286], [-2.3884074, 49.433923], [-2.387988, 49.4336283], [-2.3878352, 49.4336325], [-2.3883539, 49.4339866], [-2.387726, 49.4343766], [-2.387333, 49.4343746], [-2.3862348, 49.4343817], [-2.3853893, 49.4341907], [-2.3849747, 49.4341501], [-2.384588, 49.4338476], [-2.384198, 49.4335896], [-2.383808, 49.4333306], [-2.383419, 49.4330726], [-2.382634, 49.4329407], [-2.3821697, 49.4328626], [-2.3822128, 49.4325519], [-2.382187, 49.4323755], [-2.3819373, 49.4322999], [-2.3819271, 49.4319327], [-2.3819287, 49.431712], [-2.3814675, 49.4316227], [-2.3814477, 49.4313172], [-2.3818095, 49.4310856], [-2.3821474, 49.4306388], [-2.38256, 49.4308567], [-2.3824956, 49.4311367], [-2.3827906, 49.4311674], [-2.383053, 49.4308917], [-2.3833598, 49.4307132], [-2.3840301, 49.430998], [-2.3843278, 49.4311737], [-2.3843873, 49.4310764], [-2.3842002, 49.4308672], [-2.384563, 49.4309356], [-2.3841547, 49.4307626], [-2.3844834, 49.4305862], [-2.3846969, 49.4303472], [-2.384931, 49.4306149], [-2.3855592, 49.4306228], [-2.3858793, 49.430821], [-2.385984, 49.4306505], [-2.3859099, 49.4305233], [-2.3860564, 49.4304238], [-2.3862588, 49.4304977], [-2.3865841, 49.4303505], [-2.3872396, 49.4303323], [-2.3866954, 49.4299077], [-2.386892, 49.4296557], [-2.3870698, 49.4295055], [-2.3875735, 49.429851], [-2.3876613, 49.429864], [-2.3877507, 49.4298094], [-2.3872984, 49.4293989], [-2.3873858, 49.4290498], [-2.3877538, 49.429066]]], &quot;type&quot;: &quot;Polygon&quot;}, &quot;id&quot;: &quot;31&quot;, &quot;properties&quot;: {&quot;FID&quot;: 31}, &quot;type&quot;: &quot;Feature&quot;}, {&quot;bbox&quot;: [-2.3829482, 49.4152812, -2.382183, 49.4158118], &quot;geometry&quot;: {&quot;coordinates&quot;: [[[-2.38246, 49.4155068], [-2.3822213, 49.4155483], [-2.382183, 49.4154738], [-2.38232, 49.4153566], [-2.3826811, 49.4152812], [-2.3829361, 49.415373], [-2.3828847, 49.4154576], [-2.382721, 49.4154669], [-2.3827299, 49.415511], [-2.3829482, 49.4155825], [-2.382849, 49.4157658], [-2.3824445, 49.4158118], [-2.3823106, 49.4157335], [-2.3822549, 49.4156066], [-2.38246, 49.4155068]]], &quot;type&quot;: &quot;Polygon&quot;}, &quot;id&quot;: &quot;32&quot;, &quot;properties&quot;: {&quot;FID&quot;: 32}, &quot;type&quot;: &quot;Feature&quot;}, {&quot;bbox&quot;: [-2.3851597, 49.4119559, -2.3839849, 49.4131235], &quot;geometry&quot;: {&quot;coordinates&quot;: [[[-2.3841185, 49.4120414], [-2.3842848, 49.4119559], [-2.3843926, 49.4120273], [-2.3844034, 49.4120901], [-2.384648, 49.41228], [-2.384744, 49.4121198], [-2.3848298, 49.4121442], [-2.3849103, 49.4122576], [-2.3850042, 49.4123938], [-2.3851597, 49.412556], [-2.3850927, 49.4126363], [-2.3851249, 49.4127096], [-2.3849151, 49.4128531], [-2.3849908, 49.4130115], [-2.3849318, 49.4130726], [-2.3848043, 49.4131235], [-2.3846206, 49.4129173], [-2.3844288, 49.4127914], [-2.3844436, 49.4127271], [-2.3842746, 49.4126363], [-2.3841775, 49.4124732], [-2.3839849, 49.4121268], [-2.3841185, 49.4120414]]], &quot;type&quot;: &quot;Polygon&quot;}, &quot;id&quot;: &quot;33&quot;, &quot;properties&quot;: {&quot;FID&quot;: 33}, &quot;type&quot;: &quot;Feature&quot;}, {&quot;bbox&quot;: [-2.3832044, 49.407425, -2.3420421, 49.4492746], &quot;geometry&quot;: {&quot;coordinates&quot;: [[[-2.3692369, 49.4236926], [-2.3689571, 49.4237801], [-2.3687118, 49.4237338], [-2.3686176, 49.4239609], [-2.368401, 49.4241477], [-2.3681419, 49.4243234], [-2.3682473, 49.4243674], [-2.3682118, 49.4244182], [-2.367997, 49.4247776], [-2.3677831, 49.4247929], [-2.3674102, 49.4250546], [-2.3673556, 49.4252551], [-2.3678709, 49.4259038], [-2.3678806, 49.4258969], [-2.3682459, 49.4256945], [-2.3688107, 49.4253853], [-2.3690898, 49.4252399], [-2.3699346, 49.4250462], [-2.3701358, 49.4251596], [-2.3700359, 49.4252661], [-2.3702684, 49.4253371], [-2.3703854, 49.4253003], [-2.3705448, 49.4251269], [-2.3709238, 49.4250884], [-2.371163, 49.4250808], [-2.3714319, 49.424914], [-2.3719289, 49.4249569], [-2.371924, 49.4251917], [-2.3720826, 49.4252731], [-2.3722726, 49.4251946], [-2.3729027, 49.4253689], [-2.3729712, 49.4256721], [-2.3731769, 49.4256102], [-2.3730644, 49.4252502], [-2.3733993, 49.425156], [-2.373687, 49.4255857], [-2.373883, 49.4257157], [-2.374077, 49.4258437], [-2.374089, 49.4260214], [-2.3735794, 49.4262994], [-2.3733817, 49.426249], [-2.3733654, 49.4263698], [-2.3734521, 49.4264797], [-2.3734961, 49.4265983], [-2.3736752, 49.42642], [-2.3738317, 49.426486], [-2.3739147, 49.4267559], [-2.3745717, 49.4268436], [-2.3746473, 49.4270001], [-2.3748713, 49.4270139], [-2.3750385, 49.4271798], [-2.3752086, 49.4270139], [-2.3754919, 49.4270287], [-2.3754119, 49.4269593], [-2.3755582, 49.4268336], [-2.3757696, 49.4269139], [-2.3762495, 49.4267157], [-2.3762941, 49.4268369], [-2.3757875, 49.427199], [-2.3759276, 49.4272389], [-2.3763492, 49.4270368], [-2.376584, 49.4270261], [-2.3767433, 49.42722], [-2.3771348, 49.4273549], [-2.3770731, 49.427577], [-2.3765175, 49.427811], [-2.3769082, 49.4281154], [-2.3772624, 49.4281224], [-2.3774113, 49.4285486], [-2.3769552, 49.4287058], [-2.3765942, 49.4286393], [-2.3764919, 49.4285763], [-2.3763647, 49.4285626], [-2.3762109, 49.4285971], [-2.3759467, 49.4285101], [-2.3755807, 49.4283213], [-2.3753511, 49.4285568], [-2.3753025, 49.4287829], [-2.3750582, 49.4289344], [-2.3745343, 49.4290539], [-2.374431, 49.4293122], [-2.374817, 49.4294377], [-2.375722, 49.4294694], [-2.3762729, 49.4296667], [-2.3766328, 49.4301567], [-2.3765293, 49.4304929], [-2.376569, 49.4308567], [-2.3768179, 49.4309483], [-2.3770218, 49.4310507], [-2.3770675, 49.4312135], [-2.3771732, 49.4311846], [-2.3772827, 49.4311887], [-2.3773358, 49.4312354], [-2.3776553, 49.4313818], [-2.3779202, 49.4313419], [-2.3781166, 49.4312872], [-2.3781316, 49.4313617], [-2.3785017, 49.4312745], [-2.3785659, 49.4314183], [-2.3786729, 49.4315465], [-2.3784226, 49.4318297], [-2.377735, 49.4318887], [-2.3775333, 49.432179], [-2.3772417, 49.4322814], [-2.3773482, 49.4325732], [-2.376939, 49.4326537], [-2.376543, 49.4329077], [-2.376143, 49.4334186], [-2.375747, 49.4336726], [-2.37535, 49.4339266], [-2.375144, 49.4346946], [-2.3748538, 49.4347525], [-2.374398, 49.4348433], [-2.3734995, 49.4347213], [-2.3729201, 49.434497], [-2.372397, 49.4342946], [-2.371611, 49.4342906], [-2.370821, 49.4345426], [-2.3705069, 49.434521], [-2.3700059, 49.4344866], [-2.3694491, 49.4348558], [-2.3693091, 49.4351981], [-2.3696811, 49.4352373], [-2.3698477, 49.4352549], [-2.370028, 49.4354685], [-2.3698609, 49.4355247], [-2.3698059, 49.4356195], [-2.3700963, 49.435727], [-2.3702447, 49.4358403], [-2.370412, 49.4358226], [-2.370608, 49.4359516], [-2.3707324, 49.4360396], [-2.3706444, 49.4360795], [-2.3706901, 49.4361265], [-2.37069, 49.4361612], [-2.370629, 49.4361612], [-2.3704405, 49.4361002], [-2.370359, 49.4361233], [-2.3704218, 49.4362955], [-2.3705512, 49.4363328], [-2.3705018, 49.436389], [-2.3704244, 49.4363897], [-2.3703986, 49.4364354], [-2.370457, 49.4364811], [-2.3705501, 49.4365469], [-2.370689, 49.4366935], [-2.3706149, 49.4366878], [-2.3704987, 49.4366464], [-2.3704238, 49.4365976], [-2.3702575, 49.4365348], [-2.3702659, 49.4365707], [-2.3703593, 49.4366166], [-2.3703708, 49.4366688], [-2.3702152, 49.4366531], [-2.370007, 49.4367176], [-2.369444, 49.4370179], [-2.3694536, 49.4370459], [-2.3695595, 49.4373527], [-2.3695794, 49.4374119], [-2.3697318, 49.4373874], [-2.3699379, 49.4373006], [-2.3702189, 49.4373091], [-2.3703143, 49.4373856], [-2.3702915, 49.4374525], [-2.3702839, 49.4374748], [-2.3700998, 49.4375706], [-2.370192, 49.4377436], [-2.3701373, 49.4378927], [-2.3703249, 49.4380029], [-2.3704298, 49.4380537], [-2.3706198, 49.438027], [-2.3709459, 49.4378983], [-2.3712311, 49.4380676], [-2.3708624, 49.4383964], [-2.3705331, 49.4384184], [-2.3699604, 49.438097], [-2.3687667, 49.4384688], [-2.3684152, 49.4388665], [-2.3688237, 49.4390288], [-2.3689907, 49.4392102], [-2.368699, 49.4393348], [-2.3685983, 49.4396423], [-2.3682167, 49.4396722], [-2.3680386, 49.4399073], [-2.3676748, 49.4403349], [-2.3675396, 49.4403983], [-2.3672498, 49.4404637], [-2.3669832, 49.440328], [-2.3668005, 49.4402392], [-2.3665299, 49.4402199], [-2.3662824, 49.4402529], [-2.3661507, 49.4403396], [-2.3660284, 49.440423], [-2.3658635, 49.4406036], [-2.365828, 49.4407966], [-2.3659891, 49.4411773], [-2.3659908, 49.4411813], [-2.366116, 49.4411716], [-2.366156, 49.4412347], [-2.3660406, 49.4412992], [-2.3661487, 49.4416639], [-2.3659767, 49.441806], [-2.3656832, 49.4417881], [-2.3658507, 49.4422065], [-2.3662352, 49.4421562], [-2.3665059, 49.442226], [-2.366594, 49.4423386], [-2.3661434, 49.4425952], [-2.3666154, 49.4425537], [-2.366708, 49.4424903], [-2.3669749, 49.442706], [-2.3667013, 49.4428429], [-2.366981, 49.4428536], [-2.3675083, 49.4427893], [-2.3669134, 49.4429992], [-2.3671948, 49.4431636], [-2.3672479, 49.443556], [-2.366971, 49.4436226], [-2.3667962, 49.4438636], [-2.3673678, 49.4436967], [-2.3675255, 49.4437505], [-2.3673394, 49.4437845], [-2.367428, 49.4438244], [-2.3672165, 49.4438614], [-2.367557, 49.4438826], [-2.3675805, 49.4439515], [-2.3679166, 49.4441887], [-2.3678967, 49.444646], [-2.3676392, 49.4448233], [-2.3672747, 49.4448272], [-2.3672755, 49.4451261], [-2.367344, 49.4451625], [-2.3673015, 49.4452476], [-2.3672004, 49.4452813], [-2.3670553, 49.4452703], [-2.367006, 49.4454408], [-2.3668348, 49.44564], [-2.3669794, 49.445765], [-2.3670262, 49.44591], [-2.3668323, 49.4460243], [-2.3666515, 49.4459743], [-2.3663633, 49.4457489], [-2.3661408, 49.4458322], [-2.3661287, 49.4460105], [-2.3665075, 49.4460937], [-2.3667092, 49.446251], [-2.3667831, 49.4464296], [-2.3664367, 49.4465876], [-2.3663335, 49.4465903], [-2.3659738, 49.4466982], [-2.3656227, 49.446763], [-2.3656339, 49.4468327], [-2.3660337, 49.4467647], [-2.366352, 49.4466529], [-2.3664377, 49.4466863], [-2.3664676, 49.4467282], [-2.366293, 49.4467837], [-2.3663037, 49.4468639], [-2.3665562, 49.4467887], [-2.3667274, 49.4468168], [-2.3668184, 49.4468489], [-2.3668295, 49.4469005], [-2.366675, 49.4469218], [-2.3667118, 49.4469844], [-2.3669034, 49.4469714], [-2.3671369, 49.4470688], [-2.3671455, 49.4471759], [-2.3671404, 49.4472458], [-2.367311, 49.4472712], [-2.3671643, 49.4474121], [-2.366922, 49.4474675], [-2.3659766, 49.447661], [-2.3660064, 49.4477353], [-2.3668357, 49.4475881], [-2.366918, 49.4477245], [-2.3666787, 49.4478077], [-2.3666956, 49.4478406], [-2.3667516, 49.447851], [-2.3670013, 49.4477792], [-2.367113, 49.4478525], [-2.3673633, 49.4478333], [-2.367308, 49.4479825], [-2.3669878, 49.4480624], [-2.3670149, 49.4481747], [-2.3673821, 49.4480631], [-2.367502, 49.4481115], [-2.3676342, 49.4482504], [-2.3677785, 49.4482922], [-2.3677361, 49.4485953], [-2.3674904, 49.4486621], [-2.3677493, 49.448652], [-2.3680006, 49.4485998], [-2.367887, 49.4487545], [-2.3677597, 49.4488795], [-2.367492, 49.4488805], [-2.3676864, 49.4491411], [-2.3671438, 49.4492746], [-2.3668704, 49.4490908], [-2.3659344, 49.4491009], [-2.365132, 49.4489965], [-2.364948, 49.448992], [-2.3647911, 49.4489024], [-2.3649223, 49.4487516], [-2.3647595, 49.4481733], [-2.364949, 49.4479695], [-2.3648013, 49.4477891], [-2.3642453, 49.4475294], [-2.3640792, 49.4473178], [-2.364369, 49.4471975], [-2.3643219, 49.4471466], [-2.3640911, 49.4472095], [-2.3638307, 49.4471813], [-2.3635606, 49.4471384], [-2.3633867, 49.4470902], [-2.3633141, 49.4471436], [-2.3630935, 49.4470088], [-2.3628985, 49.446917], [-2.3627786, 49.4470139], [-2.3625918, 49.4470295], [-2.3626126, 49.447173], [-2.3625182, 49.4472246], [-2.3620916, 49.4472569], [-2.3616993, 49.4471897], [-2.3621241, 49.4467907], [-2.3622607, 49.4467525], [-2.3622219, 49.4466914], [-2.3620757, 49.4466996], [-2.3621107, 49.44658], [-2.3623462, 49.4464961], [-2.3624467, 49.4464297], [-2.3625782, 49.4463775], [-2.3623957, 49.4463827], [-2.362289, 49.4464283], [-2.3620741, 49.4464646], [-2.3619482, 49.4464623], [-2.3618794, 49.4464124], [-2.3618852, 49.4463415], [-2.362058, 49.4461891], [-2.3621545, 49.4462033], [-2.3622222, 49.4462741], [-2.3622864, 49.4462329], [-2.3621892, 49.4461035], [-2.3623758, 49.4458801], [-2.3624655, 49.4458088], [-2.3624939, 49.4457343], [-2.3624231, 49.4454114], [-2.3621597, 49.4452281], [-2.3619732, 49.4451914], [-2.3614008, 49.444998], [-2.3610151, 49.444777], [-2.3608362, 49.4447753], [-2.3605985, 49.4447666], [-2.360804, 49.4450789], [-2.3607506, 49.4451193], [-2.3602766, 49.4449787], [-2.3606875, 49.4451671], [-2.3605991, 49.445234], [-2.3598672, 49.4450942], [-2.3598396, 49.4452667], [-2.3597255, 49.4452716], [-2.3595004, 49.4449564], [-2.3598295, 49.4448254], [-2.3597572, 49.4447943], [-2.3595507, 49.4448494], [-2.3594143, 49.4448358], [-2.3592984, 49.444829], [-2.3592441, 49.4448026], [-2.359193, 49.4447346], [-2.3590619, 49.4445883], [-2.3588698, 49.4445589], [-2.3589151, 49.4446252], [-2.3589329, 49.4447294], [-2.3587817, 49.4447309], [-2.3586578, 49.4447663], [-2.3586889, 49.4449003], [-2.3584659, 49.4450821], [-2.3583117, 49.4448674], [-2.3578753, 49.4448695], [-2.3576565, 49.4447905], [-2.3575404, 49.4446244], [-2.3575439, 49.4444557], [-2.3576044, 49.4441299], [-2.3573296, 49.4446303], [-2.3573123, 49.4448869], [-2.3569838, 49.4445904], [-2.3568458, 49.4445502], [-2.3568232, 49.4446497], [-2.356541, 49.4444615], [-2.3562462, 49.4444787], [-2.3562083, 49.4444365], [-2.3562284, 49.4443789], [-2.3563161, 49.4443235], [-2.356151, 49.4442035], [-2.356002, 49.4443307], [-2.3556217, 49.4442915], [-2.3556555, 49.4442289], [-2.3560028, 49.4441317], [-2.3551333, 49.4441766], [-2.3541752, 49.4443706], [-2.3536352, 49.4435514], [-2.3533917, 49.4432265], [-2.3539552, 49.4432386], [-2.3539228, 49.4431444], [-2.3536871, 49.4431042], [-2.3533143, 49.4429174], [-2.3532243, 49.4425581], [-2.3533608, 49.4424584], [-2.3533161, 49.4423423], [-2.353622, 49.4422676], [-2.353819, 49.4421396], [-2.354018, 49.4420126], [-2.3538353, 49.4419738], [-2.3538136, 49.4418573], [-2.3542495, 49.441686], [-2.3534976, 49.4417279], [-2.3535033, 49.4416548], [-2.3539139, 49.441602], [-2.3538868, 49.4414953], [-2.3534767, 49.4414108], [-2.353255, 49.4402146], [-2.352667, 49.4392759], [-2.3531495, 49.439192], [-2.3529306, 49.4386733], [-2.352991, 49.4385825], [-2.3527263, 49.4386725], [-2.3525395, 49.4386312], [-2.3523293, 49.4383026], [-2.3524213, 49.4381495], [-2.3522657, 49.4379194], [-2.352304, 49.4377726], [-2.351128, 49.4375096], [-2.3508135, 49.4373236], [-2.350342, 49.4375056], [-2.3501669, 49.4375039], [-2.3499325, 49.4376249], [-2.3498152, 49.4375415], [-2.3497485, 49.4374165], [-2.3495682, 49.4375218], [-2.349554, 49.4376296], [-2.3496634, 49.4378595], [-2.3491594, 49.4381618], [-2.3486286, 49.4379664], [-2.3482416, 49.4379961], [-2.347839, 49.4376608], [-2.3480876, 49.4375026], [-2.347985, 49.4373646], [-2.3470292, 49.4372916], [-2.3469217, 49.43718], [-2.3469541, 49.4369844], [-2.3467406, 49.4368418], [-2.3464373, 49.4369658], [-2.3456876, 49.4370048], [-2.3454701, 49.4370772], [-2.3449712, 49.4369586], [-2.3450176, 49.436775], [-2.3448786, 49.4365587], [-2.3446702, 49.4363619], [-2.3445463, 49.4357478], [-2.3446197, 49.4356257], [-2.3447614, 49.4355624], [-2.3447841, 49.4354723], [-2.3446799, 49.4354422], [-2.3444554, 49.4352981], [-2.3440305, 49.4351247], [-2.3442078, 49.4350794], [-2.3444614, 49.4351763], [-2.344605, 49.4351462], [-2.3448081, 49.4351875], [-2.3449486, 49.4351012], [-2.3447016, 49.4349641], [-2.344682, 49.4349278], [-2.3447901, 49.4349053], [-2.3448475, 49.4349078], [-2.3450031, 49.4349596], [-2.3449704, 49.4347722], [-2.3447343, 49.4346491], [-2.3444932, 49.4343002], [-2.3445132, 49.4342254], [-2.3444931, 49.4341305], [-2.3443944, 49.4341412], [-2.3443484, 49.4342377], [-2.3442695, 49.4342036], [-2.3443741, 49.4341029], [-2.3445342, 49.4340087], [-2.3448084, 49.4338689], [-2.3449363, 49.4336351], [-2.345248, 49.4334502], [-2.3452551, 49.4333825], [-2.3453121, 49.4333405], [-2.3453923, 49.4333237], [-2.3454807, 49.4332464], [-2.3457461, 49.4331277], [-2.3457899, 49.4329643], [-2.3455831, 49.4329319], [-2.3454662, 49.4331367], [-2.345257, 49.4332005], [-2.3450494, 49.4332557], [-2.344958, 49.4331172], [-2.3450671, 49.433002], [-2.345191, 49.4328416], [-2.3454966, 49.4326288], [-2.3450787, 49.4325941], [-2.3448224, 49.4326591], [-2.3446807, 49.4326119], [-2.3443819, 49.432474], [-2.3441605, 49.4325258], [-2.3440736, 49.432665], [-2.3440879, 49.432734], [-2.34403, 49.432735], [-2.3440206, 49.4325681], [-2.3440692, 49.4325014], [-2.3441268, 49.4325142], [-2.3442234, 49.4324556], [-2.344306, 49.4323535], [-2.3443769, 49.4323292], [-2.344413, 49.4322748], [-2.3444723, 49.4319721], [-2.3444597, 49.4318512], [-2.3442306, 49.4319154], [-2.3441369, 49.4319485], [-2.3440221, 49.4320619], [-2.343968, 49.4321795], [-2.3431023, 49.4322035], [-2.3427077, 49.4322145], [-2.3427551, 49.4326594], [-2.3427621, 49.4327062], [-2.3426119, 49.4327096], [-2.3425513, 49.4322136], [-2.3425382, 49.4321062], [-2.3424, 49.4320162], [-2.3424694, 49.4319156], [-2.3425815, 49.4319103], [-2.3425852, 49.4317656], [-2.3426299, 49.4316107], [-2.3428128, 49.4314631], [-2.3428859, 49.4313447], [-2.3426911, 49.4311819], [-2.3425197, 49.4311094], [-2.3424027, 49.4310332], [-2.3423854, 49.430908], [-2.3421506, 49.4306561], [-2.3422353, 49.430618], [-2.3422976, 49.4305248], [-2.3421264, 49.4305306], [-2.3420421, 49.4304629], [-2.3422834, 49.4304154], [-2.3424965, 49.4303595], [-2.3424844, 49.4303051], [-2.3432094, 49.4298969], [-2.3432605, 49.4299225], [-2.3432799, 49.4299865], [-2.3432248, 49.4300166], [-2.3431743, 49.430005], [-2.3426862, 49.4303043], [-2.3428795, 49.4305304], [-2.3430875, 49.4304561], [-2.3432108, 49.4304526], [-2.3432937, 49.4304893], [-2.3434111, 49.4305589], [-2.3435235, 49.4306302], [-2.3435712, 49.4306261], [-2.3437651, 49.4305444], [-2.3436488, 49.4304001], [-2.3435947, 49.430333], [-2.3435829, 49.4301706], [-2.3436223, 49.430143], [-2.3435947, 49.4301095], [-2.3433772, 49.4298453], [-2.3434342, 49.4298254], [-2.3435342, 49.4298886], [-2.3436298, 49.4298905], [-2.3437377, 49.429963], [-2.3438364, 49.4299388], [-2.3441039, 49.4300329], [-2.3442238, 49.4300355], [-2.3442587, 49.4299605], [-2.34415, 49.4298541], [-2.3439105, 49.4295864], [-2.3437706, 49.4294435], [-2.3439046, 49.4293534], [-2.3438833, 49.4291417], [-2.3439811, 49.429043], [-2.3442828, 49.4290447], [-2.3443694, 49.4288847], [-2.3446665, 49.4288312], [-2.3448541, 49.4288074], [-2.3448065, 49.428781], [-2.3446727, 49.4287314], [-2.3444576, 49.4287827], [-2.3441443, 49.4286623], [-2.3440575, 49.4285806], [-2.3438215, 49.4284603], [-2.343822, 49.4283618], [-2.3434017, 49.4284013], [-2.3432878, 49.4284265], [-2.343311, 49.4283233], [-2.3432478, 49.4282635], [-2.3432823, 49.4281951], [-2.3431885, 49.4282073], [-2.3431028, 49.428191], [-2.3430635, 49.4281105], [-2.3431564, 49.4279974], [-2.3434634, 49.4278936], [-2.3436196, 49.4279295], [-2.3438492, 49.4280499], [-2.3439564, 49.4280848], [-2.3440768, 49.4281723], [-2.3441039, 49.4282297], [-2.3443251, 49.4283513], [-2.344228, 49.4282311], [-2.344155, 49.4281094], [-2.3441299, 49.4280468], [-2.3441754, 49.4279583], [-2.3442754, 49.4279086], [-2.3444197, 49.4278159], [-2.3445206, 49.42779], [-2.3447602, 49.4278706], [-2.344772, 49.4277443], [-2.344825, 49.4276035], [-2.3449052, 49.4276472], [-2.3449864, 49.4278008], [-2.3450077, 49.4276961], [-2.345068, 49.4276618], [-2.3449267, 49.4274548], [-2.345057, 49.427307], [-2.3450688, 49.4272298], [-2.3451948, 49.4272565], [-2.3453208, 49.4271833], [-2.3453084, 49.4271004], [-2.3454535, 49.4269811], [-2.3455776, 49.4269068], [-2.3458842, 49.4268554], [-2.3460792, 49.4268206], [-2.3461283, 49.4268373], [-2.346315, 49.4269291], [-2.3462675, 49.4267869], [-2.3464209, 49.4267595], [-2.3462497, 49.4265173], [-2.3463462, 49.426435], [-2.3464327, 49.4264668], [-2.3465624, 49.426544], [-2.3466481, 49.4266747], [-2.346748, 49.4266915], [-2.3469586, 49.4266796], [-2.3469236, 49.4265766], [-2.346693, 49.4264597], [-2.34661, 49.4264097], [-2.3465854, 49.4263341], [-2.3465521, 49.4262564], [-2.3466136, 49.4260039], [-2.3468831, 49.4258325], [-2.3472894, 49.4258247], [-2.3476411, 49.4258173], [-2.3476645, 49.4256573], [-2.3478088, 49.4255528], [-2.347789, 49.4253252], [-2.3478236, 49.4251039], [-2.3480595, 49.4251056], [-2.3480856, 49.4249859], [-2.3478785, 49.4250175], [-2.347751, 49.4249555], [-2.3472914, 49.4247706], [-2.3472735, 49.424678], [-2.3471289, 49.4246286], [-2.3470297, 49.424542], [-2.3470837, 49.4243762], [-2.3468349, 49.4244272], [-2.3469331, 49.4240746], [-2.3467561, 49.4240397], [-2.3466379, 49.4238757], [-2.3466153, 49.4237262], [-2.3468341, 49.4235719], [-2.34699, 49.4235157], [-2.3472362, 49.423682], [-2.34732, 49.4236822], [-2.3473915, 49.4235633], [-2.3475434, 49.4235204], [-2.3476816, 49.4235685], [-2.3477205, 49.4237785], [-2.3478532, 49.4236492], [-2.347927, 49.4235264], [-2.3479633, 49.4232964], [-2.3481113, 49.4231728], [-2.3483064, 49.4230085], [-2.3483565, 49.4229712], [-2.3484463, 49.423014], [-2.3485493, 49.4229564], [-2.3485692, 49.4228132], [-2.3486718, 49.4228319], [-2.3489039, 49.4229369], [-2.3490062, 49.4231324], [-2.3489057, 49.4232783], [-2.3487361, 49.4232687], [-2.3481755, 49.4237138], [-2.3481667, 49.4237901], [-2.3480222, 49.4238496], [-2.3481613, 49.4238371], [-2.3484676, 49.4238369], [-2.34875, 49.4240272], [-2.3486869, 49.4243139], [-2.3485477, 49.4244688], [-2.3486692, 49.424544], [-2.3489308, 49.4244104], [-2.349138, 49.4245537], [-2.3489922, 49.4247272], [-2.3490666, 49.4248708], [-2.349009, 49.425027], [-2.3491671, 49.4250648], [-2.3489669, 49.4252646], [-2.3493251, 49.4253698], [-2.3495662, 49.4254865], [-2.349518, 49.4255807], [-2.349514, 49.4258377], [-2.349703, 49.4263507], [-2.3501297, 49.4263785], [-2.3504521, 49.4261136], [-2.3508901, 49.4260512], [-2.3510467, 49.4260442], [-2.3511137, 49.4261803], [-2.3512529, 49.4261919], [-2.3512747, 49.4259676], [-2.3514225, 49.4259377], [-2.3519991, 49.4257405], [-2.352074, 49.425774], [-2.3523392, 49.425963], [-2.3522358, 49.4257439], [-2.3522378, 49.4256605], [-2.3525794, 49.425705], [-2.3522633, 49.4255871], [-2.3522371, 49.4253429], [-2.3523318, 49.4252483], [-2.3525078, 49.425398], [-2.3527181, 49.4254679], [-2.3528919, 49.4254793], [-2.3529989, 49.4253928], [-2.3528423, 49.4253005], [-2.3526607, 49.4252853], [-2.3525775, 49.4251877], [-2.3526404, 49.4251125], [-2.3526508, 49.4250113], [-2.3527235, 49.4249835], [-2.352812, 49.4248963], [-2.3528069, 49.4246903], [-2.3528926, 49.4246061], [-2.3531605, 49.4244369], [-2.3531474, 49.4241821], [-2.3531314, 49.4236975], [-2.3532836, 49.4235634], [-2.353406, 49.4236135], [-2.3535682, 49.4235597], [-2.3537155, 49.4236561], [-2.353847, 49.4237485], [-2.3538882, 49.4236949], [-2.3536984, 49.4233992], [-2.3538203, 49.4232697], [-2.3538465, 49.4231795], [-2.3538819, 49.4230608], [-2.353961, 49.4230565], [-2.35404, 49.4230885], [-2.354135, 49.4232588], [-2.3541861, 49.42325], [-2.3541067, 49.423061], [-2.3541644, 49.423009], [-2.354338, 49.4229684], [-2.3544481, 49.4229004], [-2.3544187, 49.4228624], [-2.3542814, 49.4228673], [-2.3542598, 49.4228065], [-2.35447, 49.4225327], [-2.3549652, 49.4225133], [-2.3550938, 49.4224403], [-2.3555271, 49.4223762], [-2.3555596, 49.4223322], [-2.3557395, 49.4223321], [-2.355649, 49.4225387], [-2.3555876, 49.4225901], [-2.3554938, 49.4225812], [-2.3554015, 49.422737], [-2.3555557, 49.4226964], [-2.3556325, 49.4227081], [-2.3556121, 49.4227852], [-2.3555349, 49.422849], [-2.3556064, 49.4228953], [-2.3557804, 49.4227941], [-2.3559056, 49.4227835], [-2.3559866, 49.4228267], [-2.3558725, 49.4229596], [-2.3559885, 49.4230084], [-2.3559939, 49.4235397], [-2.3561417, 49.4234717], [-2.356225, 49.4235677], [-2.3561156, 49.4238157], [-2.3560455, 49.4240463], [-2.3567778, 49.4242225], [-2.3570154, 49.4242792], [-2.3571546, 49.424194], [-2.3572396, 49.4241631], [-2.3572945, 49.4241832], [-2.3572473, 49.4242416], [-2.3573466, 49.4242643], [-2.3585636, 49.4241508], [-2.3585648, 49.4240374], [-2.3587037, 49.424027], [-2.3587362, 49.424118], [-2.3589371, 49.4240969], [-2.3590826, 49.4240666], [-2.3590942, 49.4239582], [-2.3590316, 49.4238174], [-2.3591323, 49.4237741], [-2.3592973, 49.4237678], [-2.3593796, 49.4238107], [-2.3593697, 49.4238981], [-2.359544, 49.4239188], [-2.3596938, 49.4237129], [-2.3599039, 49.4235014], [-2.3600903, 49.4234287], [-2.3601524, 49.4234529], [-2.3602037, 49.4234318], [-2.3601827, 49.423379], [-2.360158, 49.4233327], [-2.3600901, 49.4231944], [-2.3601095, 49.4230603], [-2.3600436, 49.4230102], [-2.3599268, 49.4229995], [-2.359875, 49.422671], [-2.3598707, 49.4226363], [-2.3598277, 49.422533], [-2.3598609, 49.4225227], [-2.3599293, 49.4226089], [-2.3600158, 49.4225369], [-2.3599275, 49.4222474], [-2.3598549, 49.4222018], [-2.3598501, 49.4221056], [-2.3598946, 49.4220381], [-2.3599374, 49.4218767], [-2.3600925, 49.4218978], [-2.3603081, 49.4220187], [-2.3603986, 49.4220951], [-2.360467, 49.4220584], [-2.360464, 49.4219524], [-2.3604964, 49.4218685], [-2.360478, 49.4218304], [-2.3605369, 49.4218076], [-2.3610521, 49.4217753], [-2.3611168, 49.4215997], [-2.3613061, 49.4214131], [-2.361481, 49.4214401], [-2.3614406, 49.4213531], [-2.3613068, 49.4213342], [-2.3612894, 49.4212582], [-2.361622, 49.4211902], [-2.3617793, 49.4211447], [-2.3618902, 49.4211344], [-2.3618793, 49.421214], [-2.3620326, 49.4212445], [-2.3622162, 49.4212175], [-2.3622116, 49.4211644], [-2.3623784, 49.4211571], [-2.3624491, 49.4211853], [-2.3625936, 49.421203], [-2.362647, 49.4211084], [-2.3628106, 49.4209644], [-2.3629545, 49.420822], [-2.3629421, 49.4207593], [-2.3629439, 49.4207023], [-2.3630408, 49.4206791], [-2.363335, 49.4207868], [-2.3633765, 49.4206757], [-2.3633246, 49.4204276], [-2.3633572, 49.4203614], [-2.3634764, 49.4203442], [-2.3639531, 49.4203092], [-2.3637375, 49.4202885], [-2.3636118, 49.4202551], [-2.363641, 49.4202225], [-2.3639553, 49.4201939], [-2.3640657, 49.4201425], [-2.3642352, 49.4201836], [-2.3643632, 49.4202323], [-2.364412, 49.4202954], [-2.3645883, 49.4202829], [-2.3647198, 49.4202934], [-2.3648017, 49.4203074], [-2.3649711, 49.4204028], [-2.3651139, 49.4205188], [-2.365415, 49.4203476], [-2.3655907, 49.4202059], [-2.3656937, 49.4200754], [-2.3654747, 49.4198519], [-2.3654177, 49.4197284], [-2.3653213, 49.4196953], [-2.36531, 49.4196234], [-2.3653343, 49.4195205], [-2.3652997, 49.4194752], [-2.3653635, 49.4194192], [-2.3656101, 49.4194424], [-2.3659191, 49.4193669], [-2.3659736, 49.4191465], [-2.3658019, 49.4188888], [-2.3657569, 49.4185185], [-2.3660897, 49.4181067], [-2.366512, 49.4182408], [-2.3665623, 49.4180898], [-2.3666382, 49.4179467], [-2.3664014, 49.4176948], [-2.3662944, 49.4174793], [-2.365973, 49.4173533], [-2.365935, 49.4172128], [-2.3657349, 49.4168876], [-2.3660669, 49.4168164], [-2.3662949, 49.4167982], [-2.3658767, 49.4165503], [-2.3658489, 49.4164346], [-2.3660272, 49.4164878], [-2.3660286, 49.4162116], [-2.3662034, 49.416372], [-2.3663735, 49.4167134], [-2.3664497, 49.4166799], [-2.3665409, 49.4165124], [-2.366348, 49.416031], [-2.3667782, 49.4160551], [-2.3667305, 49.4162254], [-2.3668364, 49.4163168], [-2.367006, 49.4162877], [-2.367125, 49.4163208], [-2.3676789, 49.4160828], [-2.3675601, 49.4159752], [-2.3678334, 49.4157797], [-2.3677208, 49.4156192], [-2.367566, 49.4156017], [-2.3675869, 49.4153922], [-2.3677811, 49.4154128], [-2.3679882, 49.4154693], [-2.3680644, 49.4156091], [-2.3681727, 49.4156044], [-2.3682953, 49.4155038], [-2.368549, 49.4153672], [-2.3687846, 49.4149937], [-2.368572, 49.4148294], [-2.368915, 49.4146648], [-2.3688754, 49.4126837], [-2.3685247, 49.4122748], [-2.3687945, 49.4120573], [-2.3688676, 49.4120846], [-2.368928, 49.4120511], [-2.3689621, 49.4119504], [-2.36885, 49.4118936], [-2.3688848, 49.411756], [-2.3684714, 49.4115736], [-2.3683961, 49.4115304], [-2.3684136, 49.4113413], [-2.3687623, 49.4113414], [-2.3686125, 49.4109565], [-2.3686856, 49.4106935], [-2.3689926, 49.4103829], [-2.3692676, 49.4101608], [-2.3696113, 49.4100347], [-2.3698738, 49.4100247], [-2.3699274, 49.4099305], [-2.3701286, 49.4099078], [-2.3703271, 49.4099444], [-2.3704022, 49.4098973], [-2.3705873, 49.409941], [-2.3705551, 49.4100474], [-2.3707707, 49.4100804], [-2.3706201, 49.4098648], [-2.3707946, 49.409704], [-2.3708994, 49.4098521], [-2.3709259, 49.409692], [-2.3708428, 49.4096153], [-2.3708902, 49.4094783], [-2.3709581, 49.4093552], [-2.3708964, 49.4092261], [-2.3709313, 49.4091441], [-2.3710531, 49.4091199], [-2.3710788, 49.4090603], [-2.3712317, 49.4090201], [-2.3714972, 49.4090603], [-2.3714433, 49.4091715], [-2.3717183, 49.4091319], [-2.3718725, 49.4092714], [-2.3721422, 49.4091888], [-2.3724168, 49.4092705], [-2.3725352, 49.4091004], [-2.3727318, 49.4091023], [-2.372723, 49.408973], [-2.3729585, 49.4089403], [-2.3730851, 49.4088735], [-2.3732627, 49.4089312], [-2.3732756, 49.4088448], [-2.3735299, 49.408754], [-2.373767, 49.4087577], [-2.3738282, 49.4087191], [-2.3737868, 49.4086846], [-2.3736629, 49.4086846], [-2.3735299, 49.4086565], [-2.3732987, 49.4084575], [-2.3732272, 49.4082732], [-2.3731704, 49.4080172], [-2.3735368, 49.4079228], [-2.3737942, 49.4078126], [-2.3740746, 49.4079597], [-2.3741714, 49.4079346], [-2.3740694, 49.4077374], [-2.3741606, 49.4076641], [-2.3742633, 49.4077486], [-2.3745901, 49.4076226], [-2.374563, 49.4075193], [-2.3747427, 49.4074861], [-2.3749117, 49.4074878], [-2.3750863, 49.4074413], [-2.3753703, 49.4074547], [-2.3755286, 49.407425], [-2.3755929, 49.4074512], [-2.3754889, 49.4076439], [-2.3752771, 49.4079843], [-2.3750967, 49.4081493], [-2.3749325, 49.4082427], [-2.3749599, 49.4082941], [-2.3751039, 49.4082884], [-2.37531, 49.4081519], [-2.3755793, 49.4079864], [-2.3758585, 49.4079111], [-2.3760033, 49.4078631], [-2.3760604, 49.4078745], [-2.3761361, 49.4079242], [-2.3762219, 49.408083], [-2.3762876, 49.4080969], [-2.3763252, 49.4080297], [-2.3762246, 49.407925], [-2.376171, 49.4078177], [-2.3762099, 49.4077688], [-2.3764193, 49.4076344], [-2.3766082, 49.4075803], [-2.3767476, 49.4075707], [-2.3768207, 49.407606], [-2.3769729, 49.4076336], [-2.3770601, 49.4077187], [-2.3770426, 49.4078255], [-2.3769684, 49.4081215], [-2.377553, 49.4079718], [-2.3774621, 49.4082879], [-2.3775765, 49.4083305], [-2.3777856, 49.4083011], [-2.3780342, 49.4082903], [-2.3784823, 49.4083044], [-2.3786379, 49.408475], [-2.3786475, 49.4085928], [-2.3785494, 49.4086931], [-2.3783804, 49.4087193], [-2.3782288, 49.4087885], [-2.3776911, 49.4088119], [-2.3773022, 49.4087944], [-2.3772157, 49.4088274], [-2.3770045, 49.4088048], [-2.376932, 49.4088729], [-2.3766333, 49.4090163], [-2.3769075, 49.4091063], [-2.3772107, 49.4089735], [-2.3776133, 49.4089916], [-2.3779642, 49.4090449], [-2.3781524, 49.4090003], [-2.3782141, 49.4090212], [-2.3781819, 49.4090945], [-2.3779563, 49.4091898], [-2.3777421, 49.409365], [-2.3775436, 49.4094052], [-2.3774995, 49.4095041], [-2.3776831, 49.4095308], [-2.3778098, 49.409509], [-2.3779379, 49.4094942], [-2.3780264, 49.4093982], [-2.3783456, 49.4093738], [-2.3784126, 49.4094528], [-2.3780237, 49.4096984], [-2.3777716, 49.409744], [-2.3772577, 49.4100235], [-2.3769443, 49.4104192], [-2.3764344, 49.4109596], [-2.3762829, 49.4109767], [-2.3761569, 49.41094], [-2.3760603, 49.4109662], [-2.3758488, 49.4110374], [-2.3759745, 49.4110901], [-2.3761032, 49.4111931], [-2.3762339, 49.4112336], [-2.3764234, 49.4112575], [-2.3768328, 49.4114393], [-2.3769991, 49.4113536], [-2.3770796, 49.4111896], [-2.3771654, 49.4111704], [-2.3772394, 49.4110272], [-2.3775248, 49.4108912], [-2.3778739, 49.4107799], [-2.3782705, 49.4106835], [-2.3786638, 49.4106371], [-2.3791636, 49.410694], [-2.3793219, 49.410687], [-2.3793863, 49.4106695], [-2.379476, 49.4106756], [-2.3795592, 49.4107239], [-2.3796417, 49.4107122], [-2.3799803, 49.4107348], [-2.3800601, 49.4107239], [-2.3802895, 49.4107778], [-2.3804175, 49.4108422], [-2.3804323, 49.4108884], [-2.380412, 49.4110249], [-2.3805517, 49.4110149], [-2.3806241, 49.411076], [-2.3806308, 49.4111903], [-2.3804873, 49.4112784], [-2.3804417, 49.4113862], [-2.3803371, 49.411388], [-2.3803398, 49.4114543], [-2.3806925, 49.411456], [-2.3807662, 49.4115616], [-2.3807314, 49.4116131], [-2.3806429, 49.4116462], [-2.3805597, 49.4116], [-2.3804551, 49.4116009], [-2.3802946, 49.4115209], [-2.3802526, 49.4116262], [-2.3802767, 49.4116488], [-2.3802781, 49.4116881], [-2.380325, 49.4117378], [-2.3804001, 49.4116445], [-2.3804699, 49.4116951], [-2.3805034, 49.4117448], [-2.380542, 49.4118314], [-2.3805436, 49.4119534], [-2.3804471, 49.4120275], [-2.3803883, 49.4121616], [-2.3806424, 49.4123077], [-2.3808802, 49.412418], [-2.3807987, 49.4126699], [-2.3809918, 49.4126806], [-2.3811441, 49.4127464], [-2.3810881, 49.4126101], [-2.3812423, 49.4124895], [-2.3813952, 49.4125751], [-2.3814952, 49.4125788], [-2.3813898, 49.4124546], [-2.3813561, 49.4123682], [-2.3815377, 49.4121623], [-2.3817332, 49.4120288], [-2.3820129, 49.4118986], [-2.3820953, 49.4119224], [-2.3822294, 49.4121091], [-2.382342, 49.4122574], [-2.3824547, 49.4122836], [-2.3823233, 49.4119852], [-2.3822642, 49.4119555], [-2.382228, 49.4118809], [-2.3822642, 49.4118491], [-2.3823595, 49.4118268], [-2.3826207, 49.411863], [-2.3827082, 49.4120066], [-2.3827457, 49.41223], [-2.382987, 49.4124021], [-2.3829281, 49.4124542], [-2.3828986, 49.4126819], [-2.3827806, 49.412808], [-2.382689, 49.4129448], [-2.3826746, 49.4130532], [-2.3827564, 49.4131631], [-2.3827796, 49.4132833], [-2.3828718, 49.4134958], [-2.3829952, 49.4135935], [-2.3829952, 49.4136982], [-2.3831508, 49.4137401], [-2.3832044, 49.4138029], [-2.3831856, 49.4139198], [-2.3830381, 49.4140524], [-2.3828423, 49.4140036], [-2.3827993, 49.4141144], [-2.382474, 49.4143528], [-2.3824641, 49.4144799], [-2.3822549, 49.4145358], [-2.3819035, 49.4144677], [-2.3818097, 49.4144956], [-2.3818177, 49.4145881], [-2.3817339, 49.4146486], [-2.3816219, 49.4147783], [-2.3812884, 49.4149561], [-2.381174, 49.4151518], [-2.3809652, 49.4152228], [-2.3803, 49.4154958], [-2.3797863, 49.4156551], [-2.3797967, 49.4157132], [-2.3798181, 49.4157839], [-2.3797788, 49.4158846], [-2.3798641, 49.4160505], [-2.3798986, 49.4161538], [-2.3798695, 49.4162393], [-2.3796947, 49.4163549], [-2.3795298, 49.4163837], [-2.3794842, 49.4164509], [-2.3794131, 49.416477], [-2.3793916, 49.416566], [-2.3792877, 49.4166235], [-2.3792495, 49.4165748], [-2.3792575, 49.4164605], [-2.379398, 49.4161905], [-2.3792191, 49.4161114], [-2.379228, 49.4161682], [-2.3791945, 49.4162842], [-2.3791757, 49.4164142], [-2.3791583, 49.4165015], [-2.3791034, 49.4165988], [-2.3790859, 49.4166463], [-2.3790269, 49.4166777], [-2.3790135, 49.4167344], [-2.3788485, 49.4168382], [-2.3785812, 49.4169021], [-2.3785964, 49.4171929], [-2.3785655, 49.4173063], [-2.3785119, 49.4174267], [-2.3783831, 49.4176405], [-2.378245, 49.4176178], [-2.3781596, 49.4174994], [-2.37795, 49.4175236], [-2.3777796, 49.4177347], [-2.3776093, 49.4177809], [-2.3774605, 49.4176946], [-2.3772258, 49.4177425], [-2.3771331, 49.4176616], [-2.3765111, 49.4178197], [-2.3765914, 49.4179484], [-2.3767094, 49.4179415], [-2.3767349, 49.4179964], [-2.3767269, 49.4180348], [-2.3766451, 49.4180671], [-2.3766665, 49.4181788], [-2.3765525, 49.41817], [-2.3764542, 49.418081], [-2.3763004, 49.4180453], [-2.3761918, 49.4181343], [-2.3760586, 49.4181404], [-2.3759651, 49.4179423], [-2.3758421, 49.4178729], [-2.3757493, 49.4180052], [-2.3756768, 49.41817], [-2.3754448, 49.418348], [-2.3752969, 49.4183378], [-2.3751631, 49.4182747], [-2.3750411, 49.4182712], [-2.3749181, 49.4182114], [-2.3748171, 49.4181264], [-2.3748104, 49.4179292], [-2.374758, 49.4177543], [-2.3745581, 49.4179167], [-2.3744926, 49.4179947], [-2.3741966, 49.4180202], [-2.3743303, 49.4179083], [-2.3742342, 49.417846], [-2.3740581, 49.4177914], [-2.3738766, 49.4177817], [-2.3738435, 49.4178106], [-2.3738662, 49.4179069], [-2.3737952, 49.4180496], [-2.3738743, 49.4181622], [-2.3737288, 49.4181592], [-2.3734553, 49.4180717], [-2.3733418, 49.4181448], [-2.3734023, 49.4183122], [-2.3734757, 49.418388], [-2.3733151, 49.4184536], [-2.3733004, 49.4185208], [-2.3732777, 49.4186043], [-2.373232, 49.4186429], [-2.3731975, 49.4187225], [-2.3733364, 49.4188007], [-2.3734693, 49.418779], [-2.3736128, 49.4189151], [-2.3737617, 49.4189177], [-2.373967, 49.4190638], [-2.3740111, 49.4191559], [-2.3740004, 49.4192231], [-2.3736377, 49.4191425], [-2.373523, 49.4190433], [-2.3734143, 49.4190119], [-2.3734386, 49.4190736], [-2.3735145, 49.4192657], [-2.3736852, 49.4193788], [-2.3737094, 49.4194433], [-2.3738636, 49.4194669], [-2.3740165, 49.4194695], [-2.3740541, 49.4196004], [-2.3739437, 49.4198297], [-2.37381, 49.4199048], [-2.3736852, 49.4199266], [-2.3736504, 49.4199589], [-2.3736182, 49.4200191], [-2.3737094, 49.4200113], [-2.3737872, 49.4201046], [-2.3737054, 49.4201858], [-2.373696, 49.4202564], [-2.3736316, 49.4202704], [-2.3734861, 49.4202237], [-2.3734117, 49.4200636], [-2.3734586, 49.4199668], [-2.3733553, 49.4197557], [-2.3733768, 49.4196728], [-2.3733674, 49.4196012], [-2.3733272, 49.4195812], [-2.3732735, 49.4194782], [-2.3731703, 49.4194093], [-2.3731072, 49.4193317], [-2.3731287, 49.4192654], [-2.3731099, 49.4192113], [-2.3730496, 49.4191127], [-2.372954, 49.4189798], [-2.3728564, 49.4189234], [-2.3728189, 49.4189714], [-2.3726137, 49.4191371], [-2.3723057, 49.419258], [-2.3715452, 49.4191367], [-2.3708361, 49.4190627], [-2.3706373, 49.4188144], [-2.3704134, 49.4187877], [-2.3703959, 49.4191718], [-2.3702122, 49.4192679], [-2.3698541, 49.4191231], [-2.3692584, 49.4194693], [-2.3687195, 49.4196249], [-2.3684162, 49.4197532], [-2.3683041, 49.4198188], [-2.3683051, 49.4198799], [-2.3681756, 49.4200501], [-2.3680123, 49.4202389], [-2.3680904, 49.4203114], [-2.3680466, 49.420332], [-2.3679637, 49.4202855], [-2.3677509, 49.420297], [-2.3678078, 49.4203293], [-2.3678162, 49.4203635], [-2.3677158, 49.4203597], [-2.3675071, 49.4204193], [-2.3674784, 49.4205048], [-2.3673982, 49.4209204], [-2.3673726, 49.4211868], [-2.3674556, 49.4213123], [-2.3675264, 49.4213684], [-2.367676, 49.4215114], [-2.3679163, 49.4216687], [-2.3680453, 49.4216896], [-2.3681856, 49.4216465], [-2.3682548, 49.4216821], [-2.3683071, 49.42165], [-2.3683092, 49.4216191], [-2.368387, 49.4215983], [-2.3685429, 49.4216203], [-2.3686355, 49.4216013], [-2.3688588, 49.4215715], [-2.3689495, 49.4215722], [-2.3691531, 49.4216038], [-2.369414, 49.4217168], [-2.3693743, 49.4217808], [-2.369436, 49.4218009], [-2.3695559, 49.4218719], [-2.369678, 49.4219661], [-2.3696822, 49.4220669], [-2.3695996, 49.422074], [-2.369635, 49.4221266], [-2.3695996, 49.4221752], [-2.3696897, 49.4222449], [-2.3696961, 49.422395], [-2.3696257, 49.4225201], [-2.3695179, 49.4226065], [-2.3694333, 49.4226462], [-2.3684604, 49.422338], [-2.3683161, 49.422449], [-2.3686245, 49.4226023], [-2.3689738, 49.4230888], [-2.3689864, 49.4235069], [-2.3690863, 49.4235402], [-2.3692369, 49.4236926]]], &quot;type&quot;: &quot;Polygon&quot;}, &quot;id&quot;: &quot;34&quot;, &quot;properties&quot;: {&quot;FID&quot;: 34}, &quot;type&quot;: &quot;Feature&quot;}, {&quot;bbox&quot;: [-2.3685316, 49.4000521, -2.3663915, 49.402463], &quot;geometry&quot;: {&quot;coordinates&quot;: [[[-2.3680812, 49.400072], [-2.3683393, 49.4000521], [-2.3684943, 49.400118], [-2.3684112, 49.400244], [-2.3680904, 49.4003148], [-2.3684938, 49.400421], [-2.3684712, 49.4006856], [-2.3680297, 49.40086], [-2.3681113, 49.4009776], [-2.3685316, 49.4009608], [-2.3684834, 49.4014237], [-2.3681775, 49.4018266], [-2.3677803, 49.4021005], [-2.3675003, 49.4021389], [-2.367518, 49.402463], [-2.3667764, 49.402463], [-2.3663915, 49.4020277], [-2.3665267, 49.4016353], [-2.3665178, 49.401433], [-2.3666444, 49.4012152], [-2.3669435, 49.4011602], [-2.3667088, 49.4009903], [-2.3668252, 49.4006868], [-2.3669834, 49.4006079], [-2.3673332, 49.40064], [-2.3672852, 49.4004695], [-2.3674507, 49.4003667], [-2.3678377, 49.4002822], [-2.3678696, 49.4000884], [-2.3680812, 49.400072]]], &quot;type&quot;: &quot;Polygon&quot;}, &quot;id&quot;: &quot;35&quot;, &quot;properties&quot;: {&quot;FID&quot;: 35}, &quot;type&quot;: &quot;Feature&quot;}, {&quot;bbox&quot;: [-1.9830398, 49.2924815, -1.9827145, 49.2927771], &quot;geometry&quot;: {&quot;coordinates&quot;: [[[-1.9830398, 49.2927514], [-1.9828543, 49.2927771], [-1.9827145, 49.2925089], [-1.9828257, 49.2924815], [-1.9830233, 49.2925889], [-1.9830398, 49.2927514]]], &quot;type&quot;: &quot;Polygon&quot;}, &quot;id&quot;: &quot;36&quot;, &quot;properties&quot;: {&quot;FID&quot;: 36}, &quot;type&quot;: &quot;Feature&quot;}, {&quot;bbox&quot;: [-1.9310725, 49.292025, -1.9296927, 49.2926822], &quot;geometry&quot;: {&quot;coordinates&quot;: [[[-1.9296927, 49.2923008], [-1.9298267, 49.2921405], [-1.9299486, 49.2921229], [-1.9305736, 49.292025], [-1.9308865, 49.2921062], [-1.9310725, 49.2922156], [-1.9309877, 49.2923221], [-1.9308981, 49.2923836], [-1.9307613, 49.2923363], [-1.9306809, 49.2924553], [-1.9307828, 49.2925725], [-1.9306433, 49.2926008], [-1.9305468, 49.2925235], [-1.9303611, 49.2923833], [-1.9301149, 49.2924238], [-1.9299567, 49.2926775], [-1.9298501, 49.2926822], [-1.9296927, 49.2923008]]], &quot;type&quot;: &quot;Polygon&quot;}, &quot;id&quot;: &quot;37&quot;, &quot;properties&quot;: {&quot;FID&quot;: 37}, &quot;type&quot;: &quot;Feature&quot;}, {&quot;bbox&quot;: [-1.9314614, 49.2914302, -1.9309906, 49.2917608], &quot;geometry&quot;: {&quot;coordinates&quot;: [[[-1.9310935, 49.2914526], [-1.9312388, 49.2914302], [-1.9313644, 49.2914533], [-1.9314614, 49.2914967], [-1.9314587, 49.2916174], [-1.9314489, 49.2917408], [-1.9313246, 49.2917608], [-1.9311824, 49.2917363], [-1.9309906, 49.2916454], [-1.9310935, 49.2914526]]], &quot;type&quot;: &quot;Polygon&quot;}, &quot;id&quot;: &quot;38&quot;, &quot;properties&quot;: {&quot;FID&quot;: 38}, &quot;type&quot;: &quot;Feature&quot;}, {&quot;bbox&quot;: [-1.947531, 49.2913602, -1.9469377, 49.2917509], &quot;geometry&quot;: {&quot;coordinates&quot;: [[[-1.9470699, 49.2917394], [-1.9469679, 49.2916408], [-1.9469377, 49.2915631], [-1.9469968, 49.2914952], [-1.9470823, 49.2914203], [-1.9472086, 49.2913602], [-1.9475094, 49.2915571], [-1.947531, 49.2917509], [-1.9470699, 49.2917394]]], &quot;type&quot;: &quot;Polygon&quot;}, &quot;id&quot;: &quot;39&quot;, &quot;properties&quot;: {&quot;FID&quot;: 39}, &quot;type&quot;: &quot;Feature&quot;}, {&quot;bbox&quot;: [-1.9272649, 49.2836782, -1.9253272, 49.2866104], &quot;geometry&quot;: {&quot;coordinates&quot;: [[[-1.9260625, 49.2836782], [-1.9263215, 49.2837691], [-1.9266223, 49.2839363], [-1.9268128, 49.2841304], [-1.9266513, 49.2844921], [-1.9266043, 49.2847263], [-1.9265074, 49.2850194], [-1.926709, 49.2851886], [-1.9269497, 49.2853714], [-1.9268187, 49.2855225], [-1.9267887, 49.2860545], [-1.9269446, 49.2862903], [-1.9271055, 49.2863165], [-1.9272649, 49.2864414], [-1.9270365, 49.28661], [-1.9268185, 49.2866104], [-1.9265604, 49.2864435], [-1.9267219, 49.2863463], [-1.9267165, 49.2860873], [-1.926533, 49.2856143], [-1.9257154, 49.2853585], [-1.9254835, 49.2851878], [-1.9254291, 49.2850446], [-1.925692, 49.2849536], [-1.9257333, 49.284823], [-1.9254614, 49.2846974], [-1.9254935, 49.2842782], [-1.9253272, 49.284238], [-1.9253889, 49.2841593], [-1.9256216, 49.2841558], [-1.9254774, 49.2840228], [-1.9255554, 49.2839028], [-1.925704, 49.283837], [-1.9259096, 49.2837459], [-1.9260625, 49.2836782]]], &quot;type&quot;: &quot;Polygon&quot;}, &quot;id&quot;: &quot;40&quot;, &quot;properties&quot;: {&quot;FID&quot;: 40}, &quot;type&quot;: &quot;Feature&quot;}, {&quot;bbox&quot;: [-2.162572, 49.1836675, -2.1596839, 49.1855819], &quot;geometry&quot;: {&quot;coordinates&quot;: [[[-2.1600967, 49.1847614], [-2.1598414, 49.1845989], [-2.1596839, 49.184405], [-2.159839, 49.1843579], [-2.160315, 49.1844902], [-2.1603655, 49.1843513], [-2.1606995, 49.1842556], [-2.1608544, 49.184027], [-2.1608055, 49.1839309], [-2.1609192, 49.1837398], [-2.1615349, 49.1836675], [-2.1616422, 49.183825], [-2.1615582, 49.1840449], [-2.1615273, 49.1842886], [-2.1620005, 49.1845498], [-2.162572, 49.1847257], [-2.1625379, 49.1847937], [-2.162423, 49.1847654], [-2.1621783, 49.1848409], [-2.160571, 49.1847745], [-2.1602533, 49.1847968], [-2.1603443, 49.1852855], [-2.1604268, 49.1853232], [-2.1605517, 49.1855719], [-2.1603179, 49.1855819], [-2.1602847, 49.185505], [-2.1601457, 49.1851829], [-2.1600967, 49.1847614]]], &quot;type&quot;: &quot;Polygon&quot;}, &quot;id&quot;: &quot;41&quot;, &quot;properties&quot;: {&quot;FID&quot;: 41}, &quot;type&quot;: &quot;Feature&quot;}, {&quot;bbox&quot;: [-2.2513153, 49.1790083, -2.2484464, 49.180551], &quot;geometry&quot;: {&quot;coordinates&quot;: [[[-2.2508999, 49.1803836], [-2.2508704, 49.1804125], [-2.2508079, 49.1804265], [-2.250715, 49.1804106], [-2.2506266, 49.1804544], [-2.2505443, 49.1805072], [-2.2505078, 49.18054], [-2.2504255, 49.180551], [-2.2502851, 49.1805458], [-2.2502168, 49.1805301], [-2.2501573, 49.1805141], [-2.2501101, 49.1804783], [-2.2501055, 49.1804474], [-2.2501177, 49.1804086], [-2.2501391, 49.1803707], [-2.2501873, 49.1803321], [-2.250232, 49.180299], [-2.2502274, 49.1802731], [-2.2502183, 49.1802432], [-2.2501299, 49.1802124], [-2.2499105, 49.1801725], [-2.2497384, 49.1801237], [-2.2496058, 49.1800839], [-2.2495007, 49.1800709], [-2.2492767, 49.1800859], [-2.2491213, 49.1800729], [-2.2489735, 49.1800321], [-2.248943, 49.1799574], [-2.2488669, 49.1798716], [-2.248653, 49.1796877], [-2.24853, 49.1795252], [-2.2484677, 49.1794783], [-2.2484464, 49.1794007], [-2.2484662, 49.1793797], [-2.2485596, 49.1793425], [-2.2486977, 49.179305], [-2.2487709, 49.1792881], [-2.2488779, 49.1792828], [-2.2488821, 49.1792582], [-2.2488775, 49.1792423], [-2.2487781, 49.1792129], [-2.2487876, 49.1791576], [-2.2488501, 49.1791059], [-2.2489065, 49.1790839], [-2.2492676, 49.1790083], [-2.2493285, 49.1790142], [-2.249298, 49.1790541], [-2.2492356, 49.1790879], [-2.2491761, 49.1791088], [-2.2491365, 49.1791547], [-2.2491396, 49.1791766], [-2.2492569, 49.1792025], [-2.2494029, 49.1792363], [-2.2495205, 49.1792523], [-2.2496683, 49.1792333], [-2.249714, 49.1792533], [-2.2497597, 49.1792871], [-2.2497673, 49.1793369], [-2.249714, 49.1793797], [-2.2495845, 49.1794166], [-2.2494915, 49.1794495], [-2.2495007, 49.1794774], [-2.2495281, 49.1794953], [-2.2496332, 49.1795062], [-2.2498114, 49.1795167], [-2.2499882, 49.1794933], [-2.2501116, 49.1794624], [-2.2502152, 49.1793509], [-2.2503706, 49.1791816], [-2.2505276, 49.1791885], [-2.2506236, 49.1792144], [-2.2506479, 49.1792483], [-2.2506231, 49.1793136], [-2.2505139, 49.1793907], [-2.2504727, 49.1794355], [-2.2504544, 49.1794564], [-2.2504986, 49.1794614], [-2.2505047, 49.1794734], [-2.2505093, 49.1794893], [-2.2504727, 49.1795281], [-2.2504468, 49.1795511], [-2.2504438, 49.179564], [-2.2504864, 49.1795869], [-2.2505123, 49.1796008], [-2.2505809, 49.1796018], [-2.2506738, 49.1795779], [-2.2508399, 49.1795342], [-2.2509527, 49.1795182], [-2.2511248, 49.1795341], [-2.2512254, 49.179566], [-2.2512696, 49.1796188], [-2.2512909, 49.1797343], [-2.2513153, 49.179811], [-2.2511766, 49.1798638], [-2.251006, 49.1798708], [-2.2508186, 49.1799265], [-2.2506921, 49.1799494], [-2.2506677, 49.1799803], [-2.2507729, 49.1799833], [-2.2507957, 49.1799972], [-2.2508003, 49.1800351], [-2.2508064, 49.180064], [-2.2509252, 49.1800889], [-2.2510075, 49.1801028], [-2.2510532, 49.1801168], [-2.2510949, 49.1801454], [-2.2510852, 49.1801646], [-2.2510227, 49.1801745], [-2.2509557, 49.1801705], [-2.2508155, 49.1801586], [-2.2507515, 49.1801765], [-2.250678, 49.1801824], [-2.2506083, 49.1801924], [-2.2505358, 49.1802319], [-2.2505565, 49.1802641], [-2.2506632, 49.1802691], [-2.2507805, 49.1802861], [-2.2508567, 49.1803448], [-2.2508999, 49.1803836]]], &quot;type&quot;: &quot;Polygon&quot;}, &quot;id&quot;: &quot;42&quot;, &quot;properties&quot;: {&quot;FID&quot;: 42}, &quot;type&quot;: &quot;Feature&quot;}, {&quot;bbox&quot;: [-2.2108824, 49.1754393, -2.2102797, 49.1760734], &quot;geometry&quot;: {&quot;coordinates&quot;: [[[-2.2108824, 49.1756708], [-2.2105568, 49.1760506], [-2.2103886, 49.1760734], [-2.2103038, 49.1760042], [-2.2102797, 49.1757103], [-2.2103654, 49.1754831], [-2.2105961, 49.1754393], [-2.2108095, 49.1755073], [-2.2108824, 49.1756708]]], &quot;type&quot;: &quot;Polygon&quot;}, &quot;id&quot;: &quot;43&quot;, &quot;properties&quot;: {&quot;FID&quot;: 43}, &quot;type&quot;: &quot;Feature&quot;}, {&quot;bbox&quot;: [-2.1902318, 49.1735759, -2.1898225, 49.1739242], &quot;geometry&quot;: {&quot;coordinates&quot;: [[[-2.1900324, 49.1738876], [-2.1899422, 49.1739242], [-2.1898254, 49.1738978], [-2.1898225, 49.1737944], [-2.1899211, 49.1737201], [-2.1899103, 49.1736311], [-2.1900498, 49.1735759], [-2.1901987, 49.1735914], [-2.1902318, 49.1736802], [-2.1900355, 49.173792], [-2.1900324, 49.1738876]]], &quot;type&quot;: &quot;Polygon&quot;}, &quot;id&quot;: &quot;44&quot;, &quot;properties&quot;: {&quot;FID&quot;: 44}, &quot;type&quot;: &quot;Feature&quot;}, {&quot;bbox&quot;: [-2.1275075, 49.1704097, -2.1229821, 49.1788867], &quot;geometry&quot;: {&quot;coordinates&quot;: [[[-2.1238656, 49.1784818], [-2.1238303, 49.1786639], [-2.1239573, 49.178822], [-2.1238407, 49.1788867], [-2.1236528, 49.1788735], [-2.1235078, 49.1787402], [-2.1235138, 49.178653], [-2.1236172, 49.1785058], [-2.1235201, 49.1784328], [-2.123396, 49.1783988], [-2.1232185, 49.1784641], [-2.1230812, 49.1783453], [-2.1233563, 49.1781444], [-2.1234941, 49.1781049], [-2.123634, 49.1779782], [-2.1238146, 49.1778072], [-2.1238478, 49.1776227], [-2.1240729, 49.1776065], [-2.1245088, 49.1771407], [-2.124828, 49.1765477], [-2.1246254, 49.1763689], [-2.1242714, 49.1760671], [-2.1242123, 49.1759127], [-2.1243304, 49.1758322], [-2.1246013, 49.1756866], [-2.1248781, 49.1754009], [-2.1252067, 49.1754847], [-2.1253811, 49.175445], [-2.1254874, 49.1753973], [-2.1255481, 49.175341], [-2.125593, 49.1752657], [-2.1255889, 49.1752304], [-2.1255669, 49.1751904], [-2.1253639, 49.1751092], [-2.1253532, 49.1751063], [-2.1249757, 49.1750043], [-2.1248401, 49.1751889], [-2.1247343, 49.1751537], [-2.1249377, 49.1748791], [-2.1253498, 49.1750325], [-2.1257083, 49.1747042], [-2.125522, 49.1743954], [-2.1250607, 49.1737214], [-2.1249756, 49.1737344], [-2.1248178, 49.1739134], [-2.1247418, 49.1738728], [-2.1245713, 49.1737351], [-2.1245908, 49.1735779], [-2.1246167, 49.1734605], [-2.1244715, 49.1733773], [-2.1244658, 49.1731904], [-2.1247043, 49.1731636], [-2.1229821, 49.1704523], [-2.1231272, 49.1704097], [-2.1248537, 49.1731206], [-2.1249814, 49.1730928], [-2.1251895, 49.1730531], [-2.1253563, 49.1730417], [-2.125465, 49.1730307], [-2.1255916, 49.1730712], [-2.1256761, 49.173215], [-2.1256973, 49.1733035], [-2.1258882, 49.1735469], [-2.1257434, 49.1735773], [-2.1255116, 49.1736458], [-2.1253577, 49.1736125], [-2.1252448, 49.1736051], [-2.1252195, 49.1737125], [-2.1252702, 49.1737873], [-2.1258142, 49.1746192], [-2.1258598, 49.1746249], [-2.1259071, 49.1746439], [-2.1259771, 49.1746179], [-2.1260599, 49.1746047], [-2.1261272, 49.1746946], [-2.1261393, 49.1748995], [-2.1260636, 49.1749694], [-2.1263361, 49.1753319], [-2.1263813, 49.1753368], [-2.1264921, 49.1753791], [-2.1265223, 49.1754283], [-2.1265995, 49.1754289], [-2.1266718, 49.1754163], [-2.1266536, 49.1753277], [-2.1266615, 49.1752696], [-2.1267194, 49.1752377], [-2.1268147, 49.1752242], [-2.1267543, 49.175326], [-2.1268144, 49.1753697], [-2.1268616, 49.1752911], [-2.1269437, 49.1753069], [-2.1269874, 49.1753993], [-2.1270489, 49.1754599], [-2.1271105, 49.175316], [-2.1271832, 49.1753569], [-2.1272419, 49.1755503], [-2.1273184, 49.1754563], [-2.1273675, 49.1755722], [-2.1274823, 49.1756215], [-2.1275075, 49.1757055], [-2.1273954, 49.175806], [-2.1274292, 49.1760136], [-2.1273575, 49.176117], [-2.1267739, 49.1764239], [-2.1264145, 49.176474], [-2.1260756, 49.1764374], [-2.1258923, 49.1762596], [-2.1255999, 49.1764718], [-2.1255113, 49.1766522], [-2.1254626, 49.1768365], [-2.1254037, 49.1771643], [-2.1255038, 49.1772832], [-2.1256554, 49.177354], [-2.1257734, 49.1774768], [-2.1257525, 49.1775797], [-2.1255722, 49.1777311], [-2.1252799, 49.177817], [-2.1250251, 49.1779888], [-2.124722, 49.1781291], [-2.1244323, 49.1780483], [-2.1242062, 49.1781187], [-2.1240738, 49.1781774], [-2.1239675, 49.1782705], [-2.1239018, 49.1783615], [-2.1238656, 49.1784818]]], &quot;type&quot;: &quot;Polygon&quot;}, &quot;id&quot;: &quot;45&quot;, &quot;properties&quot;: {&quot;FID&quot;: 45}, &quot;type&quot;: &quot;Feature&quot;}, {&quot;bbox&quot;: [-2.1780547, 49.1696883, -2.177061, 49.1702888], &quot;geometry&quot;: {&quot;coordinates&quot;: [[[-2.1780547, 49.1699727], [-2.1780002, 49.1701014], [-2.1780135, 49.1701711], [-2.1779099, 49.1701833], [-2.1777902, 49.1702517], [-2.177648, 49.1702888], [-2.177533, 49.1702875], [-2.1774515, 49.1702406], [-2.1771288, 49.1702579], [-2.1770884, 49.170215], [-2.177061, 49.170106], [-2.1771562, 49.1699921], [-2.1771821, 49.1699282], [-2.1772265, 49.1698644], [-2.1772534, 49.1698138], [-2.1773472, 49.1697522], [-2.1774382, 49.1697162], [-2.1775323, 49.1696883], [-2.1776655, 49.1697112], [-2.1778545, 49.1697241], [-2.1779565, 49.1697491], [-2.1780338, 49.1698431], [-2.1780547, 49.1699727]]], &quot;type&quot;: &quot;Polygon&quot;}, &quot;id&quot;: &quot;46&quot;, &quot;properties&quot;: {&quot;FID&quot;: 46}, &quot;type&quot;: &quot;Feature&quot;}, {&quot;bbox&quot;: [-2.0606108, 49.1653645, -2.0602313, 49.1655922], &quot;geometry&quot;: {&quot;coordinates&quot;: [[[-2.0605654, 49.1655922], [-2.0603197, 49.1655836], [-2.0602313, 49.1654637], [-2.0603424, 49.1654033], [-2.0605051, 49.1653645], [-2.0606108, 49.1654837], [-2.0605654, 49.1655922]]], &quot;type&quot;: &quot;Polygon&quot;}, &quot;id&quot;: &quot;47&quot;, &quot;properties&quot;: {&quot;FID&quot;: 47}, &quot;type&quot;: &quot;Feature&quot;}, {&quot;bbox&quot;: [-2.0600246, 49.1647269, -2.0594054, 49.164927], &quot;geometry&quot;: {&quot;coordinates&quot;: [[[-2.0595386, 49.1647603], [-2.0598042, 49.1647269], [-2.0599456, 49.1647686], [-2.0600246, 49.1649042], [-2.0598095, 49.164927], [-2.0594054, 49.1648516], [-2.0595386, 49.1647603]]], &quot;type&quot;: &quot;Polygon&quot;}, &quot;id&quot;: &quot;48&quot;, &quot;properties&quot;: {&quot;FID&quot;: 48}, &quot;type&quot;: &quot;Feature&quot;}, {&quot;bbox&quot;: [-2.0781028, 49.1602298, -2.0766627, 49.1611018], &quot;geometry&quot;: {&quot;coordinates&quot;: [[[-2.0780593, 49.1608873], [-2.0780989, 49.160942], [-2.0781028, 49.1610179], [-2.0779931, 49.161087], [-2.0778438, 49.1611018], [-2.0776341, 49.1610325], [-2.0774955, 49.1609667], [-2.0773594, 49.1609515], [-2.0772537, 49.1609821], [-2.0771382, 49.1609431], [-2.0771528, 49.1608823], [-2.0770394, 49.1608207], [-2.0769578, 49.1607394], [-2.0768389, 49.1607241], [-2.0766923, 49.1607541], [-2.0766627, 49.1607075], [-2.0767335, 49.160628], [-2.0767686, 49.160545], [-2.0767735, 49.1604449], [-2.0768272, 49.1603737], [-2.0769228, 49.1603183], [-2.077091, 49.1602923], [-2.0772242, 49.1602532], [-2.0773906, 49.1602298], [-2.0774832, 49.1602789], [-2.0774576, 49.1603858], [-2.0774833, 49.1604998], [-2.0775683, 49.1605794], [-2.0777115, 49.1606464], [-2.0778865, 49.1607577], [-2.0780593, 49.1608873]]], &quot;type&quot;: &quot;Polygon&quot;}, &quot;id&quot;: &quot;49&quot;, &quot;properties&quot;: {&quot;FID&quot;: 49}, &quot;type&quot;: &quot;Feature&quot;}, {&quot;bbox&quot;: [-2.0506171, 49.1482374, -2.0493885, 49.1488605], &quot;geometry&quot;: {&quot;coordinates&quot;: [[[-2.0495005, 49.1484651], [-2.0496507, 49.1484202], [-2.0495139, 49.148313], [-2.049455, 49.1482374], [-2.0497357, 49.1483613], [-2.0499274, 49.1483745], [-2.0500367, 49.1483296], [-2.0504054, 49.1484545], [-2.0506171, 49.1485282], [-2.0506132, 49.1485543], [-2.0503386, 49.1485244], [-2.0500778, 49.1485047], [-2.0499755, 49.1485478], [-2.0501784, 49.1486052], [-2.0502051, 49.1487718], [-2.0502061, 49.1488589], [-2.0499989, 49.1488605], [-2.0496395, 49.1487405], [-2.0494364, 49.1486457], [-2.0493885, 49.1485407], [-2.0495005, 49.1484651]]], &quot;type&quot;: &quot;Polygon&quot;}, &quot;id&quot;: &quot;50&quot;, &quot;properties&quot;: {&quot;FID&quot;: 50}, &quot;type&quot;: &quot;Feature&quot;}, {&quot;bbox&quot;: [-2.0487678, 49.1478693, -2.0475969, 49.1486466], &quot;geometry&quot;: {&quot;coordinates&quot;: [[[-2.0478165, 49.1482091], [-2.0479011, 49.1481825], [-2.0479255, 49.1481282], [-2.0477412, 49.1481388], [-2.0475969, 49.1480883], [-2.0476341, 49.147975], [-2.0476851, 49.1478693], [-2.047864, 49.1479029], [-2.0480225, 49.1479747], [-2.04803, 49.1480094], [-2.0480055, 49.1480462], [-2.0480654, 49.1480308], [-2.0481333, 49.147982], [-2.0483044, 49.1480116], [-2.0484283, 49.1480864], [-2.0485018, 49.1481486], [-2.0486018, 49.1481546], [-2.0487606, 49.1482202], [-2.0487678, 49.1482868], [-2.0486053, 49.1483176], [-2.0486979, 49.1483739], [-2.0487071, 49.1484747], [-2.0485983, 49.1485377], [-2.0483939, 49.1484944], [-2.0482475, 49.1485005], [-2.0481651, 49.1485572], [-2.0480869, 49.1486466], [-2.0478974, 49.148604], [-2.0477966, 49.1485335], [-2.0478198, 49.148398], [-2.0477861, 49.1482966], [-2.0478165, 49.1482091]]], &quot;type&quot;: &quot;Polygon&quot;}, &quot;id&quot;: &quot;51&quot;, &quot;properties&quot;: {&quot;FID&quot;: 51}, &quot;type&quot;: &quot;Feature&quot;}, {&quot;bbox&quot;: [-2.499671, 49.4945788, -2.4977116, 49.4956746], &quot;geometry&quot;: {&quot;coordinates&quot;: [[[-2.4978417, 49.4945788], [-2.4980509, 49.4946314], [-2.4981475, 49.4947136], [-2.4984157, 49.4948354], [-2.4988773, 49.4948903], [-2.499274, 49.4948906], [-2.4995637, 49.4949748], [-2.4996651, 49.4950784], [-2.4996393, 49.4952124], [-2.499671, 49.4953481], [-2.4995272, 49.495453], [-2.4993566, 49.4954834], [-2.4992989, 49.495395], [-2.4991504, 49.495404], [-2.4987588, 49.4955897], [-2.4987483, 49.4956746], [-2.4986088, 49.4956634], [-2.4984801, 49.4954821], [-2.4982558, 49.4953891], [-2.498067, 49.4952903], [-2.497949, 49.495004], [-2.4977827, 49.494915], [-2.4977116, 49.4947204], [-2.4978417, 49.4945788]]], &quot;type&quot;: &quot;Polygon&quot;}, &quot;id&quot;: &quot;52&quot;, &quot;properties&quot;: {&quot;FID&quot;: 52}, &quot;type&quot;: &quot;Feature&quot;}, {&quot;bbox&quot;: [-2.470749, 49.480262, -2.4686767, 49.481878], &quot;geometry&quot;: {&quot;coordinates&quot;: [[[-2.468881, 49.480262], [-2.4691979, 49.4803528], [-2.4693726, 49.4805378], [-2.4694063, 49.4806391], [-2.4694614, 49.480702], [-2.4695798, 49.4807391], [-2.4698084, 49.4807784], [-2.4699834, 49.4808813], [-2.4701798, 49.4809336], [-2.4704005, 49.48103], [-2.4704683, 49.4811031], [-2.470493, 49.4811781], [-2.4705319, 49.4812443], [-2.4706767, 49.4812721], [-2.470749, 49.4813609], [-2.4706495, 49.4813956], [-2.470587, 49.4813955], [-2.4704552, 49.4813606], [-2.4703746, 49.4813506], [-2.4703234, 49.4813702], [-2.4702689, 49.4813871], [-2.4702424, 49.4814486], [-2.4702509, 49.4814996], [-2.4702812, 49.4815493], [-2.4703364, 49.4815774], [-2.4703262, 49.4816247], [-2.4702949, 49.4816588], [-2.4702422, 49.4816928], [-2.4701662, 49.4817104], [-2.4701403, 49.4817455], [-2.4701394, 49.4818035], [-2.4701296, 49.4818586], [-2.4700886, 49.481878], [-2.4700296, 49.4818667], [-2.4699571, 49.4818079], [-2.4699451, 49.4816861], [-2.4699712, 49.4815712], [-2.469928, 49.4815399], [-2.4697749, 49.4814947], [-2.469689, 49.4814607], [-2.469544, 49.4814057], [-2.4694285, 49.4813559], [-2.4693932, 49.4813086], [-2.469422, 49.4812403], [-2.4693672, 49.481131], [-2.4692559, 49.4810459], [-2.4691071, 49.4809852], [-2.4690489, 49.4809735], [-2.4689933, 49.4809532], [-2.4689171, 49.4809056], [-2.4688826, 49.4808486], [-2.46884, 49.4808309], [-2.4688189, 49.4807905], [-2.4688151, 49.4806795], [-2.4686922, 49.480499], [-2.4686767, 49.4804057], [-2.4687474, 49.4803479], [-2.468881, 49.480262]]], &quot;type&quot;: &quot;Polygon&quot;}, &quot;id&quot;: &quot;53&quot;, &quot;properties&quot;: {&quot;FID&quot;: 53}, &quot;type&quot;: &quot;Feature&quot;}, {&quot;bbox&quot;: [-2.4717972, 49.4787084, -2.4706852, 49.479609], &quot;geometry&quot;: {&quot;coordinates&quot;: [[[-2.4713254, 49.4787084], [-2.4713729, 49.4787248], [-2.4714101, 49.4787653], [-2.4713925, 49.4788178], [-2.4713878, 49.4788632], [-2.4714766, 49.4788563], [-2.4715357, 49.4788746], [-2.4716083, 49.4788764], [-2.4716907, 49.4788665], [-2.4717185, 49.4788982], [-2.471719, 49.4789654], [-2.4717769, 49.4790313], [-2.4717972, 49.4791102], [-2.471771, 49.4791609], [-2.4717204, 49.4791937], [-2.471667, 49.4792386], [-2.4716245, 49.4792491], [-2.4716088, 49.4792283], [-2.4715478, 49.4792371], [-2.4714447, 49.4792599], [-2.4714128, 49.4793161], [-2.471298, 49.4793761], [-2.4708752, 49.4792853], [-2.4708846, 49.4793755], [-2.4709403, 49.4793874], [-2.4709869, 49.4794169], [-2.4709954, 49.4794726], [-2.4710362, 49.4795179], [-2.4709785, 49.4795761], [-2.4708203, 49.479609], [-2.470738, 49.4795356], [-2.4706852, 49.4794656], [-2.4707083, 49.4794181], [-2.4708216, 49.4793944], [-2.4707913, 49.4792926], [-2.4707502, 49.4792588], [-2.4707754, 49.4792], [-2.470823, 49.4791345], [-2.4708613, 49.4790738], [-2.4708809, 49.4789835], [-2.4709682, 49.4788517], [-2.4710191, 49.4787844], [-2.4710913, 49.4787763], [-2.4712091, 49.4787653], [-2.4712621, 49.4787312], [-2.4713254, 49.4787084]]], &quot;type&quot;: &quot;Polygon&quot;}, &quot;id&quot;: &quot;54&quot;, &quot;properties&quot;: {&quot;FID&quot;: 54}, &quot;type&quot;: &quot;Feature&quot;}, {&quot;bbox&quot;: [-2.4710075, 49.4767508, -2.4697534, 49.4783024], &quot;geometry&quot;: {&quot;coordinates&quot;: [[[-2.4699796, 49.4771021], [-2.4702857, 49.4769351], [-2.4704441, 49.4768517], [-2.4705769, 49.4768448], [-2.470697, 49.4767542], [-2.4708053, 49.4767508], [-2.4708165, 49.4768396], [-2.4707739, 49.476905], [-2.4706506, 49.4769935], [-2.4705353, 49.4770412], [-2.4705703, 49.4771307], [-2.4706423, 49.4772475], [-2.4706972, 49.4772719], [-2.4706636, 49.4773486], [-2.4705468, 49.4773931], [-2.4705427, 49.4774724], [-2.4707378, 49.477519], [-2.4708434, 49.4775388], [-2.4709464, 49.4775778], [-2.4710075, 49.4776549], [-2.4709884, 49.4777274], [-2.4709212, 49.4777462], [-2.4708045, 49.4777278], [-2.4706871, 49.4777325], [-2.470564, 49.4777401], [-2.470642, 49.4777543], [-2.4707292, 49.4777597], [-2.4708023, 49.4777572], [-2.4708604, 49.4777768], [-2.4708867, 49.4778215], [-2.470854, 49.4778627], [-2.4708232, 49.4779182], [-2.4707844, 49.4779551], [-2.4707294, 49.4779814], [-2.4706785, 49.4780551], [-2.4705766, 49.4781223], [-2.4704963, 49.4782184], [-2.4704055, 49.4783024], [-2.470256, 49.4782927], [-2.4701244, 49.478251], [-2.4700559, 49.4781561], [-2.4700994, 49.4780127], [-2.4701748, 49.4778818], [-2.4701777, 49.4777397], [-2.4700839, 49.4776185], [-2.4699679, 49.4775375], [-2.469833, 49.4774148], [-2.4697534, 49.4772863], [-2.4699796, 49.4771021]]], &quot;type&quot;: &quot;Polygon&quot;}, &quot;id&quot;: &quot;55&quot;, &quot;properties&quot;: {&quot;FID&quot;: 55}, &quot;type&quot;: &quot;Feature&quot;}, {&quot;bbox&quot;: [0.2416214, 52.8409883, 0.2451566, 52.8431013], &quot;geometry&quot;: {&quot;coordinates&quot;: [[[0.2416568, 52.842309], [0.2418062, 52.8425184], [0.2419396, 52.8426464], [0.2422564, 52.8428673], [0.242369, 52.8429285], [0.2424794, 52.8429728], [0.2425948, 52.8430047], [0.2427449, 52.843033], [0.2430366, 52.8430772], [0.2432259, 52.8430959], [0.2433999, 52.8431013], [0.2436025, 52.8430967], [0.2437757, 52.8430846], [0.2439251, 52.8430643], [0.2440792, 52.8430308], [0.244248, 52.842981], [0.2444043, 52.8429234], [0.2445471, 52.8428584], [0.2446706, 52.842789], [0.2447858, 52.8427096], [0.2448908, 52.8426217], [0.2449781, 52.8425314], [0.2450446, 52.8424438], [0.2450942, 52.842355], [0.2451294, 52.8422609], [0.2451501, 52.8421615], [0.2451566, 52.8420452], [0.2451468, 52.8419189], [0.2451237, 52.8418069], [0.245087, 52.8417094], [0.2450336, 52.8416179], [0.2449603, 52.8415274], [0.2448587, 52.8414285], [0.2447409, 52.8413331], [0.244644, 52.8412684], [0.2445423, 52.8412145], [0.2444234, 52.8411649], [0.2442836, 52.8411183], [0.2441064, 52.8410706], [0.2439151, 52.8410296], [0.2437551, 52.8410044], [0.2436048, 52.840991], [0.2434445, 52.8409883], [0.2432709, 52.8409964], [0.2430735, 52.841016], [0.2428788, 52.8410449], [0.2425916, 52.8411112], [0.242311, 52.8412141], [0.2420909, 52.8413316], [0.2420056, 52.8413941], [0.2419306, 52.8414635], [0.2418449, 52.8415638], [0.2417676, 52.8416774], [0.2417005, 52.8418021], [0.2416522, 52.8419224], [0.2416285, 52.842018], [0.2416214, 52.8421078], [0.2416568, 52.842309]]], &quot;type&quot;: &quot;Polygon&quot;}, &quot;id&quot;: &quot;56&quot;, &quot;properties&quot;: {&quot;FID&quot;: 56}, &quot;type&quot;: &quot;Feature&quot;}, {&quot;bbox&quot;: [-3.2222881, 53.3762606, -3.217313, 53.3793842], &quot;geometry&quot;: {&quot;coordinates&quot;: [[[-3.2193001, 53.377817], [-3.219167, 53.3777361], [-3.2191144, 53.3776371], [-3.2189525, 53.3774728], [-3.218827, 53.3774052], [-3.218661, 53.3772217], [-3.2183817, 53.3769343], [-3.2181995, 53.3768426], [-3.2177259, 53.3765624], [-3.217483, 53.3764441], [-3.217313, 53.376304], [-3.2173413, 53.3762678], [-3.2174344, 53.3762606], [-3.2175356, 53.3763065], [-3.2177138, 53.3763958], [-3.2179486, 53.3765021], [-3.2183412, 53.3767242], [-3.2184552, 53.3767832], [-3.2191185, 53.3771263], [-3.219487, 53.3772702], [-3.2197352, 53.3773475], [-3.2198168, 53.3773267], [-3.2198006, 53.3772519], [-3.2195739, 53.3771287], [-3.2191245, 53.3768414], [-3.219073, 53.3767618], [-3.2190557, 53.3767351], [-3.2191205, 53.376723], [-3.219246, 53.3767544], [-3.2194605, 53.3768583], [-3.219922, 53.3771698], [-3.2200637, 53.3772157], [-3.2201568, 53.3773992], [-3.2202337, 53.3774185], [-3.2203471, 53.3776334], [-3.220424, 53.3776721], [-3.2204723, 53.3777609], [-3.2208516, 53.3780158], [-3.2216081, 53.3785656], [-3.2215564, 53.3786375], [-3.2216975, 53.3787452], [-3.2218564, 53.3788682], [-3.2219687, 53.3789736], [-3.2220832, 53.3790896], [-3.2221812, 53.3791703], [-3.222276, 53.3792779], [-3.2222881, 53.3793842], [-3.2221586, 53.3793842], [-3.221774, 53.3792224], [-3.2216, 53.3791427], [-3.2212503, 53.3791302], [-3.2210211, 53.3791403], [-3.2208551, 53.3790582], [-3.2208065, 53.378993], [-3.2207029, 53.3789297], [-3.2204685, 53.3787394], [-3.220286, 53.3785926], [-3.2199948, 53.3783628], [-3.2197671, 53.3781889], [-3.2195307, 53.3780116], [-3.2193001, 53.377817]]], &quot;type&quot;: &quot;Polygon&quot;}, &quot;id&quot;: &quot;57&quot;, &quot;properties&quot;: {&quot;FID&quot;: 57}, &quot;type&quot;: &quot;Feature&quot;}, {&quot;bbox&quot;: [-4.438927, 53.4346386, -4.4359229, 53.4356932], &quot;geometry&quot;: {&quot;coordinates&quot;: [[[-4.4380043, 53.4353992], [-4.4378756, 53.4354759], [-4.4376181, 53.4354503], [-4.4372319, 53.435412], [-4.4365452, 53.435412], [-4.4359659, 53.4353225], [-4.4359229, 53.4351883], [-4.4360302, 53.4350285], [-4.4359873, 53.4348368], [-4.4360946, 53.4346514], [-4.4362877, 53.4346642], [-4.4365667, 53.4347281], [-4.4368671, 53.4347537], [-4.4370817, 53.4347025], [-4.4373821, 53.4346386], [-4.4376181, 53.4347281], [-4.4379614, 53.4348112], [-4.4382618, 53.4348879], [-4.4384335, 53.4349902], [-4.4384764, 53.4351372], [-4.4383691, 53.4352906], [-4.4387983, 53.4353545], [-4.438927, 53.4354567], [-4.4389056, 53.4356165], [-4.438691, 53.4356804], [-4.4385193, 53.4356549], [-4.4382833, 53.4356932], [-4.4380043, 53.435591], [-4.4380043, 53.4353992]]], &quot;type&quot;: &quot;Polygon&quot;}, &quot;id&quot;: &quot;58&quot;, &quot;properties&quot;: {&quot;FID&quot;: 58}, &quot;type&quot;: &quot;Feature&quot;}, {&quot;bbox&quot;: [-4.6035467, 53.4237657, -4.6017842, 53.4247482], &quot;geometry&quot;: {&quot;coordinates&quot;: [[[-4.6035467, 53.4238583], [-4.6028543, 53.4247482], [-4.6025519, 53.4247084], [-4.6022243, 53.4244603], [-4.6020989, 53.4243654], [-4.6020156, 53.4243023], [-4.6017842, 53.4242652], [-4.6019318, 53.423994], [-4.6027105, 53.4239645], [-4.6028479, 53.4238386], [-4.6033171, 53.4237657], [-4.6035467, 53.4238583]]], &quot;type&quot;: &quot;Polygon&quot;}, &quot;id&quot;: &quot;59&quot;, &quot;properties&quot;: {&quot;FID&quot;: 59}, &quot;type&quot;: &quot;Feature&quot;}, {&quot;bbox&quot;: [-4.61215, 53.4194891, -4.6039009, 53.4244106], &quot;geometry&quot;: {&quot;coordinates&quot;: [[[-4.6097871, 53.4196836], [-4.6100992, 53.4195193], [-4.610558, 53.4194891], [-4.610993, 53.4195883], [-4.6114197, 53.4199702], [-4.6119508, 53.4201652], [-4.6119264, 53.4205824], [-4.6113528, 53.4207207], [-4.61215, 53.4210198], [-4.611016, 53.4213352], [-4.6106294, 53.4212209], [-4.6103617, 53.4207682], [-4.6100278, 53.4207288], [-4.6099158, 53.4206423], [-4.6096925, 53.4204698], [-4.6092625, 53.4204962], [-4.6091483, 53.4206679], [-4.6088407, 53.4211304], [-4.6088568, 53.4215874], [-4.6091824, 53.4217684], [-4.6091317, 53.4218719], [-4.6086253, 53.4218719], [-4.6086099, 53.4220569], [-4.6088287, 53.4222095], [-4.6085914, 53.4225503], [-4.6078005, 53.4226135], [-4.6076606, 53.4228333], [-4.6076192, 53.4228], [-4.6075151, 53.4227207], [-4.6074389, 53.4226237], [-4.6074029, 53.4226327], [-4.6074673, 53.4227181], [-4.6075267, 53.4227831], [-4.6076462, 53.4228747], [-4.6074935, 53.4232754], [-4.6072923, 53.4233593], [-4.6071469, 53.4236371], [-4.6068036, 53.4236654], [-4.6070975, 53.4238378], [-4.6059483, 53.4239648], [-4.6054382, 53.4238569], [-4.6052407, 53.4237764], [-4.6050177, 53.4237301], [-4.6048658, 53.4237073], [-4.6048076, 53.4236861], [-4.6047696, 53.4236615], [-4.6046899, 53.4236194], [-4.6046033, 53.4236471], [-4.6046452, 53.423694], [-4.604796, 53.423753], [-4.6048628, 53.4239097], [-4.6048761, 53.4240031], [-4.6050302, 53.4240229], [-4.6047001, 53.4243522], [-4.6043196, 53.4244106], [-4.6039664, 53.4240585], [-4.6039009, 53.4238292], [-4.6041903, 53.4233809], [-4.604511, 53.423134], [-4.6048182, 53.4231651], [-4.6051055, 53.422614], [-4.6056445, 53.4223806], [-4.6061392, 53.422401], [-4.6061293, 53.4228721], [-4.6061764, 53.4228889], [-4.6062378, 53.4229109], [-4.6066229, 53.422219], [-4.6066419, 53.422185], [-4.6067225, 53.4220401], [-4.6070254, 53.4221697], [-4.6071177, 53.4222092], [-4.6071761, 53.4222965], [-4.6072037, 53.42238], [-4.6072657, 53.4223509], [-4.6073079, 53.4223851], [-4.6073282, 53.4224214], [-4.6073333, 53.4224878], [-4.6073434, 53.4225422], [-4.607384, 53.4226157], [-4.6074214, 53.4226044], [-4.607404, 53.4225853], [-4.6073718, 53.4225214], [-4.6073514, 53.4224431], [-4.6073908, 53.4224484], [-4.607442, 53.4224795], [-4.6074067, 53.4224173], [-4.6074201, 53.4223679], [-4.6074415, 53.4222673], [-4.6075006, 53.4222337], [-4.6074944, 53.4221977], [-4.6076509, 53.4219933], [-4.6073818, 53.4215652], [-4.6074269, 53.4212515], [-4.6075168, 53.4211634], [-4.6075743, 53.4212309], [-4.6075928, 53.4212646], [-4.6075699, 53.4212788], [-4.6075962, 53.4213103], [-4.6076267, 53.4213216], [-4.6076469, 53.4213195], [-4.6076308, 53.4212854], [-4.6076436, 53.4212615], [-4.607625, 53.421243], [-4.6075946, 53.4211514], [-4.6078138, 53.4210713], [-4.6079741, 53.4209967], [-4.6086617, 53.4208413], [-4.6080465, 53.4205526], [-4.6083038, 53.4203018], [-4.6087555, 53.4203155], [-4.6090304, 53.4201646], [-4.6093158, 53.4202958], [-4.6097005, 53.4203036], [-4.6096955, 53.4201104], [-4.6096888, 53.4198541], [-4.6097871, 53.4196836]]], &quot;type&quot;: &quot;Polygon&quot;}, &quot;id&quot;: &quot;60&quot;, &quot;properties&quot;: {&quot;FID&quot;: 60}, &quot;type&quot;: &quot;Feature&quot;}, {&quot;bbox&quot;: [-4.2278462, 53.356797, -4.2257028, 53.3585282], &quot;geometry&quot;: {&quot;coordinates&quot;: [[[-4.2273491, 53.3568778], [-4.2275237, 53.3568728], [-4.2277429, 53.3568612], [-4.2278462, 53.3569187], [-4.2278183, 53.3570862], [-4.2277527, 53.3571945], [-4.2275935, 53.3573262], [-4.2274608, 53.3574262], [-4.2273813, 53.3576354], [-4.2273184, 53.3577821], [-4.2272667, 53.3578454], [-4.2271983, 53.3579287], [-4.2273031, 53.3582371], [-4.2272863, 53.3582829], [-4.2271128, 53.3583582], [-4.2268502, 53.3585149], [-4.2267385, 53.3585282], [-4.2266045, 53.3584282], [-4.2265309, 53.3584629], [-4.2263786, 53.3584779], [-4.2262837, 53.3584338], [-4.2260002, 53.3584338], [-4.2259318, 53.3583638], [-4.2257028, 53.3583154], [-4.2257154, 53.3582304], [-4.2258047, 53.3582071], [-4.2257587, 53.3581479], [-4.2257614, 53.3579946], [-4.225841, 53.3578879], [-4.2259653, 53.3578521], [-4.2259569, 53.3577346], [-4.2259918, 53.3576546], [-4.2260303, 53.3575942], [-4.2260988, 53.3575842], [-4.226142, 53.3575482], [-4.2262641, 53.3573445], [-4.2263214, 53.357222], [-4.2265183, 53.3570637], [-4.2266733, 53.3569795], [-4.2267319, 53.3568787], [-4.2270098, 53.356797], [-4.227162, 53.3568587], [-4.2273491, 53.3568778]]], &quot;type&quot;: &quot;Polygon&quot;}, &quot;id&quot;: &quot;61&quot;, &quot;properties&quot;: {&quot;FID&quot;: 61}, &quot;type&quot;: &quot;Feature&quot;}, {&quot;bbox&quot;: [-4.1581481, 53.2282892, -4.1535332, 53.2313794], &quot;geometry&quot;: {&quot;coordinates&quot;: [[[-4.155024, 53.228545], [-4.1552465, 53.2283871], [-4.1554276, 53.2282892], [-4.1555713, 53.2283476], [-4.155551, 53.2284144], [-4.1554495, 53.2284752], [-4.1554038, 53.2286179], [-4.155551, 53.2287911], [-4.1555861, 53.2291571], [-4.155523, 53.2294621], [-4.1558356, 53.229697], [-4.155909, 53.229689], [-4.15612, 53.229559], [-4.156329, 53.229428], [-4.157176, 53.229164], [-4.1573678, 53.2292377], [-4.1576368, 53.2292711], [-4.1578753, 53.2292043], [-4.1581481, 53.2292348], [-4.1580682, 53.2293926], [-4.1579312, 53.22942], [-4.1577941, 53.2294959], [-4.1577764, 53.2296004], [-4.1578652, 53.2297785], [-4.1580225, 53.2298331], [-4.1580225, 53.2300215], [-4.1575895, 53.2302788], [-4.1575607, 53.2304711], [-4.1575607, 53.230626], [-4.1576798, 53.2307139], [-4.1577738, 53.2306807], [-4.1578753, 53.2307141], [-4.1578855, 53.2308296], [-4.1578094, 53.230945], [-4.157655, 53.231081], [-4.1574084, 53.2312306], [-4.1568908, 53.2313794], [-4.1566725, 53.2312518], [-4.1567081, 53.2311243], [-4.1568769, 53.2309012], [-4.1567842, 53.2308539], [-4.1565497, 53.2308662], [-4.1561904, 53.2309693], [-4.1558047, 53.2310574], [-4.155517, 53.230973], [-4.1552617, 53.2308205], [-4.154774, 53.2307473], [-4.1544936, 53.2306214], [-4.1543583, 53.2307992], [-4.1541249, 53.2308539], [-4.1538863, 53.2308144], [-4.153649, 53.230439], [-4.153587, 53.230382], [-4.1535332, 53.2302588], [-4.153785, 53.230094], [-4.153936, 53.230261], [-4.1539853, 53.2300663], [-4.1541653, 53.2299921], [-4.1543236, 53.2299112], [-4.154419, 53.229832], [-4.1544091, 53.2296569], [-4.1543329, 53.2295567], [-4.1541959, 53.229502], [-4.1542213, 53.229341], [-4.1543329, 53.2292468], [-4.154615, 53.229189], [-4.154825, 53.229059], [-4.1549876, 53.2288063], [-4.155024, 53.228545]]], &quot;type&quot;: &quot;Polygon&quot;}, &quot;id&quot;: &quot;62&quot;, &quot;properties&quot;: {&quot;FID&quot;: 62}, &quot;type&quot;: &quot;Feature&quot;}, {&quot;bbox&quot;: [-4.1588243, 53.2263973, -4.1566104, 53.227694], &quot;geometry&quot;: {&quot;coordinates&quot;: [[[-4.1581633, 53.2265369], [-4.1582311, 53.2264675], [-4.1583257, 53.2264151], [-4.1584091, 53.2263973], [-4.1584769, 53.2264109], [-4.158515, 53.2264726], [-4.1586789, 53.2267356], [-4.1587227, 53.2268498], [-4.1588243, 53.2269204], [-4.1587165, 53.2271623], [-4.1586759, 53.2273166], [-4.1585876, 53.2274699], [-4.1585665, 53.2276038], [-4.1583263, 53.2276083], [-4.1580173, 53.2275893], [-4.1579289, 53.227694], [-4.1573292, 53.2276155], [-4.157143, 53.2274742], [-4.1569486, 53.2273811], [-4.1568274, 53.2272875], [-4.156718, 53.2271798], [-4.1566701, 53.2271143], [-4.1566963, 53.2270937], [-4.1566683, 53.2270553], [-4.156633, 53.227051], [-4.1566104, 53.2270429], [-4.1566213, 53.2270293], [-4.1566556, 53.2270228], [-4.1567253, 53.2270234], [-4.1567659, 53.2270369], [-4.1567994, 53.2270764], [-4.1568844, 53.2270964], [-4.157058, 53.2270661], [-4.1570435, 53.2270396], [-4.157058, 53.2270223], [-4.1571005, 53.2270033], [-4.1571393, 53.2270066], [-4.1572035, 53.2269774], [-4.1572394, 53.2269769], [-4.1572722, 53.2269855], [-4.1574069, 53.2269276], [-4.1574015, 53.2269113], [-4.15751, 53.2268491], [-4.1574983, 53.2267998], [-4.1575561, 53.2267214], [-4.1576095, 53.2267136], [-4.1576448, 53.2267838], [-4.1577141, 53.2268312], [-4.1578073, 53.2268388], [-4.1579322, 53.2268062], [-4.1581463, 53.2267534], [-4.1581661, 53.2267221], [-4.1581746, 53.2266663], [-4.1581633, 53.2265369]]], &quot;type&quot;: &quot;Polygon&quot;}, &quot;id&quot;: &quot;63&quot;, &quot;properties&quot;: {&quot;FID&quot;: 63}, &quot;type&quot;: &quot;Feature&quot;}, {&quot;bbox&quot;: [-4.1721772, 53.222121, -4.1705251, 53.2234371], &quot;geometry&quot;: {&quot;coordinates&quot;: [[[-4.1709241, 53.222121], [-4.171209, 53.2221372], [-4.1713494, 53.2221685], [-4.171476, 53.2222426], [-4.1715117, 53.2223085], [-4.1716025, 53.2223992], [-4.1718385, 53.2224794], [-4.1720319, 53.2226002], [-4.1721068, 53.2226964], [-4.1721772, 53.2228454], [-4.1721618, 53.2229363], [-4.1719813, 53.2231116], [-4.1718074, 53.2232144], [-4.1714266, 53.2234108], [-4.1713077, 53.2234239], [-4.1710963, 53.2234371], [-4.1709621, 53.2234213], [-4.1706243, 53.2232116], [-4.1705251, 53.22315], [-4.1706036, 53.2230301], [-4.1707, 53.2229791], [-4.1707687, 53.2229132], [-4.1708403, 53.2227682], [-4.1708678, 53.2226776], [-4.1708568, 53.2225804], [-4.1708073, 53.2225062], [-4.1707192, 53.222414], [-4.1706752, 53.2223283], [-4.1706917, 53.2222459], [-4.170755, 53.2221718], [-4.1708541, 53.2221356], [-4.1709241, 53.222121]]], &quot;type&quot;: &quot;Polygon&quot;}, &quot;id&quot;: &quot;64&quot;, &quot;properties&quot;: {&quot;FID&quot;: 64}, &quot;type&quot;: &quot;Feature&quot;}, {&quot;bbox&quot;: [-4.4163301, 53.1332244, -4.4057794, 53.1438433], &quot;geometry&quot;: {&quot;coordinates&quot;: [[[-4.413534, 53.1391225], [-4.4134799, 53.1391894], [-4.413288, 53.139233], [-4.4131758, 53.1392259], [-4.4130406, 53.1392259], [-4.4129088, 53.1392016], [-4.412867, 53.1392002], [-4.4125348, 53.139535], [-4.4124312, 53.1396119], [-4.4123636, 53.1397964], [-4.4122622, 53.1398957], [-4.4121811, 53.1400457], [-4.4121203, 53.1400781], [-4.4120595, 53.140143], [-4.4121811, 53.140143], [-4.4122386, 53.1401612], [-4.4121947, 53.1402058], [-4.412017, 53.1403391], [-4.412021, 53.1404215], [-4.4118958, 53.1404654], [-4.4119375, 53.1405405], [-4.411992, 53.140601], [-4.411899, 53.1407355], [-4.4120002, 53.1408848], [-4.4119689, 53.1409599], [-4.4118749, 53.1409787], [-4.4118123, 53.1409599], [-4.4118115, 53.1408732], [-4.4116529, 53.1408929], [-4.4120523, 53.1412854], [-4.4121358, 53.1413667], [-4.4121463, 53.1414919], [-4.412021, 53.1415608], [-4.4119793, 53.1416171], [-4.411708, 53.1417235], [-4.4116036, 53.1416547], [-4.4115097, 53.1415545], [-4.4115306, 53.1412666], [-4.4115097, 53.1410913], [-4.4115764, 53.1408142], [-4.4116767, 53.1405718], [-4.4116871, 53.1403089], [-4.4118024, 53.1400413], [-4.411899, 53.139817], [-4.4116793, 53.1398292], [-4.4113163, 53.1398437], [-4.4112663, 53.1399082], [-4.4111966, 53.1401899], [-4.4110923, 53.1402963], [-4.4108731, 53.1403902], [-4.4108001, 53.1404841], [-4.4105209, 53.1408765], [-4.4104452, 53.140893], [-4.4103731, 53.1408542], [-4.4103759, 53.1409994], [-4.4104249, 53.1410024], [-4.4104655, 53.1409892], [-4.4105346, 53.1409934], [-4.4105632, 53.1412366], [-4.4104999, 53.1412807], [-4.4104357, 53.1413699], [-4.4103714, 53.1415584], [-4.410274, 53.1416615], [-4.410216, 53.1416862], [-4.4101552, 53.1416841], [-4.4101484, 53.1416314], [-4.410047, 53.1416233], [-4.4099693, 53.1416862], [-4.4100031, 53.1417551], [-4.410087, 53.1418298], [-4.4098426, 53.1420028], [-4.4096948, 53.141938], [-4.4097082, 53.1419991], [-4.4097699, 53.1420731], [-4.4097485, 53.1421825], [-4.4097351, 53.1423692], [-4.4096079, 53.1425212], [-4.4095355, 53.1425534], [-4.4094738, 53.1425518], [-4.4094363, 53.142592], [-4.409498, 53.1426306], [-4.4094937, 53.1426861], [-4.409102, 53.1430158], [-4.4089653, 53.1430401], [-4.4089998, 53.1431019], [-4.408832, 53.143314], [-4.4085552, 53.14338], [-4.4084372, 53.1432448], [-4.4082226, 53.1434186], [-4.4081046, 53.1436116], [-4.4079214, 53.1438008], [-4.407849, 53.1438366], [-4.4077291, 53.1438433], [-4.4076864, 53.1437788], [-4.4077425, 53.1437339], [-4.4077949, 53.1436688], [-4.4077837, 53.1435768], [-4.4077388, 53.1436397], [-4.4077088, 53.1436531], [-4.4076789, 53.1436307], [-4.4076378, 53.1436576], [-4.4075891, 53.1436756], [-4.4074782, 53.1436717], [-4.4074195, 53.1435143], [-4.4075466, 53.1426273], [-4.4075012, 53.1424935], [-4.4073502, 53.1424472], [-4.4071983, 53.1424762], [-4.407096, 53.1425511], [-4.4069257, 53.1424987], [-4.4068658, 53.1424411], [-4.4068897, 53.1423037], [-4.4068742, 53.1420731], [-4.4068446, 53.1420363], [-4.4068714, 53.1419859], [-4.4068539, 53.1415643], [-4.4069075, 53.1413527], [-4.4068767, 53.1411143], [-4.4066546, 53.1408589], [-4.4066342, 53.1408959], [-4.4064525, 53.1409613], [-4.4063344, 53.140945], [-4.406189, 53.140885], [-4.406134, 53.1408171], [-4.4060642, 53.1407609], [-4.4058128, 53.140771], [-4.4057794, 53.140501], [-4.4057936, 53.1404417], [-4.405836, 53.1404021], [-4.4059585, 53.1403766], [-4.4060716, 53.1403568], [-4.4061175, 53.140324], [-4.4061942, 53.1402692], [-4.4061895, 53.1401985], [-4.4063686, 53.1400713], [-4.4065376, 53.1400472], [-4.40663, 53.1399606], [-4.4067282, 53.1398601], [-4.4067571, 53.139815], [-4.4070574, 53.139718], [-4.4073174, 53.1396175], [-4.4074618, 53.1395448], [-4.4075866, 53.1393943], [-4.4075866, 53.1392816], [-4.4075437, 53.1392269], [-4.4075356, 53.1391883], [-4.4076618, 53.1389515], [-4.4076782, 53.1389028], [-4.4076782, 53.1388274], [-4.4076607, 53.1387276], [-4.4077945, 53.1385778], [-4.4078864, 53.138588], [-4.4079254, 53.138614], [-4.408229, 53.1384423], [-4.4081553, 53.1384059], [-4.4083331, 53.1383044], [-4.408523, 53.1383207], [-4.409168, 53.1382715], [-4.409938, 53.138048], [-4.4106851, 53.1378604], [-4.4110162, 53.1376765], [-4.4111522, 53.1375344], [-4.4112042, 53.1373359], [-4.4109155, 53.137015], [-4.4109824, 53.1369088], [-4.4113538, 53.1364199], [-4.4115139, 53.136279], [-4.4116314, 53.1361587], [-4.411753, 53.1360958], [-4.4118308, 53.1359985], [-4.4119761, 53.135887], [-4.4116972, 53.1357602], [-4.4116274, 53.1356475], [-4.4116167, 53.1355156], [-4.4116811, 53.1353933], [-4.4118152, 53.1353096], [-4.4119386, 53.1352967], [-4.41204, 53.1353399], [-4.412072, 53.1354051], [-4.412072, 53.135501], [-4.41204, 53.1356813], [-4.4121743, 53.135781], [-4.4123057, 53.1357834], [-4.4123933, 53.1357285], [-4.412471, 53.1356506], [-4.4125132, 53.13557], [-4.4125771, 53.1355163], [-4.4126346, 53.1355125], [-4.4126594, 53.1355619], [-4.4128415, 53.1354677], [-4.4128329, 53.1354166], [-4.4128393, 53.1353629], [-4.4129501, 53.1353038], [-4.4130247, 53.1352555], [-4.413095, 53.1352555], [-4.4134842, 53.1350705], [-4.4136194, 53.1349639], [-4.4136064, 53.1349145], [-4.4136841, 53.1348517], [-4.4137686, 53.134805], [-4.4138861, 53.134765], [-4.4131047, 53.1345619], [-4.4130006, 53.1347024], [-4.41289, 53.1347179], [-4.4125322, 53.1346555], [-4.4124888, 53.1345723], [-4.4125843, 53.1344213], [-4.4127593, 53.1342706], [-4.4128777, 53.1342828], [-4.4129916, 53.1342124], [-4.4129146, 53.1342084], [-4.4129079, 53.1341843], [-4.4129514, 53.134116], [-4.4130353, 53.1340258], [-4.4132869, 53.1337812], [-4.4135558, 53.1335575], [-4.4138594, 53.1335575], [-4.4139288, 53.1334534], [-4.4137726, 53.133469], [-4.4136165, 53.133443], [-4.4139028, 53.1332608], [-4.414137, 53.1332244], [-4.414215, 53.133292], [-4.4141264, 53.1333695], [-4.4139911, 53.133428], [-4.4140877, 53.1334469], [-4.4141498, 53.1334791], [-4.4140829, 53.133633], [-4.4139372, 53.1337848], [-4.4138554, 53.1338612], [-4.4137658, 53.1338773], [-4.4136721, 53.1340094], [-4.413689, 53.1340388], [-4.4136941, 53.1340632], [-4.4136603, 53.1340804], [-4.4135927, 53.1340804], [-4.4134165, 53.1342988], [-4.413335, 53.1343329], [-4.4132599, 53.1343297], [-4.4131741, 53.1344713], [-4.4139036, 53.1346708], [-4.4139627, 53.1345903], [-4.4139307, 53.1345721], [-4.4139451, 53.1344972], [-4.4140564, 53.1343251], [-4.414129, 53.1342284], [-4.4142845, 53.1340336], [-4.4143756, 53.1340012], [-4.4144294, 53.1340368], [-4.4144133, 53.1341623], [-4.4144446, 53.1343038], [-4.4144884, 53.1343876], [-4.4145527, 53.1343876], [-4.4145527, 53.1345614], [-4.4146064, 53.1344777], [-4.4146493, 53.134452], [-4.4147029, 53.1344552], [-4.4146708, 53.1344069], [-4.4146868, 53.1343747], [-4.4146547, 53.1343361], [-4.4146169, 53.1343202], [-4.4146171, 53.1342524], [-4.4146493, 53.1342106], [-4.4146922, 53.1341494], [-4.4147673, 53.1341366], [-4.4148049, 53.1341527], [-4.4148876, 53.1342152], [-4.414811, 53.1343284], [-4.4148794, 53.1344268], [-4.4147837, 53.1345121], [-4.4146388, 53.1347352], [-4.4145806, 53.1347758], [-4.4148156, 53.1349728], [-4.4150275, 53.1351379], [-4.4152387, 53.1352569], [-4.415325, 53.1351761], [-4.415374, 53.1351302], [-4.4154877, 53.1350068], [-4.4157845, 53.1348373], [-4.4158736, 53.1347772], [-4.415946, 53.1348006], [-4.4159961, 53.1347672], [-4.4160684, 53.1347538], [-4.4162299, 53.1347605], [-4.4162688, 53.1347271], [-4.4163301, 53.1347271], [-4.4162967, 53.1348507], [-4.4163245, 53.1348841], [-4.4162577, 53.1349509], [-4.4161352, 53.1349475], [-4.4160684, 53.1349542], [-4.4160295, 53.1349876], [-4.4160851, 53.1350344], [-4.4161044, 53.1351684], [-4.4158557, 53.1354301], [-4.4159014, 53.1354741], [-4.4159794, 53.1354518], [-4.4160295, 53.1354651], [-4.4160851, 53.1354985], [-4.4160796, 53.1355386], [-4.4159765, 53.1356672], [-4.4160128, 53.1356989], [-4.4160684, 53.1357256], [-4.4160573, 53.1357657], [-4.4156614, 53.1361755], [-4.4153552, 53.1363297], [-4.4151236, 53.1366673], [-4.4146818, 53.1371909], [-4.4143592, 53.1374356], [-4.4142052, 53.1375345], [-4.4141357, 53.1376781], [-4.4141742, 53.1377595], [-4.4142102, 53.1378354], [-4.414327, 53.1380732], [-4.4142659, 53.1381635], [-4.4142075, 53.1381931], [-4.4141568, 53.1382188], [-4.4141356, 53.1382797], [-4.4141221, 53.1383184], [-4.4141275, 53.138416], [-4.4140567, 53.1384483], [-4.4140468, 53.1385245], [-4.414033, 53.138574], [-4.4139486, 53.1386023], [-4.4138843, 53.138653], [-4.4139992, 53.1386429], [-4.4139983, 53.1386814], [-4.4139104, 53.1387027], [-4.4138377, 53.1387108], [-4.4136772, 53.1386753], [-4.4134981, 53.1386398], [-4.4134356, 53.1386246], [-4.4133748, 53.1385952], [-4.4133494, 53.1385942], [-4.4133156, 53.1386115], [-4.4133345, 53.1386401], [-4.4135103, 53.1386664], [-4.4136962, 53.1387009], [-4.4137908, 53.1387394], [-4.4138264, 53.1388481], [-4.4137063, 53.1389198], [-4.4136744, 53.1390103], [-4.4136607, 53.1390462], [-4.413592, 53.1391142], [-4.413534, 53.1391225]]], &quot;type&quot;: &quot;Polygon&quot;}, &quot;id&quot;: &quot;65&quot;, &quot;properties&quot;: {&quot;FID&quot;: 65}, &quot;type&quot;: &quot;Feature&quot;}, {&quot;bbox&quot;: [-4.6843985, 53.3219772, -4.682804, 53.3227477], &quot;geometry&quot;: {&quot;coordinates&quot;: [[[-4.6842409, 53.322165], [-4.6843985, 53.3223366], [-4.6843329, 53.3223811], [-4.6843939, 53.3225112], [-4.6842894, 53.3226718], [-4.6842439, 53.3226392], [-4.6840372, 53.3223818], [-4.683939, 53.3223432], [-4.6838916, 53.3223521], [-4.6839215, 53.3223732], [-4.6839784, 53.3224582], [-4.6840522, 53.3225026], [-4.6841315, 53.3226046], [-4.6841684, 53.3226953], [-4.6840126, 53.3227421], [-4.6839941, 53.3227477], [-4.6839033, 53.3227477], [-4.6836716, 53.3224764], [-4.6835898, 53.3225443], [-4.6836398, 53.3226636], [-4.683608, 53.3226826], [-4.6834899, 53.3225931], [-4.6833082, 53.3224303], [-4.6831356, 53.3223435], [-4.6829857, 53.322235], [-4.6828631, 53.3222974], [-4.682804, 53.3221509], [-4.682963, 53.3221047], [-4.6831317, 53.3219772], [-4.6831765, 53.3220125], [-4.6831356, 53.32214], [-4.6832673, 53.3221156], [-4.6834808, 53.3219772], [-4.6836807, 53.3220179], [-4.6837625, 53.3221102], [-4.684035, 53.3220912], [-4.6842409, 53.322165]]], &quot;type&quot;: &quot;Polygon&quot;}, &quot;id&quot;: &quot;66&quot;, &quot;properties&quot;: {&quot;FID&quot;: 66}, &quot;type&quot;: &quot;Feature&quot;}, {&quot;bbox&quot;: [-4.7008165, 53.3059629, -4.6968792, 53.3077535], &quot;geometry&quot;: {&quot;coordinates&quot;: [[[-4.698135, 53.3068074], [-4.69834, 53.3067175], [-4.6984714, 53.3065969], [-4.6985986, 53.3063843], [-4.6985351, 53.3063904], [-4.6984996, 53.3063531], [-4.698525, 53.3063117], [-4.6986042, 53.3062739], [-4.6987801, 53.3061663], [-4.6988916, 53.3061219], [-4.6989744, 53.3061259], [-4.6989406, 53.3061935], [-4.6991275, 53.3061184], [-4.6993098, 53.3061068], [-4.6993259, 53.3061532], [-4.6995473, 53.3060916], [-4.6998999, 53.3059729], [-4.7003617, 53.3059629], [-4.7003953, 53.306003], [-4.7001266, 53.3061669], [-4.7000986, 53.306202], [-4.7002864, 53.3061473], [-4.7003784, 53.3061473], [-4.700409, 53.3062683], [-4.700365, 53.3063086], [-4.7004867, 53.3062723], [-4.7005306, 53.3062773], [-4.7005002, 53.306346], [-4.7005306, 53.3063834], [-4.7005019, 53.3064207], [-4.7005864, 53.3064025], [-4.7006793, 53.3064147], [-4.7008137, 53.3064174], [-4.7008144, 53.3065015], [-4.7006979, 53.3065651], [-4.7007874, 53.3065782], [-4.700779, 53.3066408], [-4.7006709, 53.3066711], [-4.7006219, 53.3067276], [-4.7006658, 53.3067398], [-4.700779, 53.3067165], [-4.7008162, 53.3067196], [-4.7008165, 53.3067602], [-4.7006844, 53.3068135], [-4.7005289, 53.3068326], [-4.7004415, 53.3067903], [-4.7002792, 53.3068371], [-4.7002704, 53.3069063], [-4.700316, 53.3069387], [-4.7002282, 53.3070326], [-4.7000203, 53.3070921], [-4.7000828, 53.3071052], [-4.700109, 53.3071422], [-4.6999098, 53.3072669], [-4.6994813, 53.3074839], [-4.6995506, 53.3075323], [-4.6991094, 53.3077301], [-4.6989443, 53.3077535], [-4.6987707, 53.3076649], [-4.6986224, 53.3075043], [-4.6986101, 53.3074765], [-4.6985692, 53.3073839], [-4.6984469, 53.3074083], [-4.6983342, 53.3074308], [-4.6982928, 53.3074047], [-4.698183, 53.3073354], [-4.6981858, 53.3072819], [-4.6980487, 53.3073321], [-4.6979535, 53.3072987], [-4.6979591, 53.3072485], [-4.6979032, 53.3072351], [-4.6976998, 53.3072964], [-4.6976093, 53.3073237], [-4.6975891, 53.3073028], [-4.6975177, 53.3072287], [-4.6974564, 53.3071388], [-4.6971338, 53.3072665], [-4.6970547, 53.3071731], [-4.6969082, 53.30701], [-4.6969252, 53.3069765], [-4.6969418, 53.3069437], [-4.6969535, 53.3069205], [-4.6968792, 53.3067933], [-4.6970989, 53.3067135], [-4.6973118, 53.3066449], [-4.6975027, 53.3065762], [-4.6976311, 53.306555], [-4.6976041, 53.3066529], [-4.6976561, 53.3066513], [-4.6977629, 53.3066267], [-4.6977443, 53.3065621], [-4.6977984, 53.3065277], [-4.6978643, 53.3066449], [-4.6979133, 53.3066307], [-4.6978817, 53.3065023], [-4.6981904, 53.3064148], [-4.6983024, 53.3065768], [-4.698243, 53.3066135], [-4.6980669, 53.3067495], [-4.698135, 53.3068074]]], &quot;type&quot;: &quot;Polygon&quot;}, &quot;id&quot;: &quot;67&quot;, &quot;properties&quot;: {&quot;FID&quot;: 67}, &quot;type&quot;: &quot;Feature&quot;}, {&quot;bbox&quot;: [-4.6967017, 53.2400232, -4.5534627, 53.33109], &quot;geometry&quot;: {&quot;coordinates&quot;: [[[-4.6813325, 53.321107], [-4.6813248, 53.3215353], [-4.6809164, 53.3221064], [-4.6808331, 53.3222538], [-4.6811001, 53.3223947], [-4.6816939, 53.3221174], [-4.6821217, 53.321971], [-4.6825627, 53.3224527], [-4.6824128, 53.3225331], [-4.6824705, 53.3227203], [-4.6820896, 53.3229159], [-4.6817477, 53.3228247], [-4.6815997, 53.3228684], [-4.6817965, 53.3231372], [-4.6811061, 53.323611], [-4.6807529, 53.3234672], [-4.679985, 53.3233736], [-4.6795287, 53.3230961], [-4.679389, 53.3228948], [-4.6789139, 53.3231251], [-4.6788165, 53.323115], [-4.6782433, 53.32262], [-4.6775198, 53.3222258], [-4.6771217, 53.3218788], [-4.6765048, 53.3214038], [-4.6760691, 53.3215732], [-4.6757661, 53.321298], [-4.6755587, 53.32114], [-4.6753425, 53.3210151], [-4.6749388, 53.3210174], [-4.6751983, 53.3211632], [-4.675329, 53.3213722], [-4.6751829, 53.3214756], [-4.6748657, 53.3215169], [-4.6746062, 53.3214721], [-4.6743083, 53.3214009], [-4.6743371, 53.3212723], [-4.6741141, 53.3210679], [-4.674018, 53.3211437], [-4.6740718, 53.3212666], [-4.6738629, 53.3213786], [-4.6734497, 53.3211657], [-4.6730069, 53.3215156], [-4.6715856, 53.3215855], [-4.6707197, 53.3211988], [-4.6697623, 53.3213265], [-4.6692419, 53.3214889], [-4.6686062, 53.3215163], [-4.6682796, 53.3213905], [-4.6675702, 53.3207614], [-4.6672383, 53.3205297], [-4.6671451, 53.320325], [-4.6673121, 53.3198368], [-4.667028, 53.3196278], [-4.6671286, 53.31922], [-4.6659988, 53.3189056], [-4.6655768, 53.3190396], [-4.6647118, 53.3187956], [-4.6630058, 53.3189466], [-4.6613048, 53.3192266], [-4.6604947, 53.3193771], [-4.6602518, 53.3196266], [-4.6600568, 53.3201416], [-4.6596338, 53.3202746], [-4.6592168, 53.3205366], [-4.6583608, 53.3205486], [-4.6575058, 53.3205606], [-4.6570878, 53.3208226], [-4.6559257, 53.3211941], [-4.6553968, 53.3213586], [-4.6551388, 53.3214702], [-4.6547945, 53.3211889], [-4.6549657, 53.3216053], [-4.6545202, 53.3218446], [-4.6544779, 53.3220967], [-4.6546165, 53.322275], [-4.6550933, 53.3229121], [-4.6550741, 53.3230267], [-4.6549069, 53.3230872], [-4.654124, 53.3224894], [-4.6540459, 53.3224673], [-4.6539285, 53.3227917], [-4.6533178, 53.3229246], [-4.6524628, 53.3229366], [-4.6520348, 53.3229426], [-4.6516078, 53.3229486], [-4.6511698, 53.3226986], [-4.6498661, 53.3222736], [-4.6506998, 53.3216304], [-4.6509261, 53.3212893], [-4.6508846, 53.3210803], [-4.6504752, 53.3208115], [-4.6496703, 53.3205686], [-4.6493569, 53.3206119], [-4.6490458, 53.3207001], [-4.6481276, 53.3215517], [-4.6482412, 53.3217921], [-4.6478623, 53.3221244], [-4.6475716, 53.3220967], [-4.6470213, 53.3226069], [-4.6464822, 53.3227598], [-4.6463892, 53.3227862], [-4.6458795, 53.3232847], [-4.6450618, 53.324082], [-4.644707, 53.3244114], [-4.6440454, 53.3248347], [-4.6432023, 53.3251728], [-4.6425037, 53.3253645], [-4.6417947, 53.3254634], [-4.6405606, 53.3255175], [-4.6354528, 53.3255635], [-4.6322218, 53.3256045], [-4.6299448, 53.3256496], [-4.6289274, 53.3257243], [-4.6281672, 53.3259626], [-4.6277423, 53.326196], [-4.6210658, 53.3300296], [-4.6195019, 53.330939], [-4.6195533, 53.3309772], [-4.6195708, 53.3310265], [-4.6195339, 53.3310681], [-4.6194681, 53.33109], [-4.6193887, 53.3310818], [-4.6190213, 53.3308553], [-4.6190077, 53.3308355], [-4.6190049, 53.3308016], [-4.6190262, 53.3307771], [-4.6190514, 53.330761], [-4.6190914, 53.33075], [-4.6191438, 53.3307458], [-4.6191863, 53.3307567], [-4.6192419, 53.3307901], [-4.6194192, 53.3306772], [-4.6196906, 53.3305045], [-4.6198744, 53.3303875], [-4.620792, 53.3298645], [-4.6271581, 53.3261556], [-4.6276771, 53.3258677], [-4.628278, 53.3256311], [-4.6289951, 53.3254774], [-4.6297782, 53.3254156], [-4.6412056, 53.3252646], [-4.6418603, 53.3252315], [-4.6427004, 53.325072], [-4.6430978, 53.3249549], [-4.6437426, 53.3246976], [-4.6442786, 53.3243651], [-4.6445664, 53.3241401], [-4.6447817, 53.3239077], [-4.6459458, 53.3227601], [-4.6455227, 53.3226179], [-4.6476527, 53.3204404], [-4.6475101, 53.3204007], [-4.6476228, 53.3202066], [-4.6480337, 53.3199524], [-4.647504, 53.3200846], [-4.6476575, 53.3198859], [-4.6479647, 53.3197257], [-4.6479149, 53.3196161], [-4.6478413, 53.319454], [-4.6483525, 53.3189703], [-4.6483686, 53.3187972], [-4.6482613, 53.3186482], [-4.6478445, 53.3184649], [-4.6476021, 53.3186522], [-4.6472396, 53.3188266], [-4.6468413, 53.3188995], [-4.6461492, 53.3186148], [-4.6455741, 53.3181509], [-4.6456713, 53.3179653], [-4.6454924, 53.3178308], [-4.6454073, 53.3176181], [-4.6457979, 53.3174191], [-4.6460116, 53.3173389], [-4.6460219, 53.3172735], [-4.6462529, 53.317221], [-4.6463725, 53.3172046], [-4.6463688, 53.3171636], [-4.6462114, 53.3171385], [-4.6461696, 53.3171319], [-4.6461189, 53.3171238], [-4.6457829, 53.3170703], [-4.6454319, 53.3170246], [-4.644908, 53.3173929], [-4.6442399, 53.3176093], [-4.6439418, 53.317844], [-4.6437759, 53.3178585], [-4.6436792, 53.3178669], [-4.6435818, 53.3179616], [-4.6434131, 53.3180025], [-4.6432713, 53.318203], [-4.6431769, 53.3182967], [-4.6432346, 53.3185413], [-4.6431387, 53.3186171], [-4.6429605, 53.3189553], [-4.6428658, 53.3193609], [-4.6426196, 53.3193967], [-4.6425659, 53.3191814], [-4.6423627, 53.3188236], [-4.6420481, 53.3184996], [-4.6418488, 53.318449], [-4.6416344, 53.318407], [-4.641541, 53.3183888], [-4.6408399, 53.3182516], [-4.6399379, 53.3179887], [-4.6385317, 53.3175938], [-4.6374493, 53.3172969], [-4.6364099, 53.3170978], [-4.6360948, 53.3170952], [-4.6354471, 53.3170089], [-4.6341525, 53.3168675], [-4.6339985, 53.3171344], [-4.6339548, 53.3172101], [-4.633817, 53.3174489], [-4.6340044, 53.317481], [-4.6339813, 53.3175305], [-4.6337186, 53.3174808], [-4.6338291, 53.3173073], [-4.6334777, 53.3172476], [-4.6323104, 53.3167714], [-4.6318645, 53.3165872], [-4.6310263, 53.3163932], [-4.6309552, 53.3161896], [-4.6304432, 53.3159132], [-4.6305206, 53.315763], [-4.6305019, 53.3155942], [-4.6301314, 53.3154909], [-4.6300202, 53.3158163], [-4.6299419, 53.316048], [-4.6297951, 53.3160319], [-4.6298826, 53.3157919], [-4.6294818, 53.3157209], [-4.6292851, 53.3154862], [-4.6294421, 53.3152573], [-4.6292178, 53.3150788], [-4.6292398, 53.3149496], [-4.6290536, 53.314894], [-4.6289984, 53.3148317], [-4.6290363, 53.3147441], [-4.6291594, 53.3145857], [-4.6291436, 53.3145432], [-4.629179, 53.314492], [-4.6288646, 53.314433], [-4.6287007, 53.3144111], [-4.6284203, 53.3144382], [-4.6283064, 53.3144727], [-4.6281097, 53.3145322], [-4.6279846, 53.3145193], [-4.6278746, 53.3144794], [-4.6277301, 53.3144536], [-4.6275705, 53.3144949], [-4.6275998, 53.3145364], [-4.6275748, 53.3145451], [-4.6274999, 53.3144855], [-4.6274478, 53.3144421], [-4.6273599, 53.314369], [-4.6273155, 53.314332], [-4.6289057, 53.3136485], [-4.6289723, 53.3135989], [-4.6289984, 53.3135428], [-4.6289778, 53.3134786], [-4.6287223, 53.3129956], [-4.6286833, 53.3129301], [-4.6286443, 53.3129389], [-4.6285834, 53.3128253], [-4.6293906, 53.3120524], [-4.6295034, 53.3120907], [-4.6299122, 53.311705], [-4.6307995, 53.3108535], [-4.6312757, 53.3101985], [-4.6313105, 53.310101], [-4.6313327, 53.310039], [-4.6313491, 53.309993], [-4.6313689, 53.3099377], [-4.6313802, 53.309906], [-4.6314061, 53.3098336], [-4.6314717, 53.309672], [-4.6315148, 53.3095656], [-4.6316094, 53.3095596], [-4.6316175, 53.3094297], [-4.6316636, 53.309235], [-4.6316361, 53.3090637], [-4.6316746, 53.309057], [-4.6313941, 53.3078656], [-4.6313566, 53.3078338], [-4.6313037, 53.3078073], [-4.6312486, 53.3077906], [-4.6312034, 53.3077811], [-4.6311488, 53.3077823], [-4.6310987, 53.307788], [-4.6309993, 53.3078322], [-4.6308191, 53.3079736], [-4.6302659, 53.3084808], [-4.6298108, 53.3088771], [-4.6297585, 53.3089226], [-4.629461, 53.3092082], [-4.6296097, 53.3092684], [-4.629083, 53.3097443], [-4.6290371, 53.3097857], [-4.6290024, 53.3098172], [-4.6289723, 53.3098443], [-4.6289313, 53.3098814], [-4.6288709, 53.309936], [-4.6285641, 53.3102137], [-4.6284075, 53.3101616], [-4.6265196, 53.3118263], [-4.6264455, 53.3118485], [-4.6262862, 53.3117856], [-4.6261405, 53.3119364], [-4.6263256, 53.3120136], [-4.6262394, 53.3120878], [-4.6261687, 53.3120568], [-4.6258342, 53.3122079], [-4.6249288, 53.3128369], [-4.6246927, 53.3128283], [-4.6241779, 53.3128095], [-4.6239382, 53.3127711], [-4.6237472, 53.3126242], [-4.6236526, 53.3122469], [-4.6238921, 53.3119955], [-4.6237166, 53.3119248], [-4.6226298, 53.3119637], [-4.6224302, 53.3120563], [-4.622136, 53.3120186], [-4.621561, 53.3118014], [-4.6211505, 53.3118299], [-4.6210504, 53.3125171], [-4.6212067, 53.3125345], [-4.6211887, 53.3126563], [-4.621053, 53.3126568], [-4.6210389, 53.3127268], [-4.6208347, 53.3127208], [-4.6211064, 53.3110243], [-4.6210431, 53.3109827], [-4.6210142, 53.3107805], [-4.6209327, 53.3106255], [-4.6208153, 53.3105333], [-4.6205193, 53.3104565], [-4.6201496, 53.3103999], [-4.6200364, 53.310408], [-4.6198396, 53.3103269], [-4.6196885, 53.3103243], [-4.6195696, 53.310343], [-4.619446, 53.3103725], [-4.6193534, 53.3103453], [-4.6193056, 53.3102674], [-4.6192464, 53.3101797], [-4.6190963, 53.3100984], [-4.6189482, 53.3100788], [-4.6185919, 53.3100975], [-4.6185314, 53.3100649], [-4.6184547, 53.3100421], [-4.6183246, 53.3099474], [-4.6180644, 53.3099402], [-4.6178254, 53.3099956], [-4.6177, 53.3100274], [-4.6175779, 53.3101087], [-4.6174256, 53.3101863], [-4.6173577, 53.3102215], [-4.6173359, 53.3103137], [-4.6172505, 53.3103608], [-4.6171267, 53.3103603], [-4.6169947, 53.3103126], [-4.6169458, 53.3102737], [-4.616889, 53.3101522], [-4.616752, 53.3100632], [-4.6165465, 53.309999], [-4.6164362, 53.3099714], [-4.6163425, 53.3099283], [-4.6162607, 53.3098232], [-4.6161434, 53.3097611], [-4.6160893, 53.3097185], [-4.6160944, 53.3096417], [-4.6161542, 53.3095676], [-4.6161799, 53.3095215], [-4.6161705, 53.3094554], [-4.6160812, 53.3093823], [-4.6159868, 53.3093354], [-4.6158344, 53.3092339], [-4.6157381, 53.3091407], [-4.6156506, 53.3090858], [-4.6155888, 53.3090615], [-4.615525, 53.3090106], [-4.6154969, 53.3089625], [-4.6154439, 53.308895], [-4.6153445, 53.3088214], [-4.6151006, 53.3086937], [-4.6148916, 53.3086034], [-4.6146703, 53.308516], [-4.6145682, 53.3084805], [-4.6143507, 53.3084148], [-4.6141473, 53.3083706], [-4.6139724, 53.308349], [-4.6137283, 53.3083465], [-4.6135153, 53.3083604], [-4.6133672, 53.3083492], [-4.6132766, 53.3083161], [-4.6132069, 53.3082528], [-4.613203, 53.3081906], [-4.6132764, 53.3080869], [-4.6134305, 53.3079329], [-4.6135462, 53.3078756], [-4.6136919, 53.3078407], [-4.6138915, 53.3078104], [-4.6141444, 53.3077544], [-4.6143108, 53.3077022], [-4.6144758, 53.3076048], [-4.6146315, 53.3074979], [-4.6148019, 53.3073759], [-4.6148689, 53.307288], [-4.6148995, 53.3072046], [-4.6149265, 53.3070235], [-4.6149378, 53.3067483], [-4.6149315, 53.3066485], [-4.6149547, 53.3065127], [-4.6150143, 53.3064462], [-4.6151129, 53.3063936], [-4.6152829, 53.3063008], [-4.6153657, 53.306202], [-4.6153997, 53.3060863], [-4.6153971, 53.3060193], [-4.6153565, 53.305896], [-4.6153106, 53.3058159], [-4.6152089, 53.3056864], [-4.6150605, 53.3055399], [-4.6150025, 53.3054886], [-4.6147894, 53.3053329], [-4.6146891, 53.3052739], [-4.6143021, 53.3050779], [-4.6138275, 53.3048643], [-4.6136685, 53.304789], [-4.6133825, 53.3046436], [-4.6132456, 53.304568], [-4.6130258, 53.3044469], [-4.6129043, 53.3044016], [-4.6127704, 53.3043714], [-4.6126516, 53.3043266], [-4.6126463, 53.3042824], [-4.6127511, 53.3041897], [-4.6128704, 53.3040761], [-4.612919, 53.3040158], [-4.6129565, 53.3039244], [-4.6129511, 53.303858], [-4.6128128, 53.3036283], [-4.6127006, 53.3035233], [-4.6124746, 53.3033697], [-4.6123437, 53.3032935], [-4.6119124, 53.3030597], [-4.6118153, 53.3030119], [-4.6116117, 53.3029222], [-4.6113451, 53.3028191], [-4.6111834, 53.3027646], [-4.6108706, 53.3026744], [-4.610479, 53.3025863], [-4.6102924, 53.3025493], [-4.6100248, 53.3025054], [-4.6096916, 53.3024652], [-4.6093565, 53.3024418], [-4.6086408, 53.3024214], [-4.6083485, 53.3024237], [-4.6080515, 53.3024263], [-4.60778, 53.3024286], [-4.6074859, 53.3024298], [-4.6069467, 53.3024249], [-4.6067677, 53.3024221], [-4.6066674, 53.3024244], [-4.6059529, 53.3024473], [-4.6057529, 53.3024581], [-4.6055057, 53.3024834], [-4.6053552, 53.3025109], [-4.6052049, 53.3025499], [-4.604718, 53.3027107], [-4.6045562, 53.3027704], [-4.6043787, 53.3028496], [-4.6041431, 53.3029838], [-4.6039207, 53.3031321], [-4.6036619, 53.3033516], [-4.6035493, 53.3035122], [-4.6035235, 53.3036396], [-4.6036078, 53.3038252], [-4.6036466, 53.3038734], [-4.6039227, 53.3041125], [-4.6040261, 53.3041561], [-4.6042997, 53.3042276], [-4.6043461, 53.3042475], [-4.6045005, 53.3043599], [-4.6046302, 53.3045057], [-4.6046447, 53.3046021], [-4.6046111, 53.3046876], [-4.6045236, 53.3047937], [-4.604419, 53.3048967], [-4.6043585, 53.3049618], [-4.6041681, 53.3050876], [-4.6040633, 53.3051073], [-4.6038658, 53.305104], [-4.6036632, 53.3050879], [-4.6035074, 53.305044], [-4.6034528, 53.305004], [-4.6033836, 53.3049021], [-4.6033458, 53.3048391], [-4.6033007, 53.304761], [-4.6032768, 53.304594], [-4.6032828, 53.3045378], [-4.6032711, 53.3044863], [-4.6032118, 53.304461], [-4.6031492, 53.304477], [-4.603101, 53.3045289], [-4.6030488, 53.3046792], [-4.6030352, 53.3047866], [-4.6029902, 53.3048595], [-4.6029208, 53.3048499], [-4.6028766, 53.3048153], [-4.6027831, 53.3046252], [-4.6027422, 53.3045231], [-4.6026616, 53.3044525], [-4.6025369, 53.3044763], [-4.6025176, 53.3045801], [-4.6025307, 53.3046513], [-4.6024844, 53.3048031], [-4.6024353, 53.3049256], [-4.6023218, 53.304935], [-4.6021445, 53.3048985], [-4.6019742, 53.304871], [-4.6019717, 53.3048861], [-4.6020803, 53.3049709], [-4.6020599, 53.3050378], [-4.6019636, 53.305079], [-4.6017469, 53.3051227], [-4.6015662, 53.3051226], [-4.6013668, 53.3051275], [-4.6012603, 53.3051675], [-4.6011938, 53.305191], [-4.601108, 53.3052214], [-4.60104, 53.3052809], [-4.600855, 53.3054237], [-4.6006551, 53.305492], [-4.6004887, 53.3055193], [-4.6003318, 53.3055243], [-4.600234, 53.3055353], [-4.6000612, 53.3055608], [-4.5999387, 53.3055365], [-4.5997772, 53.3054832], [-4.5996524, 53.305446], [-4.5995567, 53.3054259], [-4.5994618, 53.3054304], [-4.5993753, 53.3054829], [-4.5993124, 53.3055375], [-4.5991806, 53.3055772], [-4.5990403, 53.3055808], [-4.5989499, 53.3055863], [-4.5988127, 53.3056057], [-4.5986328, 53.3056101], [-4.5984795, 53.3055656], [-4.5983699, 53.3055386], [-4.5982151, 53.3055596], [-4.5981223, 53.3055591], [-4.5980414, 53.3055342], [-4.5979406, 53.3054933], [-4.5978246, 53.305412], [-4.5977457, 53.3053139], [-4.5976505, 53.3052566], [-4.5975798, 53.3052519], [-4.5974686, 53.3052867], [-4.5974121, 53.305356], [-4.5974351, 53.3053986], [-4.5975351, 53.3054712], [-4.5975544, 53.3055438], [-4.5975077, 53.3056521], [-4.5974014, 53.3057098], [-4.5973264, 53.3057204], [-4.5971596, 53.3057076], [-4.5969601, 53.3056334], [-4.5968866, 53.3056013], [-4.5967928, 53.3055789], [-4.5966776, 53.305575], [-4.5964956, 53.3055818], [-4.596194, 53.3055661], [-4.5961042, 53.3055443], [-4.5959809, 53.3054647], [-4.5959529, 53.3053772], [-4.5959617, 53.3052623], [-4.5959417, 53.3051816], [-4.5958437, 53.305105], [-4.5957092, 53.3050678], [-4.5955622, 53.3050475], [-4.5954554, 53.3050461], [-4.5952046, 53.3050938], [-4.595111, 53.3050701], [-4.5950522, 53.3050417], [-4.5949413, 53.304991], [-4.5948406, 53.3049326], [-4.5947657, 53.304789], [-4.5947508, 53.3046933], [-4.5946916, 53.3045729], [-4.5946095, 53.3044967], [-4.5944598, 53.3044005], [-4.5943191, 53.3043326], [-4.5940975, 53.3042755], [-4.5939985, 53.3042703], [-4.5937381, 53.3042618], [-4.5934724, 53.304256], [-4.5934141, 53.3042954], [-4.5933684, 53.3043126], [-4.5932264, 53.3042917], [-4.5931454, 53.3043087], [-4.5930282, 53.3043361], [-4.5927638, 53.3042954], [-4.5926285, 53.3042355], [-4.5925379, 53.3041656], [-4.5924983, 53.3041027], [-4.5924997, 53.3039454], [-4.5925348, 53.3038515], [-4.5925712, 53.3037509], [-4.5925749, 53.3036148], [-4.5925194, 53.3034833], [-4.5924251, 53.3033654], [-4.5923495, 53.3032865], [-4.5922344, 53.3031882], [-4.5921576, 53.303129], [-4.5920097, 53.3029977], [-4.5919585, 53.3029255], [-4.5919591, 53.3027862], [-4.59199, 53.302743], [-4.5920595, 53.3026757], [-4.5921108, 53.3026009], [-4.5920988, 53.3025141], [-4.5919613, 53.3023638], [-4.5918368, 53.3022764], [-4.5914825, 53.3021115], [-4.5914438, 53.3021385], [-4.5913336, 53.3020868], [-4.5913554, 53.3020757], [-4.5912654, 53.3020335], [-4.5913191, 53.3019794], [-4.5913069, 53.301826], [-4.5912762, 53.301691], [-4.5912077, 53.3016092], [-4.5910832, 53.3015413], [-4.5909522, 53.3015], [-4.5907724, 53.3014621], [-4.590526, 53.3014289], [-4.5901852, 53.3014155], [-4.5900102, 53.3014249], [-4.5897579, 53.3014498], [-4.5894141, 53.3014909], [-4.5890697, 53.3015439], [-4.5887754, 53.3016031], [-4.5884817, 53.3016813], [-4.5883077, 53.3017533], [-4.5882327, 53.3018092], [-4.5881662, 53.3018718], [-4.588067, 53.301932], [-4.5879559, 53.3019703], [-4.5878635, 53.30199], [-4.5876511, 53.3020029], [-4.587452, 53.3020247], [-4.5873668, 53.3020379], [-4.5871228, 53.3020613], [-4.5869083, 53.3020921], [-4.5867423, 53.3021161], [-4.5865919, 53.3021292], [-4.5864557, 53.3021065], [-4.5863688, 53.302046], [-4.5862066, 53.3019528], [-4.5860509, 53.3018909], [-4.5859235, 53.3018171], [-4.5858557, 53.3017369], [-4.5858042, 53.3016085], [-4.5857657, 53.3015368], [-4.5856677, 53.3014361], [-4.5854951, 53.3013308], [-4.5853586, 53.301277], [-4.5851139, 53.3012028], [-4.5849927, 53.3011365], [-4.5849527, 53.3010836], [-4.584957, 53.3010062], [-4.5850151, 53.3009537], [-4.5850971, 53.3009257], [-4.5854127, 53.3008994], [-4.5856615, 53.3008656], [-4.5858869, 53.3008035], [-4.5860115, 53.3007512], [-4.5861276, 53.3006831], [-4.5862392, 53.3006266], [-4.5866845, 53.3004843], [-4.5869656, 53.3002102], [-4.5875535, 53.2999274], [-4.5880916, 53.2996643], [-4.5882714, 53.2995324], [-4.5883535, 53.2994477], [-4.5884202, 53.2993788], [-4.5885098, 53.2992382], [-4.5885431, 53.2990734], [-4.5885399, 53.2989559], [-4.5885135, 53.2987985], [-4.5884564, 53.2986749], [-4.5883873, 53.298654], [-4.5883507, 53.29857], [-4.5883649, 53.2984664], [-4.5883845, 53.2983241], [-4.5884188, 53.2980747], [-4.5882643, 53.2978188], [-4.5884526, 53.2975556], [-4.5888299, 53.297334], [-4.5890552, 53.2969835], [-4.5889153, 53.2967005], [-4.5887879, 53.2965024], [-4.5890268, 53.296314], [-4.5887326, 53.2957691], [-4.5891714, 53.2949759], [-4.5891956, 53.2946488], [-4.5888538, 53.2942532], [-4.5888184, 53.2938861], [-4.5889021, 53.2936645], [-4.5890636, 53.2933272], [-4.5890137, 53.2931422], [-4.5886414, 53.2928311], [-4.5883431, 53.2924958], [-4.5881645, 53.2922575], [-4.588107, 53.2920504], [-4.587862, 53.2918875], [-4.5874818, 53.2916212], [-4.5870319, 53.2914646], [-4.5836141, 53.2904107], [-4.5837176, 53.2902985], [-4.5838168, 53.2901908], [-4.5839354, 53.2901765], [-4.586841, 53.2910204], [-4.5868391, 53.2909723], [-4.5840307, 53.2901036], [-4.5840957, 53.2900398], [-4.58415, 53.2899866], [-4.5842525, 53.289886], [-4.5843058, 53.2898337], [-4.5845137, 53.2896297], [-4.5846863, 53.2896862], [-4.5847101, 53.2898595], [-4.5884438, 53.2910653], [-4.5886538, 53.2910206], [-4.589241, 53.2910965], [-4.5894519, 53.290905], [-4.5898594, 53.2910097], [-4.5902071, 53.2913098], [-4.5905088, 53.2907714], [-4.5907001, 53.2907169], [-4.5908662, 53.2907978], [-4.5912247, 53.2907544], [-4.5912395, 53.2907487], [-4.5914594, 53.2906646], [-4.5916137, 53.2907018], [-4.5917337, 53.2907746], [-4.5920454, 53.290791], [-4.5932647, 53.2906638], [-4.5935482, 53.2905648], [-4.5936693, 53.2903698], [-4.5937914, 53.2902588], [-4.5941842, 53.2900229], [-4.5940675, 53.289619], [-4.593857, 53.2894229], [-4.594065, 53.2893838], [-4.5941814, 53.289085], [-4.5947063, 53.2885058], [-4.5945665, 53.2880949], [-4.5943866, 53.2880661], [-4.5945228, 53.2878684], [-4.5948306, 53.2876204], [-4.5954927, 53.2875759], [-4.5962638, 53.2874986], [-4.5966166, 53.2876452], [-4.5971442, 53.2876078], [-4.5973825, 53.2877667], [-4.5979952, 53.2878312], [-4.5979366, 53.288064], [-4.5981522, 53.288261], [-4.5981009, 53.288476], [-4.5982049, 53.2886358], [-4.5985194, 53.2886302], [-4.5986902, 53.2884689], [-4.599106, 53.2882911], [-4.5994827, 53.2880451], [-4.5999391, 53.287987], [-4.6001337, 53.2879149], [-4.6004385, 53.2877013], [-4.6008751, 53.2876842], [-4.6014275, 53.287754], [-4.6015794, 53.2879207], [-4.6018405, 53.2879635], [-4.6020655, 53.2876472], [-4.6027491, 53.28728], [-4.6032129, 53.2868721], [-4.6030579, 53.2864876], [-4.6017044, 53.2867281], [-4.6012089, 53.2867742], [-4.601026, 53.286673], [-4.600519, 53.2865066], [-4.5990235, 53.2867014], [-4.5984727, 53.2866283], [-4.5980491, 53.2860508], [-4.5984529, 53.2852796], [-4.5983538, 53.2848701], [-4.597995, 53.2844417], [-4.597931, 53.2842677], [-4.5973163, 53.2838977], [-4.5971562, 53.2836423], [-4.597298, 53.2835299], [-4.5973949, 53.2834709], [-4.598654, 53.2831072], [-4.5995181, 53.2829346], [-4.600186, 53.2829823], [-4.6010089, 53.2828401], [-4.6020929, 53.2828769], [-4.6030811, 53.2829137], [-4.604044, 53.2828622], [-4.6042417, 53.2828996], [-4.604426, 53.2829082], [-4.604564, 53.2829334], [-4.6045778, 53.2829571], [-4.6045877, 53.2830161], [-4.6045779, 53.2830908], [-4.6046013, 53.2831423], [-4.6046694, 53.2832006], [-4.6047521, 53.2832192], [-4.6049443, 53.2831602], [-4.6049821, 53.2831823], [-4.6049609, 53.2832131], [-4.6049693, 53.2833085], [-4.6049622, 53.2833305], [-4.6049251, 53.2833808], [-4.6049523, 53.283399], [-4.6049874, 53.2834507], [-4.6049635, 53.2834816], [-4.6055007, 53.2836519], [-4.6056144, 53.2835329], [-4.605748, 53.2835053], [-4.6057878, 53.2834369], [-4.6060205, 53.2834394], [-4.6060658, 53.2834674], [-4.6062323, 53.2834985], [-4.6063587, 53.2835523], [-4.6064323, 53.2836331], [-4.6073461, 53.2836131], [-4.6073932, 53.2836089], [-4.6075419, 53.2835956], [-4.607594, 53.283536], [-4.6076201, 53.2835322], [-4.6076564, 53.2834958], [-4.6077011, 53.2834522], [-4.6077674, 53.2834305], [-4.6078016, 53.2834232], [-4.6078176, 53.2834198], [-4.6079187, 53.2833872], [-4.6080735, 53.2833818], [-4.608384, 53.283371], [-4.6084972, 53.2833694], [-4.608811, 53.283365], [-4.609021, 53.283234], [-4.6091135, 53.283029], [-4.6092565, 53.2828698], [-4.6094501, 53.2827753], [-4.6096211, 53.2826993], [-4.6092964, 53.2826975], [-4.6092016, 53.2827542], [-4.6090832, 53.2827543], [-4.6090223, 53.2828159], [-4.6089412, 53.2828478], [-4.6089141, 53.2827523], [-4.6089165, 53.2826723], [-4.6089675, 53.2825835], [-4.6091485, 53.2825583], [-4.6091612, 53.2824976], [-4.6092937, 53.2824528], [-4.6094457, 53.2823952], [-4.6094869, 53.282299], [-4.6093492, 53.2823022], [-4.6092535, 53.2823407], [-4.609144, 53.2823648], [-4.6090732, 53.2823479], [-4.6090565, 53.2822962], [-4.6089838, 53.2822367], [-4.6088965, 53.2822101], [-4.6088233, 53.2822081], [-4.6087465, 53.2822038], [-4.6086483, 53.2822028], [-4.608555, 53.282216], [-4.608137, 53.282478], [-4.6080851, 53.2826865], [-4.6081626, 53.2827103], [-4.6080474, 53.2828009], [-4.6079386, 53.2828041], [-4.6077579, 53.282843], [-4.6076786, 53.282895], [-4.6076755, 53.2829405], [-4.6077198, 53.2829648], [-4.6077984, 53.2829912], [-4.6077799, 53.2830318], [-4.6077023, 53.2830888], [-4.60752, 53.283126], [-4.6074316, 53.283185], [-4.6072724, 53.283189], [-4.607092, 53.283132], [-4.6069189, 53.2831999], [-4.6067792, 53.2832708], [-4.6067562, 53.2832617], [-4.6067681, 53.2831884], [-4.606774, 53.2831008], [-4.6069111, 53.2829743], [-4.6069287, 53.2829133], [-4.6069844, 53.2828535], [-4.6069974, 53.2827046], [-4.6069582, 53.2827211], [-4.6069104, 53.2827835], [-4.606849, 53.2828955], [-4.6067815, 53.2829363], [-4.6066688, 53.2830383], [-4.60655, 53.2831431], [-4.6064784, 53.2831889], [-4.6061063, 53.2831813], [-4.6059606, 53.2831367], [-4.6058772, 53.2830903], [-4.605898, 53.2830413], [-4.6059667, 53.2830091], [-4.6058648, 53.2829778], [-4.6057372, 53.2829455], [-4.6056118, 53.2829184], [-4.6056009, 53.2828807], [-4.6056922, 53.2827539], [-4.6058024, 53.2826619], [-4.6059691, 53.2827041], [-4.6061568, 53.2828042], [-4.6064422, 53.2828554], [-4.6066318, 53.2828213], [-4.6069363, 53.2825529], [-4.606971, 53.2824516], [-4.6068925, 53.2824009], [-4.6066362, 53.2823489], [-4.6064271, 53.2823419], [-4.6062246, 53.2823919], [-4.6060179, 53.2824903], [-4.6057991, 53.2825268], [-4.6056195, 53.2825629], [-4.6055297, 53.2825491], [-4.6055231, 53.2825117], [-4.6056634, 53.2823814], [-4.6058649, 53.2823289], [-4.6060061, 53.2822682], [-4.6059447, 53.282201], [-4.6059353, 53.2821623], [-4.6059876, 53.282116], [-4.6060764, 53.2820499], [-4.6060185, 53.282008], [-4.6060033, 53.2819533], [-4.6060988, 53.2818916], [-4.60619, 53.281863], [-4.606607, 53.281601], [-4.6074239, 53.2814299], [-4.6076453, 53.2813004], [-4.6077334, 53.2812844], [-4.607662, 53.281203], [-4.6074117, 53.2802093], [-4.6073376, 53.2801828], [-4.6071847, 53.2801846], [-4.6071456, 53.280264], [-4.607016, 53.280339], [-4.6069082, 53.2803636], [-4.606837, 53.2803313], [-4.6067478, 53.2803135], [-4.6066656, 53.2803111], [-4.6066191, 53.2803531], [-4.6066424, 53.2803952], [-4.606779, 53.280446], [-4.6070126, 53.280605], [-4.6070314, 53.2807107], [-4.6070284, 53.2807668], [-4.6069316, 53.2807917], [-4.6068044, 53.2808474], [-4.6068092, 53.2808879], [-4.6068731, 53.2809166], [-4.6068731, 53.2809351], [-4.6066412, 53.2810712], [-4.6063349, 53.2812282], [-4.604913, 53.282009], [-4.6046601, 53.2822608], [-4.6047078, 53.2823324], [-4.6046015, 53.2823712], [-4.6045602, 53.2824098], [-4.604502, 53.2824181], [-4.6043352, 53.2824342], [-4.604218, 53.2823817], [-4.603969, 53.2823493], [-4.6038548, 53.2823477], [-4.6037542, 53.2823699], [-4.6035844, 53.2824077], [-4.6034299, 53.2824426], [-4.6033282, 53.2824877], [-4.603258, 53.2825036], [-4.6029839, 53.282494], [-4.6027319, 53.2825013], [-4.6025509, 53.2824985], [-4.6022185, 53.2824714], [-4.6019271, 53.2824403], [-4.6015966, 53.2824248], [-4.6014295, 53.2824274], [-4.6009805, 53.2824581], [-4.6006513, 53.2824707], [-4.6003921, 53.2823516], [-4.600252, 53.2822081], [-4.6001968, 53.2821434], [-4.599962, 53.2820216], [-4.599877, 53.2820062], [-4.5995295, 53.2820244], [-4.599381, 53.2820564], [-4.5992073, 53.2821223], [-4.5990532, 53.2822182], [-4.5989469, 53.2823306], [-4.5988993, 53.2824047], [-4.5988457, 53.2824556], [-4.5986238, 53.2825402], [-4.5984427, 53.2826165], [-4.5982995, 53.2826842], [-4.5981338, 53.282707], [-4.598029, 53.2826828], [-4.597981, 53.2826218], [-4.5979951, 53.2825175], [-4.5980339, 53.2824136], [-4.5980939, 53.2823379], [-4.5982109, 53.2822502], [-4.5982503, 53.2822103], [-4.5982001, 53.2820237], [-4.598046, 53.2819249], [-4.5979352, 53.2818423], [-4.5977672, 53.2817132], [-4.5976481, 53.2816045], [-4.5976232, 53.2814952], [-4.5976455, 53.2814332], [-4.5976688, 53.281355], [-4.5976611, 53.2813008], [-4.5975948, 53.2812108], [-4.5973757, 53.2810646], [-4.5971238, 53.2809338], [-4.5969996, 53.2808679], [-4.596851, 53.280781], [-4.596774, 53.280721], [-4.596643, 53.2806023], [-4.5965187, 53.2805386], [-4.5963366, 53.2804952], [-4.596148, 53.2804535], [-4.5959978, 53.2804089], [-4.5958192, 53.2803622], [-4.5956033, 53.2803407], [-4.5954677, 53.2803517], [-4.5952898, 53.2803963], [-4.5951451, 53.2804498], [-4.5950297, 53.280505], [-4.5949082, 53.2806089], [-4.5948388, 53.28072], [-4.5947134, 53.2809837], [-4.5946826, 53.2811257], [-4.5946322, 53.281217], [-4.5945131, 53.281294], [-4.5943538, 53.2813023], [-4.5942098, 53.2812672], [-4.594001, 53.2812705], [-4.5938277, 53.2813242], [-4.5936251, 53.281385], [-4.5935135, 53.2814362], [-4.5934439, 53.2814881], [-4.5933973, 53.281535], [-4.5933299, 53.2816064], [-4.5932257, 53.2816338], [-4.5931418, 53.2816107], [-4.5930522, 53.2815733], [-4.5929771, 53.2814963], [-4.5931702, 53.2814129], [-4.593358, 53.2812558], [-4.5933419, 53.2811788], [-4.5932131, 53.2810569], [-4.5930147, 53.280903], [-4.5928765, 53.2809054], [-4.592725, 53.2808099], [-4.5926874, 53.2806816], [-4.5926338, 53.2805598], [-4.5925319, 53.2805213], [-4.5923817, 53.2803834], [-4.5922958, 53.2802871], [-4.5923441, 53.2801877], [-4.5924246, 53.2800626], [-4.5924353, 53.279867], [-4.5923119, 53.2797964], [-4.5921191, 53.279604], [-4.5919474, 53.2795302], [-4.5918455, 53.2794725], [-4.5919367, 53.2793859], [-4.5921298, 53.2793217], [-4.5924085, 53.2791645], [-4.5927089, 53.2790298], [-4.5929342, 53.278863], [-4.5931058, 53.2787059], [-4.5932668, 53.2786064], [-4.5936959, 53.2785102], [-4.5939534, 53.2784332], [-4.594463, 53.2782728], [-4.5945757, 53.2781895], [-4.5947635, 53.2781317], [-4.5949298, 53.2780772], [-4.5948922, 53.2780195], [-4.5947313, 53.277997], [-4.5947474, 53.2779008], [-4.5947313, 53.2777019], [-4.5947688, 53.2775383], [-4.5948278, 53.2774132], [-4.5949298, 53.2771181], [-4.5949727, 53.2769674], [-4.5951175, 53.2768519], [-4.5953053, 53.2767204], [-4.5953696, 53.2765343], [-4.5954125, 53.276406], [-4.5955896, 53.2762392], [-4.5957022, 53.2761173], [-4.5955574, 53.2760275], [-4.5955359, 53.2759281], [-4.5955788, 53.2758864], [-4.5961314, 53.2756715], [-4.5966088, 53.2753956], [-4.5967054, 53.2752384], [-4.5965766, 53.2751229], [-4.5964801, 53.2750652], [-4.5965498, 53.274985], [-4.5966035, 53.2748374], [-4.5964908, 53.2746706], [-4.5960724, 53.2746225], [-4.5957988, 53.2746225], [-4.5955949, 53.2746674], [-4.5954394, 53.2748342], [-4.5956271, 53.2750074], [-4.5954193, 53.2751478], [-4.5951403, 53.2751799], [-4.5950223, 53.2751831], [-4.5946723, 53.2753731], [-4.594577, 53.2755199], [-4.5943987, 53.2755496], [-4.5943075, 53.2755207], [-4.5943719, 53.2752673], [-4.594345, 53.2751358], [-4.5943236, 53.2749882], [-4.5943504, 53.2748663], [-4.5943021, 53.2747059], [-4.5942123, 53.2747083], [-4.5940996, 53.2747532], [-4.5940191, 53.2747981], [-4.5939159, 53.2747829], [-4.5937389, 53.2747155], [-4.5936745, 53.2746418], [-4.5937657, 53.2744204], [-4.593873, 53.274244], [-4.593873, 53.2741221], [-4.5938676, 53.2740515], [-4.5939212, 53.2737532], [-4.5937871, 53.2735671], [-4.5936262, 53.2735318], [-4.5932507, 53.2734805], [-4.5928229, 53.2735342], [-4.5927303, 53.273673], [-4.592957, 53.2740507], [-4.592643, 53.273974], [-4.5920879, 53.273967], [-4.591357, 53.273863], [-4.590076, 53.27388], [-4.589226, 53.27402], [-4.589065, 53.273597], [-4.58793, 53.273652], [-4.5873075, 53.273789], [-4.5868405, 53.2740149], [-4.5867903, 53.2739777], [-4.58624, 53.274187], [-4.585395, 53.274455], [-4.5847901, 53.2746519], [-4.5844861, 53.274783], [-4.5842304, 53.2748483], [-4.5840409, 53.274889], [-4.5837748, 53.2749118], [-4.5833934, 53.274925], [-4.5830489, 53.2748968], [-4.582852, 53.2748687], [-4.5826972, 53.2748209], [-4.5825715, 53.2747345], [-4.5824254, 53.2745969], [-4.5823339, 53.2745666], [-4.5822697, 53.2745397], [-4.5819526, 53.2742387], [-4.5818305, 53.2742067], [-4.5817706, 53.2742131], [-4.5817115, 53.2742282], [-4.5816189, 53.2741693], [-4.5813533, 53.2739828], [-4.58161, 53.2738398], [-4.5813284, 53.2736597], [-4.5809364, 53.273439], [-4.580572, 53.2732295], [-4.5803539, 53.2731485], [-4.5799974, 53.2730161], [-4.579907, 53.2728198], [-4.578479, 53.272369], [-4.577625, 53.27238], [-4.5767702, 53.2722235], [-4.5765317, 53.2717434], [-4.5768195, 53.27148], [-4.577165, 53.271489], [-4.578437, 53.271216], [-4.579291, 53.271205], [-4.579723, 53.271328], [-4.579666, 53.269791], [-4.579235, 53.269669], [-4.5785745, 53.2693887], [-4.578153, 53.269299], [-4.5779851, 53.2691085], [-4.577707, 53.268793], [-4.577271, 53.268542], [-4.577261, 53.268286], [-4.577469, 53.268155], [-4.5779213, 53.2681244], [-4.5783065, 53.2680984], [-4.5784638, 53.268071], [-4.579178, 53.268132], [-4.579388, 53.268002], [-4.579591, 53.267743], [-4.579159, 53.26762], [-4.578732, 53.267625], [-4.578309, 53.26776], [-4.578087, 53.267506], [-4.57765, 53.267256], [-4.577641, 53.267], [-4.577849, 53.266868], [-4.578694, 53.266601], [-4.579539, 53.266334], [-4.579749, 53.266203], [-4.580157, 53.265685], [-4.580575, 53.265424], [-4.580783, 53.265292], [-4.5814514, 53.2651324], [-4.5815973, 53.2651463], [-4.5818177, 53.2651122], [-4.582055, 53.265019], [-4.582264, 53.264889], [-4.5823981, 53.2646695], [-4.5826848, 53.2645294], [-4.5830582, 53.2645895], [-4.5832463, 53.264666], [-4.5835681, 53.2646735], [-4.5837575, 53.2646064], [-4.5839885, 53.2644795], [-4.584167, 53.264351], [-4.584362, 53.263836], [-4.5845204, 53.2637037], [-4.5848482, 53.2635611], [-4.5848073, 53.263493], [-4.5846142, 53.2633486], [-4.5844211, 53.2632812], [-4.5842226, 53.2632427], [-4.5840081, 53.2632491], [-4.5838632, 53.2633358], [-4.5837559, 53.2633807], [-4.5835682, 53.2634513], [-4.5834019, 53.2635475], [-4.5831369, 53.2636462], [-4.5828976, 53.2636919], [-4.582624, 53.2636823], [-4.582565, 53.2635379], [-4.582506, 53.2633326], [-4.5823987, 53.2632812], [-4.5819159, 53.2633839], [-4.5816906, 53.2634994], [-4.5814814, 53.263878], [-4.5814218, 53.2640377], [-4.5814379, 53.2641516], [-4.5814165, 53.2642864], [-4.5813038, 53.2643858], [-4.5811455, 53.2644773], [-4.5811026, 53.2645928], [-4.5809793, 53.2646297], [-4.5807888, 53.2647436], [-4.5806467, 53.2647885], [-4.5805179, 53.2648286], [-4.5803758, 53.2648302], [-4.5801746, 53.2648735], [-4.5799144, 53.2649281], [-4.579909, 53.264792], [-4.5799707, 53.2647564], [-4.5798581, 53.2646955], [-4.5794644, 53.2646], [-4.5788314, 53.2648855], [-4.5786469, 53.2650131], [-4.5784505, 53.2650588], [-4.5782445, 53.2651542], [-4.5779194, 53.2650427], [-4.5775815, 53.2650556], [-4.577177, 53.265212], [-4.5770075, 53.265293], [-4.5765515, 53.2653123], [-4.5763798, 53.2652962], [-4.5758219, 53.2654566], [-4.5753177, 53.2656171], [-4.5750709, 53.2656299], [-4.5747544, 53.2655176], [-4.5744701, 53.2653893], [-4.5742073, 53.2653315], [-4.5739069, 53.2653187], [-4.5732363, 53.2654053], [-4.5729198, 53.2653764], [-4.5719327, 53.2651871], [-4.5714982, 53.265123], [-4.5708062, 53.2652866], [-4.5696207, 53.2658256], [-4.5686444, 53.2662491], [-4.5677378, 53.2664064], [-4.567196, 53.266355], [-4.5669868, 53.2662395], [-4.5667883, 53.2660951], [-4.5666595, 53.2659411], [-4.5664986, 53.2657839], [-4.566343, 53.265662], [-4.5660802, 53.265601], [-4.565989, 53.2655561], [-4.5656886, 53.2653123], [-4.5655008, 53.2651101], [-4.5653077, 53.2649337], [-4.5649912, 53.2648374], [-4.5645728, 53.2647476], [-4.5640792, 53.264754], [-4.5636179, 53.2646898], [-4.5634945, 53.2646064], [-4.5632209, 53.2644973], [-4.562883, 53.2643914], [-4.5626899, 53.2642566], [-4.5623251, 53.2641572], [-4.5621427, 53.2640449], [-4.562148, 53.2639582], [-4.5622553, 53.2638459], [-4.5628615, 53.2633871], [-4.5632638, 53.2629892], [-4.5637069, 53.2628505], [-4.5640932, 53.262828], [-4.5642834, 53.2628416], [-4.5646425, 53.2628673], [-4.5649676, 53.2629692], [-4.565238, 53.2629604], [-4.565504, 53.2628473], [-4.5657529, 53.2627293], [-4.5659385, 53.2626804], [-4.5665791, 53.2627101], [-4.5668344, 53.2629981], [-4.5670329, 53.2631842], [-4.5673998, 53.2632876], [-4.5679577, 53.2632171], [-4.5680596, 53.2631336], [-4.568138, 53.2628633], [-4.5684191, 53.2627743], [-4.5686765, 53.2627133], [-4.5691003, 53.262524], [-4.569331, 53.2623411], [-4.5697977, 53.2622127], [-4.5700337, 53.2621261], [-4.5701464, 53.262033], [-4.5703266, 53.2620258], [-4.5706539, 53.2620162], [-4.5709704, 53.2620964], [-4.5715948, 53.2621806], [-4.5719091, 53.2620932], [-4.5720293, 53.2620715], [-4.5726119, 53.261777], [-4.5726607, 53.2617332], [-4.5716838, 53.2615317], [-4.5707955, 53.2613367], [-4.5706892, 53.2612903], [-4.570537, 53.2612397], [-4.5704328, 53.2611956], [-4.5702896, 53.2611079], [-4.5702468, 53.261044], [-4.5701469, 53.2609545], [-4.5700935, 53.2608552], [-4.5700888, 53.2608302], [-4.57011, 53.2607578], [-4.570139, 53.2606916], [-4.5702071, 53.2606029], [-4.5706357, 53.2603985], [-4.5707168, 53.2603752], [-4.5706898, 53.2603506], [-4.5707389, 53.2603051], [-4.5707879, 53.2601074], [-4.5704082, 53.26005], [-4.5694816, 53.2600316], [-4.569292, 53.2600379], [-4.5689139, 53.2600504], [-4.568468, 53.2599133], [-4.5678902, 53.259967], [-4.5671212, 53.2599185], [-4.5663386, 53.2596421], [-4.5657841, 53.2593245], [-4.5652976, 53.2592603], [-4.565059, 53.2592288], [-4.5646302, 53.2590649], [-4.5644139, 53.2587821], [-4.5640377, 53.2586872], [-4.5638054, 53.2584822], [-4.5637748, 53.258315], [-4.5640168, 53.2581959], [-4.5641495, 53.2580622], [-4.5640901, 53.2578007], [-4.5637437, 53.2575256], [-4.563283, 53.2572904], [-4.5632335, 53.2568153], [-4.5629176, 53.2564295], [-4.5625784, 53.2561627], [-4.5621643, 53.2560572], [-4.5614255, 53.2554465], [-4.5607614, 53.2547818], [-4.5603566, 53.2547245], [-4.5597691, 53.2545223], [-4.5589916, 53.2542584], [-4.5583635, 53.2536966], [-4.5584793, 53.2535314], [-4.558388, 53.2531632], [-4.5577435, 53.2527401], [-4.5576755, 53.2524848], [-4.5579812, 53.2522003], [-4.5581278, 53.2519615], [-4.5580166, 53.251882], [-4.5583671, 53.2513794], [-4.5587093, 53.2511757], [-4.559061, 53.2511573], [-4.5591043, 53.2510297], [-4.5590054, 53.2509927], [-4.5591939, 53.2509705], [-4.5593273, 53.250985], [-4.5594464, 53.250998], [-4.5595145, 53.251114], [-4.5603783, 53.2512567], [-4.5610059, 53.2515253], [-4.5617905, 53.251861], [-4.5624899, 53.2521048], [-4.5629553, 53.2522462], [-4.5635226, 53.2523302], [-4.5642271, 53.2525077], [-4.5646142, 53.2525764], [-4.5646443, 53.2525169], [-4.5642871, 53.2523705], [-4.5640581, 53.2522129], [-4.563881, 53.2519993], [-4.5639274, 53.2516554], [-4.5636799, 53.2515098], [-4.5635501, 53.2515878], [-4.5631425, 53.2515093], [-4.5628026, 53.2514113], [-4.5623298, 53.2512172], [-4.562129, 53.2512191], [-4.5619969, 53.2511778], [-4.5622649, 53.2508012], [-4.5620795, 53.2504407], [-4.5619497, 53.2503501], [-4.5614224, 53.2503166], [-4.5613595, 53.2502595], [-4.5614304, 53.2501498], [-4.5614338, 53.2499493], [-4.5613781, 53.2498879], [-4.5613843, 53.2497899], [-4.5615975, 53.2495163], [-4.5614586, 53.2488356], [-4.5612564, 53.2484303], [-4.5610073, 53.2481536], [-4.560564, 53.2480164], [-4.5598887, 53.2479521], [-4.5594499, 53.2478486], [-4.5591007, 53.2477968], [-4.5586748, 53.2478364], [-4.5585167, 53.2478042], [-4.5583993, 53.2476359], [-4.5581675, 53.2476322], [-4.5580037, 53.2476674], [-4.5577071, 53.2477033], [-4.5573345, 53.2478139], [-4.5572455, 53.2478817], [-4.5571286, 53.2479149], [-4.5568471, 53.2479026], [-4.5566511, 53.2478644], [-4.5564429, 53.2479081], [-4.5563811, 53.2480264], [-4.555888, 53.2479775], [-4.5555524, 53.2478685], [-4.5551903, 53.2480954], [-4.5547998, 53.2481957], [-4.5546528, 53.2482335], [-4.554477, 53.2482362], [-4.5542441, 53.2480958], [-4.5539954, 53.2480849], [-4.5538485, 53.2480274], [-4.5540494, 53.2478314], [-4.5540605, 53.2477601], [-4.5540753, 53.2476652], [-4.5540926, 53.2475541], [-4.5537937, 53.2474874], [-4.5535551, 53.2473619], [-4.5534627, 53.247178], [-4.5536085, 53.2470832], [-4.5538634, 53.2472326], [-4.5540676, 53.2472612], [-4.5542743, 53.2472902], [-4.5543479, 53.2473005], [-4.554652, 53.2469075], [-4.5549929, 53.2466712], [-4.5552431, 53.2464838], [-4.5555697, 53.2464318], [-4.555545, 53.2462505], [-4.5553101, 53.2462062], [-4.5551901, 53.2458636], [-4.555477, 53.2457236], [-4.5561235, 53.2456417], [-4.5562001, 53.2453944], [-4.5564129, 53.2453034], [-4.5569631, 53.2454212], [-4.5574224, 53.2455889], [-4.5576719, 53.2457619], [-4.5578433, 53.2459752], [-4.5579002, 53.2459604], [-4.5581584, 53.2459877], [-4.55823, 53.2460049], [-4.5587216, 53.246123], [-4.5590162, 53.2461938], [-4.5600461, 53.2462965], [-4.5609044, 53.2462965], [-4.5622777, 53.2462965], [-4.5633077, 53.2460908], [-4.5641659, 53.2458856], [-4.5648526, 53.2455776], [-4.5649978, 53.245423], [-4.5651235, 53.2453076], [-4.5652404, 53.2450739], [-4.5652402, 53.2449996], [-4.5647164, 53.2450276], [-4.564478, 53.2449155], [-4.5644397, 53.2447779], [-4.5643247, 53.2445817], [-4.5643631, 53.2445053], [-4.5641757, 53.2444747], [-4.5641672, 53.2444212], [-4.5643503, 53.2443779], [-4.5647675, 53.2443575], [-4.5650315, 53.2441843], [-4.5654062, 53.2440187], [-4.5657511, 53.244039], [-4.5663216, 53.2442301], [-4.5671817, 53.2444187], [-4.5672668, 53.2443779], [-4.5673605, 53.2442811], [-4.5676671, 53.2442633], [-4.567633, 53.2442123], [-4.5675053, 53.2440951], [-4.5675649, 53.2440161], [-4.5674499, 53.2439677], [-4.5674968, 53.2439218], [-4.5676628, 53.2439015], [-4.5679183, 53.2438836], [-4.5685012, 53.2437971], [-4.5691118, 53.2437309], [-4.5697034, 53.2437245], [-4.570353, 53.243634], [-4.5707902, 53.2436758], [-4.5711862, 53.2436556], [-4.5724344, 53.2434236], [-4.5732543, 53.243174], [-4.5741091, 53.2430818], [-4.5748399, 53.2429446], [-4.575883, 53.2436422], [-4.5759996, 53.2433619], [-4.5756567, 53.2428946], [-4.5756567, 53.2427696], [-4.5758243, 53.2427147], [-4.5759574, 53.2427352], [-4.5761236, 53.2431812], [-4.5764709, 53.2434731], [-4.5765143, 53.243322], [-4.5764148, 53.2427631], [-4.5765385, 53.2426516], [-4.5767573, 53.2426262], [-4.5773799, 53.2427611], [-4.577658, 53.2428738], [-4.5782763, 53.2427857], [-4.5783877, 53.2426691], [-4.5784572, 53.24213], [-4.5786328, 53.2420344], [-4.5790809, 53.2419834], [-4.5791986, 53.2419224], [-4.5787384, 53.241597], [-4.5787188, 53.2413969], [-4.5799212, 53.2404564], [-4.5802325, 53.2404236], [-4.5803851, 53.2406918], [-4.5807489, 53.2406849], [-4.5810822, 53.2407703], [-4.5811128, 53.24073], [-4.5809703, 53.2405047], [-4.5810372, 53.2403217], [-4.5811321, 53.2402036], [-4.5814664, 53.2401802], [-4.5815805, 53.2402838], [-4.5818483, 53.2409721], [-4.581981, 53.2410358], [-4.5822818, 53.2410284], [-4.5821794, 53.2407465], [-4.5822592, 53.2405272], [-4.5830651, 53.2400232], [-4.5832481, 53.240075], [-4.5833242, 53.2401687], [-4.583861, 53.2401723], [-4.584036, 53.2405147], [-4.5835908, 53.2407878], [-4.583759, 53.2409181], [-4.5841963, 53.2409113], [-4.5845791, 53.2410712], [-4.5849728, 53.2411364], [-4.5849533, 53.2413858], [-4.5850774, 53.2414551], [-4.5852291, 53.2414608], [-4.5853378, 53.2412489], [-4.5860851, 53.2413136], [-4.5861009, 53.2414257], [-4.5857541, 53.2414916], [-4.5857491, 53.2415574], [-4.5858946, 53.2416594], [-4.5862337, 53.2416161], [-4.5873004, 53.241334], [-4.5874216, 53.2414051], [-4.5874241, 53.2414958], [-4.5872492, 53.2415779], [-4.5872573, 53.2417126], [-4.587786, 53.2418297], [-4.5878591, 53.2419243], [-4.5878126, 53.2419972], [-4.5876279, 53.242066], [-4.5870529, 53.2427465], [-4.5869634, 53.2430265], [-4.5867332, 53.2431391], [-4.5864677, 53.2432425], [-4.5861628, 53.2433892], [-4.5859444, 53.2433578], [-4.585857, 53.2434676], [-4.5859138, 53.243614], [-4.5861279, 53.2436689], [-4.5862021, 53.243844], [-4.586058, 53.2440636], [-4.5861426, 53.2441144], [-4.5862458, 53.2441916], [-4.5864426, 53.2441792], [-4.586521, 53.2442779], [-4.5865341, 53.2443459], [-4.5868005, 53.244338], [-4.5868049, 53.2442387], [-4.5871019, 53.2443328], [-4.5871641, 53.2445239], [-4.5870932, 53.2446308], [-4.5870055, 53.2446793], [-4.5871107, 53.2448033], [-4.5872976, 53.2449047], [-4.5878401, 53.245015], [-4.588527, 53.2450865], [-4.5890457, 53.2450962], [-4.5899652, 53.2449937], [-4.5908803, 53.2448059], [-4.5913668, 53.2447786], [-4.5917364, 53.2444243], [-4.5918776, 53.2443248], [-4.5924112, 53.2439487], [-4.5926506, 53.2436447], [-4.5927717, 53.243363], [-4.5927532, 53.2429782], [-4.5927082, 53.2426281], [-4.5925402, 53.2426364], [-4.5925156, 53.2422973], [-4.592431, 53.2420273], [-4.5920859, 53.2418025], [-4.5916559, 53.2418764], [-4.5915049, 53.2414993], [-4.5915206, 53.241096], [-4.5921955, 53.2406187], [-4.5922038, 53.240404], [-4.5919974, 53.2402296], [-4.5922169, 53.2402968], [-4.5923785, 53.2401975], [-4.5925576, 53.2402576], [-4.5927542, 53.2401792], [-4.5937807, 53.2403276], [-4.5937211, 53.2406964], [-4.5933319, 53.2410146], [-4.5926229, 53.2411679], [-4.5925709, 53.2414789], [-4.5928566, 53.2417757], [-4.5934122, 53.2419392], [-4.5935983, 53.2419017], [-4.593741, 53.2414468], [-4.5937706, 53.2413291], [-4.5938469, 53.2412519], [-4.593931, 53.2411808], [-4.5940244, 53.241114], [-4.5941313, 53.2410488], [-4.5942446, 53.2409878], [-4.5943321, 53.2409491], [-4.5944587, 53.2409112], [-4.5946032, 53.2408964], [-4.5948218, 53.2408926], [-4.5949024, 53.2408863], [-4.5950366, 53.2408744], [-4.5951464, 53.2408558], [-4.5952143, 53.2408399], [-4.5953139, 53.2408009], [-4.5954169, 53.2407438], [-4.59581, 53.2404547], [-4.5958994, 53.2403961], [-4.5961596, 53.2403365], [-4.5963028, 53.240399], [-4.596401, 53.2404616], [-4.5964886, 53.2407456], [-4.5966292, 53.2410375], [-4.5966674, 53.2410996], [-4.5966898, 53.2411225], [-4.5967242, 53.2411451], [-4.5967689, 53.2411666], [-4.5968131, 53.2411791], [-4.5968554, 53.2411836], [-4.5969137, 53.2411814], [-4.5970237, 53.2411656], [-4.5971378, 53.2411451], [-4.5972146, 53.2411263], [-4.5972528, 53.2411138], [-4.5973307, 53.2410627], [-4.5972023, 53.2409225], [-4.5969564, 53.2407732], [-4.5968616, 53.2406431], [-4.5966964, 53.2403895], [-4.5967191, 53.2403693], [-4.5967843, 53.2403319], [-4.5968647, 53.2402987], [-4.5969429, 53.2402781], [-4.5970307, 53.2402681], [-4.597134, 53.2402658], [-4.597247, 53.240275], [-4.5973634, 53.2402914], [-4.5974712, 53.2403151], [-4.5975553, 53.2403411], [-4.5976014, 53.2403608], [-4.5976498, 53.2403921], [-4.5977083, 53.240443], [-4.5977493, 53.2405006], [-4.5977724, 53.2405612], [-4.5977803, 53.2406177], [-4.5977633, 53.240708], [-4.5977765, 53.240776], [-4.598049, 53.2409211], [-4.5982628, 53.24101], [-4.5985382, 53.2411532], [-4.5984546, 53.2413564], [-4.5983924, 53.2414171], [-4.5979461, 53.241622], [-4.5979941, 53.2418197], [-4.5980628, 53.2419395], [-4.5983685, 53.2417908], [-4.5985804, 53.2416019], [-4.5988345, 53.2414911], [-4.5990526, 53.2414297], [-4.5996759, 53.2416975], [-4.5998541, 53.2417935], [-4.5999477, 53.2418544], [-4.6000771, 53.2419621], [-4.6004082, 53.2423289], [-4.6004685, 53.2423852], [-4.6006136, 53.2425034], [-4.6009288, 53.2427078], [-4.6009441, 53.2427138], [-4.6013017, 53.2426286], [-4.6014593, 53.2426081], [-4.6015463, 53.242608], [-4.6016185, 53.2426127], [-4.6017308, 53.2426363], [-4.6020414, 53.2427393], [-4.6026504, 53.2429687], [-4.6029272, 53.2431092], [-4.6032003, 53.243213], [-4.6033231, 53.2432849], [-4.6035445, 53.2434257], [-4.6036399, 53.2434911], [-4.6037045, 53.2435436], [-4.603696, 53.2435519], [-4.6036092, 53.2436032], [-4.6036886, 53.243651], [-4.6037752, 53.2436212], [-4.6038594, 53.2436256], [-4.6039505, 53.2436947], [-4.6039538, 53.2437234], [-4.6039494, 53.2437505], [-4.6037625, 53.2438561], [-4.6037487, 53.2439248], [-4.6038281, 53.2439239], [-4.6039246, 53.2438841], [-4.6040369, 53.2438573], [-4.6040568, 53.2439136], [-4.6040718, 53.244111], [-4.604176, 53.244223], [-4.6043259, 53.2444939], [-4.6044079, 53.2444373], [-4.6044651, 53.2443425], [-4.6045451, 53.2442535], [-4.6046738, 53.2442247], [-4.6048136, 53.2442567], [-4.6049351, 53.2443565], [-4.6050789, 53.2445035], [-4.6051422, 53.2445579], [-4.6053139, 53.2446449], [-4.6054856, 53.2446843], [-4.6055739, 53.2448047], [-4.6058364, 53.2450795], [-4.6059803, 53.2451528], [-4.6060048, 53.2450632], [-4.6058854, 53.2449238], [-4.6057689, 53.2448067], [-4.6057219, 53.2447484], [-4.6056807, 53.2446873], [-4.6056235, 53.2445599], [-4.6056339, 53.2445094], [-4.6057062, 53.2444412], [-4.6056914, 53.2443957], [-4.6057381, 53.2443488], [-4.6056859, 53.244305], [-4.6057315, 53.2442402], [-4.6058095, 53.2442664], [-4.6059227, 53.2443538], [-4.60604, 53.2443593], [-4.6061832, 53.2443229], [-4.6062952, 53.2442431], [-4.606354, 53.244223], [-4.606413, 53.2442073], [-4.6065109, 53.244215], [-4.6065389, 53.2442072], [-4.6066849, 53.2441438], [-4.6067864, 53.2441371], [-4.6068157, 53.2441257], [-4.6068403, 53.2441107], [-4.6068527, 53.2440439], [-4.6069279, 53.2439982], [-4.6069762, 53.2440538], [-4.6069867, 53.2441525], [-4.6070506, 53.2442905], [-4.6070937, 53.2444082], [-4.6071522, 53.2446056], [-4.6072073, 53.2450918], [-4.6072014, 53.2452178], [-4.6072856, 53.2453193], [-4.6073396, 53.245444], [-4.6074251, 53.2455186], [-4.6074887, 53.24543], [-4.6074543, 53.2453084], [-4.6073828, 53.2452183], [-4.6073414, 53.2451032], [-4.6073388, 53.2449873], [-4.6072963, 53.2446582], [-4.6073725, 53.2445307], [-4.6076701, 53.2442481], [-4.6078491, 53.2441597], [-4.6080925, 53.2441696], [-4.6083436, 53.2442073], [-4.6084365, 53.2442071], [-4.6087861, 53.2441877], [-4.6089386, 53.2442302], [-4.609064, 53.244321], [-4.6092146, 53.2443806], [-4.6092846, 53.2444223], [-4.6091435, 53.2444191], [-4.6090021, 53.2444356], [-4.6090715, 53.2444935], [-4.609208, 53.2444941], [-4.6093936, 53.2444648], [-4.6094549, 53.2444635], [-4.6095165, 53.2444648], [-4.6096857, 53.2444863], [-4.609827, 53.244494], [-4.6099651, 53.244571], [-4.6100968, 53.2446904], [-4.6102688, 53.2447828], [-4.6104164, 53.2448425], [-4.6106077, 53.2449067], [-4.610985, 53.2450729], [-4.6110824, 53.2451948], [-4.6110708, 53.2452751], [-4.6108732, 53.2453037], [-4.6107822, 53.2453363], [-4.6108094, 53.2453887], [-4.6109132, 53.2455429], [-4.6109661, 53.2456487], [-4.6109619, 53.2457513], [-4.6109318, 53.2458967], [-4.6108645, 53.2459234], [-4.6107849, 53.245971], [-4.6108547, 53.2460342], [-4.6108671, 53.2460411], [-4.6111123, 53.2459809], [-4.6113171, 53.245971], [-4.6114702, 53.2460243], [-4.6116871, 53.2460897], [-4.6118833, 53.2461861], [-4.6118298, 53.2461944], [-4.6117179, 53.2462275], [-4.6117838, 53.2462746], [-4.6119929, 53.246288], [-4.6121756, 53.2463092], [-4.6128147, 53.2463913], [-4.6132074, 53.2464646], [-4.6132231, 53.2464759], [-4.6133079, 53.2465639], [-4.6131546, 53.246606], [-4.6130685, 53.246669], [-4.612953, 53.2466922], [-4.6125645, 53.2467862], [-4.6123767, 53.2468541], [-4.6121876, 53.2468744], [-4.611972, 53.2468549], [-4.6120188, 53.246933], [-4.6123274, 53.2470036], [-4.6123074, 53.2470445], [-4.6120176, 53.2470616], [-4.6117466, 53.2470415], [-4.6115707, 53.2470831], [-4.6116952, 53.2473051], [-4.6117238, 53.2473818], [-4.6118777, 53.2473731], [-4.6122672, 53.2473933], [-4.6124103, 53.2474046], [-4.6129414, 53.2474612], [-4.6130915, 53.2475389], [-4.6131089, 53.2476518], [-4.6131494, 53.2477012], [-4.6131972, 53.2477479], [-4.6133275, 53.2478187], [-4.6137225, 53.247757], [-4.6135414, 53.247984], [-4.6136125, 53.2481164], [-4.6137801, 53.2481127], [-4.6140223, 53.2481254], [-4.6139484, 53.2482421], [-4.6140654, 53.2482422], [-4.614108, 53.2482781], [-4.6142345, 53.2482619], [-4.6143761, 53.2482246], [-4.6145425, 53.2482983], [-4.6145841, 53.2484394], [-4.6144578, 53.2485069], [-4.6142397, 53.2485693], [-4.6139642, 53.2485987], [-4.6137973, 53.2486401], [-4.6138744, 53.2486753], [-4.6140197, 53.2486739], [-4.6140561, 53.2486794], [-4.614059, 53.2487279], [-4.61383, 53.2487833], [-4.613507, 53.2488461], [-4.6132493, 53.248921], [-4.6131595, 53.2489724], [-4.6128522, 53.2491707], [-4.6127654, 53.2492706], [-4.6129725, 53.2492256], [-4.6130017, 53.2492609], [-4.6129002, 53.2493423], [-4.612483, 53.2497281], [-4.6123433, 53.2497977], [-4.6121817, 53.2498283], [-4.6121523, 53.2498379], [-4.6120737, 53.2498765], [-4.6119545, 53.2499124], [-4.6118012, 53.2498564], [-4.6114978, 53.2497003], [-4.6113959, 53.2496765], [-4.6113846, 53.2497369], [-4.611505, 53.2498422], [-4.6116892, 53.2499631], [-4.611575, 53.2500181], [-4.610633, 53.2502545], [-4.6095759, 53.2507314], [-4.6092667, 53.2512373], [-4.6093671, 53.2516], [-4.6096685, 53.2516523], [-4.6097297, 53.2517385], [-4.6096904, 53.2517804], [-4.6097647, 53.2518719], [-4.6102746, 53.2520446], [-4.610939, 53.2518035], [-4.611189, 53.2518771], [-4.6115298, 53.2521071], [-4.6117788, 53.2520862], [-4.6121677, 53.2523084], [-4.6123218, 53.2526324], [-4.6122442, 53.2526927], [-4.6122118, 53.2528137], [-4.6124648, 53.2528417], [-4.6121349, 53.2529802], [-4.6118247, 53.2530416], [-4.611923, 53.2531292], [-4.6116049, 53.2532872], [-4.6115628, 53.2534042], [-4.6108974, 53.2535312], [-4.6107213, 53.2534924], [-4.610607, 53.2536458], [-4.6106816, 53.2538212], [-4.6113979, 53.2537438], [-4.6110951, 53.2539674], [-4.6108881, 53.2540266], [-4.6108201, 53.2539434], [-4.6107213, 53.2539545], [-4.6107553, 53.2540099], [-4.6100231, 53.2539267], [-4.6096993, 53.2540037], [-4.6096894, 53.2540839], [-4.6100787, 53.2542188], [-4.6101621, 53.254581], [-4.6098219, 53.2546335], [-4.6100107, 53.2548768], [-4.6095596, 53.2550117], [-4.6095411, 53.2551281], [-4.6096214, 53.2551522], [-4.6099489, 53.25513], [-4.609952, 53.2551772], [-4.6093187, 53.2553758], [-4.6087934, 53.2552353], [-4.6089668, 53.2555919], [-4.6090066, 53.2557455], [-4.6092723, 53.255849], [-4.6091771, 53.2561674], [-4.6098778, 53.2560671], [-4.6097913, 53.2561927], [-4.609952, 53.2564478], [-4.6095535, 53.256494], [-4.6096346, 53.2565518], [-4.6104618, 53.2566326], [-4.6102362, 53.2567694], [-4.6110253, 53.2571825], [-4.6106162, 53.2572573], [-4.6111942, 53.2576451], [-4.6119144, 53.2579229], [-4.6121633, 53.2580737], [-4.6122413, 53.2579689], [-4.6127665, 53.258211], [-4.6128813, 53.2583678], [-4.613508, 53.2585122], [-4.6136594, 53.258771], [-4.613679, 53.2592414], [-4.6140424, 53.2595582], [-4.6139899, 53.2596229], [-4.6136686, 53.2595305], [-4.6133659, 53.2597246], [-4.6137034, 53.259895], [-4.6143646, 53.2601395], [-4.6148679, 53.2601222], [-4.6149755, 53.2601866], [-4.614889, 53.2602827], [-4.6151717, 53.2605423], [-4.6154979, 53.2607994], [-4.6158842, 53.2609034], [-4.6161343, 53.2611384], [-4.6164842, 53.2615737], [-4.6161727, 53.2615846], [-4.6161958, 53.2618092], [-4.6158343, 53.2618628], [-4.6152117, 53.2613891], [-4.614685, 53.2614245], [-4.6146384, 53.2614828], [-4.6148084, 53.261703], [-4.6147542, 53.2618219], [-4.6144992, 53.2618548], [-4.6142985, 53.2617077], [-4.6141558, 53.261815], [-4.6142682, 53.2622363], [-4.6141333, 53.2623363], [-4.6144536, 53.2624128], [-4.6144865, 53.2622904], [-4.6148905, 53.2624086], [-4.6148913, 53.2625732], [-4.6147175, 53.2626211], [-4.6145147, 53.2626204], [-4.6146488, 53.2628518], [-4.6153199, 53.263164], [-4.6158499, 53.263189], [-4.6159953, 53.2630826], [-4.6157812, 53.2629541], [-4.6157863, 53.2627983], [-4.6163445, 53.2625765], [-4.6169708, 53.2626815], [-4.6175612, 53.2632108], [-4.6179968, 53.2632058], [-4.6179924, 53.2628714], [-4.6177395, 53.2624451], [-4.6183586, 53.2621691], [-4.6190624, 53.2624183], [-4.6192729, 53.2621563], [-4.6198858, 53.2622973], [-4.6199207, 53.2625192], [-4.6199277, 53.2625638], [-4.6209523, 53.2628258], [-4.6203659, 53.2632245], [-4.6208496, 53.2634045], [-4.6207586, 53.2635711], [-4.620411, 53.2636515], [-4.6210368, 53.2636891], [-4.6210167, 53.2637739], [-4.6204856, 53.2638688], [-4.6205022, 53.2639305], [-4.6205132, 53.2641327], [-4.620308, 53.2642324], [-4.6206562, 53.2644091], [-4.6205333, 53.2645649], [-4.6212567, 53.2645342], [-4.6208479, 53.26489], [-4.620293, 53.2649383], [-4.6193269, 53.2645722], [-4.61931, 53.2643966], [-4.6188049, 53.2645814], [-4.6191815, 53.2648069], [-4.6194119, 53.2651042], [-4.6196758, 53.2652066], [-4.6206926, 53.2653931], [-4.6203018, 53.2658869], [-4.6194763, 53.2663244], [-4.6198027, 53.2668594], [-4.6198888, 53.2670585], [-4.6196265, 53.2671551], [-4.6196525, 53.2674082], [-4.6203777, 53.2676102], [-4.6210601, 53.2674215], [-4.6217518, 53.2672999], [-4.6226989, 53.2674961], [-4.6227064, 53.2679107], [-4.624191, 53.2679761], [-4.6242656, 53.267884], [-4.624732, 53.2679955], [-4.6244442, 53.2681745], [-4.6246486, 53.2685478], [-4.6241532, 53.2688226], [-4.6234843, 53.2690069], [-4.6241377, 53.2688814], [-4.6249697, 53.2689801], [-4.6255335, 53.2692621], [-4.6256201, 53.2695133], [-4.6254104, 53.269555], [-4.6249217, 53.269799], [-4.6252266, 53.2699177], [-4.625022, 53.2702183], [-4.6245851, 53.2703088], [-4.6241117, 53.2703091], [-4.6243938, 53.2704559], [-4.6244217, 53.2705967], [-4.6240961, 53.2706877], [-4.623899, 53.2712155], [-4.6236054, 53.2714096], [-4.6238557, 53.2714724], [-4.6237451, 53.2718838], [-4.6228965, 53.2720062], [-4.6227595, 53.2714279], [-4.6225319, 53.2714753], [-4.6223902, 53.2713653], [-4.6218179, 53.2715899], [-4.6215985, 53.2717415], [-4.6215999, 53.2718905], [-4.621986, 53.2720467], [-4.6221781, 53.2722619], [-4.6221518, 53.2725659], [-4.6224856, 53.2726324], [-4.6223207, 53.2728496], [-4.6214316, 53.2726195], [-4.6210699, 53.2724864], [-4.620796, 53.2724882], [-4.6205538, 53.2723422], [-4.6208134, 53.2722982], [-4.6207052, 53.2721574], [-4.6202509, 53.2721111], [-4.6201507, 53.272171], [-4.620087, 53.2722091], [-4.6199404, 53.2722162], [-4.619408, 53.2725974], [-4.6192556, 53.2728875], [-4.6192518, 53.2730872], [-4.6197532, 53.2730742], [-4.620019, 53.2731888], [-4.6197903, 53.2733459], [-4.6191103, 53.2734956], [-4.6191286, 53.273639], [-4.619243, 53.2737908], [-4.6192773, 53.2737852], [-4.6195801, 53.2737359], [-4.6199912, 53.2737599], [-4.6205128, 53.2739221], [-4.6205766, 53.2739083], [-4.6206558, 53.2738911], [-4.6206063, 53.2736712], [-4.6207979, 53.2735972], [-4.6211627, 53.2736952], [-4.6216013, 53.2736089], [-4.6218443, 53.2739409], [-4.6219107, 53.2740316], [-4.621515, 53.2740907], [-4.6216122, 53.2742126], [-4.6218438, 53.2741786], [-4.6221455, 53.2743276], [-4.6220886, 53.2744766], [-4.6218482, 53.2744896], [-4.6216603, 53.274453], [-4.6216821, 53.2745498], [-4.6218744, 53.2745994], [-4.6220537, 53.2748843], [-4.6219731, 53.2754141], [-4.6214627, 53.2757362], [-4.6204788, 53.2761088], [-4.6202793, 53.2762287], [-4.6198704, 53.2764107], [-4.6196845, 53.2763585], [-4.6194032, 53.2760563], [-4.6193871, 53.276039], [-4.6191948, 53.2758324], [-4.6188911, 53.2758795], [-4.6186017, 53.2761604], [-4.6187032, 53.2763704], [-4.618558, 53.2764222], [-4.6182953, 53.2762355], [-4.6179985, 53.2762466], [-4.6177265, 53.2761523], [-4.6174236, 53.2761856], [-4.6173666, 53.2763756], [-4.6173587, 53.2764018], [-4.6175998, 53.2765016], [-4.6175225, 53.2765588], [-4.6170875, 53.2765768], [-4.616903, 53.2766224], [-4.6166216, 53.2766919], [-4.6162984, 53.2772471], [-4.6161439, 53.2778087], [-4.6163435, 53.2783553], [-4.6168844, 53.2789355], [-4.6173954, 53.2792592], [-4.6182865, 53.279747], [-4.6189055, 53.2800764], [-4.6197612, 53.2803728], [-4.6198029, 53.2803686], [-4.6209719, 53.2802509], [-4.6207366, 53.2799627], [-4.6208652, 53.2797338], [-4.6210886, 53.2796157], [-4.6215414, 53.2796171], [-4.6216659, 53.2797085], [-4.622034, 53.2798412], [-4.623002, 53.2796588], [-4.6229544, 53.2794353], [-4.6231925, 53.2792984], [-4.6235243, 53.279332], [-4.6240128, 53.2789845], [-4.6239974, 53.2787213], [-4.6239934, 53.278654], [-4.6246218, 53.2785211], [-4.6249818, 53.2787647], [-4.6250769, 53.2789126], [-4.6251463, 53.2790205], [-4.6251467, 53.2793495], [-4.6251598, 53.2797035], [-4.6254531, 53.279729], [-4.6253356, 53.2798973], [-4.6250358, 53.2799065], [-4.6250658, 53.2802021], [-4.6253642, 53.2803918], [-4.6261158, 53.2804727], [-4.626501, 53.2803427], [-4.6266093, 53.280047], [-4.6263962, 53.2800368], [-4.6263991, 53.2799693], [-4.6262074, 53.2800156], [-4.6264016, 53.2798288], [-4.6266251, 53.2796635], [-4.6271943, 53.2797185], [-4.6276388, 53.2795257], [-4.6281223, 53.2796562], [-4.6280809, 53.2798658], [-4.6274317, 53.2800322], [-4.627509, 53.2801283], [-4.627951, 53.2800821], [-4.6281018, 53.2801699], [-4.6283251, 53.2804961], [-4.6281805, 53.2806838], [-4.6279851, 53.2809675], [-4.628147, 53.2812106], [-4.6284206, 53.2813383], [-4.6291135, 53.281485], [-4.6294457, 53.2814086], [-4.6297814, 53.2812203], [-4.6295189, 53.2811898], [-4.6295584, 53.2808747], [-4.6296679, 53.2805648], [-4.630469, 53.2800685], [-4.6313408, 53.2803439], [-4.6313161, 53.28049], [-4.6317965, 53.2804798], [-4.6317335, 53.2802885], [-4.6323133, 53.280323], [-4.6324167, 53.2804253], [-4.6321045, 53.2805048], [-4.632045, 53.28079], [-4.6326177, 53.2807229], [-4.6334338, 53.2805935], [-4.6340175, 53.2807928], [-4.635153, 53.280926], [-4.6358855, 53.2812515], [-4.6358948, 53.2813791], [-4.6353564, 53.281624], [-4.635261, 53.2816674], [-4.6351373, 53.2818153], [-4.6354369, 53.2819796], [-4.6357693, 53.2820036], [-4.6359461, 53.2818747], [-4.6363461, 53.281734], [-4.6367233, 53.281734], [-4.6370572, 53.2815972], [-4.6370694, 53.2812694], [-4.6374369, 53.281183], [-4.6378642, 53.2809247], [-4.6386205, 53.280757], [-4.6384429, 53.2812775], [-4.6383286, 53.2815866], [-4.6381836, 53.2818004], [-4.6377281, 53.2819317], [-4.6383464, 53.2821129], [-4.6382651, 53.2823547], [-4.6382544, 53.2825065], [-4.6388073, 53.2826583], [-4.6387301, 53.2830601], [-4.6370644, 53.2834612], [-4.6370554, 53.2842024], [-4.637465, 53.2846451], [-4.6385793, 53.2842288], [-4.6395262, 53.2840828], [-4.6403992, 53.2842477], [-4.6406466, 53.2841239], [-4.6408351, 53.2842477], [-4.6406373, 53.2844751], [-4.6401303, 53.2847172], [-4.6407156, 53.2851115], [-4.6409844, 53.2850306], [-4.6409933, 53.2849812], [-4.6417348, 53.2847967], [-4.6416853, 53.2847542], [-4.6420223, 53.2846359], [-4.6422635, 53.2846728], [-4.6424057, 53.2848078], [-4.6425324, 53.2847948], [-4.6425077, 53.2846636], [-4.6421629, 53.2845135], [-4.6424222, 53.2842478], [-4.642619, 53.284172], [-4.6427163, 53.2843139], [-4.6433011, 53.2843253], [-4.6435871, 53.2843939], [-4.6439894, 53.2844092], [-4.6443169, 53.2842505], [-4.6445084, 53.2841324], [-4.6456347, 53.2842359], [-4.6452901, 53.2837579], [-4.6462887, 53.2835731], [-4.6472473, 53.2836822], [-4.6464968, 53.2839891], [-4.6467292, 53.2840927], [-4.647176, 53.2839612], [-4.6470585, 53.2841184], [-4.6474945, 53.2841054], [-4.6474512, 53.2843864], [-4.6476677, 53.2844097], [-4.647921, 53.2840394], [-4.6483042, 53.2838575], [-4.64849, 53.2840222], [-4.6486754, 53.283976], [-4.6490294, 53.2839971], [-4.6497328, 53.284183], [-4.6498317, 53.284135], [-4.6497513, 53.2839834], [-4.6502492, 53.2838272], [-4.6504686, 53.2839058], [-4.6502989, 53.2840196], [-4.6505397, 53.2842219], [-4.6508241, 53.2841073], [-4.6506881, 53.2842607], [-4.650077, 53.2844808], [-4.6502826, 53.2846834], [-4.6507159, 53.2846821], [-4.6514176, 53.2844371], [-4.651427, 53.2846008], [-4.6515445, 53.2846987], [-4.65212, 53.2846024], [-4.6520206, 53.2847819], [-4.6512705, 53.2851394], [-4.6513373, 53.2852883], [-4.6517887, 53.2852236], [-4.6520082, 53.2853456], [-4.6513837, 53.2856025], [-4.6515228, 53.2858262], [-4.6513033, 53.2861219], [-4.651394, 53.28618], [-4.6520886, 53.2858225], [-4.6523111, 53.2858962], [-4.6517114, 53.2863492], [-4.6514981, 53.2864749], [-4.6515667, 53.286569], [-4.6516882, 53.2866701], [-4.6518298, 53.2867514], [-4.6518549, 53.2868143], [-4.6517255, 53.286849], [-4.6518034, 53.2869026], [-4.6519052, 53.2869725], [-4.6521386, 53.2870687], [-4.6523236, 53.2870911], [-4.6523907, 53.2869928], [-4.6524487, 53.2869588], [-4.6525113, 53.2869499], [-4.6525896, 53.286957], [-4.6527074, 53.2870223], [-4.6528317, 53.287017], [-4.6528936, 53.2869115], [-4.6528622, 53.2867462], [-4.6533794, 53.2864404], [-4.6545556, 53.28605], [-4.655032, 53.28619], [-4.6555531, 53.2861106], [-4.655977, 53.2860093], [-4.6562062, 53.2861612], [-4.6559875, 53.2862815], [-4.6566391, 53.2862841], [-4.6571127, 53.286556], [-4.6572394, 53.2865135], [-4.6567169, 53.2862326], [-4.657125, 53.2862196], [-4.6570632, 53.2861235], [-4.6572487, 53.2860717], [-4.6577249, 53.2863139], [-4.657652, 53.2861712], [-4.6577527, 53.286007], [-4.6583958, 53.2860828], [-4.6598645, 53.2864876], [-4.6599418, 53.286386], [-4.6596372, 53.2862586], [-4.659534, 53.2862586], [-4.6593962, 53.2861959], [-4.6592968, 53.2861444], [-4.6591982, 53.2861166], [-4.6591151, 53.2861169], [-4.6589569, 53.2860382], [-4.6588947, 53.2859908], [-4.65889, 53.2859656], [-4.658885, 53.2859239], [-4.6589341, 53.2858923], [-4.6590424, 53.2858878], [-4.659134, 53.2858443], [-4.6595183, 53.2858199], [-4.6595507, 53.2858005], [-4.6598122, 53.2858224], [-4.6599464, 53.2858232], [-4.6600569, 53.2857857], [-4.6602522, 53.2857699], [-4.6604105, 53.2858035], [-4.6605437, 53.285896], [-4.6607113, 53.2859577], [-4.6607575, 53.285956], [-4.6608003, 53.2859482], [-4.660857, 53.2859183], [-4.6604682, 53.2857452], [-4.6604922, 53.285569], [-4.6606406, 53.2854451], [-4.6605757, 53.28519], [-4.6603805, 53.2851659], [-4.6603097, 53.2849109], [-4.6603773, 53.2848323], [-4.6606175, 53.2847366], [-4.6606808, 53.2846002], [-4.6606244, 53.2846068], [-4.6602592, 53.2848488], [-4.6600394, 53.2848593], [-4.6598802, 53.2848097], [-4.6596481, 53.2845153], [-4.6599004, 53.2839455], [-4.6602105, 53.2836823], [-4.6602123, 53.283458], [-4.6603221, 53.2833545], [-4.6605231, 53.2834247], [-4.6610362, 53.2831269], [-4.6620289, 53.283092], [-4.6620072, 53.283177], [-4.6615836, 53.2833508], [-4.661724, 53.2834606], [-4.6619912, 53.2834343], [-4.6628668, 53.2832158], [-4.662941, 53.2832805], [-4.6627771, 53.2836022], [-4.6634763, 53.2834163], [-4.6636614, 53.283519], [-4.6637233, 53.2834173], [-4.6638721, 53.2833608], [-4.6644406, 53.2834376], [-4.6644746, 53.2834025], [-4.6642609, 53.2831712], [-4.6640943, 53.2830975], [-4.6642118, 53.2830384], [-4.6646879, 53.2829348], [-4.665328, 53.2833563], [-4.6654022, 53.2834691], [-4.6655073, 53.2834561], [-4.6653403, 53.2830698], [-4.6654702, 53.2829626], [-4.6656571, 53.2829459], [-4.6655413, 53.282872], [-4.6656155, 53.2827518], [-4.6661875, 53.282726], [-4.666203, 53.2826483], [-4.6656093, 53.2826113], [-4.6657516, 53.2824246], [-4.6656186, 53.2824505], [-4.6658286, 53.2822978], [-4.6662401, 53.2822583], [-4.6672821, 53.2825226], [-4.6673316, 53.2824561], [-4.6659598, 53.2819899], [-4.666271, 53.2816889], [-4.6669026, 53.2814625], [-4.6671615, 53.2815521], [-4.6679724, 53.2813804], [-4.6681416, 53.281602], [-4.6680272, 53.2817758], [-4.6682249, 53.2819208], [-4.6682622, 53.2820105], [-4.668692, 53.2818608], [-4.6690198, 53.282005], [-4.6686395, 53.2821973], [-4.6691403, 53.282225], [-4.6687971, 53.2823729], [-4.6680687, 53.2824809], [-4.6681344, 53.2827223], [-4.6686241, 53.2828477], [-4.6687421, 53.2830909], [-4.6690264, 53.283049], [-4.6690746, 53.2828029], [-4.6693466, 53.2826975], [-4.6696466, 53.2827363], [-4.6692663, 53.2829138], [-4.6691519, 53.2831744], [-4.6695569, 53.2832669], [-4.6697795, 53.2830949], [-4.6699805, 53.2831264], [-4.6700176, 53.2832576], [-4.6706669, 53.2832077], [-4.6709854, 53.2830173], [-4.6714986, 53.283204], [-4.6716409, 53.2834517], [-4.6718326, 53.2834018], [-4.6712946, 53.2829582], [-4.672196, 53.2828771], [-4.6724479, 53.2829933], [-4.6724571, 53.283411], [-4.6727261, 53.2833593], [-4.6730164, 53.2831623], [-4.6731652, 53.2835201], [-4.673428, 53.2834147], [-4.6735206, 53.2834703], [-4.6734806, 53.2836495], [-4.6725992, 53.2840288], [-4.6727571, 53.2841615], [-4.6734311, 53.2841042], [-4.6732951, 53.2843316], [-4.6734404, 53.2843482], [-4.6740279, 53.28401], [-4.6740866, 53.2840174], [-4.6741392, 53.2842836], [-4.6744267, 53.284058], [-4.6746122, 53.2841227], [-4.6743904, 53.2843571], [-4.6737156, 53.2846588], [-4.6738432, 53.2847492], [-4.6746679, 53.2844592], [-4.6747235, 53.2845719], [-4.6747761, 53.2847309], [-4.6749307, 53.2847937], [-4.6748599, 53.2850408], [-4.6747278, 53.2852023], [-4.6746907, 53.2852988], [-4.6747354, 53.2853404], [-4.6748043, 53.2853197], [-4.6748348, 53.2852784], [-4.6748703, 53.2851835], [-4.674972, 53.2850792], [-4.6752059, 53.2849102], [-4.675345, 53.2850156], [-4.6754181, 53.2851977], [-4.6750554, 53.285501], [-4.6753388, 53.2856662], [-4.6758547, 53.285685], [-4.6760085, 53.2853705], [-4.675747, 53.2852799], [-4.6756635, 53.2848529], [-4.675759, 53.2845683], [-4.6764335, 53.2840782], [-4.6765196, 53.284319], [-4.6766333, 53.2840288], [-4.6768082, 53.2839765], [-4.6774554, 53.2843085], [-4.6775253, 53.2842798], [-4.6770968, 53.2839556], [-4.6776303, 53.2837491], [-4.6777507, 53.2838479], [-4.6781987, 53.2836105], [-4.6787672, 53.283621], [-4.6790329, 53.2834779], [-4.6795522, 53.2830538], [-4.6803249, 53.2826975], [-4.6803735, 53.2828414], [-4.6801494, 53.2831172], [-4.6804199, 53.2832203], [-4.6805466, 53.2831445], [-4.6804199, 53.2830336], [-4.6804384, 53.2828599], [-4.6805466, 53.28281], [-4.6806981, 53.2825974], [-4.6810062, 53.2824864], [-4.6814141, 53.2824885], [-4.681585, 53.2823556], [-4.6830141, 53.2821902], [-4.6827919, 53.282561], [-4.6819463, 53.2829966], [-4.6821142, 53.2830872], [-4.6832335, 53.2826658], [-4.6836556, 53.2826338], [-4.6838303, 53.2827526], [-4.6835922, 53.2828747], [-4.6838828, 53.283102], [-4.6836546, 53.2832373], [-4.6838519, 53.2834939], [-4.6840405, 53.2835309], [-4.6840745, 53.2834588], [-4.6844054, 53.2834736], [-4.6842611, 53.2835825], [-4.6844363, 53.2836196], [-4.6847053, 53.2835642], [-4.6851289, 53.2836048], [-4.6848506, 53.2837176], [-4.6853963, 53.283717], [-4.685571, 53.2839967], [-4.6852897, 53.2843905], [-4.6857102, 53.2842075], [-4.6858864, 53.284579], [-4.6854064, 53.2848568], [-4.6858493, 53.2848563], [-4.685144, 53.2851151], [-4.6853237, 53.285189], [-4.6855896, 53.2851576], [-4.6848119, 53.2855923], [-4.6837425, 53.2859724], [-4.6841929, 53.2859786], [-4.6835719, 53.2863446], [-4.6838077, 53.2866545], [-4.6854778, 53.2871586], [-4.686269, 53.2873511], [-4.6856449, 53.2875786], [-4.6862921, 53.2877982], [-4.6857323, 53.2881346], [-4.6860909, 53.2880701], [-4.686279, 53.2881459], [-4.686467, 53.2879786], [-4.6868191, 53.2878951], [-4.6872324, 53.2883446], [-4.6870881, 53.2885568], [-4.6875647, 53.2881616], [-4.6879802, 53.2880178], [-4.6878796, 53.2884099], [-4.6872465, 53.2888621], [-4.6868541, 53.2890186], [-4.6860426, 53.2891885], [-4.6858914, 53.2894976], [-4.6850021, 53.2900727], [-4.6847833, 53.2900386], [-4.6849495, 53.290151], [-4.6842906, 53.2905842], [-4.6840443, 53.2911313], [-4.6838562, 53.2910398], [-4.6837614, 53.2911161], [-4.6840268, 53.2913247], [-4.6834755, 53.2916154], [-4.683036, 53.2919419], [-4.6824309, 53.2921639], [-4.6826609, 53.2921955], [-4.6814567, 53.2925124], [-4.6818881, 53.2925385], [-4.6816047, 53.2927603], [-4.6813503, 53.2928801], [-4.6813066, 53.2928646], [-4.6812726, 53.292826], [-4.6812054, 53.2928377], [-4.6811567, 53.2928365], [-4.6812817, 53.2929141], [-4.6812711, 53.2929597], [-4.6807293, 53.293267], [-4.6800853, 53.2932283], [-4.6800209, 53.2929062], [-4.679772, 53.293114], [-4.6794993, 53.2930577], [-4.6793324, 53.2930718], [-4.6791487, 53.2931485], [-4.6789889, 53.2932152], [-4.6790951, 53.2935088], [-4.6787418, 53.2936495], [-4.6784638, 53.2937603], [-4.6786022, 53.2939103], [-4.6776107, 53.2947648], [-4.6780003, 53.2948879], [-4.6775775, 53.2952808], [-4.6777466, 53.2956604], [-4.6779719, 53.2958239], [-4.6791877, 53.2954841], [-4.6784048, 53.2959232], [-4.6787156, 53.2963173], [-4.678746, 53.2965348], [-4.6790565, 53.2965714], [-4.6797168, 53.2968171], [-4.6794982, 53.2970419], [-4.6795944, 53.2972484], [-4.6798642, 53.2972258], [-4.6791492, 53.2975522], [-4.6782264, 53.297775], [-4.6778573, 53.2980601], [-4.677698, 53.2983552], [-4.6781977, 53.2987649], [-4.6795775, 53.298414], [-4.6794488, 53.2986224], [-4.6790827, 53.2987016], [-4.6789863, 53.2989451], [-4.6798534, 53.2988326], [-4.6797999, 53.2992479], [-4.6793744, 53.2995864], [-4.6792792, 53.2996621], [-4.6797181, 53.299942], [-4.6807493, 53.3006465], [-4.6810062, 53.300703], [-4.68122, 53.3006698], [-4.681405, 53.3005728], [-4.6813771, 53.3005142], [-4.6818507, 53.3003169], [-4.6819827, 53.3003256], [-4.6820754, 53.3003889], [-4.6825793, 53.3004105], [-4.6827956, 53.3002881], [-4.6827213, 53.300126], [-4.6832494, 53.2998707], [-4.683498, 53.3000349], [-4.6839135, 53.300136], [-4.6854544, 53.2997845], [-4.6856382, 53.3000581], [-4.686303, 53.2996347], [-4.6872791, 53.3003608], [-4.6871164, 53.2995536], [-4.6878335, 53.2993217], [-4.6879273, 53.2996711], [-4.688141, 53.2996535], [-4.6887282, 53.2996214], [-4.688702, 53.299918], [-4.6890331, 53.2999625], [-4.6892903, 53.2999969], [-4.6893288, 53.3001279], [-4.6894731, 53.3001985], [-4.6896656, 53.3001488], [-4.6898056, 53.3003606], [-4.6895474, 53.3006824], [-4.68967, 53.3007396], [-4.68995, 53.3006403], [-4.6900322, 53.3007144], [-4.6900189, 53.3008583], [-4.6900459, 53.3009705], [-4.6901403, 53.3009867], [-4.6902031, 53.3008946], [-4.6901438, 53.3007433], [-4.6902089, 53.3006229], [-4.690208, 53.3005797], [-4.6904515, 53.3004547], [-4.6906749, 53.3003841], [-4.6907454, 53.3004505], [-4.6907279, 53.3005696], [-4.6906956, 53.3006746], [-4.6910322, 53.3008333], [-4.6910165, 53.3012363], [-4.6906203, 53.3014719], [-4.6905382, 53.3014572], [-4.6903817, 53.3013475], [-4.6902636, 53.3012651], [-4.6901993, 53.301275], [-4.6902698, 53.3013437], [-4.6903909, 53.3014452], [-4.6904664, 53.3015756], [-4.6903301, 53.3017242], [-4.6900198, 53.3020935], [-4.6904095, 53.3024884], [-4.6909054, 53.3028401], [-4.6916035, 53.3028619], [-4.6920534, 53.3030776], [-4.6923269, 53.3029299], [-4.6927086, 53.3033225], [-4.6927115, 53.3035582], [-4.6927482, 53.3038974], [-4.6930253, 53.3039939], [-4.6932835, 53.3039887], [-4.6936269, 53.3042604], [-4.6938213, 53.3042918], [-4.6939799, 53.3044051], [-4.6940158, 53.3044263], [-4.6941699, 53.3045173], [-4.6942546, 53.3045673], [-4.6942648, 53.3046157], [-4.6942521, 53.3046465], [-4.6941975, 53.3046847], [-4.6941773, 53.304682], [-4.6941343, 53.3046462], [-4.6940131, 53.3045643], [-4.69399, 53.3045632], [-4.6939734, 53.3046246], [-4.6939529, 53.3046615], [-4.6939674, 53.3046767], [-4.6939734, 53.3047092], [-4.6940736, 53.3047293], [-4.6940945, 53.3047577], [-4.6940874, 53.3047872], [-4.6940327, 53.3047981], [-4.693856, 53.3049135], [-4.6943073, 53.3048367], [-4.6944762, 53.3048543], [-4.6941892, 53.3050835], [-4.6943555, 53.3050739], [-4.694326, 53.3051893], [-4.6941571, 53.3052534], [-4.6938567, 53.3052005], [-4.6935141, 53.3053366], [-4.6937453, 53.3054822], [-4.6942949, 53.3054485], [-4.6944693, 53.3055192], [-4.6942125, 53.3057299], [-4.6943764, 53.3058261], [-4.6945206, 53.3057948], [-4.6946626, 53.3059751], [-4.6948725, 53.3059761], [-4.6954827, 53.3057928], [-4.6956174, 53.305903], [-4.6954947, 53.3060242], [-4.6953532, 53.3062434], [-4.6949294, 53.3064161], [-4.6951334, 53.306449], [-4.6953238, 53.3064683], [-4.6954579, 53.3065244], [-4.6954204, 53.3066526], [-4.695592, 53.3066285], [-4.6959327, 53.3065276], [-4.6961754, 53.3064616], [-4.6965575, 53.3064217], [-4.6965991, 53.3065073], [-4.6964448, 53.3067505], [-4.696561, 53.3067555], [-4.6965922, 53.3067967], [-4.6966244, 53.3068832], [-4.6965904, 53.3071118], [-4.696691, 53.3073826], [-4.6967017, 53.3074868], [-4.696455, 53.3075349], [-4.6964335, 53.3075044], [-4.6962317, 53.3075234], [-4.6963872, 53.3076519], [-4.6961123, 53.308058], [-4.6959467, 53.308345], [-4.6957016, 53.3084575], [-4.6956858, 53.3084696], [-4.6956254, 53.3085599], [-4.6956464, 53.3086296], [-4.6956562, 53.3086905], [-4.6956357, 53.3087225], [-4.6955633, 53.3087655], [-4.695431, 53.3088332], [-4.6952124, 53.3089137], [-4.6948388, 53.309084], [-4.6945091, 53.3092353], [-4.6943693, 53.309305], [-4.694314, 53.3093323], [-4.6941548, 53.3094258], [-4.6940006, 53.3095282], [-4.6938972, 53.3096267], [-4.6938866, 53.3097205], [-4.6939073, 53.3097641], [-4.6939196, 53.3097917], [-4.6939352, 53.3098732], [-4.693922, 53.3099256], [-4.6938897, 53.3099605], [-4.6937314, 53.3099982], [-4.6936486, 53.3100415], [-4.6936069, 53.3101179], [-4.6937001, 53.3101437], [-4.6938071, 53.3101035], [-4.6938488, 53.3101224], [-4.6939482, 53.310103], [-4.6939665, 53.3101314], [-4.6939143, 53.3102081], [-4.6937458, 53.3102982], [-4.693682, 53.3103581], [-4.6935991, 53.3104238], [-4.693514, 53.3104545], [-4.6933621, 53.3104984], [-4.6932289, 53.3105536], [-4.6931269, 53.3106251], [-4.6930588, 53.3107606], [-4.6929507, 53.3108791], [-4.6927512, 53.3109528], [-4.6926131, 53.3110485], [-4.6925384, 53.3111024], [-4.6924345, 53.3111452], [-4.6923588, 53.3111586], [-4.69227, 53.3111318], [-4.6922923, 53.3110324], [-4.6922962, 53.3109514], [-4.6922633, 53.3108829], [-4.6922218, 53.3108434], [-4.6921702, 53.3107861], [-4.6921027, 53.3107876], [-4.6920464, 53.310824], [-4.6919721, 53.3108598], [-4.6919054, 53.310873], [-4.6918357, 53.3108629], [-4.691831, 53.3107884], [-4.6918562, 53.3107123], [-4.6918807, 53.3106479], [-4.6918486, 53.3105911], [-4.691753, 53.310622], [-4.6916404, 53.3106704], [-4.6916278, 53.3106131], [-4.6916627, 53.3105719], [-4.6915683, 53.3105974], [-4.6914827, 53.3106218], [-4.6914362, 53.3106462], [-4.6914608, 53.3107266], [-4.6911924, 53.3107794], [-4.6909471, 53.3108659], [-4.6905868, 53.3109846], [-4.6903973, 53.3110518], [-4.6902346, 53.3110906], [-4.6901787, 53.3111089], [-4.6901509, 53.3111446], [-4.6899778, 53.3111602], [-4.6898181, 53.3111998], [-4.6895753, 53.3113257], [-4.6892952, 53.3113833], [-4.6890963, 53.3114912], [-4.6890069, 53.3115265], [-4.6887657, 53.3116056], [-4.6886114, 53.3116352], [-4.6884734, 53.3116374], [-4.6884199, 53.3116215], [-4.6883691, 53.311602], [-4.6882964, 53.3115443], [-4.6881994, 53.3114341], [-4.688209, 53.3113476], [-4.6882056, 53.3112946], [-4.6881964, 53.3112426], [-4.6881789, 53.3112035], [-4.6881572, 53.3111689], [-4.6880986, 53.3111441], [-4.6879612, 53.3111553], [-4.6879262, 53.3111723], [-4.6878975, 53.3111936], [-4.6878474, 53.3112559], [-4.6877929, 53.3113677], [-4.6876507, 53.3113988], [-4.6875645, 53.3114853], [-4.6875377, 53.3114886], [-4.6875136, 53.3114864], [-4.6874855, 53.311398], [-4.6872943, 53.3113898], [-4.6871818, 53.3113671], [-4.6870804, 53.3113298], [-4.6870087, 53.3112892], [-4.6869727, 53.3112657], [-4.6868061, 53.3112182], [-4.6866941, 53.3112046], [-4.6865731, 53.3111659], [-4.6864551, 53.3111515], [-4.6863372, 53.3111623], [-4.6861863, 53.3111747], [-4.6860907, 53.3112056], [-4.6860134, 53.3112901], [-4.6858939, 53.3113719], [-4.6857941, 53.3114317], [-4.6857487, 53.311474], [-4.6857449, 53.3115326], [-4.6857195, 53.3115826], [-4.6857514, 53.3116358], [-4.6857799, 53.3116604], [-4.685811, 53.311701], [-4.6857934, 53.3117554], [-4.685831, 53.311804], [-4.6859153, 53.3118318], [-4.6859588, 53.3118551], [-4.6859827, 53.3119004], [-4.6859729, 53.311959], [-4.685912, 53.3119937], [-4.6859083, 53.3120306], [-4.6859037, 53.312068], [-4.6859259, 53.3120767], [-4.6859075, 53.3121094], [-4.6858318, 53.3121681], [-4.6857621, 53.3122157], [-4.6857125, 53.3122074], [-4.685363, 53.312408], [-4.6850456, 53.3125185], [-4.6849817, 53.3125523], [-4.6847823, 53.3126471], [-4.6846722, 53.3125856], [-4.684584, 53.3125521], [-4.6845389, 53.3125456], [-4.6844937, 53.3125754], [-4.6845066, 53.312606], [-4.6845959, 53.3126182], [-4.6846591, 53.3126581], [-4.6846524, 53.3127272], [-4.6845345, 53.312807], [-4.6842987, 53.3129615], [-4.684321, 53.3129808], [-4.6843505, 53.3129972], [-4.6845336, 53.3129715], [-4.6846904, 53.312959], [-4.6847156, 53.3130007], [-4.684691, 53.3130642], [-4.6844619, 53.3131683], [-4.6843118, 53.3132175], [-4.6842128, 53.3132188], [-4.6841373, 53.3131882], [-4.6839245, 53.3131939], [-4.683753, 53.3130925], [-4.6836833, 53.3131309], [-4.6836775, 53.3132066], [-4.6835131, 53.3132184], [-4.6833665, 53.3132028], [-4.6832513, 53.3132333], [-4.6832643, 53.3132735], [-4.6836199, 53.3133644], [-4.6838103, 53.3133601], [-4.6838564, 53.3133779], [-4.6838953, 53.3133986], [-4.6839453, 53.3134532], [-4.6839293, 53.3135093], [-4.6838576, 53.313564], [-4.683814, 53.3135866], [-4.6837628, 53.3136084], [-4.6836201, 53.3136557], [-4.6831989, 53.3137137], [-4.6831016, 53.3137663], [-4.683009, 53.3138223], [-4.6828302, 53.3139639], [-4.6828251, 53.3140018], [-4.6828369, 53.3140231], [-4.6828565, 53.3140469], [-4.682929, 53.3141028], [-4.6829654, 53.3141802], [-4.6829447, 53.3142095], [-4.6828783, 53.3142757], [-4.6827277, 53.3144113], [-4.6826773, 53.3144466], [-4.6825619, 53.3144977], [-4.6824465, 53.3145489], [-4.682301, 53.314598], [-4.6821941, 53.3146175], [-4.6820919, 53.3146162], [-4.6820238, 53.3146312], [-4.6820859, 53.3147593], [-4.6820989, 53.3147995], [-4.6820968, 53.3148849], [-4.6820788, 53.314933], [-4.6820535, 53.3149848], [-4.6818832, 53.3152143], [-4.6818748, 53.3152244], [-4.6817987, 53.3153268], [-4.6816711, 53.3154709], [-4.6815766, 53.315544], [-4.6815178, 53.3155642], [-4.6813124, 53.3155688], [-4.6811474, 53.3156202], [-4.6807129, 53.3157731], [-4.6805616, 53.3160336], [-4.6804949, 53.3162197], [-4.6805972, 53.3164616], [-4.6802368, 53.3168072], [-4.6801122, 53.3170039], [-4.6801789, 53.3172538], [-4.6802768, 53.3174053], [-4.6802991, 53.317618], [-4.6804682, 53.3178891], [-4.6807708, 53.3186574], [-4.680793, 53.3189524], [-4.6808909, 53.3191119], [-4.6808998, 53.3192209], [-4.6810467, 53.3194256], [-4.6809933, 53.3196223], [-4.6809488, 53.3198562], [-4.680882, 53.3200954], [-4.6811357, 53.3202204], [-4.6811312, 53.3204729], [-4.6811713, 53.3206802], [-4.6810645, 53.3209646], [-4.6810155, 53.3211374], [-4.6813325, 53.321107]]], &quot;type&quot;: &quot;Polygon&quot;}, &quot;id&quot;: &quot;68&quot;, &quot;properties&quot;: {&quot;FID&quot;: 68}, &quot;type&quot;: &quot;Feature&quot;}, {&quot;bbox&quot;: [-4.560539, 53.2546445, -4.5577794, 53.2564023], &quot;geometry&quot;: {&quot;coordinates&quot;: [[[-4.5583368, 53.2556041], [-4.5581362, 53.2554387], [-4.5581489, 53.2552789], [-4.5580182, 53.2550627], [-4.5579163, 53.2548943], [-4.5578239, 53.2547257], [-4.5577794, 53.2546445], [-4.5578912, 53.2546823], [-4.5588586, 53.2550093], [-4.5596276, 53.2553793], [-4.5602893, 53.2557128], [-4.560539, 53.2558711], [-4.5605236, 53.2561189], [-4.5604401, 53.2563185], [-4.5603021, 53.2564023], [-4.559751, 53.2562704], [-4.5592973, 53.2560148], [-4.5585217, 53.2559654], [-4.5583368, 53.2556041]]], &quot;type&quot;: &quot;Polygon&quot;}, &quot;id&quot;: &quot;69&quot;, &quot;properties&quot;: {&quot;FID&quot;: 69}, &quot;type&quot;: &quot;Feature&quot;}, {&quot;bbox&quot;: [-4.5912056, 53.2399235, -4.5899086, 53.2409152], &quot;geometry&quot;: {&quot;coordinates&quot;: [[[-4.5909492, 53.2409152], [-4.5906032, 53.2409079], [-4.5905877, 53.2407424], [-4.589999, 53.2407792], [-4.5899165, 53.2405683], [-4.5899086, 53.2400961], [-4.5901619, 53.2399235], [-4.5909611, 53.2399417], [-4.590903, 53.2400245], [-4.591143, 53.2400799], [-4.5912056, 53.2402763], [-4.5911713, 53.2402984], [-4.5910335, 53.2403874], [-4.5910833, 53.240523], [-4.5909203, 53.2405962], [-4.5910335, 53.240626], [-4.5910426, 53.2407236], [-4.5909492, 53.2409152]]], &quot;type&quot;: &quot;Polygon&quot;}, &quot;id&quot;: &quot;70&quot;, &quot;properties&quot;: {&quot;FID&quot;: 70}, &quot;type&quot;: &quot;Feature&quot;}, {&quot;bbox&quot;: [-3.8054002, 54.8581566, -3.7999435, 54.862341], &quot;geometry&quot;: {&quot;coordinates&quot;: [[[-3.8011537, 54.8584209], [-3.8017695, 54.8581566], [-3.802233, 54.8582221], [-3.8025613, 54.8583345], [-3.8026954, 54.8585376], [-3.8032962, 54.8587908], [-3.8032544, 54.8590533], [-3.8035001, 54.8592213], [-3.8038531, 54.859564], [-3.8041084, 54.8593238], [-3.8042125, 54.8595869], [-3.8042897, 54.8599055], [-3.8047071, 54.860184], [-3.8045172, 54.860439], [-3.8045611, 54.860735], [-3.8052757, 54.861432], [-3.8054002, 54.8619383], [-3.8046009, 54.862341], [-3.8040903, 54.8621411], [-3.8038295, 54.862039], [-3.8034035, 54.8620248], [-3.8030741, 54.8619779], [-3.8026407, 54.8618297], [-3.8022598, 54.8616086], [-3.8019551, 54.8614024], [-3.801747, 54.861143], [-3.8013071, 54.8608713], [-3.8010721, 54.8605675], [-3.8005754, 54.8603439], [-3.8002621, 54.8600519], [-3.8002193, 54.8599276], [-3.7999435, 54.859792], [-3.7999938, 54.8596614], [-3.8001947, 54.8596785], [-3.8000842, 54.8595937], [-3.8004874, 54.8593312], [-3.8005668, 54.8589483], [-3.8006881, 54.8587081], [-3.8011537, 54.8584209]]], &quot;type&quot;: &quot;Polygon&quot;}, &quot;id&quot;: &quot;71&quot;, &quot;properties&quot;: {&quot;FID&quot;: 71}, &quot;type&quot;: &quot;Feature&quot;}, {&quot;bbox&quot;: [-3.8128027, 54.8304673, -3.8071448, 54.8417817], &quot;geometry&quot;: {&quot;coordinates&quot;: [[[-3.8097713, 54.8304839], [-3.8103217, 54.8304673], [-3.8113892, 54.8306329], [-3.8116392, 54.8311025], [-3.8116231, 54.8314498], [-3.8118634, 54.8313515], [-3.8124342, 54.8316519], [-3.8128027, 54.8318289], [-3.8125254, 54.8320906], [-3.8125643, 54.8323211], [-3.812608, 54.8325794], [-3.8121016, 54.8330268], [-3.8116445, 54.8333377], [-3.81121, 54.8336213], [-3.8109761, 54.8341607], [-3.8110276, 54.8346606], [-3.8111175, 54.8353977], [-3.8112555, 54.8362108], [-3.8110975, 54.8365519], [-3.8100199, 54.8382346], [-3.8100679, 54.839346], [-3.810601, 54.8417817], [-3.8097322, 54.8396327], [-3.8092189, 54.8384502], [-3.8098309, 54.8369719], [-3.8103125, 54.8360955], [-3.8101318, 54.8359273], [-3.8096189, 54.8357179], [-3.8089183, 54.8357692], [-3.8087327, 54.8353712], [-3.8077392, 54.835003], [-3.8075869, 54.8347261], [-3.8078036, 54.8344079], [-3.8074356, 54.8342491], [-3.8077403, 54.833764], [-3.8074904, 54.8335571], [-3.8071448, 54.832357], [-3.8077736, 54.8318787], [-3.8080117, 54.8315654], [-3.808016, 54.8311897], [-3.8085299, 54.8310203], [-3.8088743, 54.8307651], [-3.8092928, 54.8305754], [-3.8097713, 54.8304839]]], &quot;type&quot;: &quot;Polygon&quot;}, &quot;id&quot;: &quot;72&quot;, &quot;properties&quot;: {&quot;FID&quot;: 72}, &quot;type&quot;: &quot;Feature&quot;}, {&quot;bbox&quot;: [-3.0421025, 54.171943, -3.040727, 54.1756382], &quot;geometry&quot;: {&quot;coordinates&quot;: [[[-3.041676, 54.1755142], [-3.0415564, 54.174609], [-3.0413944, 54.1743943], [-3.0411476, 54.1742692], [-3.0409062, 54.1740557], [-3.0407909, 54.1738108], [-3.0407346, 54.1734057], [-3.040727, 54.1727603], [-3.0407588, 54.1720279], [-3.0407657, 54.1719631], [-3.0407775, 54.171945], [-3.0407996, 54.171943], [-3.0408161, 54.171949], [-3.0408982, 54.1720176], [-3.040922, 54.1720759], [-3.0410142, 54.172457], [-3.0410544, 54.1727051], [-3.0411231, 54.1728802], [-3.0413089, 54.1732136], [-3.0414262, 54.1734987], [-3.0416934, 54.1737539], [-3.0419131, 54.173987], [-3.0419555, 54.1742182], [-3.0418795, 54.174407], [-3.0418527, 54.1745373], [-3.0419372, 54.1750378], [-3.0421025, 54.1755204], [-3.0420542, 54.1756052], [-3.0419228, 54.1756382], [-3.0417323, 54.1755942], [-3.041676, 54.1755142]]], &quot;type&quot;: &quot;Polygon&quot;}, &quot;id&quot;: &quot;73&quot;, &quot;properties&quot;: {&quot;FID&quot;: 73}, &quot;type&quot;: &quot;Feature&quot;}, {&quot;bbox&quot;: [-3.2034673, 54.0640419, -3.2004418, 54.0657483], &quot;geometry&quot;: {&quot;coordinates&quot;: [[[-3.201504, 54.0642434], [-3.2015576, 54.0644134], [-3.2017293, 54.0645771], [-3.2020082, 54.0647031], [-3.2022872, 54.0647975], [-3.2025983, 54.0649108], [-3.2030811, 54.0651438], [-3.2034244, 54.0652508], [-3.2034673, 54.0653579], [-3.203006, 54.0656916], [-3.2025661, 54.0657483], [-3.2021799, 54.0656664], [-3.2017807, 54.0655885], [-3.201461, 54.065446], [-3.2012357, 54.0652068], [-3.2010212, 54.0650431], [-3.2007422, 54.0649108], [-3.2005301, 54.0647252], [-3.2004418, 54.0644638], [-3.2006242, 54.0642497], [-3.2009139, 54.0641049], [-3.2012679, 54.0640419], [-3.201461, 54.0640608], [-3.201504, 54.0642434]]], &quot;type&quot;: &quot;Polygon&quot;}, &quot;id&quot;: &quot;74&quot;, &quot;properties&quot;: {&quot;FID&quot;: 74}, &quot;type&quot;: &quot;Feature&quot;}, {&quot;bbox&quot;: [-3.1768218, 54.0619625, -3.1723344, 54.0665754], &quot;geometry&quot;: {&quot;coordinates&quot;: [[[-3.1726648, 54.0625984], [-3.1727748, 54.0622852], [-3.1730028, 54.0620411], [-3.1731337, 54.0619807], [-3.1732759, 54.061965], [-3.1735661, 54.0619625], [-3.1739067, 54.0620302], [-3.1743331, 54.0621419], [-3.1749308, 54.0623632], [-3.1753927, 54.0626], [-3.1760364, 54.0631572], [-3.176406, 54.0633439], [-3.176626, 54.0634227], [-3.1767198, 54.0634415], [-3.1768115, 54.0634988], [-3.1768218, 54.0636005], [-3.1767391, 54.0637538], [-3.1765106, 54.0640854], [-3.1763985, 54.0644386], [-3.1762531, 54.0649936], [-3.1759693, 54.0654334], [-3.1756496, 54.0657098], [-3.1754029, 54.0658704], [-3.174558, 54.0662647], [-3.1744319, 54.0663418], [-3.1743461, 54.0664166], [-3.1742911, 54.0664922], [-3.1742187, 54.0665386], [-3.1741387, 54.0665754], [-3.1741972, 54.0664497], [-3.1742635, 54.0662016], [-3.1742603, 54.0660404], [-3.1742152, 54.0659261], [-3.1740913, 54.0657618], [-3.1740068, 54.0656744], [-3.1738995, 54.0656123], [-3.173697, 54.0654548], [-3.1734985, 54.065362], [-3.1732616, 54.0652209], [-3.1730546, 54.0650684], [-3.1727542, 54.0648016], [-3.1725343, 54.0646174], [-3.1724404, 54.0645246], [-3.1723662, 54.0643927], [-3.1723344, 54.0642034], [-3.1724015, 54.0638902], [-3.1724203, 54.0636792], [-3.1724095, 54.063473], [-3.1724476, 54.063354], [-3.1725624, 54.0631409], [-3.1725678, 54.0629221], [-3.1726648, 54.0625984]]], &quot;type&quot;: &quot;Polygon&quot;}, &quot;id&quot;: &quot;75&quot;, &quot;properties&quot;: {&quot;FID&quot;: 75}, &quot;type&quot;: &quot;Feature&quot;}, {&quot;bbox&quot;: [-1.8547609, 55.6677028, -1.7784524, 55.6893113], &quot;geometry&quot;: {&quot;coordinates&quot;: [[[-1.8357546, 55.6816913], [-1.8364339, 55.6810732], [-1.8371503, 55.6806362], [-1.8378073, 55.6804452], [-1.8382257, 55.6801181], [-1.8391446, 55.679641], [-1.8395797, 55.6782791], [-1.8411392, 55.6781663], [-1.84221, 55.6782076], [-1.8430432, 55.6782821], [-1.8436564, 55.6783809], [-1.8445349, 55.6786176], [-1.845367, 55.6786764], [-1.8461364, 55.6790509], [-1.8468622, 55.6792479], [-1.8479442, 55.6795048], [-1.848764, 55.6799848], [-1.8490064, 55.6805363], [-1.8494424, 55.6806243], [-1.8499336, 55.6809611], [-1.8503548, 55.6810966], [-1.8510191, 55.6810807], [-1.8511541, 55.6811339], [-1.8513087, 55.6811949], [-1.8517139, 55.6813547], [-1.8521657, 55.6815947], [-1.8522626, 55.6819298], [-1.8524388, 55.6819998], [-1.852731, 55.6824154], [-1.8527441, 55.6827009], [-1.8526406, 55.6829341], [-1.8527256, 55.6832776], [-1.8531909, 55.6835238], [-1.8534528, 55.683704], [-1.8535864, 55.6841042], [-1.8538065, 55.6845335], [-1.8538784, 55.6846736], [-1.8545893, 55.685082], [-1.8547609, 55.6852997], [-1.8547177, 55.6857128], [-1.8543805, 55.6864063], [-1.8538774, 55.6871315], [-1.8534551, 55.6875204], [-1.852911, 55.6878322], [-1.8522847, 55.6880986], [-1.8516344, 55.6881708], [-1.8501214, 55.6881688], [-1.8481809, 55.6881406], [-1.8446204, 55.6879186], [-1.8405179, 55.6873693], [-1.8399325, 55.6872888], [-1.8337001, 55.6856031], [-1.8274781, 55.684859], [-1.825355, 55.6847302], [-1.8244006, 55.6846485], [-1.8233909, 55.6847241], [-1.8202621, 55.6849026], [-1.8168924, 55.6853086], [-1.8164683, 55.6853399], [-1.8151973, 55.6851536], [-1.8135776, 55.685104], [-1.8126664, 55.685277], [-1.8120667, 55.6854517], [-1.8117971, 55.6855422], [-1.8104291, 55.6861743], [-1.8096054, 55.6863841], [-1.8089819, 55.6866274], [-1.8085853, 55.6869487], [-1.8080142, 55.6874084], [-1.8073136, 55.6875934], [-1.8064703, 55.6876186], [-1.8056889, 55.6877298], [-1.8049215, 55.6880333], [-1.8042625, 55.6883649], [-1.8038004, 55.6884646], [-1.8031195, 55.688566], [-1.8017462, 55.6890471], [-1.8013613, 55.689256], [-1.8010392, 55.6893113], [-1.8008312, 55.689263], [-1.8007206, 55.6891279], [-1.8007691, 55.6888855], [-1.8003616, 55.6882877], [-1.7996389, 55.6877945], [-1.7986733, 55.6873924], [-1.797502, 55.6871118], [-1.7970141, 55.6872123], [-1.794968, 55.687912], [-1.7939482, 55.6878534], [-1.7930054, 55.6880286], [-1.7927874, 55.688304], [-1.7924552, 55.6888294], [-1.7923133, 55.6887858], [-1.7921849, 55.6883201], [-1.7922467, 55.6877254], [-1.7923442, 55.6869018], [-1.7922682, 55.6864808], [-1.7921005, 55.6863132], [-1.7916196, 55.6858328], [-1.7915297, 55.685743], [-1.7905385, 55.6853163], [-1.788766, 55.6849208], [-1.7864506, 55.6845904], [-1.7846636, 55.6846158], [-1.7841955, 55.6846634], [-1.7839661, 55.6847421], [-1.7837396, 55.684854], [-1.783457, 55.6850786], [-1.783316, 55.6852951], [-1.7832618, 55.6853792], [-1.7831618, 55.6855345], [-1.7829799, 55.6856938], [-1.7827979, 55.6858168], [-1.7825318, 55.6859499], [-1.7821601, 55.6860716], [-1.7816488, 55.6862295], [-1.7812498, 55.6862933], [-1.7809728, 55.6863218], [-1.7807747, 55.686313], [-1.7804721, 55.6862717], [-1.7801652, 55.6861722], [-1.7799665, 55.6860893], [-1.7796667, 55.6859413], [-1.779377, 55.6857718], [-1.7792509, 55.6856362], [-1.7790769, 55.6850322], [-1.7790783, 55.6848927], [-1.7791872, 55.6846665], [-1.7791995, 55.6844403], [-1.7789901, 55.6840679], [-1.7792636, 55.6835069], [-1.7796141, 55.6830633], [-1.7800179, 55.6827391], [-1.7801906, 55.6823253], [-1.780035, 55.6819154], [-1.7797707, 55.681284], [-1.7798152, 55.6801268], [-1.7803031, 55.6795651], [-1.7805347, 55.6784345], [-1.780645, 55.6778433], [-1.7812111, 55.6775268], [-1.7816843, 55.6772423], [-1.781796, 55.6764808], [-1.7811004, 55.6756383], [-1.780927, 55.6753542], [-1.7812649, 55.674778], [-1.7812942, 55.6744555], [-1.7810588, 55.6739534], [-1.7807175, 55.6735273], [-1.7807933, 55.6730572], [-1.7805069, 55.6719168], [-1.7804291, 55.671672], [-1.7805479, 55.6714542], [-1.7803802, 55.6712152], [-1.7796315, 55.6704788], [-1.779416, 55.6700874], [-1.7794004, 55.6700592], [-1.779191, 55.6697759], [-1.7791878, 55.6694184], [-1.7791875, 55.6693866], [-1.7789024, 55.6690242], [-1.7789014, 55.6689068], [-1.7785202, 55.668176], [-1.7784524, 55.667866], [-1.7785779, 55.6677646], [-1.7788466, 55.6677028], [-1.7793518, 55.6677217], [-1.779855, 55.6678074], [-1.7804606, 55.6678509], [-1.7809778, 55.6679904], [-1.781573, 55.6682919], [-1.7819182, 55.6684151], [-1.7820062, 55.6685088], [-1.7819683, 55.6686575], [-1.7823855, 55.668788], [-1.783324, 55.6687313], [-1.7841739, 55.6686512], [-1.7850311, 55.6686825], [-1.7863158, 55.6686596], [-1.7873451, 55.668519], [-1.7878354, 55.6685235], [-1.7883471, 55.6685949], [-1.7888784, 55.6687222], [-1.7890567, 55.6689655], [-1.7895232, 55.6691723], [-1.7895547, 55.6691863], [-1.7906017, 55.6694911], [-1.7911189, 55.6697064], [-1.7916789, 55.6700076], [-1.7920508, 55.6702439], [-1.7925103, 55.67048], [-1.7929998, 55.6705967], [-1.7936526, 55.6705575], [-1.7936967, 55.6705549], [-1.7945564, 55.6703754], [-1.7952579, 55.6701207], [-1.7958043, 55.6698256], [-1.796177, 55.669517], [-1.7964575, 55.6691497], [-1.7965897, 55.6688247], [-1.7966051, 55.6685907], [-1.7965439, 55.6684568], [-1.7960808, 55.6684089], [-1.7957334, 55.6684029], [-1.7954432, 55.6684375], [-1.7952193, 55.6684242], [-1.7945535, 55.6683657], [-1.7941354, 55.6683517], [-1.7940423, 55.6682918], [-1.7940973, 55.6682726], [-1.7941649, 55.6683183], [-1.7945329, 55.66832], [-1.7951325, 55.668373], [-1.7950974, 55.6683008], [-1.7947877, 55.6682563], [-1.7946642, 55.6682134], [-1.7947759, 55.6681099], [-1.7953283, 55.6680188], [-1.7961026, 55.667955], [-1.7967301, 55.6679775], [-1.7972495, 55.6679834], [-1.7974411, 55.668005], [-1.7975565, 55.6679674], [-1.7985758, 55.6679945], [-1.7992701, 55.6679767], [-1.7995953, 55.6678452], [-1.8002154, 55.667822], [-1.8008639, 55.6679507], [-1.8013136, 55.6680649], [-1.8018864, 55.6681133], [-1.8025173, 55.6682877], [-1.8026154, 55.6683492], [-1.8028635, 55.6685048], [-1.8030042, 55.668593], [-1.8036925, 55.6691367], [-1.8040981, 55.6695785], [-1.8043609, 55.66984], [-1.8046216, 55.6701292], [-1.8050358, 55.6705199], [-1.8052726, 55.6707344], [-1.8056449, 55.6709889], [-1.8059618, 55.6711203], [-1.8061477, 55.6711693], [-1.8062251, 55.6712443], [-1.8065166, 55.6713449], [-1.8065527, 55.6713574], [-1.8068358, 55.6716967], [-1.8068019, 55.6718599], [-1.8066531, 55.6720683], [-1.8065741, 55.6721791], [-1.8064705, 55.672407], [-1.8065575, 55.6726526], [-1.8068326, 55.6730265], [-1.8069325, 55.673426], [-1.8068594, 55.6737036], [-1.8068104, 55.6738896], [-1.8067186, 55.67404], [-1.8065582, 55.6741839], [-1.8062329, 55.6742739], [-1.8058983, 55.6745297], [-1.8056978, 55.6747911], [-1.8054688, 55.6749187], [-1.8052229, 55.6751263], [-1.8050442, 55.6752867], [-1.804953, 55.6756084], [-1.8050143, 55.6757984], [-1.8050989, 55.6760797], [-1.8050849, 55.676382], [-1.8054673, 55.6766649], [-1.8065098, 55.6781859], [-1.8073625, 55.6790635], [-1.8075845, 55.6791935], [-1.8078521, 55.6794435], [-1.8083128, 55.6797661], [-1.8089405, 55.6801151], [-1.8096828, 55.6803905], [-1.8108032, 55.6807411], [-1.811597, 55.6810216], [-1.8125536, 55.681249], [-1.8135064, 55.6815402], [-1.8144364, 55.6818268], [-1.8146413, 55.681892], [-1.8154203, 55.682169], [-1.8169036, 55.6824893], [-1.8182675, 55.6825758], [-1.8188646, 55.6825722], [-1.8195896, 55.6825548], [-1.8208873, 55.6825421], [-1.8223974, 55.6825336], [-1.8230808, 55.682604], [-1.8242993, 55.6827622], [-1.8260404, 55.6830021], [-1.8293938, 55.6834661], [-1.8301008, 55.683434], [-1.8309962, 55.68343], [-1.8323978, 55.6830008], [-1.8339859, 55.6826695], [-1.834809, 55.6823634], [-1.8350922, 55.6819433], [-1.8353978, 55.6818663], [-1.8357546, 55.6816913]]], &quot;type&quot;: &quot;Polygon&quot;}, &quot;id&quot;: &quot;76&quot;, &quot;properties&quot;: {&quot;FID&quot;: 76}, &quot;type&quot;: &quot;Feature&quot;}, {&quot;bbox&quot;: [-1.6279786, 55.632465, -1.6194869, 55.6352067], &quot;geometry&quot;: {&quot;coordinates&quot;: [[[-1.6198472, 55.6327751], [-1.6202, 55.6326298], [-1.6205991, 55.6325142], [-1.6209842, 55.6326408], [-1.6211582, 55.6326201], [-1.6213396, 55.6325398], [-1.6214768, 55.6325357], [-1.6216801, 55.6324708], [-1.6220037, 55.6324873], [-1.6223209, 55.6325926], [-1.6223835, 55.6327046], [-1.6225578, 55.6327523], [-1.6228593, 55.6327353], [-1.6229557, 55.6327661], [-1.623044, 55.6327432], [-1.6229573, 55.6325001], [-1.6230749, 55.632465], [-1.6232055, 55.6324655], [-1.6233249, 55.6325295], [-1.6233893, 55.6324903], [-1.6238994, 55.6326475], [-1.6246095, 55.632868], [-1.624938, 55.6330601], [-1.6251732, 55.6331191], [-1.6254697, 55.6331935], [-1.6259756, 55.6335725], [-1.62583, 55.6336448], [-1.6255608, 55.6336583], [-1.6255249, 55.6338474], [-1.6256804, 55.633942], [-1.6259453, 55.6339364], [-1.6260693, 55.6338575], [-1.6260215, 55.6337191], [-1.6261172, 55.6336617], [-1.6264163, 55.6337393], [-1.6267097, 55.633731], [-1.6270087, 55.6338812], [-1.6274043, 55.6339459], [-1.6279143, 55.6348712], [-1.6279786, 55.6351594], [-1.6278697, 55.6352067], [-1.6274081, 55.6351017], [-1.626957, 55.6347261], [-1.6269087, 55.6346111], [-1.6267665, 55.6345611], [-1.6264492, 55.6346598], [-1.6263535, 55.6346544], [-1.6258885, 55.6347912], [-1.6257089, 55.634799], [-1.6255584, 55.6348102], [-1.6247698, 55.6345627], [-1.6243289, 55.6342113], [-1.6239194, 55.6341658], [-1.6236731, 55.6340465], [-1.6235678, 55.6339006], [-1.6233039, 55.6338476], [-1.6232192, 55.6336811], [-1.6230697, 55.6336493], [-1.6229251, 55.633724], [-1.6225869, 55.6337005], [-1.6224105, 55.6336396], [-1.6222193, 55.633627], [-1.6217807, 55.6335165], [-1.6213861, 55.633345], [-1.6211946, 55.6332954], [-1.621119, 55.6331001], [-1.6209058, 55.6329881], [-1.6206918, 55.6330438], [-1.6205725, 55.6330047], [-1.6204377, 55.6330337], [-1.6202662, 55.6330102], [-1.6201657, 55.6331001], [-1.6199084, 55.6331541], [-1.6194869, 55.6328611], [-1.6195065, 55.6327764], [-1.6198472, 55.6327751]]], &quot;type&quot;: &quot;Polygon&quot;}, &quot;id&quot;: &quot;77&quot;, &quot;properties&quot;: {&quot;FID&quot;: 77}, &quot;type&quot;: &quot;Feature&quot;}, {&quot;bbox&quot;: [-1.6260418, 55.6289446, -1.6219183, 55.6323224], &quot;geometry&quot;: {&quot;coordinates&quot;: [[[-1.6220467, 55.6314422], [-1.6219634, 55.6314302], [-1.6219183, 55.631363], [-1.6219207, 55.6312782], [-1.621996, 55.6311843], [-1.6219498, 55.6311237], [-1.6221189, 55.6310014], [-1.6223523, 55.6309963], [-1.6224451, 55.6309385], [-1.622597, 55.6308845], [-1.6225791, 55.6306717], [-1.6225476, 55.6306525], [-1.6222979, 55.6307224], [-1.6221603, 55.6306076], [-1.6222815, 55.6305105], [-1.6225621, 55.6304643], [-1.6225939, 55.6304527], [-1.622582, 55.6303372], [-1.6226462, 55.6302858], [-1.6226704, 55.6301566], [-1.6228925, 55.6300363], [-1.6229433, 55.6299579], [-1.6230817, 55.6299312], [-1.623127, 55.6298804], [-1.6230643, 55.6298028], [-1.6230909, 55.6297567], [-1.6231852, 55.629754], [-1.6232255, 55.629684], [-1.623278, 55.6297325], [-1.6233748, 55.6297076], [-1.6234868, 55.6296469], [-1.6235253, 55.6296683], [-1.6236495, 55.6295803], [-1.6236859, 55.6295808], [-1.6237308, 55.6296573], [-1.6239634, 55.6300069], [-1.6239208, 55.6296737], [-1.6239673, 55.6296383], [-1.6239732, 55.6295479], [-1.624036, 55.6295228], [-1.6241077, 55.6296265], [-1.6241584, 55.6296341], [-1.6242842, 55.6297429], [-1.624357, 55.6297513], [-1.6244996, 55.629726], [-1.6245317, 55.6297015], [-1.6245451, 55.6296417], [-1.6245063, 55.6296012], [-1.6245654, 55.62952], [-1.6245631, 55.6294959], [-1.6243421, 55.6294841], [-1.624254, 55.6293972], [-1.6239925, 55.6293224], [-1.6239419, 55.6292733], [-1.6238688, 55.629109], [-1.6237757, 55.6290455], [-1.6238598, 55.6289935], [-1.6239151, 55.6289808], [-1.6240644, 55.6289867], [-1.6241945, 55.6289458], [-1.6243779, 55.6289446], [-1.624675, 55.6289918], [-1.6248288, 55.6290331], [-1.6248945, 55.6290606], [-1.6250549, 55.6293159], [-1.6252366, 55.6293728], [-1.6252934, 55.6294204], [-1.6251385, 55.6294313], [-1.6249897, 55.6295786], [-1.6250523, 55.6298339], [-1.6249327, 55.6298852], [-1.6249135, 55.6299717], [-1.624812, 55.6300852], [-1.6250596, 55.6304669], [-1.6248356, 55.6305963], [-1.6251818, 55.6305726], [-1.6253636, 55.6307871], [-1.625429, 55.631146], [-1.6257467, 55.6315434], [-1.6259303, 55.6315573], [-1.6260418, 55.6318707], [-1.6258084, 55.6318576], [-1.6258706, 55.6321798], [-1.6255534, 55.6323224], [-1.6254408, 55.6323036], [-1.6243315, 55.631875], [-1.624128, 55.631688], [-1.6238982, 55.6316177], [-1.6237355, 55.6314502], [-1.6230075, 55.6314338], [-1.6226059, 55.6316448], [-1.6225054, 55.6316637], [-1.6223295, 55.6315585], [-1.6223427, 55.6314367], [-1.6222011, 55.6314343], [-1.6220467, 55.6314422]]], &quot;type&quot;: &quot;Polygon&quot;}, &quot;id&quot;: &quot;78&quot;, &quot;properties&quot;: {&quot;FID&quot;: 78}, &quot;type&quot;: &quot;Feature&quot;}, {&quot;bbox&quot;: [-1.1512985, 54.6318696, -1.1493244, 54.6352105], &quot;geometry&quot;: {&quot;coordinates&quot;: [[[-1.1496034, 54.6338568], [-1.1496248, 54.6333228], [-1.1500325, 54.6331365], [-1.1503115, 54.632739], [-1.1502686, 54.6321553], [-1.1507192, 54.6320187], [-1.1509767, 54.6318696], [-1.1512127, 54.6319938], [-1.1512771, 54.6321429], [-1.1510196, 54.6323788], [-1.1505211, 54.6333457], [-1.1506334, 54.6336705], [-1.1509338, 54.6340058], [-1.1509338, 54.6341797], [-1.1512985, 54.6345275], [-1.1508694, 54.6352105], [-1.1501184, 54.6350367], [-1.1496892, 54.6349994], [-1.1493244, 54.6347634], [-1.1495605, 54.63413], [-1.1496034, 54.6338568]]], &quot;type&quot;: &quot;Polygon&quot;}, &quot;id&quot;: &quot;79&quot;, &quot;properties&quot;: {&quot;FID&quot;: 79}, &quot;type&quot;: &quot;Feature&quot;}, {&quot;bbox&quot;: [-3.0199054, 51.2316187, -3.0154465, 51.2344907], &quot;geometry&quot;: {&quot;coordinates&quot;: [[[-3.0165596, 51.2322005], [-3.0168661, 51.2322974], [-3.0169991, 51.2321073], [-3.0175171, 51.2320871], [-3.0179598, 51.2321847], [-3.0182808, 51.2324265], [-3.0184294, 51.232674], [-3.0186856, 51.2326558], [-3.0188659, 51.2328288], [-3.0189005, 51.2329809], [-3.0187108, 51.2331789], [-3.0187168, 51.2333022], [-3.0187184, 51.2333975], [-3.0187706, 51.233574], [-3.0189999, 51.2336663], [-3.019318, 51.2336224], [-3.0197986, 51.2337808], [-3.0199054, 51.2339593], [-3.0198745, 51.2342085], [-3.0196342, 51.2344698], [-3.0192983, 51.2344907], [-3.0187881, 51.2342984], [-3.0186045, 51.2342404], [-3.0185717, 51.2343193], [-3.0181163, 51.2343431], [-3.0172816, 51.2341903], [-3.0171898, 51.2341006], [-3.0171613, 51.2338472], [-3.0168388, 51.2337016], [-3.0159438, 51.2333663], [-3.0159548, 51.2328824], [-3.0158504, 51.2327294], [-3.0158461, 51.2324936], [-3.0156911, 51.232324], [-3.0157923, 51.232171], [-3.0155014, 51.2318991], [-3.0154465, 51.2316187], [-3.0158513, 51.2318739], [-3.0162813, 51.2321249], [-3.0165596, 51.2322005]]], &quot;type&quot;: &quot;Polygon&quot;}, &quot;id&quot;: &quot;80&quot;, &quot;properties&quot;: {&quot;FID&quot;: 80}, &quot;type&quot;: &quot;Feature&quot;}, {&quot;bbox&quot;: [-3.0053932, 51.2218855, -3.0035484, 51.2236927], &quot;geometry&quot;: {&quot;coordinates&quot;: [[[-3.004066, 51.2222147], [-3.0041878, 51.2220992], [-3.0043085, 51.2220276], [-3.0044544, 51.2220078], [-3.0046003, 51.2220091], [-3.0049335, 51.2219363], [-3.005037, 51.2218875], [-3.0051663, 51.2218855], [-3.0052811, 51.2219312], [-3.0053513, 51.2219896], [-3.0053733, 51.222126], [-3.0053254, 51.2222119], [-3.0053334, 51.2223117], [-3.0053932, 51.2225161], [-3.0053648, 51.2227069], [-3.0051861, 51.2232895], [-3.0050477, 51.2234803], [-3.0049297, 51.2235962], [-3.0047441, 51.2236631], [-3.0045386, 51.2236927], [-3.0043557, 51.2236665], [-3.0042184, 51.2235583], [-3.003819, 51.223229], [-3.003616, 51.222973], [-3.0035484, 51.2228235], [-3.0035564, 51.2227032], [-3.0036835, 51.2225413], [-3.004066, 51.2222147]]], &quot;type&quot;: &quot;Polygon&quot;}, &quot;id&quot;: &quot;81&quot;, &quot;properties&quot;: {&quot;FID&quot;: 81}, &quot;type&quot;: &quot;Feature&quot;}, {&quot;bbox&quot;: [-2.654016, 51.6069106, -2.6531492, 51.6074926], &quot;geometry&quot;: {&quot;coordinates&quot;: [[[-2.6531492, 51.6070972], [-2.6533375, 51.6069553], [-2.6536478, 51.6069106], [-2.6538505, 51.6069301], [-2.6539831, 51.6070046], [-2.654016, 51.6071353], [-2.6539318, 51.6072478], [-2.6537886, 51.6074002], [-2.6535664, 51.6074926], [-2.6534275, 51.6074694], [-2.6531653, 51.6073129], [-2.6531502, 51.6072145], [-2.6531492, 51.6070972]]], &quot;type&quot;: &quot;Polygon&quot;}, &quot;id&quot;: &quot;82&quot;, &quot;properties&quot;: {&quot;FID&quot;: 82}, &quot;type&quot;: &quot;Feature&quot;}, {&quot;bbox&quot;: [-4.7462578, 50.6769984, -4.7456545, 50.6776976], &quot;geometry&quot;: {&quot;coordinates&quot;: [[[-4.7457501, 50.6769984], [-4.7462386, 50.677294], [-4.7462578, 50.6775811], [-4.745871, 50.6776976], [-4.7457542, 50.6776366], [-4.7456545, 50.6774328], [-4.7456788, 50.6773758], [-4.7456809, 50.6771672], [-4.7457501, 50.6769984]]], &quot;type&quot;: &quot;Polygon&quot;}, &quot;id&quot;: &quot;83&quot;, &quot;properties&quot;: {&quot;FID&quot;: 83}, &quot;type&quot;: &quot;Feature&quot;}, {&quot;bbox&quot;: [-4.7754146, 50.6441408, -4.7746631, 50.6450335], &quot;geometry&quot;: {&quot;coordinates&quot;: [[[-4.7750617, 50.6450335], [-4.7747339, 50.6449715], [-4.7746631, 50.6448354], [-4.7746631, 50.6445828], [-4.7747881, 50.6441708], [-4.7749619, 50.6441408], [-4.7751957, 50.6441794], [-4.7753422, 50.64429], [-4.7754146, 50.6445312], [-4.7752969, 50.6447895], [-4.7750617, 50.6450335]]], &quot;type&quot;: &quot;Polygon&quot;}, &quot;id&quot;: &quot;84&quot;, &quot;properties&quot;: {&quot;FID&quot;: 84}, &quot;type&quot;: &quot;Feature&quot;}, {&quot;bbox&quot;: [-4.7303818, 50.6798664, -4.7278374, 50.6805546], &quot;geometry&quot;: {&quot;coordinates&quot;: [[[-4.7297289, 50.6800284], [-4.7300318, 50.6798664], [-4.7303566, 50.6798678], [-4.7303818, 50.6799458], [-4.7301428, 50.6801071], [-4.7296858, 50.6800819], [-4.729536, 50.680137], [-4.729137, 50.68027], [-4.7287076, 50.6804057], [-4.7286676, 50.6802781], [-4.7284012, 50.6802402], [-4.728335, 50.680411], [-4.7281647, 50.6804907], [-4.7278374, 50.6805546], [-4.7279686, 50.6804315], [-4.728326, 50.680155], [-4.728729, 50.680149], [-4.7288712, 50.6800367], [-4.7289406, 50.6800935], [-4.7293398, 50.6798919], [-4.7295229, 50.6799669], [-4.7297289, 50.6800284]]], &quot;type&quot;: &quot;Polygon&quot;}, &quot;id&quot;: &quot;85&quot;, &quot;properties&quot;: {&quot;FID&quot;: 85}, &quot;type&quot;: &quot;Feature&quot;}, {&quot;bbox&quot;: [-4.9157128, 50.5961447, -4.9135313, 50.5976019], &quot;geometry&quot;: {&quot;coordinates&quot;: [[[-4.9139555, 50.596306], [-4.9140355, 50.5962641], [-4.9141689, 50.5962958], [-4.9142413, 50.5962835], [-4.9143414, 50.5962172], [-4.9143904, 50.5961831], [-4.9146002, 50.5961916], [-4.9146405, 50.5961745], [-4.9147783, 50.5961703], [-4.914822, 50.5961447], [-4.9150237, 50.5962044], [-4.9150674, 50.5962513], [-4.9152165, 50.5962734], [-4.9153632, 50.5962962], [-4.9154304, 50.5964178], [-4.9155447, 50.5965202], [-4.9156926, 50.5966119], [-4.9157128, 50.5966909], [-4.915701, 50.5967158], [-4.9156469, 50.596737], [-4.915589, 50.5967395], [-4.915512, 50.5967175], [-4.915453, 50.5966824], [-4.9153733, 50.5966589], [-4.9152691, 50.5966695], [-4.9152257, 50.5966848], [-4.9152123, 50.5967098], [-4.9152112, 50.5967555], [-4.9152385, 50.5967915], [-4.9153161, 50.5968445], [-4.9153662, 50.5969302], [-4.915349, 50.5969936], [-4.9153598, 50.5970643], [-4.9152758, 50.5971005], [-4.9152825, 50.5973352], [-4.9153531, 50.5974569], [-4.9152927, 50.5975376], [-4.9151783, 50.5975614], [-4.9150271, 50.5975827], [-4.9148477, 50.5975744], [-4.9146674, 50.5976019], [-4.9145498, 50.5975593], [-4.9144624, 50.5975123], [-4.9143313, 50.5974761], [-4.914128, 50.5974571], [-4.9140254, 50.5973992], [-4.9139044, 50.5973502], [-4.9138977, 50.5972862], [-4.9139813, 50.5972022], [-4.9139784, 50.5971752], [-4.9140389, 50.5970899], [-4.9140456, 50.5970024], [-4.9139649, 50.5969448], [-4.9138674, 50.5969725], [-4.9136456, 50.5968125], [-4.9135918, 50.5968125], [-4.9135313, 50.5967634], [-4.9135761, 50.5967239], [-4.9136826, 50.5967186], [-4.9137645, 50.5967088], [-4.9137649, 50.5966723], [-4.9137128, 50.5966077], [-4.913676, 50.5965539], [-4.9136821, 50.5965251], [-4.9137074, 50.5965215], [-4.9137539, 50.5965254], [-4.9138137, 50.5964982], [-4.9138069, 50.5964775], [-4.913733, 50.5964519], [-4.9137276, 50.5964274], [-4.9137631, 50.5964002], [-4.9138121, 50.5963995], [-4.9138607, 50.5964306], [-4.9139111, 50.5964199], [-4.9139555, 50.596306]]], &quot;type&quot;: &quot;Polygon&quot;}, &quot;id&quot;: &quot;86&quot;, &quot;properties&quot;: {&quot;FID&quot;: 86}, &quot;type&quot;: &quot;Feature&quot;}, {&quot;bbox&quot;: [-4.122286, 50.3181675, -4.1206605, 50.3185762], &quot;geometry&quot;: {&quot;coordinates&quot;: [[[-4.1215422, 50.3182076], [-4.1216217, 50.318197], [-4.1217739, 50.3182043], [-4.1218435, 50.3182235], [-4.1219591, 50.3182176], [-4.1220426, 50.3182176], [-4.1221195, 50.3182354], [-4.1222364, 50.3182058], [-4.1222846, 50.3182233], [-4.122286, 50.3183406], [-4.1222225, 50.3183593], [-4.1220322, 50.3183575], [-4.1219498, 50.3184006], [-4.1219129, 50.3184626], [-4.1218112, 50.3184773], [-4.1216679, 50.3185216], [-4.1215385, 50.3185275], [-4.1214923, 50.3185599], [-4.1213794, 50.3185762], [-4.1212381, 50.3185747], [-4.1207717, 50.3184615], [-4.1206836, 50.3184036], [-4.1206605, 50.3183239], [-4.1206779, 50.3182768], [-4.1207714, 50.3182235], [-4.1207945, 50.3182383], [-4.1208084, 50.3182058], [-4.1208731, 50.3181675], [-4.1209285, 50.3181793], [-4.1209516, 50.3182383], [-4.1210167, 50.3183113], [-4.1211041, 50.3183917], [-4.1211503, 50.3183917], [-4.121215, 50.3183032], [-4.121289, 50.3182796], [-4.1214692, 50.3182826], [-4.1215422, 50.3182076]]], &quot;type&quot;: &quot;Polygon&quot;}, &quot;id&quot;: &quot;87&quot;, &quot;properties&quot;: {&quot;FID&quot;: 87}, &quot;type&quot;: &quot;Feature&quot;}, {&quot;bbox&quot;: [-4.1084861, 50.3065204, -4.1049699, 50.3081911], &quot;geometry&quot;: {&quot;coordinates&quot;: [[[-4.1070458, 50.3065406], [-4.1072912, 50.3065277], [-4.1073655, 50.3065861], [-4.1074627, 50.3065496], [-4.1075599, 50.3065569], [-4.1076971, 50.3066628], [-4.1079201, 50.3066372], [-4.1080802, 50.3065788], [-4.1082298, 50.3065947], [-4.1082231, 50.3067358], [-4.1082917, 50.3067687], [-4.1084843, 50.3067071], [-4.1084232, 50.3068454], [-4.1083603, 50.3070097], [-4.1083374, 50.3071886], [-4.1080127, 50.3072118], [-4.1080337, 50.3072439], [-4.1083317, 50.3072543], [-4.1084861, 50.3073274], [-4.1084461, 50.3074259], [-4.1083374, 50.3075537], [-4.1082059, 50.3075464], [-4.1081602, 50.3076158], [-4.1081602, 50.3076962], [-4.108079, 50.3077313], [-4.1079429, 50.3077217], [-4.1078801, 50.3077838], [-4.1075999, 50.3079481], [-4.1074856, 50.3079919], [-4.1073083, 50.3080832], [-4.1071711, 50.3081124], [-4.1068681, 50.3081161], [-4.106616, 50.308092], [-4.1063781, 50.3080523], [-4.1063021, 50.3080869], [-4.1062985, 50.3081397], [-4.1060872, 50.3081911], [-4.1059304, 50.3081343], [-4.1056789, 50.3081708], [-4.1055698, 50.308138], [-4.1055806, 50.3080522], [-4.1055412, 50.3080269], [-4.1052893, 50.3080401], [-4.1052038, 50.3080076], [-4.1050557, 50.3079846], [-4.1049699, 50.3079554], [-4.1049757, 50.3077509], [-4.10513, 50.3076742], [-4.10517, 50.3075684], [-4.1052444, 50.3075209], [-4.1053462, 50.3075321], [-4.1053759, 50.307488], [-4.1054731, 50.3074698], [-4.1056217, 50.3073894], [-4.1055188, 50.3073347], [-4.1055075, 50.3072911], [-4.1054714, 50.3072583], [-4.1054056, 50.307199], [-4.1053987, 50.3071411], [-4.1055847, 50.3071469], [-4.1056331, 50.3071484], [-4.1056789, 50.3071156], [-4.1055703, 50.3070681], [-4.1056274, 50.3070243], [-4.1055588, 50.3069805], [-4.1056331, 50.306933], [-4.1058104, 50.3068746], [-4.1058504, 50.3067979], [-4.1059762, 50.3068161], [-4.1060219, 50.3067504], [-4.1062506, 50.3067431], [-4.1062392, 50.3066847], [-4.1064507, 50.3067066], [-4.1066451, 50.3066555], [-4.1068052, 50.3065313], [-4.1069996, 50.3065204], [-4.1070458, 50.3065406]]], &quot;type&quot;: &quot;Polygon&quot;}, &quot;id&quot;: &quot;88&quot;, &quot;properties&quot;: {&quot;FID&quot;: 88}, &quot;type&quot;: &quot;Feature&quot;}, {&quot;bbox&quot;: [-4.1091295, 50.3061109, -4.108629, 50.3062319], &quot;geometry&quot;: {&quot;coordinates&quot;: [[[-4.1086773, 50.3061143], [-4.1089056, 50.3061109], [-4.1089916, 50.3061442], [-4.1090749, 50.3061177], [-4.1091295, 50.3061416], [-4.1091183, 50.3061821], [-4.1089351, 50.3061954], [-4.1089035, 50.3062319], [-4.1088312, 50.306182], [-4.1086976, 50.3062209], [-4.108629, 50.3061662], [-4.1086773, 50.3061143]]], &quot;type&quot;: &quot;Polygon&quot;}, &quot;id&quot;: &quot;89&quot;, &quot;properties&quot;: {&quot;FID&quot;: 89}, &quot;type&quot;: &quot;Feature&quot;}, {&quot;bbox&quot;: [-2.0743166, 50.689404, -2.0713265, 50.6924803], &quot;geometry&quot;: {&quot;coordinates&quot;: [[[-2.071801, 50.6900279], [-2.0713265, 50.6896773], [-2.0722346, 50.689404], [-2.0722877, 50.6896788], [-2.0721753, 50.6899255], [-2.0729262, 50.6904529], [-2.0726324, 50.6906597], [-2.0725997, 50.6910527], [-2.0727303, 50.6913319], [-2.0733016, 50.6909803], [-2.0736158, 50.6912988], [-2.0740625, 50.6916582], [-2.0743166, 50.6916868], [-2.0743066, 50.6919092], [-2.0738219, 50.692113], [-2.0736487, 50.6924803], [-2.0729672, 50.6923532], [-2.0733147, 50.6918349], [-2.0728434, 50.6916383], [-2.0723884, 50.6915782], [-2.0721125, 50.6910995], [-2.072125, 50.690814], [-2.0724038, 50.6905253], [-2.0723549, 50.6903391], [-2.0721072, 50.6902947], [-2.071801, 50.6900279]]], &quot;type&quot;: &quot;Polygon&quot;}, &quot;id&quot;: &quot;90&quot;, &quot;properties&quot;: {&quot;FID&quot;: 90}, &quot;type&quot;: &quot;Feature&quot;}, {&quot;bbox&quot;: [-2.0220848, 50.6845456, -2.0139998, 50.6941862], &quot;geometry&quot;: {&quot;coordinates&quot;: [[[-2.0173952, 50.6845456], [-2.0182176, 50.6847418], [-2.0185453, 50.685148], [-2.0185546, 50.6853097], [-2.0186969, 50.6854411], [-2.0188879, 50.6854772], [-2.018924, 50.6856006], [-2.0188514, 50.6859253], [-2.0192135, 50.6862634], [-2.0193717, 50.686448], [-2.0195988, 50.6866311], [-2.0195506, 50.6868056], [-2.0196022, 50.6870106], [-2.0196424, 50.6870979], [-2.0197465, 50.6873369], [-2.0199407, 50.6874854], [-2.0199005, 50.6876169], [-2.0200545, 50.6878121], [-2.0200505, 50.6878323], [-2.0200478, 50.687846], [-2.0201993, 50.6879033], [-2.0202634, 50.6880012], [-2.0202547, 50.688088], [-2.0201118, 50.688088], [-2.0200885, 50.6881988], [-2.0201917, 50.6883149], [-2.0201789, 50.6883945], [-2.0200048, 50.6884968], [-2.0194572, 50.6890297], [-2.0192947, 50.6900157], [-2.0192761, 50.6901101], [-2.0192317, 50.6903349], [-2.0190867, 50.6905461], [-2.019058, 50.6908374], [-2.0195965, 50.6914232], [-2.019799, 50.6916861], [-2.019942, 50.6919912], [-2.0201195, 50.6922811], [-2.0204464, 50.6924704], [-2.0211357, 50.6928573], [-2.0212227, 50.6930877], [-2.0215233, 50.6933382], [-2.0220848, 50.6936538], [-2.0217368, 50.6935586], [-2.0213967, 50.6934234], [-2.0211278, 50.6933633], [-2.0209855, 50.6934584], [-2.0199514, 50.6940975], [-2.019475, 50.6941862], [-2.0189987, 50.6940442], [-2.0187839, 50.6939259], [-2.0185504, 50.6938786], [-2.0185224, 50.6936597], [-2.0186344, 50.6934703], [-2.018485, 50.6931508], [-2.0184383, 50.6928846], [-2.018018, 50.6926538], [-2.0178312, 50.6924172], [-2.017523, 50.6921095], [-2.0167478, 50.6916421], [-2.0159539, 50.6913758], [-2.0155709, 50.6914468], [-2.015272, 50.6909971], [-2.0151973, 50.6905534], [-2.0153453, 50.6902768], [-2.0155709, 50.689938], [-2.0158324, 50.6899143], [-2.0160777, 50.6896743], [-2.0162247, 50.6895382], [-2.0164582, 50.6893581], [-2.016561, 50.6891865], [-2.0168593, 50.6891964], [-2.0175043, 50.6893345], [-2.0177752, 50.6892457], [-2.0173829, 50.6892457], [-2.0170747, 50.68908], [-2.0169532, 50.6890386], [-2.016673, 50.6890268], [-2.0163648, 50.6889084], [-2.016322, 50.688778], [-2.0161559, 50.688738], [-2.0160137, 50.6888333], [-2.0158145, 50.6887998], [-2.015725, 50.6888281], [-2.0156681, 50.6887921], [-2.015725, 50.6887097], [-2.0155868, 50.6886427], [-2.015473, 50.6886504], [-2.0154933, 50.6884959], [-2.0153591, 50.6884109], [-2.0152656, 50.6883001], [-2.0151152, 50.6883079], [-2.0150339, 50.6882332], [-2.0149241, 50.6882409], [-2.0147656, 50.6881121], [-2.0144688, 50.6880477], [-2.0142452, 50.6880864], [-2.01405, 50.6878082], [-2.0140907, 50.6874321], [-2.0139998, 50.6873362], [-2.014196, 50.686742], [-2.0144221, 50.6862279], [-2.0144501, 50.685719], [-2.0144595, 50.6853698], [-2.0147795, 50.6851415], [-2.0152397, 50.6849494], [-2.0159806, 50.6848862], [-2.0165462, 50.6849131], [-2.0166585, 50.6847174], [-2.016949, 50.6846004], [-2.0173952, 50.6845456]]], &quot;type&quot;: &quot;Polygon&quot;}, &quot;id&quot;: &quot;91&quot;, &quot;properties&quot;: {&quot;FID&quot;: 91}, &quot;type&quot;: &quot;Feature&quot;}, {&quot;bbox&quot;: [-2.0066842, 50.6836625, -2.0050167, 50.6847649], &quot;geometry&quot;: {&quot;coordinates&quot;: [[[-2.0050891, 50.6836625], [-2.0056758, 50.6837287], [-2.0057164, 50.684046], [-2.0060781, 50.6842217], [-2.0064876, 50.6843806], [-2.0066842, 50.6847434], [-2.0058988, 50.6847649], [-2.0052925, 50.6847142], [-2.0050167, 50.6846348], [-2.0051867, 50.684344], [-2.0050891, 50.6836625]]], &quot;type&quot;: &quot;Polygon&quot;}, &quot;id&quot;: &quot;92&quot;, &quot;properties&quot;: {&quot;FID&quot;: 92}, &quot;type&quot;: &quot;Feature&quot;}, {&quot;bbox&quot;: [-2.0094982, 50.68375, -2.0080672, 50.6845649], &quot;geometry&quot;: {&quot;coordinates&quot;: [[[-2.0091754, 50.68375], [-2.0093621, 50.6838483], [-2.0094982, 50.6840619], [-2.0092322, 50.6841469], [-2.0090902, 50.6843149], [-2.0086842, 50.6844389], [-2.0082772, 50.6845649], [-2.0080672, 50.6843277], [-2.0082882, 50.6840519], [-2.0089602, 50.6839699], [-2.0091754, 50.68375]]], &quot;type&quot;: &quot;Polygon&quot;}, &quot;id&quot;: &quot;93&quot;, &quot;properties&quot;: {&quot;FID&quot;: 93}, &quot;type&quot;: &quot;Feature&quot;}, {&quot;bbox&quot;: [-2.01171, 50.6831243, -2.009693, 50.6839553], &quot;geometry&quot;: {&quot;coordinates&quot;: [[[-2.0099713, 50.6831997], [-2.0102991, 50.6831243], [-2.0103998, 50.6831625], [-2.0103918, 50.6832724], [-2.0106023, 50.6833168], [-2.0107785, 50.6832228], [-2.0112002, 50.6833798], [-2.01171, 50.6836676], [-2.0110521, 50.6839553], [-2.0102296, 50.6837581], [-2.009693, 50.6836558], [-2.0099177, 50.6833956], [-2.0099713, 50.6831997]]], &quot;type&quot;: &quot;Polygon&quot;}, &quot;id&quot;: &quot;94&quot;, &quot;properties&quot;: {&quot;FID&quot;: 94}, &quot;type&quot;: &quot;Feature&quot;}, {&quot;bbox&quot;: [-2.0062294, 50.6792614, -2.0049749, 50.6805141], &quot;geometry&quot;: {&quot;coordinates&quot;: [[[-2.0052278, 50.6792614], [-2.0057709, 50.6794401], [-2.0062294, 50.6799745], [-2.0058457, 50.6801981], [-2.005257, 50.6805141], [-2.0049749, 50.6799534], [-2.0052278, 50.6792614]]], &quot;type&quot;: &quot;Polygon&quot;}, &quot;id&quot;: &quot;95&quot;, &quot;properties&quot;: {&quot;FID&quot;: 95}, &quot;type&quot;: &quot;Feature&quot;}, {&quot;bbox&quot;: [-2.4315286, 50.5855887, -2.4175242, 50.594357], &quot;geometry&quot;: {&quot;coordinates&quot;: [[[-2.4175242, 50.585802], [-2.4178554, 50.5855887], [-2.4315286, 50.5941474], [-2.4312031, 50.594357], [-2.424591, 50.5902184], [-2.4244436, 50.5903134], [-2.4243859, 50.5902773], [-2.4243211, 50.590319], [-2.4243727, 50.5903513], [-2.4243275, 50.5903804], [-2.4243644, 50.5904034], [-2.4242702, 50.590464], [-2.4240534, 50.5903283], [-2.4241462, 50.5902685], [-2.4243993, 50.5901056], [-2.4175242, 50.585802]]], &quot;type&quot;: &quot;Polygon&quot;}, &quot;id&quot;: &quot;96&quot;, &quot;properties&quot;: {&quot;FID&quot;: 96}, &quot;type&quot;: &quot;Feature&quot;}, {&quot;bbox&quot;: [-2.4205873, 50.5695337, -2.4137883, 50.5852495], &quot;geometry&quot;: {&quot;coordinates&quot;: [[[-2.4139979, 50.5847358], [-2.4156211, 50.5729285], [-2.4158733, 50.5719452], [-2.4161408, 50.5715142], [-2.4165033, 50.5710924], [-2.4171615, 50.5705843], [-2.4183961, 50.5699941], [-2.4201259, 50.5696685], [-2.4201793, 50.5695866], [-2.420292, 50.5695394], [-2.4204263, 50.5695337], [-2.420525, 50.5695715], [-2.4205873, 50.5696309], [-2.4205806, 50.569707], [-2.4205384, 50.5697543], [-2.4204514, 50.5697991], [-2.420341, 50.5698184], [-2.4202385, 50.5698049], [-2.418676, 50.5702408], [-2.4180288, 50.5705099], [-2.4173774, 50.5708746], [-2.4169848, 50.5711858], [-2.4165994, 50.5716057], [-2.4163448, 50.5720145], [-2.4161314, 50.5730063], [-2.4145266, 50.5845036], [-2.4146748, 50.5847016], [-2.4151645, 50.5844755], [-2.4152298, 50.5845471], [-2.4146058, 50.5848342], [-2.4146385, 50.5848603], [-2.4146772, 50.5849786], [-2.4145661, 50.5851622], [-2.4143393, 50.5852495], [-2.4140465, 50.5852318], [-2.4138681, 50.585137], [-2.4137883, 50.5849694], [-2.4138615, 50.5848202], [-2.4139979, 50.5847358]]], &quot;type&quot;: &quot;Polygon&quot;}, &quot;id&quot;: &quot;97&quot;, &quot;properties&quot;: {&quot;FID&quot;: 97}, &quot;type&quot;: &quot;Feature&quot;}, {&quot;bbox&quot;: [-1.0255625, 50.7767088, -0.935896, 50.834813], &quot;geometry&quot;: {&quot;coordinates&quot;: [[[-0.9560965, 50.8302128], [-0.9557508, 50.8300482], [-0.9553002, 50.8299533], [-0.9549354, 50.8296551], [-0.9547316, 50.8295128], [-0.9542095, 50.8292875], [-0.954073, 50.829089], [-0.9535827, 50.8288369], [-0.9528951, 50.8284834], [-0.9523161, 50.8280215], [-0.9520587, 50.8276962], [-0.9522958, 50.8270675], [-0.9522, 50.8263663], [-0.9520337, 50.8257052], [-0.951579, 50.82492], [-0.9509944, 50.8237817], [-0.951253, 50.82312], [-0.9513463, 50.8224371], [-0.9515279, 50.8220299], [-0.9516802, 50.821873], [-0.9518237, 50.8216867], [-0.9525313, 50.8212341], [-0.9534236, 50.8208849], [-0.9535863, 50.8208218], [-0.954218, 50.820096], [-0.9544042, 50.8198769], [-0.9544828, 50.8197135], [-0.9544995, 50.8195736], [-0.9544804, 50.8190301], [-0.9545134, 50.818701], [-0.955161, 50.818073], [-0.9553522, 50.8177636], [-0.9554215, 50.8176126], [-0.9553857, 50.8174588], [-0.955264, 50.8172976], [-0.9552357, 50.8171919], [-0.9552051, 50.8171278], [-0.9551191, 50.8171094], [-0.9550339, 50.8171301], [-0.9548885, 50.8171216], [-0.9547061, 50.8170427], [-0.9545955, 50.8169886], [-0.9545565, 50.8168979], [-0.9546106, 50.8167756], [-0.9546446, 50.8166526], [-0.9547197, 50.8165353], [-0.9548739, 50.8164769], [-0.9550713, 50.8165393], [-0.9553645, 50.8165143], [-0.9557065, 50.8164452], [-0.9559006, 50.8164387], [-0.9561104, 50.8164174], [-0.9563063, 50.8163876], [-0.9564993, 50.8163013], [-0.9567008, 50.8162842], [-0.9571141, 50.8163096], [-0.9573676, 50.8160338], [-0.957654, 50.815543], [-0.957272, 50.815023], [-0.9570836, 50.8137835], [-0.9563502, 50.8130016], [-0.956586, 50.812192], [-0.957068, 50.810406], [-0.9572171, 50.8101868], [-0.9574059, 50.8099102], [-0.9575604, 50.8096011], [-0.9586848, 50.8094329], [-0.9589976, 50.8096509], [-0.959516, 50.809936], [-0.959898, 50.810455], [-0.9600581, 50.8108105], [-0.9604567, 50.8111478], [-0.9610194, 50.811342], [-0.9615859, 50.8111847], [-0.9629506, 50.8111197], [-0.9651307, 50.8109895], [-0.9661778, 50.8110383], [-0.9667958, 50.8108322], [-0.9675549, 50.8106488], [-0.968954, 50.8105132], [-0.9696621, 50.8106], [-0.969911, 50.8104156], [-0.9709023, 50.8105675], [-0.9708852, 50.810421], [-0.9692716, 50.8101499], [-0.9689797, 50.8099329], [-0.9678639, 50.8099166], [-0.9668511, 50.809575], [-0.9665125, 50.8094275], [-0.965392, 50.8096726], [-0.9639157, 50.809537], [-0.9635209, 50.8087614], [-0.9631566, 50.8079577], [-0.9631175, 50.8073838], [-0.9633282, 50.80722], [-0.9647015, 50.8068132], [-0.9660576, 50.8063034], [-0.9673451, 50.806363], [-0.9688901, 50.8064281], [-0.969405, 50.8065041], [-0.969564, 50.806779], [-0.9705618, 50.8069974], [-0.971014, 50.8072156], [-0.97134, 50.807835], [-0.9717568, 50.8085163], [-0.9723233, 50.8088743], [-0.9732455, 50.8090489], [-0.9734151, 50.8089197], [-0.9734122, 50.8085019], [-0.9732845, 50.8084393], [-0.9728835, 50.8082808], [-0.9725592, 50.8079232], [-0.9724538, 50.8076958], [-0.9723554, 50.8075627], [-0.9719694, 50.807373], [-0.9718758, 50.8069986], [-0.9720172, 50.8069649], [-0.9721081, 50.80731], [-0.9726384, 50.8075552], [-0.9731582, 50.8071222], [-0.9726118, 50.8066708], [-0.9721781, 50.8068735], [-0.9719635, 50.8068269], [-0.9721888, 50.8065852], [-0.9718852, 50.8063718], [-0.9719458, 50.8062738], [-0.9715933, 50.8059844], [-0.9712361, 50.8061459], [-0.970821, 50.805776], [-0.9707951, 50.8054474], [-0.9701942, 50.8050596], [-0.9698767, 50.8048968], [-0.9693403, 50.8045278], [-0.9695305, 50.8043642], [-0.9693406, 50.8040904], [-0.9691566, 50.8036529], [-0.9691566, 50.8032709], [-0.9692585, 50.802993], [-0.9691179, 50.8027742], [-0.9689376, 50.8026657], [-0.9684398, 50.802682], [-0.9677103, 50.8028664], [-0.9674442, 50.8029424], [-0.9670494, 50.8029315], [-0.9666545, 50.8028502], [-0.9661883, 50.8027283], [-0.9661567, 50.80272], [-0.9657018, 50.8026278], [-0.9654559, 50.8026743], [-0.9653377, 50.8028239], [-0.9652121, 50.8030919], [-0.9650904, 50.8032454], [-0.9647449, 50.8033827], [-0.9644401, 50.8033926], [-0.9640281, 50.8033601], [-0.9636762, 50.8033058], [-0.96329, 50.8032895], [-0.9622334, 50.8033536], [-0.9612548, 50.8035016], [-0.9608007, 50.8036389], [-0.9600457, 50.8044822], [-0.959848, 50.8045608], [-0.959322, 50.8045351], [-0.9588958, 50.8046886], [-0.9586886, 50.8047097], [-0.9578564, 50.8045205], [-0.9572559, 50.804271], [-0.9570912, 50.8039887], [-0.9567471, 50.8037492], [-0.9564303, 50.8034099], [-0.9563083, 50.8030993], [-0.9561699, 50.8029805], [-0.9558925, 50.8029206], [-0.9554486, 50.8028464], [-0.9546633, 50.8022516], [-0.9540839, 50.8017044], [-0.953471, 50.8015716], [-0.9531293, 50.8014191], [-0.9527922, 50.8012067], [-0.9527493, 50.8011132], [-0.9527171, 50.8010429], [-0.9529084, 50.8006187], [-0.953599, 50.8002034], [-0.9546204, 50.7996976], [-0.9549449, 50.7996171], [-0.9552694, 50.7996171], [-0.9561444, 50.7997834], [-0.9565403, 50.7997062], [-0.9568525, 50.7995711], [-0.9570419, 50.7993396], [-0.9571081, 50.7989595], [-0.9567546, 50.7981186], [-0.9564585, 50.7971675], [-0.956459, 50.796553], [-0.9565524, 50.7958272], [-0.9565376, 50.7952964], [-0.9563931, 50.7950797], [-0.9557919, 50.7947904], [-0.955305, 50.7945336], [-0.9553102, 50.7939259], [-0.9554076, 50.7937389], [-0.9557812, 50.7936506], [-0.9559122, 50.7936437], [-0.956591, 50.7936077], [-0.9572774, 50.7936291], [-0.9578277, 50.7934761], [-0.9586348, 50.7930373], [-0.9588998, 50.7923432], [-0.9590859, 50.7918119], [-0.9591055, 50.7917559], [-0.9592877, 50.7915975], [-0.9594057, 50.7913328], [-0.9597157, 50.7910232], [-0.9597772, 50.7908438], [-0.9601245, 50.7906558], [-0.9604217, 50.7906], [-0.9607707, 50.7906156], [-0.9610161, 50.7905931], [-0.961397, 50.790354], [-0.9620236, 50.7900176], [-0.9628958, 50.7894485], [-0.9633003, 50.7893346], [-0.9640306, 50.7892841], [-0.9646524, 50.7892244], [-0.9653419, 50.7893039], [-0.9658612, 50.7892781], [-0.966217, 50.7893155], [-0.9665726, 50.789551], [-0.966998, 50.7898256], [-0.9673507, 50.7899404], [-0.9678428, 50.7901922], [-0.9679153, 50.790159], [-0.9677803, 50.7898667], [-0.9678061, 50.7896561], [-0.9676621, 50.7895676], [-0.9674609, 50.7894438], [-0.9671318, 50.7892084], [-0.9670816, 50.7889758], [-0.9671586, 50.7887967], [-0.9672359, 50.788549], [-0.9671581, 50.7883979], [-0.9669541, 50.7882443], [-0.9669499, 50.7879971], [-0.9669784, 50.7876818], [-0.9672916, 50.7873502], [-0.9672723, 50.7872304], [-0.9670899, 50.7872613], [-0.9668617, 50.7874236], [-0.9665634, 50.7878804], [-0.9664974, 50.7881334], [-0.9659774, 50.7883467], [-0.9651606, 50.7884841], [-0.9640711, 50.7883816], [-0.9630917, 50.7882986], [-0.9624299, 50.7883335], [-0.9619759, 50.7884505], [-0.961358, 50.7887978], [-0.9609534, 50.7890192], [-0.9606178, 50.7892351], [-0.9602293, 50.789351], [-0.9597722, 50.7891535], [-0.95895, 50.7892877], [-0.9583349, 50.789555], [-0.957912, 50.7897014], [-0.9575823, 50.7898316], [-0.9571751, 50.7896702], [-0.9561661, 50.7892704], [-0.9558423, 50.7890856], [-0.9554205, 50.7888254], [-0.9548752, 50.7884904], [-0.9544486, 50.7882281], [-0.9532345, 50.7879069], [-0.952203, 50.787507], [-0.9518308, 50.7871537], [-0.9513827, 50.7869313], [-0.9518981, 50.7866398], [-0.9521586, 50.7862643], [-0.9526367, 50.7859614], [-0.9526045, 50.7858486], [-0.9516939, 50.7858587], [-0.9515553, 50.7855642], [-0.9511574, 50.7842278], [-0.9515904, 50.784256], [-0.9520196, 50.7841854], [-0.9526547, 50.7840769], [-0.9535645, 50.7839684], [-0.9542941, 50.7838056], [-0.9549769, 50.7837503], [-0.9556206, 50.7834247], [-0.9559382, 50.7828495], [-0.9568909, 50.7824804], [-0.9580411, 50.7822959], [-0.9590882, 50.7820192], [-0.9598092, 50.7821277], [-0.9606246, 50.7821494], [-0.9613885, 50.7821928], [-0.960204, 50.7819486], [-0.9598263, 50.7817478], [-0.9594658, 50.781623], [-0.959345, 50.781352], [-0.958968, 50.7813462], [-0.9583157, 50.7812811], [-0.9578093, 50.7815199], [-0.9572772, 50.7816284], [-0.9562901, 50.7816718], [-0.9555434, 50.7818726], [-0.9549941, 50.7820951], [-0.9545735, 50.7823665], [-0.9541873, 50.7826595], [-0.9538649, 50.7830187], [-0.9531659, 50.7830177], [-0.9520308, 50.7832279], [-0.9516931, 50.7832583], [-0.9513494, 50.7832444], [-0.9509112, 50.7831759], [-0.950376, 50.7830005], [-0.9500642, 50.7829713], [-0.9491547, 50.7831512], [-0.9487644, 50.7834255], [-0.9486041, 50.7834356], [-0.9483678, 50.783595], [-0.9483146, 50.7838029], [-0.9484706, 50.7840703], [-0.9482869, 50.7842101], [-0.9480831, 50.7842304], [-0.9479589, 50.7841916], [-0.9473612, 50.7841589], [-0.9471905, 50.7841703], [-0.9463132, 50.7843716], [-0.9453279, 50.7843834], [-0.9438374, 50.7845117], [-0.9431433, 50.7846103], [-0.9427376, 50.7847303], [-0.9424939, 50.784813], [-0.9423531, 50.7848732], [-0.9420835, 50.7849913], [-0.9421489, 50.7850942], [-0.9431374, 50.7866885], [-0.9430914, 50.786708], [-0.9423893, 50.7863314], [-0.9423074, 50.7861852], [-0.9419636, 50.7862757], [-0.9415122, 50.786042], [-0.9413222, 50.7858885], [-0.9412192, 50.7857733], [-0.941364, 50.7857212], [-0.9412875, 50.7855989], [-0.9414517, 50.7855435], [-0.9411826, 50.7852098], [-0.9412293, 50.7851563], [-0.9410558, 50.785059], [-0.9406695, 50.7849234], [-0.9402023, 50.7848412], [-0.9399277, 50.784721], [-0.9396976, 50.7845981], [-0.9393077, 50.7843704], [-0.9391424, 50.7841975], [-0.9389963, 50.7840506], [-0.9386958, 50.783789], [-0.9385137, 50.7835535], [-0.9380478, 50.783084], [-0.9378548, 50.782877], [-0.9378623, 50.7828169], [-0.9379108, 50.7827402], [-0.9380799, 50.7826266], [-0.9381817, 50.7825391], [-0.9382075, 50.7824794], [-0.9382113, 50.7824308], [-0.9381438, 50.7824377], [-0.9380511, 50.7824554], [-0.9378843, 50.7825657], [-0.9377591, 50.7825547], [-0.9375706, 50.7824965], [-0.937375, 50.7824853], [-0.9371427, 50.7825549], [-0.9369676, 50.7826347], [-0.9368826, 50.7827549], [-0.9368474, 50.7828838], [-0.936828, 50.783135], [-0.9368808, 50.7833888], [-0.9369054, 50.7835782], [-0.936772, 50.784416], [-0.93676, 50.784672], [-0.9368752, 50.7848682], [-0.9373082, 50.7852002], [-0.938197, 50.7855139], [-0.9386558, 50.7860576], [-0.9389523, 50.7861976], [-0.9395141, 50.7861661], [-0.9405193, 50.7864703], [-0.9411442, 50.7867364], [-0.9414876, 50.787374], [-0.9409726, 50.7871196], [-0.9404395, 50.7870409], [-0.9400713, 50.7872078], [-0.939074, 50.7875511], [-0.9384635, 50.7875124], [-0.9377871, 50.7874152], [-0.9365046, 50.7868425], [-0.9360598, 50.7864201], [-0.935896, 50.785938], [-0.936144, 50.7849945], [-0.936243, 50.7838329], [-0.9362151, 50.7832482], [-0.9361668, 50.7825007], [-0.9361193, 50.7817946], [-0.9360993, 50.7814981], [-0.9360616, 50.7805724], [-0.9360647, 50.78015], [-0.935897, 50.7793176], [-0.9362695, 50.7786374], [-0.936218, 50.778619], [-0.9363785, 50.7785205], [-0.9367043, 50.7783981], [-0.9368103, 50.7783219], [-0.9367327, 50.7782608], [-0.9367893, 50.778216], [-0.9368838, 50.7782429], [-0.9371812, 50.7781025], [-0.9372851, 50.7779801], [-0.9371754, 50.777901], [-0.9376809, 50.7775501], [-0.9376276, 50.7774827], [-0.9377013, 50.7774939], [-0.938131, 50.7773685], [-0.938563, 50.7772326], [-0.9388345, 50.7770983], [-0.9389431, 50.7769983], [-0.938988, 50.7769206], [-0.9390635, 50.7768983], [-0.9394389, 50.7769177], [-0.9401329, 50.7769565], [-0.9404186, 50.7769565], [-0.9406618, 50.7769266], [-0.9406287, 50.7768206], [-0.9411622, 50.776843], [-0.9413299, 50.7768385], [-0.9415895, 50.7768147], [-0.9417335, 50.7767579], [-0.9419929, 50.7767321], [-0.9425243, 50.7767772], [-0.9428978, 50.7767653], [-0.9439372, 50.7767624], [-0.9439489, 50.7767138], [-0.9443126, 50.7767416], [-0.9446584, 50.7767797], [-0.9449653, 50.7767819], [-0.9449795, 50.7767088], [-0.9451225, 50.7767333], [-0.9457635, 50.7768009], [-0.9461508, 50.7768009], [-0.9467584, 50.7768684], [-0.947119, 50.7768642], [-0.9474929, 50.7769487], [-0.9483943, 50.7770585], [-0.949022, 50.777126], [-0.9493759, 50.7771893], [-0.9496163, 50.7772189], [-0.9498433, 50.7772485], [-0.9507848, 50.7774047], [-0.9518465, 50.777582], [-0.9524741, 50.7776538], [-0.9530818, 50.7777636], [-0.9536093, 50.7778902], [-0.9541167, 50.777962], [-0.9545575, 50.7780507], [-0.9550315, 50.7781309], [-0.9556325, 50.778228], [-0.9566675, 50.7784307], [-0.957215, 50.7785362], [-0.9574487, 50.7785953], [-0.9577959, 50.7786418], [-0.9587374, 50.7788445], [-0.9594786, 50.7789964], [-0.9602131, 50.7791358], [-0.960587, 50.7792371], [-0.9613616, 50.7794187], [-0.9626503, 50.7797142], [-0.964779, 50.7801727], [-0.9654518, 50.7803247], [-0.9659893, 50.7804514], [-0.9668006, 50.7805981], [-0.9667705, 50.7806698], [-0.968075, 50.7809714], [-0.9688588, 50.7811326], [-0.9696237, 50.7813117], [-0.9707474, 50.7814908], [-0.9719184, 50.7816759], [-0.9729666, 50.7818491], [-0.9739298, 50.7820222], [-0.9754501, 50.7822909], [-0.9756837, 50.7823187], [-0.9761961, 50.7823745], [-0.9785191, 50.7826133], [-0.9804266, 50.7828402], [-0.9825702, 50.7831268], [-0.9842605, 50.7833059], [-0.9866024, 50.7835268], [-0.9897375, 50.7837507], [-0.9918811, 50.7838253], [-0.9925657, 50.7838671], [-0.9933117, 50.7839388], [-0.9958094, 50.7841567], [-0.9987745, 50.7844134], [-1.0005979, 50.7844479], [-1.001119, 50.784497], [-1.0011164, 50.7847895], [-1.0035291, 50.785088], [-1.0057908, 50.7853806], [-1.0070467, 50.7855328], [-1.0077493, 50.7856124], [-1.0091561, 50.7856902], [-1.0104988, 50.785708], [-1.0122593, 50.785694], [-1.0130045, 50.7856533], [-1.014213, 50.7856084], [-1.014843, 50.7855544], [-1.0159043, 50.7854302], [-1.0173564, 50.7853841], [-1.0191544, 50.7853934], [-1.0197288, 50.785497], [-1.0202576, 50.7855925], [-1.0206259, 50.7857119], [-1.0210225, 50.7858283], [-1.0215796, 50.7861239], [-1.0218079, 50.7863256], [-1.0222422, 50.7867077], [-1.02262, 50.7871435], [-1.0227998, 50.7874485], [-1.0227817, 50.7877086], [-1.0236875, 50.7883125], [-1.0237127, 50.7886527], [-1.02375, 50.7891562], [-1.0238714, 50.7896623], [-1.0239707, 50.790076], [-1.024125, 50.7907188], [-1.0241733, 50.7911346], [-1.0243438, 50.791625], [-1.0247969, 50.7923906], [-1.0254531, 50.7935469], [-1.0254844, 50.7947344], [-1.0255625, 50.7956562], [-1.0255143, 50.79571], [-1.025489, 50.7957382], [-1.0254648, 50.7957652], [-1.0250744, 50.7959134], [-1.0250181, 50.7959196], [-1.024962, 50.7959246], [-1.0246094, 50.7959714], [-1.0246074, 50.796041], [-1.0245142, 50.7960467], [-1.02451, 50.7960068], [-1.0245556, 50.7959966], [-1.0245575, 50.7959745], [-1.024518, 50.7958945], [-1.0242405, 50.7958741], [-1.0241653, 50.7960469], [-1.0241056, 50.7960394], [-1.0241662, 50.7958642], [-1.0238584, 50.7958152], [-1.0238525, 50.795831], [-1.0237993, 50.795822], [-1.0238073, 50.7958048], [-1.0238398, 50.795735], [-1.0236373, 50.7957015], [-1.0235813, 50.7958467], [-1.0235869, 50.7958626], [-1.0235832, 50.7958771], [-1.0235382, 50.7958715], [-1.0235436, 50.7958578], [-1.0235597, 50.7958431], [-1.0236147, 50.7957001], [-1.0236195, 50.7956844], [-1.023474, 50.7956653], [-1.0234693, 50.7956822], [-1.0234185, 50.7958646], [-1.0233687, 50.7958616], [-1.0234216, 50.795673], [-1.0232525, 50.7956528], [-1.0232302, 50.7957131], [-1.0231744, 50.7957061], [-1.0231944, 50.7956389], [-1.0232054, 50.7956018], [-1.0230032, 50.7955374], [-1.0229511, 50.7955306], [-1.0228664, 50.7955187], [-1.0227631, 50.7955111], [-1.0226552, 50.7955124], [-1.0224453, 50.7955238], [-1.0224085, 50.7955252], [-1.0224061, 50.7956444], [-1.0223608, 50.7956441], [-1.0223608, 50.7955262], [-1.0223005, 50.7955616], [-1.0221811, 50.7955891], [-1.0220685, 50.7956183], [-1.0219076, 50.7956438], [-1.0216407, 50.7957111], [-1.0213791, 50.7957638], [-1.0213134, 50.7957391], [-1.0213109, 50.7957664], [-1.0212387, 50.7957654], [-1.0212415, 50.7957382], [-1.0211838, 50.7957384], [-1.0211215, 50.7957639], [-1.0210212, 50.795792], [-1.0209325, 50.7958118], [-1.0209109, 50.7958167], [-1.0206995, 50.7958235], [-1.0205349, 50.795829], [-1.0204131, 50.7958194], [-1.020254, 50.7958067], [-1.0201759, 50.79579], [-1.0200172, 50.795756], [-1.0196905, 50.7957132], [-1.0196368, 50.7956572], [-1.0196556, 50.7955894], [-1.0197577, 50.7954763], [-1.0199586, 50.7954911], [-1.0200787, 50.7955896], [-1.0201702, 50.7957126], [-1.0202359, 50.795736], [-1.0203405, 50.7957574], [-1.0205497, 50.7957576], [-1.0207342, 50.795741], [-1.0209204, 50.7956878], [-1.0211471, 50.7955713], [-1.0212651, 50.7954085], [-1.0211578, 50.795239], [-1.021072, 50.7950898], [-1.0211512, 50.7950034], [-1.0213724, 50.7948549], [-1.0214582, 50.7947304], [-1.0216908, 50.7945431], [-1.0218016, 50.7944184], [-1.021839, 50.7942659], [-1.0219196, 50.794181], [-1.0219839, 50.7939954], [-1.0219718, 50.793832], [-1.0219492, 50.7937591], [-1.021878, 50.7936529], [-1.0217882, 50.7935348], [-1.0216514, 50.7934198], [-1.0215226, 50.7933291], [-1.0214395, 50.7932769], [-1.0213778, 50.7932401], [-1.0213019, 50.7932049], [-1.0211991, 50.7931613], [-1.0209854, 50.7930777], [-1.0207287, 50.7929874], [-1.0203639, 50.7928789], [-1.0198918, 50.7928314], [-1.0194198, 50.7928111], [-1.0189799, 50.7927297], [-1.0183898, 50.7925873], [-1.0180143, 50.7924856], [-1.0177491, 50.7924176], [-1.0176445, 50.792394], [-1.0175806, 50.7923821], [-1.0174886, 50.7923703], [-1.0174401, 50.7923673], [-1.0173878, 50.7923659], [-1.0173169, 50.7923703], [-1.0172824, 50.7923866], [-1.0172712, 50.7924133], [-1.0172635, 50.7924393], [-1.0172604, 50.7924742], [-1.0172637, 50.7925203], [-1.0172847, 50.7925805], [-1.0174027, 50.792784], [-1.0174671, 50.7929671], [-1.0175422, 50.7930281], [-1.0175315, 50.7931909], [-1.017628, 50.7932994], [-1.0177568, 50.7936249], [-1.0177675, 50.7937199], [-1.0176924, 50.7937267], [-1.017628, 50.7936724], [-1.0176817, 50.7935978], [-1.0176066, 50.7934825], [-1.0174671, 50.7931977], [-1.0173813, 50.7931231], [-1.0174457, 50.7930349], [-1.0172847, 50.7929535], [-1.0172426, 50.7928581], [-1.0171145, 50.7925675], [-1.0171023, 50.7925398], [-1.0170786, 50.7925155], [-1.017041, 50.7925048], [-1.0170025, 50.7925038], [-1.0169521, 50.7925059], [-1.0168908, 50.7925242], [-1.0168621, 50.7925409], [-1.0168341, 50.7925602], [-1.0167838, 50.7926096], [-1.0167428, 50.7926835], [-1.0167254, 50.7927282], [-1.0167091, 50.7928152], [-1.0166928, 50.7929023], [-1.0166839, 50.7929874], [-1.0166704, 50.7930452], [-1.0166662, 50.793106], [-1.0166752, 50.7931424], [-1.0167031, 50.7931989], [-1.016759, 50.7932791], [-1.016782, 50.7933134], [-1.0168096, 50.7933683], [-1.0168556, 50.7934486], [-1.0169448, 50.793566], [-1.0170079, 50.793662], [-1.0170616, 50.7937315], [-1.0171131, 50.7937877], [-1.0171746, 50.7938402], [-1.0172311, 50.7938856], [-1.0173062, 50.7939369], [-1.0173551, 50.7939697], [-1.0174281, 50.7940287], [-1.0174778, 50.7940522], [-1.0175746, 50.7940725], [-1.0176388, 50.7940752], [-1.0176924, 50.7940657], [-1.0177296, 50.7940474], [-1.0177568, 50.7940183], [-1.0177568, 50.7938962], [-1.0176571, 50.7938269], [-1.0178319, 50.7938487], [-1.0178855, 50.7939301], [-1.0179392, 50.7941064], [-1.0179392, 50.794276], [-1.0179392, 50.7943845], [-1.0180036, 50.7943913], [-1.0180465, 50.7943438], [-1.0181247, 50.7943267], [-1.0182503, 50.7943709], [-1.0182932, 50.794432], [-1.0182289, 50.7945133], [-1.0180894, 50.7945269], [-1.0179714, 50.7946083], [-1.0176817, 50.7947168], [-1.0176028, 50.7948012], [-1.0175422, 50.794866], [-1.0173706, 50.7951847], [-1.0173276, 50.7950491], [-1.0172204, 50.7949609], [-1.0168663, 50.7948185], [-1.0160616, 50.7945201], [-1.0158631, 50.7944455], [-1.015721, 50.7943947], [-1.015619, 50.7943642], [-1.0155325, 50.7943423], [-1.015431, 50.7943257], [-1.0153382, 50.7943121], [-1.0149458, 50.7942692], [-1.0139588, 50.7941539], [-1.0123438, 50.7940938], [-1.0116118, 50.793936], [-1.0111702, 50.7939009], [-1.0108438, 50.793875], [-1.0104375, 50.7938438], [-1.0102188, 50.7937812], [-1.0099375, 50.79375], [-1.0090625, 50.7934688], [-1.0083062, 50.7937155], [-1.0072119, 50.7939596], [-1.0062141, 50.7939732], [-1.0038001, 50.7940749], [-1.0023415, 50.7943666], [-1.0013116, 50.7945836], [-0.9997874, 50.7952653], [-0.9992467, 50.7955132], [-0.9989012, 50.7957038], [-0.9984471, 50.7959977], [-0.9978624, 50.7963312], [-0.9973042, 50.7965803], [-0.9967624, 50.7968832], [-0.9962779, 50.7971057], [-0.9958507, 50.7974229], [-0.9953081, 50.7977459], [-0.994909, 50.7979954], [-0.9945584, 50.7982753], [-0.9941483, 50.798716], [-0.9938401, 50.7991132], [-0.9936172, 50.7994005], [-0.9935177, 50.799573], [-0.9933168, 50.7999214], [-0.9930827, 50.800036], [-0.9929531, 50.8004128], [-0.9925484, 50.8007171], [-0.9921871, 50.8009736], [-0.9920396, 50.801061], [-0.9917633, 50.8012248], [-0.991545, 50.8013344], [-0.991075, 50.8015703], [-0.9906474, 50.8020911], [-0.9903319, 50.8024752], [-0.990184, 50.8026553], [-0.9900999, 50.8027797], [-0.9899165, 50.8030508], [-0.9897688, 50.8032691], [-0.9893428, 50.8037741], [-0.9893386, 50.8038713], [-0.9893318, 50.8040301], [-0.9892878, 50.8050551], [-0.989313, 50.8065268], [-0.9892763, 50.8075655], [-0.9892701, 50.8077417], [-0.9892358, 50.8080583], [-0.9891946, 50.8084383], [-0.9891629, 50.8087311], [-0.98906, 50.80968], [-0.989049, 50.809936], [-0.9889416, 50.8104686], [-0.9888998, 50.8106756], [-0.988798, 50.8111803], [-0.988443, 50.8114571], [-0.9882831, 50.8115817], [-0.98795, 50.811968], [-0.9873561, 50.8122216], [-0.986918, 50.812463], [-0.986502, 50.812712], [-0.986076, 50.813217], [-0.9860528, 50.8137581], [-0.986032, 50.814242], [-0.986021, 50.814498], [-0.9860112, 50.8147272], [-0.985988, 50.815266], [-0.985966, 50.815779], [-0.985955, 50.816035], [-0.9860686, 50.8169505], [-0.9858712, 50.8176555], [-0.9858341, 50.8196116], [-0.9858046, 50.8197573], [-0.9857081, 50.8198408], [-0.9854163, 50.8199446], [-0.9845778, 50.8202431], [-0.9844678, 50.8202952], [-0.98439, 50.8202818], [-0.9843089, 50.820238], [-0.9842847, 50.8202117], [-0.9842794, 50.8201448], [-0.9843136, 50.8200975], [-0.9843753, 50.8200757], [-0.9845203, 50.8200569], [-0.9846597, 50.8200315], [-0.9846975, 50.8200241], [-0.9847114, 50.8200173], [-0.9847241, 50.820009], [-0.9847353, 50.8200028], [-0.9847488, 50.8199964], [-0.9848701, 50.8199435], [-0.9849541, 50.8198944], [-0.9849467, 50.8198211], [-0.985001, 50.8197883], [-0.9850948, 50.8197696], [-0.9851738, 50.8197571], [-0.9852473, 50.8197448], [-0.9853046, 50.8197353], [-0.9853488, 50.8197133], [-0.9853823, 50.8196967], [-0.9854411, 50.818953], [-0.9854678, 50.8186153], [-0.9853849, 50.8186708], [-0.9851393, 50.818768], [-0.9848142, 50.8188966], [-0.9842919, 50.8191033], [-0.9841008, 50.8193359], [-0.9836482, 50.8198787], [-0.9833478, 50.8212343], [-0.9837512, 50.8219934], [-0.9845666, 50.822823], [-0.9853391, 50.8233381], [-0.9861545, 50.823761], [-0.9876565, 50.8238153], [-0.9872703, 50.8234574], [-0.9867546, 50.8230352], [-0.9870134, 50.823004], [-0.9874848, 50.823349], [-0.9881028, 50.8237068], [-0.9883567, 50.8238682], [-0.9885416, 50.8239538], [-0.9891585, 50.8240701], [-0.9897851, 50.824287], [-0.9901385, 50.8244708], [-0.990837, 50.824834], [-0.990815, 50.825346], [-0.9906434, 50.8260599], [-0.9905747, 50.8262985], [-0.990563, 50.826495], [-0.990288, 50.826706], [-0.989929, 50.827125], [-0.9895906, 50.8274543], [-0.9892478, 50.8277958], [-0.9888616, 50.8280862], [-0.988458, 50.828382], [-0.9876814, 50.8287765], [-0.9865189, 50.8291444], [-0.9844035, 50.8297032], [-0.9835709, 50.8300176], [-0.9832276, 50.8302453], [-0.9829665, 50.8303856], [-0.982735, 50.8305041], [-0.9826459, 50.8305719], [-0.9825744, 50.8306555], [-0.9825004, 50.830786], [-0.982417, 50.830928], [-0.9822419, 50.8313474], [-0.9821525, 50.831489], [-0.9820709, 50.8315808], [-0.9817274, 50.8321175], [-0.981706, 50.8321264], [-0.9816864, 50.8321275], [-0.9815811, 50.8321103], [-0.9815578, 50.8321136], [-0.9815233, 50.8321321], [-0.9814851, 50.8321492], [-0.981437, 50.8321629], [-0.9814193, 50.8321635], [-0.9814051, 50.8321605], [-0.9813781, 50.8321426], [-0.9813665, 50.8321219], [-0.9813465, 50.8321027], [-0.9813203, 50.8320793], [-0.9812999, 50.832052], [-0.9813062, 50.8320288], [-0.981326, 50.8320055], [-0.9813674, 50.831993], [-0.9814375, 50.8319961], [-0.9814909, 50.8320092], [-0.9815342, 50.8320115], [-0.9815757, 50.8320029], [-0.9816129, 50.8319916], [-0.9816355, 50.8319782], [-0.9816475, 50.8319662], [-0.9821557, 50.8310176], [-0.9822244, 50.8308349], [-0.982265, 50.8306521], [-0.9822114, 50.830572], [-0.9820388, 50.8304615], [-0.9819204, 50.8303971], [-0.9813412, 50.8300518], [-0.9809617, 50.8300326], [-0.980766, 50.8302193], [-0.9806421, 50.8303034], [-0.9805035, 50.8303663], [-0.9800047, 50.8303189], [-0.9797579, 50.8303155], [-0.9796614, 50.8303477], [-0.9795909, 50.8304198], [-0.9795, 50.8305928], [-0.9793609, 50.8307424], [-0.9791088, 50.8310202], [-0.9788459, 50.8311795], [-0.9785241, 50.8313116], [-0.9782773, 50.831376], [-0.9779715, 50.8315217], [-0.9777462, 50.8318131], [-0.9777021, 50.8321043], [-0.9779537, 50.8325415], [-0.9780239, 50.8326484], [-0.9780896, 50.8327623], [-0.9781397, 50.8328776], [-0.9781541, 50.8329929], [-0.9781418, 50.8330251], [-0.9781206, 50.8330587], [-0.9780727, 50.8330818], [-0.978018, 50.8331098], [-0.9779473, 50.8331315], [-0.9778603, 50.8331138], [-0.9776742, 50.8331175], [-0.977641, 50.8331113], [-0.9776123, 50.8330925], [-0.9775638, 50.8330154], [-0.9775113, 50.8328965], [-0.9774085, 50.8326642], [-0.9773277, 50.8322757], [-0.9773654, 50.832009], [-0.9772646, 50.8320179], [-0.977247, 50.8318905], [-0.9772055, 50.8318429], [-0.9771537, 50.8318403], [-0.9771268, 50.8318533], [-0.9769949, 50.8318841], [-0.976929, 50.8319334], [-0.976842, 50.831976], [-0.9766145, 50.8319956], [-0.9764819, 50.8320031], [-0.9763635, 50.8320419], [-0.9761026, 50.8320835], [-0.9759948, 50.832146], [-0.9759462, 50.8321716], [-0.9759294, 50.8321972], [-0.9758019, 50.8321946], [-0.975685, 50.8321808], [-0.9755823, 50.832133], [-0.9755405, 50.8321507], [-0.9754771, 50.832145], [-0.9754138, 50.832155], [-0.9753713, 50.8321443], [-0.9753465, 50.8321225], [-0.975265, 50.8321453], [-0.975219, 50.8321914], [-0.9751659, 50.8322129], [-0.9750479, 50.8322365], [-0.9749826, 50.8322528], [-0.9749552, 50.8322688], [-0.9749208, 50.8322781], [-0.9747849, 50.8321884], [-0.9745933, 50.832156], [-0.9743028, 50.8321324], [-0.9739722, 50.8321168], [-0.9736415, 50.8321097], [-0.9735239, 50.8321232], [-0.9734107, 50.832141], [-0.9733097, 50.8321602], [-0.9731999, 50.8321864], [-0.9725337, 50.8323921], [-0.972014, 50.8325256], [-0.9719363, 50.832537], [-0.9713607, 50.8326903], [-0.9712757, 50.8328213], [-0.9714099, 50.83316], [-0.9713739, 50.833365], [-0.9713245, 50.8335673], [-0.9712328, 50.8337667], [-0.9711566, 50.8339083], [-0.9710921, 50.8339658], [-0.971013, 50.8340002], [-0.9707912, 50.8340627], [-0.9706286, 50.834104], [-0.9705701, 50.8341396], [-0.9705284, 50.834165], [-0.9704529, 50.8342197], [-0.9704219, 50.8342886], [-0.9703489, 50.8345248], [-0.9702009, 50.8345942], [-0.9700396, 50.8346494], [-0.9687398, 50.834813], [-0.9670395, 50.8347463], [-0.9668626, 50.834723], [-0.9666878, 50.8346814], [-0.9665842, 50.8346293], [-0.9664947, 50.8346149], [-0.9663322, 50.8345837], [-0.9662021, 50.8345212], [-0.9661615, 50.8344733], [-0.9660072, 50.8344314], [-0.96591, 50.8343759], [-0.965617, 50.8343556], [-0.965344, 50.8342822], [-0.9652911, 50.8342644], [-0.9652476, 50.8342038], [-0.9652344, 50.8341499], [-0.9652044, 50.8341303], [-0.9651885, 50.8341048], [-0.9651817, 50.8340805], [-0.9651865, 50.8340561], [-0.9651956, 50.8340318], [-0.9652081, 50.8340105], [-0.9652223, 50.8339999], [-0.9652446, 50.8339968], [-0.9652931, 50.8339959], [-0.9656364, 50.834093], [-0.9666503, 50.8344282], [-0.967066, 50.8345033], [-0.9671948, 50.8344483], [-0.9680649, 50.832306], [-0.9680901, 50.8322625], [-0.9679517, 50.8322271], [-0.9679757, 50.8321944], [-0.9679916, 50.8321729], [-0.9680205, 50.8321338], [-0.9681617, 50.8321689], [-0.9681914, 50.8321199], [-0.9679746, 50.8320578], [-0.9680055, 50.8320141], [-0.9680117, 50.8320049], [-0.9680218, 50.8319903], [-0.9685208, 50.8321064], [-0.968789, 50.8321476], [-0.9689122, 50.8321572], [-0.9690184, 50.8321341], [-0.9690952, 50.8321076], [-0.9691541, 50.8320879], [-0.9691915, 50.832067], [-0.9692344, 50.8320495], [-0.9692692, 50.8320405], [-0.969354, 50.8320377], [-0.9694227, 50.8320411], [-0.9694615, 50.8320478], [-0.9695003, 50.8320614], [-0.969578, 50.8320946], [-0.9696289, 50.8321115], [-0.9696655, 50.8321313], [-0.9697226, 50.8321628], [-0.9697908, 50.8321945], [-0.9698609, 50.8322342], [-0.969918, 50.8322666], [-0.9699814, 50.8322761], [-0.9700403, 50.8322609], [-0.9700814, 50.8322555], [-0.9701171, 50.8322716], [-0.9701389, 50.8322857], [-0.9701962, 50.8319389], [-0.9701452, 50.8318007], [-0.9699521, 50.8316482], [-0.969818, 50.8316206], [-0.9693905, 50.8316289], [-0.9686646, 50.8317742], [-0.9685193, 50.8317256], [-0.9685436, 50.8316431], [-0.9688986, 50.8315143], [-0.9694305, 50.8313366], [-0.970222, 50.8311297], [-0.970295, 50.8310108], [-0.9703796, 50.8309419], [-0.970402, 50.8309181], [-0.9703993, 50.8308898], [-0.9703913, 50.8308615], [-0.9703583, 50.8308332], [-0.9703154, 50.8308105], [-0.9702655, 50.8307969], [-0.9701727, 50.8307854], [-0.9699985, 50.8308538], [-0.9698385, 50.8309763], [-0.9697023, 50.8310126], [-0.969566, 50.8310039], [-0.9694062, 50.830943], [-0.9693359, 50.8309309], [-0.9692656, 50.8309368], [-0.9690003, 50.8310946], [-0.9688882, 50.8311367], [-0.9687761, 50.8311539], [-0.968629, 50.831127], [-0.968553, 50.8308668], [-0.9684972, 50.8306713], [-0.9684792, 50.8306599], [-0.9684556, 50.8306539], [-0.9684321, 50.8306589], [-0.9683587, 50.8306981], [-0.9683392, 50.8307059], [-0.9682713, 50.8307266], [-0.9682106, 50.8307331], [-0.968064, 50.8307382], [-0.968005, 50.8307292], [-0.9679531, 50.8307042], [-0.9678573, 50.8306429], [-0.9677882, 50.8305652], [-0.9677522, 50.8305367], [-0.9676992, 50.8305225], [-0.9667497, 50.8305292], [-0.9666974, 50.8305341], [-0.9666492, 50.8305442], [-0.9666137, 50.8305849], [-0.9665917, 50.8306358], [-0.9665233, 50.8309203], [-0.9664999, 50.8309366], [-0.9664602, 50.8309462], [-0.9656954, 50.8310504], [-0.9651668, 50.8311406], [-0.9648544, 50.8315044], [-0.9643927, 50.8314994], [-0.9642079, 50.8315144], [-0.9641056, 50.8315967], [-0.9642046, 50.8321011], [-0.9640227, 50.8328555], [-0.9638076, 50.8333681], [-0.9639086, 50.8334353], [-0.9646287, 50.8336691], [-0.9646554, 50.833697], [-0.9646594, 50.8337248], [-0.9646503, 50.8337486], [-0.9646282, 50.8337703], [-0.9645781, 50.8337867], [-0.964528, 50.8337887], [-0.9639404, 50.8335938], [-0.9636189, 50.8334747], [-0.9633913, 50.833347], [-0.963131, 50.833165], [-0.9629693, 50.832994], [-0.9627635, 50.8327774], [-0.9623342, 50.8322783], [-0.9624427, 50.8318824], [-0.9624979, 50.8319798], [-0.9624305, 50.8322779], [-0.9628964, 50.8327443], [-0.9633643, 50.8331124], [-0.9635741, 50.8331917], [-0.9636629, 50.8331791], [-0.9637444, 50.8331174], [-0.9639645, 50.8322322], [-0.963979, 50.8319651], [-0.9638041, 50.8315735], [-0.9638391, 50.8314066], [-0.9641231, 50.8313415], [-0.9644461, 50.8313544], [-0.9646621, 50.8312367], [-0.9646163, 50.8310564], [-0.9646902, 50.8309633], [-0.9646388, 50.8308988], [-0.9638373, 50.8307214], [-0.9628023, 50.8309314], [-0.9619656, 50.8309733], [-0.9619221, 50.8310639], [-0.9621147, 50.8312662], [-0.9622597, 50.8314512], [-0.9622907, 50.8315417], [-0.9622054, 50.8314952], [-0.9620022, 50.8312774], [-0.9618548, 50.8311724], [-0.9615443, 50.8310367], [-0.9612893, 50.8308883], [-0.9612382, 50.8307481], [-0.9611865, 50.8306044], [-0.9610115, 50.8305421], [-0.9606898, 50.8304664], [-0.9599173, 50.8303775], [-0.9596648, 50.8304075], [-0.9591792, 50.8308344], [-0.9589871, 50.831457], [-0.9579534, 50.8313756], [-0.9572787, 50.831324], [-0.9571523, 50.8312482], [-0.9572583, 50.8307922], [-0.9560965, 50.8302128]]], &quot;type&quot;: &quot;Polygon&quot;}, &quot;id&quot;: &quot;98&quot;, &quot;properties&quot;: {&quot;FID&quot;: 98}, &quot;type&quot;: &quot;Feature&quot;}, {&quot;bbox&quot;: [-5.0630246, 50.5445591, -5.0614474, 50.545384], &quot;geometry&quot;: {&quot;coordinates&quot;: [[[-5.0615333, 50.5446545], [-5.0615762, 50.5445591], [-5.0617156, 50.5445795], [-5.0618873, 50.5445932], [-5.0620482, 50.5446682], [-5.0622092, 50.5446613], [-5.0623057, 50.5447636], [-5.0624345, 50.5447841], [-5.0624023, 50.544675], [-5.0626169, 50.544675], [-5.0628422, 50.5448454], [-5.0627456, 50.5448591], [-5.0627563, 50.5449204], [-5.0628744, 50.544975], [-5.0629709, 50.5449477], [-5.0630246, 50.5449886], [-5.0628529, 50.5450909], [-5.0627993, 50.5453295], [-5.062692, 50.545384], [-5.0625739, 50.5453227], [-5.0626061, 50.5451522], [-5.0624452, 50.5451113], [-5.0622628, 50.54505], [-5.0621448, 50.5451454], [-5.0619731, 50.5451659], [-5.061898, 50.5452477], [-5.0617693, 50.5452749], [-5.0617693, 50.5453295], [-5.0616191, 50.5452886], [-5.0615333, 50.5451863], [-5.0614474, 50.545159], [-5.0614796, 50.545084], [-5.0616191, 50.5450363], [-5.0616405, 50.544975], [-5.0614581, 50.5449409], [-5.0614474, 50.544825], [-5.061544, 50.5447909], [-5.0615333, 50.5446545]]], &quot;type&quot;: &quot;Polygon&quot;}, &quot;id&quot;: &quot;99&quot;, &quot;properties&quot;: {&quot;FID&quot;: 99}, &quot;type&quot;: &quot;Feature&quot;}], &quot;type&quot;: &quot;FeatureCollection&quot;});\n",
       "\n",
       "        \n",
       "    \n",
       "    geo_json_73b3325e21895e5d488855c9449b5c82.bindTooltip(\n",
       "    function(layer){\n",
       "    let div = L.DomUtil.create(&#x27;div&#x27;);\n",
       "    \n",
       "    let handleObject = feature=&gt;typeof(feature)==&#x27;object&#x27; ? JSON.stringify(feature) : feature;\n",
       "    let fields = [&quot;FID&quot;];\n",
       "    let aliases = [&quot;FID&quot;];\n",
       "    let table = &#x27;&lt;table&gt;&#x27; +\n",
       "        String(\n",
       "        fields.map(\n",
       "        (v,i)=&gt;\n",
       "        `&lt;tr&gt;\n",
       "            &lt;th&gt;${aliases[i]}&lt;/th&gt;\n",
       "            \n",
       "            &lt;td&gt;${handleObject(layer.feature.properties[v])}&lt;/td&gt;\n",
       "        &lt;/tr&gt;`).join(&#x27;&#x27;))\n",
       "    +&#x27;&lt;/table&gt;&#x27;;\n",
       "    div.innerHTML=table;\n",
       "    \n",
       "    return div\n",
       "    }\n",
       "    ,{&quot;className&quot;: &quot;foliumtooltip&quot;, &quot;sticky&quot;: true});\n",
       "                     \n",
       "&lt;/script&gt;\n",
       "&lt;/html&gt;\" style=\"position:absolute;width:100%;height:100%;left:0;top:0;border:none !important;\" allowfullscreen webkitallowfullscreen mozallowfullscreen></iframe></div></div>"
      ],
      "text/plain": [
       "<folium.folium.Map at 0x7f7f440de2f0>"
      ]
     },
     "execution_count": 14,
     "metadata": {},
     "output_type": "execute_result"
    }
   ],
   "source": [
    "table_list_gdf_land[:100].explore()"
   ]
  },
  {
   "cell_type": "code",
   "execution_count": 59,
   "id": "db3bf90f",
   "metadata": {},
   "outputs": [],
   "source": [
    "ger=gpd.read_file('/home/igor/projects/maridata/test_data/DEU_adm0.shp')"
   ]
  },
  {
   "cell_type": "code",
   "execution_count": 1,
   "id": "a025cab5",
   "metadata": {},
   "outputs": [],
   "source": [
    "import geopandas as gpd\n"
   ]
  },
  {
   "cell_type": "code",
   "execution_count": 3,
   "id": "b61d5400",
   "metadata": {},
   "outputs": [],
   "source": [
    "gdf_land = gpd.read_file('/home/igor/projects/maridata/test_data/land-polygons-complete-4326/land_polygons.shp')"
   ]
  },
  {
   "cell_type": "code",
   "execution_count": 4,
   "id": "803ba651",
   "metadata": {},
   "outputs": [
    {
     "data": {
      "text/plain": [
       "<Axes: >"
      ]
     },
     "execution_count": 4,
     "metadata": {},
     "output_type": "execute_result"
    },
    {
     "data": {
      "image/png": "[encoded data removed]",
      "text/plain": [
       "<Figure size 640x480 with 1 Axes>"
      ]
     },
     "metadata": {},
     "output_type": "display_data"
    }
   ],
   "source": [
    "gdf_land.plot()"
   ]
  },
  {
   "cell_type": "code",
   "execution_count": 12,
   "id": "34108d5c",
   "metadata": {},
   "outputs": [],
   "source": [
    "# Create a copy of the df to test the functions\n",
    "table_list_gdf_nodes2 = table_list_gdf_nodes.copy()"
   ]
  },
  {
   "cell_type": "code",
   "execution_count": 13,
   "id": "8e70a73b",
   "metadata": {},
   "outputs": [
    {
     "data": {
      "text/html": [
       "<div>\n",
       "<style scoped>\n",
       "    .dataframe tbody tr th:only-of-type {\n",
       "        vertical-align: middle;\n",
       "    }\n",
       "\n",
       "    .dataframe tbody tr th {\n",
       "        vertical-align: top;\n",
       "    }\n",
       "\n",
       "    .dataframe thead th {\n",
       "        text-align: right;\n",
       "    }\n",
       "</style>\n",
       "<table border=\"1\" class=\"dataframe\">\n",
       "  <thead>\n",
       "    <tr style=\"text-align: right;\">\n",
       "      <th></th>\n",
       "      <th>id</th>\n",
       "      <th>version</th>\n",
       "      <th>user_id</th>\n",
       "      <th>tstamp</th>\n",
       "      <th>changeset_id</th>\n",
       "      <th>tags</th>\n",
       "      <th>geom</th>\n",
       "    </tr>\n",
       "  </thead>\n",
       "  <tbody>\n",
       "    <tr>\n",
       "      <th>0</th>\n",
       "      <td>106904</td>\n",
       "      <td>5</td>\n",
       "      <td>4948143</td>\n",
       "      <td>2020-06-15 19:23:35</td>\n",
       "      <td>86684855</td>\n",
       "      <td>{'waterway': 'lock_gate', 'seamark:type': 'gate'}</td>\n",
       "      <td>POINT (-0.03623 51.51956)</td>\n",
       "    </tr>\n",
       "    <tr>\n",
       "      <th>1</th>\n",
       "      <td>108735</td>\n",
       "      <td>6</td>\n",
       "      <td>4948143</td>\n",
       "      <td>2020-06-15 19:23:35</td>\n",
       "      <td>86684855</td>\n",
       "      <td>{'waterway': 'lock_gate', 'seamark:type': 'gate'}</td>\n",
       "      <td>POINT (-0.03489 51.51475)</td>\n",
       "    </tr>\n",
       "    <tr>\n",
       "      <th>2</th>\n",
       "      <td>110210</td>\n",
       "      <td>7</td>\n",
       "      <td>4948143</td>\n",
       "      <td>2020-06-15 19:23:35</td>\n",
       "      <td>86684855</td>\n",
       "      <td>{'waterway': 'lock_gate', 'seamark:type': 'gate'}</td>\n",
       "      <td>POINT (-0.03777 51.52499)</td>\n",
       "    </tr>\n",
       "    <tr>\n",
       "      <th>3</th>\n",
       "      <td>142325</td>\n",
       "      <td>5</td>\n",
       "      <td>53773</td>\n",
       "      <td>2017-04-26 14:43:20</td>\n",
       "      <td>48165623</td>\n",
       "      <td>{}</td>\n",
       "      <td>POINT (6.16037 49.11819)</td>\n",
       "    </tr>\n",
       "    <tr>\n",
       "      <th>4</th>\n",
       "      <td>148969</td>\n",
       "      <td>14</td>\n",
       "      <td>420980</td>\n",
       "      <td>2018-10-23 11:53:56</td>\n",
       "      <td>63792931</td>\n",
       "      <td>{}</td>\n",
       "      <td>POINT (11.23781 60.42730)</td>\n",
       "    </tr>\n",
       "  </tbody>\n",
       "</table>\n",
       "</div>"
      ],
      "text/plain": [
       "       id  version  user_id               tstamp  changeset_id   \n",
       "0  106904        5  4948143  2020-06-15 19:23:35      86684855  \\\n",
       "1  108735        6  4948143  2020-06-15 19:23:35      86684855   \n",
       "2  110210        7  4948143  2020-06-15 19:23:35      86684855   \n",
       "3  142325        5    53773  2017-04-26 14:43:20      48165623   \n",
       "4  148969       14   420980  2018-10-23 11:53:56      63792931   \n",
       "\n",
       "                                                tags   \n",
       "0  {'waterway': 'lock_gate', 'seamark:type': 'gate'}  \\\n",
       "1  {'waterway': 'lock_gate', 'seamark:type': 'gate'}   \n",
       "2  {'waterway': 'lock_gate', 'seamark:type': 'gate'}   \n",
       "3                                                 {}   \n",
       "4                                                 {}   \n",
       "\n",
       "                        geom  \n",
       "0  POINT (-0.03623 51.51956)  \n",
       "1  POINT (-0.03489 51.51475)  \n",
       "2  POINT (-0.03777 51.52499)  \n",
       "3   POINT (6.16037 49.11819)  \n",
       "4  POINT (11.23781 60.42730)  "
      ]
     },
     "execution_count": 13,
     "metadata": {},
     "output_type": "execute_result"
    }
   ],
   "source": [
    "table_list_gdf_nodes2.head()"
   ]
  },
  {
   "cell_type": "markdown",
   "id": "591e5fc0",
   "metadata": {},
   "source": [
    "## public.ways"
   ]
  },
  {
   "cell_type": "code",
   "execution_count": 15,
   "id": "94c7cf2b",
   "metadata": {},
   "outputs": [
    {
     "data": {
      "text/html": [
       "<div>\n",
       "<style scoped>\n",
       "    .dataframe tbody tr th:only-of-type {\n",
       "        vertical-align: middle;\n",
       "    }\n",
       "\n",
       "    .dataframe tbody tr th {\n",
       "        vertical-align: top;\n",
       "    }\n",
       "\n",
       "    .dataframe thead th {\n",
       "        text-align: right;\n",
       "    }\n",
       "</style>\n",
       "<table border=\"1\" class=\"dataframe\">\n",
       "  <thead>\n",
       "    <tr style=\"text-align: right;\">\n",
       "      <th></th>\n",
       "      <th>id</th>\n",
       "      <th>version</th>\n",
       "      <th>user_id</th>\n",
       "      <th>tstamp</th>\n",
       "      <th>changeset_id</th>\n",
       "      <th>tags</th>\n",
       "      <th>nodes</th>\n",
       "      <th>linestring</th>\n",
       "      <th>geom</th>\n",
       "    </tr>\n",
       "  </thead>\n",
       "  <tbody>\n",
       "    <tr>\n",
       "      <th>0</th>\n",
       "      <td>2957004</td>\n",
       "      <td>5</td>\n",
       "      <td>402585</td>\n",
       "      <td>2017-07-22 12:54:36</td>\n",
       "      <td>50480937</td>\n",
       "      <td>{'source': 'PGS', 'natural': 'coastline', 'sea...</td>\n",
       "      <td>[13894718, 13894717, 4986641664, 13894716, 138...</td>\n",
       "      <td>0102000020E6100000060000007FA9FAF087BAFFBFDA6D...</td>\n",
       "      <td>LINESTRING (-1.98304 49.29275, -1.98302 49.292...</td>\n",
       "    </tr>\n",
       "    <tr>\n",
       "      <th>1</th>\n",
       "      <td>2957006</td>\n",
       "      <td>3</td>\n",
       "      <td>402585</td>\n",
       "      <td>2017-07-22 12:54:37</td>\n",
       "      <td>50480937</td>\n",
       "      <td>{'place': 'islet', 'source': 'PGS', 'natural':...</td>\n",
       "      <td>[13894731, 13894734, 4986641279, 4986641278, 1...</td>\n",
       "      <td>0102000020E61000000A000000734A404CC2E5FEBFC6AA...</td>\n",
       "      <td>LINESTRING (-1.93109 49.29145, -1.93099 49.291...</td>\n",
       "    </tr>\n",
       "    <tr>\n",
       "      <th>2</th>\n",
       "      <td>2957007</td>\n",
       "      <td>3</td>\n",
       "      <td>402585</td>\n",
       "      <td>2017-07-22 12:54:37</td>\n",
       "      <td>50480937</td>\n",
       "      <td>{'source': 'PGS', 'natural': 'coastline', 'sea...</td>\n",
       "      <td>[13894739, 13894738, 13894737, 4986641686, 138...</td>\n",
       "      <td>0102000020E610000009000000756A78C43227FFBF32FA...</td>\n",
       "      <td>LINESTRING (-1.94707 49.29174, -1.94753 49.291...</td>\n",
       "    </tr>\n",
       "    <tr>\n",
       "      <th>3</th>\n",
       "      <td>3303804</td>\n",
       "      <td>18</td>\n",
       "      <td>12324550</td>\n",
       "      <td>2020-12-12 17:23:50</td>\n",
       "      <td>95730345</td>\n",
       "      <td>{'name': 'Royal Portbury Dock', 'landuse': 'ha...</td>\n",
       "      <td>[967266897, 1359492542, 1359492545, 16269599, ...</td>\n",
       "      <td>0102000020E61000009E000000DC3D8A8400CA05C05CE0...</td>\n",
       "      <td>LINESTRING (-2.72363 51.49807, -2.72379 51.497...</td>\n",
       "    </tr>\n",
       "    <tr>\n",
       "      <th>4</th>\n",
       "      <td>3353382</td>\n",
       "      <td>30</td>\n",
       "      <td>4081914</td>\n",
       "      <td>2023-05-27 15:32:33</td>\n",
       "      <td>136629148</td>\n",
       "      <td>{'boat': 'private', 'name': 'Chichester Marina...</td>\n",
       "      <td>[10931738411, 2145855710, 7992523685, 32005940...</td>\n",
       "      <td>0102000020E610000066000000E749E361EB63EABF2725...</td>\n",
       "      <td>LINESTRING (-0.82470 50.80485, -0.82467 50.804...</td>\n",
       "    </tr>\n",
       "    <tr>\n",
       "      <th>...</th>\n",
       "      <td>...</td>\n",
       "      <td>...</td>\n",
       "      <td>...</td>\n",
       "      <td>...</td>\n",
       "      <td>...</td>\n",
       "      <td>...</td>\n",
       "      <td>...</td>\n",
       "      <td>...</td>\n",
       "      <td>...</td>\n",
       "    </tr>\n",
       "    <tr>\n",
       "      <th>95</th>\n",
       "      <td>4122773</td>\n",
       "      <td>14</td>\n",
       "      <td>1196017</td>\n",
       "      <td>2023-02-12 06:39:04</td>\n",
       "      <td>132432072</td>\n",
       "      <td>{'natural': 'coastline'}</td>\n",
       "      <td>[1133815892, 8559041160, 8559041159, 113381506...</td>\n",
       "      <td>0102000020E610000080010000C6CCF40137292640FE85...</td>\n",
       "      <td>LINESTRING (11.08050 55.51504, 11.08059 55.515...</td>\n",
       "    </tr>\n",
       "    <tr>\n",
       "      <th>96</th>\n",
       "      <td>4123131</td>\n",
       "      <td>4</td>\n",
       "      <td>22869</td>\n",
       "      <td>2017-12-19 19:10:28</td>\n",
       "      <td>54768203</td>\n",
       "      <td>{'name': 'Langø', 'place': 'islet', 'natural':...</td>\n",
       "      <td>[1332777878, 5294319141, 5294319140, 22662722,...</td>\n",
       "      <td>0102000020E6100000360000009EE4B3E1559B27400489...</td>\n",
       "      <td>LINESTRING (11.80339 55.74656, 11.80343 55.746...</td>\n",
       "    </tr>\n",
       "    <tr>\n",
       "      <th>97</th>\n",
       "      <td>42818785</td>\n",
       "      <td>3</td>\n",
       "      <td>2781619</td>\n",
       "      <td>2020-08-20 19:59:07</td>\n",
       "      <td>89709807</td>\n",
       "      <td>{'foot': 'permissive', 'waterway': 'lock_gate'...</td>\n",
       "      <td>[535540441, 535540446, 7805125485]</td>\n",
       "      <td>0102000020E6100000030000007B33C5773D0053C01F38...</td>\n",
       "      <td>LINESTRING (-76.00375 44.89303, -76.00381 44.8...</td>\n",
       "    </tr>\n",
       "    <tr>\n",
       "      <th>98</th>\n",
       "      <td>4122839</td>\n",
       "      <td>12</td>\n",
       "      <td>379467</td>\n",
       "      <td>2021-04-14 07:11:28</td>\n",
       "      <td>102908549</td>\n",
       "      <td>{'natural': 'coastline'}</td>\n",
       "      <td>[25070189, 22651799, 22651796, 6109593023, 610...</td>\n",
       "      <td>0102000020E6100000B2010000CB3049C043002840C80B...</td>\n",
       "      <td>LINESTRING (12.00052 55.85989, 12.00033 55.859...</td>\n",
       "    </tr>\n",
       "    <tr>\n",
       "      <th>99</th>\n",
       "      <td>4223794</td>\n",
       "      <td>4</td>\n",
       "      <td>156646</td>\n",
       "      <td>2019-04-24 10:15:33</td>\n",
       "      <td>69520033</td>\n",
       "      <td>{'place': 'islet', 'source': 'PGS(could be ina...</td>\n",
       "      <td>[25158354, 4081464342, 4081464344, 4081464346,...</td>\n",
       "      <td>0102000020E61000001400000058CA32C4B15E28408AAB...</td>\n",
       "      <td>LINESTRING (12.18495 57.20446, 12.18514 57.204...</td>\n",
       "    </tr>\n",
       "  </tbody>\n",
       "</table>\n",
       "<p>100 rows × 9 columns</p>\n",
       "</div>"
      ],
      "text/plain": [
       "          id  version   user_id               tstamp  changeset_id   \n",
       "0    2957004        5    402585  2017-07-22 12:54:36      50480937  \\\n",
       "1    2957006        3    402585  2017-07-22 12:54:37      50480937   \n",
       "2    2957007        3    402585  2017-07-22 12:54:37      50480937   \n",
       "3    3303804       18  12324550  2020-12-12 17:23:50      95730345   \n",
       "4    3353382       30   4081914  2023-05-27 15:32:33     136629148   \n",
       "..       ...      ...       ...                  ...           ...   \n",
       "95   4122773       14   1196017  2023-02-12 06:39:04     132432072   \n",
       "96   4123131        4     22869  2017-12-19 19:10:28      54768203   \n",
       "97  42818785        3   2781619  2020-08-20 19:59:07      89709807   \n",
       "98   4122839       12    379467  2021-04-14 07:11:28     102908549   \n",
       "99   4223794        4    156646  2019-04-24 10:15:33      69520033   \n",
       "\n",
       "                                                 tags   \n",
       "0   {'source': 'PGS', 'natural': 'coastline', 'sea...  \\\n",
       "1   {'place': 'islet', 'source': 'PGS', 'natural':...   \n",
       "2   {'source': 'PGS', 'natural': 'coastline', 'sea...   \n",
       "3   {'name': 'Royal Portbury Dock', 'landuse': 'ha...   \n",
       "4   {'boat': 'private', 'name': 'Chichester Marina...   \n",
       "..                                                ...   \n",
       "95                           {'natural': 'coastline'}   \n",
       "96  {'name': 'Langø', 'place': 'islet', 'natural':...   \n",
       "97  {'foot': 'permissive', 'waterway': 'lock_gate'...   \n",
       "98                           {'natural': 'coastline'}   \n",
       "99  {'place': 'islet', 'source': 'PGS(could be ina...   \n",
       "\n",
       "                                                nodes   \n",
       "0   [13894718, 13894717, 4986641664, 13894716, 138...  \\\n",
       "1   [13894731, 13894734, 4986641279, 4986641278, 1...   \n",
       "2   [13894739, 13894738, 13894737, 4986641686, 138...   \n",
       "3   [967266897, 1359492542, 1359492545, 16269599, ...   \n",
       "4   [10931738411, 2145855710, 7992523685, 32005940...   \n",
       "..                                                ...   \n",
       "95  [1133815892, 8559041160, 8559041159, 113381506...   \n",
       "96  [1332777878, 5294319141, 5294319140, 22662722,...   \n",
       "97                 [535540441, 535540446, 7805125485]   \n",
       "98  [25070189, 22651799, 22651796, 6109593023, 610...   \n",
       "99  [25158354, 4081464342, 4081464344, 4081464346,...   \n",
       "\n",
       "                                           linestring   \n",
       "0   0102000020E6100000060000007FA9FAF087BAFFBFDA6D...  \\\n",
       "1   0102000020E61000000A000000734A404CC2E5FEBFC6AA...   \n",
       "2   0102000020E610000009000000756A78C43227FFBF32FA...   \n",
       "3   0102000020E61000009E000000DC3D8A8400CA05C05CE0...   \n",
       "4   0102000020E610000066000000E749E361EB63EABF2725...   \n",
       "..                                                ...   \n",
       "95  0102000020E610000080010000C6CCF40137292640FE85...   \n",
       "96  0102000020E6100000360000009EE4B3E1559B27400489...   \n",
       "97  0102000020E6100000030000007B33C5773D0053C01F38...   \n",
       "98  0102000020E6100000B2010000CB3049C043002840C80B...   \n",
       "99  0102000020E61000001400000058CA32C4B15E28408AAB...   \n",
       "\n",
       "                                                 geom  \n",
       "0   LINESTRING (-1.98304 49.29275, -1.98302 49.292...  \n",
       "1   LINESTRING (-1.93109 49.29145, -1.93099 49.291...  \n",
       "2   LINESTRING (-1.94707 49.29174, -1.94753 49.291...  \n",
       "3   LINESTRING (-2.72363 51.49807, -2.72379 51.497...  \n",
       "4   LINESTRING (-0.82470 50.80485, -0.82467 50.804...  \n",
       "..                                                ...  \n",
       "95  LINESTRING (11.08050 55.51504, 11.08059 55.515...  \n",
       "96  LINESTRING (11.80339 55.74656, 11.80343 55.746...  \n",
       "97  LINESTRING (-76.00375 44.89303, -76.00381 44.8...  \n",
       "98  LINESTRING (12.00052 55.85989, 12.00033 55.859...  \n",
       "99  LINESTRING (12.18495 57.20446, 12.18514 57.204...  \n",
       "\n",
       "[100 rows x 9 columns]"
      ]
     },
     "execution_count": 15,
     "metadata": {},
     "output_type": "execute_result"
    }
   ],
   "source": [
    "import os\n",
    "import sqlalchemy as db\n",
    "import pandas as pd\n",
    "import geopandas as gpd\n",
    "from dotenv import load_dotenv\n",
    "\n",
    "# Load the environment variables from the .env file\n",
    "load_dotenv(\"./python_docker/.env\")\n",
    "\n",
    "\n",
    "# Connect to the PostgreSQL database using SQLAlchemy\n",
    "engine = db.create_engine('postgresql://{user}:{pw}@{host}/{db}'\n",
    "                           .format(user=os.environ.get(\"POSTGIS_USER\"),\n",
    "                                   pw=os.environ.get(\"POSTGIS_PASSWORD\"),\n",
    "                                   host=\"172.20.0.3\",\n",
    "                                   db=os.environ.get(\"POSTGIS_DATABASE\"),\n",
    "                                   port='5434'))\n",
    "\n",
    "\n",
    "connection = engine.connect()\n",
    "\n",
    "\n",
    "# query = \"SELECT * FROM nodes LIMIT 500\"\n",
    "query = \"SELECT *, linestring AS geom FROM ways\"  #linestring is the column representing the geometry \n",
    "\n",
    "\n",
    "# Use geopandas to read the SQL query into a dataframe from postgis\n",
    "table_list_gdf_ways = gpd.read_postgis(query, engine)\n",
    "\n",
    "# read timestamp type data as string\n",
    "table_list_gdf_ways['tstamp']=table_list_gdf_ways['tstamp'].dt.strftime('%Y-%m-%d %H:%M:%S')\n",
    "\n",
    "table_list_gdf_ways.head(100)"
   ]
  },
  {
   "cell_type": "code",
   "execution_count": 16,
   "id": "f9e099eb",
   "metadata": {},
   "outputs": [],
   "source": [
    "# Create a copy of the df to test the functions\n",
    "table_list_gdf_ways2 = table_list_gdf_ways.copy()"
   ]
  },
  {
   "cell_type": "markdown",
   "id": "476a9893",
   "metadata": {},
   "source": [
    "#### Tests "
   ]
  },
  {
   "cell_type": "code",
   "execution_count": 15,
   "id": "746deb9f",
   "metadata": {},
   "outputs": [
    {
     "ename": "NameError",
     "evalue": "name 'seamark_object' is not defined",
     "output_type": "error",
     "traceback": [
      "\u001b[0;31m---------------------------------------------------------------------------\u001b[0m",
      "\u001b[0;31mNameError\u001b[0m                                 Traceback (most recent call last)",
      "Cell \u001b[0;32mIn[15], line 1\u001b[0m\n\u001b[0;32m----> 1\u001b[0m \u001b[38;5;28;01mif\u001b[39;00m (\u001b[38;5;124m\"\u001b[39m\u001b[38;5;124mnodes\u001b[39m\u001b[38;5;124m\"\u001b[39m \u001b[38;5;129;01min\u001b[39;00m \u001b[43mseamark_object\u001b[49m) \u001b[38;5;129;01mand\u001b[39;00m \u001b[38;5;28mall\u001b[39m(element \u001b[38;5;129;01min\u001b[39;00m tags \u001b[38;5;28;01mfor\u001b[39;00m element \u001b[38;5;129;01min\u001b[39;00m seamark_list):\n\u001b[1;32m      2\u001b[0m     gdf \u001b[38;5;241m=\u001b[39m table_list_gdf_nodes2\u001b[38;5;66;03m#self.query_nodes(engine,query)\u001b[39;00m\n\u001b[1;32m      3\u001b[0m     gdf_list \u001b[38;5;241m=\u001b[39m []\n",
      "\u001b[0;31mNameError\u001b[0m: name 'seamark_object' is not defined"
     ]
    }
   ],
   "source": [
    "if (\"nodes\" in seamark_object) and all(element in tags for element in seamark_list):\n",
    "    gdf = table_list_gdf_nodes2#self.query_nodes(engine,query)\n",
    "    gdf_list = []\n",
    "    for i in range(0, len(seamark_list)):\n",
    "        gdf1 = gdf[gdf['tags'].apply(lambda x: seamark_list[i] in x.values())]\n",
    "        gdf_list.append(gdf1)\n",
    "    gdf_concat = pd.concat(gdf_list)\n",
    "    \n",
    "    "
   ]
  },
  {
   "cell_type": "code",
   "execution_count": null,
   "id": "1a1084b6",
   "metadata": {},
   "outputs": [],
   "source": [
    "gdf_concat['tags']"
   ]
  },
  {
   "cell_type": "code",
   "execution_count": 17,
   "id": "6bcaa1f9",
   "metadata": {},
   "outputs": [
    {
     "ename": "NameError",
     "evalue": "name 'Point' is not defined",
     "output_type": "error",
     "traceback": [
      "\u001b[0;31m---------------------------------------------------------------------------\u001b[0m",
      "\u001b[0;31mNameError\u001b[0m                                 Traceback (most recent call last)",
      "Cell \u001b[0;32mIn[17], line 2\u001b[0m\n\u001b[1;32m      1\u001b[0m test_nodes_gdf \u001b[38;5;241m=\u001b[39m gpd\u001b[38;5;241m.\u001b[39mGeoDataFrame(columns\u001b[38;5;241m=\u001b[39m[\u001b[38;5;124m'\u001b[39m\u001b[38;5;124mtags\u001b[39m\u001b[38;5;124m'\u001b[39m, \u001b[38;5;124m'\u001b[39m\u001b[38;5;124mgeometry\u001b[39m\u001b[38;5;124m'\u001b[39m],\n\u001b[0;32m----> 2\u001b[0m              data\u001b[38;5;241m=\u001b[39m[[{\u001b[38;5;124m'\u001b[39m\u001b[38;5;124mwaterway\u001b[39m\u001b[38;5;124m'\u001b[39m: \u001b[38;5;124m'\u001b[39m\u001b[38;5;124mlock_gate\u001b[39m\u001b[38;5;124m'\u001b[39m, \u001b[38;5;124m'\u001b[39m\u001b[38;5;124mseamark:type\u001b[39m\u001b[38;5;124m'\u001b[39m: \u001b[38;5;124m'\u001b[39m\u001b[38;5;124mgate\u001b[39m\u001b[38;5;124m'\u001b[39m},\u001b[43mPoint\u001b[49m(\u001b[38;5;241m5\u001b[39m, \u001b[38;5;241m15\u001b[39m)],\n\u001b[1;32m      3\u001b[0m                    [{\u001b[38;5;124m'\u001b[39m\u001b[38;5;124mseamark:type\u001b[39m\u001b[38;5;124m'\u001b[39m: \u001b[38;5;124m'\u001b[39m\u001b[38;5;124mharbour\u001b[39m\u001b[38;5;124m'\u001b[39m},Point(\u001b[38;5;241m9.91950\u001b[39m, \u001b[38;5;241m57.06081\u001b[39m)],\n\u001b[1;32m      4\u001b[0m                    [{\u001b[38;5;124m'\u001b[39m\u001b[38;5;124mseamark:type\u001b[39m\u001b[38;5;124m'\u001b[39m: \u001b[38;5;124m'\u001b[39m\u001b[38;5;124mbuoy_cardinal\u001b[39m\u001b[38;5;124m'\u001b[39m},Point(\u001b[38;5;241m12.01631\u001b[39m, \u001b[38;5;241m48.92595\u001b[39m)],\n\u001b[1;32m      5\u001b[0m                    [{\u001b[38;5;124m'\u001b[39m\u001b[38;5;124mseamark:type\u001b[39m\u001b[38;5;124m'\u001b[39m: \u001b[38;5;124m'\u001b[39m\u001b[38;5;124mseparation_boundary\u001b[39m\u001b[38;5;124m'\u001b[39m},Point(\u001b[38;5;241m12.01631\u001b[39m, \u001b[38;5;241m48.92595\u001b[39m)],\n\u001b[1;32m      6\u001b[0m                    [{\u001b[38;5;124m'\u001b[39m\u001b[38;5;124mseamark:type\u001b[39m\u001b[38;5;124m'\u001b[39m: \u001b[38;5;124m'\u001b[39m\u001b[38;5;124mseparation_crossing\u001b[39m\u001b[38;5;124m'\u001b[39m},Point(\u001b[38;5;241m12.01631\u001b[39m, \u001b[38;5;241m48.92595\u001b[39m)],\n\u001b[1;32m      7\u001b[0m                    [{\u001b[38;5;124m'\u001b[39m\u001b[38;5;124mseamark:type\u001b[39m\u001b[38;5;124m'\u001b[39m: \u001b[38;5;124m'\u001b[39m\u001b[38;5;124mseparation_lane\u001b[39m\u001b[38;5;124m'\u001b[39m},Point(\u001b[38;5;241m12.01631\u001b[39m, \u001b[38;5;241m48.92595\u001b[39m)],\n\u001b[1;32m      8\u001b[0m                    [{\u001b[38;5;124m'\u001b[39m\u001b[38;5;124mseamark:type\u001b[39m\u001b[38;5;124m'\u001b[39m: \u001b[38;5;124m'\u001b[39m\u001b[38;5;124mseparation_roundabout\u001b[39m\u001b[38;5;124m'\u001b[39m},Point(\u001b[38;5;241m12.01631\u001b[39m, \u001b[38;5;241m48.92595\u001b[39m)],\n\u001b[1;32m      9\u001b[0m                    [{\u001b[38;5;124m'\u001b[39m\u001b[38;5;124mseamark:type\u001b[39m\u001b[38;5;124m'\u001b[39m: \u001b[38;5;124m'\u001b[39m\u001b[38;5;124mseparation_zone\u001b[39m\u001b[38;5;124m'\u001b[39m},Point(\u001b[38;5;241m12.01631\u001b[39m, \u001b[38;5;241m48.92595\u001b[39m)],\n\u001b[1;32m     10\u001b[0m                    [{\u001b[38;5;124m'\u001b[39m\u001b[38;5;124mseamark:type\u001b[39m\u001b[38;5;124m'\u001b[39m: \u001b[38;5;124m'\u001b[39m\u001b[38;5;124mrestricted_area\u001b[39m\u001b[38;5;124m'\u001b[39m},Point(\u001b[38;5;241m12.01631\u001b[39m, \u001b[38;5;241m48.92595\u001b[39m)],\n\u001b[1;32m     11\u001b[0m                   ])\n",
      "\u001b[0;31mNameError\u001b[0m: name 'Point' is not defined"
     ]
    }
   ],
   "source": [
    "test_nodes_gdf = gpd.GeoDataFrame(columns=['tags', 'geometry'],\n",
    "             data=[[{'waterway': 'lock_gate', 'seamark:type': 'gate'},Point(5, 15)],\n",
    "                   [{'seamark:type': 'harbour'},Point(9.91950, 57.06081)],\n",
    "                   [{'seamark:type': 'buoy_cardinal'},Point(12.01631, 48.92595)],\n",
    "                   [{'seamark:type': 'separation_boundary'},Point(12.01631, 48.92595)],\n",
    "                   [{'seamark:type': 'separation_crossing'},Point(12.01631, 48.92595)],\n",
    "                   [{'seamark:type': 'separation_lane'},Point(12.01631, 48.92595)],\n",
    "                   [{'seamark:type': 'separation_roundabout'},Point(12.01631, 48.92595)],\n",
    "                   [{'seamark:type': 'separation_zone'},Point(12.01631, 48.92595)],\n",
    "                   [{'seamark:type': 'restricted_area'},Point(12.01631, 48.92595)],\n",
    "                  ])\n"
   ]
  },
  {
   "cell_type": "code",
   "execution_count": null,
   "id": "979ca5df",
   "metadata": {},
   "outputs": [],
   "source": [
    "test_nodes_gdf = gpd.GeoDataFrame(columns=['tags', 'geometry'],\n",
    "             data=[[{'waterway': 'lock_gate', 'seamark:type': 'gate'},Point(5, 15)],\n",
    "                   [{'seamark:type': 'harbour'},Point(9.91950, 57.06081)],\n",
    "                   [{'seamark:type': 'buoy_cardinal'},Point(12.01631, 48.92595)],\n",
    "                   [{'seamark:type': 'separation_boundary'},Point(12.01631, 48.92595)],\n",
    "                   [{'seamark:type': 'separation_crossing'},Point(12.01631, 48.92595)],\n",
    "                   [{'seamark:type': 'separation_lane'},Point(12.01631, 48.92595)],\n",
    "                   [{'seamark:type': 'separation_roundabout'},Point(12.01631, 48.92595)],\n",
    "                   [{'seamark:type': 'separation_zone'},Point(12.01631, 48.92595)],\n",
    "                   [{'seamark:type': 'restricted_area'},Point(12.01631, 48.92595)],\n",
    "                  ])\n"
   ]
  },
  {
   "cell_type": "code",
   "execution_count": null,
   "id": "4b3f623d",
   "metadata": {},
   "outputs": [],
   "source": [
    "ways_gdf = gpd.GeoDataFrame(columns=['tags', 'geometry'],\n",
    "             data=[\n",
    "                   [{'seamark:type': 'separation_boundary'},LineString([(3.2738333, 51.8765), (3.154833, 51.853667)])],\n",
    "                   [{'seamark:type': 'separation_crossing'},LineString([(6.3732417, 54.192091), (6.3593333, 54.1919199),(6.3310833, 54.1905871), (6.3182992, 54.189601)])],\n",
    "                   [{'seamark:type': 'separation_lane'},LineString([(24.6575999, 59.6085725), (24.7026512, 59.5505585)])],\n",
    "                   [{'seamark:type': 'separation_roundabout'},LineString([(27.9974563, 43.186327), (27.998524, 43.1864565),(27.9995173, 43.186412), (28.0012373, 43.1859232), (28.0020059, 43.1854689), (28.0025203, 43.1850186),(28.0029253, 43.1845006), (28.0032216, 43.1838693),(27.9947856, 43.1813859), (27.9944414, 43.1819034),(27.9941705, 43.1826993), (27.9941723, 43.1835194),(27.9944142, 43.1842511), (27.9947709, 43.1848037),(27.9953623, 43.1853841), (27.9961109, 43.1858589),(27.9974563, 43.186327)])],\n",
    "                   [{'seamark:type': 'separation_zone'},LineString([(-1.9830398, 49.2927514), (-1.9830233, 49.2925889), (-1.9828257, 49.2924815), (-1.9827145, 49.2925089),(-1.9828543, 49.2927771), (-1.9830398, 49.2927514)])],\n",
    "                   [{'seamark:type': 'restricted_area'},LineString([(12.3569916, 47.9186626), (12.3567217, 47.9188108),(12.3564934, 47.9189565), (12.3564734, 47.9191199),(12.3565413, 47.9192803), (12.3568636, 47.919524),(12.3571719, 47.9196858), (12.3575482, 47.9197593),(12.3579399, 47.9198024), (12.3587152, 47.9200541),(12.3594448, 47.9203064), (12.3596907, 47.9203917),(12.3599993, 47.9204654), (12.3604107, 47.9205391),(12.3608174, 47.9205554), (12.3610279, 47.9205224),(12.3612053, 47.9204511), (12.3614394, 47.9201326),(12.3616484, 47.9198195), (12.3616249, 47.9196335),(12.361631, 47.9194503), (12.3616174, 47.9193071),(12.36156, 47.9192435), (12.3614394, 47.9191936),(12.3611173, 47.9191633), (12.3609535, 47.9190676),(12.3607335, 47.9189749), (12.3604259, 47.918891),(12.3595763, 47.9187613), (12.3587674, 47.9185358),(12.3584371, 47.9183784), (12.3582044, 47.9182997),(12.3579056, 47.918306), (12.3576587, 47.9183381),(12.3573105, 47.9184692), (12.3569916, 47.9186626)])],\n",
    "                  ])\n",
    "\n",
    "ways_gdf"
   ]
  },
  {
   "cell_type": "code",
   "execution_count": 112,
   "id": "c66b3983",
   "metadata": {},
   "outputs": [
    {
     "ename": "ValueError",
     "evalue": "dictionary update sequence element #0 has length 1; 2 is required",
     "output_type": "error",
     "traceback": [
      "\u001b[0;31m---------------------------------------------------------------------------\u001b[0m",
      "\u001b[0;31mValueError\u001b[0m                                Traceback (most recent call last)",
      "Cell \u001b[0;32mIn[112], line 1\u001b[0m\n\u001b[0;32m----> 1\u001b[0m \u001b[38;5;28mtype\u001b[39m(\u001b[38;5;28;43mdict\u001b[39;49m\u001b[43m(\u001b[49m\u001b[43mtest_nodes_gdf\u001b[49m\u001b[43m[\u001b[49m\u001b[38;5;124;43m'\u001b[39;49m\u001b[38;5;124;43mtags\u001b[39;49m\u001b[38;5;124;43m'\u001b[39;49m\u001b[43m]\u001b[49m\u001b[38;5;241;43m.\u001b[39;49m\u001b[43miloc\u001b[49m\u001b[43m[\u001b[49m\u001b[38;5;241;43m0\u001b[39;49m\u001b[43m]\u001b[49m\u001b[43m)\u001b[49m)\n",
      "\u001b[0;31mValueError\u001b[0m: dictionary update sequence element #0 has length 1; 2 is required"
     ]
    }
   ],
   "source": [
    "type(dict(test_nodes_gdf['tags'].iloc[0]))"
   ]
  },
  {
   "cell_type": "code",
   "execution_count": null,
   "id": "913433f1",
   "metadata": {},
   "outputs": [],
   "source": [
    "from sqlalchemy import create_engine\n",
    "engine = create_engine(\"sqlite:///gdfDB.db\")"
   ]
  },
  {
   "cell_type": "code",
   "execution_count": null,
   "id": "1534de42",
   "metadata": {},
   "outputs": [],
   "source": [
    "test_nodes_gdf.to_file(\"gdfDB.db\",driver='SQLite', spatialite=True, layer='nodes')"
   ]
  },
  {
   "cell_type": "code",
   "execution_count": null,
   "id": "8460ae40",
   "metadata": {},
   "outputs": [],
   "source": [
    "ways_gdf.to_file(\"gdfDB.db\",driver='SQLite', spatialite=True, layer='ways')"
   ]
  },
  {
   "cell_type": "code",
   "execution_count": null,
   "id": "a60ce970",
   "metadata": {},
   "outputs": [],
   "source": [
    "node1 =gpd.read_postgis('select *,geometry as geom from nodes',con=engine,geom_col=\"geom\").drop(['GEOMETRY'],axis=1)\n"
   ]
  },
  {
   "cell_type": "code",
   "execution_count": null,
   "id": "e27547be",
   "metadata": {},
   "outputs": [],
   "source": [
    "ways1 = gpd.read_postgis('select *,geometry as geom from ways',con=engine,geom_col=\"geom\").drop(['GEOMETRY'],axis=1)\n"
   ]
  },
  {
   "cell_type": "code",
   "execution_count": null,
   "id": "158f7aa1",
   "metadata": {},
   "outputs": [],
   "source": [
    "pd.concat([node1,ways1])"
   ]
  },
  {
   "cell_type": "code",
   "execution_count": null,
   "id": "4f7c1625",
   "metadata": {},
   "outputs": [],
   "source": []
  },
  {
   "cell_type": "code",
   "execution_count": 133,
   "id": "18cbf5e3",
   "metadata": {},
   "outputs": [
    {
     "ename": "ValueError",
     "evalue": "dictionary update sequence element #0 has length 1; 2 is required",
     "output_type": "error",
     "traceback": [
      "\u001b[0;31m---------------------------------------------------------------------------\u001b[0m",
      "\u001b[0;31mValueError\u001b[0m                                Traceback (most recent call last)",
      "Cell \u001b[0;32mIn[133], line 1\u001b[0m\n\u001b[0;32m----> 1\u001b[0m \u001b[43msd\u001b[49m\u001b[43m[\u001b[49m\u001b[38;5;124;43m'\u001b[39;49m\u001b[38;5;124;43mtags\u001b[39;49m\u001b[38;5;124;43m'\u001b[39;49m\u001b[43m]\u001b[49m\u001b[38;5;241;43m.\u001b[39;49m\u001b[43mapply\u001b[49m\u001b[43m(\u001b[49m\u001b[38;5;28;43;01mlambda\u001b[39;49;00m\u001b[43m \u001b[49m\u001b[43mx\u001b[49m\u001b[43m:\u001b[49m\u001b[43m \u001b[49m\u001b[38;5;28;43mdict\u001b[39;49m\u001b[43m(\u001b[49m\u001b[43mx\u001b[49m\u001b[43m)\u001b[49m\u001b[43m)\u001b[49m\n",
      "File \u001b[0;32m~/projects/maridata/MariGeoRoute/data/OpenSeaMap/venv/lib/python3.10/site-packages/pandas/core/series.py:4626\u001b[0m, in \u001b[0;36mSeries.apply\u001b[0;34m(self, func, convert_dtype, args, **kwargs)\u001b[0m\n\u001b[1;32m   4516\u001b[0m \u001b[38;5;28;01mdef\u001b[39;00m \u001b[38;5;21mapply\u001b[39m(\n\u001b[1;32m   4517\u001b[0m     \u001b[38;5;28mself\u001b[39m,\n\u001b[1;32m   4518\u001b[0m     func: AggFuncType,\n\u001b[0;32m   (...)\u001b[0m\n\u001b[1;32m   4521\u001b[0m     \u001b[38;5;241m*\u001b[39m\u001b[38;5;241m*\u001b[39mkwargs,\n\u001b[1;32m   4522\u001b[0m ) \u001b[38;5;241m-\u001b[39m\u001b[38;5;241m>\u001b[39m DataFrame \u001b[38;5;241m|\u001b[39m Series:\n\u001b[1;32m   4523\u001b[0m \u001b[38;5;250m    \u001b[39m\u001b[38;5;124;03m\"\"\"\u001b[39;00m\n\u001b[1;32m   4524\u001b[0m \u001b[38;5;124;03m    Invoke function on values of Series.\u001b[39;00m\n\u001b[1;32m   4525\u001b[0m \n\u001b[0;32m   (...)\u001b[0m\n\u001b[1;32m   4624\u001b[0m \u001b[38;5;124;03m    dtype: float64\u001b[39;00m\n\u001b[1;32m   4625\u001b[0m \u001b[38;5;124;03m    \"\"\"\u001b[39;00m\n\u001b[0;32m-> 4626\u001b[0m     \u001b[38;5;28;01mreturn\u001b[39;00m \u001b[43mSeriesApply\u001b[49m\u001b[43m(\u001b[49m\u001b[38;5;28;43mself\u001b[39;49m\u001b[43m,\u001b[49m\u001b[43m \u001b[49m\u001b[43mfunc\u001b[49m\u001b[43m,\u001b[49m\u001b[43m \u001b[49m\u001b[43mconvert_dtype\u001b[49m\u001b[43m,\u001b[49m\u001b[43m \u001b[49m\u001b[43margs\u001b[49m\u001b[43m,\u001b[49m\u001b[43m \u001b[49m\u001b[43mkwargs\u001b[49m\u001b[43m)\u001b[49m\u001b[38;5;241;43m.\u001b[39;49m\u001b[43mapply\u001b[49m\u001b[43m(\u001b[49m\u001b[43m)\u001b[49m\n",
      "File \u001b[0;32m~/projects/maridata/MariGeoRoute/data/OpenSeaMap/venv/lib/python3.10/site-packages/pandas/core/apply.py:1025\u001b[0m, in \u001b[0;36mSeriesApply.apply\u001b[0;34m(self)\u001b[0m\n\u001b[1;32m   1022\u001b[0m     \u001b[38;5;28;01mreturn\u001b[39;00m \u001b[38;5;28mself\u001b[39m\u001b[38;5;241m.\u001b[39mapply_str()\n\u001b[1;32m   1024\u001b[0m \u001b[38;5;66;03m# self.f is Callable\u001b[39;00m\n\u001b[0;32m-> 1025\u001b[0m \u001b[38;5;28;01mreturn\u001b[39;00m \u001b[38;5;28;43mself\u001b[39;49m\u001b[38;5;241;43m.\u001b[39;49m\u001b[43mapply_standard\u001b[49m\u001b[43m(\u001b[49m\u001b[43m)\u001b[49m\n",
      "File \u001b[0;32m~/projects/maridata/MariGeoRoute/data/OpenSeaMap/venv/lib/python3.10/site-packages/pandas/core/apply.py:1076\u001b[0m, in \u001b[0;36mSeriesApply.apply_standard\u001b[0;34m(self)\u001b[0m\n\u001b[1;32m   1074\u001b[0m     \u001b[38;5;28;01melse\u001b[39;00m:\n\u001b[1;32m   1075\u001b[0m         values \u001b[38;5;241m=\u001b[39m obj\u001b[38;5;241m.\u001b[39mastype(\u001b[38;5;28mobject\u001b[39m)\u001b[38;5;241m.\u001b[39m_values\n\u001b[0;32m-> 1076\u001b[0m         mapped \u001b[38;5;241m=\u001b[39m \u001b[43mlib\u001b[49m\u001b[38;5;241;43m.\u001b[39;49m\u001b[43mmap_infer\u001b[49m\u001b[43m(\u001b[49m\n\u001b[1;32m   1077\u001b[0m \u001b[43m            \u001b[49m\u001b[43mvalues\u001b[49m\u001b[43m,\u001b[49m\n\u001b[1;32m   1078\u001b[0m \u001b[43m            \u001b[49m\u001b[43mf\u001b[49m\u001b[43m,\u001b[49m\n\u001b[1;32m   1079\u001b[0m \u001b[43m            \u001b[49m\u001b[43mconvert\u001b[49m\u001b[38;5;241;43m=\u001b[39;49m\u001b[38;5;28;43mself\u001b[39;49m\u001b[38;5;241;43m.\u001b[39;49m\u001b[43mconvert_dtype\u001b[49m\u001b[43m,\u001b[49m\n\u001b[1;32m   1080\u001b[0m \u001b[43m        \u001b[49m\u001b[43m)\u001b[49m\n\u001b[1;32m   1082\u001b[0m \u001b[38;5;28;01mif\u001b[39;00m \u001b[38;5;28mlen\u001b[39m(mapped) \u001b[38;5;129;01mand\u001b[39;00m \u001b[38;5;28misinstance\u001b[39m(mapped[\u001b[38;5;241m0\u001b[39m], ABCSeries):\n\u001b[1;32m   1083\u001b[0m     \u001b[38;5;66;03m# GH#43986 Need to do list(mapped) in order to get treated as nested\u001b[39;00m\n\u001b[1;32m   1084\u001b[0m     \u001b[38;5;66;03m#  See also GH#25959 regarding EA support\u001b[39;00m\n\u001b[1;32m   1085\u001b[0m     \u001b[38;5;28;01mreturn\u001b[39;00m obj\u001b[38;5;241m.\u001b[39m_constructor_expanddim(\u001b[38;5;28mlist\u001b[39m(mapped), index\u001b[38;5;241m=\u001b[39mobj\u001b[38;5;241m.\u001b[39mindex)\n",
      "File \u001b[0;32m~/projects/maridata/MariGeoRoute/data/OpenSeaMap/venv/lib/python3.10/site-packages/pandas/_libs/lib.pyx:2834\u001b[0m, in \u001b[0;36mpandas._libs.lib.map_infer\u001b[0;34m()\u001b[0m\n",
      "Cell \u001b[0;32mIn[133], line 1\u001b[0m, in \u001b[0;36m<lambda>\u001b[0;34m(x)\u001b[0m\n\u001b[0;32m----> 1\u001b[0m sd[\u001b[38;5;124m'\u001b[39m\u001b[38;5;124mtags\u001b[39m\u001b[38;5;124m'\u001b[39m]\u001b[38;5;241m.\u001b[39mapply(\u001b[38;5;28;01mlambda\u001b[39;00m x: \u001b[38;5;28;43mdict\u001b[39;49m\u001b[43m(\u001b[49m\u001b[43mx\u001b[49m\u001b[43m)\u001b[49m)\n",
      "\u001b[0;31mValueError\u001b[0m: dictionary update sequence element #0 has length 1; 2 is required"
     ]
    }
   ],
   "source": [
    "sd['tags'].apply(lambda x: dict(x))"
   ]
  },
  {
   "cell_type": "code",
   "execution_count": 105,
   "id": "766c5bfd",
   "metadata": {},
   "outputs": [
    {
     "data": {
      "text/plain": [
       "str"
      ]
     },
     "execution_count": 105,
     "metadata": {},
     "output_type": "execute_result"
    }
   ],
   "source": [
    "type(sd['tags'].iloc[0])"
   ]
  },
  {
   "cell_type": "code",
   "execution_count": 135,
   "id": "29695b50",
   "metadata": {},
   "outputs": [],
   "source": [
    "seamark_object=['nodes']\n",
    "tags = ['separation_zone', 'separation_line', 'separation_lane', 'restricted_area' ,'separation_roundabout']\n",
    "seamark_list =['separation_zone','separation_line']"
   ]
  },
  {
   "cell_type": "code",
   "execution_count": null,
   "id": "9d824b7c",
   "metadata": {},
   "outputs": [],
   "source": [
    "def check_type(gdf):\n",
    "    if "
   ]
  },
  {
   "cell_type": "code",
   "execution_count": 143,
   "id": "4b405c33",
   "metadata": {},
   "outputs": [
    {
     "data": {
      "text/html": [
       "<div>\n",
       "<style scoped>\n",
       "    .dataframe tbody tr th:only-of-type {\n",
       "        vertical-align: middle;\n",
       "    }\n",
       "\n",
       "    .dataframe tbody tr th {\n",
       "        vertical-align: top;\n",
       "    }\n",
       "\n",
       "    .dataframe thead th {\n",
       "        text-align: right;\n",
       "    }\n",
       "</style>\n",
       "<table border=\"1\" class=\"dataframe\">\n",
       "  <thead>\n",
       "    <tr style=\"text-align: right;\">\n",
       "      <th></th>\n",
       "      <th>id</th>\n",
       "      <th>version</th>\n",
       "      <th>user_id</th>\n",
       "      <th>tstamp</th>\n",
       "      <th>changeset_id</th>\n",
       "      <th>tags</th>\n",
       "      <th>geom</th>\n",
       "      <th>geometry</th>\n",
       "    </tr>\n",
       "  </thead>\n",
       "  <tbody>\n",
       "    <tr>\n",
       "      <th>1482964</th>\n",
       "      <td>7233992189</td>\n",
       "      <td>1</td>\n",
       "      <td>78466</td>\n",
       "      <td>2020-02-21 20:00:11</td>\n",
       "      <td>81331358</td>\n",
       "      <td>{'name': 'TSS Fladen', 'seamark:type': 'separa...</td>\n",
       "      <td>0101000020E61000003804D89134C52740A4703D0AD79B...</td>\n",
       "      <td>POINT (11.88517 57.21750)</td>\n",
       "    </tr>\n",
       "    <tr>\n",
       "      <th>1482967</th>\n",
       "      <td>7233992287</td>\n",
       "      <td>1</td>\n",
       "      <td>78466</td>\n",
       "      <td>2020-02-21 20:00:10</td>\n",
       "      <td>81331358</td>\n",
       "      <td>{'name': 'TSS Fladen', 'seamark:type': 'separa...</td>\n",
       "      <td>0101000020E61000008D976E1283C02740B271B32E249D...</td>\n",
       "      <td>POINT (11.87600 57.22767)</td>\n",
       "    </tr>\n",
       "    <tr>\n",
       "      <th>1482968</th>\n",
       "      <td>7233992288</td>\n",
       "      <td>1</td>\n",
       "      <td>78466</td>\n",
       "      <td>2020-02-21 20:00:12</td>\n",
       "      <td>81331358</td>\n",
       "      <td>{'name': 'TSS Fladen', 'seamark:type': 'separa...</td>\n",
       "      <td>0101000020E61000009D741195FCC227406A90381A769D...</td>\n",
       "      <td>POINT (11.88083 57.23017)</td>\n",
       "    </tr>\n",
       "    <tr>\n",
       "      <th>1482969</th>\n",
       "      <td>7233992289</td>\n",
       "      <td>1</td>\n",
       "      <td>78466</td>\n",
       "      <td>2020-02-21 20:00:13</td>\n",
       "      <td>81331358</td>\n",
       "      <td>{'name': 'TSS Fladen', 'seamark:type': 'separa...</td>\n",
       "      <td>0101000020E610000036D9507B5BB62740CB75093D519F...</td>\n",
       "      <td>POINT (11.85617 57.24467)</td>\n",
       "    </tr>\n",
       "    <tr>\n",
       "      <th>1482970</th>\n",
       "      <td>7233992585</td>\n",
       "      <td>1</td>\n",
       "      <td>78466</td>\n",
       "      <td>2020-02-21 20:00:09</td>\n",
       "      <td>81331358</td>\n",
       "      <td>{'name': 'TSS Fladen', 'seamark:type': 'separa...</td>\n",
       "      <td>0101000020E6100000D4FD52F5E1B3274012578451FF9E...</td>\n",
       "      <td>POINT (11.85133 57.24217)</td>\n",
       "    </tr>\n",
       "    <tr>\n",
       "      <th>1482971</th>\n",
       "      <td>7233992586</td>\n",
       "      <td>1</td>\n",
       "      <td>78466</td>\n",
       "      <td>2020-02-21 20:00:12</td>\n",
       "      <td>81331358</td>\n",
       "      <td>{'name': 'TSS Fladen', 'seamark:type': 'separa...</td>\n",
       "      <td>0101000020E61000009CC420B072C82740B49C3A45FD9B...</td>\n",
       "      <td>POINT (11.89150 57.21867)</td>\n",
       "    </tr>\n",
       "  </tbody>\n",
       "</table>\n",
       "</div>"
      ],
      "text/plain": [
       "                 id  version  user_id               tstamp  changeset_id   \n",
       "1482964  7233992189        1    78466  2020-02-21 20:00:11      81331358  \\\n",
       "1482967  7233992287        1    78466  2020-02-21 20:00:10      81331358   \n",
       "1482968  7233992288        1    78466  2020-02-21 20:00:12      81331358   \n",
       "1482969  7233992289        1    78466  2020-02-21 20:00:13      81331358   \n",
       "1482970  7233992585        1    78466  2020-02-21 20:00:09      81331358   \n",
       "1482971  7233992586        1    78466  2020-02-21 20:00:12      81331358   \n",
       "\n",
       "                                                      tags   \n",
       "1482964  {'name': 'TSS Fladen', 'seamark:type': 'separa...  \\\n",
       "1482967  {'name': 'TSS Fladen', 'seamark:type': 'separa...   \n",
       "1482968  {'name': 'TSS Fladen', 'seamark:type': 'separa...   \n",
       "1482969  {'name': 'TSS Fladen', 'seamark:type': 'separa...   \n",
       "1482970  {'name': 'TSS Fladen', 'seamark:type': 'separa...   \n",
       "1482971  {'name': 'TSS Fladen', 'seamark:type': 'separa...   \n",
       "\n",
       "                                                      geom   \n",
       "1482964  0101000020E61000003804D89134C52740A4703D0AD79B...  \\\n",
       "1482967  0101000020E61000008D976E1283C02740B271B32E249D...   \n",
       "1482968  0101000020E61000009D741195FCC227406A90381A769D...   \n",
       "1482969  0101000020E610000036D9507B5BB62740CB75093D519F...   \n",
       "1482970  0101000020E6100000D4FD52F5E1B3274012578451FF9E...   \n",
       "1482971  0101000020E61000009CC420B072C82740B49C3A45FD9B...   \n",
       "\n",
       "                          geometry  \n",
       "1482964  POINT (11.88517 57.21750)  \n",
       "1482967  POINT (11.87600 57.22767)  \n",
       "1482968  POINT (11.88083 57.23017)  \n",
       "1482969  POINT (11.85617 57.24467)  \n",
       "1482970  POINT (11.85133 57.24217)  \n",
       "1482971  POINT (11.89150 57.21867)  "
      ]
     },
     "execution_count": 143,
     "metadata": {},
     "output_type": "execute_result"
    }
   ],
   "source": [
    "import ast\n",
    "\n",
    "if (\"nodes\" in seamark_object) and all(element in tags for element in seamark_list):\n",
    "    gdf_test = table_list_gdf_nodes2#gpd.read_postgis('select *,geometry as geom from nodes',con=engine,geom_col=\"geom\").drop(['GEOMETRY'],axis=1)#test_nodes_gdf#self.query_nodes(engine,query)\n",
    "    #gdf_test['tags']=gdf_test['tags'].apply(ast.literal_eval)\n",
    "    gdf_list = []\n",
    "    \n",
    "    \n",
    "    for i in range(0, len(seamark_list)):\n",
    "        if type(gdf_test['tags'][i]) == str:\n",
    "            gdf_test['tags']=gdf_test['tags'].apply(ast.literal_eval)\n",
    "            gdf1 = gdf_test[gdf_test['tags'].apply(lambda x: seamark_list[i] in x.values())]\n",
    "            gdf_list.append(gdf1)\n",
    "        else:\n",
    "            gdf1 = gdf_test[gdf_test['tags'].apply(lambda x: seamark_list[i] in x.values())]\n",
    "            gdf_list.append(gdf1)\n",
    "    gdf_concat = pd.concat(gdf_list)\n",
    "\n",
    "\n",
    "\n",
    "gdf_concat"
   ]
  },
  {
   "cell_type": "code",
   "execution_count": 64,
   "id": "1ad5514d",
   "metadata": {},
   "outputs": [
    {
     "data": {
      "text/html": [
       "<div>\n",
       "<style scoped>\n",
       "    .dataframe tbody tr th:only-of-type {\n",
       "        vertical-align: middle;\n",
       "    }\n",
       "\n",
       "    .dataframe tbody tr th {\n",
       "        vertical-align: top;\n",
       "    }\n",
       "\n",
       "    .dataframe thead th {\n",
       "        text-align: right;\n",
       "    }\n",
       "</style>\n",
       "<table border=\"1\" class=\"dataframe\">\n",
       "  <thead>\n",
       "    <tr style=\"text-align: right;\">\n",
       "      <th></th>\n",
       "      <th>tags</th>\n",
       "      <th>geometry</th>\n",
       "    </tr>\n",
       "  </thead>\n",
       "  <tbody>\n",
       "    <tr>\n",
       "      <th>7</th>\n",
       "      <td>{'seamark:type': 'separation_zone'}</td>\n",
       "      <td>POINT (12.01631 48.92595)</td>\n",
       "    </tr>\n",
       "  </tbody>\n",
       "</table>\n",
       "</div>"
      ],
      "text/plain": [
       "                                  tags                   geometry\n",
       "7  {'seamark:type': 'separation_zone'}  POINT (12.01631 48.92595)"
      ]
     },
     "execution_count": 64,
     "metadata": {},
     "output_type": "execute_result"
    }
   ],
   "source": [
    "gdf_concat"
   ]
  },
  {
   "cell_type": "code",
   "execution_count": 56,
   "id": "aaf44deb",
   "metadata": {},
   "outputs": [
    {
     "data": {
      "text/plain": [
       "[                                  tags                   geometry\n",
       " 7  {'seamark:type': 'separation_zone'}  POINT (12.01631 48.92595),\n",
       " Empty GeoDataFrame\n",
       " Columns: [tags, geometry]\n",
       " Index: []]"
      ]
     },
     "execution_count": 56,
     "metadata": {},
     "output_type": "execute_result"
    }
   ],
   "source": [
    "gdf_list"
   ]
  },
  {
   "cell_type": "code",
   "execution_count": 48,
   "id": "829d67f7",
   "metadata": {},
   "outputs": [
    {
     "data": {
      "text/plain": [
       "dict"
      ]
     },
     "execution_count": 48,
     "metadata": {},
     "output_type": "execute_result"
    }
   ],
   "source": [
    "type(test_nodes_gdf['tags'][0])"
   ]
  },
  {
   "cell_type": "code",
   "execution_count": 144,
   "id": "86f1199e",
   "metadata": {},
   "outputs": [
    {
     "data": {
      "text/html": [
       "<div>\n",
       "<style scoped>\n",
       "    .dataframe tbody tr th:only-of-type {\n",
       "        vertical-align: middle;\n",
       "    }\n",
       "\n",
       "    .dataframe tbody tr th {\n",
       "        vertical-align: top;\n",
       "    }\n",
       "\n",
       "    .dataframe thead th {\n",
       "        text-align: right;\n",
       "    }\n",
       "</style>\n",
       "<table border=\"1\" class=\"dataframe\">\n",
       "  <thead>\n",
       "    <tr style=\"text-align: right;\">\n",
       "      <th></th>\n",
       "      <th>id</th>\n",
       "      <th>version</th>\n",
       "      <th>user_id</th>\n",
       "      <th>tstamp</th>\n",
       "      <th>changeset_id</th>\n",
       "      <th>tags</th>\n",
       "      <th>geom</th>\n",
       "      <th>geometry</th>\n",
       "      <th>nodes</th>\n",
       "      <th>linestring</th>\n",
       "    </tr>\n",
       "  </thead>\n",
       "  <tbody>\n",
       "    <tr>\n",
       "      <th>0</th>\n",
       "      <td>106904</td>\n",
       "      <td>5</td>\n",
       "      <td>4948143</td>\n",
       "      <td>2020-06-15 19:23:35</td>\n",
       "      <td>86684855</td>\n",
       "      <td>{'waterway': 'lock_gate', 'seamark:type': 'gate'}</td>\n",
       "      <td>0101000020E61000000E1714611E8DA2BF53FBBEC980C2...</td>\n",
       "      <td>POINT (-0.03623 51.51956)</td>\n",
       "      <td>NaN</td>\n",
       "      <td>NaN</td>\n",
       "    </tr>\n",
       "    <tr>\n",
       "      <th>1</th>\n",
       "      <td>108735</td>\n",
       "      <td>6</td>\n",
       "      <td>4948143</td>\n",
       "      <td>2020-06-15 19:23:35</td>\n",
       "      <td>86684855</td>\n",
       "      <td>{'waterway': 'lock_gate', 'seamark:type': 'gate'}</td>\n",
       "      <td>0101000020E61000007FA6B9707BDDA1BF3EDC1F39E3C1...</td>\n",
       "      <td>POINT (-0.03489 51.51475)</td>\n",
       "      <td>NaN</td>\n",
       "      <td>NaN</td>\n",
       "    </tr>\n",
       "    <tr>\n",
       "      <th>2</th>\n",
       "      <td>110210</td>\n",
       "      <td>7</td>\n",
       "      <td>4948143</td>\n",
       "      <td>2020-06-15 19:23:35</td>\n",
       "      <td>86684855</td>\n",
       "      <td>{'waterway': 'lock_gate', 'seamark:type': 'gate'}</td>\n",
       "      <td>0101000020E6100000B12C3D3F3157A3BFAA4F28FA32C3...</td>\n",
       "      <td>POINT (-0.03777 51.52499)</td>\n",
       "      <td>NaN</td>\n",
       "      <td>NaN</td>\n",
       "    </tr>\n",
       "    <tr>\n",
       "      <th>3</th>\n",
       "      <td>142325</td>\n",
       "      <td>5</td>\n",
       "      <td>53773</td>\n",
       "      <td>2017-04-26 14:43:20</td>\n",
       "      <td>48165623</td>\n",
       "      <td>{}</td>\n",
       "      <td>0101000020E6100000969E44DF38A41840E3D3ADE8208F...</td>\n",
       "      <td>POINT (6.16037 49.11819)</td>\n",
       "      <td>NaN</td>\n",
       "      <td>NaN</td>\n",
       "    </tr>\n",
       "    <tr>\n",
       "      <th>4</th>\n",
       "      <td>148969</td>\n",
       "      <td>14</td>\n",
       "      <td>420980</td>\n",
       "      <td>2018-10-23 11:53:56</td>\n",
       "      <td>63792931</td>\n",
       "      <td>{}</td>\n",
       "      <td>0101000020E61000002651D43EC279264004CCD7C0B136...</td>\n",
       "      <td>POINT (11.23781 60.42730)</td>\n",
       "      <td>NaN</td>\n",
       "      <td>NaN</td>\n",
       "    </tr>\n",
       "    <tr>\n",
       "      <th>...</th>\n",
       "      <td>...</td>\n",
       "      <td>...</td>\n",
       "      <td>...</td>\n",
       "      <td>...</td>\n",
       "      <td>...</td>\n",
       "      <td>...</td>\n",
       "      <td>...</td>\n",
       "      <td>...</td>\n",
       "      <td>...</td>\n",
       "      <td>...</td>\n",
       "    </tr>\n",
       "    <tr>\n",
       "      <th>102503</th>\n",
       "      <td>1173235725</td>\n",
       "      <td>1</td>\n",
       "      <td>449569</td>\n",
       "      <td>2023-05-16 08:38:33</td>\n",
       "      <td>136157239</td>\n",
       "      <td>{'seamark:type': 'small_craft_facility', 'seam...</td>\n",
       "      <td>LINESTRING (-92.4506241 42.5399962, -92.450676...</td>\n",
       "      <td>None</td>\n",
       "      <td>[10901378809, 10901378833]</td>\n",
       "      <td>0102000020E61000000200000086127706D71C57C06D7B...</td>\n",
       "    </tr>\n",
       "    <tr>\n",
       "      <th>102504</th>\n",
       "      <td>1173235727</td>\n",
       "      <td>1</td>\n",
       "      <td>449569</td>\n",
       "      <td>2023-05-16 08:38:33</td>\n",
       "      <td>136157239</td>\n",
       "      <td>{'highway': 'service', 'seamark:type': 'small_...</td>\n",
       "      <td>LINESTRING (-92.4506056 42.5400255, -92.450624...</td>\n",
       "      <td>None</td>\n",
       "      <td>[10901378834, 10901378809]</td>\n",
       "      <td>0102000020E6100000020000003FD9DEB8D61C57C0C6C0...</td>\n",
       "    </tr>\n",
       "    <tr>\n",
       "      <th>102505</th>\n",
       "      <td>1173238209</td>\n",
       "      <td>1</td>\n",
       "      <td>449569</td>\n",
       "      <td>2023-05-16 08:51:33</td>\n",
       "      <td>136157823</td>\n",
       "      <td>{'seamark:type': 'small_craft_facility', 'seam...</td>\n",
       "      <td>LINESTRING (-92.4337828 42.5298889, -92.433710...</td>\n",
       "      <td>None</td>\n",
       "      <td>[10901366558, 10901366559]</td>\n",
       "      <td>0102000020E6100000020000004FE4EE18C31B57C0B801...</td>\n",
       "    </tr>\n",
       "    <tr>\n",
       "      <th>102506</th>\n",
       "      <td>1173400995</td>\n",
       "      <td>2</td>\n",
       "      <td>17531229</td>\n",
       "      <td>2023-05-16 17:31:40</td>\n",
       "      <td>136179862</td>\n",
       "      <td>{'name': 'Бейбарс Газ', 'building': 'yes', 'wa...</td>\n",
       "      <td>LINESTRING (69.4201454 42.4884203, 69.4202495 ...</td>\n",
       "      <td>None</td>\n",
       "      <td>[10902512013, 10902512014, 10902512015, 109025...</td>\n",
       "      <td>0102000020E610000005000000262488A9E35A5140EC99...</td>\n",
       "    </tr>\n",
       "    <tr>\n",
       "      <th>102507</th>\n",
       "      <td>1173517668</td>\n",
       "      <td>1</td>\n",
       "      <td>17432213</td>\n",
       "      <td>2023-05-16 21:19:55</td>\n",
       "      <td>136186724</td>\n",
       "      <td>{}</td>\n",
       "      <td>LINESTRING (-69.6456343 43.8472341, -69.645705...</td>\n",
       "      <td>None</td>\n",
       "      <td>[10579981789, 7744770366, 7744784587, 77447540...</td>\n",
       "      <td>0102000020E61000001300000041EB8612526951C02BC7...</td>\n",
       "    </tr>\n",
       "  </tbody>\n",
       "</table>\n",
       "<p>2201317 rows × 10 columns</p>\n",
       "</div>"
      ],
      "text/plain": [
       "                id  version   user_id               tstamp  changeset_id   \n",
       "0           106904        5   4948143  2020-06-15 19:23:35      86684855  \\\n",
       "1           108735        6   4948143  2020-06-15 19:23:35      86684855   \n",
       "2           110210        7   4948143  2020-06-15 19:23:35      86684855   \n",
       "3           142325        5     53773  2017-04-26 14:43:20      48165623   \n",
       "4           148969       14    420980  2018-10-23 11:53:56      63792931   \n",
       "...            ...      ...       ...                  ...           ...   \n",
       "102503  1173235725        1    449569  2023-05-16 08:38:33     136157239   \n",
       "102504  1173235727        1    449569  2023-05-16 08:38:33     136157239   \n",
       "102505  1173238209        1    449569  2023-05-16 08:51:33     136157823   \n",
       "102506  1173400995        2  17531229  2023-05-16 17:31:40     136179862   \n",
       "102507  1173517668        1  17432213  2023-05-16 21:19:55     136186724   \n",
       "\n",
       "                                                     tags   \n",
       "0       {'waterway': 'lock_gate', 'seamark:type': 'gate'}  \\\n",
       "1       {'waterway': 'lock_gate', 'seamark:type': 'gate'}   \n",
       "2       {'waterway': 'lock_gate', 'seamark:type': 'gate'}   \n",
       "3                                                      {}   \n",
       "4                                                      {}   \n",
       "...                                                   ...   \n",
       "102503  {'seamark:type': 'small_craft_facility', 'seam...   \n",
       "102504  {'highway': 'service', 'seamark:type': 'small_...   \n",
       "102505  {'seamark:type': 'small_craft_facility', 'seam...   \n",
       "102506  {'name': 'Бейбарс Газ', 'building': 'yes', 'wa...   \n",
       "102507                                                 {}   \n",
       "\n",
       "                                                     geom   \n",
       "0       0101000020E61000000E1714611E8DA2BF53FBBEC980C2...  \\\n",
       "1       0101000020E61000007FA6B9707BDDA1BF3EDC1F39E3C1...   \n",
       "2       0101000020E6100000B12C3D3F3157A3BFAA4F28FA32C3...   \n",
       "3       0101000020E6100000969E44DF38A41840E3D3ADE8208F...   \n",
       "4       0101000020E61000002651D43EC279264004CCD7C0B136...   \n",
       "...                                                   ...   \n",
       "102503  LINESTRING (-92.4506241 42.5399962, -92.450676...   \n",
       "102504  LINESTRING (-92.4506056 42.5400255, -92.450624...   \n",
       "102505  LINESTRING (-92.4337828 42.5298889, -92.433710...   \n",
       "102506  LINESTRING (69.4201454 42.4884203, 69.4202495 ...   \n",
       "102507  LINESTRING (-69.6456343 43.8472341, -69.645705...   \n",
       "\n",
       "                         geometry   \n",
       "0       POINT (-0.03623 51.51956)  \\\n",
       "1       POINT (-0.03489 51.51475)   \n",
       "2       POINT (-0.03777 51.52499)   \n",
       "3        POINT (6.16037 49.11819)   \n",
       "4       POINT (11.23781 60.42730)   \n",
       "...                           ...   \n",
       "102503                       None   \n",
       "102504                       None   \n",
       "102505                       None   \n",
       "102506                       None   \n",
       "102507                       None   \n",
       "\n",
       "                                                    nodes   \n",
       "0                                                     NaN  \\\n",
       "1                                                     NaN   \n",
       "2                                                     NaN   \n",
       "3                                                     NaN   \n",
       "4                                                     NaN   \n",
       "...                                                   ...   \n",
       "102503                         [10901378809, 10901378833]   \n",
       "102504                         [10901378834, 10901378809]   \n",
       "102505                         [10901366558, 10901366559]   \n",
       "102506  [10902512013, 10902512014, 10902512015, 109025...   \n",
       "102507  [10579981789, 7744770366, 7744784587, 77447540...   \n",
       "\n",
       "                                               linestring  \n",
       "0                                                     NaN  \n",
       "1                                                     NaN  \n",
       "2                                                     NaN  \n",
       "3                                                     NaN  \n",
       "4                                                     NaN  \n",
       "...                                                   ...  \n",
       "102503  0102000020E61000000200000086127706D71C57C06D7B...  \n",
       "102504  0102000020E6100000020000003FD9DEB8D61C57C0C6C0...  \n",
       "102505  0102000020E6100000020000004FE4EE18C31B57C0B801...  \n",
       "102506  0102000020E610000005000000262488A9E35A5140EC99...  \n",
       "102507  0102000020E61000001300000041EB8612526951C02BC7...  \n",
       "\n",
       "[2201317 rows x 10 columns]"
      ]
     },
     "execution_count": 144,
     "metadata": {},
     "output_type": "execute_result"
    }
   ],
   "source": [
    "pd.concat([table_list_gdf_nodes2, table_list_gdf_ways2])"
   ]
  },
  {
   "cell_type": "code",
   "execution_count": 15,
   "id": "83795ec0",
   "metadata": {},
   "outputs": [],
   "source": [
    "def gdf_seamark_combined(seamark_object, seamark_list):\n",
    "    '''Create new GeoDataFrame with different seamark tags\n",
    "\n",
    "    Parameters\n",
    "    ----------\n",
    "\n",
    "    gdf : GeoDataFrame\n",
    "        GeoDataFrame of all the public.ways (query_ways()) and public.nodes (query_nodes())\n",
    "\n",
    "    seamark_object : str\n",
    "        nodes or ways table name\n",
    "\n",
    "    seamark_list : list\n",
    "        list of all the tags that must be overlayed together\n",
    "    '''\n",
    "    \n",
    "    \n",
    "    tags = ['separation_zone', 'separation_line', 'separation_lane', 'restricted_area' ,'separation_roundabout']\n",
    "    \n",
    "    gdf_concat = gpd.GeoDataFrame()\n",
    "    \n",
    "    if ('nodes' in seamark_object) and (seamark_list in tags):\n",
    "        gdf = table_list_gdf_nodes2\n",
    "        gdf_list = []\n",
    "        for i in range(0, len(seamark_list)):\n",
    "            gdf = gdf[gdf['tags'].apply(lambda x: seamark_list[i] in x.values())]\n",
    "            gdf_list.append(gdf)\n",
    "        gdf_concat = pd.concat(gdf_list)\n",
    "        \n",
    "    return gdf_concat\n"
   ]
  },
  {
   "cell_type": "code",
   "execution_count": 16,
   "id": "b6940c83",
   "metadata": {},
   "outputs": [
    {
     "data": {
      "text/html": [
       "<div>\n",
       "<style scoped>\n",
       "    .dataframe tbody tr th:only-of-type {\n",
       "        vertical-align: middle;\n",
       "    }\n",
       "\n",
       "    .dataframe tbody tr th {\n",
       "        vertical-align: top;\n",
       "    }\n",
       "\n",
       "    .dataframe thead th {\n",
       "        text-align: right;\n",
       "    }\n",
       "</style>\n",
       "<table border=\"1\" class=\"dataframe\">\n",
       "  <thead>\n",
       "    <tr style=\"text-align: right;\">\n",
       "      <th></th>\n",
       "    </tr>\n",
       "  </thead>\n",
       "  <tbody>\n",
       "  </tbody>\n",
       "</table>\n",
       "</div>"
      ],
      "text/plain": [
       "Empty GeoDataFrame\n",
       "Columns: []\n",
       "Index: []"
      ]
     },
     "execution_count": 16,
     "metadata": {},
     "output_type": "execute_result"
    }
   ],
   "source": [
    "gdf_seamark_combined(seamark_object='nodes', seamark_list=['separation_line','separation_zone'])"
   ]
  },
  {
   "cell_type": "code",
   "execution_count": 28,
   "id": "e595108d",
   "metadata": {},
   "outputs": [
    {
     "data": {
      "text/html": [
       "<div>\n",
       "<style scoped>\n",
       "    .dataframe tbody tr th:only-of-type {\n",
       "        vertical-align: middle;\n",
       "    }\n",
       "\n",
       "    .dataframe tbody tr th {\n",
       "        vertical-align: top;\n",
       "    }\n",
       "\n",
       "    .dataframe thead th {\n",
       "        text-align: right;\n",
       "    }\n",
       "</style>\n",
       "<table border=\"1\" class=\"dataframe\">\n",
       "  <thead>\n",
       "    <tr style=\"text-align: right;\">\n",
       "      <th></th>\n",
       "      <th>tags</th>\n",
       "      <th>geometry</th>\n",
       "    </tr>\n",
       "  </thead>\n",
       "  <tbody>\n",
       "    <tr>\n",
       "      <th>0</th>\n",
       "      <td>{'seamark:type': 'separation_line'}</td>\n",
       "      <td>POINT (1.00000 2.00000)</td>\n",
       "    </tr>\n",
       "    <tr>\n",
       "      <th>0</th>\n",
       "      <td>{'seamark:type': 'separation_lane'}</td>\n",
       "      <td>POINT (6.00000 2.00000)</td>\n",
       "    </tr>\n",
       "  </tbody>\n",
       "</table>\n",
       "</div>"
      ],
      "text/plain": [
       "                                  tags                 geometry\n",
       "0  {'seamark:type': 'separation_line'}  POINT (1.00000 2.00000)\n",
       "0  {'seamark:type': 'separation_lane'}  POINT (6.00000 2.00000)"
      ]
     },
     "execution_count": 28,
     "metadata": {},
     "output_type": "execute_result"
    }
   ],
   "source": [
    "from shapely.geometry import Point \n",
    "#Creating dummy data\n",
    "point1 = {\"tags\": [{'seamark:type':'separation_line'}], \"geometry\": [Point(1, 2)]}\n",
    "point1_df = gpd.GeoDataFrame(point1)\n",
    "point2 = {\"tags\": [{'seamark:type':'separation_lane'}], \"geometry\": [Point(6, 2)]}\n",
    "point2_df = gpd.GeoDataFrame(point2)\n",
    "\n",
    "concat_df= pd.concat([point1_df, point2_df])\n",
    "\n",
    "concat_df"
   ]
  },
  {
   "cell_type": "code",
   "execution_count": 35,
   "id": "8ccc032e",
   "metadata": {},
   "outputs": [],
   "source": [
    "nodes_concat = gdf_seamark_combined(seamark_object=['nodes'], seamark_list=['separation_line','separation_zone'])"
   ]
  },
  {
   "cell_type": "code",
   "execution_count": 36,
   "id": "dc44f220",
   "metadata": {},
   "outputs": [
    {
     "data": {
      "text/html": [
       "<div>\n",
       "<style scoped>\n",
       "    .dataframe tbody tr th:only-of-type {\n",
       "        vertical-align: middle;\n",
       "    }\n",
       "\n",
       "    .dataframe tbody tr th {\n",
       "        vertical-align: top;\n",
       "    }\n",
       "\n",
       "    .dataframe thead th {\n",
       "        text-align: right;\n",
       "    }\n",
       "</style>\n",
       "<table border=\"1\" class=\"dataframe\">\n",
       "  <thead>\n",
       "    <tr style=\"text-align: right;\">\n",
       "      <th></th>\n",
       "    </tr>\n",
       "  </thead>\n",
       "  <tbody>\n",
       "  </tbody>\n",
       "</table>\n",
       "</div>"
      ],
      "text/plain": [
       "Empty GeoDataFrame\n",
       "Columns: []\n",
       "Index: []"
      ]
     },
     "execution_count": 36,
     "metadata": {},
     "output_type": "execute_result"
    }
   ],
   "source": [
    "nodes_concat"
   ]
  },
  {
   "cell_type": "code",
   "execution_count": 31,
   "id": "f5676c52",
   "metadata": {},
   "outputs": [
    {
     "ename": "KeyError",
     "evalue": "'tags'",
     "output_type": "error",
     "traceback": [
      "\u001b[0;31m---------------------------------------------------------------------------\u001b[0m",
      "\u001b[0;31mKeyError\u001b[0m                                  Traceback (most recent call last)",
      "Cell \u001b[0;32mIn[31], line 3\u001b[0m\n\u001b[1;32m      1\u001b[0m \u001b[38;5;28;01massert\u001b[39;00m \u001b[38;5;28mtype\u001b[39m(concat_df) \u001b[38;5;241m==\u001b[39m \u001b[38;5;28mtype\u001b[39m(nodes_concat), \u001b[38;5;124m'\u001b[39m\u001b[38;5;124mConcat dataframe type error\u001b[39m\u001b[38;5;124m'\u001b[39m\n\u001b[0;32m----> 3\u001b[0m \u001b[38;5;28;01massert\u001b[39;00m concat_df[\u001b[38;5;124m'\u001b[39m\u001b[38;5;124mtags\u001b[39m\u001b[38;5;124m'\u001b[39m]\u001b[38;5;241m.\u001b[39mvalues \u001b[38;5;129;01min\u001b[39;00m \u001b[43mnodes_concat\u001b[49m\u001b[43m[\u001b[49m\u001b[38;5;124;43m'\u001b[39;49m\u001b[38;5;124;43mtags\u001b[39;49m\u001b[38;5;124;43m'\u001b[39;49m\u001b[43m]\u001b[49m\u001b[38;5;241m.\u001b[39mvalues, \u001b[38;5;124m'\u001b[39m\u001b[38;5;124mNot working\u001b[39m\u001b[38;5;124m'\u001b[39m\n\u001b[1;32m      4\u001b[0m \u001b[38;5;28;01mfor\u001b[39;00m geom \u001b[38;5;129;01min\u001b[39;00m nodes_concat[\u001b[38;5;124m\"\u001b[39m\u001b[38;5;124mgeometry\u001b[39m\u001b[38;5;124m\"\u001b[39m]:\n\u001b[1;32m      5\u001b[0m     \u001b[38;5;28;01massert\u001b[39;00m \u001b[38;5;28misinstance\u001b[39m(geom, Point), \u001b[38;5;124m\"\u001b[39m\u001b[38;5;124mPoint Instantiation Error\u001b[39m\u001b[38;5;124m\"\u001b[39m\n",
      "File \u001b[0;32m~/projects/maridata/MariGeoRoute/data/OpenSeaMap/venv/lib/python3.10/site-packages/geopandas/geodataframe.py:1475\u001b[0m, in \u001b[0;36mGeoDataFrame.__getitem__\u001b[0;34m(self, key)\u001b[0m\n\u001b[1;32m   1469\u001b[0m \u001b[38;5;28;01mdef\u001b[39;00m \u001b[38;5;21m__getitem__\u001b[39m(\u001b[38;5;28mself\u001b[39m, key):\n\u001b[1;32m   1470\u001b[0m \u001b[38;5;250m    \u001b[39m\u001b[38;5;124;03m\"\"\"\u001b[39;00m\n\u001b[1;32m   1471\u001b[0m \u001b[38;5;124;03m    If the result is a column containing only 'geometry', return a\u001b[39;00m\n\u001b[1;32m   1472\u001b[0m \u001b[38;5;124;03m    GeoSeries. If it's a DataFrame with any columns of GeometryDtype,\u001b[39;00m\n\u001b[1;32m   1473\u001b[0m \u001b[38;5;124;03m    return a GeoDataFrame.\u001b[39;00m\n\u001b[1;32m   1474\u001b[0m \u001b[38;5;124;03m    \"\"\"\u001b[39;00m\n\u001b[0;32m-> 1475\u001b[0m     result \u001b[38;5;241m=\u001b[39m \u001b[38;5;28;43msuper\u001b[39;49m\u001b[43m(\u001b[49m\u001b[43m)\u001b[49m\u001b[38;5;241;43m.\u001b[39;49m\u001b[38;5;21;43m__getitem__\u001b[39;49m\u001b[43m(\u001b[49m\u001b[43mkey\u001b[49m\u001b[43m)\u001b[49m\n\u001b[1;32m   1476\u001b[0m     \u001b[38;5;66;03m# Custom logic to avoid waiting for pandas GH51895\u001b[39;00m\n\u001b[1;32m   1477\u001b[0m     \u001b[38;5;66;03m# result is not geometry dtype for multi-indexes\u001b[39;00m\n\u001b[1;32m   1478\u001b[0m     \u001b[38;5;28;01mif\u001b[39;00m (\n\u001b[1;32m   1479\u001b[0m         pd\u001b[38;5;241m.\u001b[39mapi\u001b[38;5;241m.\u001b[39mtypes\u001b[38;5;241m.\u001b[39mis_scalar(key)\n\u001b[1;32m   1480\u001b[0m         \u001b[38;5;129;01mand\u001b[39;00m key \u001b[38;5;241m==\u001b[39m \u001b[38;5;124m\"\u001b[39m\u001b[38;5;124m\"\u001b[39m\n\u001b[0;32m   (...)\u001b[0m\n\u001b[1;32m   1483\u001b[0m         \u001b[38;5;129;01mand\u001b[39;00m \u001b[38;5;129;01mnot\u001b[39;00m is_geometry_type(result)\n\u001b[1;32m   1484\u001b[0m     ):\n",
      "File \u001b[0;32m~/projects/maridata/MariGeoRoute/data/OpenSeaMap/venv/lib/python3.10/site-packages/pandas/core/frame.py:3761\u001b[0m, in \u001b[0;36mDataFrame.__getitem__\u001b[0;34m(self, key)\u001b[0m\n\u001b[1;32m   3759\u001b[0m \u001b[38;5;28;01mif\u001b[39;00m \u001b[38;5;28mself\u001b[39m\u001b[38;5;241m.\u001b[39mcolumns\u001b[38;5;241m.\u001b[39mnlevels \u001b[38;5;241m>\u001b[39m \u001b[38;5;241m1\u001b[39m:\n\u001b[1;32m   3760\u001b[0m     \u001b[38;5;28;01mreturn\u001b[39;00m \u001b[38;5;28mself\u001b[39m\u001b[38;5;241m.\u001b[39m_getitem_multilevel(key)\n\u001b[0;32m-> 3761\u001b[0m indexer \u001b[38;5;241m=\u001b[39m \u001b[38;5;28;43mself\u001b[39;49m\u001b[38;5;241;43m.\u001b[39;49m\u001b[43mcolumns\u001b[49m\u001b[38;5;241;43m.\u001b[39;49m\u001b[43mget_loc\u001b[49m\u001b[43m(\u001b[49m\u001b[43mkey\u001b[49m\u001b[43m)\u001b[49m\n\u001b[1;32m   3762\u001b[0m \u001b[38;5;28;01mif\u001b[39;00m is_integer(indexer):\n\u001b[1;32m   3763\u001b[0m     indexer \u001b[38;5;241m=\u001b[39m [indexer]\n",
      "File \u001b[0;32m~/projects/maridata/MariGeoRoute/data/OpenSeaMap/venv/lib/python3.10/site-packages/pandas/core/indexes/range.py:349\u001b[0m, in \u001b[0;36mRangeIndex.get_loc\u001b[0;34m(self, key)\u001b[0m\n\u001b[1;32m    347\u001b[0m         \u001b[38;5;28;01mraise\u001b[39;00m \u001b[38;5;167;01mKeyError\u001b[39;00m(key) \u001b[38;5;28;01mfrom\u001b[39;00m \u001b[38;5;21;01merr\u001b[39;00m\n\u001b[1;32m    348\u001b[0m \u001b[38;5;28;01mif\u001b[39;00m \u001b[38;5;28misinstance\u001b[39m(key, Hashable):\n\u001b[0;32m--> 349\u001b[0m     \u001b[38;5;28;01mraise\u001b[39;00m \u001b[38;5;167;01mKeyError\u001b[39;00m(key)\n\u001b[1;32m    350\u001b[0m \u001b[38;5;28mself\u001b[39m\u001b[38;5;241m.\u001b[39m_check_indexing_error(key)\n\u001b[1;32m    351\u001b[0m \u001b[38;5;28;01mraise\u001b[39;00m \u001b[38;5;167;01mKeyError\u001b[39;00m(key)\n",
      "\u001b[0;31mKeyError\u001b[0m: 'tags'"
     ]
    }
   ],
   "source": [
    "assert type(concat_df) == type(nodes_concat), 'Concat dataframe type error'\n",
    "\n",
    "assert concat_df['tags'].values in nodes_concat['tags'].values, 'Not working'\n",
    "for geom in nodes_concat[\"geometry\"]:\n",
    "    assert isinstance(geom, Point), \"Point Instantiation Error\""
   ]
  },
  {
   "cell_type": "code",
   "execution_count": 45,
   "id": "29c6ef6e",
   "metadata": {},
   "outputs": [
    {
     "ename": "SyntaxError",
     "evalue": "invalid syntax (3614487336.py, line 9)",
     "output_type": "error",
     "traceback": [
      "\u001b[0;36m  Cell \u001b[0;32mIn[45], line 9\u001b[0;36m\u001b[0m\n\u001b[0;31m    if ('nodes' in seamark_object) and ( in tags):\u001b[0m\n\u001b[0m                                         ^\u001b[0m\n\u001b[0;31mSyntaxError\u001b[0m\u001b[0;31m:\u001b[0m invalid syntax\n"
     ]
    }
   ],
   "source": [
    "tags = ['separation_zone', 'separation_line', 'separation_lane', 'restricted_area' ,'separation_roundabout']\n",
    "\n",
    "gdf_concat = gpd.GeoDataFrame()\n",
    "\n",
    "seamark_object = ['nodes']\n",
    "\n",
    "seamark_list = ['separation_line', 'separation_zone']\n",
    "\n",
    "if ('nodes' in seamark_object) and (seamark_list in tags):\n",
    "    gdf = table_list_gdf_nodes2\n",
    "    print('hi')\n",
    "\n"
   ]
  },
  {
   "cell_type": "code",
   "execution_count": 46,
   "id": "f42bbd4d",
   "metadata": {},
   "outputs": [
    {
     "name": "stdout",
     "output_type": "stream",
     "text": [
      "{'separation_zone', 'separation_line'}\n"
     ]
    }
   ],
   "source": [
    "print(set(seamark_list))"
   ]
  },
  {
   "cell_type": "code",
   "execution_count": 51,
   "id": "d76aa7c9",
   "metadata": {},
   "outputs": [
    {
     "data": {
      "text/plain": [
       "True"
      ]
     },
     "execution_count": 51,
     "metadata": {},
     "output_type": "execute_result"
    }
   ],
   "source": [
    "['separation_line', 'separation_zone'] in ['separation_zone', 'separation_line', 'separation_lane', 'restricted_area' ,'separation_roundabout', ['separation_line', 'separation_zone']]"
   ]
  },
  {
   "cell_type": "code",
   "execution_count": 49,
   "id": "19ae1c91",
   "metadata": {},
   "outputs": [
    {
     "data": {
      "text/plain": [
       "['separation_line', 'separation_zone']"
      ]
     },
     "execution_count": 49,
     "metadata": {},
     "output_type": "execute_result"
    }
   ],
   "source": [
    "seamark_list"
   ]
  },
  {
   "cell_type": "code",
   "execution_count": 53,
   "id": "b393f2a6",
   "metadata": {},
   "outputs": [
    {
     "data": {
      "text/plain": [
       "['separation_line', 'separation_zone']"
      ]
     },
     "execution_count": 53,
     "metadata": {},
     "output_type": "execute_result"
    }
   ],
   "source": [
    "seamark_list"
   ]
  },
  {
   "cell_type": "code",
   "execution_count": 56,
   "id": "6f16def0",
   "metadata": {},
   "outputs": [
    {
     "ename": "SyntaxError",
     "evalue": "invalid syntax (2268354908.py, line 1)",
     "output_type": "error",
     "traceback": [
      "\u001b[0;36m  Cell \u001b[0;32mIn[56], line 1\u001b[0;36m\u001b[0m\n\u001b[0;31m    [element for element in seamark_list if in tags]\u001b[0m\n\u001b[0m                                            ^\u001b[0m\n\u001b[0;31mSyntaxError\u001b[0m\u001b[0;31m:\u001b[0m invalid syntax\n"
     ]
    }
   ],
   "source": [
    "[element for element in seamark_list if in tags]"
   ]
  },
  {
   "cell_type": "code",
   "execution_count": 58,
   "id": "e60199a7",
   "metadata": {},
   "outputs": [
    {
     "name": "stdout",
     "output_type": "stream",
     "text": [
      "true\n"
     ]
    }
   ],
   "source": [
    "if all(element in tags for element in seamark_list):\n",
    "    print('true')"
   ]
  },
  {
   "cell_type": "code",
   "execution_count": 63,
   "id": "1f6b9419",
   "metadata": {},
   "outputs": [
    {
     "name": "stdout",
     "output_type": "stream",
     "text": [
      "ok\n"
     ]
    }
   ],
   "source": [
    "if (\"nodes\" in seamark_object) and all(element in tags for element in seamark_list):\n",
    "    print('ok')\n",
    "    gdf_list = []\n",
    "    gdf = table_list_gdf_nodes2\n",
    "    for i in range(0, len(seamark_list)):\n",
    "        gdf = gdf[gdf['tags'].apply(lambda x: seamark_list[i] in x.values())]\n",
    "        gdf_list.append(gdf)\n",
    "\n",
    "    if gdf_list:  # Check if gdf_list is not empty\n",
    "        gdf_concat = pd.concat(gdf_list)\n"
   ]
  },
  {
   "cell_type": "code",
   "execution_count": 64,
   "id": "85275f95",
   "metadata": {},
   "outputs": [
    {
     "data": {
      "text/html": [
       "<div>\n",
       "<style scoped>\n",
       "    .dataframe tbody tr th:only-of-type {\n",
       "        vertical-align: middle;\n",
       "    }\n",
       "\n",
       "    .dataframe tbody tr th {\n",
       "        vertical-align: top;\n",
       "    }\n",
       "\n",
       "    .dataframe thead th {\n",
       "        text-align: right;\n",
       "    }\n",
       "</style>\n",
       "<table border=\"1\" class=\"dataframe\">\n",
       "  <thead>\n",
       "    <tr style=\"text-align: right;\">\n",
       "      <th></th>\n",
       "      <th>id</th>\n",
       "      <th>version</th>\n",
       "      <th>user_id</th>\n",
       "      <th>tstamp</th>\n",
       "      <th>changeset_id</th>\n",
       "      <th>tags</th>\n",
       "      <th>geom</th>\n",
       "    </tr>\n",
       "  </thead>\n",
       "  <tbody>\n",
       "  </tbody>\n",
       "</table>\n",
       "</div>"
      ],
      "text/plain": [
       "Empty GeoDataFrame\n",
       "Columns: [id, version, user_id, tstamp, changeset_id, tags, geom]\n",
       "Index: []"
      ]
     },
     "execution_count": 64,
     "metadata": {},
     "output_type": "execute_result"
    }
   ],
   "source": [
    "gdf_concat"
   ]
  },
  {
   "cell_type": "code",
   "execution_count": 68,
   "id": "94550348",
   "metadata": {},
   "outputs": [],
   "source": [
    "gdf = table_list_gdf_nodes2"
   ]
  },
  {
   "cell_type": "code",
   "execution_count": 66,
   "id": "0385bac9",
   "metadata": {},
   "outputs": [
    {
     "data": {
      "text/html": [
       "<div>\n",
       "<style scoped>\n",
       "    .dataframe tbody tr th:only-of-type {\n",
       "        vertical-align: middle;\n",
       "    }\n",
       "\n",
       "    .dataframe tbody tr th {\n",
       "        vertical-align: top;\n",
       "    }\n",
       "\n",
       "    .dataframe thead th {\n",
       "        text-align: right;\n",
       "    }\n",
       "</style>\n",
       "<table border=\"1\" class=\"dataframe\">\n",
       "  <thead>\n",
       "    <tr style=\"text-align: right;\">\n",
       "      <th></th>\n",
       "      <th>id</th>\n",
       "      <th>version</th>\n",
       "      <th>user_id</th>\n",
       "      <th>tstamp</th>\n",
       "      <th>changeset_id</th>\n",
       "      <th>tags</th>\n",
       "      <th>geom</th>\n",
       "    </tr>\n",
       "  </thead>\n",
       "  <tbody>\n",
       "    <tr>\n",
       "      <th>0</th>\n",
       "      <td>106904</td>\n",
       "      <td>5</td>\n",
       "      <td>4948143</td>\n",
       "      <td>2020-06-15 19:23:35</td>\n",
       "      <td>86684855</td>\n",
       "      <td>{'waterway': 'lock_gate', 'seamark:type': 'gate'}</td>\n",
       "      <td>POINT (-0.03623 51.51956)</td>\n",
       "    </tr>\n",
       "    <tr>\n",
       "      <th>1</th>\n",
       "      <td>108735</td>\n",
       "      <td>6</td>\n",
       "      <td>4948143</td>\n",
       "      <td>2020-06-15 19:23:35</td>\n",
       "      <td>86684855</td>\n",
       "      <td>{'waterway': 'lock_gate', 'seamark:type': 'gate'}</td>\n",
       "      <td>POINT (-0.03489 51.51475)</td>\n",
       "    </tr>\n",
       "    <tr>\n",
       "      <th>2</th>\n",
       "      <td>110210</td>\n",
       "      <td>7</td>\n",
       "      <td>4948143</td>\n",
       "      <td>2020-06-15 19:23:35</td>\n",
       "      <td>86684855</td>\n",
       "      <td>{'waterway': 'lock_gate', 'seamark:type': 'gate'}</td>\n",
       "      <td>POINT (-0.03777 51.52499)</td>\n",
       "    </tr>\n",
       "    <tr>\n",
       "      <th>3</th>\n",
       "      <td>142325</td>\n",
       "      <td>5</td>\n",
       "      <td>53773</td>\n",
       "      <td>2017-04-26 14:43:20</td>\n",
       "      <td>48165623</td>\n",
       "      <td>{}</td>\n",
       "      <td>POINT (6.16037 49.11819)</td>\n",
       "    </tr>\n",
       "    <tr>\n",
       "      <th>4</th>\n",
       "      <td>148969</td>\n",
       "      <td>14</td>\n",
       "      <td>420980</td>\n",
       "      <td>2018-10-23 11:53:56</td>\n",
       "      <td>63792931</td>\n",
       "      <td>{}</td>\n",
       "      <td>POINT (11.23781 60.42730)</td>\n",
       "    </tr>\n",
       "    <tr>\n",
       "      <th>...</th>\n",
       "      <td>...</td>\n",
       "      <td>...</td>\n",
       "      <td>...</td>\n",
       "      <td>...</td>\n",
       "      <td>...</td>\n",
       "      <td>...</td>\n",
       "      <td>...</td>\n",
       "    </tr>\n",
       "    <tr>\n",
       "      <th>2098804</th>\n",
       "      <td>10902976542</td>\n",
       "      <td>1</td>\n",
       "      <td>19205214</td>\n",
       "      <td>2023-05-16 18:40:38</td>\n",
       "      <td>136182192</td>\n",
       "      <td>{'name': 'Bharat Petroleum', 'waterway': 'fuel...</td>\n",
       "      <td>POINT (84.99226 24.79133)</td>\n",
       "    </tr>\n",
       "    <tr>\n",
       "      <th>2098805</th>\n",
       "      <td>10903429078</td>\n",
       "      <td>1</td>\n",
       "      <td>1713634</td>\n",
       "      <td>2023-05-16 21:15:57</td>\n",
       "      <td>136186650</td>\n",
       "      <td>{}</td>\n",
       "      <td>POINT (9.91946 57.06074)</td>\n",
       "    </tr>\n",
       "    <tr>\n",
       "      <th>2098806</th>\n",
       "      <td>10903429079</td>\n",
       "      <td>1</td>\n",
       "      <td>1713634</td>\n",
       "      <td>2023-05-16 21:15:57</td>\n",
       "      <td>136186650</td>\n",
       "      <td>{}</td>\n",
       "      <td>POINT (9.91950 57.06081)</td>\n",
       "    </tr>\n",
       "    <tr>\n",
       "      <th>2098807</th>\n",
       "      <td>10903509066</td>\n",
       "      <td>1</td>\n",
       "      <td>137242</td>\n",
       "      <td>2023-05-16 21:01:48</td>\n",
       "      <td>136186282</td>\n",
       "      <td>{}</td>\n",
       "      <td>POINT (12.01625 48.92597)</td>\n",
       "    </tr>\n",
       "    <tr>\n",
       "      <th>2098808</th>\n",
       "      <td>10903509067</td>\n",
       "      <td>1</td>\n",
       "      <td>137242</td>\n",
       "      <td>2023-05-16 21:01:48</td>\n",
       "      <td>136186282</td>\n",
       "      <td>{}</td>\n",
       "      <td>POINT (12.01631 48.92595)</td>\n",
       "    </tr>\n",
       "  </tbody>\n",
       "</table>\n",
       "<p>2098809 rows × 7 columns</p>\n",
       "</div>"
      ],
      "text/plain": [
       "                  id  version   user_id               tstamp  changeset_id   \n",
       "0             106904        5   4948143  2020-06-15 19:23:35      86684855  \\\n",
       "1             108735        6   4948143  2020-06-15 19:23:35      86684855   \n",
       "2             110210        7   4948143  2020-06-15 19:23:35      86684855   \n",
       "3             142325        5     53773  2017-04-26 14:43:20      48165623   \n",
       "4             148969       14    420980  2018-10-23 11:53:56      63792931   \n",
       "...              ...      ...       ...                  ...           ...   \n",
       "2098804  10902976542        1  19205214  2023-05-16 18:40:38     136182192   \n",
       "2098805  10903429078        1   1713634  2023-05-16 21:15:57     136186650   \n",
       "2098806  10903429079        1   1713634  2023-05-16 21:15:57     136186650   \n",
       "2098807  10903509066        1    137242  2023-05-16 21:01:48     136186282   \n",
       "2098808  10903509067        1    137242  2023-05-16 21:01:48     136186282   \n",
       "\n",
       "                                                      tags   \n",
       "0        {'waterway': 'lock_gate', 'seamark:type': 'gate'}  \\\n",
       "1        {'waterway': 'lock_gate', 'seamark:type': 'gate'}   \n",
       "2        {'waterway': 'lock_gate', 'seamark:type': 'gate'}   \n",
       "3                                                       {}   \n",
       "4                                                       {}   \n",
       "...                                                    ...   \n",
       "2098804  {'name': 'Bharat Petroleum', 'waterway': 'fuel...   \n",
       "2098805                                                 {}   \n",
       "2098806                                                 {}   \n",
       "2098807                                                 {}   \n",
       "2098808                                                 {}   \n",
       "\n",
       "                              geom  \n",
       "0        POINT (-0.03623 51.51956)  \n",
       "1        POINT (-0.03489 51.51475)  \n",
       "2        POINT (-0.03777 51.52499)  \n",
       "3         POINT (6.16037 49.11819)  \n",
       "4        POINT (11.23781 60.42730)  \n",
       "...                            ...  \n",
       "2098804  POINT (84.99226 24.79133)  \n",
       "2098805   POINT (9.91946 57.06074)  \n",
       "2098806   POINT (9.91950 57.06081)  \n",
       "2098807  POINT (12.01625 48.92597)  \n",
       "2098808  POINT (12.01631 48.92595)  \n",
       "\n",
       "[2098809 rows x 7 columns]"
      ]
     },
     "execution_count": 66,
     "metadata": {},
     "output_type": "execute_result"
    }
   ],
   "source": [
    "table_list_gdf_nodes2"
   ]
  },
  {
   "cell_type": "code",
   "execution_count": 86,
   "id": "29b434a5",
   "metadata": {},
   "outputs": [],
   "source": [
    "list_example = list(gdf[gdf['tags'].apply(lambda x: seamark_list[i] in x.values())]['tags'].map(lambda x: list(x.values())))"
   ]
  },
  {
   "cell_type": "code",
   "execution_count": 94,
   "id": "d8c67f41",
   "metadata": {},
   "outputs": [
    {
     "name": "stdout",
     "output_type": "stream",
     "text": [
      "not working\n"
     ]
    }
   ],
   "source": [
    "if all(element in list_example for element in ['separation_zone']):\n",
    "    True\n",
    "    print('worked')\n",
    "else:\n",
    "    print('not working')"
   ]
  },
  {
   "cell_type": "code",
   "execution_count": 96,
   "id": "0e9b84b5",
   "metadata": {},
   "outputs": [
    {
     "data": {
      "text/plain": [
       "{'separation_line', 'separation_zone'}"
      ]
     },
     "execution_count": 96,
     "metadata": {},
     "output_type": "execute_result"
    }
   ],
   "source": [
    "set(seamark_list).intersection(set(tags))"
   ]
  },
  {
   "cell_type": "code",
   "execution_count": 97,
   "id": "b5b2e1d6",
   "metadata": {},
   "outputs": [
    {
     "data": {
      "text/plain": [
       "['separation_line', 'separation_zone']"
      ]
     },
     "execution_count": 97,
     "metadata": {},
     "output_type": "execute_result"
    }
   ],
   "source": [
    "seamark_list"
   ]
  },
  {
   "cell_type": "code",
   "execution_count": 98,
   "id": "dd94add6",
   "metadata": {},
   "outputs": [
    {
     "data": {
      "text/plain": [
       "['separation_zone',\n",
       " 'separation_line',\n",
       " 'separation_lane',\n",
       " 'restricted_area',\n",
       " 'separation_roundabout']"
      ]
     },
     "execution_count": 98,
     "metadata": {},
     "output_type": "execute_result"
    }
   ],
   "source": [
    "tags"
   ]
  },
  {
   "cell_type": "code",
   "execution_count": 108,
   "id": "abd0f68e",
   "metadata": {},
   "outputs": [],
   "source": [
    "tags = ['separation_zone', 'separation_line', 'separation_lane', 'restricted_area' ,'separation_roundabout']\n",
    "\n",
    "gdf_concat = gpd.GeoDataFrame()\n",
    "\n",
    "seamark_object = ['nodes']\n",
    "\n",
    "seamark_list = ['separation_line', 'separation_zone']\n",
    "\n",
    "tags_filtered = list(set(seamark_list).intersection(set(tags)))\n",
    "\n",
    "if (\"nodes\" in seamark_object) and ([element for element in seamark_list] in tags_filtered) or len(query)==1:\n",
    "    gdf_list = []\n",
    "    gdf = table_list_gdf_nodes2\n",
    "    for i in range(0, len(seamark_list)):\n",
    "        gdf = gdf[gdf['tags'].apply(lambda x: seamark_list[i] in x.values())]\n",
    "        gdf_list.append(gdf)"
   ]
  },
  {
   "cell_type": "code",
   "execution_count": 105,
   "id": "049fd34d",
   "metadata": {},
   "outputs": [
    {
     "data": {
      "text/plain": [
       "[Empty GeoDataFrame\n",
       " Columns: [id, version, user_id, tstamp, changeset_id, tags, geom]\n",
       " Index: [],\n",
       " Empty DataFrame\n",
       " Columns: []\n",
       " Index: []]"
      ]
     },
     "execution_count": 105,
     "metadata": {},
     "output_type": "execute_result"
    }
   ],
   "source": [
    "gdf_list"
   ]
  },
  {
   "cell_type": "code",
   "execution_count": 106,
   "id": "6f1ac0d2",
   "metadata": {},
   "outputs": [
    {
     "data": {
      "text/plain": [
       "['separation_zone', 'separation_line']"
      ]
     },
     "execution_count": 106,
     "metadata": {},
     "output_type": "execute_result"
    }
   ],
   "source": [
    "tags_filtered"
   ]
  },
  {
   "cell_type": "code",
   "execution_count": 107,
   "id": "a822c8c5",
   "metadata": {},
   "outputs": [
    {
     "data": {
      "text/plain": [
       "True"
      ]
     },
     "execution_count": 107,
     "metadata": {},
     "output_type": "execute_result"
    }
   ],
   "source": [
    "list(set(seamark_list).intersection(set(tags))) == list(set(seamark_list).intersection(set(tags)))"
   ]
  },
  {
   "cell_type": "code",
   "execution_count": 112,
   "id": "e112827d",
   "metadata": {},
   "outputs": [
    {
     "data": {
      "text/plain": [
       "False"
      ]
     },
     "execution_count": 112,
     "metadata": {},
     "output_type": "execute_result"
    }
   ],
   "source": [
    "([element for element in seamark_list] in tags)"
   ]
  },
  {
   "cell_type": "code",
   "execution_count": 113,
   "id": "cca9b603",
   "metadata": {},
   "outputs": [
    {
     "data": {
      "text/plain": [
       "['separation_line', 'separation_zone']"
      ]
     },
     "execution_count": 113,
     "metadata": {},
     "output_type": "execute_result"
    }
   ],
   "source": [
    "seamark_list"
   ]
  },
  {
   "cell_type": "code",
   "execution_count": 114,
   "id": "a5f81048",
   "metadata": {},
   "outputs": [
    {
     "data": {
      "text/plain": [
       "['separation_line', 'separation_zone']"
      ]
     },
     "execution_count": 114,
     "metadata": {},
     "output_type": "execute_result"
    }
   ],
   "source": [
    "[element for element in seamark_list]"
   ]
  },
  {
   "cell_type": "code",
   "execution_count": 115,
   "id": "63da13c7",
   "metadata": {},
   "outputs": [
    {
     "data": {
      "text/plain": [
       "['separation_line', 'separation_zone']"
      ]
     },
     "execution_count": 115,
     "metadata": {},
     "output_type": "execute_result"
    }
   ],
   "source": [
    "seamark_list"
   ]
  },
  {
   "cell_type": "code",
   "execution_count": 116,
   "id": "e55b5231",
   "metadata": {},
   "outputs": [],
   "source": [
    "x = [1,4,6]"
   ]
  },
  {
   "cell_type": "code",
   "execution_count": 125,
   "id": "9f2bb67a",
   "metadata": {},
   "outputs": [
    {
     "data": {
      "text/plain": [
       "False"
      ]
     },
     "execution_count": 125,
     "metadata": {},
     "output_type": "execute_result"
    }
   ],
   "source": [
    "[i for i in seamark_list] in ['separation_line', 'separation_zone']"
   ]
  },
  {
   "cell_type": "code",
   "execution_count": 122,
   "id": "b4d65961",
   "metadata": {},
   "outputs": [
    {
     "data": {
      "text/plain": [
       "['separation_line', 'separation_zone']"
      ]
     },
     "execution_count": 122,
     "metadata": {},
     "output_type": "execute_result"
    }
   ],
   "source": [
    "for element in seamark_list:\n",
    "    seamark_list"
   ]
  },
  {
   "cell_type": "code",
   "execution_count": null,
   "id": "8d54926f",
   "metadata": {},
   "outputs": [],
   "source": []
  },
  {
   "cell_type": "code",
   "execution_count": null,
   "id": "ee03c5a3",
   "metadata": {},
   "outputs": [],
   "source": []
  },
  {
   "cell_type": "code",
   "execution_count": null,
   "id": "8d4a4a53",
   "metadata": {},
   "outputs": [],
   "source": []
  },
  {
   "cell_type": "code",
   "execution_count": 134,
   "id": "88164e42",
   "metadata": {},
   "outputs": [
    {
     "name": "stdout",
     "output_type": "stream",
     "text": [
      "                  id  version   user_id               tstamp  changeset_id   \n",
      "0             106904        5   4948143  2020-06-15 19:23:35      86684855  \\\n",
      "1             108735        6   4948143  2020-06-15 19:23:35      86684855   \n",
      "2             110210        7   4948143  2020-06-15 19:23:35      86684855   \n",
      "3             142325        5     53773  2017-04-26 14:43:20      48165623   \n",
      "4             148969       14    420980  2018-10-23 11:53:56      63792931   \n",
      "...              ...      ...       ...                  ...           ...   \n",
      "2098804  10902976542        1  19205214  2023-05-16 18:40:38     136182192   \n",
      "2098805  10903429078        1   1713634  2023-05-16 21:15:57     136186650   \n",
      "2098806  10903429079        1   1713634  2023-05-16 21:15:57     136186650   \n",
      "2098807  10903509066        1    137242  2023-05-16 21:01:48     136186282   \n",
      "2098808  10903509067        1    137242  2023-05-16 21:01:48     136186282   \n",
      "\n",
      "                                                      tags   \n",
      "0        {'waterway': 'lock_gate', 'seamark:type': 'gate'}  \\\n",
      "1        {'waterway': 'lock_gate', 'seamark:type': 'gate'}   \n",
      "2        {'waterway': 'lock_gate', 'seamark:type': 'gate'}   \n",
      "3                                                       {}   \n",
      "4                                                       {}   \n",
      "...                                                    ...   \n",
      "2098804  {'name': 'Bharat Petroleum', 'waterway': 'fuel...   \n",
      "2098805                                                 {}   \n",
      "2098806                                                 {}   \n",
      "2098807                                                 {}   \n",
      "2098808                                                 {}   \n",
      "\n",
      "                              geom  \n",
      "0        POINT (-0.03623 51.51956)  \n",
      "1        POINT (-0.03489 51.51475)  \n",
      "2        POINT (-0.03777 51.52499)  \n",
      "3         POINT (6.16037 49.11819)  \n",
      "4        POINT (11.23781 60.42730)  \n",
      "...                            ...  \n",
      "2098804  POINT (84.99226 24.79133)  \n",
      "2098805   POINT (9.91946 57.06074)  \n",
      "2098806   POINT (9.91950 57.06081)  \n",
      "2098807  POINT (12.01625 48.92597)  \n",
      "2098808  POINT (12.01631 48.92595)  \n",
      "\n",
      "[2098809 rows x 7 columns]\n",
      "[]\n"
     ]
    }
   ],
   "source": [
    "tags = ['separation_zone', 'separation_line', 'separation_lane', 'restricted_area' ,'separation_roundabout']\n",
    "\n",
    "gdf_concat = gpd.GeoDataFrame()\n",
    "\n",
    "seamark_object = ['nodes']\n",
    "\n",
    "seamark_list = ['separation_line', 'separation_zone']\n",
    "\n",
    "if (\"nodes\" in seamark_object) and all(element in tags for element in seamark_list) or len(query)==1:\n",
    "    gdf = table_list_gdf_nodes2\n",
    "    gdf_list = []\n",
    "    print(gdf)\n",
    "    print(gdf_list)\n",
    "    for i in range(0, len(seamark_list)):\n",
    "        gdf = gdf[gdf['tags'].apply(lambda x: seamark_list[i] in x.values())]\n",
    "        gdf_list.append(gdf)\n",
    "    gdf_concat = pd.concat(gdf_list)"
   ]
  },
  {
   "cell_type": "code",
   "execution_count": 138,
   "id": "e90612e1",
   "metadata": {},
   "outputs": [
    {
     "data": {
      "text/plain": [
       "Index([], dtype='object')"
      ]
     },
     "execution_count": 138,
     "metadata": {},
     "output_type": "execute_result"
    }
   ],
   "source": [
    "gdf.columns"
   ]
  },
  {
   "cell_type": "code",
   "execution_count": 140,
   "id": "d54f8d41",
   "metadata": {},
   "outputs": [
    {
     "data": {
      "text/plain": [
       "Index(['id', 'version', 'user_id', 'tstamp', 'changeset_id', 'tags', 'geom'], dtype='object')"
      ]
     },
     "execution_count": 140,
     "metadata": {},
     "output_type": "execute_result"
    }
   ],
   "source": [
    "gdf = table_list_gdf_nodes2\n",
    "gdf.columns"
   ]
  },
  {
   "cell_type": "code",
   "execution_count": 142,
   "id": "41f563e3",
   "metadata": {},
   "outputs": [
    {
     "data": {
      "text/plain": [
       "0          {'waterway': 'lock_gate', 'seamark:type': 'gate'}\n",
       "1          {'waterway': 'lock_gate', 'seamark:type': 'gate'}\n",
       "2          {'waterway': 'lock_gate', 'seamark:type': 'gate'}\n",
       "3                                                         {}\n",
       "4                                                         {}\n",
       "                                 ...                        \n",
       "2098804    {'name': 'Bharat Petroleum', 'waterway': 'fuel...\n",
       "2098805                                                   {}\n",
       "2098806                                                   {}\n",
       "2098807                                                   {}\n",
       "2098808                                                   {}\n",
       "Name: tags, Length: 2098809, dtype: object"
      ]
     },
     "execution_count": 142,
     "metadata": {},
     "output_type": "execute_result"
    }
   ],
   "source": [
    "gdf['tags']"
   ]
  },
  {
   "cell_type": "code",
   "execution_count": null,
   "id": "98f4bc7a",
   "metadata": {},
   "outputs": [],
   "source": []
  },
  {
   "cell_type": "code",
   "execution_count": null,
   "id": "0a6eb06c",
   "metadata": {},
   "outputs": [],
   "source": []
  },
  {
   "cell_type": "code",
   "execution_count": 128,
   "id": "0bc00cee",
   "metadata": {},
   "outputs": [
    {
     "data": {
      "text/plain": [
       "[Empty GeoDataFrame\n",
       " Columns: [id, version, user_id, tstamp, changeset_id, tags, geom]\n",
       " Index: [],\n",
       " Empty DataFrame\n",
       " Columns: []\n",
       " Index: []]"
      ]
     },
     "execution_count": 128,
     "metadata": {},
     "output_type": "execute_result"
    }
   ],
   "source": [
    "gdf_list"
   ]
  },
  {
   "cell_type": "code",
   "execution_count": 129,
   "id": "677d748f",
   "metadata": {},
   "outputs": [
    {
     "data": {
      "text/plain": [
       "True"
      ]
     },
     "execution_count": 129,
     "metadata": {},
     "output_type": "execute_result"
    }
   ],
   "source": [
    "all(element in tags for element in seamark_list)"
   ]
  },
  {
   "cell_type": "code",
   "execution_count": 130,
   "id": "66fb97e6",
   "metadata": {},
   "outputs": [
    {
     "ename": "KeyError",
     "evalue": "'tags'",
     "output_type": "error",
     "traceback": [
      "\u001b[0;31m---------------------------------------------------------------------------\u001b[0m",
      "\u001b[0;31mKeyError\u001b[0m                                  Traceback (most recent call last)",
      "File \u001b[0;32m~/projects/maridata/MariGeoRoute/data/OpenSeaMap/venv/lib/python3.10/site-packages/pandas/core/indexes/base.py:3652\u001b[0m, in \u001b[0;36mIndex.get_loc\u001b[0;34m(self, key)\u001b[0m\n\u001b[1;32m   3651\u001b[0m \u001b[38;5;28;01mtry\u001b[39;00m:\n\u001b[0;32m-> 3652\u001b[0m     \u001b[38;5;28;01mreturn\u001b[39;00m \u001b[38;5;28;43mself\u001b[39;49m\u001b[38;5;241;43m.\u001b[39;49m\u001b[43m_engine\u001b[49m\u001b[38;5;241;43m.\u001b[39;49m\u001b[43mget_loc\u001b[49m\u001b[43m(\u001b[49m\u001b[43mcasted_key\u001b[49m\u001b[43m)\u001b[49m\n\u001b[1;32m   3653\u001b[0m \u001b[38;5;28;01mexcept\u001b[39;00m \u001b[38;5;167;01mKeyError\u001b[39;00m \u001b[38;5;28;01mas\u001b[39;00m err:\n",
      "File \u001b[0;32m~/projects/maridata/MariGeoRoute/data/OpenSeaMap/venv/lib/python3.10/site-packages/pandas/_libs/index.pyx:147\u001b[0m, in \u001b[0;36mpandas._libs.index.IndexEngine.get_loc\u001b[0;34m()\u001b[0m\n",
      "File \u001b[0;32m~/projects/maridata/MariGeoRoute/data/OpenSeaMap/venv/lib/python3.10/site-packages/pandas/_libs/index.pyx:176\u001b[0m, in \u001b[0;36mpandas._libs.index.IndexEngine.get_loc\u001b[0;34m()\u001b[0m\n",
      "File \u001b[0;32mpandas/_libs/hashtable_class_helper.pxi:7080\u001b[0m, in \u001b[0;36mpandas._libs.hashtable.PyObjectHashTable.get_item\u001b[0;34m()\u001b[0m\n",
      "File \u001b[0;32mpandas/_libs/hashtable_class_helper.pxi:7088\u001b[0m, in \u001b[0;36mpandas._libs.hashtable.PyObjectHashTable.get_item\u001b[0;34m()\u001b[0m\n",
      "\u001b[0;31mKeyError\u001b[0m: 'tags'",
      "\nThe above exception was the direct cause of the following exception:\n",
      "\u001b[0;31mKeyError\u001b[0m                                  Traceback (most recent call last)",
      "Cell \u001b[0;32mIn[130], line 2\u001b[0m\n\u001b[1;32m      1\u001b[0m \u001b[38;5;28;01mfor\u001b[39;00m i \u001b[38;5;129;01min\u001b[39;00m \u001b[38;5;28mrange\u001b[39m(\u001b[38;5;241m0\u001b[39m, \u001b[38;5;28mlen\u001b[39m(seamark_list)):\n\u001b[0;32m----> 2\u001b[0m         gdf \u001b[38;5;241m=\u001b[39m gdf[\u001b[43mgdf\u001b[49m\u001b[43m[\u001b[49m\u001b[38;5;124;43m'\u001b[39;49m\u001b[38;5;124;43mtags\u001b[39;49m\u001b[38;5;124;43m'\u001b[39;49m\u001b[43m]\u001b[49m\u001b[38;5;241m.\u001b[39mapply(\u001b[38;5;28;01mlambda\u001b[39;00m x: seamark_list[i] \u001b[38;5;129;01min\u001b[39;00m x\u001b[38;5;241m.\u001b[39mvalues())]\n",
      "File \u001b[0;32m~/projects/maridata/MariGeoRoute/data/OpenSeaMap/venv/lib/python3.10/site-packages/pandas/core/frame.py:3761\u001b[0m, in \u001b[0;36mDataFrame.__getitem__\u001b[0;34m(self, key)\u001b[0m\n\u001b[1;32m   3759\u001b[0m \u001b[38;5;28;01mif\u001b[39;00m \u001b[38;5;28mself\u001b[39m\u001b[38;5;241m.\u001b[39mcolumns\u001b[38;5;241m.\u001b[39mnlevels \u001b[38;5;241m>\u001b[39m \u001b[38;5;241m1\u001b[39m:\n\u001b[1;32m   3760\u001b[0m     \u001b[38;5;28;01mreturn\u001b[39;00m \u001b[38;5;28mself\u001b[39m\u001b[38;5;241m.\u001b[39m_getitem_multilevel(key)\n\u001b[0;32m-> 3761\u001b[0m indexer \u001b[38;5;241m=\u001b[39m \u001b[38;5;28;43mself\u001b[39;49m\u001b[38;5;241;43m.\u001b[39;49m\u001b[43mcolumns\u001b[49m\u001b[38;5;241;43m.\u001b[39;49m\u001b[43mget_loc\u001b[49m\u001b[43m(\u001b[49m\u001b[43mkey\u001b[49m\u001b[43m)\u001b[49m\n\u001b[1;32m   3762\u001b[0m \u001b[38;5;28;01mif\u001b[39;00m is_integer(indexer):\n\u001b[1;32m   3763\u001b[0m     indexer \u001b[38;5;241m=\u001b[39m [indexer]\n",
      "File \u001b[0;32m~/projects/maridata/MariGeoRoute/data/OpenSeaMap/venv/lib/python3.10/site-packages/pandas/core/indexes/base.py:3654\u001b[0m, in \u001b[0;36mIndex.get_loc\u001b[0;34m(self, key)\u001b[0m\n\u001b[1;32m   3652\u001b[0m     \u001b[38;5;28;01mreturn\u001b[39;00m \u001b[38;5;28mself\u001b[39m\u001b[38;5;241m.\u001b[39m_engine\u001b[38;5;241m.\u001b[39mget_loc(casted_key)\n\u001b[1;32m   3653\u001b[0m \u001b[38;5;28;01mexcept\u001b[39;00m \u001b[38;5;167;01mKeyError\u001b[39;00m \u001b[38;5;28;01mas\u001b[39;00m err:\n\u001b[0;32m-> 3654\u001b[0m     \u001b[38;5;28;01mraise\u001b[39;00m \u001b[38;5;167;01mKeyError\u001b[39;00m(key) \u001b[38;5;28;01mfrom\u001b[39;00m \u001b[38;5;21;01merr\u001b[39;00m\n\u001b[1;32m   3655\u001b[0m \u001b[38;5;28;01mexcept\u001b[39;00m \u001b[38;5;167;01mTypeError\u001b[39;00m:\n\u001b[1;32m   3656\u001b[0m     \u001b[38;5;66;03m# If we have a listlike key, _check_indexing_error will raise\u001b[39;00m\n\u001b[1;32m   3657\u001b[0m     \u001b[38;5;66;03m#  InvalidIndexError. Otherwise we fall through and re-raise\u001b[39;00m\n\u001b[1;32m   3658\u001b[0m     \u001b[38;5;66;03m#  the TypeError.\u001b[39;00m\n\u001b[1;32m   3659\u001b[0m     \u001b[38;5;28mself\u001b[39m\u001b[38;5;241m.\u001b[39m_check_indexing_error(key)\n",
      "\u001b[0;31mKeyError\u001b[0m: 'tags'"
     ]
    }
   ],
   "source": [
    "for i in range(0, len(seamark_list)):\n",
    "        gdf = gdf[gdf['tags'].apply(lambda x: seamark_list[i] in x.values())]"
   ]
  },
  {
   "cell_type": "code",
   "execution_count": 132,
   "id": "a5c26b8e",
   "metadata": {},
   "outputs": [
    {
     "data": {
      "text/html": [
       "<div>\n",
       "<style scoped>\n",
       "    .dataframe tbody tr th:only-of-type {\n",
       "        vertical-align: middle;\n",
       "    }\n",
       "\n",
       "    .dataframe tbody tr th {\n",
       "        vertical-align: top;\n",
       "    }\n",
       "\n",
       "    .dataframe thead th {\n",
       "        text-align: right;\n",
       "    }\n",
       "</style>\n",
       "<table border=\"1\" class=\"dataframe\">\n",
       "  <thead>\n",
       "    <tr style=\"text-align: right;\">\n",
       "      <th></th>\n",
       "    </tr>\n",
       "  </thead>\n",
       "  <tbody>\n",
       "  </tbody>\n",
       "</table>\n",
       "</div>"
      ],
      "text/plain": [
       "Empty DataFrame\n",
       "Columns: []\n",
       "Index: []"
      ]
     },
     "execution_count": 132,
     "metadata": {},
     "output_type": "execute_result"
    }
   ],
   "source": [
    "gdf"
   ]
  },
  {
   "cell_type": "code",
   "execution_count": null,
   "id": "78ac59c2",
   "metadata": {},
   "outputs": [],
   "source": []
  },
  {
   "cell_type": "code",
   "execution_count": 143,
   "id": "2a12fe53",
   "metadata": {},
   "outputs": [],
   "source": [
    "tags = ['separation_zone', 'separation_line', 'separation_lane', 'restricted_area' ,'separation_roundabout']\n",
    "\n",
    "gdf_concat = gpd.GeoDataFrame()\n",
    "\n",
    "seamark_object = ['nodes']\n",
    "\n",
    "seamark_list = ['separation_line', 'separation_zone']"
   ]
  },
  {
   "cell_type": "code",
   "execution_count": 147,
   "id": "7eb28e39",
   "metadata": {},
   "outputs": [],
   "source": [
    "##################### optional for the moment ######################\n",
    "if (\"nodes\" in seamark_object) and all(element in tags for element in seamark_list) or len(query)==1:\n",
    "    gdf = table_list_gdf_nodes2\n",
    "    gdf_list = []\n",
    "    for i in range(0, len(seamark_list)):\n",
    "        gdf = gdf[gdf['tags'].apply(lambda x: seamark_list[i] in x.values())]\n",
    "        gdf_list.append(gdf)\n",
    "    gdf_concat = pd.concat(gdf_list)"
   ]
  },
  {
   "cell_type": "code",
   "execution_count": 149,
   "id": "f1c1137e",
   "metadata": {},
   "outputs": [
    {
     "data": {
      "text/plain": [
       "[Empty GeoDataFrame\n",
       " Columns: [id, version, user_id, tstamp, changeset_id, tags, geom]\n",
       " Index: [],\n",
       " Empty DataFrame\n",
       " Columns: []\n",
       " Index: []]"
      ]
     },
     "execution_count": 149,
     "metadata": {},
     "output_type": "execute_result"
    }
   ],
   "source": [
    "gdf_list"
   ]
  },
  {
   "cell_type": "code",
   "execution_count": 158,
   "id": "63147b51",
   "metadata": {},
   "outputs": [],
   "source": [
    "gdf1 = table_list_gdf_nodes2[table_list_gdf_nodes2['tags'].map(lambda x: 'separation_zone' in x.values())]"
   ]
  },
  {
   "cell_type": "code",
   "execution_count": 157,
   "id": "e32e0e00",
   "metadata": {},
   "outputs": [],
   "source": [
    "gdf2 = table_list_gdf_nodes2[table_list_gdf_nodes2['tags'].map(lambda x: 'separation_line' in x.values())]"
   ]
  },
  {
   "cell_type": "code",
   "execution_count": 160,
   "id": "72039022",
   "metadata": {},
   "outputs": [
    {
     "data": {
      "text/html": [
       "<div>\n",
       "<style scoped>\n",
       "    .dataframe tbody tr th:only-of-type {\n",
       "        vertical-align: middle;\n",
       "    }\n",
       "\n",
       "    .dataframe tbody tr th {\n",
       "        vertical-align: top;\n",
       "    }\n",
       "\n",
       "    .dataframe thead th {\n",
       "        text-align: right;\n",
       "    }\n",
       "</style>\n",
       "<table border=\"1\" class=\"dataframe\">\n",
       "  <thead>\n",
       "    <tr style=\"text-align: right;\">\n",
       "      <th></th>\n",
       "      <th>id</th>\n",
       "      <th>version</th>\n",
       "      <th>user_id</th>\n",
       "      <th>tstamp</th>\n",
       "      <th>changeset_id</th>\n",
       "      <th>tags</th>\n",
       "      <th>geom</th>\n",
       "    </tr>\n",
       "  </thead>\n",
       "  <tbody>\n",
       "  </tbody>\n",
       "</table>\n",
       "</div>"
      ],
      "text/plain": [
       "Empty GeoDataFrame\n",
       "Columns: [id, version, user_id, tstamp, changeset_id, tags, geom]\n",
       "Index: []"
      ]
     },
     "execution_count": 160,
     "metadata": {},
     "output_type": "execute_result"
    }
   ],
   "source": [
    "gdf2"
   ]
  },
  {
   "cell_type": "code",
   "execution_count": 162,
   "id": "bb2492d5",
   "metadata": {},
   "outputs": [],
   "source": [
    "gdf_list = []"
   ]
  },
  {
   "cell_type": "code",
   "execution_count": 163,
   "id": "776dc575",
   "metadata": {},
   "outputs": [],
   "source": [
    "gdf_list.append(gdf1)"
   ]
  },
  {
   "cell_type": "code",
   "execution_count": 165,
   "id": "4b9aeb43",
   "metadata": {},
   "outputs": [],
   "source": [
    "gdf_list.append(gdf2)"
   ]
  },
  {
   "cell_type": "code",
   "execution_count": 167,
   "id": "e7b9c6fa",
   "metadata": {},
   "outputs": [
    {
     "data": {
      "text/plain": [
       "2"
      ]
     },
     "execution_count": 167,
     "metadata": {},
     "output_type": "execute_result"
    }
   ],
   "source": [
    "len(gdf_list)"
   ]
  },
  {
   "cell_type": "code",
   "execution_count": 169,
   "id": "7c68276a",
   "metadata": {},
   "outputs": [
    {
     "data": {
      "text/html": [
       "<div>\n",
       "<style scoped>\n",
       "    .dataframe tbody tr th:only-of-type {\n",
       "        vertical-align: middle;\n",
       "    }\n",
       "\n",
       "    .dataframe tbody tr th {\n",
       "        vertical-align: top;\n",
       "    }\n",
       "\n",
       "    .dataframe thead th {\n",
       "        text-align: right;\n",
       "    }\n",
       "</style>\n",
       "<table border=\"1\" class=\"dataframe\">\n",
       "  <thead>\n",
       "    <tr style=\"text-align: right;\">\n",
       "      <th></th>\n",
       "      <th>id</th>\n",
       "      <th>version</th>\n",
       "      <th>user_id</th>\n",
       "      <th>tstamp</th>\n",
       "      <th>changeset_id</th>\n",
       "      <th>tags</th>\n",
       "      <th>geom</th>\n",
       "    </tr>\n",
       "  </thead>\n",
       "  <tbody>\n",
       "  </tbody>\n",
       "</table>\n",
       "</div>"
      ],
      "text/plain": [
       "Empty GeoDataFrame\n",
       "Columns: [id, version, user_id, tstamp, changeset_id, tags, geom]\n",
       "Index: []"
      ]
     },
     "execution_count": 169,
     "metadata": {},
     "output_type": "execute_result"
    }
   ],
   "source": [
    "gdf_list[1]"
   ]
  },
  {
   "cell_type": "code",
   "execution_count": 173,
   "id": "fc13b322",
   "metadata": {},
   "outputs": [],
   "source": [
    "gdf_result = pd.concat(gdf_list)"
   ]
  },
  {
   "cell_type": "code",
   "execution_count": 174,
   "id": "6064476e",
   "metadata": {},
   "outputs": [
    {
     "data": {
      "text/html": [
       "<div>\n",
       "<style scoped>\n",
       "    .dataframe tbody tr th:only-of-type {\n",
       "        vertical-align: middle;\n",
       "    }\n",
       "\n",
       "    .dataframe tbody tr th {\n",
       "        vertical-align: top;\n",
       "    }\n",
       "\n",
       "    .dataframe thead th {\n",
       "        text-align: right;\n",
       "    }\n",
       "</style>\n",
       "<table border=\"1\" class=\"dataframe\">\n",
       "  <thead>\n",
       "    <tr style=\"text-align: right;\">\n",
       "      <th></th>\n",
       "      <th>id</th>\n",
       "      <th>version</th>\n",
       "      <th>user_id</th>\n",
       "      <th>tstamp</th>\n",
       "      <th>changeset_id</th>\n",
       "      <th>tags</th>\n",
       "      <th>geom</th>\n",
       "    </tr>\n",
       "  </thead>\n",
       "  <tbody>\n",
       "    <tr>\n",
       "      <th>1482964</th>\n",
       "      <td>7233992189</td>\n",
       "      <td>1</td>\n",
       "      <td>78466</td>\n",
       "      <td>2020-02-21 20:00:11</td>\n",
       "      <td>81331358</td>\n",
       "      <td>{'name': 'TSS Fladen', 'seamark:type': 'separa...</td>\n",
       "      <td>POINT (11.88517 57.21750)</td>\n",
       "    </tr>\n",
       "    <tr>\n",
       "      <th>1482967</th>\n",
       "      <td>7233992287</td>\n",
       "      <td>1</td>\n",
       "      <td>78466</td>\n",
       "      <td>2020-02-21 20:00:10</td>\n",
       "      <td>81331358</td>\n",
       "      <td>{'name': 'TSS Fladen', 'seamark:type': 'separa...</td>\n",
       "      <td>POINT (11.87600 57.22767)</td>\n",
       "    </tr>\n",
       "    <tr>\n",
       "      <th>1482968</th>\n",
       "      <td>7233992288</td>\n",
       "      <td>1</td>\n",
       "      <td>78466</td>\n",
       "      <td>2020-02-21 20:00:12</td>\n",
       "      <td>81331358</td>\n",
       "      <td>{'name': 'TSS Fladen', 'seamark:type': 'separa...</td>\n",
       "      <td>POINT (11.88083 57.23017)</td>\n",
       "    </tr>\n",
       "    <tr>\n",
       "      <th>1482969</th>\n",
       "      <td>7233992289</td>\n",
       "      <td>1</td>\n",
       "      <td>78466</td>\n",
       "      <td>2020-02-21 20:00:13</td>\n",
       "      <td>81331358</td>\n",
       "      <td>{'name': 'TSS Fladen', 'seamark:type': 'separa...</td>\n",
       "      <td>POINT (11.85617 57.24467)</td>\n",
       "    </tr>\n",
       "    <tr>\n",
       "      <th>1482970</th>\n",
       "      <td>7233992585</td>\n",
       "      <td>1</td>\n",
       "      <td>78466</td>\n",
       "      <td>2020-02-21 20:00:09</td>\n",
       "      <td>81331358</td>\n",
       "      <td>{'name': 'TSS Fladen', 'seamark:type': 'separa...</td>\n",
       "      <td>POINT (11.85133 57.24217)</td>\n",
       "    </tr>\n",
       "    <tr>\n",
       "      <th>1482971</th>\n",
       "      <td>7233992586</td>\n",
       "      <td>1</td>\n",
       "      <td>78466</td>\n",
       "      <td>2020-02-21 20:00:12</td>\n",
       "      <td>81331358</td>\n",
       "      <td>{'name': 'TSS Fladen', 'seamark:type': 'separa...</td>\n",
       "      <td>POINT (11.89150 57.21867)</td>\n",
       "    </tr>\n",
       "  </tbody>\n",
       "</table>\n",
       "</div>"
      ],
      "text/plain": [
       "                 id  version  user_id               tstamp  changeset_id   \n",
       "1482964  7233992189        1    78466  2020-02-21 20:00:11      81331358  \\\n",
       "1482967  7233992287        1    78466  2020-02-21 20:00:10      81331358   \n",
       "1482968  7233992288        1    78466  2020-02-21 20:00:12      81331358   \n",
       "1482969  7233992289        1    78466  2020-02-21 20:00:13      81331358   \n",
       "1482970  7233992585        1    78466  2020-02-21 20:00:09      81331358   \n",
       "1482971  7233992586        1    78466  2020-02-21 20:00:12      81331358   \n",
       "\n",
       "                                                      tags   \n",
       "1482964  {'name': 'TSS Fladen', 'seamark:type': 'separa...  \\\n",
       "1482967  {'name': 'TSS Fladen', 'seamark:type': 'separa...   \n",
       "1482968  {'name': 'TSS Fladen', 'seamark:type': 'separa...   \n",
       "1482969  {'name': 'TSS Fladen', 'seamark:type': 'separa...   \n",
       "1482970  {'name': 'TSS Fladen', 'seamark:type': 'separa...   \n",
       "1482971  {'name': 'TSS Fladen', 'seamark:type': 'separa...   \n",
       "\n",
       "                              geom  \n",
       "1482964  POINT (11.88517 57.21750)  \n",
       "1482967  POINT (11.87600 57.22767)  \n",
       "1482968  POINT (11.88083 57.23017)  \n",
       "1482969  POINT (11.85617 57.24467)  \n",
       "1482970  POINT (11.85133 57.24217)  \n",
       "1482971  POINT (11.89150 57.21867)  "
      ]
     },
     "execution_count": 174,
     "metadata": {},
     "output_type": "execute_result"
    }
   ],
   "source": [
    "gdf_result"
   ]
  },
  {
   "cell_type": "code",
   "execution_count": null,
   "id": "cf11c9ed",
   "metadata": {},
   "outputs": [],
   "source": []
  },
  {
   "cell_type": "code",
   "execution_count": null,
   "id": "08ae6884",
   "metadata": {},
   "outputs": [],
   "source": []
  },
  {
   "cell_type": "code",
   "execution_count": null,
   "id": "a3aaf6ff",
   "metadata": {},
   "outputs": [],
   "source": []
  },
  {
   "cell_type": "code",
   "execution_count": null,
   "id": "329654ee",
   "metadata": {},
   "outputs": [],
   "source": []
  },
  {
   "cell_type": "code",
   "execution_count": null,
   "id": "9c9a203a",
   "metadata": {},
   "outputs": [],
   "source": []
  },
  {
   "cell_type": "code",
   "execution_count": null,
   "id": "db1913c6",
   "metadata": {},
   "outputs": [],
   "source": []
  },
  {
   "cell_type": "code",
   "execution_count": null,
   "id": "be0822a6",
   "metadata": {},
   "outputs": [],
   "source": []
  },
  {
   "cell_type": "code",
   "execution_count": null,
   "id": "a39ab655",
   "metadata": {},
   "outputs": [],
   "source": []
  },
  {
   "cell_type": "code",
   "execution_count": null,
   "id": "13550da7",
   "metadata": {},
   "outputs": [],
   "source": []
  },
  {
   "cell_type": "code",
   "execution_count": null,
   "id": "384f54c2",
   "metadata": {},
   "outputs": [],
   "source": []
  },
  {
   "cell_type": "code",
   "execution_count": 185,
   "id": "3df6fadd",
   "metadata": {},
   "outputs": [
    {
     "data": {
      "text/html": [
       "<div>\n",
       "<style scoped>\n",
       "    .dataframe tbody tr th:only-of-type {\n",
       "        vertical-align: middle;\n",
       "    }\n",
       "\n",
       "    .dataframe tbody tr th {\n",
       "        vertical-align: top;\n",
       "    }\n",
       "\n",
       "    .dataframe thead th {\n",
       "        text-align: right;\n",
       "    }\n",
       "</style>\n",
       "<table border=\"1\" class=\"dataframe\">\n",
       "  <thead>\n",
       "    <tr style=\"text-align: right;\">\n",
       "      <th></th>\n",
       "      <th>tags</th>\n",
       "      <th>geometry</th>\n",
       "    </tr>\n",
       "  </thead>\n",
       "  <tbody>\n",
       "    <tr>\n",
       "      <th>0</th>\n",
       "      <td>{'seamark:type': 'separation_line'}</td>\n",
       "      <td>POINT (1.00000 2.00000)</td>\n",
       "    </tr>\n",
       "    <tr>\n",
       "      <th>1</th>\n",
       "      <td>{'seamark:type': 'separation_zone'}</td>\n",
       "      <td>POINT (4.00000 7.00000)</td>\n",
       "    </tr>\n",
       "    <tr>\n",
       "      <th>2</th>\n",
       "      <td>{}</td>\n",
       "      <td>None</td>\n",
       "    </tr>\n",
       "    <tr>\n",
       "      <th>0</th>\n",
       "      <td>{'seamark:type': 'separation_line'}</td>\n",
       "      <td>LINESTRING (7.00000 8.00000, 5.00000 9.00000)</td>\n",
       "    </tr>\n",
       "    <tr>\n",
       "      <th>1</th>\n",
       "      <td>{'seamark:type': 'separation_zone'}</td>\n",
       "      <td>LINESTRING (16.00000 14.00000, 8.00000 13.00000)</td>\n",
       "    </tr>\n",
       "    <tr>\n",
       "      <th>2</th>\n",
       "      <td>{'seamark:type': 'restricted_area'}</td>\n",
       "      <td>LINESTRING (2.00000 11.00000, 7.00000 15.00000)</td>\n",
       "    </tr>\n",
       "    <tr>\n",
       "      <th>3</th>\n",
       "      <td>{}</td>\n",
       "      <td>None</td>\n",
       "    </tr>\n",
       "  </tbody>\n",
       "</table>\n",
       "</div>"
      ],
      "text/plain": [
       "                                  tags   \n",
       "0  {'seamark:type': 'separation_line'}  \\\n",
       "1  {'seamark:type': 'separation_zone'}   \n",
       "2                                   {}   \n",
       "0  {'seamark:type': 'separation_line'}   \n",
       "1  {'seamark:type': 'separation_zone'}   \n",
       "2  {'seamark:type': 'restricted_area'}   \n",
       "3                                   {}   \n",
       "\n",
       "                                           geometry  \n",
       "0                           POINT (1.00000 2.00000)  \n",
       "1                           POINT (4.00000 7.00000)  \n",
       "2                                              None  \n",
       "0     LINESTRING (7.00000 8.00000, 5.00000 9.00000)  \n",
       "1  LINESTRING (16.00000 14.00000, 8.00000 13.00000)  \n",
       "2   LINESTRING (2.00000 11.00000, 7.00000 15.00000)  \n",
       "3                                              None  "
      ]
     },
     "execution_count": 185,
     "metadata": {},
     "output_type": "execute_result"
    }
   ],
   "source": [
    "#creating dummy data point\n",
    "nodes1 = {\"tags\": [{'seamark:type': 'separation_line'},\n",
    "                   {'seamark:type': 'separation_zone'},\n",
    "                   {''}],\n",
    "            \"geometry\": [Point(1, 2), Point(4, 7), None]}\n",
    "nodes_df = gpd.GeoDataFrame(nodes1)\n",
    "\n",
    "ways1 = {\"tags\": [{'seamark:type': 'separation_line'},\n",
    "                    {'seamark:type': 'separation_zone'},\n",
    "                    {'seamark:type': 'restricted_area'},\n",
    "                    {''}],\n",
    "           \"geometry\": [LineString([(7, 8), (5, 9)]), LineString([(16, 14), (8, 13)]), LineString([(2, 11), (7, 15)]), None]}\n",
    "\n",
    "ways_df = gpd.GeoDataFrame(ways1)\n",
    "\n",
    "concat_df = pd.concat([nodes_df, ways_df])\n",
    "concat_df"
   ]
  },
  {
   "cell_type": "code",
   "execution_count": 186,
   "id": "5d891c46",
   "metadata": {},
   "outputs": [
    {
     "data": {
      "text/html": [
       "<div>\n",
       "<style scoped>\n",
       "    .dataframe tbody tr th:only-of-type {\n",
       "        vertical-align: middle;\n",
       "    }\n",
       "\n",
       "    .dataframe tbody tr th {\n",
       "        vertical-align: top;\n",
       "    }\n",
       "\n",
       "    .dataframe thead th {\n",
       "        text-align: right;\n",
       "    }\n",
       "</style>\n",
       "<table border=\"1\" class=\"dataframe\">\n",
       "  <thead>\n",
       "    <tr style=\"text-align: right;\">\n",
       "      <th></th>\n",
       "      <th>tags</th>\n",
       "      <th>geometry</th>\n",
       "    </tr>\n",
       "  </thead>\n",
       "  <tbody>\n",
       "    <tr>\n",
       "      <th>0</th>\n",
       "      <td>{'seamark:type': 'separation_line'}</td>\n",
       "      <td>LINESTRING (7.00000 8.00000, 5.00000 9.00000)</td>\n",
       "    </tr>\n",
       "  </tbody>\n",
       "</table>\n",
       "</div>"
      ],
      "text/plain": [
       "                                  tags   \n",
       "0  {'seamark:type': 'separation_line'}  \\\n",
       "\n",
       "                                        geometry  \n",
       "0  LINESTRING (7.00000 8.00000, 5.00000 9.00000)  "
      ]
     },
     "execution_count": 186,
     "metadata": {},
     "output_type": "execute_result"
    }
   ],
   "source": [
    "route = {\"tags\": [{'seamark:type': 'separation_line'}], \"geometry\": [LineString([(7, 8), (5, 9)])]}\n",
    "route_df = gpd.GeoDataFrame(route)\n",
    "route_df"
   ]
  },
  {
   "cell_type": "code",
   "execution_count": 166,
   "id": "2cf7bdae",
   "metadata": {},
   "outputs": [
    {
     "name": "stdout",
     "output_type": "stream",
     "text": [
      "intersects for the geometry object with [[0], [3]]\n",
      "contains for the geometry object with [[0], [3]]\n",
      "no touches for the geometry objects with [[], []]\n",
      "no crosses for the geometry objects with [[], []]\n",
      "no overlaps for the geometry objects with [[], []]\n"
     ]
    },
    {
     "data": {
      "text/plain": [
       "[(<shapely.strtree.STRtree at 0x7f8a46473be0>, 'intersects', [[0], [3]]),\n",
       " (<shapely.strtree.STRtree at 0x7f8a45d55ae0>, 'contains', [[0], [3]])]"
      ]
     },
     "execution_count": 166,
     "metadata": {},
     "output_type": "execute_result"
    }
   ],
   "source": [
    "def check_crosses():\n",
    "    query_tree = []\n",
    "    tree_list = []\n",
    "    for predicate in predicates:\n",
    "        tree = STRtree(concat_df['geometry'])\n",
    "        tree_list.append(tree)\n",
    "        #route['geometry'] should e the geometry of the route that will be tested\n",
    "        geom_object= (tree.query(route_df['geometry'], predicate=predicate).tolist())\n",
    "        #print(f'{a} on the predicate {predicate}')\n",
    "        #query_tree.append(geom_object)\n",
    "        if geom_object == [[],[]] or geom_object == []:\n",
    "            print(f'no {predicate} for the geometry objects with {geom_object}')\n",
    "        else:\n",
    "            print(f'{predicate} for the geometry object with {geom_object}')\n",
    "            query_tree.append((tree,predicate,geom_object))\n",
    "        #no_null_tree = [sublist for sublist in query_tree if sublist != [[], []]]\n",
    "        #print(new_tree)\n",
    "    return query_tree\n",
    "    # if tree != '[[], []]':\n",
    "    #     query_tree.append(tree)\n",
    "    # else:\n",
    "#     #     logger.info('No crossing')\n",
    "# for tree in query_tree:\n",
    "check_crosses()"
   ]
  },
  {
   "cell_type": "code",
   "execution_count": null,
   "id": "742e305b",
   "metadata": {},
   "outputs": [],
   "source": [
    "# Extract x and y coordinates from LineString 1\n",
    "line1_x, line1_y = test_separation_zone.xy\n",
    "\n",
    "# Extract x and y coordinates from LineString 2\n",
    "line2_x, line2_y = test_route.xy\n",
    "\n",
    "# Create a new figure and axes\n",
    "fig, ax = plt.subplots()\n",
    "\n",
    "# Plot LineString 1\n",
    "ax.plot(line1_x, line1_y, label='Separation')\n",
    "\n",
    "# Plot LineString 2\n",
    "ax.plot(line2_x, line2_y, label='Route')\n",
    "\n",
    "# Add legend\n",
    "ax.legend()\n",
    "\n",
    "# Show the plot\n",
    "plt.show()"
   ]
  },
  {
   "cell_type": "code",
   "execution_count": 191,
   "id": "96e01e25",
   "metadata": {},
   "outputs": [
    {
     "data": {
      "text/plain": [
       "<Axes: >"
      ]
     },
     "execution_count": 191,
     "metadata": {},
     "output_type": "execute_result"
    },
    {
     "data": {
      "image/png": "[encoded data removed]",
      "text/plain": [
       "<Figure size 640x480 with 1 Axes>"
      ]
     },
     "metadata": {},
     "output_type": "display_data"
    }
   ],
   "source": [
    "concat_df['geometry'].plot()"
   ]
  },
  {
   "cell_type": "code",
   "execution_count": 192,
   "id": "d3f1cd3a",
   "metadata": {},
   "outputs": [
    {
     "data": {
      "text/plain": [
       "<Axes: >"
      ]
     },
     "execution_count": 192,
     "metadata": {},
     "output_type": "execute_result"
    },
    {
     "data": {
      "image/png": "[encoded data removed]",
      "text/plain": [
       "<Figure size 640x480 with 1 Axes>"
      ]
     },
     "metadata": {},
     "output_type": "display_data"
    }
   ],
   "source": [
    "route_df['geometry'].plot()"
   ]
  },
  {
   "cell_type": "code",
   "execution_count": 189,
   "id": "1bcdce70",
   "metadata": {},
   "outputs": [
    {
     "data": {
      "image/png": "[encoded data removed]",
      "text/plain": [
       "<Figure size 1000x1000 with 1 Axes>"
      ]
     },
     "metadata": {},
     "output_type": "display_data"
    }
   ],
   "source": [
    "import geopandas as gpd\n",
    "import matplotlib.pyplot as plt\n",
    "\n",
    "# Load your GeoPandas series data\n",
    "series1 = concat_df['geometry']\n",
    "series2 = route_df['geometry']\n",
    "\n",
    "# Create a new figure and axis\n",
    "fig, ax = plt.subplots(figsize=(10, 10))\n",
    "\n",
    "# Plot the first series\n",
    "series1.plot(ax=ax, color='green', alpha=0.5, edgecolor='black')\n",
    "\n",
    "# Plot the second series\n",
    "series2.plot(ax=ax, color='blue', alpha=0.5, edgecolor='black')\n",
    "\n",
    "# Set the axis labels and title\n",
    "ax.set_xlabel('Longitude')\n",
    "ax.set_ylabel('Latitude')\n",
    "ax.set_title('Two GeoPandas Series')\n",
    "\n",
    "# Show the plot\n",
    "plt.show()"
   ]
  },
  {
   "cell_type": "code",
   "execution_count": 194,
   "id": "366e0433",
   "metadata": {},
   "outputs": [
    {
     "data": {
      "image/svg+xml": [
       "<svg xmlns=\"http://www.w3.org/2000/svg\" xmlns:xlink=\"http://www.w3.org/1999/xlink\" width=\"100.0\" height=\"100.0\" viewBox=\"4.92 7.92 2.16 1.1600000000000001\" preserveAspectRatio=\"xMinYMin meet\"><g transform=\"matrix(1,0,0,-1,0,17.0)\"><polyline fill=\"none\" stroke=\"#66cc99\" stroke-width=\"0.0432\" points=\"7.0,8.0 5.0,9.0\" opacity=\"0.8\" /></g></svg>"
      ],
      "text/plain": [
       "<LINESTRING (7 8, 5 9)>"
      ]
     },
     "execution_count": 194,
     "metadata": {},
     "output_type": "execute_result"
    }
   ],
   "source": [
    "line1 = LineString([(7, 8), (5, 9)])\n",
    "line1"
   ]
  },
  {
   "cell_type": "code",
   "execution_count": 195,
   "id": "917cffd7",
   "metadata": {},
   "outputs": [
    {
     "data": {
      "image/svg+xml": [
       "<svg xmlns=\"http://www.w3.org/2000/svg\" xmlns:xlink=\"http://www.w3.org/1999/xlink\" width=\"100.0\" height=\"100.0\" viewBox=\"4.92 7.92 2.16 1.1600000000000001\" preserveAspectRatio=\"xMinYMin meet\"><g transform=\"matrix(1,0,0,-1,0,17.0)\"><polyline fill=\"none\" stroke=\"#66cc99\" stroke-width=\"0.0432\" points=\"7.0,8.0 5.0,9.0\" opacity=\"0.8\" /></g></svg>"
      ],
      "text/plain": [
       "<LINESTRING (7 8, 5 9)>"
      ]
     },
     "execution_count": 195,
     "metadata": {},
     "output_type": "execute_result"
    }
   ],
   "source": [
    "line2 = LineString([(7, 8), (5, 9)])\n",
    "line2"
   ]
  },
  {
   "cell_type": "code",
   "execution_count": 197,
   "id": "c57be300",
   "metadata": {},
   "outputs": [
    {
     "data": {
      "text/plain": [
       "True"
      ]
     },
     "execution_count": 197,
     "metadata": {},
     "output_type": "execute_result"
    }
   ],
   "source": [
    "line1.intersects(line2)"
   ]
  },
  {
   "cell_type": "code",
   "execution_count": 198,
   "id": "231a28cf",
   "metadata": {},
   "outputs": [
    {
     "data": {
      "text/plain": [
       "False"
      ]
     },
     "execution_count": 198,
     "metadata": {},
     "output_type": "execute_result"
    }
   ],
   "source": [
    "line1.overlaps(line2)"
   ]
  },
  {
   "cell_type": "code",
   "execution_count": 199,
   "id": "2559494e",
   "metadata": {},
   "outputs": [
    {
     "data": {
      "text/plain": [
       "<bound method BaseGeometry.overlaps of <LINESTRING (7 8, 5 9)>>"
      ]
     },
     "execution_count": 199,
     "metadata": {},
     "output_type": "execute_result"
    }
   ],
   "source": [
    "line1.overlaps"
   ]
  },
  {
   "cell_type": "code",
   "execution_count": null,
   "id": "454a01a2",
   "metadata": {},
   "outputs": [],
   "source": []
  },
  {
   "cell_type": "code",
   "execution_count": null,
   "id": "ed3d9fcd",
   "metadata": {},
   "outputs": [],
   "source": []
  },
  {
   "cell_type": "code",
   "execution_count": null,
   "id": "62c308ae",
   "metadata": {},
   "outputs": [],
   "source": []
  },
  {
   "cell_type": "code",
   "execution_count": 201,
   "id": "604e165a",
   "metadata": {},
   "outputs": [],
   "source": [
    "from shapely.geometry import Polygon"
   ]
  },
  {
   "cell_type": "code",
   "execution_count": null,
   "id": "ec561144",
   "metadata": {},
   "outputs": [],
   "source": []
  },
  {
   "cell_type": "code",
   "execution_count": null,
   "id": "a5aae3d9",
   "metadata": {},
   "outputs": [],
   "source": []
  },
  {
   "cell_type": "code",
   "execution_count": 209,
   "id": "d3adeb51",
   "metadata": {},
   "outputs": [
    {
     "data": {
      "text/plain": [
       "[<POINT (-0.036 51.52)>,\n",
       " <POINT (-0.035 51.515)>,\n",
       " <POINT (-0.038 51.525)>,\n",
       " <POINT (6.16 49.118)>,\n",
       " <POINT (11.238 60.427)>,\n",
       " <POINT (11.238 60.428)>,\n",
       " <POINT (11.237 60.427)>,\n",
       " <POINT (11.235 60.401)>,\n",
       " <POINT (-1.38 50.899)>,\n",
       " <POINT (16.599 58.442)>]"
      ]
     },
     "execution_count": 209,
     "metadata": {},
     "output_type": "execute_result"
    }
   ],
   "source": [
    "nodes = table_list_gdf_nodes2['geom'].apply(lambda x: x).tolist()\n",
    "nodes[:10]"
   ]
  },
  {
   "cell_type": "code",
   "execution_count": 214,
   "id": "0157bf12",
   "metadata": {},
   "outputs": [
    {
     "ename": "AssertionError",
     "evalue": "Linestring Instantiation Error",
     "output_type": "error",
     "traceback": [
      "\u001b[0;31m---------------------------------------------------------------------------\u001b[0m",
      "\u001b[0;31mAssertionError\u001b[0m                            Traceback (most recent call last)",
      "Cell \u001b[0;32mIn[214], line 2\u001b[0m\n\u001b[1;32m      1\u001b[0m \u001b[38;5;28;01mfor\u001b[39;00m geom \u001b[38;5;129;01min\u001b[39;00m nodes:\n\u001b[0;32m----> 2\u001b[0m         \u001b[38;5;28;01massert\u001b[39;00m \u001b[38;5;28misinstance\u001b[39m(geom, Polygon), \u001b[38;5;124m\"\u001b[39m\u001b[38;5;124mLinestring Instantiation Error\u001b[39m\u001b[38;5;124m\"\u001b[39m\n",
      "\u001b[0;31mAssertionError\u001b[0m: Linestring Instantiation Error"
     ]
    }
   ],
   "source": [
    "for geom in nodes:\n",
    "        assert isinstance(geom, Polygon), \"Linestring Instantiation Error\"\n",
    "\n"
   ]
  },
  {
   "cell_type": "code",
   "execution_count": 215,
   "id": "d16e04df",
   "metadata": {},
   "outputs": [
    {
     "data": {
      "text/plain": [
       "[<LINESTRING (11.811 55.665, 11.811 55.665, 11.811 55.665, 11.81 55.665, 11.8...>,\n",
       " <LINESTRING (11.171 55.5, 11.172 55.499, 11.172 55.499, 11.173 55.498, 11.17...>,\n",
       " <LINESTRING (11.277 55.24, 11.277 55.24, 11.277 55.24, 11.277 55.24, 11.277 ...>,\n",
       " <LINESTRING (8.471 56.714, 8.471 56.714, 8.471 56.714, 8.471 56.714, 8.469 5...>,\n",
       " <LINESTRING (5.755 52.974, 5.755 52.974)>,\n",
       " <LINESTRING (8.557 56.688, 8.556 56.688, 8.556 56.687, 8.556 56.687, 8.556 5...>,\n",
       " <LINESTRING (8.277 56.598, 8.276 56.598, 8.274 56.598, 8.271 56.598, 8.267 5...>,\n",
       " <LINESTRING (5.615 51.941, 5.615 51.941, 5.615 51.941, 5.615 51.942, 5.615 5...>,\n",
       " <LINESTRING (8.253 56.776, 8.254 56.776, 8.254 56.776, 8.254 56.776, 8.254 5...>,\n",
       " <LINESTRING (5.603 51.898, 5.603 51.898, 5.603 51.898, 5.603 51.898, 5.603 5...>]"
      ]
     },
     "execution_count": 215,
     "metadata": {},
     "output_type": "execute_result"
    }
   ],
   "source": [
    "ways = table_list_gdf_ways2['geom'].apply(lambda x: x).tolist()\n",
    "ways[:10]"
   ]
  },
  {
   "cell_type": "code",
   "execution_count": 218,
   "id": "41d477db",
   "metadata": {},
   "outputs": [
    {
     "ename": "AssertionError",
     "evalue": "Linestring Instantiation Error",
     "output_type": "error",
     "traceback": [
      "\u001b[0;31m---------------------------------------------------------------------------\u001b[0m",
      "\u001b[0;31mAssertionError\u001b[0m                            Traceback (most recent call last)",
      "Cell \u001b[0;32mIn[218], line 2\u001b[0m\n\u001b[1;32m      1\u001b[0m \u001b[38;5;28;01mfor\u001b[39;00m geom \u001b[38;5;129;01min\u001b[39;00m ways:\n\u001b[0;32m----> 2\u001b[0m         \u001b[38;5;28;01massert\u001b[39;00m \u001b[38;5;28misinstance\u001b[39m(geom, Point), \u001b[38;5;124m\"\u001b[39m\u001b[38;5;124mLinestring Instantiation Error\u001b[39m\u001b[38;5;124m\"\u001b[39m\n",
      "\u001b[0;31mAssertionError\u001b[0m: Linestring Instantiation Error"
     ]
    }
   ],
   "source": [
    "for geom in ways:\n",
    "        assert isinstance(geom, Point), \"Linestring Instantiation Error\"\n",
    "\n"
   ]
  },
  {
   "cell_type": "code",
   "execution_count": 21,
   "id": "0f715ef3",
   "metadata": {},
   "outputs": [],
   "source": [
    "from shapely.geometry import Point, LineString"
   ]
  },
  {
   "cell_type": "code",
   "execution_count": null,
   "id": "9352d8b3",
   "metadata": {
    "scrolled": true
   },
   "outputs": [],
   "source": [
    "pd.DataFrame(columns=['tags', 'geom'], \n",
    "             data=[[{'waterway': 'lock_gate', 'seamark:type': 'gate'},Point(5, 15)],\n",
    "                   [{'seamark:type': 'harbour'},Point(9.91950, 57.06081)],\n",
    "                   [{'seamark:type': 'buoy_cardinal'},Point(12.01631, 48.92595)],\n",
    "                   [{'seamark:type': 'separation_boundary'},Point(12.01631, 48.92595)],\n",
    "                   [{'seamark:type': 'separation_crossing'},Point(12.01631, 48.92595)],\n",
    "                   [{'seamark:type': 'separation_lane'},Point(12.01631, 48.92595)],\n",
    "                   [{'seamark:type': 'separation_roundabout'},Point(12.01631, 48.92595)],\n",
    "                   [{'seamark:type': 'separation_zone'},Point(12.01631, 48.92595)],\n",
    "                   [{'seamark:type': 'restricted_area'},Point(12.01631, 48.92595)],                   \n",
    "                   [{'seamark:type': 'separation_boundary'},LineString([(3.2738333, 51.8765), (3.154833, 51.853667)])],\n",
    "                   [{'seamark:type': 'separation_crossing'},LineString([(6.3732417, 54.192091), (6.3593333, 54.1919199),(6.3310833, 54.1905871), (6.3182992, 54.189601)])],\n",
    "                   [{'seamark:type': 'separation_lane'},LineString([(24.6575999, 59.6085725), (24.7026512, 59.5505585)])],\n",
    "                   [{'seamark:type': 'separation_roundabout'},LineString([(27.9974563, 43.186327), (27.998524, 43.1864565),(27.9995173, 43.186412), (28.0012373, 43.1859232), (28.0020059, 43.1854689), (28.0025203, 43.1850186),(28.0029253, 43.1845006), (28.0032216, 43.1838693),(27.9947856, 43.1813859), (27.9944414, 43.1819034),(27.9941705, 43.1826993), (27.9941723, 43.1835194),(27.9944142, 43.1842511), (27.9947709, 43.1848037),(27.9953623, 43.1853841), (27.9961109, 43.1858589),(27.9974563, 43.186327)])],\n",
    "                   [{'seamark:type': 'separation_zone'},LineString([(-1.9830398, 49.2927514), (-1.9830233, 49.2925889), (-1.9828257, 49.2924815), (-1.9827145, 49.2925089),(-1.9828543, 49.2927771), (-1.9830398, 49.2927514)])],\n",
    "                   [{'seamark:type': 'restricted_area'},LineString([(12.3569916, 47.9186626), (12.3567217, 47.9188108),(12.3564934, 47.9189565), (12.3564734, 47.9191199),(12.3565413, 47.9192803), (12.3568636, 47.919524),(12.3571719, 47.9196858), (12.3575482, 47.9197593),(12.3579399, 47.9198024), (12.3587152, 47.9200541),(12.3594448, 47.9203064), (12.3596907, 47.9203917),(12.3599993, 47.9204654), (12.3604107, 47.9205391),(12.3608174, 47.9205554), (12.3610279, 47.9205224),(12.3612053, 47.9204511), (12.3614394, 47.9201326),(12.3616484, 47.9198195), (12.3616249, 47.9196335),(12.361631, 47.9194503), (12.3616174, 47.9193071),(12.36156, 47.9192435), (12.3614394, 47.9191936),(12.3611173, 47.9191633), (12.3609535, 47.9190676),(12.3607335, 47.9189749), (12.3604259, 47.918891),(12.3595763, 47.9187613), (12.3587674, 47.9185358),(12.3584371, 47.9183784), (12.3582044, 47.9182997),(12.3579056, 47.918306), (12.3576587, 47.9183381),(12.3573105, 47.9184692), (12.3569916, 47.9186626)])],\n",
    "                  ])\n"
   ]
  },
  {
   "cell_type": "code",
   "execution_count": 93,
   "id": "e10d4664",
   "metadata": {},
   "outputs": [
    {
     "name": "stdout",
     "output_type": "stream",
     "text": [
      "LINESTRING (12.3569916 47.9186626, 12.3567217 47.9188108, 12.3564934 47.9189565, 12.3564734 47.9191199, 12.3565413 47.9192803, 12.3568636 47.919524, 12.3571719 47.9196858, 12.3575482 47.9197593, 12.3579399 47.9198024, 12.3587152 47.9200541, 12.3594448 47.9203064, 12.3596907 47.9203917, 12.3599993 47.9204654, 12.3604107 47.9205391, 12.3608174 47.9205554, 12.3610279 47.9205224, 12.3612053 47.9204511, 12.3614394 47.9201326, 12.3616484 47.9198195, 12.3616249 47.9196335, 12.361631 47.9194503, 12.3616174 47.9193071, 12.36156 47.9192435, 12.3614394 47.9191936, 12.3611173 47.9191633, 12.3609535 47.9190676, 12.3607335 47.9189749, 12.3604259 47.918891, 12.3595763 47.9187613, 12.3587674 47.9185358, 12.3584371 47.9183784, 12.3582044 47.9182997, 12.3579056 47.918306, 12.3576587 47.9183381, 12.3573105 47.9184692, 12.3569916 47.9186626)\n"
     ]
    }
   ],
   "source": [
    "print(filtered_gdf_seamark(table_list_gdf_ways2, 'restricted_area')['geom'].iloc[0])"
   ]
  },
  {
   "cell_type": "code",
   "execution_count": 38,
   "id": "c538d498",
   "metadata": {},
   "outputs": [
    {
     "data": {
      "text/plain": [
       "2098804    {'name': 'Bharat Petroleum', 'waterway': 'fuel...\n",
       "2098805                                                   {}\n",
       "2098806                                                   {}\n",
       "2098807                                                   {}\n",
       "2098808                                                   {}\n",
       "Name: tags, dtype: object"
      ]
     },
     "execution_count": 38,
     "metadata": {},
     "output_type": "execute_result"
    }
   ],
   "source": [
    "table_list_gdf_nodes2['tags'].tail()"
   ]
  },
  {
   "cell_type": "code",
   "execution_count": 39,
   "id": "78c94c3b",
   "metadata": {},
   "outputs": [
    {
     "data": {
      "text/html": [
       "<div>\n",
       "<style scoped>\n",
       "    .dataframe tbody tr th:only-of-type {\n",
       "        vertical-align: middle;\n",
       "    }\n",
       "\n",
       "    .dataframe tbody tr th {\n",
       "        vertical-align: top;\n",
       "    }\n",
       "\n",
       "    .dataframe thead th {\n",
       "        text-align: right;\n",
       "    }\n",
       "</style>\n",
       "<table border=\"1\" class=\"dataframe\">\n",
       "  <thead>\n",
       "    <tr style=\"text-align: right;\">\n",
       "      <th></th>\n",
       "      <th>id</th>\n",
       "      <th>version</th>\n",
       "      <th>user_id</th>\n",
       "      <th>tstamp</th>\n",
       "      <th>changeset_id</th>\n",
       "      <th>tags</th>\n",
       "      <th>geom</th>\n",
       "    </tr>\n",
       "  </thead>\n",
       "  <tbody>\n",
       "    <tr>\n",
       "      <th>0</th>\n",
       "      <td>106904</td>\n",
       "      <td>5</td>\n",
       "      <td>4948143</td>\n",
       "      <td>2020-06-15 19:23:35</td>\n",
       "      <td>86684855</td>\n",
       "      <td>{'waterway': 'lock_gate', 'seamark:type': 'gate'}</td>\n",
       "      <td>POINT (-0.03623 51.51956)</td>\n",
       "    </tr>\n",
       "    <tr>\n",
       "      <th>1</th>\n",
       "      <td>108735</td>\n",
       "      <td>6</td>\n",
       "      <td>4948143</td>\n",
       "      <td>2020-06-15 19:23:35</td>\n",
       "      <td>86684855</td>\n",
       "      <td>{'waterway': 'lock_gate', 'seamark:type': 'gate'}</td>\n",
       "      <td>POINT (-0.03489 51.51475)</td>\n",
       "    </tr>\n",
       "    <tr>\n",
       "      <th>2</th>\n",
       "      <td>110210</td>\n",
       "      <td>7</td>\n",
       "      <td>4948143</td>\n",
       "      <td>2020-06-15 19:23:35</td>\n",
       "      <td>86684855</td>\n",
       "      <td>{'waterway': 'lock_gate', 'seamark:type': 'gate'}</td>\n",
       "      <td>POINT (-0.03777 51.52499)</td>\n",
       "    </tr>\n",
       "    <tr>\n",
       "      <th>3</th>\n",
       "      <td>142325</td>\n",
       "      <td>5</td>\n",
       "      <td>53773</td>\n",
       "      <td>2017-04-26 14:43:20</td>\n",
       "      <td>48165623</td>\n",
       "      <td>{}</td>\n",
       "      <td>POINT (6.16037 49.11819)</td>\n",
       "    </tr>\n",
       "    <tr>\n",
       "      <th>4</th>\n",
       "      <td>148969</td>\n",
       "      <td>14</td>\n",
       "      <td>420980</td>\n",
       "      <td>2018-10-23 11:53:56</td>\n",
       "      <td>63792931</td>\n",
       "      <td>{}</td>\n",
       "      <td>POINT (11.23781 60.42730)</td>\n",
       "    </tr>\n",
       "    <tr>\n",
       "      <th>...</th>\n",
       "      <td>...</td>\n",
       "      <td>...</td>\n",
       "      <td>...</td>\n",
       "      <td>...</td>\n",
       "      <td>...</td>\n",
       "      <td>...</td>\n",
       "      <td>...</td>\n",
       "    </tr>\n",
       "    <tr>\n",
       "      <th>95</th>\n",
       "      <td>12943100</td>\n",
       "      <td>5</td>\n",
       "      <td>4948143</td>\n",
       "      <td>2019-11-20 23:16:03</td>\n",
       "      <td>77347697</td>\n",
       "      <td>{'lock': 'yes', 'waterway': 'lock_gate', 'seam...</td>\n",
       "      <td>POINT (-1.75687 52.73175)</td>\n",
       "    </tr>\n",
       "    <tr>\n",
       "      <th>96</th>\n",
       "      <td>12976533</td>\n",
       "      <td>4</td>\n",
       "      <td>4948143</td>\n",
       "      <td>2019-11-20 23:16:03</td>\n",
       "      <td>77347697</td>\n",
       "      <td>{'waterway': 'lock_gate', 'seamark:type': 'gate'}</td>\n",
       "      <td>POINT (-1.79623 52.72271)</td>\n",
       "    </tr>\n",
       "    <tr>\n",
       "      <th>97</th>\n",
       "      <td>12976534</td>\n",
       "      <td>8</td>\n",
       "      <td>4948143</td>\n",
       "      <td>2019-11-20 23:16:03</td>\n",
       "      <td>77347697</td>\n",
       "      <td>{'waterway': 'lock_gate', 'seamark:type': 'gate'}</td>\n",
       "      <td>POINT (-1.79656 52.72260)</td>\n",
       "    </tr>\n",
       "    <tr>\n",
       "      <th>98</th>\n",
       "      <td>12976540</td>\n",
       "      <td>8</td>\n",
       "      <td>4948143</td>\n",
       "      <td>2019-11-20 23:16:03</td>\n",
       "      <td>77347697</td>\n",
       "      <td>{'waterway': 'lock_gate', 'seamark:type': 'gate'}</td>\n",
       "      <td>POINT (-1.79868 52.72173)</td>\n",
       "    </tr>\n",
       "    <tr>\n",
       "      <th>99</th>\n",
       "      <td>12976541</td>\n",
       "      <td>5</td>\n",
       "      <td>4948143</td>\n",
       "      <td>2019-11-20 23:16:03</td>\n",
       "      <td>77347697</td>\n",
       "      <td>{'waterway': 'lock_gate', 'seamark:type': 'gate'}</td>\n",
       "      <td>POINT (-1.79842 52.72188)</td>\n",
       "    </tr>\n",
       "  </tbody>\n",
       "</table>\n",
       "<p>100 rows × 7 columns</p>\n",
       "</div>"
      ],
      "text/plain": [
       "          id  version  user_id               tstamp  changeset_id   \n",
       "0     106904        5  4948143  2020-06-15 19:23:35      86684855  \\\n",
       "1     108735        6  4948143  2020-06-15 19:23:35      86684855   \n",
       "2     110210        7  4948143  2020-06-15 19:23:35      86684855   \n",
       "3     142325        5    53773  2017-04-26 14:43:20      48165623   \n",
       "4     148969       14   420980  2018-10-23 11:53:56      63792931   \n",
       "..       ...      ...      ...                  ...           ...   \n",
       "95  12943100        5  4948143  2019-11-20 23:16:03      77347697   \n",
       "96  12976533        4  4948143  2019-11-20 23:16:03      77347697   \n",
       "97  12976534        8  4948143  2019-11-20 23:16:03      77347697   \n",
       "98  12976540        8  4948143  2019-11-20 23:16:03      77347697   \n",
       "99  12976541        5  4948143  2019-11-20 23:16:03      77347697   \n",
       "\n",
       "                                                 tags   \n",
       "0   {'waterway': 'lock_gate', 'seamark:type': 'gate'}  \\\n",
       "1   {'waterway': 'lock_gate', 'seamark:type': 'gate'}   \n",
       "2   {'waterway': 'lock_gate', 'seamark:type': 'gate'}   \n",
       "3                                                  {}   \n",
       "4                                                  {}   \n",
       "..                                                ...   \n",
       "95  {'lock': 'yes', 'waterway': 'lock_gate', 'seam...   \n",
       "96  {'waterway': 'lock_gate', 'seamark:type': 'gate'}   \n",
       "97  {'waterway': 'lock_gate', 'seamark:type': 'gate'}   \n",
       "98  {'waterway': 'lock_gate', 'seamark:type': 'gate'}   \n",
       "99  {'waterway': 'lock_gate', 'seamark:type': 'gate'}   \n",
       "\n",
       "                         geom  \n",
       "0   POINT (-0.03623 51.51956)  \n",
       "1   POINT (-0.03489 51.51475)  \n",
       "2   POINT (-0.03777 51.52499)  \n",
       "3    POINT (6.16037 49.11819)  \n",
       "4   POINT (11.23781 60.42730)  \n",
       "..                        ...  \n",
       "95  POINT (-1.75687 52.73175)  \n",
       "96  POINT (-1.79623 52.72271)  \n",
       "97  POINT (-1.79656 52.72260)  \n",
       "98  POINT (-1.79868 52.72173)  \n",
       "99  POINT (-1.79842 52.72188)  \n",
       "\n",
       "[100 rows x 7 columns]"
      ]
     },
     "execution_count": 39,
     "metadata": {},
     "output_type": "execute_result"
    }
   ],
   "source": [
    "table_list_gdf_nodes2.head(100)"
   ]
  },
  {
   "cell_type": "code",
   "execution_count": null,
   "id": "3cf97359",
   "metadata": {},
   "outputs": [],
   "source": []
  },
  {
   "cell_type": "code",
   "execution_count": null,
   "id": "f6067e64",
   "metadata": {},
   "outputs": [],
   "source": []
  },
  {
   "cell_type": "code",
   "execution_count": null,
   "id": "78fe2050",
   "metadata": {},
   "outputs": [],
   "source": []
  },
  {
   "cell_type": "code",
   "execution_count": null,
   "id": "c3e37a24",
   "metadata": {},
   "outputs": [],
   "source": []
  },
  {
   "cell_type": "code",
   "execution_count": null,
   "id": "cdcc2d99",
   "metadata": {},
   "outputs": [],
   "source": []
  },
  {
   "cell_type": "markdown",
   "id": "5e45be3f",
   "metadata": {},
   "source": [
    "## Checking for sqlite engine connection"
   ]
  },
  {
   "cell_type": "code",
   "execution_count": null,
   "id": "e6dd4536",
   "metadata": {},
   "outputs": [],
   "source": [
    "\n",
    "import geopandas as gpd\n",
    "import pandas as pd\n",
    "from shapely.geometry import Point, LineString\n",
    "from sqlalchemy import create_engine\n",
    "# shapely method to convert geometry objects into their well-known-binary representation\n",
    "import shapely.wkb\n",
    "\n",
    "# sqlite/spatialite\n",
    "from sqlalchemy import create_engine, event\n",
    "from sqlite3 import dbapi2 as sqlite"
   ]
  },
  {
   "cell_type": "code",
   "execution_count": null,
   "id": "26775802",
   "metadata": {},
   "outputs": [],
   "source": [
    "# create database engine and create sqlite database\n",
    "engine = create_engine('sqlite:///gdfDB.sqlite')#, module=sqlite)"
   ]
  },
  {
   "cell_type": "code",
   "execution_count": null,
   "id": "ef45ad11",
   "metadata": {},
   "outputs": [],
   "source": [
    "nodes_gdf = gpd.GeoDataFrame(columns=['tags', 'geom'],\n",
    "             data=[[{'waterway': 'lock_gate', 'seamark:type': 'gate'},Point(5, 15)],\n",
    "                   [{'seamark:type': 'harbour'},Point(9.91950, 57.06081)],\n",
    "                   [{'seamark:type': 'buoy_cardinal'},Point(12.01631, 48.92595)],\n",
    "                   [{'seamark:type': 'separation_boundary'},Point(12.01631, 48.92595)],\n",
    "                   [{'seamark:type': 'separation_crossing'},Point(12.01631, 48.92595)],\n",
    "                   [{'seamark:type': 'separation_lane'},Point(12.01631, 48.92595)],\n",
    "                   [{'seamark:type': 'separation_roundabout'},Point(12.01631, 48.92595)],\n",
    "                   [{'seamark:type': 'separation_zone'},Point(12.01631, 48.92595)],\n",
    "                   [{'seamark:type': 'restricted_area'},Point(12.01631, 48.92595)],\n",
    "                  ])\n",
    "\n",
    "nodes_gdf"
   ]
  },
  {
   "cell_type": "code",
   "execution_count": null,
   "id": "78120b2e",
   "metadata": {},
   "outputs": [],
   "source": [
    "nodes_df = pd.DataFrame(columns=['tags', 'geom'],\n",
    "             data=[[{'waterway': 'lock_gate', 'seamark:type': 'gate'},Point(5, 15)],\n",
    "                   [{'seamark:type': 'harbour'},Point(9.91950, 57.06081)],\n",
    "                   [{'seamark:type': 'buoy_cardinal'},Point(12.01631, 48.92595)],\n",
    "                   [{'seamark:type': 'separation_boundary'},Point(12.01631, 48.92595)],\n",
    "                   [{'seamark:type': 'separation_crossing'},Point(12.01631, 48.92595)],\n",
    "                   [{'seamark:type': 'separation_lane'},Point(12.01631, 48.92595)],\n",
    "                   [{'seamark:type': 'separation_roundabout'},Point(12.01631, 48.92595)],\n",
    "                   [{'seamark:type': 'separation_zone'},Point(12.01631, 48.92595)],\n",
    "                   [{'seamark:type': 'restricted_area'},Point(12.01631, 48.92595)],\n",
    "                  ])\n",
    "\n",
    "nodes_df"
   ]
  },
  {
   "cell_type": "code",
   "execution_count": null,
   "id": "a3b02572",
   "metadata": {},
   "outputs": [],
   "source": [
    "ways_gdf = gpd.GeoDataFrame(columns=['tags', 'geom'],\n",
    "             data=[\n",
    "                   [{'seamark:type': 'separation_boundary'},LineString([(3.2738333, 51.8765), (3.154833, 51.853667)])],\n",
    "                   [{'seamark:type': 'separation_crossing'},LineString([(6.3732417, 54.192091), (6.3593333, 54.1919199),(6.3310833, 54.1905871), (6.3182992, 54.189601)])],\n",
    "                   [{'seamark:type': 'separation_lane'},LineString([(24.6575999, 59.6085725), (24.7026512, 59.5505585)])],\n",
    "                   [{'seamark:type': 'separation_roundabout'},LineString([(27.9974563, 43.186327), (27.998524, 43.1864565),(27.9995173, 43.186412), (28.0012373, 43.1859232), (28.0020059, 43.1854689), (28.0025203, 43.1850186),(28.0029253, 43.1845006), (28.0032216, 43.1838693),(27.9947856, 43.1813859), (27.9944414, 43.1819034),(27.9941705, 43.1826993), (27.9941723, 43.1835194),(27.9944142, 43.1842511), (27.9947709, 43.1848037),(27.9953623, 43.1853841), (27.9961109, 43.1858589),(27.9974563, 43.186327)])],\n",
    "                   [{'seamark:type': 'separation_zone'},LineString([(-1.9830398, 49.2927514), (-1.9830233, 49.2925889), (-1.9828257, 49.2924815), (-1.9827145, 49.2925089),(-1.9828543, 49.2927771), (-1.9830398, 49.2927514)])],\n",
    "                   [{'seamark:type': 'restricted_area'},LineString([(12.3569916, 47.9186626), (12.3567217, 47.9188108),(12.3564934, 47.9189565), (12.3564734, 47.9191199),(12.3565413, 47.9192803), (12.3568636, 47.919524),(12.3571719, 47.9196858), (12.3575482, 47.9197593),(12.3579399, 47.9198024), (12.3587152, 47.9200541),(12.3594448, 47.9203064), (12.3596907, 47.9203917),(12.3599993, 47.9204654), (12.3604107, 47.9205391),(12.3608174, 47.9205554), (12.3610279, 47.9205224),(12.3612053, 47.9204511), (12.3614394, 47.9201326),(12.3616484, 47.9198195), (12.3616249, 47.9196335),(12.361631, 47.9194503), (12.3616174, 47.9193071),(12.36156, 47.9192435), (12.3614394, 47.9191936),(12.3611173, 47.9191633), (12.3609535, 47.9190676),(12.3607335, 47.9189749), (12.3604259, 47.918891),(12.3595763, 47.9187613), (12.3587674, 47.9185358),(12.3584371, 47.9183784), (12.3582044, 47.9182997),(12.3579056, 47.918306), (12.3576587, 47.9183381),(12.3573105, 47.9184692), (12.3569916, 47.9186626)])],\n",
    "                  ])\n",
    "\n",
    "ways_gdf"
   ]
  },
  {
   "cell_type": "code",
   "execution_count": null,
   "id": "f203e435",
   "metadata": {},
   "outputs": [],
   "source": [
    "ways_df = pd.DataFrame(columns=['tags', 'geom'],\n",
    "             data=[\n",
    "                   [{'seamark:type': 'separation_boundary'},LineString([(3.2738333, 51.8765), (3.154833, 51.853667)])],\n",
    "                   [{'seamark:type': 'separation_crossing'},LineString([(6.3732417, 54.192091), (6.3593333, 54.1919199),(6.3310833, 54.1905871), (6.3182992, 54.189601)])],\n",
    "                   [{'seamark:type': 'separation_lane'},LineString([(24.6575999, 59.6085725), (24.7026512, 59.5505585)])],\n",
    "                   [{'seamark:type': 'separation_roundabout'},LineString([(27.9974563, 43.186327), (27.998524, 43.1864565),(27.9995173, 43.186412), (28.0012373, 43.1859232), (28.0020059, 43.1854689), (28.0025203, 43.1850186),(28.0029253, 43.1845006), (28.0032216, 43.1838693),(27.9947856, 43.1813859), (27.9944414, 43.1819034),(27.9941705, 43.1826993), (27.9941723, 43.1835194),(27.9944142, 43.1842511), (27.9947709, 43.1848037),(27.9953623, 43.1853841), (27.9961109, 43.1858589),(27.9974563, 43.186327)])],\n",
    "                   [{'seamark:type': 'separation_zone'},LineString([(-1.9830398, 49.2927514), (-1.9830233, 49.2925889), (-1.9828257, 49.2924815), (-1.9827145, 49.2925089),(-1.9828543, 49.2927771), (-1.9830398, 49.2927514)])],\n",
    "                   [{'seamark:type': 'restricted_area'},LineString([(12.3569916, 47.9186626), (12.3567217, 47.9188108),(12.3564934, 47.9189565), (12.3564734, 47.9191199),(12.3565413, 47.9192803), (12.3568636, 47.919524),(12.3571719, 47.9196858), (12.3575482, 47.9197593),(12.3579399, 47.9198024), (12.3587152, 47.9200541),(12.3594448, 47.9203064), (12.3596907, 47.9203917),(12.3599993, 47.9204654), (12.3604107, 47.9205391),(12.3608174, 47.9205554), (12.3610279, 47.9205224),(12.3612053, 47.9204511), (12.3614394, 47.9201326),(12.3616484, 47.9198195), (12.3616249, 47.9196335),(12.361631, 47.9194503), (12.3616174, 47.9193071),(12.36156, 47.9192435), (12.3614394, 47.9191936),(12.3611173, 47.9191633), (12.3609535, 47.9190676),(12.3607335, 47.9189749), (12.3604259, 47.918891),(12.3595763, 47.9187613), (12.3587674, 47.9185358),(12.3584371, 47.9183784), (12.3582044, 47.9182997),(12.3579056, 47.918306), (12.3576587, 47.9183381),(12.3573105, 47.9184692), (12.3569916, 47.9186626)])],\n",
    "                  ])\n",
    "\n",
    "ways_df"
   ]
  },
  {
   "cell_type": "code",
   "execution_count": 7,
   "id": "273ad709",
   "metadata": {},
   "outputs": [
    {
     "data": {
      "text/plain": [
       "Engine(sqlite:///gdfDB.sqlite)"
      ]
     },
     "execution_count": 7,
     "metadata": {},
     "output_type": "execute_result"
    }
   ],
   "source": [
    "engine"
   ]
  },
  {
   "cell_type": "code",
   "execution_count": 11,
   "id": "81236743",
   "metadata": {},
   "outputs": [
    {
     "ename": "InterfaceError",
     "evalue": "(sqlite3.InterfaceError) Error binding parameter 1 - probably unsupported type.\n[SQL: INSERT INTO nodes (\"index\", tags, geom) VALUES (?, ?, ?)]\n[parameters: [(0, {'waterway': 'lock_gate', 'seamark:type': 'gate'}, <POINT (5 15)>), (1, {'seamark:type': 'harbour'}, <POINT (9.92 57.061)>), (2, {'seamark:type': 'buoy_cardinal'}, <POINT (12.016 48.926)>), (3, {'seamark:type': 'separation_boundary'}, <POINT (12.016 48.926)>), (4, {'seamark:type': 'separation_crossing'}, <POINT (12.016 48.926)>), (5, {'seamark:type': 'separation_lane'}, <POINT (12.016 48.926)>), (6, {'seamark:type': 'separation_roundabout'}, <POINT (12.016 48.926)>), (7, {'seamark:type': 'separation_zone'}, <POINT (12.016 48.926)>), (8, {'seamark:type': 'restricted_area'}, <POINT (12.016 48.926)>)]]\n(Background on this error at: https://sqlalche.me/e/20/rvf5)",
     "output_type": "error",
     "traceback": [
      "\u001b[0;31m---------------------------------------------------------------------------\u001b[0m",
      "\u001b[0;31mInterfaceError\u001b[0m                            Traceback (most recent call last)",
      "File \u001b[0;32m~/projects/maridata/MariGeoRoute/data/OpenSeaMap/venv/lib/python3.10/site-packages/sqlalchemy/engine/base.py:1937\u001b[0m, in \u001b[0;36mConnection._exec_single_context\u001b[0;34m(self, dialect, context, statement, parameters)\u001b[0m\n\u001b[1;32m   1936\u001b[0m     \u001b[38;5;28;01mif\u001b[39;00m \u001b[38;5;129;01mnot\u001b[39;00m evt_handled:\n\u001b[0;32m-> 1937\u001b[0m         \u001b[38;5;28;43mself\u001b[39;49m\u001b[38;5;241;43m.\u001b[39;49m\u001b[43mdialect\u001b[49m\u001b[38;5;241;43m.\u001b[39;49m\u001b[43mdo_executemany\u001b[49m\u001b[43m(\u001b[49m\n\u001b[1;32m   1938\u001b[0m \u001b[43m            \u001b[49m\u001b[43mcursor\u001b[49m\u001b[43m,\u001b[49m\n\u001b[1;32m   1939\u001b[0m \u001b[43m            \u001b[49m\u001b[43mstr_statement\u001b[49m\u001b[43m,\u001b[49m\n\u001b[1;32m   1940\u001b[0m \u001b[43m            \u001b[49m\u001b[43meffective_parameters\u001b[49m\u001b[43m,\u001b[49m\n\u001b[1;32m   1941\u001b[0m \u001b[43m            \u001b[49m\u001b[43mcontext\u001b[49m\u001b[43m,\u001b[49m\n\u001b[1;32m   1942\u001b[0m \u001b[43m        \u001b[49m\u001b[43m)\u001b[49m\n\u001b[1;32m   1943\u001b[0m \u001b[38;5;28;01melif\u001b[39;00m \u001b[38;5;129;01mnot\u001b[39;00m effective_parameters \u001b[38;5;129;01mand\u001b[39;00m context\u001b[38;5;241m.\u001b[39mno_parameters:\n",
      "File \u001b[0;32m~/projects/maridata/MariGeoRoute/data/OpenSeaMap/venv/lib/python3.10/site-packages/sqlalchemy/engine/default.py:917\u001b[0m, in \u001b[0;36mDefaultDialect.do_executemany\u001b[0;34m(self, cursor, statement, parameters, context)\u001b[0m\n\u001b[1;32m    916\u001b[0m \u001b[38;5;28;01mdef\u001b[39;00m \u001b[38;5;21mdo_executemany\u001b[39m(\u001b[38;5;28mself\u001b[39m, cursor, statement, parameters, context\u001b[38;5;241m=\u001b[39m\u001b[38;5;28;01mNone\u001b[39;00m):\n\u001b[0;32m--> 917\u001b[0m     \u001b[43mcursor\u001b[49m\u001b[38;5;241;43m.\u001b[39;49m\u001b[43mexecutemany\u001b[49m\u001b[43m(\u001b[49m\u001b[43mstatement\u001b[49m\u001b[43m,\u001b[49m\u001b[43m \u001b[49m\u001b[43mparameters\u001b[49m\u001b[43m)\u001b[49m\n",
      "\u001b[0;31mInterfaceError\u001b[0m: Error binding parameter 1 - probably unsupported type.",
      "\nThe above exception was the direct cause of the following exception:\n",
      "\u001b[0;31mInterfaceError\u001b[0m                            Traceback (most recent call last)",
      "Cell \u001b[0;32mIn[11], line 1\u001b[0m\n\u001b[0;32m----> 1\u001b[0m \u001b[43mnodes_df\u001b[49m\u001b[38;5;241;43m.\u001b[39;49m\u001b[43mto_sql\u001b[49m\u001b[43m(\u001b[49m\u001b[38;5;124;43m'\u001b[39;49m\u001b[38;5;124;43mnodes\u001b[39;49m\u001b[38;5;124;43m'\u001b[39;49m\u001b[43m,\u001b[49m\u001b[43mcon\u001b[49m\u001b[38;5;241;43m=\u001b[39;49m\u001b[43mengine\u001b[49m\u001b[43m,\u001b[49m\u001b[43mif_exists\u001b[49m\u001b[38;5;241;43m=\u001b[39;49m\u001b[38;5;124;43m'\u001b[39;49m\u001b[38;5;124;43mreplace\u001b[39;49m\u001b[38;5;124;43m'\u001b[39;49m\u001b[43m)\u001b[49m\n",
      "File \u001b[0;32m~/projects/maridata/MariGeoRoute/data/OpenSeaMap/venv/lib/python3.10/site-packages/pandas/core/generic.py:2878\u001b[0m, in \u001b[0;36mNDFrame.to_sql\u001b[0;34m(self, name, con, schema, if_exists, index, index_label, chunksize, dtype, method)\u001b[0m\n\u001b[1;32m   2713\u001b[0m \u001b[38;5;250m\u001b[39m\u001b[38;5;124;03m\"\"\"\u001b[39;00m\n\u001b[1;32m   2714\u001b[0m \u001b[38;5;124;03mWrite records stored in a DataFrame to a SQL database.\u001b[39;00m\n\u001b[1;32m   2715\u001b[0m \n\u001b[0;32m   (...)\u001b[0m\n\u001b[1;32m   2874\u001b[0m \u001b[38;5;124;03m[(1,), (None,), (2,)]\u001b[39;00m\n\u001b[1;32m   2875\u001b[0m \u001b[38;5;124;03m\"\"\"\u001b[39;00m  \u001b[38;5;66;03m# noqa:E501\u001b[39;00m\n\u001b[1;32m   2876\u001b[0m \u001b[38;5;28;01mfrom\u001b[39;00m \u001b[38;5;21;01mpandas\u001b[39;00m\u001b[38;5;21;01m.\u001b[39;00m\u001b[38;5;21;01mio\u001b[39;00m \u001b[38;5;28;01mimport\u001b[39;00m sql\n\u001b[0;32m-> 2878\u001b[0m \u001b[38;5;28;01mreturn\u001b[39;00m \u001b[43msql\u001b[49m\u001b[38;5;241;43m.\u001b[39;49m\u001b[43mto_sql\u001b[49m\u001b[43m(\u001b[49m\n\u001b[1;32m   2879\u001b[0m \u001b[43m    \u001b[49m\u001b[38;5;28;43mself\u001b[39;49m\u001b[43m,\u001b[49m\n\u001b[1;32m   2880\u001b[0m \u001b[43m    \u001b[49m\u001b[43mname\u001b[49m\u001b[43m,\u001b[49m\n\u001b[1;32m   2881\u001b[0m \u001b[43m    \u001b[49m\u001b[43mcon\u001b[49m\u001b[43m,\u001b[49m\n\u001b[1;32m   2882\u001b[0m \u001b[43m    \u001b[49m\u001b[43mschema\u001b[49m\u001b[38;5;241;43m=\u001b[39;49m\u001b[43mschema\u001b[49m\u001b[43m,\u001b[49m\n\u001b[1;32m   2883\u001b[0m \u001b[43m    \u001b[49m\u001b[43mif_exists\u001b[49m\u001b[38;5;241;43m=\u001b[39;49m\u001b[43mif_exists\u001b[49m\u001b[43m,\u001b[49m\n\u001b[1;32m   2884\u001b[0m \u001b[43m    \u001b[49m\u001b[43mindex\u001b[49m\u001b[38;5;241;43m=\u001b[39;49m\u001b[43mindex\u001b[49m\u001b[43m,\u001b[49m\n\u001b[1;32m   2885\u001b[0m \u001b[43m    \u001b[49m\u001b[43mindex_label\u001b[49m\u001b[38;5;241;43m=\u001b[39;49m\u001b[43mindex_label\u001b[49m\u001b[43m,\u001b[49m\n\u001b[1;32m   2886\u001b[0m \u001b[43m    \u001b[49m\u001b[43mchunksize\u001b[49m\u001b[38;5;241;43m=\u001b[39;49m\u001b[43mchunksize\u001b[49m\u001b[43m,\u001b[49m\n\u001b[1;32m   2887\u001b[0m \u001b[43m    \u001b[49m\u001b[43mdtype\u001b[49m\u001b[38;5;241;43m=\u001b[39;49m\u001b[43mdtype\u001b[49m\u001b[43m,\u001b[49m\n\u001b[1;32m   2888\u001b[0m \u001b[43m    \u001b[49m\u001b[43mmethod\u001b[49m\u001b[38;5;241;43m=\u001b[39;49m\u001b[43mmethod\u001b[49m\u001b[43m,\u001b[49m\n\u001b[1;32m   2889\u001b[0m \u001b[43m\u001b[49m\u001b[43m)\u001b[49m\n",
      "File \u001b[0;32m~/projects/maridata/MariGeoRoute/data/OpenSeaMap/venv/lib/python3.10/site-packages/pandas/io/sql.py:767\u001b[0m, in \u001b[0;36mto_sql\u001b[0;34m(frame, name, con, schema, if_exists, index, index_label, chunksize, dtype, method, engine, **engine_kwargs)\u001b[0m\n\u001b[1;32m    762\u001b[0m     \u001b[38;5;28;01mraise\u001b[39;00m \u001b[38;5;167;01mNotImplementedError\u001b[39;00m(\n\u001b[1;32m    763\u001b[0m         \u001b[38;5;124m\"\u001b[39m\u001b[38;5;124m'\u001b[39m\u001b[38;5;124mframe\u001b[39m\u001b[38;5;124m'\u001b[39m\u001b[38;5;124m argument should be either a Series or a DataFrame\u001b[39m\u001b[38;5;124m\"\u001b[39m\n\u001b[1;32m    764\u001b[0m     )\n\u001b[1;32m    766\u001b[0m \u001b[38;5;28;01mwith\u001b[39;00m pandasSQL_builder(con, schema\u001b[38;5;241m=\u001b[39mschema, need_transaction\u001b[38;5;241m=\u001b[39m\u001b[38;5;28;01mTrue\u001b[39;00m) \u001b[38;5;28;01mas\u001b[39;00m pandas_sql:\n\u001b[0;32m--> 767\u001b[0m     \u001b[38;5;28;01mreturn\u001b[39;00m \u001b[43mpandas_sql\u001b[49m\u001b[38;5;241;43m.\u001b[39;49m\u001b[43mto_sql\u001b[49m\u001b[43m(\u001b[49m\n\u001b[1;32m    768\u001b[0m \u001b[43m        \u001b[49m\u001b[43mframe\u001b[49m\u001b[43m,\u001b[49m\n\u001b[1;32m    769\u001b[0m \u001b[43m        \u001b[49m\u001b[43mname\u001b[49m\u001b[43m,\u001b[49m\n\u001b[1;32m    770\u001b[0m \u001b[43m        \u001b[49m\u001b[43mif_exists\u001b[49m\u001b[38;5;241;43m=\u001b[39;49m\u001b[43mif_exists\u001b[49m\u001b[43m,\u001b[49m\n\u001b[1;32m    771\u001b[0m \u001b[43m        \u001b[49m\u001b[43mindex\u001b[49m\u001b[38;5;241;43m=\u001b[39;49m\u001b[43mindex\u001b[49m\u001b[43m,\u001b[49m\n\u001b[1;32m    772\u001b[0m \u001b[43m        \u001b[49m\u001b[43mindex_label\u001b[49m\u001b[38;5;241;43m=\u001b[39;49m\u001b[43mindex_label\u001b[49m\u001b[43m,\u001b[49m\n\u001b[1;32m    773\u001b[0m \u001b[43m        \u001b[49m\u001b[43mschema\u001b[49m\u001b[38;5;241;43m=\u001b[39;49m\u001b[43mschema\u001b[49m\u001b[43m,\u001b[49m\n\u001b[1;32m    774\u001b[0m \u001b[43m        \u001b[49m\u001b[43mchunksize\u001b[49m\u001b[38;5;241;43m=\u001b[39;49m\u001b[43mchunksize\u001b[49m\u001b[43m,\u001b[49m\n\u001b[1;32m    775\u001b[0m \u001b[43m        \u001b[49m\u001b[43mdtype\u001b[49m\u001b[38;5;241;43m=\u001b[39;49m\u001b[43mdtype\u001b[49m\u001b[43m,\u001b[49m\n\u001b[1;32m    776\u001b[0m \u001b[43m        \u001b[49m\u001b[43mmethod\u001b[49m\u001b[38;5;241;43m=\u001b[39;49m\u001b[43mmethod\u001b[49m\u001b[43m,\u001b[49m\n\u001b[1;32m    777\u001b[0m \u001b[43m        \u001b[49m\u001b[43mengine\u001b[49m\u001b[38;5;241;43m=\u001b[39;49m\u001b[43mengine\u001b[49m\u001b[43m,\u001b[49m\n\u001b[1;32m    778\u001b[0m \u001b[43m        \u001b[49m\u001b[38;5;241;43m*\u001b[39;49m\u001b[38;5;241;43m*\u001b[39;49m\u001b[43mengine_kwargs\u001b[49m\u001b[43m,\u001b[49m\n\u001b[1;32m    779\u001b[0m \u001b[43m    \u001b[49m\u001b[43m)\u001b[49m\n",
      "File \u001b[0;32m~/projects/maridata/MariGeoRoute/data/OpenSeaMap/venv/lib/python3.10/site-packages/pandas/io/sql.py:1918\u001b[0m, in \u001b[0;36mSQLDatabase.to_sql\u001b[0;34m(self, frame, name, if_exists, index, index_label, schema, chunksize, dtype, method, engine, **engine_kwargs)\u001b[0m\n\u001b[1;32m   1906\u001b[0m sql_engine \u001b[38;5;241m=\u001b[39m get_engine(engine)\n\u001b[1;32m   1908\u001b[0m table \u001b[38;5;241m=\u001b[39m \u001b[38;5;28mself\u001b[39m\u001b[38;5;241m.\u001b[39mprep_table(\n\u001b[1;32m   1909\u001b[0m     frame\u001b[38;5;241m=\u001b[39mframe,\n\u001b[1;32m   1910\u001b[0m     name\u001b[38;5;241m=\u001b[39mname,\n\u001b[0;32m   (...)\u001b[0m\n\u001b[1;32m   1915\u001b[0m     dtype\u001b[38;5;241m=\u001b[39mdtype,\n\u001b[1;32m   1916\u001b[0m )\n\u001b[0;32m-> 1918\u001b[0m total_inserted \u001b[38;5;241m=\u001b[39m \u001b[43msql_engine\u001b[49m\u001b[38;5;241;43m.\u001b[39;49m\u001b[43minsert_records\u001b[49m\u001b[43m(\u001b[49m\n\u001b[1;32m   1919\u001b[0m \u001b[43m    \u001b[49m\u001b[43mtable\u001b[49m\u001b[38;5;241;43m=\u001b[39;49m\u001b[43mtable\u001b[49m\u001b[43m,\u001b[49m\n\u001b[1;32m   1920\u001b[0m \u001b[43m    \u001b[49m\u001b[43mcon\u001b[49m\u001b[38;5;241;43m=\u001b[39;49m\u001b[38;5;28;43mself\u001b[39;49m\u001b[38;5;241;43m.\u001b[39;49m\u001b[43mcon\u001b[49m\u001b[43m,\u001b[49m\n\u001b[1;32m   1921\u001b[0m \u001b[43m    \u001b[49m\u001b[43mframe\u001b[49m\u001b[38;5;241;43m=\u001b[39;49m\u001b[43mframe\u001b[49m\u001b[43m,\u001b[49m\n\u001b[1;32m   1922\u001b[0m \u001b[43m    \u001b[49m\u001b[43mname\u001b[49m\u001b[38;5;241;43m=\u001b[39;49m\u001b[43mname\u001b[49m\u001b[43m,\u001b[49m\n\u001b[1;32m   1923\u001b[0m \u001b[43m    \u001b[49m\u001b[43mindex\u001b[49m\u001b[38;5;241;43m=\u001b[39;49m\u001b[43mindex\u001b[49m\u001b[43m,\u001b[49m\n\u001b[1;32m   1924\u001b[0m \u001b[43m    \u001b[49m\u001b[43mschema\u001b[49m\u001b[38;5;241;43m=\u001b[39;49m\u001b[43mschema\u001b[49m\u001b[43m,\u001b[49m\n\u001b[1;32m   1925\u001b[0m \u001b[43m    \u001b[49m\u001b[43mchunksize\u001b[49m\u001b[38;5;241;43m=\u001b[39;49m\u001b[43mchunksize\u001b[49m\u001b[43m,\u001b[49m\n\u001b[1;32m   1926\u001b[0m \u001b[43m    \u001b[49m\u001b[43mmethod\u001b[49m\u001b[38;5;241;43m=\u001b[39;49m\u001b[43mmethod\u001b[49m\u001b[43m,\u001b[49m\n\u001b[1;32m   1927\u001b[0m \u001b[43m    \u001b[49m\u001b[38;5;241;43m*\u001b[39;49m\u001b[38;5;241;43m*\u001b[39;49m\u001b[43mengine_kwargs\u001b[49m\u001b[43m,\u001b[49m\n\u001b[1;32m   1928\u001b[0m \u001b[43m\u001b[49m\u001b[43m)\u001b[49m\n\u001b[1;32m   1930\u001b[0m \u001b[38;5;28mself\u001b[39m\u001b[38;5;241m.\u001b[39mcheck_case_sensitive(name\u001b[38;5;241m=\u001b[39mname, schema\u001b[38;5;241m=\u001b[39mschema)\n\u001b[1;32m   1931\u001b[0m \u001b[38;5;28;01mreturn\u001b[39;00m total_inserted\n",
      "File \u001b[0;32m~/projects/maridata/MariGeoRoute/data/OpenSeaMap/venv/lib/python3.10/site-packages/pandas/io/sql.py:1468\u001b[0m, in \u001b[0;36mSQLAlchemyEngine.insert_records\u001b[0;34m(self, table, con, frame, name, index, schema, chunksize, method, **engine_kwargs)\u001b[0m\n\u001b[1;32m   1466\u001b[0m \u001b[38;5;28;01mif\u001b[39;00m re\u001b[38;5;241m.\u001b[39msearch(msg, err_text):\n\u001b[1;32m   1467\u001b[0m     \u001b[38;5;28;01mraise\u001b[39;00m \u001b[38;5;167;01mValueError\u001b[39;00m(\u001b[38;5;124m\"\u001b[39m\u001b[38;5;124minf cannot be used with MySQL\u001b[39m\u001b[38;5;124m\"\u001b[39m) \u001b[38;5;28;01mfrom\u001b[39;00m \u001b[38;5;21;01merr\u001b[39;00m\n\u001b[0;32m-> 1468\u001b[0m \u001b[38;5;28;01mraise\u001b[39;00m err\n",
      "File \u001b[0;32m~/projects/maridata/MariGeoRoute/data/OpenSeaMap/venv/lib/python3.10/site-packages/pandas/io/sql.py:1459\u001b[0m, in \u001b[0;36mSQLAlchemyEngine.insert_records\u001b[0;34m(self, table, con, frame, name, index, schema, chunksize, method, **engine_kwargs)\u001b[0m\n\u001b[1;32m   1456\u001b[0m \u001b[38;5;28;01mfrom\u001b[39;00m \u001b[38;5;21;01msqlalchemy\u001b[39;00m \u001b[38;5;28;01mimport\u001b[39;00m exc\n\u001b[1;32m   1458\u001b[0m \u001b[38;5;28;01mtry\u001b[39;00m:\n\u001b[0;32m-> 1459\u001b[0m     \u001b[38;5;28;01mreturn\u001b[39;00m \u001b[43mtable\u001b[49m\u001b[38;5;241;43m.\u001b[39;49m\u001b[43minsert\u001b[49m\u001b[43m(\u001b[49m\u001b[43mchunksize\u001b[49m\u001b[38;5;241;43m=\u001b[39;49m\u001b[43mchunksize\u001b[49m\u001b[43m,\u001b[49m\u001b[43m \u001b[49m\u001b[43mmethod\u001b[49m\u001b[38;5;241;43m=\u001b[39;49m\u001b[43mmethod\u001b[49m\u001b[43m)\u001b[49m\n\u001b[1;32m   1460\u001b[0m \u001b[38;5;28;01mexcept\u001b[39;00m exc\u001b[38;5;241m.\u001b[39mStatementError \u001b[38;5;28;01mas\u001b[39;00m err:\n\u001b[1;32m   1461\u001b[0m     \u001b[38;5;66;03m# GH34431\u001b[39;00m\n\u001b[1;32m   1462\u001b[0m     \u001b[38;5;66;03m# https://stackoverflow.com/a/67358288/6067848\u001b[39;00m\n\u001b[1;32m   1463\u001b[0m     msg \u001b[38;5;241m=\u001b[39m \u001b[38;5;124mr\u001b[39m\u001b[38;5;124m\"\"\"\u001b[39m\u001b[38;5;124m(\u001b[39m\u001b[38;5;124m\\\u001b[39m\u001b[38;5;124m(1054, \u001b[39m\u001b[38;5;124m\"\u001b[39m\u001b[38;5;124mUnknown column \u001b[39m\u001b[38;5;124m'\u001b[39m\u001b[38;5;124minf(e0)?\u001b[39m\u001b[38;5;124m'\u001b[39m\u001b[38;5;124m in \u001b[39m\u001b[38;5;124m'\u001b[39m\u001b[38;5;124mfield list\u001b[39m\u001b[38;5;124m'\u001b[39m\u001b[38;5;124m\"\u001b[39m\u001b[38;5;124m\\\u001b[39m\u001b[38;5;124m))(?#\u001b[39m\n\u001b[1;32m   1464\u001b[0m \u001b[38;5;124m    )|inf can not be used with MySQL\u001b[39m\u001b[38;5;124m\"\"\"\u001b[39m\n",
      "File \u001b[0;32m~/projects/maridata/MariGeoRoute/data/OpenSeaMap/venv/lib/python3.10/site-packages/pandas/io/sql.py:1021\u001b[0m, in \u001b[0;36mSQLTable.insert\u001b[0;34m(self, chunksize, method)\u001b[0m\n\u001b[1;32m   1018\u001b[0m     \u001b[38;5;28;01mbreak\u001b[39;00m\n\u001b[1;32m   1020\u001b[0m chunk_iter \u001b[38;5;241m=\u001b[39m \u001b[38;5;28mzip\u001b[39m(\u001b[38;5;241m*\u001b[39m(arr[start_i:end_i] \u001b[38;5;28;01mfor\u001b[39;00m arr \u001b[38;5;129;01min\u001b[39;00m data_list))\n\u001b[0;32m-> 1021\u001b[0m num_inserted \u001b[38;5;241m=\u001b[39m \u001b[43mexec_insert\u001b[49m\u001b[43m(\u001b[49m\u001b[43mconn\u001b[49m\u001b[43m,\u001b[49m\u001b[43m \u001b[49m\u001b[43mkeys\u001b[49m\u001b[43m,\u001b[49m\u001b[43m \u001b[49m\u001b[43mchunk_iter\u001b[49m\u001b[43m)\u001b[49m\n\u001b[1;32m   1022\u001b[0m \u001b[38;5;66;03m# GH 46891\u001b[39;00m\n\u001b[1;32m   1023\u001b[0m \u001b[38;5;28;01mif\u001b[39;00m is_integer(num_inserted):\n",
      "File \u001b[0;32m~/projects/maridata/MariGeoRoute/data/OpenSeaMap/venv/lib/python3.10/site-packages/pandas/io/sql.py:927\u001b[0m, in \u001b[0;36mSQLTable._execute_insert\u001b[0;34m(self, conn, keys, data_iter)\u001b[0m\n\u001b[1;32m    915\u001b[0m \u001b[38;5;250m\u001b[39m\u001b[38;5;124;03m\"\"\"\u001b[39;00m\n\u001b[1;32m    916\u001b[0m \u001b[38;5;124;03mExecute SQL statement inserting data\u001b[39;00m\n\u001b[1;32m    917\u001b[0m \n\u001b[0;32m   (...)\u001b[0m\n\u001b[1;32m    924\u001b[0m \u001b[38;5;124;03m   Each item contains a list of values to be inserted\u001b[39;00m\n\u001b[1;32m    925\u001b[0m \u001b[38;5;124;03m\"\"\"\u001b[39;00m\n\u001b[1;32m    926\u001b[0m data \u001b[38;5;241m=\u001b[39m [\u001b[38;5;28mdict\u001b[39m(\u001b[38;5;28mzip\u001b[39m(keys, row)) \u001b[38;5;28;01mfor\u001b[39;00m row \u001b[38;5;129;01min\u001b[39;00m data_iter]\n\u001b[0;32m--> 927\u001b[0m result \u001b[38;5;241m=\u001b[39m \u001b[43mconn\u001b[49m\u001b[38;5;241;43m.\u001b[39;49m\u001b[43mexecute\u001b[49m\u001b[43m(\u001b[49m\u001b[38;5;28;43mself\u001b[39;49m\u001b[38;5;241;43m.\u001b[39;49m\u001b[43mtable\u001b[49m\u001b[38;5;241;43m.\u001b[39;49m\u001b[43minsert\u001b[49m\u001b[43m(\u001b[49m\u001b[43m)\u001b[49m\u001b[43m,\u001b[49m\u001b[43m \u001b[49m\u001b[43mdata\u001b[49m\u001b[43m)\u001b[49m\n\u001b[1;32m    928\u001b[0m \u001b[38;5;28;01mreturn\u001b[39;00m result\u001b[38;5;241m.\u001b[39mrowcount\n",
      "File \u001b[0;32m~/projects/maridata/MariGeoRoute/data/OpenSeaMap/venv/lib/python3.10/site-packages/sqlalchemy/engine/base.py:1413\u001b[0m, in \u001b[0;36mConnection.execute\u001b[0;34m(self, statement, parameters, execution_options)\u001b[0m\n\u001b[1;32m   1411\u001b[0m     \u001b[38;5;28;01mraise\u001b[39;00m exc\u001b[38;5;241m.\u001b[39mObjectNotExecutableError(statement) \u001b[38;5;28;01mfrom\u001b[39;00m \u001b[38;5;21;01merr\u001b[39;00m\n\u001b[1;32m   1412\u001b[0m \u001b[38;5;28;01melse\u001b[39;00m:\n\u001b[0;32m-> 1413\u001b[0m     \u001b[38;5;28;01mreturn\u001b[39;00m \u001b[43mmeth\u001b[49m\u001b[43m(\u001b[49m\n\u001b[1;32m   1414\u001b[0m \u001b[43m        \u001b[49m\u001b[38;5;28;43mself\u001b[39;49m\u001b[43m,\u001b[49m\n\u001b[1;32m   1415\u001b[0m \u001b[43m        \u001b[49m\u001b[43mdistilled_parameters\u001b[49m\u001b[43m,\u001b[49m\n\u001b[1;32m   1416\u001b[0m \u001b[43m        \u001b[49m\u001b[43mexecution_options\u001b[49m\u001b[43m \u001b[49m\u001b[38;5;129;43;01mor\u001b[39;49;00m\u001b[43m \u001b[49m\u001b[43mNO_OPTIONS\u001b[49m\u001b[43m,\u001b[49m\n\u001b[1;32m   1417\u001b[0m \u001b[43m    \u001b[49m\u001b[43m)\u001b[49m\n",
      "File \u001b[0;32m~/projects/maridata/MariGeoRoute/data/OpenSeaMap/venv/lib/python3.10/site-packages/sqlalchemy/sql/elements.py:483\u001b[0m, in \u001b[0;36mClauseElement._execute_on_connection\u001b[0;34m(self, connection, distilled_params, execution_options)\u001b[0m\n\u001b[1;32m    481\u001b[0m     \u001b[38;5;28;01mif\u001b[39;00m TYPE_CHECKING:\n\u001b[1;32m    482\u001b[0m         \u001b[38;5;28;01massert\u001b[39;00m \u001b[38;5;28misinstance\u001b[39m(\u001b[38;5;28mself\u001b[39m, Executable)\n\u001b[0;32m--> 483\u001b[0m     \u001b[38;5;28;01mreturn\u001b[39;00m \u001b[43mconnection\u001b[49m\u001b[38;5;241;43m.\u001b[39;49m\u001b[43m_execute_clauseelement\u001b[49m\u001b[43m(\u001b[49m\n\u001b[1;32m    484\u001b[0m \u001b[43m        \u001b[49m\u001b[38;5;28;43mself\u001b[39;49m\u001b[43m,\u001b[49m\u001b[43m \u001b[49m\u001b[43mdistilled_params\u001b[49m\u001b[43m,\u001b[49m\u001b[43m \u001b[49m\u001b[43mexecution_options\u001b[49m\n\u001b[1;32m    485\u001b[0m \u001b[43m    \u001b[49m\u001b[43m)\u001b[49m\n\u001b[1;32m    486\u001b[0m \u001b[38;5;28;01melse\u001b[39;00m:\n\u001b[1;32m    487\u001b[0m     \u001b[38;5;28;01mraise\u001b[39;00m exc\u001b[38;5;241m.\u001b[39mObjectNotExecutableError(\u001b[38;5;28mself\u001b[39m)\n",
      "File \u001b[0;32m~/projects/maridata/MariGeoRoute/data/OpenSeaMap/venv/lib/python3.10/site-packages/sqlalchemy/engine/base.py:1637\u001b[0m, in \u001b[0;36mConnection._execute_clauseelement\u001b[0;34m(self, elem, distilled_parameters, execution_options)\u001b[0m\n\u001b[1;32m   1625\u001b[0m compiled_cache: Optional[CompiledCacheType] \u001b[38;5;241m=\u001b[39m execution_options\u001b[38;5;241m.\u001b[39mget(\n\u001b[1;32m   1626\u001b[0m     \u001b[38;5;124m\"\u001b[39m\u001b[38;5;124mcompiled_cache\u001b[39m\u001b[38;5;124m\"\u001b[39m, \u001b[38;5;28mself\u001b[39m\u001b[38;5;241m.\u001b[39mengine\u001b[38;5;241m.\u001b[39m_compiled_cache\n\u001b[1;32m   1627\u001b[0m )\n\u001b[1;32m   1629\u001b[0m compiled_sql, extracted_params, cache_hit \u001b[38;5;241m=\u001b[39m elem\u001b[38;5;241m.\u001b[39m_compile_w_cache(\n\u001b[1;32m   1630\u001b[0m     dialect\u001b[38;5;241m=\u001b[39mdialect,\n\u001b[1;32m   1631\u001b[0m     compiled_cache\u001b[38;5;241m=\u001b[39mcompiled_cache,\n\u001b[0;32m   (...)\u001b[0m\n\u001b[1;32m   1635\u001b[0m     linting\u001b[38;5;241m=\u001b[39m\u001b[38;5;28mself\u001b[39m\u001b[38;5;241m.\u001b[39mdialect\u001b[38;5;241m.\u001b[39mcompiler_linting \u001b[38;5;241m|\u001b[39m compiler\u001b[38;5;241m.\u001b[39mWARN_LINTING,\n\u001b[1;32m   1636\u001b[0m )\n\u001b[0;32m-> 1637\u001b[0m ret \u001b[38;5;241m=\u001b[39m \u001b[38;5;28;43mself\u001b[39;49m\u001b[38;5;241;43m.\u001b[39;49m\u001b[43m_execute_context\u001b[49m\u001b[43m(\u001b[49m\n\u001b[1;32m   1638\u001b[0m \u001b[43m    \u001b[49m\u001b[43mdialect\u001b[49m\u001b[43m,\u001b[49m\n\u001b[1;32m   1639\u001b[0m \u001b[43m    \u001b[49m\u001b[43mdialect\u001b[49m\u001b[38;5;241;43m.\u001b[39;49m\u001b[43mexecution_ctx_cls\u001b[49m\u001b[38;5;241;43m.\u001b[39;49m\u001b[43m_init_compiled\u001b[49m\u001b[43m,\u001b[49m\n\u001b[1;32m   1640\u001b[0m \u001b[43m    \u001b[49m\u001b[43mcompiled_sql\u001b[49m\u001b[43m,\u001b[49m\n\u001b[1;32m   1641\u001b[0m \u001b[43m    \u001b[49m\u001b[43mdistilled_parameters\u001b[49m\u001b[43m,\u001b[49m\n\u001b[1;32m   1642\u001b[0m \u001b[43m    \u001b[49m\u001b[43mexecution_options\u001b[49m\u001b[43m,\u001b[49m\n\u001b[1;32m   1643\u001b[0m \u001b[43m    \u001b[49m\u001b[43mcompiled_sql\u001b[49m\u001b[43m,\u001b[49m\n\u001b[1;32m   1644\u001b[0m \u001b[43m    \u001b[49m\u001b[43mdistilled_parameters\u001b[49m\u001b[43m,\u001b[49m\n\u001b[1;32m   1645\u001b[0m \u001b[43m    \u001b[49m\u001b[43melem\u001b[49m\u001b[43m,\u001b[49m\n\u001b[1;32m   1646\u001b[0m \u001b[43m    \u001b[49m\u001b[43mextracted_params\u001b[49m\u001b[43m,\u001b[49m\n\u001b[1;32m   1647\u001b[0m \u001b[43m    \u001b[49m\u001b[43mcache_hit\u001b[49m\u001b[38;5;241;43m=\u001b[39;49m\u001b[43mcache_hit\u001b[49m\u001b[43m,\u001b[49m\n\u001b[1;32m   1648\u001b[0m \u001b[43m\u001b[49m\u001b[43m)\u001b[49m\n\u001b[1;32m   1649\u001b[0m \u001b[38;5;28;01mif\u001b[39;00m has_events:\n\u001b[1;32m   1650\u001b[0m     \u001b[38;5;28mself\u001b[39m\u001b[38;5;241m.\u001b[39mdispatch\u001b[38;5;241m.\u001b[39mafter_execute(\n\u001b[1;32m   1651\u001b[0m         \u001b[38;5;28mself\u001b[39m,\n\u001b[1;32m   1652\u001b[0m         elem,\n\u001b[0;32m   (...)\u001b[0m\n\u001b[1;32m   1656\u001b[0m         ret,\n\u001b[1;32m   1657\u001b[0m     )\n",
      "File \u001b[0;32m~/projects/maridata/MariGeoRoute/data/OpenSeaMap/venv/lib/python3.10/site-packages/sqlalchemy/engine/base.py:1846\u001b[0m, in \u001b[0;36mConnection._execute_context\u001b[0;34m(self, dialect, constructor, statement, parameters, execution_options, *args, **kw)\u001b[0m\n\u001b[1;32m   1841\u001b[0m     \u001b[38;5;28;01mreturn\u001b[39;00m \u001b[38;5;28mself\u001b[39m\u001b[38;5;241m.\u001b[39m_exec_insertmany_context(\n\u001b[1;32m   1842\u001b[0m         dialect,\n\u001b[1;32m   1843\u001b[0m         context,\n\u001b[1;32m   1844\u001b[0m     )\n\u001b[1;32m   1845\u001b[0m \u001b[38;5;28;01melse\u001b[39;00m:\n\u001b[0;32m-> 1846\u001b[0m     \u001b[38;5;28;01mreturn\u001b[39;00m \u001b[38;5;28;43mself\u001b[39;49m\u001b[38;5;241;43m.\u001b[39;49m\u001b[43m_exec_single_context\u001b[49m\u001b[43m(\u001b[49m\n\u001b[1;32m   1847\u001b[0m \u001b[43m        \u001b[49m\u001b[43mdialect\u001b[49m\u001b[43m,\u001b[49m\u001b[43m \u001b[49m\u001b[43mcontext\u001b[49m\u001b[43m,\u001b[49m\u001b[43m \u001b[49m\u001b[43mstatement\u001b[49m\u001b[43m,\u001b[49m\u001b[43m \u001b[49m\u001b[43mparameters\u001b[49m\n\u001b[1;32m   1848\u001b[0m \u001b[43m    \u001b[49m\u001b[43m)\u001b[49m\n",
      "File \u001b[0;32m~/projects/maridata/MariGeoRoute/data/OpenSeaMap/venv/lib/python3.10/site-packages/sqlalchemy/engine/base.py:1987\u001b[0m, in \u001b[0;36mConnection._exec_single_context\u001b[0;34m(self, dialect, context, statement, parameters)\u001b[0m\n\u001b[1;32m   1984\u001b[0m     result \u001b[38;5;241m=\u001b[39m context\u001b[38;5;241m.\u001b[39m_setup_result_proxy()\n\u001b[1;32m   1986\u001b[0m \u001b[38;5;28;01mexcept\u001b[39;00m \u001b[38;5;167;01mBaseException\u001b[39;00m \u001b[38;5;28;01mas\u001b[39;00m e:\n\u001b[0;32m-> 1987\u001b[0m     \u001b[38;5;28;43mself\u001b[39;49m\u001b[38;5;241;43m.\u001b[39;49m\u001b[43m_handle_dbapi_exception\u001b[49m\u001b[43m(\u001b[49m\n\u001b[1;32m   1988\u001b[0m \u001b[43m        \u001b[49m\u001b[43me\u001b[49m\u001b[43m,\u001b[49m\u001b[43m \u001b[49m\u001b[43mstr_statement\u001b[49m\u001b[43m,\u001b[49m\u001b[43m \u001b[49m\u001b[43meffective_parameters\u001b[49m\u001b[43m,\u001b[49m\u001b[43m \u001b[49m\u001b[43mcursor\u001b[49m\u001b[43m,\u001b[49m\u001b[43m \u001b[49m\u001b[43mcontext\u001b[49m\n\u001b[1;32m   1989\u001b[0m \u001b[43m    \u001b[49m\u001b[43m)\u001b[49m\n\u001b[1;32m   1991\u001b[0m \u001b[38;5;28;01mreturn\u001b[39;00m result\n",
      "File \u001b[0;32m~/projects/maridata/MariGeoRoute/data/OpenSeaMap/venv/lib/python3.10/site-packages/sqlalchemy/engine/base.py:2344\u001b[0m, in \u001b[0;36mConnection._handle_dbapi_exception\u001b[0;34m(self, e, statement, parameters, cursor, context, is_sub_exec)\u001b[0m\n\u001b[1;32m   2342\u001b[0m \u001b[38;5;28;01melif\u001b[39;00m should_wrap:\n\u001b[1;32m   2343\u001b[0m     \u001b[38;5;28;01massert\u001b[39;00m sqlalchemy_exception \u001b[38;5;129;01mis\u001b[39;00m \u001b[38;5;129;01mnot\u001b[39;00m \u001b[38;5;28;01mNone\u001b[39;00m\n\u001b[0;32m-> 2344\u001b[0m     \u001b[38;5;28;01mraise\u001b[39;00m sqlalchemy_exception\u001b[38;5;241m.\u001b[39mwith_traceback(exc_info[\u001b[38;5;241m2\u001b[39m]) \u001b[38;5;28;01mfrom\u001b[39;00m \u001b[38;5;21;01me\u001b[39;00m\n\u001b[1;32m   2345\u001b[0m \u001b[38;5;28;01melse\u001b[39;00m:\n\u001b[1;32m   2346\u001b[0m     \u001b[38;5;28;01massert\u001b[39;00m exc_info[\u001b[38;5;241m1\u001b[39m] \u001b[38;5;129;01mis\u001b[39;00m \u001b[38;5;129;01mnot\u001b[39;00m \u001b[38;5;28;01mNone\u001b[39;00m\n",
      "File \u001b[0;32m~/projects/maridata/MariGeoRoute/data/OpenSeaMap/venv/lib/python3.10/site-packages/sqlalchemy/engine/base.py:1937\u001b[0m, in \u001b[0;36mConnection._exec_single_context\u001b[0;34m(self, dialect, context, statement, parameters)\u001b[0m\n\u001b[1;32m   1935\u001b[0m                 \u001b[38;5;28;01mbreak\u001b[39;00m\n\u001b[1;32m   1936\u001b[0m     \u001b[38;5;28;01mif\u001b[39;00m \u001b[38;5;129;01mnot\u001b[39;00m evt_handled:\n\u001b[0;32m-> 1937\u001b[0m         \u001b[38;5;28;43mself\u001b[39;49m\u001b[38;5;241;43m.\u001b[39;49m\u001b[43mdialect\u001b[49m\u001b[38;5;241;43m.\u001b[39;49m\u001b[43mdo_executemany\u001b[49m\u001b[43m(\u001b[49m\n\u001b[1;32m   1938\u001b[0m \u001b[43m            \u001b[49m\u001b[43mcursor\u001b[49m\u001b[43m,\u001b[49m\n\u001b[1;32m   1939\u001b[0m \u001b[43m            \u001b[49m\u001b[43mstr_statement\u001b[49m\u001b[43m,\u001b[49m\n\u001b[1;32m   1940\u001b[0m \u001b[43m            \u001b[49m\u001b[43meffective_parameters\u001b[49m\u001b[43m,\u001b[49m\n\u001b[1;32m   1941\u001b[0m \u001b[43m            \u001b[49m\u001b[43mcontext\u001b[49m\u001b[43m,\u001b[49m\n\u001b[1;32m   1942\u001b[0m \u001b[43m        \u001b[49m\u001b[43m)\u001b[49m\n\u001b[1;32m   1943\u001b[0m \u001b[38;5;28;01melif\u001b[39;00m \u001b[38;5;129;01mnot\u001b[39;00m effective_parameters \u001b[38;5;129;01mand\u001b[39;00m context\u001b[38;5;241m.\u001b[39mno_parameters:\n\u001b[1;32m   1944\u001b[0m     \u001b[38;5;28;01mif\u001b[39;00m \u001b[38;5;28mself\u001b[39m\u001b[38;5;241m.\u001b[39mdialect\u001b[38;5;241m.\u001b[39m_has_events:\n",
      "File \u001b[0;32m~/projects/maridata/MariGeoRoute/data/OpenSeaMap/venv/lib/python3.10/site-packages/sqlalchemy/engine/default.py:917\u001b[0m, in \u001b[0;36mDefaultDialect.do_executemany\u001b[0;34m(self, cursor, statement, parameters, context)\u001b[0m\n\u001b[1;32m    916\u001b[0m \u001b[38;5;28;01mdef\u001b[39;00m \u001b[38;5;21mdo_executemany\u001b[39m(\u001b[38;5;28mself\u001b[39m, cursor, statement, parameters, context\u001b[38;5;241m=\u001b[39m\u001b[38;5;28;01mNone\u001b[39;00m):\n\u001b[0;32m--> 917\u001b[0m     \u001b[43mcursor\u001b[49m\u001b[38;5;241;43m.\u001b[39;49m\u001b[43mexecutemany\u001b[49m\u001b[43m(\u001b[49m\u001b[43mstatement\u001b[49m\u001b[43m,\u001b[49m\u001b[43m \u001b[49m\u001b[43mparameters\u001b[49m\u001b[43m)\u001b[49m\n",
      "\u001b[0;31mInterfaceError\u001b[0m: (sqlite3.InterfaceError) Error binding parameter 1 - probably unsupported type.\n[SQL: INSERT INTO nodes (\"index\", tags, geom) VALUES (?, ?, ?)]\n[parameters: [(0, {'waterway': 'lock_gate', 'seamark:type': 'gate'}, <POINT (5 15)>), (1, {'seamark:type': 'harbour'}, <POINT (9.92 57.061)>), (2, {'seamark:type': 'buoy_cardinal'}, <POINT (12.016 48.926)>), (3, {'seamark:type': 'separation_boundary'}, <POINT (12.016 48.926)>), (4, {'seamark:type': 'separation_crossing'}, <POINT (12.016 48.926)>), (5, {'seamark:type': 'separation_lane'}, <POINT (12.016 48.926)>), (6, {'seamark:type': 'separation_roundabout'}, <POINT (12.016 48.926)>), (7, {'seamark:type': 'separation_zone'}, <POINT (12.016 48.926)>), (8, {'seamark:type': 'restricted_area'}, <POINT (12.016 48.926)>)]]\n(Background on this error at: https://sqlalche.me/e/20/rvf5)"
     ]
    }
   ],
   "source": [
    "nodes_df.to_sql('nodes',con=engine,if_exists='replace')"
   ]
  },
  {
   "cell_type": "code",
   "execution_count": 23,
   "id": "93066e86",
   "metadata": {},
   "outputs": [],
   "source": [
    "nodes_gdf = nodes_gdf.set_geometry('geom') \n",
    "nodes_gdf.to_file('gdfDB.sqlite', driver='SQLite', spatialite=True, layer='nodes',set_geometry='geom')"
   ]
  },
  {
   "cell_type": "code",
   "execution_count": 24,
   "id": "df890115",
   "metadata": {},
   "outputs": [],
   "source": [
    "ways_gdf = ways_gdf.set_geometry('geom') \n",
    "ways_gdf.to_file('gdfDB.sqlite', driver='SQLite', spatialite=True, layer='ways')"
   ]
  },
  {
   "cell_type": "code",
   "execution_count": 25,
   "id": "1a734505",
   "metadata": {},
   "outputs": [
    {
     "data": {
      "text/html": [
       "<div>\n",
       "<style scoped>\n",
       "    .dataframe tbody tr th:only-of-type {\n",
       "        vertical-align: middle;\n",
       "    }\n",
       "\n",
       "    .dataframe tbody tr th {\n",
       "        vertical-align: top;\n",
       "    }\n",
       "\n",
       "    .dataframe thead th {\n",
       "        text-align: right;\n",
       "    }\n",
       "</style>\n",
       "<table border=\"1\" class=\"dataframe\">\n",
       "  <thead>\n",
       "    <tr style=\"text-align: right;\">\n",
       "      <th></th>\n",
       "      <th>ogc_fid</th>\n",
       "      <th>GEOMETRY</th>\n",
       "      <th>tags</th>\n",
       "    </tr>\n",
       "  </thead>\n",
       "  <tbody>\n",
       "    <tr>\n",
       "      <th>0</th>\n",
       "      <td>1</td>\n",
       "      <td>b'\\x01\\x01\\x00\\x00\\x00\\x00\\x00\\x00\\x00\\x00\\x00...</td>\n",
       "      <td>{\"waterway\": \"lock_gate\", \"seamark:type\": \"gate\"}</td>\n",
       "    </tr>\n",
       "    <tr>\n",
       "      <th>1</th>\n",
       "      <td>2</td>\n",
       "      <td>b'\\x01\\x01\\x00\\x00\\x00\\x10X9\\xb4\\xc8\\xd6#@\\x87...</td>\n",
       "      <td>{\"seamark:type\": \"harbour\"}</td>\n",
       "    </tr>\n",
       "    <tr>\n",
       "      <th>2</th>\n",
       "      <td>3</td>\n",
       "      <td>b'\\x01\\x01\\x00\\x00\\x00\\x0e2\\xc9\\xc8Y\\x08(@\\x98...</td>\n",
       "      <td>{\"seamark:type\": \"buoy_cardinal\"}</td>\n",
       "    </tr>\n",
       "    <tr>\n",
       "      <th>3</th>\n",
       "      <td>4</td>\n",
       "      <td>b'\\x01\\x01\\x00\\x00\\x00\\x0e2\\xc9\\xc8Y\\x08(@\\x98...</td>\n",
       "      <td>{\"seamark:type\": \"separation_boundary\"}</td>\n",
       "    </tr>\n",
       "    <tr>\n",
       "      <th>4</th>\n",
       "      <td>5</td>\n",
       "      <td>b'\\x01\\x01\\x00\\x00\\x00\\x0e2\\xc9\\xc8Y\\x08(@\\x98...</td>\n",
       "      <td>{\"seamark:type\": \"separation_crossing\"}</td>\n",
       "    </tr>\n",
       "    <tr>\n",
       "      <th>5</th>\n",
       "      <td>6</td>\n",
       "      <td>b'\\x01\\x01\\x00\\x00\\x00\\x0e2\\xc9\\xc8Y\\x08(@\\x98...</td>\n",
       "      <td>{\"seamark:type\": \"separation_lane\"}</td>\n",
       "    </tr>\n",
       "    <tr>\n",
       "      <th>6</th>\n",
       "      <td>7</td>\n",
       "      <td>b'\\x01\\x01\\x00\\x00\\x00\\x0e2\\xc9\\xc8Y\\x08(@\\x98...</td>\n",
       "      <td>{\"seamark:type\": \"separation_roundabout\"}</td>\n",
       "    </tr>\n",
       "    <tr>\n",
       "      <th>7</th>\n",
       "      <td>8</td>\n",
       "      <td>b'\\x01\\x01\\x00\\x00\\x00\\x0e2\\xc9\\xc8Y\\x08(@\\x98...</td>\n",
       "      <td>{\"seamark:type\": \"separation_zone\"}</td>\n",
       "    </tr>\n",
       "    <tr>\n",
       "      <th>8</th>\n",
       "      <td>9</td>\n",
       "      <td>b'\\x01\\x01\\x00\\x00\\x00\\x0e2\\xc9\\xc8Y\\x08(@\\x98...</td>\n",
       "      <td>{\"seamark:type\": \"restricted_area\"}</td>\n",
       "    </tr>\n",
       "  </tbody>\n",
       "</table>\n",
       "</div>"
      ],
      "text/plain": [
       "   ogc_fid                                           GEOMETRY   \n",
       "0        1  b'\\x01\\x01\\x00\\x00\\x00\\x00\\x00\\x00\\x00\\x00\\x00...  \\\n",
       "1        2  b'\\x01\\x01\\x00\\x00\\x00\\x10X9\\xb4\\xc8\\xd6#@\\x87...   \n",
       "2        3  b'\\x01\\x01\\x00\\x00\\x00\\x0e2\\xc9\\xc8Y\\x08(@\\x98...   \n",
       "3        4  b'\\x01\\x01\\x00\\x00\\x00\\x0e2\\xc9\\xc8Y\\x08(@\\x98...   \n",
       "4        5  b'\\x01\\x01\\x00\\x00\\x00\\x0e2\\xc9\\xc8Y\\x08(@\\x98...   \n",
       "5        6  b'\\x01\\x01\\x00\\x00\\x00\\x0e2\\xc9\\xc8Y\\x08(@\\x98...   \n",
       "6        7  b'\\x01\\x01\\x00\\x00\\x00\\x0e2\\xc9\\xc8Y\\x08(@\\x98...   \n",
       "7        8  b'\\x01\\x01\\x00\\x00\\x00\\x0e2\\xc9\\xc8Y\\x08(@\\x98...   \n",
       "8        9  b'\\x01\\x01\\x00\\x00\\x00\\x0e2\\xc9\\xc8Y\\x08(@\\x98...   \n",
       "\n",
       "                                                tags  \n",
       "0  {\"waterway\": \"lock_gate\", \"seamark:type\": \"gate\"}  \n",
       "1                        {\"seamark:type\": \"harbour\"}  \n",
       "2                  {\"seamark:type\": \"buoy_cardinal\"}  \n",
       "3            {\"seamark:type\": \"separation_boundary\"}  \n",
       "4            {\"seamark:type\": \"separation_crossing\"}  \n",
       "5                {\"seamark:type\": \"separation_lane\"}  \n",
       "6          {\"seamark:type\": \"separation_roundabout\"}  \n",
       "7                {\"seamark:type\": \"separation_zone\"}  \n",
       "8                {\"seamark:type\": \"restricted_area\"}  "
      ]
     },
     "execution_count": 25,
     "metadata": {},
     "output_type": "execute_result"
    }
   ],
   "source": [
    "pd.read_sql('select * from nodes',con=engine)#'sqlite:///gdfDB.sqlite')"
   ]
  },
  {
   "cell_type": "code",
   "execution_count": 26,
   "id": "bdf5109f",
   "metadata": {},
   "outputs": [
    {
     "data": {
      "text/html": [
       "<div>\n",
       "<style scoped>\n",
       "    .dataframe tbody tr th:only-of-type {\n",
       "        vertical-align: middle;\n",
       "    }\n",
       "\n",
       "    .dataframe tbody tr th {\n",
       "        vertical-align: top;\n",
       "    }\n",
       "\n",
       "    .dataframe thead th {\n",
       "        text-align: right;\n",
       "    }\n",
       "</style>\n",
       "<table border=\"1\" class=\"dataframe\">\n",
       "  <thead>\n",
       "    <tr style=\"text-align: right;\">\n",
       "      <th></th>\n",
       "      <th>ogc_fid</th>\n",
       "      <th>GEOMETRY</th>\n",
       "      <th>tags</th>\n",
       "    </tr>\n",
       "  </thead>\n",
       "  <tbody>\n",
       "    <tr>\n",
       "      <th>0</th>\n",
       "      <td>1</td>\n",
       "      <td>b'\\x01\\x02\\x00\\x00\\x00\\x02\\x00\\x00\\x001r`\\x83\\...</td>\n",
       "      <td>{\"seamark:type\": \"separation_boundary\"}</td>\n",
       "    </tr>\n",
       "    <tr>\n",
       "      <th>1</th>\n",
       "      <td>2</td>\n",
       "      <td>b\"\\x01\\x02\\x00\\x00\\x00\\x04\\x00\\x00\\x00\\x87\\x03...</td>\n",
       "      <td>{\"seamark:type\": \"separation_crossing\"}</td>\n",
       "    </tr>\n",
       "    <tr>\n",
       "      <th>2</th>\n",
       "      <td>3</td>\n",
       "      <td>b'\\x01\\x02\\x00\\x00\\x00\\x02\\x00\\x00\\x00VZ\\x90wX...</td>\n",
       "      <td>{\"seamark:type\": \"separation_lane\"}</td>\n",
       "    </tr>\n",
       "    <tr>\n",
       "      <th>3</th>\n",
       "      <td>4</td>\n",
       "      <td>b'\\x01\\x02\\x00\\x00\\x00\\x11\\x00\\x00\\x00m\\xb0\\xc...</td>\n",
       "      <td>{\"seamark:type\": \"separation_roundabout\"}</td>\n",
       "    </tr>\n",
       "    <tr>\n",
       "      <th>4</th>\n",
       "      <td>5</td>\n",
       "      <td>b'\\x01\\x02\\x00\\x00\\x00\\x06\\x00\\x00\\x00\\x7f\\xa9...</td>\n",
       "      <td>{\"seamark:type\": \"separation_zone\"}</td>\n",
       "    </tr>\n",
       "    <tr>\n",
       "      <th>5</th>\n",
       "      <td>6</td>\n",
       "      <td>b'\\x01\\x02\\x00\\x00\\x00$\\x00\\x00\\x00\\xb8\\xe4]\\x...</td>\n",
       "      <td>{\"seamark:type\": \"restricted_area\"}</td>\n",
       "    </tr>\n",
       "  </tbody>\n",
       "</table>\n",
       "</div>"
      ],
      "text/plain": [
       "   ogc_fid                                           GEOMETRY   \n",
       "0        1  b'\\x01\\x02\\x00\\x00\\x00\\x02\\x00\\x00\\x001r`\\x83\\...  \\\n",
       "1        2  b\"\\x01\\x02\\x00\\x00\\x00\\x04\\x00\\x00\\x00\\x87\\x03...   \n",
       "2        3  b'\\x01\\x02\\x00\\x00\\x00\\x02\\x00\\x00\\x00VZ\\x90wX...   \n",
       "3        4  b'\\x01\\x02\\x00\\x00\\x00\\x11\\x00\\x00\\x00m\\xb0\\xc...   \n",
       "4        5  b'\\x01\\x02\\x00\\x00\\x00\\x06\\x00\\x00\\x00\\x7f\\xa9...   \n",
       "5        6  b'\\x01\\x02\\x00\\x00\\x00$\\x00\\x00\\x00\\xb8\\xe4]\\x...   \n",
       "\n",
       "                                        tags  \n",
       "0    {\"seamark:type\": \"separation_boundary\"}  \n",
       "1    {\"seamark:type\": \"separation_crossing\"}  \n",
       "2        {\"seamark:type\": \"separation_lane\"}  \n",
       "3  {\"seamark:type\": \"separation_roundabout\"}  \n",
       "4        {\"seamark:type\": \"separation_zone\"}  \n",
       "5        {\"seamark:type\": \"restricted_area\"}  "
      ]
     },
     "execution_count": 26,
     "metadata": {},
     "output_type": "execute_result"
    }
   ],
   "source": [
    "pd.read_sql('select * from ways',con=engine)#'sqlite:///gdfDB.sqlite')"
   ]
  },
  {
   "cell_type": "code",
   "execution_count": 27,
   "id": "9e6f4caf",
   "metadata": {},
   "outputs": [
    {
     "data": {
      "text/html": [
       "<div>\n",
       "<style scoped>\n",
       "    .dataframe tbody tr th:only-of-type {\n",
       "        vertical-align: middle;\n",
       "    }\n",
       "\n",
       "    .dataframe tbody tr th {\n",
       "        vertical-align: top;\n",
       "    }\n",
       "\n",
       "    .dataframe thead th {\n",
       "        text-align: right;\n",
       "    }\n",
       "</style>\n",
       "<table border=\"1\" class=\"dataframe\">\n",
       "  <thead>\n",
       "    <tr style=\"text-align: right;\">\n",
       "      <th></th>\n",
       "      <th>ogc_fid</th>\n",
       "      <th>tags</th>\n",
       "      <th>geom</th>\n",
       "    </tr>\n",
       "  </thead>\n",
       "  <tbody>\n",
       "    <tr>\n",
       "      <th>0</th>\n",
       "      <td>1</td>\n",
       "      <td>{\"waterway\": \"lock_gate\", \"seamark:type\": \"gate\"}</td>\n",
       "      <td>POINT (5.00000 15.00000)</td>\n",
       "    </tr>\n",
       "    <tr>\n",
       "      <th>1</th>\n",
       "      <td>2</td>\n",
       "      <td>{\"seamark:type\": \"harbour\"}</td>\n",
       "      <td>POINT (9.91950 57.06081)</td>\n",
       "    </tr>\n",
       "    <tr>\n",
       "      <th>2</th>\n",
       "      <td>3</td>\n",
       "      <td>{\"seamark:type\": \"buoy_cardinal\"}</td>\n",
       "      <td>POINT (12.01631 48.92595)</td>\n",
       "    </tr>\n",
       "    <tr>\n",
       "      <th>3</th>\n",
       "      <td>4</td>\n",
       "      <td>{\"seamark:type\": \"separation_boundary\"}</td>\n",
       "      <td>POINT (12.01631 48.92595)</td>\n",
       "    </tr>\n",
       "    <tr>\n",
       "      <th>4</th>\n",
       "      <td>5</td>\n",
       "      <td>{\"seamark:type\": \"separation_crossing\"}</td>\n",
       "      <td>POINT (12.01631 48.92595)</td>\n",
       "    </tr>\n",
       "    <tr>\n",
       "      <th>5</th>\n",
       "      <td>6</td>\n",
       "      <td>{\"seamark:type\": \"separation_lane\"}</td>\n",
       "      <td>POINT (12.01631 48.92595)</td>\n",
       "    </tr>\n",
       "    <tr>\n",
       "      <th>6</th>\n",
       "      <td>7</td>\n",
       "      <td>{\"seamark:type\": \"separation_roundabout\"}</td>\n",
       "      <td>POINT (12.01631 48.92595)</td>\n",
       "    </tr>\n",
       "    <tr>\n",
       "      <th>7</th>\n",
       "      <td>8</td>\n",
       "      <td>{\"seamark:type\": \"separation_zone\"}</td>\n",
       "      <td>POINT (12.01631 48.92595)</td>\n",
       "    </tr>\n",
       "    <tr>\n",
       "      <th>8</th>\n",
       "      <td>9</td>\n",
       "      <td>{\"seamark:type\": \"restricted_area\"}</td>\n",
       "      <td>POINT (12.01631 48.92595)</td>\n",
       "    </tr>\n",
       "  </tbody>\n",
       "</table>\n",
       "</div>"
      ],
      "text/plain": [
       "   ogc_fid                                               tags   \n",
       "0        1  {\"waterway\": \"lock_gate\", \"seamark:type\": \"gate\"}  \\\n",
       "1        2                        {\"seamark:type\": \"harbour\"}   \n",
       "2        3                  {\"seamark:type\": \"buoy_cardinal\"}   \n",
       "3        4            {\"seamark:type\": \"separation_boundary\"}   \n",
       "4        5            {\"seamark:type\": \"separation_crossing\"}   \n",
       "5        6                {\"seamark:type\": \"separation_lane\"}   \n",
       "6        7          {\"seamark:type\": \"separation_roundabout\"}   \n",
       "7        8                {\"seamark:type\": \"separation_zone\"}   \n",
       "8        9                {\"seamark:type\": \"restricted_area\"}   \n",
       "\n",
       "                        geom  \n",
       "0   POINT (5.00000 15.00000)  \n",
       "1   POINT (9.91950 57.06081)  \n",
       "2  POINT (12.01631 48.92595)  \n",
       "3  POINT (12.01631 48.92595)  \n",
       "4  POINT (12.01631 48.92595)  \n",
       "5  POINT (12.01631 48.92595)  \n",
       "6  POINT (12.01631 48.92595)  \n",
       "7  POINT (12.01631 48.92595)  \n",
       "8  POINT (12.01631 48.92595)  "
      ]
     },
     "execution_count": 27,
     "metadata": {},
     "output_type": "execute_result"
    }
   ],
   "source": [
    "gpd.read_postgis('select *,geometry as geom FROM nodes',con =engine,geom_col='geom').drop(['GEOMETRY'],axis=1)"
   ]
  },
  {
   "cell_type": "code",
   "execution_count": 28,
   "id": "1a8debfd",
   "metadata": {},
   "outputs": [
    {
     "data": {
      "text/html": [
       "<div>\n",
       "<style scoped>\n",
       "    .dataframe tbody tr th:only-of-type {\n",
       "        vertical-align: middle;\n",
       "    }\n",
       "\n",
       "    .dataframe tbody tr th {\n",
       "        vertical-align: top;\n",
       "    }\n",
       "\n",
       "    .dataframe thead th {\n",
       "        text-align: right;\n",
       "    }\n",
       "</style>\n",
       "<table border=\"1\" class=\"dataframe\">\n",
       "  <thead>\n",
       "    <tr style=\"text-align: right;\">\n",
       "      <th></th>\n",
       "      <th>ogc_fid</th>\n",
       "      <th>tags</th>\n",
       "      <th>geom</th>\n",
       "    </tr>\n",
       "  </thead>\n",
       "  <tbody>\n",
       "    <tr>\n",
       "      <th>0</th>\n",
       "      <td>1</td>\n",
       "      <td>{\"seamark:type\": \"separation_boundary\"}</td>\n",
       "      <td>LINESTRING (3.27383 51.87650, 3.15483 51.85367)</td>\n",
       "    </tr>\n",
       "    <tr>\n",
       "      <th>1</th>\n",
       "      <td>2</td>\n",
       "      <td>{\"seamark:type\": \"separation_crossing\"}</td>\n",
       "      <td>LINESTRING (6.37324 54.19209, 6.35933 54.19192...</td>\n",
       "    </tr>\n",
       "    <tr>\n",
       "      <th>2</th>\n",
       "      <td>3</td>\n",
       "      <td>{\"seamark:type\": \"separation_lane\"}</td>\n",
       "      <td>LINESTRING (24.65760 59.60857, 24.70265 59.55056)</td>\n",
       "    </tr>\n",
       "    <tr>\n",
       "      <th>3</th>\n",
       "      <td>4</td>\n",
       "      <td>{\"seamark:type\": \"separation_roundabout\"}</td>\n",
       "      <td>LINESTRING (27.99746 43.18633, 27.99852 43.186...</td>\n",
       "    </tr>\n",
       "    <tr>\n",
       "      <th>4</th>\n",
       "      <td>5</td>\n",
       "      <td>{\"seamark:type\": \"separation_zone\"}</td>\n",
       "      <td>LINESTRING (-1.98304 49.29275, -1.98302 49.292...</td>\n",
       "    </tr>\n",
       "    <tr>\n",
       "      <th>5</th>\n",
       "      <td>6</td>\n",
       "      <td>{\"seamark:type\": \"restricted_area\"}</td>\n",
       "      <td>LINESTRING (12.35699 47.91866, 12.35672 47.918...</td>\n",
       "    </tr>\n",
       "  </tbody>\n",
       "</table>\n",
       "</div>"
      ],
      "text/plain": [
       "   ogc_fid                                       tags   \n",
       "0        1    {\"seamark:type\": \"separation_boundary\"}  \\\n",
       "1        2    {\"seamark:type\": \"separation_crossing\"}   \n",
       "2        3        {\"seamark:type\": \"separation_lane\"}   \n",
       "3        4  {\"seamark:type\": \"separation_roundabout\"}   \n",
       "4        5        {\"seamark:type\": \"separation_zone\"}   \n",
       "5        6        {\"seamark:type\": \"restricted_area\"}   \n",
       "\n",
       "                                                geom  \n",
       "0    LINESTRING (3.27383 51.87650, 3.15483 51.85367)  \n",
       "1  LINESTRING (6.37324 54.19209, 6.35933 54.19192...  \n",
       "2  LINESTRING (24.65760 59.60857, 24.70265 59.55056)  \n",
       "3  LINESTRING (27.99746 43.18633, 27.99852 43.186...  \n",
       "4  LINESTRING (-1.98304 49.29275, -1.98302 49.292...  \n",
       "5  LINESTRING (12.35699 47.91866, 12.35672 47.918...  "
      ]
     },
     "execution_count": 28,
     "metadata": {},
     "output_type": "execute_result"
    }
   ],
   "source": [
    "gpd.read_postgis('select *,geometry as geom FROM ways',con =engine,geom_col='geom').drop(['GEOMETRY'],axis=1)"
   ]
  },
  {
   "cell_type": "code",
   "execution_count": 40,
   "id": "2f5ae795",
   "metadata": {},
   "outputs": [
    {
     "data": {
      "text/plain": [
       "sqlalchemy.engine.base.Connection"
      ]
     },
     "execution_count": 40,
     "metadata": {},
     "output_type": "execute_result"
    }
   ],
   "source": [
    "type(engine.connect())"
   ]
  },
  {
   "cell_type": "code",
   "execution_count": 45,
   "id": "44dd8034",
   "metadata": {},
   "outputs": [
    {
     "data": {
      "text/plain": [
       "<sqlite3.Connection at 0x7f634b7b9a40>"
      ]
     },
     "execution_count": 45,
     "metadata": {},
     "output_type": "execute_result"
    }
   ],
   "source": [
    "sqlite.connect('gdfDB.sqlite')"
   ]
  },
  {
   "cell_type": "code",
   "execution_count": 7,
   "id": "e9c8d786",
   "metadata": {},
   "outputs": [
    {
     "data": {
      "text/html": [
       "<div>\n",
       "<style scoped>\n",
       "    .dataframe tbody tr th:only-of-type {\n",
       "        vertical-align: middle;\n",
       "    }\n",
       "\n",
       "    .dataframe tbody tr th {\n",
       "        vertical-align: top;\n",
       "    }\n",
       "\n",
       "    .dataframe thead th {\n",
       "        text-align: right;\n",
       "    }\n",
       "</style>\n",
       "<table border=\"1\" class=\"dataframe\">\n",
       "  <thead>\n",
       "    <tr style=\"text-align: right;\">\n",
       "      <th></th>\n",
       "      <th>index</th>\n",
       "      <th>tags</th>\n",
       "      <th>geometry</th>\n",
       "      <th>geom</th>\n",
       "    </tr>\n",
       "  </thead>\n",
       "  <tbody>\n",
       "  </tbody>\n",
       "</table>\n",
       "</div>"
      ],
      "text/plain": [
       "Empty GeoDataFrame\n",
       "Columns: [index, tags, geometry, geom]\n",
       "Index: []"
      ]
     },
     "execution_count": 7,
     "metadata": {},
     "output_type": "execute_result"
    }
   ],
   "source": [
    "gpd.read_postgis('select *,geometry as geom FROM nodes',con =engine.connect(),geom_col='geom')"
   ]
  },
  {
   "cell_type": "code",
   "execution_count": 8,
   "id": "23a04b43",
   "metadata": {},
   "outputs": [],
   "source": [
    "nodes_df['geometry']= nodes_df.apply(lambda x: shapely.wkb.dumps(x.geometry), axis=1)\n"
   ]
  },
  {
   "cell_type": "code",
   "execution_count": 9,
   "id": "018fad84",
   "metadata": {
    "collapsed": true
   },
   "outputs": [
    {
     "ename": "InterfaceError",
     "evalue": "(sqlite3.InterfaceError) Error binding parameter 1 - probably unsupported type.\n[SQL: INSERT INTO nodes (\"index\", tags, geometry) VALUES (?, ?, ?)]\n[parameters: [(0, {'waterway': 'lock_gate', 'seamark:type': 'gate'}, b'\\x01\\x01\\x00\\x00\\x00\\x00\\x00\\x00\\x00\\x00\\x00\\x14@\\x00\\x00\\x00\\x00\\x00\\x00.@'), (1, {'seamark:type': 'harbour'}, b'\\x01\\x01\\x00\\x00\\x00\\x10X9\\xb4\\xc8\\xd6#@\\x87\\xa2@\\x9f\\xc8\\x87L@'), (2, {'seamark:type': 'buoy_cardinal'}, b'\\x01\\x01\\x00\\x00\\x00\\x0e2\\xc9\\xc8Y\\x08(@\\x98\\xdd\\x93\\x87\\x85vH@'), (3, {'seamark:type': 'separation_boundary'}, b'\\x01\\x01\\x00\\x00\\x00\\x0e2\\xc9\\xc8Y\\x08(@\\x98\\xdd\\x93\\x87\\x85vH@'), (4, {'seamark:type': 'separation_crossing'}, b'\\x01\\x01\\x00\\x00\\x00\\x0e2\\xc9\\xc8Y\\x08(@\\x98\\xdd\\x93\\x87\\x85vH@'), (5, {'seamark:type': 'separation_lane'}, b'\\x01\\x01\\x00\\x00\\x00\\x0e2\\xc9\\xc8Y\\x08(@\\x98\\xdd\\x93\\x87\\x85vH@'), (6, {'seamark:type': 'separation_roundabout'}, b'\\x01\\x01\\x00\\x00\\x00\\x0e2\\xc9\\xc8Y\\x08(@\\x98\\xdd\\x93\\x87\\x85vH@'), (7, {'seamark:type': 'separation_zone'}, b'\\x01\\x01\\x00\\x00\\x00\\x0e2\\xc9\\xc8Y\\x08(@\\x98\\xdd\\x93\\x87\\x85vH@'), (8, {'seamark:type': 'restricted_area'}, b'\\x01\\x01\\x00\\x00\\x00\\x0e2\\xc9\\xc8Y\\x08(@\\x98\\xdd\\x93\\x87\\x85vH@')]]\n(Background on this error at: https://sqlalche.me/e/20/rvf5)",
     "output_type": "error",
     "traceback": [
      "\u001b[0;31m---------------------------------------------------------------------------\u001b[0m",
      "\u001b[0;31mInterfaceError\u001b[0m                            Traceback (most recent call last)",
      "File \u001b[0;32m~/projects/maridata/MariGeoRoute/data/OpenSeaMap/venv/lib/python3.10/site-packages/sqlalchemy/engine/base.py:1937\u001b[0m, in \u001b[0;36mConnection._exec_single_context\u001b[0;34m(self, dialect, context, statement, parameters)\u001b[0m\n\u001b[1;32m   1936\u001b[0m     \u001b[38;5;28;01mif\u001b[39;00m \u001b[38;5;129;01mnot\u001b[39;00m evt_handled:\n\u001b[0;32m-> 1937\u001b[0m         \u001b[38;5;28;43mself\u001b[39;49m\u001b[38;5;241;43m.\u001b[39;49m\u001b[43mdialect\u001b[49m\u001b[38;5;241;43m.\u001b[39;49m\u001b[43mdo_executemany\u001b[49m\u001b[43m(\u001b[49m\n\u001b[1;32m   1938\u001b[0m \u001b[43m            \u001b[49m\u001b[43mcursor\u001b[49m\u001b[43m,\u001b[49m\n\u001b[1;32m   1939\u001b[0m \u001b[43m            \u001b[49m\u001b[43mstr_statement\u001b[49m\u001b[43m,\u001b[49m\n\u001b[1;32m   1940\u001b[0m \u001b[43m            \u001b[49m\u001b[43meffective_parameters\u001b[49m\u001b[43m,\u001b[49m\n\u001b[1;32m   1941\u001b[0m \u001b[43m            \u001b[49m\u001b[43mcontext\u001b[49m\u001b[43m,\u001b[49m\n\u001b[1;32m   1942\u001b[0m \u001b[43m        \u001b[49m\u001b[43m)\u001b[49m\n\u001b[1;32m   1943\u001b[0m \u001b[38;5;28;01melif\u001b[39;00m \u001b[38;5;129;01mnot\u001b[39;00m effective_parameters \u001b[38;5;129;01mand\u001b[39;00m context\u001b[38;5;241m.\u001b[39mno_parameters:\n",
      "File \u001b[0;32m~/projects/maridata/MariGeoRoute/data/OpenSeaMap/venv/lib/python3.10/site-packages/sqlalchemy/engine/default.py:917\u001b[0m, in \u001b[0;36mDefaultDialect.do_executemany\u001b[0;34m(self, cursor, statement, parameters, context)\u001b[0m\n\u001b[1;32m    916\u001b[0m \u001b[38;5;28;01mdef\u001b[39;00m \u001b[38;5;21mdo_executemany\u001b[39m(\u001b[38;5;28mself\u001b[39m, cursor, statement, parameters, context\u001b[38;5;241m=\u001b[39m\u001b[38;5;28;01mNone\u001b[39;00m):\n\u001b[0;32m--> 917\u001b[0m     \u001b[43mcursor\u001b[49m\u001b[38;5;241;43m.\u001b[39;49m\u001b[43mexecutemany\u001b[49m\u001b[43m(\u001b[49m\u001b[43mstatement\u001b[49m\u001b[43m,\u001b[49m\u001b[43m \u001b[49m\u001b[43mparameters\u001b[49m\u001b[43m)\u001b[49m\n",
      "\u001b[0;31mInterfaceError\u001b[0m: Error binding parameter 1 - probably unsupported type.",
      "\nThe above exception was the direct cause of the following exception:\n",
      "\u001b[0;31mInterfaceError\u001b[0m                            Traceback (most recent call last)",
      "Cell \u001b[0;32mIn[9], line 1\u001b[0m\n\u001b[0;32m----> 1\u001b[0m \u001b[43mnodes_df\u001b[49m\u001b[38;5;241;43m.\u001b[39;49m\u001b[43mto_sql\u001b[49m\u001b[43m(\u001b[49m\u001b[38;5;124;43m'\u001b[39;49m\u001b[38;5;124;43mnodes\u001b[39;49m\u001b[38;5;124;43m'\u001b[39;49m\u001b[43m,\u001b[49m\u001b[43mcon\u001b[49m\u001b[38;5;241;43m=\u001b[39;49m\u001b[43mengine\u001b[49m\u001b[38;5;241;43m.\u001b[39;49m\u001b[43mconnect\u001b[49m\u001b[43m(\u001b[49m\u001b[43m)\u001b[49m\u001b[43m,\u001b[49m\u001b[43mif_exists\u001b[49m\u001b[38;5;241;43m=\u001b[39;49m\u001b[38;5;124;43m'\u001b[39;49m\u001b[38;5;124;43mreplace\u001b[39;49m\u001b[38;5;124;43m'\u001b[39;49m\u001b[43m)\u001b[49m\n",
      "File \u001b[0;32m~/projects/maridata/MariGeoRoute/data/OpenSeaMap/venv/lib/python3.10/site-packages/pandas/core/generic.py:2878\u001b[0m, in \u001b[0;36mNDFrame.to_sql\u001b[0;34m(self, name, con, schema, if_exists, index, index_label, chunksize, dtype, method)\u001b[0m\n\u001b[1;32m   2713\u001b[0m \u001b[38;5;250m\u001b[39m\u001b[38;5;124;03m\"\"\"\u001b[39;00m\n\u001b[1;32m   2714\u001b[0m \u001b[38;5;124;03mWrite records stored in a DataFrame to a SQL database.\u001b[39;00m\n\u001b[1;32m   2715\u001b[0m \n\u001b[0;32m   (...)\u001b[0m\n\u001b[1;32m   2874\u001b[0m \u001b[38;5;124;03m[(1,), (None,), (2,)]\u001b[39;00m\n\u001b[1;32m   2875\u001b[0m \u001b[38;5;124;03m\"\"\"\u001b[39;00m  \u001b[38;5;66;03m# noqa:E501\u001b[39;00m\n\u001b[1;32m   2876\u001b[0m \u001b[38;5;28;01mfrom\u001b[39;00m \u001b[38;5;21;01mpandas\u001b[39;00m\u001b[38;5;21;01m.\u001b[39;00m\u001b[38;5;21;01mio\u001b[39;00m \u001b[38;5;28;01mimport\u001b[39;00m sql\n\u001b[0;32m-> 2878\u001b[0m \u001b[38;5;28;01mreturn\u001b[39;00m \u001b[43msql\u001b[49m\u001b[38;5;241;43m.\u001b[39;49m\u001b[43mto_sql\u001b[49m\u001b[43m(\u001b[49m\n\u001b[1;32m   2879\u001b[0m \u001b[43m    \u001b[49m\u001b[38;5;28;43mself\u001b[39;49m\u001b[43m,\u001b[49m\n\u001b[1;32m   2880\u001b[0m \u001b[43m    \u001b[49m\u001b[43mname\u001b[49m\u001b[43m,\u001b[49m\n\u001b[1;32m   2881\u001b[0m \u001b[43m    \u001b[49m\u001b[43mcon\u001b[49m\u001b[43m,\u001b[49m\n\u001b[1;32m   2882\u001b[0m \u001b[43m    \u001b[49m\u001b[43mschema\u001b[49m\u001b[38;5;241;43m=\u001b[39;49m\u001b[43mschema\u001b[49m\u001b[43m,\u001b[49m\n\u001b[1;32m   2883\u001b[0m \u001b[43m    \u001b[49m\u001b[43mif_exists\u001b[49m\u001b[38;5;241;43m=\u001b[39;49m\u001b[43mif_exists\u001b[49m\u001b[43m,\u001b[49m\n\u001b[1;32m   2884\u001b[0m \u001b[43m    \u001b[49m\u001b[43mindex\u001b[49m\u001b[38;5;241;43m=\u001b[39;49m\u001b[43mindex\u001b[49m\u001b[43m,\u001b[49m\n\u001b[1;32m   2885\u001b[0m \u001b[43m    \u001b[49m\u001b[43mindex_label\u001b[49m\u001b[38;5;241;43m=\u001b[39;49m\u001b[43mindex_label\u001b[49m\u001b[43m,\u001b[49m\n\u001b[1;32m   2886\u001b[0m \u001b[43m    \u001b[49m\u001b[43mchunksize\u001b[49m\u001b[38;5;241;43m=\u001b[39;49m\u001b[43mchunksize\u001b[49m\u001b[43m,\u001b[49m\n\u001b[1;32m   2887\u001b[0m \u001b[43m    \u001b[49m\u001b[43mdtype\u001b[49m\u001b[38;5;241;43m=\u001b[39;49m\u001b[43mdtype\u001b[49m\u001b[43m,\u001b[49m\n\u001b[1;32m   2888\u001b[0m \u001b[43m    \u001b[49m\u001b[43mmethod\u001b[49m\u001b[38;5;241;43m=\u001b[39;49m\u001b[43mmethod\u001b[49m\u001b[43m,\u001b[49m\n\u001b[1;32m   2889\u001b[0m \u001b[43m\u001b[49m\u001b[43m)\u001b[49m\n",
      "File \u001b[0;32m~/projects/maridata/MariGeoRoute/data/OpenSeaMap/venv/lib/python3.10/site-packages/pandas/io/sql.py:767\u001b[0m, in \u001b[0;36mto_sql\u001b[0;34m(frame, name, con, schema, if_exists, index, index_label, chunksize, dtype, method, engine, **engine_kwargs)\u001b[0m\n\u001b[1;32m    762\u001b[0m     \u001b[38;5;28;01mraise\u001b[39;00m \u001b[38;5;167;01mNotImplementedError\u001b[39;00m(\n\u001b[1;32m    763\u001b[0m         \u001b[38;5;124m\"\u001b[39m\u001b[38;5;124m'\u001b[39m\u001b[38;5;124mframe\u001b[39m\u001b[38;5;124m'\u001b[39m\u001b[38;5;124m argument should be either a Series or a DataFrame\u001b[39m\u001b[38;5;124m\"\u001b[39m\n\u001b[1;32m    764\u001b[0m     )\n\u001b[1;32m    766\u001b[0m \u001b[38;5;28;01mwith\u001b[39;00m pandasSQL_builder(con, schema\u001b[38;5;241m=\u001b[39mschema, need_transaction\u001b[38;5;241m=\u001b[39m\u001b[38;5;28;01mTrue\u001b[39;00m) \u001b[38;5;28;01mas\u001b[39;00m pandas_sql:\n\u001b[0;32m--> 767\u001b[0m     \u001b[38;5;28;01mreturn\u001b[39;00m \u001b[43mpandas_sql\u001b[49m\u001b[38;5;241;43m.\u001b[39;49m\u001b[43mto_sql\u001b[49m\u001b[43m(\u001b[49m\n\u001b[1;32m    768\u001b[0m \u001b[43m        \u001b[49m\u001b[43mframe\u001b[49m\u001b[43m,\u001b[49m\n\u001b[1;32m    769\u001b[0m \u001b[43m        \u001b[49m\u001b[43mname\u001b[49m\u001b[43m,\u001b[49m\n\u001b[1;32m    770\u001b[0m \u001b[43m        \u001b[49m\u001b[43mif_exists\u001b[49m\u001b[38;5;241;43m=\u001b[39;49m\u001b[43mif_exists\u001b[49m\u001b[43m,\u001b[49m\n\u001b[1;32m    771\u001b[0m \u001b[43m        \u001b[49m\u001b[43mindex\u001b[49m\u001b[38;5;241;43m=\u001b[39;49m\u001b[43mindex\u001b[49m\u001b[43m,\u001b[49m\n\u001b[1;32m    772\u001b[0m \u001b[43m        \u001b[49m\u001b[43mindex_label\u001b[49m\u001b[38;5;241;43m=\u001b[39;49m\u001b[43mindex_label\u001b[49m\u001b[43m,\u001b[49m\n\u001b[1;32m    773\u001b[0m \u001b[43m        \u001b[49m\u001b[43mschema\u001b[49m\u001b[38;5;241;43m=\u001b[39;49m\u001b[43mschema\u001b[49m\u001b[43m,\u001b[49m\n\u001b[1;32m    774\u001b[0m \u001b[43m        \u001b[49m\u001b[43mchunksize\u001b[49m\u001b[38;5;241;43m=\u001b[39;49m\u001b[43mchunksize\u001b[49m\u001b[43m,\u001b[49m\n\u001b[1;32m    775\u001b[0m \u001b[43m        \u001b[49m\u001b[43mdtype\u001b[49m\u001b[38;5;241;43m=\u001b[39;49m\u001b[43mdtype\u001b[49m\u001b[43m,\u001b[49m\n\u001b[1;32m    776\u001b[0m \u001b[43m        \u001b[49m\u001b[43mmethod\u001b[49m\u001b[38;5;241;43m=\u001b[39;49m\u001b[43mmethod\u001b[49m\u001b[43m,\u001b[49m\n\u001b[1;32m    777\u001b[0m \u001b[43m        \u001b[49m\u001b[43mengine\u001b[49m\u001b[38;5;241;43m=\u001b[39;49m\u001b[43mengine\u001b[49m\u001b[43m,\u001b[49m\n\u001b[1;32m    778\u001b[0m \u001b[43m        \u001b[49m\u001b[38;5;241;43m*\u001b[39;49m\u001b[38;5;241;43m*\u001b[39;49m\u001b[43mengine_kwargs\u001b[49m\u001b[43m,\u001b[49m\n\u001b[1;32m    779\u001b[0m \u001b[43m    \u001b[49m\u001b[43m)\u001b[49m\n",
      "File \u001b[0;32m~/projects/maridata/MariGeoRoute/data/OpenSeaMap/venv/lib/python3.10/site-packages/pandas/io/sql.py:1918\u001b[0m, in \u001b[0;36mSQLDatabase.to_sql\u001b[0;34m(self, frame, name, if_exists, index, index_label, schema, chunksize, dtype, method, engine, **engine_kwargs)\u001b[0m\n\u001b[1;32m   1906\u001b[0m sql_engine \u001b[38;5;241m=\u001b[39m get_engine(engine)\n\u001b[1;32m   1908\u001b[0m table \u001b[38;5;241m=\u001b[39m \u001b[38;5;28mself\u001b[39m\u001b[38;5;241m.\u001b[39mprep_table(\n\u001b[1;32m   1909\u001b[0m     frame\u001b[38;5;241m=\u001b[39mframe,\n\u001b[1;32m   1910\u001b[0m     name\u001b[38;5;241m=\u001b[39mname,\n\u001b[0;32m   (...)\u001b[0m\n\u001b[1;32m   1915\u001b[0m     dtype\u001b[38;5;241m=\u001b[39mdtype,\n\u001b[1;32m   1916\u001b[0m )\n\u001b[0;32m-> 1918\u001b[0m total_inserted \u001b[38;5;241m=\u001b[39m \u001b[43msql_engine\u001b[49m\u001b[38;5;241;43m.\u001b[39;49m\u001b[43minsert_records\u001b[49m\u001b[43m(\u001b[49m\n\u001b[1;32m   1919\u001b[0m \u001b[43m    \u001b[49m\u001b[43mtable\u001b[49m\u001b[38;5;241;43m=\u001b[39;49m\u001b[43mtable\u001b[49m\u001b[43m,\u001b[49m\n\u001b[1;32m   1920\u001b[0m \u001b[43m    \u001b[49m\u001b[43mcon\u001b[49m\u001b[38;5;241;43m=\u001b[39;49m\u001b[38;5;28;43mself\u001b[39;49m\u001b[38;5;241;43m.\u001b[39;49m\u001b[43mcon\u001b[49m\u001b[43m,\u001b[49m\n\u001b[1;32m   1921\u001b[0m \u001b[43m    \u001b[49m\u001b[43mframe\u001b[49m\u001b[38;5;241;43m=\u001b[39;49m\u001b[43mframe\u001b[49m\u001b[43m,\u001b[49m\n\u001b[1;32m   1922\u001b[0m \u001b[43m    \u001b[49m\u001b[43mname\u001b[49m\u001b[38;5;241;43m=\u001b[39;49m\u001b[43mname\u001b[49m\u001b[43m,\u001b[49m\n\u001b[1;32m   1923\u001b[0m \u001b[43m    \u001b[49m\u001b[43mindex\u001b[49m\u001b[38;5;241;43m=\u001b[39;49m\u001b[43mindex\u001b[49m\u001b[43m,\u001b[49m\n\u001b[1;32m   1924\u001b[0m \u001b[43m    \u001b[49m\u001b[43mschema\u001b[49m\u001b[38;5;241;43m=\u001b[39;49m\u001b[43mschema\u001b[49m\u001b[43m,\u001b[49m\n\u001b[1;32m   1925\u001b[0m \u001b[43m    \u001b[49m\u001b[43mchunksize\u001b[49m\u001b[38;5;241;43m=\u001b[39;49m\u001b[43mchunksize\u001b[49m\u001b[43m,\u001b[49m\n\u001b[1;32m   1926\u001b[0m \u001b[43m    \u001b[49m\u001b[43mmethod\u001b[49m\u001b[38;5;241;43m=\u001b[39;49m\u001b[43mmethod\u001b[49m\u001b[43m,\u001b[49m\n\u001b[1;32m   1927\u001b[0m \u001b[43m    \u001b[49m\u001b[38;5;241;43m*\u001b[39;49m\u001b[38;5;241;43m*\u001b[39;49m\u001b[43mengine_kwargs\u001b[49m\u001b[43m,\u001b[49m\n\u001b[1;32m   1928\u001b[0m \u001b[43m\u001b[49m\u001b[43m)\u001b[49m\n\u001b[1;32m   1930\u001b[0m \u001b[38;5;28mself\u001b[39m\u001b[38;5;241m.\u001b[39mcheck_case_sensitive(name\u001b[38;5;241m=\u001b[39mname, schema\u001b[38;5;241m=\u001b[39mschema)\n\u001b[1;32m   1931\u001b[0m \u001b[38;5;28;01mreturn\u001b[39;00m total_inserted\n",
      "File \u001b[0;32m~/projects/maridata/MariGeoRoute/data/OpenSeaMap/venv/lib/python3.10/site-packages/pandas/io/sql.py:1468\u001b[0m, in \u001b[0;36mSQLAlchemyEngine.insert_records\u001b[0;34m(self, table, con, frame, name, index, schema, chunksize, method, **engine_kwargs)\u001b[0m\n\u001b[1;32m   1466\u001b[0m \u001b[38;5;28;01mif\u001b[39;00m re\u001b[38;5;241m.\u001b[39msearch(msg, err_text):\n\u001b[1;32m   1467\u001b[0m     \u001b[38;5;28;01mraise\u001b[39;00m \u001b[38;5;167;01mValueError\u001b[39;00m(\u001b[38;5;124m\"\u001b[39m\u001b[38;5;124minf cannot be used with MySQL\u001b[39m\u001b[38;5;124m\"\u001b[39m) \u001b[38;5;28;01mfrom\u001b[39;00m \u001b[38;5;21;01merr\u001b[39;00m\n\u001b[0;32m-> 1468\u001b[0m \u001b[38;5;28;01mraise\u001b[39;00m err\n",
      "File \u001b[0;32m~/projects/maridata/MariGeoRoute/data/OpenSeaMap/venv/lib/python3.10/site-packages/pandas/io/sql.py:1459\u001b[0m, in \u001b[0;36mSQLAlchemyEngine.insert_records\u001b[0;34m(self, table, con, frame, name, index, schema, chunksize, method, **engine_kwargs)\u001b[0m\n\u001b[1;32m   1456\u001b[0m \u001b[38;5;28;01mfrom\u001b[39;00m \u001b[38;5;21;01msqlalchemy\u001b[39;00m \u001b[38;5;28;01mimport\u001b[39;00m exc\n\u001b[1;32m   1458\u001b[0m \u001b[38;5;28;01mtry\u001b[39;00m:\n\u001b[0;32m-> 1459\u001b[0m     \u001b[38;5;28;01mreturn\u001b[39;00m \u001b[43mtable\u001b[49m\u001b[38;5;241;43m.\u001b[39;49m\u001b[43minsert\u001b[49m\u001b[43m(\u001b[49m\u001b[43mchunksize\u001b[49m\u001b[38;5;241;43m=\u001b[39;49m\u001b[43mchunksize\u001b[49m\u001b[43m,\u001b[49m\u001b[43m \u001b[49m\u001b[43mmethod\u001b[49m\u001b[38;5;241;43m=\u001b[39;49m\u001b[43mmethod\u001b[49m\u001b[43m)\u001b[49m\n\u001b[1;32m   1460\u001b[0m \u001b[38;5;28;01mexcept\u001b[39;00m exc\u001b[38;5;241m.\u001b[39mStatementError \u001b[38;5;28;01mas\u001b[39;00m err:\n\u001b[1;32m   1461\u001b[0m     \u001b[38;5;66;03m# GH34431\u001b[39;00m\n\u001b[1;32m   1462\u001b[0m     \u001b[38;5;66;03m# https://stackoverflow.com/a/67358288/6067848\u001b[39;00m\n\u001b[1;32m   1463\u001b[0m     msg \u001b[38;5;241m=\u001b[39m \u001b[38;5;124mr\u001b[39m\u001b[38;5;124m\"\"\"\u001b[39m\u001b[38;5;124m(\u001b[39m\u001b[38;5;124m\\\u001b[39m\u001b[38;5;124m(1054, \u001b[39m\u001b[38;5;124m\"\u001b[39m\u001b[38;5;124mUnknown column \u001b[39m\u001b[38;5;124m'\u001b[39m\u001b[38;5;124minf(e0)?\u001b[39m\u001b[38;5;124m'\u001b[39m\u001b[38;5;124m in \u001b[39m\u001b[38;5;124m'\u001b[39m\u001b[38;5;124mfield list\u001b[39m\u001b[38;5;124m'\u001b[39m\u001b[38;5;124m\"\u001b[39m\u001b[38;5;124m\\\u001b[39m\u001b[38;5;124m))(?#\u001b[39m\n\u001b[1;32m   1464\u001b[0m \u001b[38;5;124m    )|inf can not be used with MySQL\u001b[39m\u001b[38;5;124m\"\"\"\u001b[39m\n",
      "File \u001b[0;32m~/projects/maridata/MariGeoRoute/data/OpenSeaMap/venv/lib/python3.10/site-packages/pandas/io/sql.py:1021\u001b[0m, in \u001b[0;36mSQLTable.insert\u001b[0;34m(self, chunksize, method)\u001b[0m\n\u001b[1;32m   1018\u001b[0m     \u001b[38;5;28;01mbreak\u001b[39;00m\n\u001b[1;32m   1020\u001b[0m chunk_iter \u001b[38;5;241m=\u001b[39m \u001b[38;5;28mzip\u001b[39m(\u001b[38;5;241m*\u001b[39m(arr[start_i:end_i] \u001b[38;5;28;01mfor\u001b[39;00m arr \u001b[38;5;129;01min\u001b[39;00m data_list))\n\u001b[0;32m-> 1021\u001b[0m num_inserted \u001b[38;5;241m=\u001b[39m \u001b[43mexec_insert\u001b[49m\u001b[43m(\u001b[49m\u001b[43mconn\u001b[49m\u001b[43m,\u001b[49m\u001b[43m \u001b[49m\u001b[43mkeys\u001b[49m\u001b[43m,\u001b[49m\u001b[43m \u001b[49m\u001b[43mchunk_iter\u001b[49m\u001b[43m)\u001b[49m\n\u001b[1;32m   1022\u001b[0m \u001b[38;5;66;03m# GH 46891\u001b[39;00m\n\u001b[1;32m   1023\u001b[0m \u001b[38;5;28;01mif\u001b[39;00m is_integer(num_inserted):\n",
      "File \u001b[0;32m~/projects/maridata/MariGeoRoute/data/OpenSeaMap/venv/lib/python3.10/site-packages/pandas/io/sql.py:927\u001b[0m, in \u001b[0;36mSQLTable._execute_insert\u001b[0;34m(self, conn, keys, data_iter)\u001b[0m\n\u001b[1;32m    915\u001b[0m \u001b[38;5;250m\u001b[39m\u001b[38;5;124;03m\"\"\"\u001b[39;00m\n\u001b[1;32m    916\u001b[0m \u001b[38;5;124;03mExecute SQL statement inserting data\u001b[39;00m\n\u001b[1;32m    917\u001b[0m \n\u001b[0;32m   (...)\u001b[0m\n\u001b[1;32m    924\u001b[0m \u001b[38;5;124;03m   Each item contains a list of values to be inserted\u001b[39;00m\n\u001b[1;32m    925\u001b[0m \u001b[38;5;124;03m\"\"\"\u001b[39;00m\n\u001b[1;32m    926\u001b[0m data \u001b[38;5;241m=\u001b[39m [\u001b[38;5;28mdict\u001b[39m(\u001b[38;5;28mzip\u001b[39m(keys, row)) \u001b[38;5;28;01mfor\u001b[39;00m row \u001b[38;5;129;01min\u001b[39;00m data_iter]\n\u001b[0;32m--> 927\u001b[0m result \u001b[38;5;241m=\u001b[39m \u001b[43mconn\u001b[49m\u001b[38;5;241;43m.\u001b[39;49m\u001b[43mexecute\u001b[49m\u001b[43m(\u001b[49m\u001b[38;5;28;43mself\u001b[39;49m\u001b[38;5;241;43m.\u001b[39;49m\u001b[43mtable\u001b[49m\u001b[38;5;241;43m.\u001b[39;49m\u001b[43minsert\u001b[49m\u001b[43m(\u001b[49m\u001b[43m)\u001b[49m\u001b[43m,\u001b[49m\u001b[43m \u001b[49m\u001b[43mdata\u001b[49m\u001b[43m)\u001b[49m\n\u001b[1;32m    928\u001b[0m \u001b[38;5;28;01mreturn\u001b[39;00m result\u001b[38;5;241m.\u001b[39mrowcount\n",
      "File \u001b[0;32m~/projects/maridata/MariGeoRoute/data/OpenSeaMap/venv/lib/python3.10/site-packages/sqlalchemy/engine/base.py:1413\u001b[0m, in \u001b[0;36mConnection.execute\u001b[0;34m(self, statement, parameters, execution_options)\u001b[0m\n\u001b[1;32m   1411\u001b[0m     \u001b[38;5;28;01mraise\u001b[39;00m exc\u001b[38;5;241m.\u001b[39mObjectNotExecutableError(statement) \u001b[38;5;28;01mfrom\u001b[39;00m \u001b[38;5;21;01merr\u001b[39;00m\n\u001b[1;32m   1412\u001b[0m \u001b[38;5;28;01melse\u001b[39;00m:\n\u001b[0;32m-> 1413\u001b[0m     \u001b[38;5;28;01mreturn\u001b[39;00m \u001b[43mmeth\u001b[49m\u001b[43m(\u001b[49m\n\u001b[1;32m   1414\u001b[0m \u001b[43m        \u001b[49m\u001b[38;5;28;43mself\u001b[39;49m\u001b[43m,\u001b[49m\n\u001b[1;32m   1415\u001b[0m \u001b[43m        \u001b[49m\u001b[43mdistilled_parameters\u001b[49m\u001b[43m,\u001b[49m\n\u001b[1;32m   1416\u001b[0m \u001b[43m        \u001b[49m\u001b[43mexecution_options\u001b[49m\u001b[43m \u001b[49m\u001b[38;5;129;43;01mor\u001b[39;49;00m\u001b[43m \u001b[49m\u001b[43mNO_OPTIONS\u001b[49m\u001b[43m,\u001b[49m\n\u001b[1;32m   1417\u001b[0m \u001b[43m    \u001b[49m\u001b[43m)\u001b[49m\n",
      "File \u001b[0;32m~/projects/maridata/MariGeoRoute/data/OpenSeaMap/venv/lib/python3.10/site-packages/sqlalchemy/sql/elements.py:483\u001b[0m, in \u001b[0;36mClauseElement._execute_on_connection\u001b[0;34m(self, connection, distilled_params, execution_options)\u001b[0m\n\u001b[1;32m    481\u001b[0m     \u001b[38;5;28;01mif\u001b[39;00m TYPE_CHECKING:\n\u001b[1;32m    482\u001b[0m         \u001b[38;5;28;01massert\u001b[39;00m \u001b[38;5;28misinstance\u001b[39m(\u001b[38;5;28mself\u001b[39m, Executable)\n\u001b[0;32m--> 483\u001b[0m     \u001b[38;5;28;01mreturn\u001b[39;00m \u001b[43mconnection\u001b[49m\u001b[38;5;241;43m.\u001b[39;49m\u001b[43m_execute_clauseelement\u001b[49m\u001b[43m(\u001b[49m\n\u001b[1;32m    484\u001b[0m \u001b[43m        \u001b[49m\u001b[38;5;28;43mself\u001b[39;49m\u001b[43m,\u001b[49m\u001b[43m \u001b[49m\u001b[43mdistilled_params\u001b[49m\u001b[43m,\u001b[49m\u001b[43m \u001b[49m\u001b[43mexecution_options\u001b[49m\n\u001b[1;32m    485\u001b[0m \u001b[43m    \u001b[49m\u001b[43m)\u001b[49m\n\u001b[1;32m    486\u001b[0m \u001b[38;5;28;01melse\u001b[39;00m:\n\u001b[1;32m    487\u001b[0m     \u001b[38;5;28;01mraise\u001b[39;00m exc\u001b[38;5;241m.\u001b[39mObjectNotExecutableError(\u001b[38;5;28mself\u001b[39m)\n",
      "File \u001b[0;32m~/projects/maridata/MariGeoRoute/data/OpenSeaMap/venv/lib/python3.10/site-packages/sqlalchemy/engine/base.py:1637\u001b[0m, in \u001b[0;36mConnection._execute_clauseelement\u001b[0;34m(self, elem, distilled_parameters, execution_options)\u001b[0m\n\u001b[1;32m   1625\u001b[0m compiled_cache: Optional[CompiledCacheType] \u001b[38;5;241m=\u001b[39m execution_options\u001b[38;5;241m.\u001b[39mget(\n\u001b[1;32m   1626\u001b[0m     \u001b[38;5;124m\"\u001b[39m\u001b[38;5;124mcompiled_cache\u001b[39m\u001b[38;5;124m\"\u001b[39m, \u001b[38;5;28mself\u001b[39m\u001b[38;5;241m.\u001b[39mengine\u001b[38;5;241m.\u001b[39m_compiled_cache\n\u001b[1;32m   1627\u001b[0m )\n\u001b[1;32m   1629\u001b[0m compiled_sql, extracted_params, cache_hit \u001b[38;5;241m=\u001b[39m elem\u001b[38;5;241m.\u001b[39m_compile_w_cache(\n\u001b[1;32m   1630\u001b[0m     dialect\u001b[38;5;241m=\u001b[39mdialect,\n\u001b[1;32m   1631\u001b[0m     compiled_cache\u001b[38;5;241m=\u001b[39mcompiled_cache,\n\u001b[0;32m   (...)\u001b[0m\n\u001b[1;32m   1635\u001b[0m     linting\u001b[38;5;241m=\u001b[39m\u001b[38;5;28mself\u001b[39m\u001b[38;5;241m.\u001b[39mdialect\u001b[38;5;241m.\u001b[39mcompiler_linting \u001b[38;5;241m|\u001b[39m compiler\u001b[38;5;241m.\u001b[39mWARN_LINTING,\n\u001b[1;32m   1636\u001b[0m )\n\u001b[0;32m-> 1637\u001b[0m ret \u001b[38;5;241m=\u001b[39m \u001b[38;5;28;43mself\u001b[39;49m\u001b[38;5;241;43m.\u001b[39;49m\u001b[43m_execute_context\u001b[49m\u001b[43m(\u001b[49m\n\u001b[1;32m   1638\u001b[0m \u001b[43m    \u001b[49m\u001b[43mdialect\u001b[49m\u001b[43m,\u001b[49m\n\u001b[1;32m   1639\u001b[0m \u001b[43m    \u001b[49m\u001b[43mdialect\u001b[49m\u001b[38;5;241;43m.\u001b[39;49m\u001b[43mexecution_ctx_cls\u001b[49m\u001b[38;5;241;43m.\u001b[39;49m\u001b[43m_init_compiled\u001b[49m\u001b[43m,\u001b[49m\n\u001b[1;32m   1640\u001b[0m \u001b[43m    \u001b[49m\u001b[43mcompiled_sql\u001b[49m\u001b[43m,\u001b[49m\n\u001b[1;32m   1641\u001b[0m \u001b[43m    \u001b[49m\u001b[43mdistilled_parameters\u001b[49m\u001b[43m,\u001b[49m\n\u001b[1;32m   1642\u001b[0m \u001b[43m    \u001b[49m\u001b[43mexecution_options\u001b[49m\u001b[43m,\u001b[49m\n\u001b[1;32m   1643\u001b[0m \u001b[43m    \u001b[49m\u001b[43mcompiled_sql\u001b[49m\u001b[43m,\u001b[49m\n\u001b[1;32m   1644\u001b[0m \u001b[43m    \u001b[49m\u001b[43mdistilled_parameters\u001b[49m\u001b[43m,\u001b[49m\n\u001b[1;32m   1645\u001b[0m \u001b[43m    \u001b[49m\u001b[43melem\u001b[49m\u001b[43m,\u001b[49m\n\u001b[1;32m   1646\u001b[0m \u001b[43m    \u001b[49m\u001b[43mextracted_params\u001b[49m\u001b[43m,\u001b[49m\n\u001b[1;32m   1647\u001b[0m \u001b[43m    \u001b[49m\u001b[43mcache_hit\u001b[49m\u001b[38;5;241;43m=\u001b[39;49m\u001b[43mcache_hit\u001b[49m\u001b[43m,\u001b[49m\n\u001b[1;32m   1648\u001b[0m \u001b[43m\u001b[49m\u001b[43m)\u001b[49m\n\u001b[1;32m   1649\u001b[0m \u001b[38;5;28;01mif\u001b[39;00m has_events:\n\u001b[1;32m   1650\u001b[0m     \u001b[38;5;28mself\u001b[39m\u001b[38;5;241m.\u001b[39mdispatch\u001b[38;5;241m.\u001b[39mafter_execute(\n\u001b[1;32m   1651\u001b[0m         \u001b[38;5;28mself\u001b[39m,\n\u001b[1;32m   1652\u001b[0m         elem,\n\u001b[0;32m   (...)\u001b[0m\n\u001b[1;32m   1656\u001b[0m         ret,\n\u001b[1;32m   1657\u001b[0m     )\n",
      "File \u001b[0;32m~/projects/maridata/MariGeoRoute/data/OpenSeaMap/venv/lib/python3.10/site-packages/sqlalchemy/engine/base.py:1846\u001b[0m, in \u001b[0;36mConnection._execute_context\u001b[0;34m(self, dialect, constructor, statement, parameters, execution_options, *args, **kw)\u001b[0m\n\u001b[1;32m   1841\u001b[0m     \u001b[38;5;28;01mreturn\u001b[39;00m \u001b[38;5;28mself\u001b[39m\u001b[38;5;241m.\u001b[39m_exec_insertmany_context(\n\u001b[1;32m   1842\u001b[0m         dialect,\n\u001b[1;32m   1843\u001b[0m         context,\n\u001b[1;32m   1844\u001b[0m     )\n\u001b[1;32m   1845\u001b[0m \u001b[38;5;28;01melse\u001b[39;00m:\n\u001b[0;32m-> 1846\u001b[0m     \u001b[38;5;28;01mreturn\u001b[39;00m \u001b[38;5;28;43mself\u001b[39;49m\u001b[38;5;241;43m.\u001b[39;49m\u001b[43m_exec_single_context\u001b[49m\u001b[43m(\u001b[49m\n\u001b[1;32m   1847\u001b[0m \u001b[43m        \u001b[49m\u001b[43mdialect\u001b[49m\u001b[43m,\u001b[49m\u001b[43m \u001b[49m\u001b[43mcontext\u001b[49m\u001b[43m,\u001b[49m\u001b[43m \u001b[49m\u001b[43mstatement\u001b[49m\u001b[43m,\u001b[49m\u001b[43m \u001b[49m\u001b[43mparameters\u001b[49m\n\u001b[1;32m   1848\u001b[0m \u001b[43m    \u001b[49m\u001b[43m)\u001b[49m\n",
      "File \u001b[0;32m~/projects/maridata/MariGeoRoute/data/OpenSeaMap/venv/lib/python3.10/site-packages/sqlalchemy/engine/base.py:1987\u001b[0m, in \u001b[0;36mConnection._exec_single_context\u001b[0;34m(self, dialect, context, statement, parameters)\u001b[0m\n\u001b[1;32m   1984\u001b[0m     result \u001b[38;5;241m=\u001b[39m context\u001b[38;5;241m.\u001b[39m_setup_result_proxy()\n\u001b[1;32m   1986\u001b[0m \u001b[38;5;28;01mexcept\u001b[39;00m \u001b[38;5;167;01mBaseException\u001b[39;00m \u001b[38;5;28;01mas\u001b[39;00m e:\n\u001b[0;32m-> 1987\u001b[0m     \u001b[38;5;28;43mself\u001b[39;49m\u001b[38;5;241;43m.\u001b[39;49m\u001b[43m_handle_dbapi_exception\u001b[49m\u001b[43m(\u001b[49m\n\u001b[1;32m   1988\u001b[0m \u001b[43m        \u001b[49m\u001b[43me\u001b[49m\u001b[43m,\u001b[49m\u001b[43m \u001b[49m\u001b[43mstr_statement\u001b[49m\u001b[43m,\u001b[49m\u001b[43m \u001b[49m\u001b[43meffective_parameters\u001b[49m\u001b[43m,\u001b[49m\u001b[43m \u001b[49m\u001b[43mcursor\u001b[49m\u001b[43m,\u001b[49m\u001b[43m \u001b[49m\u001b[43mcontext\u001b[49m\n\u001b[1;32m   1989\u001b[0m \u001b[43m    \u001b[49m\u001b[43m)\u001b[49m\n\u001b[1;32m   1991\u001b[0m \u001b[38;5;28;01mreturn\u001b[39;00m result\n",
      "File \u001b[0;32m~/projects/maridata/MariGeoRoute/data/OpenSeaMap/venv/lib/python3.10/site-packages/sqlalchemy/engine/base.py:2344\u001b[0m, in \u001b[0;36mConnection._handle_dbapi_exception\u001b[0;34m(self, e, statement, parameters, cursor, context, is_sub_exec)\u001b[0m\n\u001b[1;32m   2342\u001b[0m \u001b[38;5;28;01melif\u001b[39;00m should_wrap:\n\u001b[1;32m   2343\u001b[0m     \u001b[38;5;28;01massert\u001b[39;00m sqlalchemy_exception \u001b[38;5;129;01mis\u001b[39;00m \u001b[38;5;129;01mnot\u001b[39;00m \u001b[38;5;28;01mNone\u001b[39;00m\n\u001b[0;32m-> 2344\u001b[0m     \u001b[38;5;28;01mraise\u001b[39;00m sqlalchemy_exception\u001b[38;5;241m.\u001b[39mwith_traceback(exc_info[\u001b[38;5;241m2\u001b[39m]) \u001b[38;5;28;01mfrom\u001b[39;00m \u001b[38;5;21;01me\u001b[39;00m\n\u001b[1;32m   2345\u001b[0m \u001b[38;5;28;01melse\u001b[39;00m:\n\u001b[1;32m   2346\u001b[0m     \u001b[38;5;28;01massert\u001b[39;00m exc_info[\u001b[38;5;241m1\u001b[39m] \u001b[38;5;129;01mis\u001b[39;00m \u001b[38;5;129;01mnot\u001b[39;00m \u001b[38;5;28;01mNone\u001b[39;00m\n",
      "File \u001b[0;32m~/projects/maridata/MariGeoRoute/data/OpenSeaMap/venv/lib/python3.10/site-packages/sqlalchemy/engine/base.py:1937\u001b[0m, in \u001b[0;36mConnection._exec_single_context\u001b[0;34m(self, dialect, context, statement, parameters)\u001b[0m\n\u001b[1;32m   1935\u001b[0m                 \u001b[38;5;28;01mbreak\u001b[39;00m\n\u001b[1;32m   1936\u001b[0m     \u001b[38;5;28;01mif\u001b[39;00m \u001b[38;5;129;01mnot\u001b[39;00m evt_handled:\n\u001b[0;32m-> 1937\u001b[0m         \u001b[38;5;28;43mself\u001b[39;49m\u001b[38;5;241;43m.\u001b[39;49m\u001b[43mdialect\u001b[49m\u001b[38;5;241;43m.\u001b[39;49m\u001b[43mdo_executemany\u001b[49m\u001b[43m(\u001b[49m\n\u001b[1;32m   1938\u001b[0m \u001b[43m            \u001b[49m\u001b[43mcursor\u001b[49m\u001b[43m,\u001b[49m\n\u001b[1;32m   1939\u001b[0m \u001b[43m            \u001b[49m\u001b[43mstr_statement\u001b[49m\u001b[43m,\u001b[49m\n\u001b[1;32m   1940\u001b[0m \u001b[43m            \u001b[49m\u001b[43meffective_parameters\u001b[49m\u001b[43m,\u001b[49m\n\u001b[1;32m   1941\u001b[0m \u001b[43m            \u001b[49m\u001b[43mcontext\u001b[49m\u001b[43m,\u001b[49m\n\u001b[1;32m   1942\u001b[0m \u001b[43m        \u001b[49m\u001b[43m)\u001b[49m\n\u001b[1;32m   1943\u001b[0m \u001b[38;5;28;01melif\u001b[39;00m \u001b[38;5;129;01mnot\u001b[39;00m effective_parameters \u001b[38;5;129;01mand\u001b[39;00m context\u001b[38;5;241m.\u001b[39mno_parameters:\n\u001b[1;32m   1944\u001b[0m     \u001b[38;5;28;01mif\u001b[39;00m \u001b[38;5;28mself\u001b[39m\u001b[38;5;241m.\u001b[39mdialect\u001b[38;5;241m.\u001b[39m_has_events:\n",
      "File \u001b[0;32m~/projects/maridata/MariGeoRoute/data/OpenSeaMap/venv/lib/python3.10/site-packages/sqlalchemy/engine/default.py:917\u001b[0m, in \u001b[0;36mDefaultDialect.do_executemany\u001b[0;34m(self, cursor, statement, parameters, context)\u001b[0m\n\u001b[1;32m    916\u001b[0m \u001b[38;5;28;01mdef\u001b[39;00m \u001b[38;5;21mdo_executemany\u001b[39m(\u001b[38;5;28mself\u001b[39m, cursor, statement, parameters, context\u001b[38;5;241m=\u001b[39m\u001b[38;5;28;01mNone\u001b[39;00m):\n\u001b[0;32m--> 917\u001b[0m     \u001b[43mcursor\u001b[49m\u001b[38;5;241;43m.\u001b[39;49m\u001b[43mexecutemany\u001b[49m\u001b[43m(\u001b[49m\u001b[43mstatement\u001b[49m\u001b[43m,\u001b[49m\u001b[43m \u001b[49m\u001b[43mparameters\u001b[49m\u001b[43m)\u001b[49m\n",
      "\u001b[0;31mInterfaceError\u001b[0m: (sqlite3.InterfaceError) Error binding parameter 1 - probably unsupported type.\n[SQL: INSERT INTO nodes (\"index\", tags, geometry) VALUES (?, ?, ?)]\n[parameters: [(0, {'waterway': 'lock_gate', 'seamark:type': 'gate'}, b'\\x01\\x01\\x00\\x00\\x00\\x00\\x00\\x00\\x00\\x00\\x00\\x14@\\x00\\x00\\x00\\x00\\x00\\x00.@'), (1, {'seamark:type': 'harbour'}, b'\\x01\\x01\\x00\\x00\\x00\\x10X9\\xb4\\xc8\\xd6#@\\x87\\xa2@\\x9f\\xc8\\x87L@'), (2, {'seamark:type': 'buoy_cardinal'}, b'\\x01\\x01\\x00\\x00\\x00\\x0e2\\xc9\\xc8Y\\x08(@\\x98\\xdd\\x93\\x87\\x85vH@'), (3, {'seamark:type': 'separation_boundary'}, b'\\x01\\x01\\x00\\x00\\x00\\x0e2\\xc9\\xc8Y\\x08(@\\x98\\xdd\\x93\\x87\\x85vH@'), (4, {'seamark:type': 'separation_crossing'}, b'\\x01\\x01\\x00\\x00\\x00\\x0e2\\xc9\\xc8Y\\x08(@\\x98\\xdd\\x93\\x87\\x85vH@'), (5, {'seamark:type': 'separation_lane'}, b'\\x01\\x01\\x00\\x00\\x00\\x0e2\\xc9\\xc8Y\\x08(@\\x98\\xdd\\x93\\x87\\x85vH@'), (6, {'seamark:type': 'separation_roundabout'}, b'\\x01\\x01\\x00\\x00\\x00\\x0e2\\xc9\\xc8Y\\x08(@\\x98\\xdd\\x93\\x87\\x85vH@'), (7, {'seamark:type': 'separation_zone'}, b'\\x01\\x01\\x00\\x00\\x00\\x0e2\\xc9\\xc8Y\\x08(@\\x98\\xdd\\x93\\x87\\x85vH@'), (8, {'seamark:type': 'restricted_area'}, b'\\x01\\x01\\x00\\x00\\x00\\x0e2\\xc9\\xc8Y\\x08(@\\x98\\xdd\\x93\\x87\\x85vH@')]]\n(Background on this error at: https://sqlalche.me/e/20/rvf5)"
     ]
    }
   ],
   "source": [
    "nodes_df.to_sql('nodes',con=engine.connect(),if_exists='replace')"
   ]
  },
  {
   "cell_type": "code",
   "execution_count": null,
   "id": "a35d6b79",
   "metadata": {},
   "outputs": [],
   "source": []
  },
  {
   "cell_type": "code",
   "execution_count": null,
   "id": "4433d6c9",
   "metadata": {},
   "outputs": [],
   "source": []
  },
  {
   "cell_type": "code",
   "execution_count": 15,
   "id": "b1da4330",
   "metadata": {},
   "outputs": [
    {
     "data": {
      "text/html": [
       "<div>\n",
       "<style scoped>\n",
       "    .dataframe tbody tr th:only-of-type {\n",
       "        vertical-align: middle;\n",
       "    }\n",
       "\n",
       "    .dataframe tbody tr th {\n",
       "        vertical-align: top;\n",
       "    }\n",
       "\n",
       "    .dataframe thead th {\n",
       "        text-align: right;\n",
       "    }\n",
       "</style>\n",
       "<table border=\"1\" class=\"dataframe\">\n",
       "  <thead>\n",
       "    <tr style=\"text-align: right;\">\n",
       "      <th></th>\n",
       "      <th>tags</th>\n",
       "      <th>geometry</th>\n",
       "    </tr>\n",
       "  </thead>\n",
       "  <tbody>\n",
       "    <tr>\n",
       "      <th>0</th>\n",
       "      <td>{'waterway': 'lock_gate', 'seamark:type': 'gate'}</td>\n",
       "      <td>b'\\x01\\x01\\x00\\x00\\x00\\x00\\x00\\x00\\x00\\x00\\x00...</td>\n",
       "    </tr>\n",
       "    <tr>\n",
       "      <th>1</th>\n",
       "      <td>{'seamark:type': 'harbour'}</td>\n",
       "      <td>b'\\x01\\x01\\x00\\x00\\x00\\x10X9\\xb4\\xc8\\xd6#@\\x87...</td>\n",
       "    </tr>\n",
       "    <tr>\n",
       "      <th>2</th>\n",
       "      <td>{'seamark:type': 'buoy_cardinal'}</td>\n",
       "      <td>b'\\x01\\x01\\x00\\x00\\x00\\x0e2\\xc9\\xc8Y\\x08(@\\x98...</td>\n",
       "    </tr>\n",
       "    <tr>\n",
       "      <th>3</th>\n",
       "      <td>{'seamark:type': 'separation_boundary'}</td>\n",
       "      <td>b'\\x01\\x01\\x00\\x00\\x00\\x0e2\\xc9\\xc8Y\\x08(@\\x98...</td>\n",
       "    </tr>\n",
       "    <tr>\n",
       "      <th>4</th>\n",
       "      <td>{'seamark:type': 'separation_crossing'}</td>\n",
       "      <td>b'\\x01\\x01\\x00\\x00\\x00\\x0e2\\xc9\\xc8Y\\x08(@\\x98...</td>\n",
       "    </tr>\n",
       "    <tr>\n",
       "      <th>5</th>\n",
       "      <td>{'seamark:type': 'separation_lane'}</td>\n",
       "      <td>b'\\x01\\x01\\x00\\x00\\x00\\x0e2\\xc9\\xc8Y\\x08(@\\x98...</td>\n",
       "    </tr>\n",
       "    <tr>\n",
       "      <th>6</th>\n",
       "      <td>{'seamark:type': 'separation_roundabout'}</td>\n",
       "      <td>b'\\x01\\x01\\x00\\x00\\x00\\x0e2\\xc9\\xc8Y\\x08(@\\x98...</td>\n",
       "    </tr>\n",
       "    <tr>\n",
       "      <th>7</th>\n",
       "      <td>{'seamark:type': 'separation_zone'}</td>\n",
       "      <td>b'\\x01\\x01\\x00\\x00\\x00\\x0e2\\xc9\\xc8Y\\x08(@\\x98...</td>\n",
       "    </tr>\n",
       "    <tr>\n",
       "      <th>8</th>\n",
       "      <td>{'seamark:type': 'restricted_area'}</td>\n",
       "      <td>b'\\x01\\x01\\x00\\x00\\x00\\x0e2\\xc9\\xc8Y\\x08(@\\x98...</td>\n",
       "    </tr>\n",
       "  </tbody>\n",
       "</table>\n",
       "</div>"
      ],
      "text/plain": [
       "                                                tags   \n",
       "0  {'waterway': 'lock_gate', 'seamark:type': 'gate'}  \\\n",
       "1                        {'seamark:type': 'harbour'}   \n",
       "2                  {'seamark:type': 'buoy_cardinal'}   \n",
       "3            {'seamark:type': 'separation_boundary'}   \n",
       "4            {'seamark:type': 'separation_crossing'}   \n",
       "5                {'seamark:type': 'separation_lane'}   \n",
       "6          {'seamark:type': 'separation_roundabout'}   \n",
       "7                {'seamark:type': 'separation_zone'}   \n",
       "8                {'seamark:type': 'restricted_area'}   \n",
       "\n",
       "                                            geometry  \n",
       "0  b'\\x01\\x01\\x00\\x00\\x00\\x00\\x00\\x00\\x00\\x00\\x00...  \n",
       "1  b'\\x01\\x01\\x00\\x00\\x00\\x10X9\\xb4\\xc8\\xd6#@\\x87...  \n",
       "2  b'\\x01\\x01\\x00\\x00\\x00\\x0e2\\xc9\\xc8Y\\x08(@\\x98...  \n",
       "3  b'\\x01\\x01\\x00\\x00\\x00\\x0e2\\xc9\\xc8Y\\x08(@\\x98...  \n",
       "4  b'\\x01\\x01\\x00\\x00\\x00\\x0e2\\xc9\\xc8Y\\x08(@\\x98...  \n",
       "5  b'\\x01\\x01\\x00\\x00\\x00\\x0e2\\xc9\\xc8Y\\x08(@\\x98...  \n",
       "6  b'\\x01\\x01\\x00\\x00\\x00\\x0e2\\xc9\\xc8Y\\x08(@\\x98...  \n",
       "7  b'\\x01\\x01\\x00\\x00\\x00\\x0e2\\xc9\\xc8Y\\x08(@\\x98...  \n",
       "8  b'\\x01\\x01\\x00\\x00\\x00\\x0e2\\xc9\\xc8Y\\x08(@\\x98...  "
      ]
     },
     "execution_count": 15,
     "metadata": {},
     "output_type": "execute_result"
    }
   ],
   "source": [
    "nodes_df"
   ]
  },
  {
   "cell_type": "code",
   "execution_count": 19,
   "id": "cc1e2b90",
   "metadata": {},
   "outputs": [
    {
     "name": "stderr",
     "output_type": "stream",
     "text": [
      "/home/igor/projects/maridata/MariGeoRoute/data/OpenSeaMap/venv/lib/python3.10/site-packages/geopandas/geodataframe.py:1537: UserWarning: Geometry column does not contain geometry.\n",
      "  warnings.warn(\"Geometry column does not contain geometry.\")\n"
     ]
    }
   ],
   "source": [
    " # convert all values from the geopandas geometry column into their well-known-binary representations\n",
    "nodes_df['geometry'] = nodes_df.apply(lambda x: shapely.wkb.dumps(x.geometry), axis=1)"
   ]
  },
  {
   "cell_type": "code",
   "execution_count": 22,
   "id": "924a9a99",
   "metadata": {},
   "outputs": [
    {
     "ename": "InterfaceError",
     "evalue": "(sqlite3.InterfaceError) Error binding parameter 1 - probably unsupported type.\n[SQL: INSERT INTO nodes (\"index\", tags, geometry) VALUES (?, ?, ?)]\n[parameters: [(0, {'waterway': 'lock_gate', 'seamark:type': 'gate'}, b'\\x01\\x01\\x00\\x00\\x00\\x00\\x00\\x00\\x00\\x00\\x00\\x14@\\x00\\x00\\x00\\x00\\x00\\x00.@'), (1, {'seamark:type': 'harbour'}, b'\\x01\\x01\\x00\\x00\\x00\\x10X9\\xb4\\xc8\\xd6#@\\x87\\xa2@\\x9f\\xc8\\x87L@'), (2, {'seamark:type': 'buoy_cardinal'}, b'\\x01\\x01\\x00\\x00\\x00\\x0e2\\xc9\\xc8Y\\x08(@\\x98\\xdd\\x93\\x87\\x85vH@'), (3, {'seamark:type': 'separation_boundary'}, b'\\x01\\x01\\x00\\x00\\x00\\x0e2\\xc9\\xc8Y\\x08(@\\x98\\xdd\\x93\\x87\\x85vH@'), (4, {'seamark:type': 'separation_crossing'}, b'\\x01\\x01\\x00\\x00\\x00\\x0e2\\xc9\\xc8Y\\x08(@\\x98\\xdd\\x93\\x87\\x85vH@'), (5, {'seamark:type': 'separation_lane'}, b'\\x01\\x01\\x00\\x00\\x00\\x0e2\\xc9\\xc8Y\\x08(@\\x98\\xdd\\x93\\x87\\x85vH@'), (6, {'seamark:type': 'separation_roundabout'}, b'\\x01\\x01\\x00\\x00\\x00\\x0e2\\xc9\\xc8Y\\x08(@\\x98\\xdd\\x93\\x87\\x85vH@'), (7, {'seamark:type': 'separation_zone'}, b'\\x01\\x01\\x00\\x00\\x00\\x0e2\\xc9\\xc8Y\\x08(@\\x98\\xdd\\x93\\x87\\x85vH@'), (8, {'seamark:type': 'restricted_area'}, b'\\x01\\x01\\x00\\x00\\x00\\x0e2\\xc9\\xc8Y\\x08(@\\x98\\xdd\\x93\\x87\\x85vH@')]]\n(Background on this error at: https://sqlalche.me/e/20/rvf5)",
     "output_type": "error",
     "traceback": [
      "\u001b[0;31m---------------------------------------------------------------------------\u001b[0m",
      "\u001b[0;31mInterfaceError\u001b[0m                            Traceback (most recent call last)",
      "File \u001b[0;32m~/projects/maridata/MariGeoRoute/data/OpenSeaMap/venv/lib/python3.10/site-packages/sqlalchemy/engine/base.py:1937\u001b[0m, in \u001b[0;36mConnection._exec_single_context\u001b[0;34m(self, dialect, context, statement, parameters)\u001b[0m\n\u001b[1;32m   1936\u001b[0m     \u001b[38;5;28;01mif\u001b[39;00m \u001b[38;5;129;01mnot\u001b[39;00m evt_handled:\n\u001b[0;32m-> 1937\u001b[0m         \u001b[38;5;28;43mself\u001b[39;49m\u001b[38;5;241;43m.\u001b[39;49m\u001b[43mdialect\u001b[49m\u001b[38;5;241;43m.\u001b[39;49m\u001b[43mdo_executemany\u001b[49m\u001b[43m(\u001b[49m\n\u001b[1;32m   1938\u001b[0m \u001b[43m            \u001b[49m\u001b[43mcursor\u001b[49m\u001b[43m,\u001b[49m\n\u001b[1;32m   1939\u001b[0m \u001b[43m            \u001b[49m\u001b[43mstr_statement\u001b[49m\u001b[43m,\u001b[49m\n\u001b[1;32m   1940\u001b[0m \u001b[43m            \u001b[49m\u001b[43meffective_parameters\u001b[49m\u001b[43m,\u001b[49m\n\u001b[1;32m   1941\u001b[0m \u001b[43m            \u001b[49m\u001b[43mcontext\u001b[49m\u001b[43m,\u001b[49m\n\u001b[1;32m   1942\u001b[0m \u001b[43m        \u001b[49m\u001b[43m)\u001b[49m\n\u001b[1;32m   1943\u001b[0m \u001b[38;5;28;01melif\u001b[39;00m \u001b[38;5;129;01mnot\u001b[39;00m effective_parameters \u001b[38;5;129;01mand\u001b[39;00m context\u001b[38;5;241m.\u001b[39mno_parameters:\n",
      "File \u001b[0;32m~/projects/maridata/MariGeoRoute/data/OpenSeaMap/venv/lib/python3.10/site-packages/sqlalchemy/engine/default.py:917\u001b[0m, in \u001b[0;36mDefaultDialect.do_executemany\u001b[0;34m(self, cursor, statement, parameters, context)\u001b[0m\n\u001b[1;32m    916\u001b[0m \u001b[38;5;28;01mdef\u001b[39;00m \u001b[38;5;21mdo_executemany\u001b[39m(\u001b[38;5;28mself\u001b[39m, cursor, statement, parameters, context\u001b[38;5;241m=\u001b[39m\u001b[38;5;28;01mNone\u001b[39;00m):\n\u001b[0;32m--> 917\u001b[0m     \u001b[43mcursor\u001b[49m\u001b[38;5;241;43m.\u001b[39;49m\u001b[43mexecutemany\u001b[49m\u001b[43m(\u001b[49m\u001b[43mstatement\u001b[49m\u001b[43m,\u001b[49m\u001b[43m \u001b[49m\u001b[43mparameters\u001b[49m\u001b[43m)\u001b[49m\n",
      "\u001b[0;31mInterfaceError\u001b[0m: Error binding parameter 1 - probably unsupported type.",
      "\nThe above exception was the direct cause of the following exception:\n",
      "\u001b[0;31mInterfaceError\u001b[0m                            Traceback (most recent call last)",
      "Cell \u001b[0;32mIn[22], line 1\u001b[0m\n\u001b[0;32m----> 1\u001b[0m \u001b[43mnodes_df\u001b[49m\u001b[38;5;241;43m.\u001b[39;49m\u001b[43mto_sql\u001b[49m\u001b[43m(\u001b[49m\u001b[38;5;124;43m'\u001b[39;49m\u001b[38;5;124;43mnodes\u001b[39;49m\u001b[38;5;124;43m'\u001b[39;49m\u001b[43m,\u001b[49m\u001b[43mcon\u001b[49m\u001b[38;5;241;43m=\u001b[39;49m\u001b[43mengine\u001b[49m\u001b[43m)\u001b[49m\n",
      "File \u001b[0;32m~/projects/maridata/MariGeoRoute/data/OpenSeaMap/venv/lib/python3.10/site-packages/pandas/core/generic.py:2878\u001b[0m, in \u001b[0;36mNDFrame.to_sql\u001b[0;34m(self, name, con, schema, if_exists, index, index_label, chunksize, dtype, method)\u001b[0m\n\u001b[1;32m   2713\u001b[0m \u001b[38;5;250m\u001b[39m\u001b[38;5;124;03m\"\"\"\u001b[39;00m\n\u001b[1;32m   2714\u001b[0m \u001b[38;5;124;03mWrite records stored in a DataFrame to a SQL database.\u001b[39;00m\n\u001b[1;32m   2715\u001b[0m \n\u001b[0;32m   (...)\u001b[0m\n\u001b[1;32m   2874\u001b[0m \u001b[38;5;124;03m[(1,), (None,), (2,)]\u001b[39;00m\n\u001b[1;32m   2875\u001b[0m \u001b[38;5;124;03m\"\"\"\u001b[39;00m  \u001b[38;5;66;03m# noqa:E501\u001b[39;00m\n\u001b[1;32m   2876\u001b[0m \u001b[38;5;28;01mfrom\u001b[39;00m \u001b[38;5;21;01mpandas\u001b[39;00m\u001b[38;5;21;01m.\u001b[39;00m\u001b[38;5;21;01mio\u001b[39;00m \u001b[38;5;28;01mimport\u001b[39;00m sql\n\u001b[0;32m-> 2878\u001b[0m \u001b[38;5;28;01mreturn\u001b[39;00m \u001b[43msql\u001b[49m\u001b[38;5;241;43m.\u001b[39;49m\u001b[43mto_sql\u001b[49m\u001b[43m(\u001b[49m\n\u001b[1;32m   2879\u001b[0m \u001b[43m    \u001b[49m\u001b[38;5;28;43mself\u001b[39;49m\u001b[43m,\u001b[49m\n\u001b[1;32m   2880\u001b[0m \u001b[43m    \u001b[49m\u001b[43mname\u001b[49m\u001b[43m,\u001b[49m\n\u001b[1;32m   2881\u001b[0m \u001b[43m    \u001b[49m\u001b[43mcon\u001b[49m\u001b[43m,\u001b[49m\n\u001b[1;32m   2882\u001b[0m \u001b[43m    \u001b[49m\u001b[43mschema\u001b[49m\u001b[38;5;241;43m=\u001b[39;49m\u001b[43mschema\u001b[49m\u001b[43m,\u001b[49m\n\u001b[1;32m   2883\u001b[0m \u001b[43m    \u001b[49m\u001b[43mif_exists\u001b[49m\u001b[38;5;241;43m=\u001b[39;49m\u001b[43mif_exists\u001b[49m\u001b[43m,\u001b[49m\n\u001b[1;32m   2884\u001b[0m \u001b[43m    \u001b[49m\u001b[43mindex\u001b[49m\u001b[38;5;241;43m=\u001b[39;49m\u001b[43mindex\u001b[49m\u001b[43m,\u001b[49m\n\u001b[1;32m   2885\u001b[0m \u001b[43m    \u001b[49m\u001b[43mindex_label\u001b[49m\u001b[38;5;241;43m=\u001b[39;49m\u001b[43mindex_label\u001b[49m\u001b[43m,\u001b[49m\n\u001b[1;32m   2886\u001b[0m \u001b[43m    \u001b[49m\u001b[43mchunksize\u001b[49m\u001b[38;5;241;43m=\u001b[39;49m\u001b[43mchunksize\u001b[49m\u001b[43m,\u001b[49m\n\u001b[1;32m   2887\u001b[0m \u001b[43m    \u001b[49m\u001b[43mdtype\u001b[49m\u001b[38;5;241;43m=\u001b[39;49m\u001b[43mdtype\u001b[49m\u001b[43m,\u001b[49m\n\u001b[1;32m   2888\u001b[0m \u001b[43m    \u001b[49m\u001b[43mmethod\u001b[49m\u001b[38;5;241;43m=\u001b[39;49m\u001b[43mmethod\u001b[49m\u001b[43m,\u001b[49m\n\u001b[1;32m   2889\u001b[0m \u001b[43m\u001b[49m\u001b[43m)\u001b[49m\n",
      "File \u001b[0;32m~/projects/maridata/MariGeoRoute/data/OpenSeaMap/venv/lib/python3.10/site-packages/pandas/io/sql.py:767\u001b[0m, in \u001b[0;36mto_sql\u001b[0;34m(frame, name, con, schema, if_exists, index, index_label, chunksize, dtype, method, engine, **engine_kwargs)\u001b[0m\n\u001b[1;32m    762\u001b[0m     \u001b[38;5;28;01mraise\u001b[39;00m \u001b[38;5;167;01mNotImplementedError\u001b[39;00m(\n\u001b[1;32m    763\u001b[0m         \u001b[38;5;124m\"\u001b[39m\u001b[38;5;124m'\u001b[39m\u001b[38;5;124mframe\u001b[39m\u001b[38;5;124m'\u001b[39m\u001b[38;5;124m argument should be either a Series or a DataFrame\u001b[39m\u001b[38;5;124m\"\u001b[39m\n\u001b[1;32m    764\u001b[0m     )\n\u001b[1;32m    766\u001b[0m \u001b[38;5;28;01mwith\u001b[39;00m pandasSQL_builder(con, schema\u001b[38;5;241m=\u001b[39mschema, need_transaction\u001b[38;5;241m=\u001b[39m\u001b[38;5;28;01mTrue\u001b[39;00m) \u001b[38;5;28;01mas\u001b[39;00m pandas_sql:\n\u001b[0;32m--> 767\u001b[0m     \u001b[38;5;28;01mreturn\u001b[39;00m \u001b[43mpandas_sql\u001b[49m\u001b[38;5;241;43m.\u001b[39;49m\u001b[43mto_sql\u001b[49m\u001b[43m(\u001b[49m\n\u001b[1;32m    768\u001b[0m \u001b[43m        \u001b[49m\u001b[43mframe\u001b[49m\u001b[43m,\u001b[49m\n\u001b[1;32m    769\u001b[0m \u001b[43m        \u001b[49m\u001b[43mname\u001b[49m\u001b[43m,\u001b[49m\n\u001b[1;32m    770\u001b[0m \u001b[43m        \u001b[49m\u001b[43mif_exists\u001b[49m\u001b[38;5;241;43m=\u001b[39;49m\u001b[43mif_exists\u001b[49m\u001b[43m,\u001b[49m\n\u001b[1;32m    771\u001b[0m \u001b[43m        \u001b[49m\u001b[43mindex\u001b[49m\u001b[38;5;241;43m=\u001b[39;49m\u001b[43mindex\u001b[49m\u001b[43m,\u001b[49m\n\u001b[1;32m    772\u001b[0m \u001b[43m        \u001b[49m\u001b[43mindex_label\u001b[49m\u001b[38;5;241;43m=\u001b[39;49m\u001b[43mindex_label\u001b[49m\u001b[43m,\u001b[49m\n\u001b[1;32m    773\u001b[0m \u001b[43m        \u001b[49m\u001b[43mschema\u001b[49m\u001b[38;5;241;43m=\u001b[39;49m\u001b[43mschema\u001b[49m\u001b[43m,\u001b[49m\n\u001b[1;32m    774\u001b[0m \u001b[43m        \u001b[49m\u001b[43mchunksize\u001b[49m\u001b[38;5;241;43m=\u001b[39;49m\u001b[43mchunksize\u001b[49m\u001b[43m,\u001b[49m\n\u001b[1;32m    775\u001b[0m \u001b[43m        \u001b[49m\u001b[43mdtype\u001b[49m\u001b[38;5;241;43m=\u001b[39;49m\u001b[43mdtype\u001b[49m\u001b[43m,\u001b[49m\n\u001b[1;32m    776\u001b[0m \u001b[43m        \u001b[49m\u001b[43mmethod\u001b[49m\u001b[38;5;241;43m=\u001b[39;49m\u001b[43mmethod\u001b[49m\u001b[43m,\u001b[49m\n\u001b[1;32m    777\u001b[0m \u001b[43m        \u001b[49m\u001b[43mengine\u001b[49m\u001b[38;5;241;43m=\u001b[39;49m\u001b[43mengine\u001b[49m\u001b[43m,\u001b[49m\n\u001b[1;32m    778\u001b[0m \u001b[43m        \u001b[49m\u001b[38;5;241;43m*\u001b[39;49m\u001b[38;5;241;43m*\u001b[39;49m\u001b[43mengine_kwargs\u001b[49m\u001b[43m,\u001b[49m\n\u001b[1;32m    779\u001b[0m \u001b[43m    \u001b[49m\u001b[43m)\u001b[49m\n",
      "File \u001b[0;32m~/projects/maridata/MariGeoRoute/data/OpenSeaMap/venv/lib/python3.10/site-packages/pandas/io/sql.py:1918\u001b[0m, in \u001b[0;36mSQLDatabase.to_sql\u001b[0;34m(self, frame, name, if_exists, index, index_label, schema, chunksize, dtype, method, engine, **engine_kwargs)\u001b[0m\n\u001b[1;32m   1906\u001b[0m sql_engine \u001b[38;5;241m=\u001b[39m get_engine(engine)\n\u001b[1;32m   1908\u001b[0m table \u001b[38;5;241m=\u001b[39m \u001b[38;5;28mself\u001b[39m\u001b[38;5;241m.\u001b[39mprep_table(\n\u001b[1;32m   1909\u001b[0m     frame\u001b[38;5;241m=\u001b[39mframe,\n\u001b[1;32m   1910\u001b[0m     name\u001b[38;5;241m=\u001b[39mname,\n\u001b[0;32m   (...)\u001b[0m\n\u001b[1;32m   1915\u001b[0m     dtype\u001b[38;5;241m=\u001b[39mdtype,\n\u001b[1;32m   1916\u001b[0m )\n\u001b[0;32m-> 1918\u001b[0m total_inserted \u001b[38;5;241m=\u001b[39m \u001b[43msql_engine\u001b[49m\u001b[38;5;241;43m.\u001b[39;49m\u001b[43minsert_records\u001b[49m\u001b[43m(\u001b[49m\n\u001b[1;32m   1919\u001b[0m \u001b[43m    \u001b[49m\u001b[43mtable\u001b[49m\u001b[38;5;241;43m=\u001b[39;49m\u001b[43mtable\u001b[49m\u001b[43m,\u001b[49m\n\u001b[1;32m   1920\u001b[0m \u001b[43m    \u001b[49m\u001b[43mcon\u001b[49m\u001b[38;5;241;43m=\u001b[39;49m\u001b[38;5;28;43mself\u001b[39;49m\u001b[38;5;241;43m.\u001b[39;49m\u001b[43mcon\u001b[49m\u001b[43m,\u001b[49m\n\u001b[1;32m   1921\u001b[0m \u001b[43m    \u001b[49m\u001b[43mframe\u001b[49m\u001b[38;5;241;43m=\u001b[39;49m\u001b[43mframe\u001b[49m\u001b[43m,\u001b[49m\n\u001b[1;32m   1922\u001b[0m \u001b[43m    \u001b[49m\u001b[43mname\u001b[49m\u001b[38;5;241;43m=\u001b[39;49m\u001b[43mname\u001b[49m\u001b[43m,\u001b[49m\n\u001b[1;32m   1923\u001b[0m \u001b[43m    \u001b[49m\u001b[43mindex\u001b[49m\u001b[38;5;241;43m=\u001b[39;49m\u001b[43mindex\u001b[49m\u001b[43m,\u001b[49m\n\u001b[1;32m   1924\u001b[0m \u001b[43m    \u001b[49m\u001b[43mschema\u001b[49m\u001b[38;5;241;43m=\u001b[39;49m\u001b[43mschema\u001b[49m\u001b[43m,\u001b[49m\n\u001b[1;32m   1925\u001b[0m \u001b[43m    \u001b[49m\u001b[43mchunksize\u001b[49m\u001b[38;5;241;43m=\u001b[39;49m\u001b[43mchunksize\u001b[49m\u001b[43m,\u001b[49m\n\u001b[1;32m   1926\u001b[0m \u001b[43m    \u001b[49m\u001b[43mmethod\u001b[49m\u001b[38;5;241;43m=\u001b[39;49m\u001b[43mmethod\u001b[49m\u001b[43m,\u001b[49m\n\u001b[1;32m   1927\u001b[0m \u001b[43m    \u001b[49m\u001b[38;5;241;43m*\u001b[39;49m\u001b[38;5;241;43m*\u001b[39;49m\u001b[43mengine_kwargs\u001b[49m\u001b[43m,\u001b[49m\n\u001b[1;32m   1928\u001b[0m \u001b[43m\u001b[49m\u001b[43m)\u001b[49m\n\u001b[1;32m   1930\u001b[0m \u001b[38;5;28mself\u001b[39m\u001b[38;5;241m.\u001b[39mcheck_case_sensitive(name\u001b[38;5;241m=\u001b[39mname, schema\u001b[38;5;241m=\u001b[39mschema)\n\u001b[1;32m   1931\u001b[0m \u001b[38;5;28;01mreturn\u001b[39;00m total_inserted\n",
      "File \u001b[0;32m~/projects/maridata/MariGeoRoute/data/OpenSeaMap/venv/lib/python3.10/site-packages/pandas/io/sql.py:1468\u001b[0m, in \u001b[0;36mSQLAlchemyEngine.insert_records\u001b[0;34m(self, table, con, frame, name, index, schema, chunksize, method, **engine_kwargs)\u001b[0m\n\u001b[1;32m   1466\u001b[0m \u001b[38;5;28;01mif\u001b[39;00m re\u001b[38;5;241m.\u001b[39msearch(msg, err_text):\n\u001b[1;32m   1467\u001b[0m     \u001b[38;5;28;01mraise\u001b[39;00m \u001b[38;5;167;01mValueError\u001b[39;00m(\u001b[38;5;124m\"\u001b[39m\u001b[38;5;124minf cannot be used with MySQL\u001b[39m\u001b[38;5;124m\"\u001b[39m) \u001b[38;5;28;01mfrom\u001b[39;00m \u001b[38;5;21;01merr\u001b[39;00m\n\u001b[0;32m-> 1468\u001b[0m \u001b[38;5;28;01mraise\u001b[39;00m err\n",
      "File \u001b[0;32m~/projects/maridata/MariGeoRoute/data/OpenSeaMap/venv/lib/python3.10/site-packages/pandas/io/sql.py:1459\u001b[0m, in \u001b[0;36mSQLAlchemyEngine.insert_records\u001b[0;34m(self, table, con, frame, name, index, schema, chunksize, method, **engine_kwargs)\u001b[0m\n\u001b[1;32m   1456\u001b[0m \u001b[38;5;28;01mfrom\u001b[39;00m \u001b[38;5;21;01msqlalchemy\u001b[39;00m \u001b[38;5;28;01mimport\u001b[39;00m exc\n\u001b[1;32m   1458\u001b[0m \u001b[38;5;28;01mtry\u001b[39;00m:\n\u001b[0;32m-> 1459\u001b[0m     \u001b[38;5;28;01mreturn\u001b[39;00m \u001b[43mtable\u001b[49m\u001b[38;5;241;43m.\u001b[39;49m\u001b[43minsert\u001b[49m\u001b[43m(\u001b[49m\u001b[43mchunksize\u001b[49m\u001b[38;5;241;43m=\u001b[39;49m\u001b[43mchunksize\u001b[49m\u001b[43m,\u001b[49m\u001b[43m \u001b[49m\u001b[43mmethod\u001b[49m\u001b[38;5;241;43m=\u001b[39;49m\u001b[43mmethod\u001b[49m\u001b[43m)\u001b[49m\n\u001b[1;32m   1460\u001b[0m \u001b[38;5;28;01mexcept\u001b[39;00m exc\u001b[38;5;241m.\u001b[39mStatementError \u001b[38;5;28;01mas\u001b[39;00m err:\n\u001b[1;32m   1461\u001b[0m     \u001b[38;5;66;03m# GH34431\u001b[39;00m\n\u001b[1;32m   1462\u001b[0m     \u001b[38;5;66;03m# https://stackoverflow.com/a/67358288/6067848\u001b[39;00m\n\u001b[1;32m   1463\u001b[0m     msg \u001b[38;5;241m=\u001b[39m \u001b[38;5;124mr\u001b[39m\u001b[38;5;124m\"\"\"\u001b[39m\u001b[38;5;124m(\u001b[39m\u001b[38;5;124m\\\u001b[39m\u001b[38;5;124m(1054, \u001b[39m\u001b[38;5;124m\"\u001b[39m\u001b[38;5;124mUnknown column \u001b[39m\u001b[38;5;124m'\u001b[39m\u001b[38;5;124minf(e0)?\u001b[39m\u001b[38;5;124m'\u001b[39m\u001b[38;5;124m in \u001b[39m\u001b[38;5;124m'\u001b[39m\u001b[38;5;124mfield list\u001b[39m\u001b[38;5;124m'\u001b[39m\u001b[38;5;124m\"\u001b[39m\u001b[38;5;124m\\\u001b[39m\u001b[38;5;124m))(?#\u001b[39m\n\u001b[1;32m   1464\u001b[0m \u001b[38;5;124m    )|inf can not be used with MySQL\u001b[39m\u001b[38;5;124m\"\"\"\u001b[39m\n",
      "File \u001b[0;32m~/projects/maridata/MariGeoRoute/data/OpenSeaMap/venv/lib/python3.10/site-packages/pandas/io/sql.py:1021\u001b[0m, in \u001b[0;36mSQLTable.insert\u001b[0;34m(self, chunksize, method)\u001b[0m\n\u001b[1;32m   1018\u001b[0m     \u001b[38;5;28;01mbreak\u001b[39;00m\n\u001b[1;32m   1020\u001b[0m chunk_iter \u001b[38;5;241m=\u001b[39m \u001b[38;5;28mzip\u001b[39m(\u001b[38;5;241m*\u001b[39m(arr[start_i:end_i] \u001b[38;5;28;01mfor\u001b[39;00m arr \u001b[38;5;129;01min\u001b[39;00m data_list))\n\u001b[0;32m-> 1021\u001b[0m num_inserted \u001b[38;5;241m=\u001b[39m \u001b[43mexec_insert\u001b[49m\u001b[43m(\u001b[49m\u001b[43mconn\u001b[49m\u001b[43m,\u001b[49m\u001b[43m \u001b[49m\u001b[43mkeys\u001b[49m\u001b[43m,\u001b[49m\u001b[43m \u001b[49m\u001b[43mchunk_iter\u001b[49m\u001b[43m)\u001b[49m\n\u001b[1;32m   1022\u001b[0m \u001b[38;5;66;03m# GH 46891\u001b[39;00m\n\u001b[1;32m   1023\u001b[0m \u001b[38;5;28;01mif\u001b[39;00m is_integer(num_inserted):\n",
      "File \u001b[0;32m~/projects/maridata/MariGeoRoute/data/OpenSeaMap/venv/lib/python3.10/site-packages/pandas/io/sql.py:927\u001b[0m, in \u001b[0;36mSQLTable._execute_insert\u001b[0;34m(self, conn, keys, data_iter)\u001b[0m\n\u001b[1;32m    915\u001b[0m \u001b[38;5;250m\u001b[39m\u001b[38;5;124;03m\"\"\"\u001b[39;00m\n\u001b[1;32m    916\u001b[0m \u001b[38;5;124;03mExecute SQL statement inserting data\u001b[39;00m\n\u001b[1;32m    917\u001b[0m \n\u001b[0;32m   (...)\u001b[0m\n\u001b[1;32m    924\u001b[0m \u001b[38;5;124;03m   Each item contains a list of values to be inserted\u001b[39;00m\n\u001b[1;32m    925\u001b[0m \u001b[38;5;124;03m\"\"\"\u001b[39;00m\n\u001b[1;32m    926\u001b[0m data \u001b[38;5;241m=\u001b[39m [\u001b[38;5;28mdict\u001b[39m(\u001b[38;5;28mzip\u001b[39m(keys, row)) \u001b[38;5;28;01mfor\u001b[39;00m row \u001b[38;5;129;01min\u001b[39;00m data_iter]\n\u001b[0;32m--> 927\u001b[0m result \u001b[38;5;241m=\u001b[39m \u001b[43mconn\u001b[49m\u001b[38;5;241;43m.\u001b[39;49m\u001b[43mexecute\u001b[49m\u001b[43m(\u001b[49m\u001b[38;5;28;43mself\u001b[39;49m\u001b[38;5;241;43m.\u001b[39;49m\u001b[43mtable\u001b[49m\u001b[38;5;241;43m.\u001b[39;49m\u001b[43minsert\u001b[49m\u001b[43m(\u001b[49m\u001b[43m)\u001b[49m\u001b[43m,\u001b[49m\u001b[43m \u001b[49m\u001b[43mdata\u001b[49m\u001b[43m)\u001b[49m\n\u001b[1;32m    928\u001b[0m \u001b[38;5;28;01mreturn\u001b[39;00m result\u001b[38;5;241m.\u001b[39mrowcount\n",
      "File \u001b[0;32m~/projects/maridata/MariGeoRoute/data/OpenSeaMap/venv/lib/python3.10/site-packages/sqlalchemy/engine/base.py:1413\u001b[0m, in \u001b[0;36mConnection.execute\u001b[0;34m(self, statement, parameters, execution_options)\u001b[0m\n\u001b[1;32m   1411\u001b[0m     \u001b[38;5;28;01mraise\u001b[39;00m exc\u001b[38;5;241m.\u001b[39mObjectNotExecutableError(statement) \u001b[38;5;28;01mfrom\u001b[39;00m \u001b[38;5;21;01merr\u001b[39;00m\n\u001b[1;32m   1412\u001b[0m \u001b[38;5;28;01melse\u001b[39;00m:\n\u001b[0;32m-> 1413\u001b[0m     \u001b[38;5;28;01mreturn\u001b[39;00m \u001b[43mmeth\u001b[49m\u001b[43m(\u001b[49m\n\u001b[1;32m   1414\u001b[0m \u001b[43m        \u001b[49m\u001b[38;5;28;43mself\u001b[39;49m\u001b[43m,\u001b[49m\n\u001b[1;32m   1415\u001b[0m \u001b[43m        \u001b[49m\u001b[43mdistilled_parameters\u001b[49m\u001b[43m,\u001b[49m\n\u001b[1;32m   1416\u001b[0m \u001b[43m        \u001b[49m\u001b[43mexecution_options\u001b[49m\u001b[43m \u001b[49m\u001b[38;5;129;43;01mor\u001b[39;49;00m\u001b[43m \u001b[49m\u001b[43mNO_OPTIONS\u001b[49m\u001b[43m,\u001b[49m\n\u001b[1;32m   1417\u001b[0m \u001b[43m    \u001b[49m\u001b[43m)\u001b[49m\n",
      "File \u001b[0;32m~/projects/maridata/MariGeoRoute/data/OpenSeaMap/venv/lib/python3.10/site-packages/sqlalchemy/sql/elements.py:483\u001b[0m, in \u001b[0;36mClauseElement._execute_on_connection\u001b[0;34m(self, connection, distilled_params, execution_options)\u001b[0m\n\u001b[1;32m    481\u001b[0m     \u001b[38;5;28;01mif\u001b[39;00m TYPE_CHECKING:\n\u001b[1;32m    482\u001b[0m         \u001b[38;5;28;01massert\u001b[39;00m \u001b[38;5;28misinstance\u001b[39m(\u001b[38;5;28mself\u001b[39m, Executable)\n\u001b[0;32m--> 483\u001b[0m     \u001b[38;5;28;01mreturn\u001b[39;00m \u001b[43mconnection\u001b[49m\u001b[38;5;241;43m.\u001b[39;49m\u001b[43m_execute_clauseelement\u001b[49m\u001b[43m(\u001b[49m\n\u001b[1;32m    484\u001b[0m \u001b[43m        \u001b[49m\u001b[38;5;28;43mself\u001b[39;49m\u001b[43m,\u001b[49m\u001b[43m \u001b[49m\u001b[43mdistilled_params\u001b[49m\u001b[43m,\u001b[49m\u001b[43m \u001b[49m\u001b[43mexecution_options\u001b[49m\n\u001b[1;32m    485\u001b[0m \u001b[43m    \u001b[49m\u001b[43m)\u001b[49m\n\u001b[1;32m    486\u001b[0m \u001b[38;5;28;01melse\u001b[39;00m:\n\u001b[1;32m    487\u001b[0m     \u001b[38;5;28;01mraise\u001b[39;00m exc\u001b[38;5;241m.\u001b[39mObjectNotExecutableError(\u001b[38;5;28mself\u001b[39m)\n",
      "File \u001b[0;32m~/projects/maridata/MariGeoRoute/data/OpenSeaMap/venv/lib/python3.10/site-packages/sqlalchemy/engine/base.py:1637\u001b[0m, in \u001b[0;36mConnection._execute_clauseelement\u001b[0;34m(self, elem, distilled_parameters, execution_options)\u001b[0m\n\u001b[1;32m   1625\u001b[0m compiled_cache: Optional[CompiledCacheType] \u001b[38;5;241m=\u001b[39m execution_options\u001b[38;5;241m.\u001b[39mget(\n\u001b[1;32m   1626\u001b[0m     \u001b[38;5;124m\"\u001b[39m\u001b[38;5;124mcompiled_cache\u001b[39m\u001b[38;5;124m\"\u001b[39m, \u001b[38;5;28mself\u001b[39m\u001b[38;5;241m.\u001b[39mengine\u001b[38;5;241m.\u001b[39m_compiled_cache\n\u001b[1;32m   1627\u001b[0m )\n\u001b[1;32m   1629\u001b[0m compiled_sql, extracted_params, cache_hit \u001b[38;5;241m=\u001b[39m elem\u001b[38;5;241m.\u001b[39m_compile_w_cache(\n\u001b[1;32m   1630\u001b[0m     dialect\u001b[38;5;241m=\u001b[39mdialect,\n\u001b[1;32m   1631\u001b[0m     compiled_cache\u001b[38;5;241m=\u001b[39mcompiled_cache,\n\u001b[0;32m   (...)\u001b[0m\n\u001b[1;32m   1635\u001b[0m     linting\u001b[38;5;241m=\u001b[39m\u001b[38;5;28mself\u001b[39m\u001b[38;5;241m.\u001b[39mdialect\u001b[38;5;241m.\u001b[39mcompiler_linting \u001b[38;5;241m|\u001b[39m compiler\u001b[38;5;241m.\u001b[39mWARN_LINTING,\n\u001b[1;32m   1636\u001b[0m )\n\u001b[0;32m-> 1637\u001b[0m ret \u001b[38;5;241m=\u001b[39m \u001b[38;5;28;43mself\u001b[39;49m\u001b[38;5;241;43m.\u001b[39;49m\u001b[43m_execute_context\u001b[49m\u001b[43m(\u001b[49m\n\u001b[1;32m   1638\u001b[0m \u001b[43m    \u001b[49m\u001b[43mdialect\u001b[49m\u001b[43m,\u001b[49m\n\u001b[1;32m   1639\u001b[0m \u001b[43m    \u001b[49m\u001b[43mdialect\u001b[49m\u001b[38;5;241;43m.\u001b[39;49m\u001b[43mexecution_ctx_cls\u001b[49m\u001b[38;5;241;43m.\u001b[39;49m\u001b[43m_init_compiled\u001b[49m\u001b[43m,\u001b[49m\n\u001b[1;32m   1640\u001b[0m \u001b[43m    \u001b[49m\u001b[43mcompiled_sql\u001b[49m\u001b[43m,\u001b[49m\n\u001b[1;32m   1641\u001b[0m \u001b[43m    \u001b[49m\u001b[43mdistilled_parameters\u001b[49m\u001b[43m,\u001b[49m\n\u001b[1;32m   1642\u001b[0m \u001b[43m    \u001b[49m\u001b[43mexecution_options\u001b[49m\u001b[43m,\u001b[49m\n\u001b[1;32m   1643\u001b[0m \u001b[43m    \u001b[49m\u001b[43mcompiled_sql\u001b[49m\u001b[43m,\u001b[49m\n\u001b[1;32m   1644\u001b[0m \u001b[43m    \u001b[49m\u001b[43mdistilled_parameters\u001b[49m\u001b[43m,\u001b[49m\n\u001b[1;32m   1645\u001b[0m \u001b[43m    \u001b[49m\u001b[43melem\u001b[49m\u001b[43m,\u001b[49m\n\u001b[1;32m   1646\u001b[0m \u001b[43m    \u001b[49m\u001b[43mextracted_params\u001b[49m\u001b[43m,\u001b[49m\n\u001b[1;32m   1647\u001b[0m \u001b[43m    \u001b[49m\u001b[43mcache_hit\u001b[49m\u001b[38;5;241;43m=\u001b[39;49m\u001b[43mcache_hit\u001b[49m\u001b[43m,\u001b[49m\n\u001b[1;32m   1648\u001b[0m \u001b[43m\u001b[49m\u001b[43m)\u001b[49m\n\u001b[1;32m   1649\u001b[0m \u001b[38;5;28;01mif\u001b[39;00m has_events:\n\u001b[1;32m   1650\u001b[0m     \u001b[38;5;28mself\u001b[39m\u001b[38;5;241m.\u001b[39mdispatch\u001b[38;5;241m.\u001b[39mafter_execute(\n\u001b[1;32m   1651\u001b[0m         \u001b[38;5;28mself\u001b[39m,\n\u001b[1;32m   1652\u001b[0m         elem,\n\u001b[0;32m   (...)\u001b[0m\n\u001b[1;32m   1656\u001b[0m         ret,\n\u001b[1;32m   1657\u001b[0m     )\n",
      "File \u001b[0;32m~/projects/maridata/MariGeoRoute/data/OpenSeaMap/venv/lib/python3.10/site-packages/sqlalchemy/engine/base.py:1846\u001b[0m, in \u001b[0;36mConnection._execute_context\u001b[0;34m(self, dialect, constructor, statement, parameters, execution_options, *args, **kw)\u001b[0m\n\u001b[1;32m   1841\u001b[0m     \u001b[38;5;28;01mreturn\u001b[39;00m \u001b[38;5;28mself\u001b[39m\u001b[38;5;241m.\u001b[39m_exec_insertmany_context(\n\u001b[1;32m   1842\u001b[0m         dialect,\n\u001b[1;32m   1843\u001b[0m         context,\n\u001b[1;32m   1844\u001b[0m     )\n\u001b[1;32m   1845\u001b[0m \u001b[38;5;28;01melse\u001b[39;00m:\n\u001b[0;32m-> 1846\u001b[0m     \u001b[38;5;28;01mreturn\u001b[39;00m \u001b[38;5;28;43mself\u001b[39;49m\u001b[38;5;241;43m.\u001b[39;49m\u001b[43m_exec_single_context\u001b[49m\u001b[43m(\u001b[49m\n\u001b[1;32m   1847\u001b[0m \u001b[43m        \u001b[49m\u001b[43mdialect\u001b[49m\u001b[43m,\u001b[49m\u001b[43m \u001b[49m\u001b[43mcontext\u001b[49m\u001b[43m,\u001b[49m\u001b[43m \u001b[49m\u001b[43mstatement\u001b[49m\u001b[43m,\u001b[49m\u001b[43m \u001b[49m\u001b[43mparameters\u001b[49m\n\u001b[1;32m   1848\u001b[0m \u001b[43m    \u001b[49m\u001b[43m)\u001b[49m\n",
      "File \u001b[0;32m~/projects/maridata/MariGeoRoute/data/OpenSeaMap/venv/lib/python3.10/site-packages/sqlalchemy/engine/base.py:1987\u001b[0m, in \u001b[0;36mConnection._exec_single_context\u001b[0;34m(self, dialect, context, statement, parameters)\u001b[0m\n\u001b[1;32m   1984\u001b[0m     result \u001b[38;5;241m=\u001b[39m context\u001b[38;5;241m.\u001b[39m_setup_result_proxy()\n\u001b[1;32m   1986\u001b[0m \u001b[38;5;28;01mexcept\u001b[39;00m \u001b[38;5;167;01mBaseException\u001b[39;00m \u001b[38;5;28;01mas\u001b[39;00m e:\n\u001b[0;32m-> 1987\u001b[0m     \u001b[38;5;28;43mself\u001b[39;49m\u001b[38;5;241;43m.\u001b[39;49m\u001b[43m_handle_dbapi_exception\u001b[49m\u001b[43m(\u001b[49m\n\u001b[1;32m   1988\u001b[0m \u001b[43m        \u001b[49m\u001b[43me\u001b[49m\u001b[43m,\u001b[49m\u001b[43m \u001b[49m\u001b[43mstr_statement\u001b[49m\u001b[43m,\u001b[49m\u001b[43m \u001b[49m\u001b[43meffective_parameters\u001b[49m\u001b[43m,\u001b[49m\u001b[43m \u001b[49m\u001b[43mcursor\u001b[49m\u001b[43m,\u001b[49m\u001b[43m \u001b[49m\u001b[43mcontext\u001b[49m\n\u001b[1;32m   1989\u001b[0m \u001b[43m    \u001b[49m\u001b[43m)\u001b[49m\n\u001b[1;32m   1991\u001b[0m \u001b[38;5;28;01mreturn\u001b[39;00m result\n",
      "File \u001b[0;32m~/projects/maridata/MariGeoRoute/data/OpenSeaMap/venv/lib/python3.10/site-packages/sqlalchemy/engine/base.py:2344\u001b[0m, in \u001b[0;36mConnection._handle_dbapi_exception\u001b[0;34m(self, e, statement, parameters, cursor, context, is_sub_exec)\u001b[0m\n\u001b[1;32m   2342\u001b[0m \u001b[38;5;28;01melif\u001b[39;00m should_wrap:\n\u001b[1;32m   2343\u001b[0m     \u001b[38;5;28;01massert\u001b[39;00m sqlalchemy_exception \u001b[38;5;129;01mis\u001b[39;00m \u001b[38;5;129;01mnot\u001b[39;00m \u001b[38;5;28;01mNone\u001b[39;00m\n\u001b[0;32m-> 2344\u001b[0m     \u001b[38;5;28;01mraise\u001b[39;00m sqlalchemy_exception\u001b[38;5;241m.\u001b[39mwith_traceback(exc_info[\u001b[38;5;241m2\u001b[39m]) \u001b[38;5;28;01mfrom\u001b[39;00m \u001b[38;5;21;01me\u001b[39;00m\n\u001b[1;32m   2345\u001b[0m \u001b[38;5;28;01melse\u001b[39;00m:\n\u001b[1;32m   2346\u001b[0m     \u001b[38;5;28;01massert\u001b[39;00m exc_info[\u001b[38;5;241m1\u001b[39m] \u001b[38;5;129;01mis\u001b[39;00m \u001b[38;5;129;01mnot\u001b[39;00m \u001b[38;5;28;01mNone\u001b[39;00m\n",
      "File \u001b[0;32m~/projects/maridata/MariGeoRoute/data/OpenSeaMap/venv/lib/python3.10/site-packages/sqlalchemy/engine/base.py:1937\u001b[0m, in \u001b[0;36mConnection._exec_single_context\u001b[0;34m(self, dialect, context, statement, parameters)\u001b[0m\n\u001b[1;32m   1935\u001b[0m                 \u001b[38;5;28;01mbreak\u001b[39;00m\n\u001b[1;32m   1936\u001b[0m     \u001b[38;5;28;01mif\u001b[39;00m \u001b[38;5;129;01mnot\u001b[39;00m evt_handled:\n\u001b[0;32m-> 1937\u001b[0m         \u001b[38;5;28;43mself\u001b[39;49m\u001b[38;5;241;43m.\u001b[39;49m\u001b[43mdialect\u001b[49m\u001b[38;5;241;43m.\u001b[39;49m\u001b[43mdo_executemany\u001b[49m\u001b[43m(\u001b[49m\n\u001b[1;32m   1938\u001b[0m \u001b[43m            \u001b[49m\u001b[43mcursor\u001b[49m\u001b[43m,\u001b[49m\n\u001b[1;32m   1939\u001b[0m \u001b[43m            \u001b[49m\u001b[43mstr_statement\u001b[49m\u001b[43m,\u001b[49m\n\u001b[1;32m   1940\u001b[0m \u001b[43m            \u001b[49m\u001b[43meffective_parameters\u001b[49m\u001b[43m,\u001b[49m\n\u001b[1;32m   1941\u001b[0m \u001b[43m            \u001b[49m\u001b[43mcontext\u001b[49m\u001b[43m,\u001b[49m\n\u001b[1;32m   1942\u001b[0m \u001b[43m        \u001b[49m\u001b[43m)\u001b[49m\n\u001b[1;32m   1943\u001b[0m \u001b[38;5;28;01melif\u001b[39;00m \u001b[38;5;129;01mnot\u001b[39;00m effective_parameters \u001b[38;5;129;01mand\u001b[39;00m context\u001b[38;5;241m.\u001b[39mno_parameters:\n\u001b[1;32m   1944\u001b[0m     \u001b[38;5;28;01mif\u001b[39;00m \u001b[38;5;28mself\u001b[39m\u001b[38;5;241m.\u001b[39mdialect\u001b[38;5;241m.\u001b[39m_has_events:\n",
      "File \u001b[0;32m~/projects/maridata/MariGeoRoute/data/OpenSeaMap/venv/lib/python3.10/site-packages/sqlalchemy/engine/default.py:917\u001b[0m, in \u001b[0;36mDefaultDialect.do_executemany\u001b[0;34m(self, cursor, statement, parameters, context)\u001b[0m\n\u001b[1;32m    916\u001b[0m \u001b[38;5;28;01mdef\u001b[39;00m \u001b[38;5;21mdo_executemany\u001b[39m(\u001b[38;5;28mself\u001b[39m, cursor, statement, parameters, context\u001b[38;5;241m=\u001b[39m\u001b[38;5;28;01mNone\u001b[39;00m):\n\u001b[0;32m--> 917\u001b[0m     \u001b[43mcursor\u001b[49m\u001b[38;5;241;43m.\u001b[39;49m\u001b[43mexecutemany\u001b[49m\u001b[43m(\u001b[49m\u001b[43mstatement\u001b[49m\u001b[43m,\u001b[49m\u001b[43m \u001b[49m\u001b[43mparameters\u001b[49m\u001b[43m)\u001b[49m\n",
      "\u001b[0;31mInterfaceError\u001b[0m: (sqlite3.InterfaceError) Error binding parameter 1 - probably unsupported type.\n[SQL: INSERT INTO nodes (\"index\", tags, geometry) VALUES (?, ?, ?)]\n[parameters: [(0, {'waterway': 'lock_gate', 'seamark:type': 'gate'}, b'\\x01\\x01\\x00\\x00\\x00\\x00\\x00\\x00\\x00\\x00\\x00\\x14@\\x00\\x00\\x00\\x00\\x00\\x00.@'), (1, {'seamark:type': 'harbour'}, b'\\x01\\x01\\x00\\x00\\x00\\x10X9\\xb4\\xc8\\xd6#@\\x87\\xa2@\\x9f\\xc8\\x87L@'), (2, {'seamark:type': 'buoy_cardinal'}, b'\\x01\\x01\\x00\\x00\\x00\\x0e2\\xc9\\xc8Y\\x08(@\\x98\\xdd\\x93\\x87\\x85vH@'), (3, {'seamark:type': 'separation_boundary'}, b'\\x01\\x01\\x00\\x00\\x00\\x0e2\\xc9\\xc8Y\\x08(@\\x98\\xdd\\x93\\x87\\x85vH@'), (4, {'seamark:type': 'separation_crossing'}, b'\\x01\\x01\\x00\\x00\\x00\\x0e2\\xc9\\xc8Y\\x08(@\\x98\\xdd\\x93\\x87\\x85vH@'), (5, {'seamark:type': 'separation_lane'}, b'\\x01\\x01\\x00\\x00\\x00\\x0e2\\xc9\\xc8Y\\x08(@\\x98\\xdd\\x93\\x87\\x85vH@'), (6, {'seamark:type': 'separation_roundabout'}, b'\\x01\\x01\\x00\\x00\\x00\\x0e2\\xc9\\xc8Y\\x08(@\\x98\\xdd\\x93\\x87\\x85vH@'), (7, {'seamark:type': 'separation_zone'}, b'\\x01\\x01\\x00\\x00\\x00\\x0e2\\xc9\\xc8Y\\x08(@\\x98\\xdd\\x93\\x87\\x85vH@'), (8, {'seamark:type': 'restricted_area'}, b'\\x01\\x01\\x00\\x00\\x00\\x0e2\\xc9\\xc8Y\\x08(@\\x98\\xdd\\x93\\x87\\x85vH@')]]\n(Background on this error at: https://sqlalche.me/e/20/rvf5)"
     ]
    }
   ],
   "source": [
    "nodes_df.to_sql('nodes',con=engine)"
   ]
  },
  {
   "cell_type": "code",
   "execution_count": 8,
   "id": "ba3728e9",
   "metadata": {},
   "outputs": [],
   "source": [
    "nodes_gdf.to_file('gdfDB.sqlite', driver='SQLite', spatialite=True, layer='nodes')"
   ]
  },
  {
   "cell_type": "code",
   "execution_count": 9,
   "id": "31009c63",
   "metadata": {},
   "outputs": [
    {
     "data": {
      "text/plain": [
       "geopandas.geodataframe.GeoDataFrame"
      ]
     },
     "execution_count": 9,
     "metadata": {},
     "output_type": "execute_result"
    }
   ],
   "source": [
    "type(nodes_gdf)"
   ]
  },
  {
   "cell_type": "code",
   "execution_count": 10,
   "id": "d85a5b6e",
   "metadata": {
    "scrolled": true
   },
   "outputs": [
    {
     "data": {
      "text/html": [
       "<div>\n",
       "<style scoped>\n",
       "    .dataframe tbody tr th:only-of-type {\n",
       "        vertical-align: middle;\n",
       "    }\n",
       "\n",
       "    .dataframe tbody tr th {\n",
       "        vertical-align: top;\n",
       "    }\n",
       "\n",
       "    .dataframe thead th {\n",
       "        text-align: right;\n",
       "    }\n",
       "</style>\n",
       "<table border=\"1\" class=\"dataframe\">\n",
       "  <thead>\n",
       "    <tr style=\"text-align: right;\">\n",
       "      <th></th>\n",
       "      <th>tags</th>\n",
       "      <th>geometry</th>\n",
       "    </tr>\n",
       "  </thead>\n",
       "  <tbody>\n",
       "    <tr>\n",
       "      <th>0</th>\n",
       "      <td>{\"waterway\": \"lock_gate\", \"seamark:type\": \"gate\"}</td>\n",
       "      <td>POINT (5.00000 15.00000)</td>\n",
       "    </tr>\n",
       "    <tr>\n",
       "      <th>1</th>\n",
       "      <td>{\"seamark:type\": \"harbour\"}</td>\n",
       "      <td>POINT (9.91950 57.06081)</td>\n",
       "    </tr>\n",
       "    <tr>\n",
       "      <th>2</th>\n",
       "      <td>{\"seamark:type\": \"buoy_cardinal\"}</td>\n",
       "      <td>POINT (12.01631 48.92595)</td>\n",
       "    </tr>\n",
       "    <tr>\n",
       "      <th>3</th>\n",
       "      <td>{\"seamark:type\": \"separation_boundary\"}</td>\n",
       "      <td>POINT (12.01631 48.92595)</td>\n",
       "    </tr>\n",
       "    <tr>\n",
       "      <th>4</th>\n",
       "      <td>{\"seamark:type\": \"separation_crossing\"}</td>\n",
       "      <td>POINT (12.01631 48.92595)</td>\n",
       "    </tr>\n",
       "    <tr>\n",
       "      <th>5</th>\n",
       "      <td>{\"seamark:type\": \"separation_lane\"}</td>\n",
       "      <td>POINT (12.01631 48.92595)</td>\n",
       "    </tr>\n",
       "    <tr>\n",
       "      <th>6</th>\n",
       "      <td>{\"seamark:type\": \"separation_roundabout\"}</td>\n",
       "      <td>POINT (12.01631 48.92595)</td>\n",
       "    </tr>\n",
       "    <tr>\n",
       "      <th>7</th>\n",
       "      <td>{\"seamark:type\": \"separation_zone\"}</td>\n",
       "      <td>POINT (12.01631 48.92595)</td>\n",
       "    </tr>\n",
       "    <tr>\n",
       "      <th>8</th>\n",
       "      <td>{\"seamark:type\": \"restricted_area\"}</td>\n",
       "      <td>POINT (12.01631 48.92595)</td>\n",
       "    </tr>\n",
       "  </tbody>\n",
       "</table>\n",
       "</div>"
      ],
      "text/plain": [
       "                                                tags   \n",
       "0  {\"waterway\": \"lock_gate\", \"seamark:type\": \"gate\"}  \\\n",
       "1                        {\"seamark:type\": \"harbour\"}   \n",
       "2                  {\"seamark:type\": \"buoy_cardinal\"}   \n",
       "3            {\"seamark:type\": \"separation_boundary\"}   \n",
       "4            {\"seamark:type\": \"separation_crossing\"}   \n",
       "5                {\"seamark:type\": \"separation_lane\"}   \n",
       "6          {\"seamark:type\": \"separation_roundabout\"}   \n",
       "7                {\"seamark:type\": \"separation_zone\"}   \n",
       "8                {\"seamark:type\": \"restricted_area\"}   \n",
       "\n",
       "                    geometry  \n",
       "0   POINT (5.00000 15.00000)  \n",
       "1   POINT (9.91950 57.06081)  \n",
       "2  POINT (12.01631 48.92595)  \n",
       "3  POINT (12.01631 48.92595)  \n",
       "4  POINT (12.01631 48.92595)  \n",
       "5  POINT (12.01631 48.92595)  \n",
       "6  POINT (12.01631 48.92595)  \n",
       "7  POINT (12.01631 48.92595)  \n",
       "8  POINT (12.01631 48.92595)  "
      ]
     },
     "execution_count": 10,
     "metadata": {},
     "output_type": "execute_result"
    }
   ],
   "source": [
    "gpd.read_file('gdfDB.sqlite')"
   ]
  },
  {
   "cell_type": "code",
   "execution_count": 2,
   "id": "364cb240",
   "metadata": {},
   "outputs": [],
   "source": [
    "# create database engine and create sqlite database\n",
    "engine = create_engine('sqlite:///TestDB.sqlite', module=sqlite)"
   ]
  },
  {
   "cell_type": "code",
   "execution_count": 3,
   "id": "ad272769",
   "metadata": {},
   "outputs": [
    {
     "data": {
      "text/plain": [
       "<sqlalchemy.engine.base.Connection at 0x7f6354f41fc0>"
      ]
     },
     "execution_count": 3,
     "metadata": {},
     "output_type": "execute_result"
    }
   ],
   "source": [
    "engine.connect()"
   ]
  },
  {
   "cell_type": "code",
   "execution_count": 145,
   "id": "c5d76f67",
   "metadata": {},
   "outputs": [],
   "source": [
    "nodes_df.to_file('dataframe.sqlite', driver='SQLite', spatialite=True, layer='nodes')"
   ]
  },
  {
   "cell_type": "code",
   "execution_count": 12,
   "id": "65e25e6f",
   "metadata": {},
   "outputs": [],
   "source": [
    "import sqlite3\n",
    "import shapely"
   ]
  },
  {
   "cell_type": "code",
   "execution_count": 28,
   "id": "11a18110",
   "metadata": {},
   "outputs": [
    {
     "name": "stdout",
     "output_type": "stream",
     "text": [
      "creating spatial metadata...\n"
     ]
    },
    {
     "ename": "OperationalError",
     "evalue": "(sqlite3.OperationalError) mod_spatialite.dll.so: cannot open shared object file: No such file or directory\n(Background on this error at: https://sqlalche.me/e/20/e3q8)",
     "output_type": "error",
     "traceback": [
      "\u001b[0;31m---------------------------------------------------------------------------\u001b[0m",
      "\u001b[0;31mOperationalError\u001b[0m                          Traceback (most recent call last)",
      "File \u001b[0;32m~/projects/maridata/MariGeoRoute/data/OpenSeaMap/venv/lib/python3.10/site-packages/sqlalchemy/engine/base.py:145\u001b[0m, in \u001b[0;36mConnection.__init__\u001b[0;34m(self, engine, connection, _has_events, _allow_revalidate, _allow_autobegin)\u001b[0m\n\u001b[1;32m    144\u001b[0m \u001b[38;5;28;01mtry\u001b[39;00m:\n\u001b[0;32m--> 145\u001b[0m     \u001b[38;5;28mself\u001b[39m\u001b[38;5;241m.\u001b[39m_dbapi_connection \u001b[38;5;241m=\u001b[39m \u001b[43mengine\u001b[49m\u001b[38;5;241;43m.\u001b[39;49m\u001b[43mraw_connection\u001b[49m\u001b[43m(\u001b[49m\u001b[43m)\u001b[49m\n\u001b[1;32m    146\u001b[0m \u001b[38;5;28;01mexcept\u001b[39;00m dialect\u001b[38;5;241m.\u001b[39mloaded_dbapi\u001b[38;5;241m.\u001b[39mError \u001b[38;5;28;01mas\u001b[39;00m err:\n",
      "File \u001b[0;32m~/projects/maridata/MariGeoRoute/data/OpenSeaMap/venv/lib/python3.10/site-packages/sqlalchemy/engine/base.py:3293\u001b[0m, in \u001b[0;36mEngine.raw_connection\u001b[0;34m(self)\u001b[0m\n\u001b[1;32m   3272\u001b[0m \u001b[38;5;250m\u001b[39m\u001b[38;5;124;03m\"\"\"Return a \"raw\" DBAPI connection from the connection pool.\u001b[39;00m\n\u001b[1;32m   3273\u001b[0m \n\u001b[1;32m   3274\u001b[0m \u001b[38;5;124;03mThe returned object is a proxied version of the DBAPI\u001b[39;00m\n\u001b[0;32m   (...)\u001b[0m\n\u001b[1;32m   3291\u001b[0m \n\u001b[1;32m   3292\u001b[0m \u001b[38;5;124;03m\"\"\"\u001b[39;00m\n\u001b[0;32m-> 3293\u001b[0m \u001b[38;5;28;01mreturn\u001b[39;00m \u001b[38;5;28;43mself\u001b[39;49m\u001b[38;5;241;43m.\u001b[39;49m\u001b[43mpool\u001b[49m\u001b[38;5;241;43m.\u001b[39;49m\u001b[43mconnect\u001b[49m\u001b[43m(\u001b[49m\u001b[43m)\u001b[49m\n",
      "File \u001b[0;32m~/projects/maridata/MariGeoRoute/data/OpenSeaMap/venv/lib/python3.10/site-packages/sqlalchemy/pool/base.py:452\u001b[0m, in \u001b[0;36mPool.connect\u001b[0;34m(self)\u001b[0m\n\u001b[1;32m    445\u001b[0m \u001b[38;5;250m\u001b[39m\u001b[38;5;124;03m\"\"\"Return a DBAPI connection from the pool.\u001b[39;00m\n\u001b[1;32m    446\u001b[0m \n\u001b[1;32m    447\u001b[0m \u001b[38;5;124;03mThe connection is instrumented such that when its\u001b[39;00m\n\u001b[0;32m   (...)\u001b[0m\n\u001b[1;32m    450\u001b[0m \n\u001b[1;32m    451\u001b[0m \u001b[38;5;124;03m\"\"\"\u001b[39;00m\n\u001b[0;32m--> 452\u001b[0m \u001b[38;5;28;01mreturn\u001b[39;00m \u001b[43m_ConnectionFairy\u001b[49m\u001b[38;5;241;43m.\u001b[39;49m\u001b[43m_checkout\u001b[49m\u001b[43m(\u001b[49m\u001b[38;5;28;43mself\u001b[39;49m\u001b[43m)\u001b[49m\n",
      "File \u001b[0;32m~/projects/maridata/MariGeoRoute/data/OpenSeaMap/venv/lib/python3.10/site-packages/sqlalchemy/pool/base.py:1268\u001b[0m, in \u001b[0;36m_ConnectionFairy._checkout\u001b[0;34m(cls, pool, threadconns, fairy)\u001b[0m\n\u001b[1;32m   1267\u001b[0m \u001b[38;5;28;01mif\u001b[39;00m \u001b[38;5;129;01mnot\u001b[39;00m fairy:\n\u001b[0;32m-> 1268\u001b[0m     fairy \u001b[38;5;241m=\u001b[39m \u001b[43m_ConnectionRecord\u001b[49m\u001b[38;5;241;43m.\u001b[39;49m\u001b[43mcheckout\u001b[49m\u001b[43m(\u001b[49m\u001b[43mpool\u001b[49m\u001b[43m)\u001b[49m\n\u001b[1;32m   1270\u001b[0m     \u001b[38;5;28;01mif\u001b[39;00m threadconns \u001b[38;5;129;01mis\u001b[39;00m \u001b[38;5;129;01mnot\u001b[39;00m \u001b[38;5;28;01mNone\u001b[39;00m:\n",
      "File \u001b[0;32m~/projects/maridata/MariGeoRoute/data/OpenSeaMap/venv/lib/python3.10/site-packages/sqlalchemy/pool/base.py:716\u001b[0m, in \u001b[0;36m_ConnectionRecord.checkout\u001b[0;34m(cls, pool)\u001b[0m\n\u001b[1;32m    715\u001b[0m \u001b[38;5;28;01melse\u001b[39;00m:\n\u001b[0;32m--> 716\u001b[0m     rec \u001b[38;5;241m=\u001b[39m \u001b[43mpool\u001b[49m\u001b[38;5;241;43m.\u001b[39;49m\u001b[43m_do_get\u001b[49m\u001b[43m(\u001b[49m\u001b[43m)\u001b[49m\n\u001b[1;32m    718\u001b[0m \u001b[38;5;28;01mtry\u001b[39;00m:\n",
      "File \u001b[0;32m~/projects/maridata/MariGeoRoute/data/OpenSeaMap/venv/lib/python3.10/site-packages/sqlalchemy/pool/impl.py:168\u001b[0m, in \u001b[0;36mQueuePool._do_get\u001b[0;34m(self)\u001b[0m\n\u001b[1;32m    167\u001b[0m \u001b[38;5;28;01mexcept\u001b[39;00m:\n\u001b[0;32m--> 168\u001b[0m     \u001b[38;5;28;01mwith\u001b[39;00m util\u001b[38;5;241m.\u001b[39msafe_reraise():\n\u001b[1;32m    169\u001b[0m         \u001b[38;5;28mself\u001b[39m\u001b[38;5;241m.\u001b[39m_dec_overflow()\n",
      "File \u001b[0;32m~/projects/maridata/MariGeoRoute/data/OpenSeaMap/venv/lib/python3.10/site-packages/sqlalchemy/util/langhelpers.py:147\u001b[0m, in \u001b[0;36msafe_reraise.__exit__\u001b[0;34m(self, type_, value, traceback)\u001b[0m\n\u001b[1;32m    146\u001b[0m     \u001b[38;5;28mself\u001b[39m\u001b[38;5;241m.\u001b[39m_exc_info \u001b[38;5;241m=\u001b[39m \u001b[38;5;28;01mNone\u001b[39;00m  \u001b[38;5;66;03m# remove potential circular references\u001b[39;00m\n\u001b[0;32m--> 147\u001b[0m     \u001b[38;5;28;01mraise\u001b[39;00m exc_value\u001b[38;5;241m.\u001b[39mwith_traceback(exc_tb)\n\u001b[1;32m    148\u001b[0m \u001b[38;5;28;01melse\u001b[39;00m:\n",
      "File \u001b[0;32m~/projects/maridata/MariGeoRoute/data/OpenSeaMap/venv/lib/python3.10/site-packages/sqlalchemy/pool/impl.py:166\u001b[0m, in \u001b[0;36mQueuePool._do_get\u001b[0;34m(self)\u001b[0m\n\u001b[1;32m    165\u001b[0m \u001b[38;5;28;01mtry\u001b[39;00m:\n\u001b[0;32m--> 166\u001b[0m     \u001b[38;5;28;01mreturn\u001b[39;00m \u001b[38;5;28;43mself\u001b[39;49m\u001b[38;5;241;43m.\u001b[39;49m\u001b[43m_create_connection\u001b[49m\u001b[43m(\u001b[49m\u001b[43m)\u001b[49m\n\u001b[1;32m    167\u001b[0m \u001b[38;5;28;01mexcept\u001b[39;00m:\n",
      "File \u001b[0;32m~/projects/maridata/MariGeoRoute/data/OpenSeaMap/venv/lib/python3.10/site-packages/sqlalchemy/pool/base.py:393\u001b[0m, in \u001b[0;36mPool._create_connection\u001b[0;34m(self)\u001b[0m\n\u001b[1;32m    391\u001b[0m \u001b[38;5;250m\u001b[39m\u001b[38;5;124;03m\"\"\"Called by subclasses to create a new ConnectionRecord.\"\"\"\u001b[39;00m\n\u001b[0;32m--> 393\u001b[0m \u001b[38;5;28;01mreturn\u001b[39;00m \u001b[43m_ConnectionRecord\u001b[49m\u001b[43m(\u001b[49m\u001b[38;5;28;43mself\u001b[39;49m\u001b[43m)\u001b[49m\n",
      "File \u001b[0;32m~/projects/maridata/MariGeoRoute/data/OpenSeaMap/venv/lib/python3.10/site-packages/sqlalchemy/pool/base.py:678\u001b[0m, in \u001b[0;36m_ConnectionRecord.__init__\u001b[0;34m(self, pool, connect)\u001b[0m\n\u001b[1;32m    677\u001b[0m \u001b[38;5;28;01mif\u001b[39;00m connect:\n\u001b[0;32m--> 678\u001b[0m     \u001b[38;5;28;43mself\u001b[39;49m\u001b[38;5;241;43m.\u001b[39;49m\u001b[43m__connect\u001b[49m\u001b[43m(\u001b[49m\u001b[43m)\u001b[49m\n\u001b[1;32m    679\u001b[0m \u001b[38;5;28mself\u001b[39m\u001b[38;5;241m.\u001b[39mfinalize_callback \u001b[38;5;241m=\u001b[39m deque()\n",
      "File \u001b[0;32m~/projects/maridata/MariGeoRoute/data/OpenSeaMap/venv/lib/python3.10/site-packages/sqlalchemy/pool/base.py:916\u001b[0m, in \u001b[0;36m_ConnectionRecord.__connect\u001b[0;34m(self)\u001b[0m\n\u001b[1;32m    912\u001b[0m \u001b[38;5;66;03m# init of the dialect now takes place within the connect\u001b[39;00m\n\u001b[1;32m    913\u001b[0m \u001b[38;5;66;03m# event, so ensure a mutex is used on the first run\u001b[39;00m\n\u001b[1;32m    914\u001b[0m \u001b[43mpool\u001b[49m\u001b[38;5;241;43m.\u001b[39;49m\u001b[43mdispatch\u001b[49m\u001b[38;5;241;43m.\u001b[39;49m\u001b[43mconnect\u001b[49m\u001b[38;5;241;43m.\u001b[39;49m\u001b[43mfor_modify\u001b[49m\u001b[43m(\u001b[49m\n\u001b[1;32m    915\u001b[0m \u001b[43m    \u001b[49m\u001b[43mpool\u001b[49m\u001b[38;5;241;43m.\u001b[39;49m\u001b[43mdispatch\u001b[49m\n\u001b[0;32m--> 916\u001b[0m \u001b[43m\u001b[49m\u001b[43m)\u001b[49m\u001b[38;5;241;43m.\u001b[39;49m\u001b[43m_exec_w_sync_on_first_run\u001b[49m\u001b[43m(\u001b[49m\u001b[38;5;28;43mself\u001b[39;49m\u001b[38;5;241;43m.\u001b[39;49m\u001b[43mdbapi_connection\u001b[49m\u001b[43m,\u001b[49m\u001b[43m \u001b[49m\u001b[38;5;28;43mself\u001b[39;49m\u001b[43m)\u001b[49m\n",
      "File \u001b[0;32m~/projects/maridata/MariGeoRoute/data/OpenSeaMap/venv/lib/python3.10/site-packages/sqlalchemy/event/attr.py:473\u001b[0m, in \u001b[0;36m_CompoundListener._exec_w_sync_on_first_run\u001b[0;34m(self, *args, **kw)\u001b[0m\n\u001b[1;32m    472\u001b[0m \u001b[38;5;28;01mtry\u001b[39;00m:\n\u001b[0;32m--> 473\u001b[0m     \u001b[38;5;28;43mself\u001b[39;49m\u001b[43m(\u001b[49m\u001b[38;5;241;43m*\u001b[39;49m\u001b[43margs\u001b[49m\u001b[43m,\u001b[49m\u001b[43m \u001b[49m\u001b[38;5;241;43m*\u001b[39;49m\u001b[38;5;241;43m*\u001b[39;49m\u001b[43mkw\u001b[49m\u001b[43m)\u001b[49m\n\u001b[1;32m    474\u001b[0m \u001b[38;5;28;01mexcept\u001b[39;00m:\n",
      "File \u001b[0;32m~/projects/maridata/MariGeoRoute/data/OpenSeaMap/venv/lib/python3.10/site-packages/sqlalchemy/event/attr.py:487\u001b[0m, in \u001b[0;36m_CompoundListener.__call__\u001b[0;34m(self, *args, **kw)\u001b[0m\n\u001b[1;32m    486\u001b[0m \u001b[38;5;28;01mfor\u001b[39;00m fn \u001b[38;5;129;01min\u001b[39;00m \u001b[38;5;28mself\u001b[39m\u001b[38;5;241m.\u001b[39mlisteners:\n\u001b[0;32m--> 487\u001b[0m     \u001b[43mfn\u001b[49m\u001b[43m(\u001b[49m\u001b[38;5;241;43m*\u001b[39;49m\u001b[43margs\u001b[49m\u001b[43m,\u001b[49m\u001b[43m \u001b[49m\u001b[38;5;241;43m*\u001b[39;49m\u001b[38;5;241;43m*\u001b[39;49m\u001b[43mkw\u001b[49m\u001b[43m)\u001b[49m\n",
      "Cell \u001b[0;32mIn[6], line 6\u001b[0m, in \u001b[0;36mconnect\u001b[0;34m(dbapi_connection, connection_rec)\u001b[0m\n\u001b[1;32m      5\u001b[0m dbapi_connection\u001b[38;5;241m.\u001b[39menable_load_extension(\u001b[38;5;28;01mTrue\u001b[39;00m)\n\u001b[0;32m----> 6\u001b[0m \u001b[43mdbapi_connection\u001b[49m\u001b[38;5;241;43m.\u001b[39;49m\u001b[43mexecute\u001b[49m\u001b[43m(\u001b[49m\u001b[38;5;124;43m'\u001b[39;49m\u001b[38;5;124;43mSELECT load_extension(\u001b[39;49m\u001b[38;5;124;43m\"\u001b[39;49m\u001b[38;5;124;43mmod_spatialite.dll\u001b[39;49m\u001b[38;5;124;43m\"\u001b[39;49m\u001b[38;5;124;43m)\u001b[39;49m\u001b[38;5;124;43m'\u001b[39;49m\u001b[43m)\u001b[49m\n",
      "\u001b[0;31mOperationalError\u001b[0m: mod_spatialite.dll.so: cannot open shared object file: No such file or directory",
      "\nThe above exception was the direct cause of the following exception:\n",
      "\u001b[0;31mOperationalError\u001b[0m                          Traceback (most recent call last)",
      "Cell \u001b[0;32mIn[28], line 8\u001b[0m\n\u001b[1;32m      6\u001b[0m \u001b[38;5;66;03m# create spatialite metadata\u001b[39;00m\n\u001b[1;32m      7\u001b[0m \u001b[38;5;28mprint\u001b[39m(\u001b[38;5;124m'\u001b[39m\u001b[38;5;124mcreating spatial metadata...\u001b[39m\u001b[38;5;124m'\u001b[39m)\n\u001b[0;32m----> 8\u001b[0m \u001b[43mengine\u001b[49m\u001b[38;5;241;43m.\u001b[39;49m\u001b[43mconnect\u001b[49m\u001b[43m(\u001b[49m\u001b[43m)\u001b[49m\u001b[38;5;66;03m#.execute(\"SELECT InitSpatialMetaData(1);\")\u001b[39;00m\n",
      "File \u001b[0;32m~/projects/maridata/MariGeoRoute/data/OpenSeaMap/venv/lib/python3.10/site-packages/sqlalchemy/engine/base.py:3269\u001b[0m, in \u001b[0;36mEngine.connect\u001b[0;34m(self)\u001b[0m\n\u001b[1;32m   3246\u001b[0m \u001b[38;5;28;01mdef\u001b[39;00m \u001b[38;5;21mconnect\u001b[39m(\u001b[38;5;28mself\u001b[39m) \u001b[38;5;241m-\u001b[39m\u001b[38;5;241m>\u001b[39m Connection:\n\u001b[1;32m   3247\u001b[0m \u001b[38;5;250m    \u001b[39m\u001b[38;5;124;03m\"\"\"Return a new :class:`_engine.Connection` object.\u001b[39;00m\n\u001b[1;32m   3248\u001b[0m \n\u001b[1;32m   3249\u001b[0m \u001b[38;5;124;03m    The :class:`_engine.Connection` acts as a Python context manager, so\u001b[39;00m\n\u001b[0;32m   (...)\u001b[0m\n\u001b[1;32m   3266\u001b[0m \n\u001b[1;32m   3267\u001b[0m \u001b[38;5;124;03m    \"\"\"\u001b[39;00m\n\u001b[0;32m-> 3269\u001b[0m     \u001b[38;5;28;01mreturn\u001b[39;00m \u001b[38;5;28;43mself\u001b[39;49m\u001b[38;5;241;43m.\u001b[39;49m\u001b[43m_connection_cls\u001b[49m\u001b[43m(\u001b[49m\u001b[38;5;28;43mself\u001b[39;49m\u001b[43m)\u001b[49m\n",
      "File \u001b[0;32m~/projects/maridata/MariGeoRoute/data/OpenSeaMap/venv/lib/python3.10/site-packages/sqlalchemy/engine/base.py:147\u001b[0m, in \u001b[0;36mConnection.__init__\u001b[0;34m(self, engine, connection, _has_events, _allow_revalidate, _allow_autobegin)\u001b[0m\n\u001b[1;32m    145\u001b[0m         \u001b[38;5;28mself\u001b[39m\u001b[38;5;241m.\u001b[39m_dbapi_connection \u001b[38;5;241m=\u001b[39m engine\u001b[38;5;241m.\u001b[39mraw_connection()\n\u001b[1;32m    146\u001b[0m     \u001b[38;5;28;01mexcept\u001b[39;00m dialect\u001b[38;5;241m.\u001b[39mloaded_dbapi\u001b[38;5;241m.\u001b[39mError \u001b[38;5;28;01mas\u001b[39;00m err:\n\u001b[0;32m--> 147\u001b[0m         \u001b[43mConnection\u001b[49m\u001b[38;5;241;43m.\u001b[39;49m\u001b[43m_handle_dbapi_exception_noconnection\u001b[49m\u001b[43m(\u001b[49m\n\u001b[1;32m    148\u001b[0m \u001b[43m            \u001b[49m\u001b[43merr\u001b[49m\u001b[43m,\u001b[49m\u001b[43m \u001b[49m\u001b[43mdialect\u001b[49m\u001b[43m,\u001b[49m\u001b[43m \u001b[49m\u001b[43mengine\u001b[49m\n\u001b[1;32m    149\u001b[0m \u001b[43m        \u001b[49m\u001b[43m)\u001b[49m\n\u001b[1;32m    150\u001b[0m         \u001b[38;5;28;01mraise\u001b[39;00m\n\u001b[1;32m    151\u001b[0m \u001b[38;5;28;01melse\u001b[39;00m:\n",
      "File \u001b[0;32m~/projects/maridata/MariGeoRoute/data/OpenSeaMap/venv/lib/python3.10/site-packages/sqlalchemy/engine/base.py:2431\u001b[0m, in \u001b[0;36mConnection._handle_dbapi_exception_noconnection\u001b[0;34m(cls, e, dialect, engine, is_disconnect, invalidate_pool_on_disconnect, is_pre_ping)\u001b[0m\n\u001b[1;32m   2429\u001b[0m \u001b[38;5;28;01melif\u001b[39;00m should_wrap:\n\u001b[1;32m   2430\u001b[0m     \u001b[38;5;28;01massert\u001b[39;00m sqlalchemy_exception \u001b[38;5;129;01mis\u001b[39;00m \u001b[38;5;129;01mnot\u001b[39;00m \u001b[38;5;28;01mNone\u001b[39;00m\n\u001b[0;32m-> 2431\u001b[0m     \u001b[38;5;28;01mraise\u001b[39;00m sqlalchemy_exception\u001b[38;5;241m.\u001b[39mwith_traceback(exc_info[\u001b[38;5;241m2\u001b[39m]) \u001b[38;5;28;01mfrom\u001b[39;00m \u001b[38;5;21;01me\u001b[39;00m\n\u001b[1;32m   2432\u001b[0m \u001b[38;5;28;01melse\u001b[39;00m:\n\u001b[1;32m   2433\u001b[0m     \u001b[38;5;28;01massert\u001b[39;00m exc_info[\u001b[38;5;241m1\u001b[39m] \u001b[38;5;129;01mis\u001b[39;00m \u001b[38;5;129;01mnot\u001b[39;00m \u001b[38;5;28;01mNone\u001b[39;00m\n",
      "File \u001b[0;32m~/projects/maridata/MariGeoRoute/data/OpenSeaMap/venv/lib/python3.10/site-packages/sqlalchemy/engine/base.py:145\u001b[0m, in \u001b[0;36mConnection.__init__\u001b[0;34m(self, engine, connection, _has_events, _allow_revalidate, _allow_autobegin)\u001b[0m\n\u001b[1;32m    143\u001b[0m \u001b[38;5;28;01mif\u001b[39;00m connection \u001b[38;5;129;01mis\u001b[39;00m \u001b[38;5;28;01mNone\u001b[39;00m:\n\u001b[1;32m    144\u001b[0m     \u001b[38;5;28;01mtry\u001b[39;00m:\n\u001b[0;32m--> 145\u001b[0m         \u001b[38;5;28mself\u001b[39m\u001b[38;5;241m.\u001b[39m_dbapi_connection \u001b[38;5;241m=\u001b[39m \u001b[43mengine\u001b[49m\u001b[38;5;241;43m.\u001b[39;49m\u001b[43mraw_connection\u001b[49m\u001b[43m(\u001b[49m\u001b[43m)\u001b[49m\n\u001b[1;32m    146\u001b[0m     \u001b[38;5;28;01mexcept\u001b[39;00m dialect\u001b[38;5;241m.\u001b[39mloaded_dbapi\u001b[38;5;241m.\u001b[39mError \u001b[38;5;28;01mas\u001b[39;00m err:\n\u001b[1;32m    147\u001b[0m         Connection\u001b[38;5;241m.\u001b[39m_handle_dbapi_exception_noconnection(\n\u001b[1;32m    148\u001b[0m             err, dialect, engine\n\u001b[1;32m    149\u001b[0m         )\n",
      "File \u001b[0;32m~/projects/maridata/MariGeoRoute/data/OpenSeaMap/venv/lib/python3.10/site-packages/sqlalchemy/engine/base.py:3293\u001b[0m, in \u001b[0;36mEngine.raw_connection\u001b[0;34m(self)\u001b[0m\n\u001b[1;32m   3271\u001b[0m \u001b[38;5;28;01mdef\u001b[39;00m \u001b[38;5;21mraw_connection\u001b[39m(\u001b[38;5;28mself\u001b[39m) \u001b[38;5;241m-\u001b[39m\u001b[38;5;241m>\u001b[39m PoolProxiedConnection:\n\u001b[1;32m   3272\u001b[0m \u001b[38;5;250m    \u001b[39m\u001b[38;5;124;03m\"\"\"Return a \"raw\" DBAPI connection from the connection pool.\u001b[39;00m\n\u001b[1;32m   3273\u001b[0m \n\u001b[1;32m   3274\u001b[0m \u001b[38;5;124;03m    The returned object is a proxied version of the DBAPI\u001b[39;00m\n\u001b[0;32m   (...)\u001b[0m\n\u001b[1;32m   3291\u001b[0m \n\u001b[1;32m   3292\u001b[0m \u001b[38;5;124;03m    \"\"\"\u001b[39;00m\n\u001b[0;32m-> 3293\u001b[0m     \u001b[38;5;28;01mreturn\u001b[39;00m \u001b[38;5;28;43mself\u001b[39;49m\u001b[38;5;241;43m.\u001b[39;49m\u001b[43mpool\u001b[49m\u001b[38;5;241;43m.\u001b[39;49m\u001b[43mconnect\u001b[49m\u001b[43m(\u001b[49m\u001b[43m)\u001b[49m\n",
      "File \u001b[0;32m~/projects/maridata/MariGeoRoute/data/OpenSeaMap/venv/lib/python3.10/site-packages/sqlalchemy/pool/base.py:452\u001b[0m, in \u001b[0;36mPool.connect\u001b[0;34m(self)\u001b[0m\n\u001b[1;32m    444\u001b[0m \u001b[38;5;28;01mdef\u001b[39;00m \u001b[38;5;21mconnect\u001b[39m(\u001b[38;5;28mself\u001b[39m) \u001b[38;5;241m-\u001b[39m\u001b[38;5;241m>\u001b[39m PoolProxiedConnection:\n\u001b[1;32m    445\u001b[0m \u001b[38;5;250m    \u001b[39m\u001b[38;5;124;03m\"\"\"Return a DBAPI connection from the pool.\u001b[39;00m\n\u001b[1;32m    446\u001b[0m \n\u001b[1;32m    447\u001b[0m \u001b[38;5;124;03m    The connection is instrumented such that when its\u001b[39;00m\n\u001b[0;32m   (...)\u001b[0m\n\u001b[1;32m    450\u001b[0m \n\u001b[1;32m    451\u001b[0m \u001b[38;5;124;03m    \"\"\"\u001b[39;00m\n\u001b[0;32m--> 452\u001b[0m     \u001b[38;5;28;01mreturn\u001b[39;00m \u001b[43m_ConnectionFairy\u001b[49m\u001b[38;5;241;43m.\u001b[39;49m\u001b[43m_checkout\u001b[49m\u001b[43m(\u001b[49m\u001b[38;5;28;43mself\u001b[39;49m\u001b[43m)\u001b[49m\n",
      "File \u001b[0;32m~/projects/maridata/MariGeoRoute/data/OpenSeaMap/venv/lib/python3.10/site-packages/sqlalchemy/pool/base.py:1268\u001b[0m, in \u001b[0;36m_ConnectionFairy._checkout\u001b[0;34m(cls, pool, threadconns, fairy)\u001b[0m\n\u001b[1;32m   1259\u001b[0m \u001b[38;5;129m@classmethod\u001b[39m\n\u001b[1;32m   1260\u001b[0m \u001b[38;5;28;01mdef\u001b[39;00m \u001b[38;5;21m_checkout\u001b[39m(\n\u001b[1;32m   1261\u001b[0m     \u001b[38;5;28mcls\u001b[39m,\n\u001b[0;32m   (...)\u001b[0m\n\u001b[1;32m   1264\u001b[0m     fairy: Optional[_ConnectionFairy] \u001b[38;5;241m=\u001b[39m \u001b[38;5;28;01mNone\u001b[39;00m,\n\u001b[1;32m   1265\u001b[0m ) \u001b[38;5;241m-\u001b[39m\u001b[38;5;241m>\u001b[39m _ConnectionFairy:\n\u001b[1;32m   1267\u001b[0m     \u001b[38;5;28;01mif\u001b[39;00m \u001b[38;5;129;01mnot\u001b[39;00m fairy:\n\u001b[0;32m-> 1268\u001b[0m         fairy \u001b[38;5;241m=\u001b[39m \u001b[43m_ConnectionRecord\u001b[49m\u001b[38;5;241;43m.\u001b[39;49m\u001b[43mcheckout\u001b[49m\u001b[43m(\u001b[49m\u001b[43mpool\u001b[49m\u001b[43m)\u001b[49m\n\u001b[1;32m   1270\u001b[0m         \u001b[38;5;28;01mif\u001b[39;00m threadconns \u001b[38;5;129;01mis\u001b[39;00m \u001b[38;5;129;01mnot\u001b[39;00m \u001b[38;5;28;01mNone\u001b[39;00m:\n\u001b[1;32m   1271\u001b[0m             threadconns\u001b[38;5;241m.\u001b[39mcurrent \u001b[38;5;241m=\u001b[39m weakref\u001b[38;5;241m.\u001b[39mref(fairy)\n",
      "File \u001b[0;32m~/projects/maridata/MariGeoRoute/data/OpenSeaMap/venv/lib/python3.10/site-packages/sqlalchemy/pool/base.py:716\u001b[0m, in \u001b[0;36m_ConnectionRecord.checkout\u001b[0;34m(cls, pool)\u001b[0m\n\u001b[1;32m    714\u001b[0m     rec \u001b[38;5;241m=\u001b[39m cast(_ConnectionRecord, pool\u001b[38;5;241m.\u001b[39m_do_get())\n\u001b[1;32m    715\u001b[0m \u001b[38;5;28;01melse\u001b[39;00m:\n\u001b[0;32m--> 716\u001b[0m     rec \u001b[38;5;241m=\u001b[39m \u001b[43mpool\u001b[49m\u001b[38;5;241;43m.\u001b[39;49m\u001b[43m_do_get\u001b[49m\u001b[43m(\u001b[49m\u001b[43m)\u001b[49m\n\u001b[1;32m    718\u001b[0m \u001b[38;5;28;01mtry\u001b[39;00m:\n\u001b[1;32m    719\u001b[0m     dbapi_connection \u001b[38;5;241m=\u001b[39m rec\u001b[38;5;241m.\u001b[39mget_connection()\n",
      "File \u001b[0;32m~/projects/maridata/MariGeoRoute/data/OpenSeaMap/venv/lib/python3.10/site-packages/sqlalchemy/pool/impl.py:168\u001b[0m, in \u001b[0;36mQueuePool._do_get\u001b[0;34m(self)\u001b[0m\n\u001b[1;32m    166\u001b[0m     \u001b[38;5;28;01mreturn\u001b[39;00m \u001b[38;5;28mself\u001b[39m\u001b[38;5;241m.\u001b[39m_create_connection()\n\u001b[1;32m    167\u001b[0m \u001b[38;5;28;01mexcept\u001b[39;00m:\n\u001b[0;32m--> 168\u001b[0m     \u001b[38;5;28;01mwith\u001b[39;00m util\u001b[38;5;241m.\u001b[39msafe_reraise():\n\u001b[1;32m    169\u001b[0m         \u001b[38;5;28mself\u001b[39m\u001b[38;5;241m.\u001b[39m_dec_overflow()\n\u001b[1;32m    170\u001b[0m     \u001b[38;5;28;01mraise\u001b[39;00m\n",
      "File \u001b[0;32m~/projects/maridata/MariGeoRoute/data/OpenSeaMap/venv/lib/python3.10/site-packages/sqlalchemy/util/langhelpers.py:147\u001b[0m, in \u001b[0;36msafe_reraise.__exit__\u001b[0;34m(self, type_, value, traceback)\u001b[0m\n\u001b[1;32m    145\u001b[0m     \u001b[38;5;28;01massert\u001b[39;00m exc_value \u001b[38;5;129;01mis\u001b[39;00m \u001b[38;5;129;01mnot\u001b[39;00m \u001b[38;5;28;01mNone\u001b[39;00m\n\u001b[1;32m    146\u001b[0m     \u001b[38;5;28mself\u001b[39m\u001b[38;5;241m.\u001b[39m_exc_info \u001b[38;5;241m=\u001b[39m \u001b[38;5;28;01mNone\u001b[39;00m  \u001b[38;5;66;03m# remove potential circular references\u001b[39;00m\n\u001b[0;32m--> 147\u001b[0m     \u001b[38;5;28;01mraise\u001b[39;00m exc_value\u001b[38;5;241m.\u001b[39mwith_traceback(exc_tb)\n\u001b[1;32m    148\u001b[0m \u001b[38;5;28;01melse\u001b[39;00m:\n\u001b[1;32m    149\u001b[0m     \u001b[38;5;28mself\u001b[39m\u001b[38;5;241m.\u001b[39m_exc_info \u001b[38;5;241m=\u001b[39m \u001b[38;5;28;01mNone\u001b[39;00m  \u001b[38;5;66;03m# remove potential circular references\u001b[39;00m\n",
      "File \u001b[0;32m~/projects/maridata/MariGeoRoute/data/OpenSeaMap/venv/lib/python3.10/site-packages/sqlalchemy/pool/impl.py:166\u001b[0m, in \u001b[0;36mQueuePool._do_get\u001b[0;34m(self)\u001b[0m\n\u001b[1;32m    164\u001b[0m \u001b[38;5;28;01mif\u001b[39;00m \u001b[38;5;28mself\u001b[39m\u001b[38;5;241m.\u001b[39m_inc_overflow():\n\u001b[1;32m    165\u001b[0m     \u001b[38;5;28;01mtry\u001b[39;00m:\n\u001b[0;32m--> 166\u001b[0m         \u001b[38;5;28;01mreturn\u001b[39;00m \u001b[38;5;28;43mself\u001b[39;49m\u001b[38;5;241;43m.\u001b[39;49m\u001b[43m_create_connection\u001b[49m\u001b[43m(\u001b[49m\u001b[43m)\u001b[49m\n\u001b[1;32m    167\u001b[0m     \u001b[38;5;28;01mexcept\u001b[39;00m:\n\u001b[1;32m    168\u001b[0m         \u001b[38;5;28;01mwith\u001b[39;00m util\u001b[38;5;241m.\u001b[39msafe_reraise():\n",
      "File \u001b[0;32m~/projects/maridata/MariGeoRoute/data/OpenSeaMap/venv/lib/python3.10/site-packages/sqlalchemy/pool/base.py:393\u001b[0m, in \u001b[0;36mPool._create_connection\u001b[0;34m(self)\u001b[0m\n\u001b[1;32m    390\u001b[0m \u001b[38;5;28;01mdef\u001b[39;00m \u001b[38;5;21m_create_connection\u001b[39m(\u001b[38;5;28mself\u001b[39m) \u001b[38;5;241m-\u001b[39m\u001b[38;5;241m>\u001b[39m ConnectionPoolEntry:\n\u001b[1;32m    391\u001b[0m \u001b[38;5;250m    \u001b[39m\u001b[38;5;124;03m\"\"\"Called by subclasses to create a new ConnectionRecord.\"\"\"\u001b[39;00m\n\u001b[0;32m--> 393\u001b[0m     \u001b[38;5;28;01mreturn\u001b[39;00m \u001b[43m_ConnectionRecord\u001b[49m\u001b[43m(\u001b[49m\u001b[38;5;28;43mself\u001b[39;49m\u001b[43m)\u001b[49m\n",
      "File \u001b[0;32m~/projects/maridata/MariGeoRoute/data/OpenSeaMap/venv/lib/python3.10/site-packages/sqlalchemy/pool/base.py:678\u001b[0m, in \u001b[0;36m_ConnectionRecord.__init__\u001b[0;34m(self, pool, connect)\u001b[0m\n\u001b[1;32m    676\u001b[0m \u001b[38;5;28mself\u001b[39m\u001b[38;5;241m.\u001b[39m__pool \u001b[38;5;241m=\u001b[39m pool\n\u001b[1;32m    677\u001b[0m \u001b[38;5;28;01mif\u001b[39;00m connect:\n\u001b[0;32m--> 678\u001b[0m     \u001b[38;5;28;43mself\u001b[39;49m\u001b[38;5;241;43m.\u001b[39;49m\u001b[43m__connect\u001b[49m\u001b[43m(\u001b[49m\u001b[43m)\u001b[49m\n\u001b[1;32m    679\u001b[0m \u001b[38;5;28mself\u001b[39m\u001b[38;5;241m.\u001b[39mfinalize_callback \u001b[38;5;241m=\u001b[39m deque()\n",
      "File \u001b[0;32m~/projects/maridata/MariGeoRoute/data/OpenSeaMap/venv/lib/python3.10/site-packages/sqlalchemy/pool/base.py:916\u001b[0m, in \u001b[0;36m_ConnectionRecord.__connect\u001b[0;34m(self)\u001b[0m\n\u001b[1;32m    908\u001b[0m     pool\u001b[38;5;241m.\u001b[39mdispatch\u001b[38;5;241m.\u001b[39mfirst_connect\u001b[38;5;241m.\u001b[39mfor_modify(\n\u001b[1;32m    909\u001b[0m         pool\u001b[38;5;241m.\u001b[39mdispatch\n\u001b[1;32m    910\u001b[0m     )\u001b[38;5;241m.\u001b[39mexec_once_unless_exception(\u001b[38;5;28mself\u001b[39m\u001b[38;5;241m.\u001b[39mdbapi_connection, \u001b[38;5;28mself\u001b[39m)\n\u001b[1;32m    912\u001b[0m \u001b[38;5;66;03m# init of the dialect now takes place within the connect\u001b[39;00m\n\u001b[1;32m    913\u001b[0m \u001b[38;5;66;03m# event, so ensure a mutex is used on the first run\u001b[39;00m\n\u001b[1;32m    914\u001b[0m \u001b[43mpool\u001b[49m\u001b[38;5;241;43m.\u001b[39;49m\u001b[43mdispatch\u001b[49m\u001b[38;5;241;43m.\u001b[39;49m\u001b[43mconnect\u001b[49m\u001b[38;5;241;43m.\u001b[39;49m\u001b[43mfor_modify\u001b[49m\u001b[43m(\u001b[49m\n\u001b[1;32m    915\u001b[0m \u001b[43m    \u001b[49m\u001b[43mpool\u001b[49m\u001b[38;5;241;43m.\u001b[39;49m\u001b[43mdispatch\u001b[49m\n\u001b[0;32m--> 916\u001b[0m \u001b[43m\u001b[49m\u001b[43m)\u001b[49m\u001b[38;5;241;43m.\u001b[39;49m\u001b[43m_exec_w_sync_on_first_run\u001b[49m\u001b[43m(\u001b[49m\u001b[38;5;28;43mself\u001b[39;49m\u001b[38;5;241;43m.\u001b[39;49m\u001b[43mdbapi_connection\u001b[49m\u001b[43m,\u001b[49m\u001b[43m \u001b[49m\u001b[38;5;28;43mself\u001b[39;49m\u001b[43m)\u001b[49m\n",
      "File \u001b[0;32m~/projects/maridata/MariGeoRoute/data/OpenSeaMap/venv/lib/python3.10/site-packages/sqlalchemy/event/attr.py:473\u001b[0m, in \u001b[0;36m_CompoundListener._exec_w_sync_on_first_run\u001b[0;34m(self, *args, **kw)\u001b[0m\n\u001b[1;32m    471\u001b[0m \u001b[38;5;28;01mwith\u001b[39;00m \u001b[38;5;28mself\u001b[39m\u001b[38;5;241m.\u001b[39m_exec_once_mutex:\n\u001b[1;32m    472\u001b[0m     \u001b[38;5;28;01mtry\u001b[39;00m:\n\u001b[0;32m--> 473\u001b[0m         \u001b[38;5;28;43mself\u001b[39;49m\u001b[43m(\u001b[49m\u001b[38;5;241;43m*\u001b[39;49m\u001b[43margs\u001b[49m\u001b[43m,\u001b[49m\u001b[43m \u001b[49m\u001b[38;5;241;43m*\u001b[39;49m\u001b[38;5;241;43m*\u001b[39;49m\u001b[43mkw\u001b[49m\u001b[43m)\u001b[49m\n\u001b[1;32m    474\u001b[0m     \u001b[38;5;28;01mexcept\u001b[39;00m:\n\u001b[1;32m    475\u001b[0m         \u001b[38;5;28;01mraise\u001b[39;00m\n",
      "File \u001b[0;32m~/projects/maridata/MariGeoRoute/data/OpenSeaMap/venv/lib/python3.10/site-packages/sqlalchemy/event/attr.py:487\u001b[0m, in \u001b[0;36m_CompoundListener.__call__\u001b[0;34m(self, *args, **kw)\u001b[0m\n\u001b[1;32m    485\u001b[0m     fn(\u001b[38;5;241m*\u001b[39margs, \u001b[38;5;241m*\u001b[39m\u001b[38;5;241m*\u001b[39mkw)\n\u001b[1;32m    486\u001b[0m \u001b[38;5;28;01mfor\u001b[39;00m fn \u001b[38;5;129;01min\u001b[39;00m \u001b[38;5;28mself\u001b[39m\u001b[38;5;241m.\u001b[39mlisteners:\n\u001b[0;32m--> 487\u001b[0m     \u001b[43mfn\u001b[49m\u001b[43m(\u001b[49m\u001b[38;5;241;43m*\u001b[39;49m\u001b[43margs\u001b[49m\u001b[43m,\u001b[49m\u001b[43m \u001b[49m\u001b[38;5;241;43m*\u001b[39;49m\u001b[38;5;241;43m*\u001b[39;49m\u001b[43mkw\u001b[49m\u001b[43m)\u001b[49m\n",
      "Cell \u001b[0;32mIn[6], line 6\u001b[0m, in \u001b[0;36mconnect\u001b[0;34m(dbapi_connection, connection_rec)\u001b[0m\n\u001b[1;32m      3\u001b[0m \u001b[38;5;129m@event\u001b[39m\u001b[38;5;241m.\u001b[39mlistens_for(engine, \u001b[38;5;124m'\u001b[39m\u001b[38;5;124mconnect\u001b[39m\u001b[38;5;124m'\u001b[39m)\n\u001b[1;32m      4\u001b[0m \u001b[38;5;28;01mdef\u001b[39;00m \u001b[38;5;21mconnect\u001b[39m(dbapi_connection, connection_rec):\n\u001b[1;32m      5\u001b[0m     dbapi_connection\u001b[38;5;241m.\u001b[39menable_load_extension(\u001b[38;5;28;01mTrue\u001b[39;00m)\n\u001b[0;32m----> 6\u001b[0m     \u001b[43mdbapi_connection\u001b[49m\u001b[38;5;241;43m.\u001b[39;49m\u001b[43mexecute\u001b[49m\u001b[43m(\u001b[49m\u001b[38;5;124;43m'\u001b[39;49m\u001b[38;5;124;43mSELECT load_extension(\u001b[39;49m\u001b[38;5;124;43m\"\u001b[39;49m\u001b[38;5;124;43mmod_spatialite.dll\u001b[39;49m\u001b[38;5;124;43m\"\u001b[39;49m\u001b[38;5;124;43m)\u001b[39;49m\u001b[38;5;124;43m'\u001b[39;49m\u001b[43m)\u001b[49m\n",
      "\u001b[0;31mOperationalError\u001b[0m: (sqlite3.OperationalError) mod_spatialite.dll.so: cannot open shared object file: No such file or directory\n(Background on this error at: https://sqlalche.me/e/20/e3q8)"
     ]
    }
   ],
   "source": [
    "@event.listens_for(engine, 'connect')\n",
    "def connect(dbapi_connection, connection_rec):\n",
    "    dbapi_connection.enable_load_extension(True)\n",
    "    dbapi_connection.execute('SELECT load_extension(\"mod_spatialite.dll\")')\n",
    "\n",
    "# create spatialite metadata\n",
    "print('creating spatial metadata...')\n",
    "engine.connect()#.execute(\"SELECT InitSpatialMetaData(1);\")"
   ]
  },
  {
   "cell_type": "code",
   "execution_count": 24,
   "id": "394856a3",
   "metadata": {
    "collapsed": true
   },
   "outputs": [
    {
     "ename": "OperationalError",
     "evalue": "(sqlite3.OperationalError) mod_spatialite.dll.so: cannot open shared object file: No such file or directory\n(Background on this error at: https://sqlalche.me/e/20/e3q8)",
     "output_type": "error",
     "traceback": [
      "\u001b[0;31m---------------------------------------------------------------------------\u001b[0m",
      "\u001b[0;31mOperationalError\u001b[0m                          Traceback (most recent call last)",
      "File \u001b[0;32m~/projects/maridata/MariGeoRoute/data/OpenSeaMap/venv/lib/python3.10/site-packages/sqlalchemy/engine/base.py:145\u001b[0m, in \u001b[0;36mConnection.__init__\u001b[0;34m(self, engine, connection, _has_events, _allow_revalidate, _allow_autobegin)\u001b[0m\n\u001b[1;32m    144\u001b[0m \u001b[38;5;28;01mtry\u001b[39;00m:\n\u001b[0;32m--> 145\u001b[0m     \u001b[38;5;28mself\u001b[39m\u001b[38;5;241m.\u001b[39m_dbapi_connection \u001b[38;5;241m=\u001b[39m \u001b[43mengine\u001b[49m\u001b[38;5;241;43m.\u001b[39;49m\u001b[43mraw_connection\u001b[49m\u001b[43m(\u001b[49m\u001b[43m)\u001b[49m\n\u001b[1;32m    146\u001b[0m \u001b[38;5;28;01mexcept\u001b[39;00m dialect\u001b[38;5;241m.\u001b[39mloaded_dbapi\u001b[38;5;241m.\u001b[39mError \u001b[38;5;28;01mas\u001b[39;00m err:\n",
      "File \u001b[0;32m~/projects/maridata/MariGeoRoute/data/OpenSeaMap/venv/lib/python3.10/site-packages/sqlalchemy/engine/base.py:3293\u001b[0m, in \u001b[0;36mEngine.raw_connection\u001b[0;34m(self)\u001b[0m\n\u001b[1;32m   3272\u001b[0m \u001b[38;5;250m\u001b[39m\u001b[38;5;124;03m\"\"\"Return a \"raw\" DBAPI connection from the connection pool.\u001b[39;00m\n\u001b[1;32m   3273\u001b[0m \n\u001b[1;32m   3274\u001b[0m \u001b[38;5;124;03mThe returned object is a proxied version of the DBAPI\u001b[39;00m\n\u001b[0;32m   (...)\u001b[0m\n\u001b[1;32m   3291\u001b[0m \n\u001b[1;32m   3292\u001b[0m \u001b[38;5;124;03m\"\"\"\u001b[39;00m\n\u001b[0;32m-> 3293\u001b[0m \u001b[38;5;28;01mreturn\u001b[39;00m \u001b[38;5;28;43mself\u001b[39;49m\u001b[38;5;241;43m.\u001b[39;49m\u001b[43mpool\u001b[49m\u001b[38;5;241;43m.\u001b[39;49m\u001b[43mconnect\u001b[49m\u001b[43m(\u001b[49m\u001b[43m)\u001b[49m\n",
      "File \u001b[0;32m~/projects/maridata/MariGeoRoute/data/OpenSeaMap/venv/lib/python3.10/site-packages/sqlalchemy/pool/base.py:452\u001b[0m, in \u001b[0;36mPool.connect\u001b[0;34m(self)\u001b[0m\n\u001b[1;32m    445\u001b[0m \u001b[38;5;250m\u001b[39m\u001b[38;5;124;03m\"\"\"Return a DBAPI connection from the pool.\u001b[39;00m\n\u001b[1;32m    446\u001b[0m \n\u001b[1;32m    447\u001b[0m \u001b[38;5;124;03mThe connection is instrumented such that when its\u001b[39;00m\n\u001b[0;32m   (...)\u001b[0m\n\u001b[1;32m    450\u001b[0m \n\u001b[1;32m    451\u001b[0m \u001b[38;5;124;03m\"\"\"\u001b[39;00m\n\u001b[0;32m--> 452\u001b[0m \u001b[38;5;28;01mreturn\u001b[39;00m \u001b[43m_ConnectionFairy\u001b[49m\u001b[38;5;241;43m.\u001b[39;49m\u001b[43m_checkout\u001b[49m\u001b[43m(\u001b[49m\u001b[38;5;28;43mself\u001b[39;49m\u001b[43m)\u001b[49m\n",
      "File \u001b[0;32m~/projects/maridata/MariGeoRoute/data/OpenSeaMap/venv/lib/python3.10/site-packages/sqlalchemy/pool/base.py:1268\u001b[0m, in \u001b[0;36m_ConnectionFairy._checkout\u001b[0;34m(cls, pool, threadconns, fairy)\u001b[0m\n\u001b[1;32m   1267\u001b[0m \u001b[38;5;28;01mif\u001b[39;00m \u001b[38;5;129;01mnot\u001b[39;00m fairy:\n\u001b[0;32m-> 1268\u001b[0m     fairy \u001b[38;5;241m=\u001b[39m \u001b[43m_ConnectionRecord\u001b[49m\u001b[38;5;241;43m.\u001b[39;49m\u001b[43mcheckout\u001b[49m\u001b[43m(\u001b[49m\u001b[43mpool\u001b[49m\u001b[43m)\u001b[49m\n\u001b[1;32m   1270\u001b[0m     \u001b[38;5;28;01mif\u001b[39;00m threadconns \u001b[38;5;129;01mis\u001b[39;00m \u001b[38;5;129;01mnot\u001b[39;00m \u001b[38;5;28;01mNone\u001b[39;00m:\n",
      "File \u001b[0;32m~/projects/maridata/MariGeoRoute/data/OpenSeaMap/venv/lib/python3.10/site-packages/sqlalchemy/pool/base.py:716\u001b[0m, in \u001b[0;36m_ConnectionRecord.checkout\u001b[0;34m(cls, pool)\u001b[0m\n\u001b[1;32m    715\u001b[0m \u001b[38;5;28;01melse\u001b[39;00m:\n\u001b[0;32m--> 716\u001b[0m     rec \u001b[38;5;241m=\u001b[39m \u001b[43mpool\u001b[49m\u001b[38;5;241;43m.\u001b[39;49m\u001b[43m_do_get\u001b[49m\u001b[43m(\u001b[49m\u001b[43m)\u001b[49m\n\u001b[1;32m    718\u001b[0m \u001b[38;5;28;01mtry\u001b[39;00m:\n",
      "File \u001b[0;32m~/projects/maridata/MariGeoRoute/data/OpenSeaMap/venv/lib/python3.10/site-packages/sqlalchemy/pool/impl.py:168\u001b[0m, in \u001b[0;36mQueuePool._do_get\u001b[0;34m(self)\u001b[0m\n\u001b[1;32m    167\u001b[0m \u001b[38;5;28;01mexcept\u001b[39;00m:\n\u001b[0;32m--> 168\u001b[0m     \u001b[38;5;28;01mwith\u001b[39;00m util\u001b[38;5;241m.\u001b[39msafe_reraise():\n\u001b[1;32m    169\u001b[0m         \u001b[38;5;28mself\u001b[39m\u001b[38;5;241m.\u001b[39m_dec_overflow()\n",
      "File \u001b[0;32m~/projects/maridata/MariGeoRoute/data/OpenSeaMap/venv/lib/python3.10/site-packages/sqlalchemy/util/langhelpers.py:147\u001b[0m, in \u001b[0;36msafe_reraise.__exit__\u001b[0;34m(self, type_, value, traceback)\u001b[0m\n\u001b[1;32m    146\u001b[0m     \u001b[38;5;28mself\u001b[39m\u001b[38;5;241m.\u001b[39m_exc_info \u001b[38;5;241m=\u001b[39m \u001b[38;5;28;01mNone\u001b[39;00m  \u001b[38;5;66;03m# remove potential circular references\u001b[39;00m\n\u001b[0;32m--> 147\u001b[0m     \u001b[38;5;28;01mraise\u001b[39;00m exc_value\u001b[38;5;241m.\u001b[39mwith_traceback(exc_tb)\n\u001b[1;32m    148\u001b[0m \u001b[38;5;28;01melse\u001b[39;00m:\n",
      "File \u001b[0;32m~/projects/maridata/MariGeoRoute/data/OpenSeaMap/venv/lib/python3.10/site-packages/sqlalchemy/pool/impl.py:166\u001b[0m, in \u001b[0;36mQueuePool._do_get\u001b[0;34m(self)\u001b[0m\n\u001b[1;32m    165\u001b[0m \u001b[38;5;28;01mtry\u001b[39;00m:\n\u001b[0;32m--> 166\u001b[0m     \u001b[38;5;28;01mreturn\u001b[39;00m \u001b[38;5;28;43mself\u001b[39;49m\u001b[38;5;241;43m.\u001b[39;49m\u001b[43m_create_connection\u001b[49m\u001b[43m(\u001b[49m\u001b[43m)\u001b[49m\n\u001b[1;32m    167\u001b[0m \u001b[38;5;28;01mexcept\u001b[39;00m:\n",
      "File \u001b[0;32m~/projects/maridata/MariGeoRoute/data/OpenSeaMap/venv/lib/python3.10/site-packages/sqlalchemy/pool/base.py:393\u001b[0m, in \u001b[0;36mPool._create_connection\u001b[0;34m(self)\u001b[0m\n\u001b[1;32m    391\u001b[0m \u001b[38;5;250m\u001b[39m\u001b[38;5;124;03m\"\"\"Called by subclasses to create a new ConnectionRecord.\"\"\"\u001b[39;00m\n\u001b[0;32m--> 393\u001b[0m \u001b[38;5;28;01mreturn\u001b[39;00m \u001b[43m_ConnectionRecord\u001b[49m\u001b[43m(\u001b[49m\u001b[38;5;28;43mself\u001b[39;49m\u001b[43m)\u001b[49m\n",
      "File \u001b[0;32m~/projects/maridata/MariGeoRoute/data/OpenSeaMap/venv/lib/python3.10/site-packages/sqlalchemy/pool/base.py:678\u001b[0m, in \u001b[0;36m_ConnectionRecord.__init__\u001b[0;34m(self, pool, connect)\u001b[0m\n\u001b[1;32m    677\u001b[0m \u001b[38;5;28;01mif\u001b[39;00m connect:\n\u001b[0;32m--> 678\u001b[0m     \u001b[38;5;28;43mself\u001b[39;49m\u001b[38;5;241;43m.\u001b[39;49m\u001b[43m__connect\u001b[49m\u001b[43m(\u001b[49m\u001b[43m)\u001b[49m\n\u001b[1;32m    679\u001b[0m \u001b[38;5;28mself\u001b[39m\u001b[38;5;241m.\u001b[39mfinalize_callback \u001b[38;5;241m=\u001b[39m deque()\n",
      "File \u001b[0;32m~/projects/maridata/MariGeoRoute/data/OpenSeaMap/venv/lib/python3.10/site-packages/sqlalchemy/pool/base.py:916\u001b[0m, in \u001b[0;36m_ConnectionRecord.__connect\u001b[0;34m(self)\u001b[0m\n\u001b[1;32m    912\u001b[0m \u001b[38;5;66;03m# init of the dialect now takes place within the connect\u001b[39;00m\n\u001b[1;32m    913\u001b[0m \u001b[38;5;66;03m# event, so ensure a mutex is used on the first run\u001b[39;00m\n\u001b[1;32m    914\u001b[0m \u001b[43mpool\u001b[49m\u001b[38;5;241;43m.\u001b[39;49m\u001b[43mdispatch\u001b[49m\u001b[38;5;241;43m.\u001b[39;49m\u001b[43mconnect\u001b[49m\u001b[38;5;241;43m.\u001b[39;49m\u001b[43mfor_modify\u001b[49m\u001b[43m(\u001b[49m\n\u001b[1;32m    915\u001b[0m \u001b[43m    \u001b[49m\u001b[43mpool\u001b[49m\u001b[38;5;241;43m.\u001b[39;49m\u001b[43mdispatch\u001b[49m\n\u001b[0;32m--> 916\u001b[0m \u001b[43m\u001b[49m\u001b[43m)\u001b[49m\u001b[38;5;241;43m.\u001b[39;49m\u001b[43m_exec_w_sync_on_first_run\u001b[49m\u001b[43m(\u001b[49m\u001b[38;5;28;43mself\u001b[39;49m\u001b[38;5;241;43m.\u001b[39;49m\u001b[43mdbapi_connection\u001b[49m\u001b[43m,\u001b[49m\u001b[43m \u001b[49m\u001b[38;5;28;43mself\u001b[39;49m\u001b[43m)\u001b[49m\n",
      "File \u001b[0;32m~/projects/maridata/MariGeoRoute/data/OpenSeaMap/venv/lib/python3.10/site-packages/sqlalchemy/event/attr.py:473\u001b[0m, in \u001b[0;36m_CompoundListener._exec_w_sync_on_first_run\u001b[0;34m(self, *args, **kw)\u001b[0m\n\u001b[1;32m    472\u001b[0m \u001b[38;5;28;01mtry\u001b[39;00m:\n\u001b[0;32m--> 473\u001b[0m     \u001b[38;5;28;43mself\u001b[39;49m\u001b[43m(\u001b[49m\u001b[38;5;241;43m*\u001b[39;49m\u001b[43margs\u001b[49m\u001b[43m,\u001b[49m\u001b[43m \u001b[49m\u001b[38;5;241;43m*\u001b[39;49m\u001b[38;5;241;43m*\u001b[39;49m\u001b[43mkw\u001b[49m\u001b[43m)\u001b[49m\n\u001b[1;32m    474\u001b[0m \u001b[38;5;28;01mexcept\u001b[39;00m:\n",
      "File \u001b[0;32m~/projects/maridata/MariGeoRoute/data/OpenSeaMap/venv/lib/python3.10/site-packages/sqlalchemy/event/attr.py:487\u001b[0m, in \u001b[0;36m_CompoundListener.__call__\u001b[0;34m(self, *args, **kw)\u001b[0m\n\u001b[1;32m    486\u001b[0m \u001b[38;5;28;01mfor\u001b[39;00m fn \u001b[38;5;129;01min\u001b[39;00m \u001b[38;5;28mself\u001b[39m\u001b[38;5;241m.\u001b[39mlisteners:\n\u001b[0;32m--> 487\u001b[0m     \u001b[43mfn\u001b[49m\u001b[43m(\u001b[49m\u001b[38;5;241;43m*\u001b[39;49m\u001b[43margs\u001b[49m\u001b[43m,\u001b[49m\u001b[43m \u001b[49m\u001b[38;5;241;43m*\u001b[39;49m\u001b[38;5;241;43m*\u001b[39;49m\u001b[43mkw\u001b[49m\u001b[43m)\u001b[49m\n",
      "Cell \u001b[0;32mIn[6], line 6\u001b[0m, in \u001b[0;36mconnect\u001b[0;34m(dbapi_connection, connection_rec)\u001b[0m\n\u001b[1;32m      5\u001b[0m dbapi_connection\u001b[38;5;241m.\u001b[39menable_load_extension(\u001b[38;5;28;01mTrue\u001b[39;00m)\n\u001b[0;32m----> 6\u001b[0m \u001b[43mdbapi_connection\u001b[49m\u001b[38;5;241;43m.\u001b[39;49m\u001b[43mexecute\u001b[49m\u001b[43m(\u001b[49m\u001b[38;5;124;43m'\u001b[39;49m\u001b[38;5;124;43mSELECT load_extension(\u001b[39;49m\u001b[38;5;124;43m\"\u001b[39;49m\u001b[38;5;124;43mmod_spatialite.dll\u001b[39;49m\u001b[38;5;124;43m\"\u001b[39;49m\u001b[38;5;124;43m)\u001b[39;49m\u001b[38;5;124;43m'\u001b[39;49m\u001b[43m)\u001b[49m\n",
      "\u001b[0;31mOperationalError\u001b[0m: mod_spatialite.dll.so: cannot open shared object file: No such file or directory",
      "\nThe above exception was the direct cause of the following exception:\n",
      "\u001b[0;31mOperationalError\u001b[0m                          Traceback (most recent call last)",
      "Cell \u001b[0;32mIn[24], line 1\u001b[0m\n\u001b[0;32m----> 1\u001b[0m \u001b[43mgpd\u001b[49m\u001b[38;5;241;43m.\u001b[39;49m\u001b[43mread_postgis\u001b[49m\u001b[43m(\u001b[49m\u001b[38;5;124;43m'\u001b[39;49m\u001b[38;5;124;43mSELECT *, geometry as geometry FROM nodes\u001b[39;49m\u001b[38;5;124;43m'\u001b[39;49m\u001b[43m,\u001b[49m\u001b[43m \u001b[49m\u001b[43mcon\u001b[49m\u001b[38;5;241;43m=\u001b[39;49m\u001b[43mengine\u001b[49m\u001b[43m,\u001b[49m\u001b[43mgeom_col\u001b[49m\u001b[38;5;241;43m=\u001b[39;49m\u001b[38;5;124;43m'\u001b[39;49m\u001b[38;5;124;43mgeometry\u001b[39;49m\u001b[38;5;124;43m'\u001b[39;49m\u001b[43m)\u001b[49m\u001b[38;5;241m.\u001b[39mdrop([\u001b[38;5;124m'\u001b[39m\u001b[38;5;124mGEOMETRY\u001b[39m\u001b[38;5;124m'\u001b[39m], axis\u001b[38;5;241m=\u001b[39m\u001b[38;5;241m1\u001b[39m)\n",
      "File \u001b[0;32m~/projects/maridata/MariGeoRoute/data/OpenSeaMap/venv/lib/python3.10/site-packages/geopandas/io/sql.py:170\u001b[0m, in \u001b[0;36m_read_postgis\u001b[0;34m(sql, con, geom_col, crs, index_col, coerce_float, parse_dates, params, chunksize)\u001b[0m\n\u001b[1;32m    120\u001b[0m \u001b[38;5;250m\u001b[39m\u001b[38;5;124;03m\"\"\"\u001b[39;00m\n\u001b[1;32m    121\u001b[0m \u001b[38;5;124;03mReturns a GeoDataFrame corresponding to the result of the query\u001b[39;00m\n\u001b[1;32m    122\u001b[0m \u001b[38;5;124;03mstring, which must contain a geometry column in WKB representation.\u001b[39;00m\n\u001b[0;32m   (...)\u001b[0m\n\u001b[1;32m    165\u001b[0m \u001b[38;5;124;03m>>> df = geopandas.read_postgis(sql, con)  # doctest: +SKIP\u001b[39;00m\n\u001b[1;32m    166\u001b[0m \u001b[38;5;124;03m\"\"\"\u001b[39;00m\n\u001b[1;32m    168\u001b[0m \u001b[38;5;28;01mif\u001b[39;00m chunksize \u001b[38;5;129;01mis\u001b[39;00m \u001b[38;5;28;01mNone\u001b[39;00m:\n\u001b[1;32m    169\u001b[0m     \u001b[38;5;66;03m# read all in one chunk and return a single GeoDataFrame\u001b[39;00m\n\u001b[0;32m--> 170\u001b[0m     df \u001b[38;5;241m=\u001b[39m \u001b[43mpd\u001b[49m\u001b[38;5;241;43m.\u001b[39;49m\u001b[43mread_sql\u001b[49m\u001b[43m(\u001b[49m\n\u001b[1;32m    171\u001b[0m \u001b[43m        \u001b[49m\u001b[43msql\u001b[49m\u001b[43m,\u001b[49m\n\u001b[1;32m    172\u001b[0m \u001b[43m        \u001b[49m\u001b[43mcon\u001b[49m\u001b[43m,\u001b[49m\n\u001b[1;32m    173\u001b[0m \u001b[43m        \u001b[49m\u001b[43mindex_col\u001b[49m\u001b[38;5;241;43m=\u001b[39;49m\u001b[43mindex_col\u001b[49m\u001b[43m,\u001b[49m\n\u001b[1;32m    174\u001b[0m \u001b[43m        \u001b[49m\u001b[43mcoerce_float\u001b[49m\u001b[38;5;241;43m=\u001b[39;49m\u001b[43mcoerce_float\u001b[49m\u001b[43m,\u001b[49m\n\u001b[1;32m    175\u001b[0m \u001b[43m        \u001b[49m\u001b[43mparse_dates\u001b[49m\u001b[38;5;241;43m=\u001b[39;49m\u001b[43mparse_dates\u001b[49m\u001b[43m,\u001b[49m\n\u001b[1;32m    176\u001b[0m \u001b[43m        \u001b[49m\u001b[43mparams\u001b[49m\u001b[38;5;241;43m=\u001b[39;49m\u001b[43mparams\u001b[49m\u001b[43m,\u001b[49m\n\u001b[1;32m    177\u001b[0m \u001b[43m        \u001b[49m\u001b[43mchunksize\u001b[49m\u001b[38;5;241;43m=\u001b[39;49m\u001b[43mchunksize\u001b[49m\u001b[43m,\u001b[49m\n\u001b[1;32m    178\u001b[0m \u001b[43m    \u001b[49m\u001b[43m)\u001b[49m\n\u001b[1;32m    179\u001b[0m     \u001b[38;5;28;01mreturn\u001b[39;00m _df_to_geodf(df, geom_col\u001b[38;5;241m=\u001b[39mgeom_col, crs\u001b[38;5;241m=\u001b[39mcrs)\n\u001b[1;32m    181\u001b[0m \u001b[38;5;28;01melse\u001b[39;00m:\n\u001b[1;32m    182\u001b[0m     \u001b[38;5;66;03m# read data in chunks and return a generator\u001b[39;00m\n",
      "File \u001b[0;32m~/projects/maridata/MariGeoRoute/data/OpenSeaMap/venv/lib/python3.10/site-packages/pandas/io/sql.py:631\u001b[0m, in \u001b[0;36mread_sql\u001b[0;34m(sql, con, index_col, coerce_float, params, parse_dates, columns, chunksize, dtype_backend, dtype)\u001b[0m\n\u001b[1;32m    628\u001b[0m \u001b[38;5;28;01mif\u001b[39;00m dtype_backend \u001b[38;5;129;01mis\u001b[39;00m lib\u001b[38;5;241m.\u001b[39mno_default:\n\u001b[1;32m    629\u001b[0m     dtype_backend \u001b[38;5;241m=\u001b[39m \u001b[38;5;124m\"\u001b[39m\u001b[38;5;124mnumpy\u001b[39m\u001b[38;5;124m\"\u001b[39m  \u001b[38;5;66;03m# type: ignore[assignment]\u001b[39;00m\n\u001b[0;32m--> 631\u001b[0m \u001b[38;5;28;01mwith\u001b[39;00m \u001b[43mpandasSQL_builder\u001b[49m\u001b[43m(\u001b[49m\u001b[43mcon\u001b[49m\u001b[43m)\u001b[49m \u001b[38;5;28;01mas\u001b[39;00m pandas_sql:\n\u001b[1;32m    632\u001b[0m     \u001b[38;5;28;01mif\u001b[39;00m \u001b[38;5;28misinstance\u001b[39m(pandas_sql, SQLiteDatabase):\n\u001b[1;32m    633\u001b[0m         \u001b[38;5;28;01mreturn\u001b[39;00m pandas_sql\u001b[38;5;241m.\u001b[39mread_query(\n\u001b[1;32m    634\u001b[0m             sql,\n\u001b[1;32m    635\u001b[0m             index_col\u001b[38;5;241m=\u001b[39mindex_col,\n\u001b[0;32m   (...)\u001b[0m\n\u001b[1;32m    641\u001b[0m             dtype\u001b[38;5;241m=\u001b[39mdtype,\n\u001b[1;32m    642\u001b[0m         )\n",
      "File \u001b[0;32m~/projects/maridata/MariGeoRoute/data/OpenSeaMap/venv/lib/python3.10/site-packages/pandas/io/sql.py:830\u001b[0m, in \u001b[0;36mpandasSQL_builder\u001b[0;34m(con, schema, need_transaction)\u001b[0m\n\u001b[1;32m    827\u001b[0m     \u001b[38;5;28;01mraise\u001b[39;00m \u001b[38;5;167;01mImportError\u001b[39;00m(\u001b[38;5;124m\"\u001b[39m\u001b[38;5;124mUsing URI string without sqlalchemy installed.\u001b[39m\u001b[38;5;124m\"\u001b[39m)\n\u001b[1;32m    829\u001b[0m \u001b[38;5;28;01mif\u001b[39;00m sqlalchemy \u001b[38;5;129;01mis\u001b[39;00m \u001b[38;5;129;01mnot\u001b[39;00m \u001b[38;5;28;01mNone\u001b[39;00m \u001b[38;5;129;01mand\u001b[39;00m \u001b[38;5;28misinstance\u001b[39m(con, (\u001b[38;5;28mstr\u001b[39m, sqlalchemy\u001b[38;5;241m.\u001b[39mengine\u001b[38;5;241m.\u001b[39mConnectable)):\n\u001b[0;32m--> 830\u001b[0m     \u001b[38;5;28;01mreturn\u001b[39;00m \u001b[43mSQLDatabase\u001b[49m\u001b[43m(\u001b[49m\u001b[43mcon\u001b[49m\u001b[43m,\u001b[49m\u001b[43m \u001b[49m\u001b[43mschema\u001b[49m\u001b[43m,\u001b[49m\u001b[43m \u001b[49m\u001b[43mneed_transaction\u001b[49m\u001b[43m)\u001b[49m\n\u001b[1;32m    832\u001b[0m warnings\u001b[38;5;241m.\u001b[39mwarn(\n\u001b[1;32m    833\u001b[0m     \u001b[38;5;124m\"\u001b[39m\u001b[38;5;124mpandas only supports SQLAlchemy connectable (engine/connection) or \u001b[39m\u001b[38;5;124m\"\u001b[39m\n\u001b[1;32m    834\u001b[0m     \u001b[38;5;124m\"\u001b[39m\u001b[38;5;124mdatabase string URI or sqlite3 DBAPI2 connection. Other DBAPI2 \u001b[39m\u001b[38;5;124m\"\u001b[39m\n\u001b[0;32m   (...)\u001b[0m\n\u001b[1;32m    837\u001b[0m     stacklevel\u001b[38;5;241m=\u001b[39mfind_stack_level(),\n\u001b[1;32m    838\u001b[0m )\n\u001b[1;32m    839\u001b[0m \u001b[38;5;28;01mreturn\u001b[39;00m SQLiteDatabase(con)\n",
      "File \u001b[0;32m~/projects/maridata/MariGeoRoute/data/OpenSeaMap/venv/lib/python3.10/site-packages/pandas/io/sql.py:1537\u001b[0m, in \u001b[0;36mSQLDatabase.__init__\u001b[0;34m(self, con, schema, need_transaction)\u001b[0m\n\u001b[1;32m   1535\u001b[0m     \u001b[38;5;28mself\u001b[39m\u001b[38;5;241m.\u001b[39mexit_stack\u001b[38;5;241m.\u001b[39mcallback(con\u001b[38;5;241m.\u001b[39mdispose)\n\u001b[1;32m   1536\u001b[0m \u001b[38;5;28;01mif\u001b[39;00m \u001b[38;5;28misinstance\u001b[39m(con, Engine):\n\u001b[0;32m-> 1537\u001b[0m     con \u001b[38;5;241m=\u001b[39m \u001b[38;5;28mself\u001b[39m\u001b[38;5;241m.\u001b[39mexit_stack\u001b[38;5;241m.\u001b[39menter_context(\u001b[43mcon\u001b[49m\u001b[38;5;241;43m.\u001b[39;49m\u001b[43mconnect\u001b[49m\u001b[43m(\u001b[49m\u001b[43m)\u001b[49m)\n\u001b[1;32m   1538\u001b[0m \u001b[38;5;28;01mif\u001b[39;00m need_transaction \u001b[38;5;129;01mand\u001b[39;00m \u001b[38;5;129;01mnot\u001b[39;00m con\u001b[38;5;241m.\u001b[39min_transaction():\n\u001b[1;32m   1539\u001b[0m     \u001b[38;5;28mself\u001b[39m\u001b[38;5;241m.\u001b[39mexit_stack\u001b[38;5;241m.\u001b[39menter_context(con\u001b[38;5;241m.\u001b[39mbegin())\n",
      "File \u001b[0;32m~/projects/maridata/MariGeoRoute/data/OpenSeaMap/venv/lib/python3.10/site-packages/sqlalchemy/engine/base.py:3269\u001b[0m, in \u001b[0;36mEngine.connect\u001b[0;34m(self)\u001b[0m\n\u001b[1;32m   3246\u001b[0m \u001b[38;5;28;01mdef\u001b[39;00m \u001b[38;5;21mconnect\u001b[39m(\u001b[38;5;28mself\u001b[39m) \u001b[38;5;241m-\u001b[39m\u001b[38;5;241m>\u001b[39m Connection:\n\u001b[1;32m   3247\u001b[0m \u001b[38;5;250m    \u001b[39m\u001b[38;5;124;03m\"\"\"Return a new :class:`_engine.Connection` object.\u001b[39;00m\n\u001b[1;32m   3248\u001b[0m \n\u001b[1;32m   3249\u001b[0m \u001b[38;5;124;03m    The :class:`_engine.Connection` acts as a Python context manager, so\u001b[39;00m\n\u001b[0;32m   (...)\u001b[0m\n\u001b[1;32m   3266\u001b[0m \n\u001b[1;32m   3267\u001b[0m \u001b[38;5;124;03m    \"\"\"\u001b[39;00m\n\u001b[0;32m-> 3269\u001b[0m     \u001b[38;5;28;01mreturn\u001b[39;00m \u001b[38;5;28;43mself\u001b[39;49m\u001b[38;5;241;43m.\u001b[39;49m\u001b[43m_connection_cls\u001b[49m\u001b[43m(\u001b[49m\u001b[38;5;28;43mself\u001b[39;49m\u001b[43m)\u001b[49m\n",
      "File \u001b[0;32m~/projects/maridata/MariGeoRoute/data/OpenSeaMap/venv/lib/python3.10/site-packages/sqlalchemy/engine/base.py:147\u001b[0m, in \u001b[0;36mConnection.__init__\u001b[0;34m(self, engine, connection, _has_events, _allow_revalidate, _allow_autobegin)\u001b[0m\n\u001b[1;32m    145\u001b[0m         \u001b[38;5;28mself\u001b[39m\u001b[38;5;241m.\u001b[39m_dbapi_connection \u001b[38;5;241m=\u001b[39m engine\u001b[38;5;241m.\u001b[39mraw_connection()\n\u001b[1;32m    146\u001b[0m     \u001b[38;5;28;01mexcept\u001b[39;00m dialect\u001b[38;5;241m.\u001b[39mloaded_dbapi\u001b[38;5;241m.\u001b[39mError \u001b[38;5;28;01mas\u001b[39;00m err:\n\u001b[0;32m--> 147\u001b[0m         \u001b[43mConnection\u001b[49m\u001b[38;5;241;43m.\u001b[39;49m\u001b[43m_handle_dbapi_exception_noconnection\u001b[49m\u001b[43m(\u001b[49m\n\u001b[1;32m    148\u001b[0m \u001b[43m            \u001b[49m\u001b[43merr\u001b[49m\u001b[43m,\u001b[49m\u001b[43m \u001b[49m\u001b[43mdialect\u001b[49m\u001b[43m,\u001b[49m\u001b[43m \u001b[49m\u001b[43mengine\u001b[49m\n\u001b[1;32m    149\u001b[0m \u001b[43m        \u001b[49m\u001b[43m)\u001b[49m\n\u001b[1;32m    150\u001b[0m         \u001b[38;5;28;01mraise\u001b[39;00m\n\u001b[1;32m    151\u001b[0m \u001b[38;5;28;01melse\u001b[39;00m:\n",
      "File \u001b[0;32m~/projects/maridata/MariGeoRoute/data/OpenSeaMap/venv/lib/python3.10/site-packages/sqlalchemy/engine/base.py:2431\u001b[0m, in \u001b[0;36mConnection._handle_dbapi_exception_noconnection\u001b[0;34m(cls, e, dialect, engine, is_disconnect, invalidate_pool_on_disconnect, is_pre_ping)\u001b[0m\n\u001b[1;32m   2429\u001b[0m \u001b[38;5;28;01melif\u001b[39;00m should_wrap:\n\u001b[1;32m   2430\u001b[0m     \u001b[38;5;28;01massert\u001b[39;00m sqlalchemy_exception \u001b[38;5;129;01mis\u001b[39;00m \u001b[38;5;129;01mnot\u001b[39;00m \u001b[38;5;28;01mNone\u001b[39;00m\n\u001b[0;32m-> 2431\u001b[0m     \u001b[38;5;28;01mraise\u001b[39;00m sqlalchemy_exception\u001b[38;5;241m.\u001b[39mwith_traceback(exc_info[\u001b[38;5;241m2\u001b[39m]) \u001b[38;5;28;01mfrom\u001b[39;00m \u001b[38;5;21;01me\u001b[39;00m\n\u001b[1;32m   2432\u001b[0m \u001b[38;5;28;01melse\u001b[39;00m:\n\u001b[1;32m   2433\u001b[0m     \u001b[38;5;28;01massert\u001b[39;00m exc_info[\u001b[38;5;241m1\u001b[39m] \u001b[38;5;129;01mis\u001b[39;00m \u001b[38;5;129;01mnot\u001b[39;00m \u001b[38;5;28;01mNone\u001b[39;00m\n",
      "File \u001b[0;32m~/projects/maridata/MariGeoRoute/data/OpenSeaMap/venv/lib/python3.10/site-packages/sqlalchemy/engine/base.py:145\u001b[0m, in \u001b[0;36mConnection.__init__\u001b[0;34m(self, engine, connection, _has_events, _allow_revalidate, _allow_autobegin)\u001b[0m\n\u001b[1;32m    143\u001b[0m \u001b[38;5;28;01mif\u001b[39;00m connection \u001b[38;5;129;01mis\u001b[39;00m \u001b[38;5;28;01mNone\u001b[39;00m:\n\u001b[1;32m    144\u001b[0m     \u001b[38;5;28;01mtry\u001b[39;00m:\n\u001b[0;32m--> 145\u001b[0m         \u001b[38;5;28mself\u001b[39m\u001b[38;5;241m.\u001b[39m_dbapi_connection \u001b[38;5;241m=\u001b[39m \u001b[43mengine\u001b[49m\u001b[38;5;241;43m.\u001b[39;49m\u001b[43mraw_connection\u001b[49m\u001b[43m(\u001b[49m\u001b[43m)\u001b[49m\n\u001b[1;32m    146\u001b[0m     \u001b[38;5;28;01mexcept\u001b[39;00m dialect\u001b[38;5;241m.\u001b[39mloaded_dbapi\u001b[38;5;241m.\u001b[39mError \u001b[38;5;28;01mas\u001b[39;00m err:\n\u001b[1;32m    147\u001b[0m         Connection\u001b[38;5;241m.\u001b[39m_handle_dbapi_exception_noconnection(\n\u001b[1;32m    148\u001b[0m             err, dialect, engine\n\u001b[1;32m    149\u001b[0m         )\n",
      "File \u001b[0;32m~/projects/maridata/MariGeoRoute/data/OpenSeaMap/venv/lib/python3.10/site-packages/sqlalchemy/engine/base.py:3293\u001b[0m, in \u001b[0;36mEngine.raw_connection\u001b[0;34m(self)\u001b[0m\n\u001b[1;32m   3271\u001b[0m \u001b[38;5;28;01mdef\u001b[39;00m \u001b[38;5;21mraw_connection\u001b[39m(\u001b[38;5;28mself\u001b[39m) \u001b[38;5;241m-\u001b[39m\u001b[38;5;241m>\u001b[39m PoolProxiedConnection:\n\u001b[1;32m   3272\u001b[0m \u001b[38;5;250m    \u001b[39m\u001b[38;5;124;03m\"\"\"Return a \"raw\" DBAPI connection from the connection pool.\u001b[39;00m\n\u001b[1;32m   3273\u001b[0m \n\u001b[1;32m   3274\u001b[0m \u001b[38;5;124;03m    The returned object is a proxied version of the DBAPI\u001b[39;00m\n\u001b[0;32m   (...)\u001b[0m\n\u001b[1;32m   3291\u001b[0m \n\u001b[1;32m   3292\u001b[0m \u001b[38;5;124;03m    \"\"\"\u001b[39;00m\n\u001b[0;32m-> 3293\u001b[0m     \u001b[38;5;28;01mreturn\u001b[39;00m \u001b[38;5;28;43mself\u001b[39;49m\u001b[38;5;241;43m.\u001b[39;49m\u001b[43mpool\u001b[49m\u001b[38;5;241;43m.\u001b[39;49m\u001b[43mconnect\u001b[49m\u001b[43m(\u001b[49m\u001b[43m)\u001b[49m\n",
      "File \u001b[0;32m~/projects/maridata/MariGeoRoute/data/OpenSeaMap/venv/lib/python3.10/site-packages/sqlalchemy/pool/base.py:452\u001b[0m, in \u001b[0;36mPool.connect\u001b[0;34m(self)\u001b[0m\n\u001b[1;32m    444\u001b[0m \u001b[38;5;28;01mdef\u001b[39;00m \u001b[38;5;21mconnect\u001b[39m(\u001b[38;5;28mself\u001b[39m) \u001b[38;5;241m-\u001b[39m\u001b[38;5;241m>\u001b[39m PoolProxiedConnection:\n\u001b[1;32m    445\u001b[0m \u001b[38;5;250m    \u001b[39m\u001b[38;5;124;03m\"\"\"Return a DBAPI connection from the pool.\u001b[39;00m\n\u001b[1;32m    446\u001b[0m \n\u001b[1;32m    447\u001b[0m \u001b[38;5;124;03m    The connection is instrumented such that when its\u001b[39;00m\n\u001b[0;32m   (...)\u001b[0m\n\u001b[1;32m    450\u001b[0m \n\u001b[1;32m    451\u001b[0m \u001b[38;5;124;03m    \"\"\"\u001b[39;00m\n\u001b[0;32m--> 452\u001b[0m     \u001b[38;5;28;01mreturn\u001b[39;00m \u001b[43m_ConnectionFairy\u001b[49m\u001b[38;5;241;43m.\u001b[39;49m\u001b[43m_checkout\u001b[49m\u001b[43m(\u001b[49m\u001b[38;5;28;43mself\u001b[39;49m\u001b[43m)\u001b[49m\n",
      "File \u001b[0;32m~/projects/maridata/MariGeoRoute/data/OpenSeaMap/venv/lib/python3.10/site-packages/sqlalchemy/pool/base.py:1268\u001b[0m, in \u001b[0;36m_ConnectionFairy._checkout\u001b[0;34m(cls, pool, threadconns, fairy)\u001b[0m\n\u001b[1;32m   1259\u001b[0m \u001b[38;5;129m@classmethod\u001b[39m\n\u001b[1;32m   1260\u001b[0m \u001b[38;5;28;01mdef\u001b[39;00m \u001b[38;5;21m_checkout\u001b[39m(\n\u001b[1;32m   1261\u001b[0m     \u001b[38;5;28mcls\u001b[39m,\n\u001b[0;32m   (...)\u001b[0m\n\u001b[1;32m   1264\u001b[0m     fairy: Optional[_ConnectionFairy] \u001b[38;5;241m=\u001b[39m \u001b[38;5;28;01mNone\u001b[39;00m,\n\u001b[1;32m   1265\u001b[0m ) \u001b[38;5;241m-\u001b[39m\u001b[38;5;241m>\u001b[39m _ConnectionFairy:\n\u001b[1;32m   1267\u001b[0m     \u001b[38;5;28;01mif\u001b[39;00m \u001b[38;5;129;01mnot\u001b[39;00m fairy:\n\u001b[0;32m-> 1268\u001b[0m         fairy \u001b[38;5;241m=\u001b[39m \u001b[43m_ConnectionRecord\u001b[49m\u001b[38;5;241;43m.\u001b[39;49m\u001b[43mcheckout\u001b[49m\u001b[43m(\u001b[49m\u001b[43mpool\u001b[49m\u001b[43m)\u001b[49m\n\u001b[1;32m   1270\u001b[0m         \u001b[38;5;28;01mif\u001b[39;00m threadconns \u001b[38;5;129;01mis\u001b[39;00m \u001b[38;5;129;01mnot\u001b[39;00m \u001b[38;5;28;01mNone\u001b[39;00m:\n\u001b[1;32m   1271\u001b[0m             threadconns\u001b[38;5;241m.\u001b[39mcurrent \u001b[38;5;241m=\u001b[39m weakref\u001b[38;5;241m.\u001b[39mref(fairy)\n",
      "File \u001b[0;32m~/projects/maridata/MariGeoRoute/data/OpenSeaMap/venv/lib/python3.10/site-packages/sqlalchemy/pool/base.py:716\u001b[0m, in \u001b[0;36m_ConnectionRecord.checkout\u001b[0;34m(cls, pool)\u001b[0m\n\u001b[1;32m    714\u001b[0m     rec \u001b[38;5;241m=\u001b[39m cast(_ConnectionRecord, pool\u001b[38;5;241m.\u001b[39m_do_get())\n\u001b[1;32m    715\u001b[0m \u001b[38;5;28;01melse\u001b[39;00m:\n\u001b[0;32m--> 716\u001b[0m     rec \u001b[38;5;241m=\u001b[39m \u001b[43mpool\u001b[49m\u001b[38;5;241;43m.\u001b[39;49m\u001b[43m_do_get\u001b[49m\u001b[43m(\u001b[49m\u001b[43m)\u001b[49m\n\u001b[1;32m    718\u001b[0m \u001b[38;5;28;01mtry\u001b[39;00m:\n\u001b[1;32m    719\u001b[0m     dbapi_connection \u001b[38;5;241m=\u001b[39m rec\u001b[38;5;241m.\u001b[39mget_connection()\n",
      "File \u001b[0;32m~/projects/maridata/MariGeoRoute/data/OpenSeaMap/venv/lib/python3.10/site-packages/sqlalchemy/pool/impl.py:168\u001b[0m, in \u001b[0;36mQueuePool._do_get\u001b[0;34m(self)\u001b[0m\n\u001b[1;32m    166\u001b[0m     \u001b[38;5;28;01mreturn\u001b[39;00m \u001b[38;5;28mself\u001b[39m\u001b[38;5;241m.\u001b[39m_create_connection()\n\u001b[1;32m    167\u001b[0m \u001b[38;5;28;01mexcept\u001b[39;00m:\n\u001b[0;32m--> 168\u001b[0m     \u001b[38;5;28;01mwith\u001b[39;00m util\u001b[38;5;241m.\u001b[39msafe_reraise():\n\u001b[1;32m    169\u001b[0m         \u001b[38;5;28mself\u001b[39m\u001b[38;5;241m.\u001b[39m_dec_overflow()\n\u001b[1;32m    170\u001b[0m     \u001b[38;5;28;01mraise\u001b[39;00m\n",
      "File \u001b[0;32m~/projects/maridata/MariGeoRoute/data/OpenSeaMap/venv/lib/python3.10/site-packages/sqlalchemy/util/langhelpers.py:147\u001b[0m, in \u001b[0;36msafe_reraise.__exit__\u001b[0;34m(self, type_, value, traceback)\u001b[0m\n\u001b[1;32m    145\u001b[0m     \u001b[38;5;28;01massert\u001b[39;00m exc_value \u001b[38;5;129;01mis\u001b[39;00m \u001b[38;5;129;01mnot\u001b[39;00m \u001b[38;5;28;01mNone\u001b[39;00m\n\u001b[1;32m    146\u001b[0m     \u001b[38;5;28mself\u001b[39m\u001b[38;5;241m.\u001b[39m_exc_info \u001b[38;5;241m=\u001b[39m \u001b[38;5;28;01mNone\u001b[39;00m  \u001b[38;5;66;03m# remove potential circular references\u001b[39;00m\n\u001b[0;32m--> 147\u001b[0m     \u001b[38;5;28;01mraise\u001b[39;00m exc_value\u001b[38;5;241m.\u001b[39mwith_traceback(exc_tb)\n\u001b[1;32m    148\u001b[0m \u001b[38;5;28;01melse\u001b[39;00m:\n\u001b[1;32m    149\u001b[0m     \u001b[38;5;28mself\u001b[39m\u001b[38;5;241m.\u001b[39m_exc_info \u001b[38;5;241m=\u001b[39m \u001b[38;5;28;01mNone\u001b[39;00m  \u001b[38;5;66;03m# remove potential circular references\u001b[39;00m\n",
      "File \u001b[0;32m~/projects/maridata/MariGeoRoute/data/OpenSeaMap/venv/lib/python3.10/site-packages/sqlalchemy/pool/impl.py:166\u001b[0m, in \u001b[0;36mQueuePool._do_get\u001b[0;34m(self)\u001b[0m\n\u001b[1;32m    164\u001b[0m \u001b[38;5;28;01mif\u001b[39;00m \u001b[38;5;28mself\u001b[39m\u001b[38;5;241m.\u001b[39m_inc_overflow():\n\u001b[1;32m    165\u001b[0m     \u001b[38;5;28;01mtry\u001b[39;00m:\n\u001b[0;32m--> 166\u001b[0m         \u001b[38;5;28;01mreturn\u001b[39;00m \u001b[38;5;28;43mself\u001b[39;49m\u001b[38;5;241;43m.\u001b[39;49m\u001b[43m_create_connection\u001b[49m\u001b[43m(\u001b[49m\u001b[43m)\u001b[49m\n\u001b[1;32m    167\u001b[0m     \u001b[38;5;28;01mexcept\u001b[39;00m:\n\u001b[1;32m    168\u001b[0m         \u001b[38;5;28;01mwith\u001b[39;00m util\u001b[38;5;241m.\u001b[39msafe_reraise():\n",
      "File \u001b[0;32m~/projects/maridata/MariGeoRoute/data/OpenSeaMap/venv/lib/python3.10/site-packages/sqlalchemy/pool/base.py:393\u001b[0m, in \u001b[0;36mPool._create_connection\u001b[0;34m(self)\u001b[0m\n\u001b[1;32m    390\u001b[0m \u001b[38;5;28;01mdef\u001b[39;00m \u001b[38;5;21m_create_connection\u001b[39m(\u001b[38;5;28mself\u001b[39m) \u001b[38;5;241m-\u001b[39m\u001b[38;5;241m>\u001b[39m ConnectionPoolEntry:\n\u001b[1;32m    391\u001b[0m \u001b[38;5;250m    \u001b[39m\u001b[38;5;124;03m\"\"\"Called by subclasses to create a new ConnectionRecord.\"\"\"\u001b[39;00m\n\u001b[0;32m--> 393\u001b[0m     \u001b[38;5;28;01mreturn\u001b[39;00m \u001b[43m_ConnectionRecord\u001b[49m\u001b[43m(\u001b[49m\u001b[38;5;28;43mself\u001b[39;49m\u001b[43m)\u001b[49m\n",
      "File \u001b[0;32m~/projects/maridata/MariGeoRoute/data/OpenSeaMap/venv/lib/python3.10/site-packages/sqlalchemy/pool/base.py:678\u001b[0m, in \u001b[0;36m_ConnectionRecord.__init__\u001b[0;34m(self, pool, connect)\u001b[0m\n\u001b[1;32m    676\u001b[0m \u001b[38;5;28mself\u001b[39m\u001b[38;5;241m.\u001b[39m__pool \u001b[38;5;241m=\u001b[39m pool\n\u001b[1;32m    677\u001b[0m \u001b[38;5;28;01mif\u001b[39;00m connect:\n\u001b[0;32m--> 678\u001b[0m     \u001b[38;5;28;43mself\u001b[39;49m\u001b[38;5;241;43m.\u001b[39;49m\u001b[43m__connect\u001b[49m\u001b[43m(\u001b[49m\u001b[43m)\u001b[49m\n\u001b[1;32m    679\u001b[0m \u001b[38;5;28mself\u001b[39m\u001b[38;5;241m.\u001b[39mfinalize_callback \u001b[38;5;241m=\u001b[39m deque()\n",
      "File \u001b[0;32m~/projects/maridata/MariGeoRoute/data/OpenSeaMap/venv/lib/python3.10/site-packages/sqlalchemy/pool/base.py:916\u001b[0m, in \u001b[0;36m_ConnectionRecord.__connect\u001b[0;34m(self)\u001b[0m\n\u001b[1;32m    908\u001b[0m     pool\u001b[38;5;241m.\u001b[39mdispatch\u001b[38;5;241m.\u001b[39mfirst_connect\u001b[38;5;241m.\u001b[39mfor_modify(\n\u001b[1;32m    909\u001b[0m         pool\u001b[38;5;241m.\u001b[39mdispatch\n\u001b[1;32m    910\u001b[0m     )\u001b[38;5;241m.\u001b[39mexec_once_unless_exception(\u001b[38;5;28mself\u001b[39m\u001b[38;5;241m.\u001b[39mdbapi_connection, \u001b[38;5;28mself\u001b[39m)\n\u001b[1;32m    912\u001b[0m \u001b[38;5;66;03m# init of the dialect now takes place within the connect\u001b[39;00m\n\u001b[1;32m    913\u001b[0m \u001b[38;5;66;03m# event, so ensure a mutex is used on the first run\u001b[39;00m\n\u001b[1;32m    914\u001b[0m \u001b[43mpool\u001b[49m\u001b[38;5;241;43m.\u001b[39;49m\u001b[43mdispatch\u001b[49m\u001b[38;5;241;43m.\u001b[39;49m\u001b[43mconnect\u001b[49m\u001b[38;5;241;43m.\u001b[39;49m\u001b[43mfor_modify\u001b[49m\u001b[43m(\u001b[49m\n\u001b[1;32m    915\u001b[0m \u001b[43m    \u001b[49m\u001b[43mpool\u001b[49m\u001b[38;5;241;43m.\u001b[39;49m\u001b[43mdispatch\u001b[49m\n\u001b[0;32m--> 916\u001b[0m \u001b[43m\u001b[49m\u001b[43m)\u001b[49m\u001b[38;5;241;43m.\u001b[39;49m\u001b[43m_exec_w_sync_on_first_run\u001b[49m\u001b[43m(\u001b[49m\u001b[38;5;28;43mself\u001b[39;49m\u001b[38;5;241;43m.\u001b[39;49m\u001b[43mdbapi_connection\u001b[49m\u001b[43m,\u001b[49m\u001b[43m \u001b[49m\u001b[38;5;28;43mself\u001b[39;49m\u001b[43m)\u001b[49m\n",
      "File \u001b[0;32m~/projects/maridata/MariGeoRoute/data/OpenSeaMap/venv/lib/python3.10/site-packages/sqlalchemy/event/attr.py:473\u001b[0m, in \u001b[0;36m_CompoundListener._exec_w_sync_on_first_run\u001b[0;34m(self, *args, **kw)\u001b[0m\n\u001b[1;32m    471\u001b[0m \u001b[38;5;28;01mwith\u001b[39;00m \u001b[38;5;28mself\u001b[39m\u001b[38;5;241m.\u001b[39m_exec_once_mutex:\n\u001b[1;32m    472\u001b[0m     \u001b[38;5;28;01mtry\u001b[39;00m:\n\u001b[0;32m--> 473\u001b[0m         \u001b[38;5;28;43mself\u001b[39;49m\u001b[43m(\u001b[49m\u001b[38;5;241;43m*\u001b[39;49m\u001b[43margs\u001b[49m\u001b[43m,\u001b[49m\u001b[43m \u001b[49m\u001b[38;5;241;43m*\u001b[39;49m\u001b[38;5;241;43m*\u001b[39;49m\u001b[43mkw\u001b[49m\u001b[43m)\u001b[49m\n\u001b[1;32m    474\u001b[0m     \u001b[38;5;28;01mexcept\u001b[39;00m:\n\u001b[1;32m    475\u001b[0m         \u001b[38;5;28;01mraise\u001b[39;00m\n",
      "File \u001b[0;32m~/projects/maridata/MariGeoRoute/data/OpenSeaMap/venv/lib/python3.10/site-packages/sqlalchemy/event/attr.py:487\u001b[0m, in \u001b[0;36m_CompoundListener.__call__\u001b[0;34m(self, *args, **kw)\u001b[0m\n\u001b[1;32m    485\u001b[0m     fn(\u001b[38;5;241m*\u001b[39margs, \u001b[38;5;241m*\u001b[39m\u001b[38;5;241m*\u001b[39mkw)\n\u001b[1;32m    486\u001b[0m \u001b[38;5;28;01mfor\u001b[39;00m fn \u001b[38;5;129;01min\u001b[39;00m \u001b[38;5;28mself\u001b[39m\u001b[38;5;241m.\u001b[39mlisteners:\n\u001b[0;32m--> 487\u001b[0m     \u001b[43mfn\u001b[49m\u001b[43m(\u001b[49m\u001b[38;5;241;43m*\u001b[39;49m\u001b[43margs\u001b[49m\u001b[43m,\u001b[49m\u001b[43m \u001b[49m\u001b[38;5;241;43m*\u001b[39;49m\u001b[38;5;241;43m*\u001b[39;49m\u001b[43mkw\u001b[49m\u001b[43m)\u001b[49m\n",
      "Cell \u001b[0;32mIn[6], line 6\u001b[0m, in \u001b[0;36mconnect\u001b[0;34m(dbapi_connection, connection_rec)\u001b[0m\n\u001b[1;32m      3\u001b[0m \u001b[38;5;129m@event\u001b[39m\u001b[38;5;241m.\u001b[39mlistens_for(engine, \u001b[38;5;124m'\u001b[39m\u001b[38;5;124mconnect\u001b[39m\u001b[38;5;124m'\u001b[39m)\n\u001b[1;32m      4\u001b[0m \u001b[38;5;28;01mdef\u001b[39;00m \u001b[38;5;21mconnect\u001b[39m(dbapi_connection, connection_rec):\n\u001b[1;32m      5\u001b[0m     dbapi_connection\u001b[38;5;241m.\u001b[39menable_load_extension(\u001b[38;5;28;01mTrue\u001b[39;00m)\n\u001b[0;32m----> 6\u001b[0m     \u001b[43mdbapi_connection\u001b[49m\u001b[38;5;241;43m.\u001b[39;49m\u001b[43mexecute\u001b[49m\u001b[43m(\u001b[49m\u001b[38;5;124;43m'\u001b[39;49m\u001b[38;5;124;43mSELECT load_extension(\u001b[39;49m\u001b[38;5;124;43m\"\u001b[39;49m\u001b[38;5;124;43mmod_spatialite.dll\u001b[39;49m\u001b[38;5;124;43m\"\u001b[39;49m\u001b[38;5;124;43m)\u001b[39;49m\u001b[38;5;124;43m'\u001b[39;49m\u001b[43m)\u001b[49m\n",
      "\u001b[0;31mOperationalError\u001b[0m: (sqlite3.OperationalError) mod_spatialite.dll.so: cannot open shared object file: No such file or directory\n(Background on this error at: https://sqlalche.me/e/20/e3q8)"
     ]
    }
   ],
   "source": [
    "gpd.read_postgis('SELECT *, geometry as geometry FROM nodes', con=engine,geom_col='geometry').drop(['GEOMETRY'], axis=1)"
   ]
  },
  {
   "cell_type": "code",
   "execution_count": 23,
   "id": "ba50bfdc",
   "metadata": {},
   "outputs": [
    {
     "data": {
      "text/plain": [
       "<sqlite3.Connection at 0x7ff543f70540>"
      ]
     },
     "execution_count": 23,
     "metadata": {},
     "output_type": "execute_result"
    }
   ],
   "source": [
    "conn = sqlite3.connect('gdfDB.sqlite')\n",
    "conn"
   ]
  },
  {
   "cell_type": "code",
   "execution_count": 19,
   "id": "2b091345",
   "metadata": {},
   "outputs": [
    {
     "data": {
      "text/html": [
       "<div>\n",
       "<style scoped>\n",
       "    .dataframe tbody tr th:only-of-type {\n",
       "        vertical-align: middle;\n",
       "    }\n",
       "\n",
       "    .dataframe tbody tr th {\n",
       "        vertical-align: top;\n",
       "    }\n",
       "\n",
       "    .dataframe thead th {\n",
       "        text-align: right;\n",
       "    }\n",
       "</style>\n",
       "<table border=\"1\" class=\"dataframe\">\n",
       "  <thead>\n",
       "    <tr style=\"text-align: right;\">\n",
       "      <th></th>\n",
       "      <th>ogc_fid</th>\n",
       "      <th>tags</th>\n",
       "      <th>geometry</th>\n",
       "    </tr>\n",
       "  </thead>\n",
       "  <tbody>\n",
       "    <tr>\n",
       "      <th>0</th>\n",
       "      <td>1</td>\n",
       "      <td>{\"waterway\": \"lock_gate\", \"seamark:type\": \"gate\"}</td>\n",
       "      <td>POINT (5.00000 15.00000)</td>\n",
       "    </tr>\n",
       "    <tr>\n",
       "      <th>1</th>\n",
       "      <td>2</td>\n",
       "      <td>{\"seamark:type\": \"harbour\"}</td>\n",
       "      <td>POINT (9.91950 57.06081)</td>\n",
       "    </tr>\n",
       "    <tr>\n",
       "      <th>2</th>\n",
       "      <td>3</td>\n",
       "      <td>{\"seamark:type\": \"buoy_cardinal\"}</td>\n",
       "      <td>POINT (12.01631 48.92595)</td>\n",
       "    </tr>\n",
       "    <tr>\n",
       "      <th>3</th>\n",
       "      <td>4</td>\n",
       "      <td>{\"seamark:type\": \"separation_boundary\"}</td>\n",
       "      <td>POINT (12.01631 48.92595)</td>\n",
       "    </tr>\n",
       "    <tr>\n",
       "      <th>4</th>\n",
       "      <td>5</td>\n",
       "      <td>{\"seamark:type\": \"separation_crossing\"}</td>\n",
       "      <td>POINT (12.01631 48.92595)</td>\n",
       "    </tr>\n",
       "    <tr>\n",
       "      <th>5</th>\n",
       "      <td>6</td>\n",
       "      <td>{\"seamark:type\": \"separation_lane\"}</td>\n",
       "      <td>POINT (12.01631 48.92595)</td>\n",
       "    </tr>\n",
       "    <tr>\n",
       "      <th>6</th>\n",
       "      <td>7</td>\n",
       "      <td>{\"seamark:type\": \"separation_roundabout\"}</td>\n",
       "      <td>POINT (12.01631 48.92595)</td>\n",
       "    </tr>\n",
       "    <tr>\n",
       "      <th>7</th>\n",
       "      <td>8</td>\n",
       "      <td>{\"seamark:type\": \"separation_zone\"}</td>\n",
       "      <td>POINT (12.01631 48.92595)</td>\n",
       "    </tr>\n",
       "    <tr>\n",
       "      <th>8</th>\n",
       "      <td>9</td>\n",
       "      <td>{\"seamark:type\": \"restricted_area\"}</td>\n",
       "      <td>POINT (12.01631 48.92595)</td>\n",
       "    </tr>\n",
       "  </tbody>\n",
       "</table>\n",
       "</div>"
      ],
      "text/plain": [
       "   ogc_fid                                               tags   \n",
       "0        1  {\"waterway\": \"lock_gate\", \"seamark:type\": \"gate\"}  \\\n",
       "1        2                        {\"seamark:type\": \"harbour\"}   \n",
       "2        3                  {\"seamark:type\": \"buoy_cardinal\"}   \n",
       "3        4            {\"seamark:type\": \"separation_boundary\"}   \n",
       "4        5            {\"seamark:type\": \"separation_crossing\"}   \n",
       "5        6                {\"seamark:type\": \"separation_lane\"}   \n",
       "6        7          {\"seamark:type\": \"separation_roundabout\"}   \n",
       "7        8                {\"seamark:type\": \"separation_zone\"}   \n",
       "8        9                {\"seamark:type\": \"restricted_area\"}   \n",
       "\n",
       "                    geometry  \n",
       "0   POINT (5.00000 15.00000)  \n",
       "1   POINT (9.91950 57.06081)  \n",
       "2  POINT (12.01631 48.92595)  \n",
       "3  POINT (12.01631 48.92595)  \n",
       "4  POINT (12.01631 48.92595)  \n",
       "5  POINT (12.01631 48.92595)  \n",
       "6  POINT (12.01631 48.92595)  \n",
       "7  POINT (12.01631 48.92595)  \n",
       "8  POINT (12.01631 48.92595)  "
      ]
     },
     "execution_count": 19,
     "metadata": {},
     "output_type": "execute_result"
    }
   ],
   "source": [
    "gpd.read_postgis('SELECT *, geometry as geometry FROM nodes', con=conn,geom_col='geometry').drop(['GEOMETRY'], axis=1)"
   ]
  },
  {
   "cell_type": "code",
   "execution_count": 147,
   "id": "e9e474fb",
   "metadata": {},
   "outputs": [
    {
     "data": {
      "text/plain": [
       "<sqlite3.Connection at 0x7f77e7146d40>"
      ]
     },
     "execution_count": 147,
     "metadata": {},
     "output_type": "execute_result"
    }
   ],
   "source": [
    "conn"
   ]
  },
  {
   "cell_type": "code",
   "execution_count": 139,
   "id": "dfb0ecc4",
   "metadata": {},
   "outputs": [
    {
     "data": {
      "text/html": [
       "<div>\n",
       "<style scoped>\n",
       "    .dataframe tbody tr th:only-of-type {\n",
       "        vertical-align: middle;\n",
       "    }\n",
       "\n",
       "    .dataframe tbody tr th {\n",
       "        vertical-align: top;\n",
       "    }\n",
       "\n",
       "    .dataframe thead th {\n",
       "        text-align: right;\n",
       "    }\n",
       "</style>\n",
       "<table border=\"1\" class=\"dataframe\">\n",
       "  <thead>\n",
       "    <tr style=\"text-align: right;\">\n",
       "      <th></th>\n",
       "      <th>ogc_fid</th>\n",
       "      <th>geom</th>\n",
       "      <th>tags</th>\n",
       "    </tr>\n",
       "  </thead>\n",
       "  <tbody>\n",
       "    <tr>\n",
       "      <th>0</th>\n",
       "      <td>1</td>\n",
       "      <td>b'\\x01\\x01\\x00\\x00\\x00\\x00\\x00\\x00\\x00\\x00\\x00...</td>\n",
       "      <td>{\"waterway\": \"lock_gate\", \"seamark:type\": \"gate\"}</td>\n",
       "    </tr>\n",
       "    <tr>\n",
       "      <th>1</th>\n",
       "      <td>2</td>\n",
       "      <td>b'\\x01\\x01\\x00\\x00\\x00\\x10X9\\xb4\\xc8\\xd6#@\\x87...</td>\n",
       "      <td>{\"seamark:type\": \"harbour\"}</td>\n",
       "    </tr>\n",
       "    <tr>\n",
       "      <th>2</th>\n",
       "      <td>3</td>\n",
       "      <td>b'\\x01\\x01\\x00\\x00\\x00\\x0e2\\xc9\\xc8Y\\x08(@\\x98...</td>\n",
       "      <td>{\"seamark:type\": \"buoy_cardinal\"}</td>\n",
       "    </tr>\n",
       "    <tr>\n",
       "      <th>3</th>\n",
       "      <td>4</td>\n",
       "      <td>b'\\x01\\x01\\x00\\x00\\x00\\x0e2\\xc9\\xc8Y\\x08(@\\x98...</td>\n",
       "      <td>{\"seamark:type\": \"separation_boundary\"}</td>\n",
       "    </tr>\n",
       "    <tr>\n",
       "      <th>4</th>\n",
       "      <td>5</td>\n",
       "      <td>b'\\x01\\x01\\x00\\x00\\x00\\x0e2\\xc9\\xc8Y\\x08(@\\x98...</td>\n",
       "      <td>{\"seamark:type\": \"separation_crossing\"}</td>\n",
       "    </tr>\n",
       "    <tr>\n",
       "      <th>5</th>\n",
       "      <td>6</td>\n",
       "      <td>b'\\x01\\x01\\x00\\x00\\x00\\x0e2\\xc9\\xc8Y\\x08(@\\x98...</td>\n",
       "      <td>{\"seamark:type\": \"separation_lane\"}</td>\n",
       "    </tr>\n",
       "    <tr>\n",
       "      <th>6</th>\n",
       "      <td>7</td>\n",
       "      <td>b'\\x01\\x01\\x00\\x00\\x00\\x0e2\\xc9\\xc8Y\\x08(@\\x98...</td>\n",
       "      <td>{\"seamark:type\": \"separation_roundabout\"}</td>\n",
       "    </tr>\n",
       "    <tr>\n",
       "      <th>7</th>\n",
       "      <td>8</td>\n",
       "      <td>b'\\x01\\x01\\x00\\x00\\x00\\x0e2\\xc9\\xc8Y\\x08(@\\x98...</td>\n",
       "      <td>{\"seamark:type\": \"separation_zone\"}</td>\n",
       "    </tr>\n",
       "    <tr>\n",
       "      <th>8</th>\n",
       "      <td>9</td>\n",
       "      <td>b'\\x01\\x01\\x00\\x00\\x00\\x0e2\\xc9\\xc8Y\\x08(@\\x98...</td>\n",
       "      <td>{\"seamark:type\": \"restricted_area\"}</td>\n",
       "    </tr>\n",
       "  </tbody>\n",
       "</table>\n",
       "</div>"
      ],
      "text/plain": [
       "   ogc_fid                                               geom   \n",
       "0        1  b'\\x01\\x01\\x00\\x00\\x00\\x00\\x00\\x00\\x00\\x00\\x00...  \\\n",
       "1        2  b'\\x01\\x01\\x00\\x00\\x00\\x10X9\\xb4\\xc8\\xd6#@\\x87...   \n",
       "2        3  b'\\x01\\x01\\x00\\x00\\x00\\x0e2\\xc9\\xc8Y\\x08(@\\x98...   \n",
       "3        4  b'\\x01\\x01\\x00\\x00\\x00\\x0e2\\xc9\\xc8Y\\x08(@\\x98...   \n",
       "4        5  b'\\x01\\x01\\x00\\x00\\x00\\x0e2\\xc9\\xc8Y\\x08(@\\x98...   \n",
       "5        6  b'\\x01\\x01\\x00\\x00\\x00\\x0e2\\xc9\\xc8Y\\x08(@\\x98...   \n",
       "6        7  b'\\x01\\x01\\x00\\x00\\x00\\x0e2\\xc9\\xc8Y\\x08(@\\x98...   \n",
       "7        8  b'\\x01\\x01\\x00\\x00\\x00\\x0e2\\xc9\\xc8Y\\x08(@\\x98...   \n",
       "8        9  b'\\x01\\x01\\x00\\x00\\x00\\x0e2\\xc9\\xc8Y\\x08(@\\x98...   \n",
       "\n",
       "                                                tags  \n",
       "0  {\"waterway\": \"lock_gate\", \"seamark:type\": \"gate\"}  \n",
       "1                        {\"seamark:type\": \"harbour\"}  \n",
       "2                  {\"seamark:type\": \"buoy_cardinal\"}  \n",
       "3            {\"seamark:type\": \"separation_boundary\"}  \n",
       "4            {\"seamark:type\": \"separation_crossing\"}  \n",
       "5                {\"seamark:type\": \"separation_lane\"}  \n",
       "6          {\"seamark:type\": \"separation_roundabout\"}  \n",
       "7                {\"seamark:type\": \"separation_zone\"}  \n",
       "8                {\"seamark:type\": \"restricted_area\"}  "
      ]
     },
     "execution_count": 139,
     "metadata": {},
     "output_type": "execute_result"
    }
   ],
   "source": [
    "gdf = pd.read_sql('SELECT * FROM nodes', conn)\n",
    "gdf.rename(columns={'GEOMETRY':'geom'}, inplace=True)\n",
    "gdf"
   ]
  },
  {
   "cell_type": "code",
   "execution_count": 135,
   "id": "f3435b4b",
   "metadata": {
    "collapsed": true
   },
   "outputs": [
    {
     "ename": "TypeError",
     "evalue": "One of the arguments is of incorrect type. Please provide only Geometry objects.",
     "output_type": "error",
     "traceback": [
      "\u001b[0;31m---------------------------------------------------------------------------\u001b[0m",
      "\u001b[0;31mTypeError\u001b[0m                                 Traceback (most recent call last)",
      "Cell \u001b[0;32mIn[135], line 1\u001b[0m\n\u001b[0;32m----> 1\u001b[0m gdf[\u001b[38;5;124m'\u001b[39m\u001b[38;5;124mgeom\u001b[39m\u001b[38;5;124m'\u001b[39m] \u001b[38;5;241m=\u001b[39m \u001b[43mgdf\u001b[49m\u001b[38;5;241;43m.\u001b[39;49m\u001b[43mapply\u001b[49m\u001b[43m(\u001b[49m\u001b[38;5;28;43;01mlambda\u001b[39;49;00m\u001b[43m \u001b[49m\u001b[43mx\u001b[49m\u001b[43m:\u001b[49m\u001b[43m \u001b[49m\u001b[43mshapely\u001b[49m\u001b[38;5;241;43m.\u001b[39;49m\u001b[43mwkb\u001b[49m\u001b[38;5;241;43m.\u001b[39;49m\u001b[43mdumps\u001b[49m\u001b[43m(\u001b[49m\u001b[43mx\u001b[49m\u001b[38;5;241;43m.\u001b[39;49m\u001b[43mgeom\u001b[49m\u001b[43m)\u001b[49m\u001b[43m,\u001b[49m\u001b[43m \u001b[49m\u001b[43maxis\u001b[49m\u001b[38;5;241;43m=\u001b[39;49m\u001b[38;5;241;43m1\u001b[39;49m\u001b[43m)\u001b[49m\n",
      "File \u001b[0;32m~/projects/maridata/MariGeoRoute/data/OpenSeaMap/venv/lib/python3.10/site-packages/pandas/core/frame.py:9433\u001b[0m, in \u001b[0;36mDataFrame.apply\u001b[0;34m(self, func, axis, raw, result_type, args, **kwargs)\u001b[0m\n\u001b[1;32m   9422\u001b[0m \u001b[38;5;28;01mfrom\u001b[39;00m \u001b[38;5;21;01mpandas\u001b[39;00m\u001b[38;5;21;01m.\u001b[39;00m\u001b[38;5;21;01mcore\u001b[39;00m\u001b[38;5;21;01m.\u001b[39;00m\u001b[38;5;21;01mapply\u001b[39;00m \u001b[38;5;28;01mimport\u001b[39;00m frame_apply\n\u001b[1;32m   9424\u001b[0m op \u001b[38;5;241m=\u001b[39m frame_apply(\n\u001b[1;32m   9425\u001b[0m     \u001b[38;5;28mself\u001b[39m,\n\u001b[1;32m   9426\u001b[0m     func\u001b[38;5;241m=\u001b[39mfunc,\n\u001b[0;32m   (...)\u001b[0m\n\u001b[1;32m   9431\u001b[0m     kwargs\u001b[38;5;241m=\u001b[39mkwargs,\n\u001b[1;32m   9432\u001b[0m )\n\u001b[0;32m-> 9433\u001b[0m \u001b[38;5;28;01mreturn\u001b[39;00m \u001b[43mop\u001b[49m\u001b[38;5;241;43m.\u001b[39;49m\u001b[43mapply\u001b[49m\u001b[43m(\u001b[49m\u001b[43m)\u001b[49m\u001b[38;5;241m.\u001b[39m__finalize__(\u001b[38;5;28mself\u001b[39m, method\u001b[38;5;241m=\u001b[39m\u001b[38;5;124m\"\u001b[39m\u001b[38;5;124mapply\u001b[39m\u001b[38;5;124m\"\u001b[39m)\n",
      "File \u001b[0;32m~/projects/maridata/MariGeoRoute/data/OpenSeaMap/venv/lib/python3.10/site-packages/pandas/core/apply.py:678\u001b[0m, in \u001b[0;36mFrameApply.apply\u001b[0;34m(self)\u001b[0m\n\u001b[1;32m    675\u001b[0m \u001b[38;5;28;01melif\u001b[39;00m \u001b[38;5;28mself\u001b[39m\u001b[38;5;241m.\u001b[39mraw:\n\u001b[1;32m    676\u001b[0m     \u001b[38;5;28;01mreturn\u001b[39;00m \u001b[38;5;28mself\u001b[39m\u001b[38;5;241m.\u001b[39mapply_raw()\n\u001b[0;32m--> 678\u001b[0m \u001b[38;5;28;01mreturn\u001b[39;00m \u001b[38;5;28;43mself\u001b[39;49m\u001b[38;5;241;43m.\u001b[39;49m\u001b[43mapply_standard\u001b[49m\u001b[43m(\u001b[49m\u001b[43m)\u001b[49m\n",
      "File \u001b[0;32m~/projects/maridata/MariGeoRoute/data/OpenSeaMap/venv/lib/python3.10/site-packages/pandas/core/apply.py:798\u001b[0m, in \u001b[0;36mFrameApply.apply_standard\u001b[0;34m(self)\u001b[0m\n\u001b[1;32m    797\u001b[0m \u001b[38;5;28;01mdef\u001b[39;00m \u001b[38;5;21mapply_standard\u001b[39m(\u001b[38;5;28mself\u001b[39m):\n\u001b[0;32m--> 798\u001b[0m     results, res_index \u001b[38;5;241m=\u001b[39m \u001b[38;5;28;43mself\u001b[39;49m\u001b[38;5;241;43m.\u001b[39;49m\u001b[43mapply_series_generator\u001b[49m\u001b[43m(\u001b[49m\u001b[43m)\u001b[49m\n\u001b[1;32m    800\u001b[0m     \u001b[38;5;66;03m# wrap results\u001b[39;00m\n\u001b[1;32m    801\u001b[0m     \u001b[38;5;28;01mreturn\u001b[39;00m \u001b[38;5;28mself\u001b[39m\u001b[38;5;241m.\u001b[39mwrap_results(results, res_index)\n",
      "File \u001b[0;32m~/projects/maridata/MariGeoRoute/data/OpenSeaMap/venv/lib/python3.10/site-packages/pandas/core/apply.py:814\u001b[0m, in \u001b[0;36mFrameApply.apply_series_generator\u001b[0;34m(self)\u001b[0m\n\u001b[1;32m    811\u001b[0m \u001b[38;5;28;01mwith\u001b[39;00m option_context(\u001b[38;5;124m\"\u001b[39m\u001b[38;5;124mmode.chained_assignment\u001b[39m\u001b[38;5;124m\"\u001b[39m, \u001b[38;5;28;01mNone\u001b[39;00m):\n\u001b[1;32m    812\u001b[0m     \u001b[38;5;28;01mfor\u001b[39;00m i, v \u001b[38;5;129;01min\u001b[39;00m \u001b[38;5;28menumerate\u001b[39m(series_gen):\n\u001b[1;32m    813\u001b[0m         \u001b[38;5;66;03m# ignore SettingWithCopy here in case the user mutates\u001b[39;00m\n\u001b[0;32m--> 814\u001b[0m         results[i] \u001b[38;5;241m=\u001b[39m \u001b[38;5;28;43mself\u001b[39;49m\u001b[38;5;241;43m.\u001b[39;49m\u001b[43mf\u001b[49m\u001b[43m(\u001b[49m\u001b[43mv\u001b[49m\u001b[43m)\u001b[49m\n\u001b[1;32m    815\u001b[0m         \u001b[38;5;28;01mif\u001b[39;00m \u001b[38;5;28misinstance\u001b[39m(results[i], ABCSeries):\n\u001b[1;32m    816\u001b[0m             \u001b[38;5;66;03m# If we have a view on v, we need to make a copy because\u001b[39;00m\n\u001b[1;32m    817\u001b[0m             \u001b[38;5;66;03m#  series_generator will swap out the underlying data\u001b[39;00m\n\u001b[1;32m    818\u001b[0m             results[i] \u001b[38;5;241m=\u001b[39m results[i]\u001b[38;5;241m.\u001b[39mcopy(deep\u001b[38;5;241m=\u001b[39m\u001b[38;5;28;01mFalse\u001b[39;00m)\n",
      "Cell \u001b[0;32mIn[135], line 1\u001b[0m, in \u001b[0;36m<lambda>\u001b[0;34m(x)\u001b[0m\n\u001b[0;32m----> 1\u001b[0m gdf[\u001b[38;5;124m'\u001b[39m\u001b[38;5;124mgeom\u001b[39m\u001b[38;5;124m'\u001b[39m] \u001b[38;5;241m=\u001b[39m gdf\u001b[38;5;241m.\u001b[39mapply(\u001b[38;5;28;01mlambda\u001b[39;00m x: \u001b[43mshapely\u001b[49m\u001b[38;5;241;43m.\u001b[39;49m\u001b[43mwkb\u001b[49m\u001b[38;5;241;43m.\u001b[39;49m\u001b[43mdumps\u001b[49m\u001b[43m(\u001b[49m\u001b[43mx\u001b[49m\u001b[38;5;241;43m.\u001b[39;49m\u001b[43mgeom\u001b[49m\u001b[43m)\u001b[49m, axis\u001b[38;5;241m=\u001b[39m\u001b[38;5;241m1\u001b[39m)\n",
      "File \u001b[0;32m~/projects/maridata/MariGeoRoute/data/OpenSeaMap/venv/lib/python3.10/site-packages/shapely/wkb.py:59\u001b[0m, in \u001b[0;36mdumps\u001b[0;34m(ob, hex, srid, **kw)\u001b[0m\n\u001b[1;32m     57\u001b[0m     byte_order \u001b[38;5;241m=\u001b[39m \u001b[38;5;241m0\u001b[39m \u001b[38;5;28;01mif\u001b[39;00m big_endian \u001b[38;5;28;01melse\u001b[39;00m \u001b[38;5;241m1\u001b[39m\n\u001b[1;32m     58\u001b[0m     kw\u001b[38;5;241m.\u001b[39mupdate(byte_order\u001b[38;5;241m=\u001b[39mbyte_order)\n\u001b[0;32m---> 59\u001b[0m \u001b[38;5;28;01mreturn\u001b[39;00m \u001b[43mshapely\u001b[49m\u001b[38;5;241;43m.\u001b[39;49m\u001b[43mto_wkb\u001b[49m\u001b[43m(\u001b[49m\u001b[43mob\u001b[49m\u001b[43m,\u001b[49m\u001b[43m \u001b[49m\u001b[38;5;28;43mhex\u001b[39;49m\u001b[38;5;241;43m=\u001b[39;49m\u001b[38;5;28;43mhex\u001b[39;49m\u001b[43m,\u001b[49m\u001b[43m \u001b[49m\u001b[38;5;241;43m*\u001b[39;49m\u001b[38;5;241;43m*\u001b[39;49m\u001b[43mkw\u001b[49m\u001b[43m)\u001b[49m\n",
      "File \u001b[0;32m~/projects/maridata/MariGeoRoute/data/OpenSeaMap/venv/lib/python3.10/site-packages/shapely/io.py:194\u001b[0m, in \u001b[0;36mto_wkb\u001b[0;34m(geometry, hex, output_dimension, byte_order, include_srid, flavor, **kwargs)\u001b[0m\n\u001b[1;32m    191\u001b[0m     \u001b[38;5;28;01mraise\u001b[39;00m \u001b[38;5;167;01mValueError\u001b[39;00m(\u001b[38;5;124m'\u001b[39m\u001b[38;5;124mflavor=\u001b[39m\u001b[38;5;124m\"\u001b[39m\u001b[38;5;124miso\u001b[39m\u001b[38;5;124m\"\u001b[39m\u001b[38;5;124m and include_srid=True cannot be used together\u001b[39m\u001b[38;5;124m'\u001b[39m)\n\u001b[1;32m    192\u001b[0m flavor \u001b[38;5;241m=\u001b[39m WKBFlavorOptions\u001b[38;5;241m.\u001b[39mget_value(flavor)\n\u001b[0;32m--> 194\u001b[0m \u001b[38;5;28;01mreturn\u001b[39;00m \u001b[43mlib\u001b[49m\u001b[38;5;241;43m.\u001b[39;49m\u001b[43mto_wkb\u001b[49m\u001b[43m(\u001b[49m\n\u001b[1;32m    195\u001b[0m \u001b[43m    \u001b[49m\u001b[43mgeometry\u001b[49m\u001b[43m,\u001b[49m\n\u001b[1;32m    196\u001b[0m \u001b[43m    \u001b[49m\u001b[43mnp\u001b[49m\u001b[38;5;241;43m.\u001b[39;49m\u001b[43mbool_\u001b[49m\u001b[43m(\u001b[49m\u001b[38;5;28;43mhex\u001b[39;49m\u001b[43m)\u001b[49m\u001b[43m,\u001b[49m\n\u001b[1;32m    197\u001b[0m \u001b[43m    \u001b[49m\u001b[43mnp\u001b[49m\u001b[38;5;241;43m.\u001b[39;49m\u001b[43mintc\u001b[49m\u001b[43m(\u001b[49m\u001b[43moutput_dimension\u001b[49m\u001b[43m)\u001b[49m\u001b[43m,\u001b[49m\n\u001b[1;32m    198\u001b[0m \u001b[43m    \u001b[49m\u001b[43mnp\u001b[49m\u001b[38;5;241;43m.\u001b[39;49m\u001b[43mintc\u001b[49m\u001b[43m(\u001b[49m\u001b[43mbyte_order\u001b[49m\u001b[43m)\u001b[49m\u001b[43m,\u001b[49m\n\u001b[1;32m    199\u001b[0m \u001b[43m    \u001b[49m\u001b[43mnp\u001b[49m\u001b[38;5;241;43m.\u001b[39;49m\u001b[43mbool_\u001b[49m\u001b[43m(\u001b[49m\u001b[43minclude_srid\u001b[49m\u001b[43m)\u001b[49m\u001b[43m,\u001b[49m\n\u001b[1;32m    200\u001b[0m \u001b[43m    \u001b[49m\u001b[43mnp\u001b[49m\u001b[38;5;241;43m.\u001b[39;49m\u001b[43mintc\u001b[49m\u001b[43m(\u001b[49m\u001b[43mflavor\u001b[49m\u001b[43m)\u001b[49m\u001b[43m,\u001b[49m\n\u001b[1;32m    201\u001b[0m \u001b[43m    \u001b[49m\u001b[38;5;241;43m*\u001b[39;49m\u001b[38;5;241;43m*\u001b[39;49m\u001b[43mkwargs\u001b[49m\u001b[43m,\u001b[49m\n\u001b[1;32m    202\u001b[0m \u001b[43m\u001b[49m\u001b[43m)\u001b[49m\n",
      "\u001b[0;31mTypeError\u001b[0m: One of the arguments is of incorrect type. Please provide only Geometry objects."
     ]
    }
   ],
   "source": [
    "gdf['geom'] = gdf.apply(lambda x: shapely.wkb.dumps(x.geom), axis=1)"
   ]
  },
  {
   "cell_type": "code",
   "execution_count": null,
   "id": "bae85995",
   "metadata": {},
   "outputs": [],
   "source": []
  },
  {
   "cell_type": "code",
   "execution_count": 17,
   "id": "fb10bf80",
   "metadata": {},
   "outputs": [],
   "source": [
    "seamark_object = ['ways', 'nodes']\n",
    "seamark_list = ['separation_line','separation_zone']\n",
    "tags = ['separation_zone', 'separation_line', 'separation_lane', 'restricted_area' ,'separation_roundabout']"
   ]
  },
  {
   "cell_type": "code",
   "execution_count": 25,
   "id": "0c5577b8",
   "metadata": {},
   "outputs": [
    {
     "name": "stdout",
     "output_type": "stream",
     "text": [
      "{'waterway': 'lock_gate', 'seamark:type': 'gate'}\n"
     ]
    },
    {
     "data": {
      "text/html": [
       "<div>\n",
       "<style scoped>\n",
       "    .dataframe tbody tr th:only-of-type {\n",
       "        vertical-align: middle;\n",
       "    }\n",
       "\n",
       "    .dataframe tbody tr th {\n",
       "        vertical-align: top;\n",
       "    }\n",
       "\n",
       "    .dataframe thead th {\n",
       "        text-align: right;\n",
       "    }\n",
       "</style>\n",
       "<table border=\"1\" class=\"dataframe\">\n",
       "  <thead>\n",
       "    <tr style=\"text-align: right;\">\n",
       "      <th></th>\n",
       "      <th>id</th>\n",
       "      <th>version</th>\n",
       "      <th>user_id</th>\n",
       "      <th>tstamp</th>\n",
       "      <th>changeset_id</th>\n",
       "      <th>tags</th>\n",
       "      <th>geom</th>\n",
       "      <th>geometry</th>\n",
       "      <th>nodes</th>\n",
       "      <th>linestring</th>\n",
       "    </tr>\n",
       "  </thead>\n",
       "  <tbody>\n",
       "    <tr>\n",
       "      <th>429</th>\n",
       "      <td>173232538</td>\n",
       "      <td>1</td>\n",
       "      <td>84409</td>\n",
       "      <td>2012-07-28 07:15:40</td>\n",
       "      <td>12519538</td>\n",
       "      <td>{'seamark:type': 'separation_line'}</td>\n",
       "      <td>LINESTRING (24.4507557 59.4998465, 24.5000132 ...</td>\n",
       "      <td>None</td>\n",
       "      <td>[1840889314, 1840889316]</td>\n",
       "      <td>0102000020E6100000020000004FFCBDB9647338409142...</td>\n",
       "    </tr>\n",
       "    <tr>\n",
       "      <th>5461</th>\n",
       "      <td>112191577</td>\n",
       "      <td>1</td>\n",
       "      <td>128186</td>\n",
       "      <td>2011-05-07 18:09:08</td>\n",
       "      <td>8075573</td>\n",
       "      <td>{'seamark:type': 'separation_line'}</td>\n",
       "      <td>LINESTRING (0.1607495 53.5454742, 0.118768 53....</td>\n",
       "      <td>None</td>\n",
       "      <td>[838703657, 838703660]</td>\n",
       "      <td>0102000020E610000002000000CC96AC8A7093C43FE8E7...</td>\n",
       "    </tr>\n",
       "    <tr>\n",
       "      <th>5466</th>\n",
       "      <td>112284719</td>\n",
       "      <td>1</td>\n",
       "      <td>128186</td>\n",
       "      <td>2011-05-08 05:42:39</td>\n",
       "      <td>8079069</td>\n",
       "      <td>{'seamark:type': 'separation_line'}</td>\n",
       "      <td>LINESTRING (0.18577 53.544467, 0.219933 53.54697)</td>\n",
       "      <td>None</td>\n",
       "      <td>[838043893, 838042689]</td>\n",
       "      <td>0102000020E61000000200000048F949B54FC7C73F2860...</td>\n",
       "    </tr>\n",
       "    <tr>\n",
       "      <th>5469</th>\n",
       "      <td>112284722</td>\n",
       "      <td>1</td>\n",
       "      <td>128186</td>\n",
       "      <td>2011-05-08 05:42:39</td>\n",
       "      <td>8079069</td>\n",
       "      <td>{'seamark:type': 'separation_line'}</td>\n",
       "      <td>LINESTRING (0.290783 53.520617, 0.346667 53.49...</td>\n",
       "      <td>None</td>\n",
       "      <td>[863140180, 863865058]</td>\n",
       "      <td>0102000020E610000002000000ACE5CE4C309CD23FEE5E...</td>\n",
       "    </tr>\n",
       "    <tr>\n",
       "      <th>5477</th>\n",
       "      <td>112284730</td>\n",
       "      <td>1</td>\n",
       "      <td>128186</td>\n",
       "      <td>2011-05-08 05:42:40</td>\n",
       "      <td>8079069</td>\n",
       "      <td>{'seamark:type': 'separation_line'}</td>\n",
       "      <td>LINESTRING (0.2844895 53.574609, 0.3442118 53....</td>\n",
       "      <td>None</td>\n",
       "      <td>[1276680173, 1276680131, 1276680154]</td>\n",
       "      <td>0102000020E6100000030000008B8BA3721335D23F5F7E...</td>\n",
       "    </tr>\n",
       "    <tr>\n",
       "      <th>...</th>\n",
       "      <td>...</td>\n",
       "      <td>...</td>\n",
       "      <td>...</td>\n",
       "      <td>...</td>\n",
       "      <td>...</td>\n",
       "      <td>...</td>\n",
       "      <td>...</td>\n",
       "      <td>...</td>\n",
       "      <td>...</td>\n",
       "      <td>...</td>\n",
       "    </tr>\n",
       "    <tr>\n",
       "      <th>100034</th>\n",
       "      <td>1119383483</td>\n",
       "      <td>3</td>\n",
       "      <td>715936</td>\n",
       "      <td>2022-12-12 21:51:47</td>\n",
       "      <td>130013989</td>\n",
       "      <td>{'seamark:type': 'separation_zone', 'seamark:s...</td>\n",
       "      <td>LINESTRING (5.333408 59.081983, 5.3335942 59.0...</td>\n",
       "      <td>None</td>\n",
       "      <td>[10237995346, 10237995345, 10237995344, 102379...</td>\n",
       "      <td>0102000020E61000005D0000002AE620E868551540FBE9...</td>\n",
       "    </tr>\n",
       "    <tr>\n",
       "      <th>100036</th>\n",
       "      <td>1119383485</td>\n",
       "      <td>2</td>\n",
       "      <td>715936</td>\n",
       "      <td>2022-12-12 21:51:47</td>\n",
       "      <td>130013989</td>\n",
       "      <td>{'seamark:type': 'separation_zone', 'seamark:s...</td>\n",
       "      <td>LINESTRING (5.296011 59.0686527, 5.2326894 59....</td>\n",
       "      <td>None</td>\n",
       "      <td>[10237995371, 10237995370, 10237995368, 102379...</td>\n",
       "      <td>0102000020E6100000060000006806F1811D2F15401CA4...</td>\n",
       "    </tr>\n",
       "    <tr>\n",
       "      <th>100041</th>\n",
       "      <td>1119383490</td>\n",
       "      <td>2</td>\n",
       "      <td>715936</td>\n",
       "      <td>2022-12-12 21:51:47</td>\n",
       "      <td>130013989</td>\n",
       "      <td>{'seamark:type': 'separation_zone', 'seamark:s...</td>\n",
       "      <td>LINESTRING (5.3279078 59.0199617, 5.3190672 59...</td>\n",
       "      <td>None</td>\n",
       "      <td>[10237995361, 10237995360, 10237995359, 102379...</td>\n",
       "      <td>0102000020E610000005000000CA69F40FC74F15401756...</td>\n",
       "    </tr>\n",
       "    <tr>\n",
       "      <th>101671</th>\n",
       "      <td>1154194855</td>\n",
       "      <td>1</td>\n",
       "      <td>78466</td>\n",
       "      <td>2023-03-14 07:44:40</td>\n",
       "      <td>133654069</td>\n",
       "      <td>{'seamark:name': 'TSS Off Neist Point in the M...</td>\n",
       "      <td>LINESTRING (-6.9165 57.3988333, -6.8888333 57....</td>\n",
       "      <td>None</td>\n",
       "      <td>[10734305570, 10734305575, 10734305574, 107343...</td>\n",
       "      <td>0102000020E610000007000000D122DBF97EAA1BC02307...</td>\n",
       "    </tr>\n",
       "    <tr>\n",
       "      <th>101695</th>\n",
       "      <td>1154923579</td>\n",
       "      <td>1</td>\n",
       "      <td>78466</td>\n",
       "      <td>2023-03-17 08:25:11</td>\n",
       "      <td>133778021</td>\n",
       "      <td>{'seamark:name': 'TSS In the North Channel', '...</td>\n",
       "      <td>LINESTRING (-6.0596248 55.3950086, -6.244146 5...</td>\n",
       "      <td>None</td>\n",
       "      <td>[10740777874, 10740777875, 10740777876, 107407...</td>\n",
       "      <td>0102000020E610000007000000461F98480E3D18C0C251...</td>\n",
       "    </tr>\n",
       "  </tbody>\n",
       "</table>\n",
       "<p>495 rows × 10 columns</p>\n",
       "</div>"
      ],
      "text/plain": [
       "                id  version  user_id               tstamp  changeset_id   \n",
       "429      173232538        1    84409  2012-07-28 07:15:40      12519538  \\\n",
       "5461     112191577        1   128186  2011-05-07 18:09:08       8075573   \n",
       "5466     112284719        1   128186  2011-05-08 05:42:39       8079069   \n",
       "5469     112284722        1   128186  2011-05-08 05:42:39       8079069   \n",
       "5477     112284730        1   128186  2011-05-08 05:42:40       8079069   \n",
       "...            ...      ...      ...                  ...           ...   \n",
       "100034  1119383483        3   715936  2022-12-12 21:51:47     130013989   \n",
       "100036  1119383485        2   715936  2022-12-12 21:51:47     130013989   \n",
       "100041  1119383490        2   715936  2022-12-12 21:51:47     130013989   \n",
       "101671  1154194855        1    78466  2023-03-14 07:44:40     133654069   \n",
       "101695  1154923579        1    78466  2023-03-17 08:25:11     133778021   \n",
       "\n",
       "                                                     tags   \n",
       "429                   {'seamark:type': 'separation_line'}  \\\n",
       "5461                  {'seamark:type': 'separation_line'}   \n",
       "5466                  {'seamark:type': 'separation_line'}   \n",
       "5469                  {'seamark:type': 'separation_line'}   \n",
       "5477                  {'seamark:type': 'separation_line'}   \n",
       "...                                                   ...   \n",
       "100034  {'seamark:type': 'separation_zone', 'seamark:s...   \n",
       "100036  {'seamark:type': 'separation_zone', 'seamark:s...   \n",
       "100041  {'seamark:type': 'separation_zone', 'seamark:s...   \n",
       "101671  {'seamark:name': 'TSS Off Neist Point in the M...   \n",
       "101695  {'seamark:name': 'TSS In the North Channel', '...   \n",
       "\n",
       "                                                     geom geometry   \n",
       "429     LINESTRING (24.4507557 59.4998465, 24.5000132 ...     None  \\\n",
       "5461    LINESTRING (0.1607495 53.5454742, 0.118768 53....     None   \n",
       "5466    LINESTRING (0.18577 53.544467, 0.219933 53.54697)     None   \n",
       "5469    LINESTRING (0.290783 53.520617, 0.346667 53.49...     None   \n",
       "5477    LINESTRING (0.2844895 53.574609, 0.3442118 53....     None   \n",
       "...                                                   ...      ...   \n",
       "100034  LINESTRING (5.333408 59.081983, 5.3335942 59.0...     None   \n",
       "100036  LINESTRING (5.296011 59.0686527, 5.2326894 59....     None   \n",
       "100041  LINESTRING (5.3279078 59.0199617, 5.3190672 59...     None   \n",
       "101671  LINESTRING (-6.9165 57.3988333, -6.8888333 57....     None   \n",
       "101695  LINESTRING (-6.0596248 55.3950086, -6.244146 5...     None   \n",
       "\n",
       "                                                    nodes   \n",
       "429                              [1840889314, 1840889316]  \\\n",
       "5461                               [838703657, 838703660]   \n",
       "5466                               [838043893, 838042689]   \n",
       "5469                               [863140180, 863865058]   \n",
       "5477                 [1276680173, 1276680131, 1276680154]   \n",
       "...                                                   ...   \n",
       "100034  [10237995346, 10237995345, 10237995344, 102379...   \n",
       "100036  [10237995371, 10237995370, 10237995368, 102379...   \n",
       "100041  [10237995361, 10237995360, 10237995359, 102379...   \n",
       "101671  [10734305570, 10734305575, 10734305574, 107343...   \n",
       "101695  [10740777874, 10740777875, 10740777876, 107407...   \n",
       "\n",
       "                                               linestring  \n",
       "429     0102000020E6100000020000004FFCBDB9647338409142...  \n",
       "5461    0102000020E610000002000000CC96AC8A7093C43FE8E7...  \n",
       "5466    0102000020E61000000200000048F949B54FC7C73F2860...  \n",
       "5469    0102000020E610000002000000ACE5CE4C309CD23FEE5E...  \n",
       "5477    0102000020E6100000030000008B8BA3721335D23F5F7E...  \n",
       "...                                                   ...  \n",
       "100034  0102000020E61000005D0000002AE620E868551540FBE9...  \n",
       "100036  0102000020E6100000060000006806F1811D2F15401CA4...  \n",
       "100041  0102000020E610000005000000CA69F40FC74F15401756...  \n",
       "101671  0102000020E610000007000000D122DBF97EAA1BC02307...  \n",
       "101695  0102000020E610000007000000461F98480E3D18C0C251...  \n",
       "\n",
       "[495 rows x 10 columns]"
      ]
     },
     "execution_count": 25,
     "metadata": {},
     "output_type": "execute_result"
    }
   ],
   "source": [
    "if (\"nodes\" in seamark_object) and (\"ways\" in seamark_object) and all(element in tags for element in seamark_list):\n",
    "    gdf = pd.concat([table_list_gdf_nodes2, table_list_gdf_ways2])\n",
    "    print(gdf['tags'].iloc[0])\n",
    "    gdf_list = []\n",
    "    for i in range(0, len(seamark_list)):\n",
    "\n",
    "        if type(gdf['tags'].iloc[i]) == str:\n",
    "            print(gdf['tags'].iloc[i])\n",
    "            gdf['tags'] = gdf['tags'].apply(ast.literal_eval)\n",
    "            gdf1 = gdf[gdf['tags'].apply(lambda x: seamark_list[i] in x.values())]\n",
    "            gdf_list.append(gdf1)\n",
    "        else:\n",
    "            gdf1 = gdf[gdf['tags'].apply(lambda x: seamark_list[i] in x.values())]\n",
    "            gdf_list.append(gdf1)\n",
    "\n",
    "\n",
    "    gdf_concat = pd.concat(gdf_list)\n",
    "    \n",
    "gdf_concat\n",
    "\n",
    "\n",
    "\n"
   ]
  },
  {
   "cell_type": "code",
   "execution_count": 24,
   "id": "170040ed",
   "metadata": {},
   "outputs": [
    {
     "data": {
      "text/html": [
       "<div>\n",
       "<style scoped>\n",
       "    .dataframe tbody tr th:only-of-type {\n",
       "        vertical-align: middle;\n",
       "    }\n",
       "\n",
       "    .dataframe tbody tr th {\n",
       "        vertical-align: top;\n",
       "    }\n",
       "\n",
       "    .dataframe thead th {\n",
       "        text-align: right;\n",
       "    }\n",
       "</style>\n",
       "<table border=\"1\" class=\"dataframe\">\n",
       "  <thead>\n",
       "    <tr style=\"text-align: right;\">\n",
       "      <th></th>\n",
       "      <th>id</th>\n",
       "      <th>version</th>\n",
       "      <th>user_id</th>\n",
       "      <th>tstamp</th>\n",
       "      <th>changeset_id</th>\n",
       "      <th>tags</th>\n",
       "      <th>geom</th>\n",
       "      <th>geometry</th>\n",
       "      <th>nodes</th>\n",
       "      <th>linestring</th>\n",
       "    </tr>\n",
       "  </thead>\n",
       "  <tbody>\n",
       "    <tr>\n",
       "      <th>0</th>\n",
       "      <td>106904</td>\n",
       "      <td>5</td>\n",
       "      <td>4948143</td>\n",
       "      <td>2020-06-15 19:23:35</td>\n",
       "      <td>86684855</td>\n",
       "      <td>{'waterway': 'lock_gate', 'seamark:type': 'gate'}</td>\n",
       "      <td>0101000020E61000000E1714611E8DA2BF53FBBEC980C2...</td>\n",
       "      <td>POINT (-0.03623 51.51956)</td>\n",
       "      <td>NaN</td>\n",
       "      <td>NaN</td>\n",
       "    </tr>\n",
       "    <tr>\n",
       "      <th>1</th>\n",
       "      <td>108735</td>\n",
       "      <td>6</td>\n",
       "      <td>4948143</td>\n",
       "      <td>2020-06-15 19:23:35</td>\n",
       "      <td>86684855</td>\n",
       "      <td>{'waterway': 'lock_gate', 'seamark:type': 'gate'}</td>\n",
       "      <td>0101000020E61000007FA6B9707BDDA1BF3EDC1F39E3C1...</td>\n",
       "      <td>POINT (-0.03489 51.51475)</td>\n",
       "      <td>NaN</td>\n",
       "      <td>NaN</td>\n",
       "    </tr>\n",
       "    <tr>\n",
       "      <th>2</th>\n",
       "      <td>110210</td>\n",
       "      <td>7</td>\n",
       "      <td>4948143</td>\n",
       "      <td>2020-06-15 19:23:35</td>\n",
       "      <td>86684855</td>\n",
       "      <td>{'waterway': 'lock_gate', 'seamark:type': 'gate'}</td>\n",
       "      <td>0101000020E6100000B12C3D3F3157A3BFAA4F28FA32C3...</td>\n",
       "      <td>POINT (-0.03777 51.52499)</td>\n",
       "      <td>NaN</td>\n",
       "      <td>NaN</td>\n",
       "    </tr>\n",
       "    <tr>\n",
       "      <th>3</th>\n",
       "      <td>142325</td>\n",
       "      <td>5</td>\n",
       "      <td>53773</td>\n",
       "      <td>2017-04-26 14:43:20</td>\n",
       "      <td>48165623</td>\n",
       "      <td>{}</td>\n",
       "      <td>0101000020E6100000969E44DF38A41840E3D3ADE8208F...</td>\n",
       "      <td>POINT (6.16037 49.11819)</td>\n",
       "      <td>NaN</td>\n",
       "      <td>NaN</td>\n",
       "    </tr>\n",
       "    <tr>\n",
       "      <th>4</th>\n",
       "      <td>148969</td>\n",
       "      <td>14</td>\n",
       "      <td>420980</td>\n",
       "      <td>2018-10-23 11:53:56</td>\n",
       "      <td>63792931</td>\n",
       "      <td>{}</td>\n",
       "      <td>0101000020E61000002651D43EC279264004CCD7C0B136...</td>\n",
       "      <td>POINT (11.23781 60.42730)</td>\n",
       "      <td>NaN</td>\n",
       "      <td>NaN</td>\n",
       "    </tr>\n",
       "    <tr>\n",
       "      <th>...</th>\n",
       "      <td>...</td>\n",
       "      <td>...</td>\n",
       "      <td>...</td>\n",
       "      <td>...</td>\n",
       "      <td>...</td>\n",
       "      <td>...</td>\n",
       "      <td>...</td>\n",
       "      <td>...</td>\n",
       "      <td>...</td>\n",
       "      <td>...</td>\n",
       "    </tr>\n",
       "    <tr>\n",
       "      <th>102503</th>\n",
       "      <td>1173235725</td>\n",
       "      <td>1</td>\n",
       "      <td>449569</td>\n",
       "      <td>2023-05-16 08:38:33</td>\n",
       "      <td>136157239</td>\n",
       "      <td>{'seamark:type': 'small_craft_facility', 'seam...</td>\n",
       "      <td>LINESTRING (-92.4506241 42.5399962, -92.450676...</td>\n",
       "      <td>None</td>\n",
       "      <td>[10901378809, 10901378833]</td>\n",
       "      <td>0102000020E61000000200000086127706D71C57C06D7B...</td>\n",
       "    </tr>\n",
       "    <tr>\n",
       "      <th>102504</th>\n",
       "      <td>1173235727</td>\n",
       "      <td>1</td>\n",
       "      <td>449569</td>\n",
       "      <td>2023-05-16 08:38:33</td>\n",
       "      <td>136157239</td>\n",
       "      <td>{'highway': 'service', 'seamark:type': 'small_...</td>\n",
       "      <td>LINESTRING (-92.4506056 42.5400255, -92.450624...</td>\n",
       "      <td>None</td>\n",
       "      <td>[10901378834, 10901378809]</td>\n",
       "      <td>0102000020E6100000020000003FD9DEB8D61C57C0C6C0...</td>\n",
       "    </tr>\n",
       "    <tr>\n",
       "      <th>102505</th>\n",
       "      <td>1173238209</td>\n",
       "      <td>1</td>\n",
       "      <td>449569</td>\n",
       "      <td>2023-05-16 08:51:33</td>\n",
       "      <td>136157823</td>\n",
       "      <td>{'seamark:type': 'small_craft_facility', 'seam...</td>\n",
       "      <td>LINESTRING (-92.4337828 42.5298889, -92.433710...</td>\n",
       "      <td>None</td>\n",
       "      <td>[10901366558, 10901366559]</td>\n",
       "      <td>0102000020E6100000020000004FE4EE18C31B57C0B801...</td>\n",
       "    </tr>\n",
       "    <tr>\n",
       "      <th>102506</th>\n",
       "      <td>1173400995</td>\n",
       "      <td>2</td>\n",
       "      <td>17531229</td>\n",
       "      <td>2023-05-16 17:31:40</td>\n",
       "      <td>136179862</td>\n",
       "      <td>{'name': 'Бейбарс Газ', 'building': 'yes', 'wa...</td>\n",
       "      <td>LINESTRING (69.4201454 42.4884203, 69.4202495 ...</td>\n",
       "      <td>None</td>\n",
       "      <td>[10902512013, 10902512014, 10902512015, 109025...</td>\n",
       "      <td>0102000020E610000005000000262488A9E35A5140EC99...</td>\n",
       "    </tr>\n",
       "    <tr>\n",
       "      <th>102507</th>\n",
       "      <td>1173517668</td>\n",
       "      <td>1</td>\n",
       "      <td>17432213</td>\n",
       "      <td>2023-05-16 21:19:55</td>\n",
       "      <td>136186724</td>\n",
       "      <td>{}</td>\n",
       "      <td>LINESTRING (-69.6456343 43.8472341, -69.645705...</td>\n",
       "      <td>None</td>\n",
       "      <td>[10579981789, 7744770366, 7744784587, 77447540...</td>\n",
       "      <td>0102000020E61000001300000041EB8612526951C02BC7...</td>\n",
       "    </tr>\n",
       "  </tbody>\n",
       "</table>\n",
       "<p>2201317 rows × 10 columns</p>\n",
       "</div>"
      ],
      "text/plain": [
       "                id  version   user_id               tstamp  changeset_id   \n",
       "0           106904        5   4948143  2020-06-15 19:23:35      86684855  \\\n",
       "1           108735        6   4948143  2020-06-15 19:23:35      86684855   \n",
       "2           110210        7   4948143  2020-06-15 19:23:35      86684855   \n",
       "3           142325        5     53773  2017-04-26 14:43:20      48165623   \n",
       "4           148969       14    420980  2018-10-23 11:53:56      63792931   \n",
       "...            ...      ...       ...                  ...           ...   \n",
       "102503  1173235725        1    449569  2023-05-16 08:38:33     136157239   \n",
       "102504  1173235727        1    449569  2023-05-16 08:38:33     136157239   \n",
       "102505  1173238209        1    449569  2023-05-16 08:51:33     136157823   \n",
       "102506  1173400995        2  17531229  2023-05-16 17:31:40     136179862   \n",
       "102507  1173517668        1  17432213  2023-05-16 21:19:55     136186724   \n",
       "\n",
       "                                                     tags   \n",
       "0       {'waterway': 'lock_gate', 'seamark:type': 'gate'}  \\\n",
       "1       {'waterway': 'lock_gate', 'seamark:type': 'gate'}   \n",
       "2       {'waterway': 'lock_gate', 'seamark:type': 'gate'}   \n",
       "3                                                      {}   \n",
       "4                                                      {}   \n",
       "...                                                   ...   \n",
       "102503  {'seamark:type': 'small_craft_facility', 'seam...   \n",
       "102504  {'highway': 'service', 'seamark:type': 'small_...   \n",
       "102505  {'seamark:type': 'small_craft_facility', 'seam...   \n",
       "102506  {'name': 'Бейбарс Газ', 'building': 'yes', 'wa...   \n",
       "102507                                                 {}   \n",
       "\n",
       "                                                     geom   \n",
       "0       0101000020E61000000E1714611E8DA2BF53FBBEC980C2...  \\\n",
       "1       0101000020E61000007FA6B9707BDDA1BF3EDC1F39E3C1...   \n",
       "2       0101000020E6100000B12C3D3F3157A3BFAA4F28FA32C3...   \n",
       "3       0101000020E6100000969E44DF38A41840E3D3ADE8208F...   \n",
       "4       0101000020E61000002651D43EC279264004CCD7C0B136...   \n",
       "...                                                   ...   \n",
       "102503  LINESTRING (-92.4506241 42.5399962, -92.450676...   \n",
       "102504  LINESTRING (-92.4506056 42.5400255, -92.450624...   \n",
       "102505  LINESTRING (-92.4337828 42.5298889, -92.433710...   \n",
       "102506  LINESTRING (69.4201454 42.4884203, 69.4202495 ...   \n",
       "102507  LINESTRING (-69.6456343 43.8472341, -69.645705...   \n",
       "\n",
       "                         geometry   \n",
       "0       POINT (-0.03623 51.51956)  \\\n",
       "1       POINT (-0.03489 51.51475)   \n",
       "2       POINT (-0.03777 51.52499)   \n",
       "3        POINT (6.16037 49.11819)   \n",
       "4       POINT (11.23781 60.42730)   \n",
       "...                           ...   \n",
       "102503                       None   \n",
       "102504                       None   \n",
       "102505                       None   \n",
       "102506                       None   \n",
       "102507                       None   \n",
       "\n",
       "                                                    nodes   \n",
       "0                                                     NaN  \\\n",
       "1                                                     NaN   \n",
       "2                                                     NaN   \n",
       "3                                                     NaN   \n",
       "4                                                     NaN   \n",
       "...                                                   ...   \n",
       "102503                         [10901378809, 10901378833]   \n",
       "102504                         [10901378834, 10901378809]   \n",
       "102505                         [10901366558, 10901366559]   \n",
       "102506  [10902512013, 10902512014, 10902512015, 109025...   \n",
       "102507  [10579981789, 7744770366, 7744784587, 77447540...   \n",
       "\n",
       "                                               linestring  \n",
       "0                                                     NaN  \n",
       "1                                                     NaN  \n",
       "2                                                     NaN  \n",
       "3                                                     NaN  \n",
       "4                                                     NaN  \n",
       "...                                                   ...  \n",
       "102503  0102000020E61000000200000086127706D71C57C06D7B...  \n",
       "102504  0102000020E6100000020000003FD9DEB8D61C57C0C6C0...  \n",
       "102505  0102000020E6100000020000004FE4EE18C31B57C0B801...  \n",
       "102506  0102000020E610000005000000262488A9E35A5140EC99...  \n",
       "102507  0102000020E61000001300000041EB8612526951C02BC7...  \n",
       "\n",
       "[2201317 rows x 10 columns]"
      ]
     },
     "execution_count": 24,
     "metadata": {},
     "output_type": "execute_result"
    }
   ],
   "source": [
    "pd.concat([table_list_gdf_nodes2, table_list_gdf_ways2])['']"
   ]
  },
  {
   "cell_type": "code",
   "execution_count": 22,
   "id": "e7e70972",
   "metadata": {},
   "outputs": [
    {
     "ename": "NameError",
     "evalue": "name 'gdf' is not defined",
     "output_type": "error",
     "traceback": [
      "\u001b[0;31m---------------------------------------------------------------------------\u001b[0m",
      "\u001b[0;31mNameError\u001b[0m                                 Traceback (most recent call last)",
      "Cell \u001b[0;32mIn[22], line 1\u001b[0m\n\u001b[0;32m----> 1\u001b[0m \u001b[43mgdf\u001b[49m[\u001b[38;5;124m'\u001b[39m\u001b[38;5;124mtags\u001b[39m\u001b[38;5;124m'\u001b[39m]\u001b[38;5;241m.\u001b[39miloc[i]\n",
      "\u001b[0;31mNameError\u001b[0m: name 'gdf' is not defined"
     ]
    }
   ],
   "source": [
    "gdf['tags'].iloc[i]"
   ]
  },
  {
   "cell_type": "code",
   "execution_count": 1,
   "id": "d8f3dbea",
   "metadata": {},
   "outputs": [],
   "source": [
    "import numpy as np"
   ]
  },
  {
   "cell_type": "code",
   "execution_count": 2,
   "id": "2c206a20",
   "metadata": {},
   "outputs": [
    {
     "data": {
      "text/plain": [
       "array([98,  4, 17, 43, 79])"
      ]
     },
     "execution_count": 2,
     "metadata": {},
     "output_type": "execute_result"
    }
   ],
   "source": [
    "x = np.random.randint(1, 100, 5)\n",
    "x"
   ]
  },
  {
   "cell_type": "code",
   "execution_count": 3,
   "id": "27aa9ca7",
   "metadata": {},
   "outputs": [
    {
     "data": {
      "text/plain": [
       "numpy.ndarray"
      ]
     },
     "execution_count": 3,
     "metadata": {},
     "output_type": "execute_result"
    }
   ],
   "source": [
    "type(x)"
   ]
  },
  {
   "cell_type": "code",
   "execution_count": 4,
   "id": "656b2e54",
   "metadata": {},
   "outputs": [
    {
     "data": {
      "text/plain": [
       "5"
      ]
     },
     "execution_count": 4,
     "metadata": {},
     "output_type": "execute_result"
    }
   ],
   "source": [
    "len(x)"
   ]
  },
  {
   "cell_type": "code",
   "execution_count": 5,
   "id": "1e4cfa4b",
   "metadata": {},
   "outputs": [
    {
     "data": {
      "text/plain": [
       "4"
      ]
     },
     "execution_count": 5,
     "metadata": {},
     "output_type": "execute_result"
    }
   ],
   "source": [
    "x[1]"
   ]
  },
  {
   "cell_type": "code",
   "execution_count": 7,
   "id": "caa9795c",
   "metadata": {},
   "outputs": [
    {
     "name": "stdout",
     "output_type": "stream",
     "text": [
      "0\n",
      "1\n",
      "2\n",
      "3\n",
      "4\n"
     ]
    }
   ],
   "source": [
    "for i in range(len(x)):\n",
    "    print(i)"
   ]
  },
  {
   "cell_type": "code",
   "execution_count": 9,
   "id": "461ed7ed",
   "metadata": {},
   "outputs": [],
   "source": [
    "from shapely.geometry import Point, LineString"
   ]
  },
  {
   "cell_type": "code",
   "execution_count": 10,
   "id": "c43a1117",
   "metadata": {},
   "outputs": [
    {
     "data": {
      "text/plain": [
       "True"
      ]
     },
     "execution_count": 10,
     "metadata": {},
     "output_type": "execute_result"
    }
   ],
   "source": [
    "'nodes' in ['nodes','ways']"
   ]
  },
  {
   "cell_type": "code",
   "execution_count": 13,
   "id": "e9631ebd",
   "metadata": {},
   "outputs": [
    {
     "data": {
      "text/plain": [
       "False"
      ]
     },
     "execution_count": 13,
     "metadata": {},
     "output_type": "execute_result"
    }
   ],
   "source": [
    "set(['a','c']).issubset(['a','b'])"
   ]
  },
  {
   "cell_type": "code",
   "execution_count": 2,
   "id": "4f790d76",
   "metadata": {},
   "outputs": [],
   "source": [
    "import sqlalchemy\n",
    "import geopandas as gpd\n",
    "import folium"
   ]
  },
  {
   "cell_type": "code",
   "execution_count": 29,
   "id": "7adb8344",
   "metadata": {},
   "outputs": [
    {
     "name": "stdout",
     "output_type": "stream",
     "text": [
      "Requirement already satisfied: folium in /home/igor/projects/maridata/maripower/venv/lib/python3.10/site-packages (0.14.0)\n",
      "Collecting mapclassify\n",
      "  Using cached mapclassify-2.5.0-py3-none-any.whl (39 kB)\n",
      "Requirement already satisfied: branca>=0.6.0 in /home/igor/projects/maridata/maripower/venv/lib/python3.10/site-packages (from folium) (0.6.0)\n",
      "Requirement already satisfied: numpy in /home/igor/projects/maridata/maripower/venv/lib/python3.10/site-packages (from folium) (1.24.3)\n",
      "Requirement already satisfied: jinja2>=2.9 in /home/igor/projects/maridata/maripower/venv/lib/python3.10/site-packages (from folium) (3.1.2)\n",
      "Requirement already satisfied: requests in /home/igor/projects/maridata/maripower/venv/lib/python3.10/site-packages (from folium) (2.31.0)\n",
      "Collecting networkx\n",
      "  Using cached networkx-3.1-py3-none-any.whl (2.1 MB)\n",
      "Requirement already satisfied: scipy>=1.0 in /home/igor/projects/maridata/maripower/venv/lib/python3.10/site-packages (from mapclassify) (1.9.2)\n",
      "Requirement already satisfied: scikit-learn in /home/igor/projects/maridata/maripower/venv/lib/python3.10/site-packages (from mapclassify) (1.2.2)\n",
      "Requirement already satisfied: pandas>=1.0 in /home/igor/projects/maridata/maripower/venv/lib/python3.10/site-packages (from mapclassify) (2.0.2)\n",
      "Requirement already satisfied: MarkupSafe>=2.0 in /home/igor/projects/maridata/maripower/venv/lib/python3.10/site-packages (from jinja2>=2.9->folium) (2.1.3)\n",
      "Requirement already satisfied: python-dateutil>=2.8.2 in /home/igor/projects/maridata/maripower/venv/lib/python3.10/site-packages (from pandas>=1.0->mapclassify) (2.8.2)\n",
      "Requirement already satisfied: tzdata>=2022.1 in /home/igor/projects/maridata/maripower/venv/lib/python3.10/site-packages (from pandas>=1.0->mapclassify) (2023.3)\n",
      "Requirement already satisfied: pytz>=2020.1 in /home/igor/projects/maridata/maripower/venv/lib/python3.10/site-packages (from pandas>=1.0->mapclassify) (2023.3)\n",
      "Requirement already satisfied: idna<4,>=2.5 in /home/igor/projects/maridata/maripower/venv/lib/python3.10/site-packages (from requests->folium) (3.4)\n",
      "Requirement already satisfied: charset-normalizer<4,>=2 in /home/igor/projects/maridata/maripower/venv/lib/python3.10/site-packages (from requests->folium) (3.2.0)\n",
      "Requirement already satisfied: certifi>=2017.4.17 in /home/igor/projects/maridata/maripower/venv/lib/python3.10/site-packages (from requests->folium) (2023.5.7)\n",
      "Requirement already satisfied: urllib3<3,>=1.21.1 in /home/igor/projects/maridata/maripower/venv/lib/python3.10/site-packages (from requests->folium) (2.0.3)\n",
      "Requirement already satisfied: joblib>=1.1.1 in /home/igor/projects/maridata/maripower/venv/lib/python3.10/site-packages (from scikit-learn->mapclassify) (1.2.0)\n",
      "Requirement already satisfied: threadpoolctl>=2.0.0 in /home/igor/projects/maridata/maripower/venv/lib/python3.10/site-packages (from scikit-learn->mapclassify) (3.1.0)\n",
      "Requirement already satisfied: six>=1.5 in /home/igor/projects/maridata/maripower/venv/lib/python3.10/site-packages (from python-dateutil>=2.8.2->pandas>=1.0->mapclassify) (1.16.0)\n",
      "Installing collected packages: networkx, mapclassify\n",
      "Successfully installed mapclassify-2.5.0 networkx-3.1\n"
     ]
    }
   ],
   "source": [
    "!pip install folium mapclassify"
   ]
  },
  {
   "cell_type": "code",
   "execution_count": 3,
   "id": "a5368e38",
   "metadata": {},
   "outputs": [],
   "source": [
    "engine = sqlalchemy.create_engine(\n",
    "    \"postgresql://{user}:{pw}@{host}/{db}\".format(\n",
    "                user='myuser',\n",
    "                pw='mypassword',\n",
    "                host='172.22.0.3',\n",
    "                db='mydatabase',\n",
    "                port=5432)\n",
    ")"
   ]
  },
  {
   "cell_type": "code",
   "execution_count": 4,
   "id": "522f6bae",
   "metadata": {},
   "outputs": [],
   "source": [
    "gdf = gpd.read_postgis(con=engine, \n",
    "                sql='SELECT * FROM nodes')"
   ]
  },
  {
   "cell_type": "code",
   "execution_count": 5,
   "id": "a48b3ec5",
   "metadata": {},
   "outputs": [
    {
     "data": {
      "text/html": [
       "<div>\n",
       "<style scoped>\n",
       "    .dataframe tbody tr th:only-of-type {\n",
       "        vertical-align: middle;\n",
       "    }\n",
       "\n",
       "    .dataframe tbody tr th {\n",
       "        vertical-align: top;\n",
       "    }\n",
       "\n",
       "    .dataframe thead th {\n",
       "        text-align: right;\n",
       "    }\n",
       "</style>\n",
       "<table border=\"1\" class=\"dataframe\">\n",
       "  <thead>\n",
       "    <tr style=\"text-align: right;\">\n",
       "      <th></th>\n",
       "      <th>id</th>\n",
       "      <th>version</th>\n",
       "      <th>user_id</th>\n",
       "      <th>tstamp</th>\n",
       "      <th>changeset_id</th>\n",
       "      <th>tags</th>\n",
       "      <th>geom</th>\n",
       "    </tr>\n",
       "  </thead>\n",
       "  <tbody>\n",
       "    <tr>\n",
       "      <th>0</th>\n",
       "      <td>106904</td>\n",
       "      <td>5</td>\n",
       "      <td>4948143</td>\n",
       "      <td>2020-06-15 19:23:35</td>\n",
       "      <td>86684855</td>\n",
       "      <td>{'waterway': 'lock_gate', 'seamark:type': 'gate'}</td>\n",
       "      <td>POINT (-0.03623 51.51956)</td>\n",
       "    </tr>\n",
       "    <tr>\n",
       "      <th>1</th>\n",
       "      <td>108735</td>\n",
       "      <td>6</td>\n",
       "      <td>4948143</td>\n",
       "      <td>2020-06-15 19:23:35</td>\n",
       "      <td>86684855</td>\n",
       "      <td>{'waterway': 'lock_gate', 'seamark:type': 'gate'}</td>\n",
       "      <td>POINT (-0.03489 51.51475)</td>\n",
       "    </tr>\n",
       "    <tr>\n",
       "      <th>2</th>\n",
       "      <td>110210</td>\n",
       "      <td>7</td>\n",
       "      <td>4948143</td>\n",
       "      <td>2020-06-15 19:23:35</td>\n",
       "      <td>86684855</td>\n",
       "      <td>{'waterway': 'lock_gate', 'seamark:type': 'gate'}</td>\n",
       "      <td>POINT (-0.03777 51.52499)</td>\n",
       "    </tr>\n",
       "    <tr>\n",
       "      <th>3</th>\n",
       "      <td>142325</td>\n",
       "      <td>5</td>\n",
       "      <td>53773</td>\n",
       "      <td>2017-04-26 14:43:20</td>\n",
       "      <td>48165623</td>\n",
       "      <td>{}</td>\n",
       "      <td>POINT (6.16037 49.11819)</td>\n",
       "    </tr>\n",
       "    <tr>\n",
       "      <th>4</th>\n",
       "      <td>148969</td>\n",
       "      <td>14</td>\n",
       "      <td>420980</td>\n",
       "      <td>2018-10-23 11:53:56</td>\n",
       "      <td>63792931</td>\n",
       "      <td>{}</td>\n",
       "      <td>POINT (11.23781 60.42730)</td>\n",
       "    </tr>\n",
       "  </tbody>\n",
       "</table>\n",
       "</div>"
      ],
      "text/plain": [
       "       id  version  user_id              tstamp  changeset_id  \\\n",
       "0  106904        5  4948143 2020-06-15 19:23:35      86684855   \n",
       "1  108735        6  4948143 2020-06-15 19:23:35      86684855   \n",
       "2  110210        7  4948143 2020-06-15 19:23:35      86684855   \n",
       "3  142325        5    53773 2017-04-26 14:43:20      48165623   \n",
       "4  148969       14   420980 2018-10-23 11:53:56      63792931   \n",
       "\n",
       "                                                tags  \\\n",
       "0  {'waterway': 'lock_gate', 'seamark:type': 'gate'}   \n",
       "1  {'waterway': 'lock_gate', 'seamark:type': 'gate'}   \n",
       "2  {'waterway': 'lock_gate', 'seamark:type': 'gate'}   \n",
       "3                                                 {}   \n",
       "4                                                 {}   \n",
       "\n",
       "                        geom  \n",
       "0  POINT (-0.03623 51.51956)  \n",
       "1  POINT (-0.03489 51.51475)  \n",
       "2  POINT (-0.03777 51.52499)  \n",
       "3   POINT (6.16037 49.11819)  \n",
       "4  POINT (11.23781 60.42730)  "
      ]
     },
     "execution_count": 5,
     "metadata": {},
     "output_type": "execute_result"
    }
   ],
   "source": [
    "gdf.head()"
   ]
  },
  {
   "cell_type": "code",
   "execution_count": 25,
   "id": "3613af86",
   "metadata": {},
   "outputs": [
    {
     "name": "stdout",
     "output_type": "stream",
     "text": [
      "Check the seamark object and seamark tag list\n"
     ]
    },
    {
     "ename": "UnboundLocalError",
     "evalue": "local variable 'gdf_concat' referenced before assignment",
     "output_type": "error",
     "traceback": [
      "\u001b[0;31m---------------------------------------------------------------------------\u001b[0m",
      "\u001b[0;31mUnboundLocalError\u001b[0m                         Traceback (most recent call last)",
      "Cell \u001b[0;32mIn[25], line 1\u001b[0m\n\u001b[0;32m----> 1\u001b[0m \u001b[43mgdf_seamark_combined\u001b[49m\u001b[43m(\u001b[49m\u001b[43m[\u001b[49m\u001b[38;5;124;43m'\u001b[39;49m\u001b[38;5;124;43mnodes\u001b[39;49m\u001b[38;5;124;43m'\u001b[39;49m\u001b[43m,\u001b[49m\u001b[38;5;124;43m'\u001b[39;49m\u001b[38;5;124;43mways\u001b[39;49m\u001b[38;5;124;43m'\u001b[39;49m\u001b[43m]\u001b[49m\u001b[43m,\u001b[49m\u001b[43m[\u001b[49m\u001b[38;5;124;43m'\u001b[39;49m\u001b[38;5;124;43mseparation_line\u001b[39;49m\u001b[38;5;124;43m'\u001b[39;49m\u001b[43m,\u001b[49m\u001b[38;5;124;43m'\u001b[39;49m\u001b[38;5;124;43mseparation_zone\u001b[39;49m\u001b[38;5;124;43m'\u001b[39;49m\u001b[43m]\u001b[49m\u001b[43m)\u001b[49m\n",
      "Cell \u001b[0;32mIn[24], line 59\u001b[0m, in \u001b[0;36mgdf_seamark_combined\u001b[0;34m(seamark_object, seamark_list)\u001b[0m\n\u001b[1;32m     56\u001b[0m \u001b[38;5;28;01melse\u001b[39;00m:\n\u001b[1;32m     57\u001b[0m     \u001b[38;5;28mprint\u001b[39m(\u001b[38;5;124m'\u001b[39m\u001b[38;5;124mCheck the seamark object and seamark tag list\u001b[39m\u001b[38;5;124m'\u001b[39m)\n\u001b[0;32m---> 59\u001b[0m \u001b[38;5;28;01mreturn\u001b[39;00m \u001b[43mgdf_concat\u001b[49m\n",
      "\u001b[0;31mUnboundLocalError\u001b[0m: local variable 'gdf_concat' referenced before assignment"
     ]
    }
   ],
   "source": [
    "gdf_seamark_combined(['nodes','ways'],['separation_line','separation_zone'])"
   ]
  },
  {
   "cell_type": "markdown",
   "id": "8539dbd5",
   "metadata": {},
   "source": [
    "##############################################################################################"
   ]
  },
  {
   "cell_type": "code",
   "execution_count": 16,
   "id": "f974e65b",
   "metadata": {},
   "outputs": [],
   "source": [
    "gdf.drop(columns=['tstamp'], inplace=True)"
   ]
  },
  {
   "cell_type": "code",
   "execution_count": null,
   "id": "0b550459",
   "metadata": {},
   "outputs": [],
   "source": []
  },
  {
   "cell_type": "code",
   "execution_count": 18,
   "id": "c987de07",
   "metadata": {},
   "outputs": [],
   "source": [
    "def concat_nodes_ways():\n",
    "    gdf = pd.concat([table_list_gdf_nodes2,table_list_gdf_ways2])\n",
    "    \n",
    "    gdf = gdf[gdf[\"geom\"] != None]\n",
    "    \n",
    "    return gdf"
   ]
  },
  {
   "cell_type": "code",
   "execution_count": 19,
   "id": "e6e2bd95",
   "metadata": {},
   "outputs": [
    {
     "data": {
      "text/html": [
       "<div>\n",
       "<style scoped>\n",
       "    .dataframe tbody tr th:only-of-type {\n",
       "        vertical-align: middle;\n",
       "    }\n",
       "\n",
       "    .dataframe tbody tr th {\n",
       "        vertical-align: top;\n",
       "    }\n",
       "\n",
       "    .dataframe thead th {\n",
       "        text-align: right;\n",
       "    }\n",
       "</style>\n",
       "<table border=\"1\" class=\"dataframe\">\n",
       "  <thead>\n",
       "    <tr style=\"text-align: right;\">\n",
       "      <th></th>\n",
       "      <th>id</th>\n",
       "      <th>version</th>\n",
       "      <th>user_id</th>\n",
       "      <th>tstamp</th>\n",
       "      <th>changeset_id</th>\n",
       "      <th>tags</th>\n",
       "      <th>geom</th>\n",
       "      <th>nodes</th>\n",
       "      <th>linestring</th>\n",
       "    </tr>\n",
       "  </thead>\n",
       "  <tbody>\n",
       "    <tr>\n",
       "      <th>0</th>\n",
       "      <td>106904</td>\n",
       "      <td>5</td>\n",
       "      <td>4948143</td>\n",
       "      <td>2020-06-15 19:23:35</td>\n",
       "      <td>86684855</td>\n",
       "      <td>{'waterway': 'lock_gate', 'seamark:type': 'gate'}</td>\n",
       "      <td>POINT (-0.03623 51.51956)</td>\n",
       "      <td>NaN</td>\n",
       "      <td>NaN</td>\n",
       "    </tr>\n",
       "    <tr>\n",
       "      <th>1</th>\n",
       "      <td>108735</td>\n",
       "      <td>6</td>\n",
       "      <td>4948143</td>\n",
       "      <td>2020-06-15 19:23:35</td>\n",
       "      <td>86684855</td>\n",
       "      <td>{'waterway': 'lock_gate', 'seamark:type': 'gate'}</td>\n",
       "      <td>POINT (-0.03489 51.51475)</td>\n",
       "      <td>NaN</td>\n",
       "      <td>NaN</td>\n",
       "    </tr>\n",
       "    <tr>\n",
       "      <th>2</th>\n",
       "      <td>110210</td>\n",
       "      <td>7</td>\n",
       "      <td>4948143</td>\n",
       "      <td>2020-06-15 19:23:35</td>\n",
       "      <td>86684855</td>\n",
       "      <td>{'waterway': 'lock_gate', 'seamark:type': 'gate'}</td>\n",
       "      <td>POINT (-0.03777 51.52499)</td>\n",
       "      <td>NaN</td>\n",
       "      <td>NaN</td>\n",
       "    </tr>\n",
       "    <tr>\n",
       "      <th>3</th>\n",
       "      <td>142325</td>\n",
       "      <td>5</td>\n",
       "      <td>53773</td>\n",
       "      <td>2017-04-26 14:43:20</td>\n",
       "      <td>48165623</td>\n",
       "      <td>{}</td>\n",
       "      <td>POINT (6.16037 49.11819)</td>\n",
       "      <td>NaN</td>\n",
       "      <td>NaN</td>\n",
       "    </tr>\n",
       "    <tr>\n",
       "      <th>4</th>\n",
       "      <td>148969</td>\n",
       "      <td>14</td>\n",
       "      <td>420980</td>\n",
       "      <td>2018-10-23 11:53:56</td>\n",
       "      <td>63792931</td>\n",
       "      <td>{}</td>\n",
       "      <td>POINT (11.23781 60.42730)</td>\n",
       "      <td>NaN</td>\n",
       "      <td>NaN</td>\n",
       "    </tr>\n",
       "    <tr>\n",
       "      <th>...</th>\n",
       "      <td>...</td>\n",
       "      <td>...</td>\n",
       "      <td>...</td>\n",
       "      <td>...</td>\n",
       "      <td>...</td>\n",
       "      <td>...</td>\n",
       "      <td>...</td>\n",
       "      <td>...</td>\n",
       "      <td>...</td>\n",
       "    </tr>\n",
       "    <tr>\n",
       "      <th>103919</th>\n",
       "      <td>1189004157</td>\n",
       "      <td>1</td>\n",
       "      <td>124870</td>\n",
       "      <td>2023-07-11 21:48:37</td>\n",
       "      <td>138396881</td>\n",
       "      <td>{'place': 'islet', 'natural': 'coastline', 'se...</td>\n",
       "      <td>LINESTRING (20.21404 59.92802, 20.21401 59.928...</td>\n",
       "      <td>[11040467716, 11040467715, 11040467714, 110404...</td>\n",
       "      <td>0102000020E61000001D00000033B21A01CB36344034B8...</td>\n",
       "    </tr>\n",
       "    <tr>\n",
       "      <th>103920</th>\n",
       "      <td>1189004158</td>\n",
       "      <td>1</td>\n",
       "      <td>124870</td>\n",
       "      <td>2023-07-11 21:48:37</td>\n",
       "      <td>138396881</td>\n",
       "      <td>{'seamark:type': 'obstruction', 'seamark:obstr...</td>\n",
       "      <td>LINESTRING (20.20830 59.92634, 20.20831 59.926...</td>\n",
       "      <td>[11040467723, 11040467722, 11040467721, 110404...</td>\n",
       "      <td>0102000020E610000008000000641AF27453353440B583...</td>\n",
       "    </tr>\n",
       "    <tr>\n",
       "      <th>103921</th>\n",
       "      <td>1189004159</td>\n",
       "      <td>1</td>\n",
       "      <td>124870</td>\n",
       "      <td>2023-07-11 21:48:37</td>\n",
       "      <td>138396881</td>\n",
       "      <td>{'seamark:type': 'obstruction', 'seamark:obstr...</td>\n",
       "      <td>LINESTRING (20.20745 59.92661, 20.20746 59.926...</td>\n",
       "      <td>[11040467733, 11040467732, 11040467731, 110404...</td>\n",
       "      <td>0102000020E61000000800000099068F801B35344016E3...</td>\n",
       "    </tr>\n",
       "    <tr>\n",
       "      <th>103922</th>\n",
       "      <td>1189004571</td>\n",
       "      <td>1</td>\n",
       "      <td>124870</td>\n",
       "      <td>2023-07-11 21:52:06</td>\n",
       "      <td>138396972</td>\n",
       "      <td>{'place': 'islet', 'natural': 'coastline', 'se...</td>\n",
       "      <td>LINESTRING (20.21543 59.92796, 20.21547 59.927...</td>\n",
       "      <td>[11040461987, 11040461986, 11040461985, 110404...</td>\n",
       "      <td>0102000020E61000001A000000DAFE959526373440534D...</td>\n",
       "    </tr>\n",
       "    <tr>\n",
       "      <th>103923</th>\n",
       "      <td>1189004572</td>\n",
       "      <td>1</td>\n",
       "      <td>124870</td>\n",
       "      <td>2023-07-11 21:52:06</td>\n",
       "      <td>138396972</td>\n",
       "      <td>{'place': 'islet', 'natural': 'coastline', 'se...</td>\n",
       "      <td>LINESTRING (20.21358 59.92801, 20.21354 59.928...</td>\n",
       "      <td>[11040475920, 11040475919, 11040475918, 110404...</td>\n",
       "      <td>0102000020E610000022000000EF9BB11EAD3634404C9E...</td>\n",
       "    </tr>\n",
       "  </tbody>\n",
       "</table>\n",
       "<p>2228623 rows × 9 columns</p>\n",
       "</div>"
      ],
      "text/plain": [
       "                id  version  user_id               tstamp  changeset_id   \n",
       "0           106904        5  4948143  2020-06-15 19:23:35      86684855  \\\n",
       "1           108735        6  4948143  2020-06-15 19:23:35      86684855   \n",
       "2           110210        7  4948143  2020-06-15 19:23:35      86684855   \n",
       "3           142325        5    53773  2017-04-26 14:43:20      48165623   \n",
       "4           148969       14   420980  2018-10-23 11:53:56      63792931   \n",
       "...            ...      ...      ...                  ...           ...   \n",
       "103919  1189004157        1   124870  2023-07-11 21:48:37     138396881   \n",
       "103920  1189004158        1   124870  2023-07-11 21:48:37     138396881   \n",
       "103921  1189004159        1   124870  2023-07-11 21:48:37     138396881   \n",
       "103922  1189004571        1   124870  2023-07-11 21:52:06     138396972   \n",
       "103923  1189004572        1   124870  2023-07-11 21:52:06     138396972   \n",
       "\n",
       "                                                     tags   \n",
       "0       {'waterway': 'lock_gate', 'seamark:type': 'gate'}  \\\n",
       "1       {'waterway': 'lock_gate', 'seamark:type': 'gate'}   \n",
       "2       {'waterway': 'lock_gate', 'seamark:type': 'gate'}   \n",
       "3                                                      {}   \n",
       "4                                                      {}   \n",
       "...                                                   ...   \n",
       "103919  {'place': 'islet', 'natural': 'coastline', 'se...   \n",
       "103920  {'seamark:type': 'obstruction', 'seamark:obstr...   \n",
       "103921  {'seamark:type': 'obstruction', 'seamark:obstr...   \n",
       "103922  {'place': 'islet', 'natural': 'coastline', 'se...   \n",
       "103923  {'place': 'islet', 'natural': 'coastline', 'se...   \n",
       "\n",
       "                                                     geom   \n",
       "0                               POINT (-0.03623 51.51956)  \\\n",
       "1                               POINT (-0.03489 51.51475)   \n",
       "2                               POINT (-0.03777 51.52499)   \n",
       "3                                POINT (6.16037 49.11819)   \n",
       "4                               POINT (11.23781 60.42730)   \n",
       "...                                                   ...   \n",
       "103919  LINESTRING (20.21404 59.92802, 20.21401 59.928...   \n",
       "103920  LINESTRING (20.20830 59.92634, 20.20831 59.926...   \n",
       "103921  LINESTRING (20.20745 59.92661, 20.20746 59.926...   \n",
       "103922  LINESTRING (20.21543 59.92796, 20.21547 59.927...   \n",
       "103923  LINESTRING (20.21358 59.92801, 20.21354 59.928...   \n",
       "\n",
       "                                                    nodes   \n",
       "0                                                     NaN  \\\n",
       "1                                                     NaN   \n",
       "2                                                     NaN   \n",
       "3                                                     NaN   \n",
       "4                                                     NaN   \n",
       "...                                                   ...   \n",
       "103919  [11040467716, 11040467715, 11040467714, 110404...   \n",
       "103920  [11040467723, 11040467722, 11040467721, 110404...   \n",
       "103921  [11040467733, 11040467732, 11040467731, 110404...   \n",
       "103922  [11040461987, 11040461986, 11040461985, 110404...   \n",
       "103923  [11040475920, 11040475919, 11040475918, 110404...   \n",
       "\n",
       "                                               linestring  \n",
       "0                                                     NaN  \n",
       "1                                                     NaN  \n",
       "2                                                     NaN  \n",
       "3                                                     NaN  \n",
       "4                                                     NaN  \n",
       "...                                                   ...  \n",
       "103919  0102000020E61000001D00000033B21A01CB36344034B8...  \n",
       "103920  0102000020E610000008000000641AF27453353440B583...  \n",
       "103921  0102000020E61000000800000099068F801B35344016E3...  \n",
       "103922  0102000020E61000001A000000DAFE959526373440534D...  \n",
       "103923  0102000020E610000022000000EF9BB11EAD3634404C9E...  \n",
       "\n",
       "[2228623 rows x 9 columns]"
      ]
     },
     "execution_count": 19,
     "metadata": {},
     "output_type": "execute_result"
    }
   ],
   "source": [
    "concat_nodes_ways()"
   ]
  },
  {
   "cell_type": "code",
   "execution_count": 20,
   "id": "98f73539",
   "metadata": {},
   "outputs": [],
   "source": [
    "def gdf_seamark_combined_nodes_ways():\n",
    "    \"\"\"\n",
    "     Create new GeoDataFrame with specified seamark tags\n",
    "\n",
    "     Parameters\n",
    "     ----------\n",
    "     engine : sqlalchemy engine\n",
    "         engine object\n",
    "\n",
    "     query : list\n",
    "         list of str for the sql query for table nodes and ways\n",
    "\n",
    "     seamark_object : list\n",
    "        value nodes, ways (which table to be considered)\n",
    "\n",
    "     seamark_list : list\n",
    "         list of all the tags that must be considered for filtering specific seamark objects\n",
    "\n",
    "\n",
    "     Returns\n",
    "     ----------\n",
    "     gdf_concat : GeoDataFrame\n",
    "         gdf including all the features with specified seamark tags using nodes and ways OSM element\n",
    "     \"\"\"\n",
    "    # gdf_concat = gpd.GeoDataFrame()\n",
    "    seamark_list = [\"separation_line\", \"separation_zone\", \"restricted_areas\"]\n",
    "\n",
    "    if (\"nodes\" in [\"nodes\",\"ways\"]) and (\"ways\" in [\"nodes\",\"ways\"]): #and set(seamark_list).issubset(self.tags):\n",
    "        gdf = concat_nodes_ways()\n",
    "\n",
    "        gdf_list = []\n",
    "        for i in range(0, len(seamark_list)):\n",
    "            if type(gdf[\"tags\"].iloc[i]) == str:\n",
    "                gdf[\"tags\"] = gdf[\"tags\"].apply(ast.literal_eval)\n",
    "                gdf1 = gdf[\n",
    "                    gdf[\"tags\"].apply(lambda x: seamark_list[i] in x.values())\n",
    "                ]\n",
    "                gdf_list.append(gdf1)\n",
    "            else:\n",
    "                gdf1 = gdf[\n",
    "                    gdf[\"tags\"].apply(lambda x: seamark_list[i] in x.values())\n",
    "                ]\n",
    "                gdf_list.append(gdf1)\n",
    "\n",
    "        gdf_concat = pd.concat(gdf_list)\n",
    "        print(f'concat geodataframe is {gdf_concat}')\n",
    "    else:\n",
    "        gdf_concat = gpd.GeoDataFrame()\n",
    "        print(f' error concat geodataframe is {gdf_concat}')\n",
    "        logger.info(\"Check the seamark object and seamark tag list\")\n",
    "\n",
    "    return gdf_concat\n",
    "\n",
    "    "
   ]
  },
  {
   "cell_type": "code",
   "execution_count": 21,
   "id": "906027eb",
   "metadata": {},
   "outputs": [
    {
     "name": "stdout",
     "output_type": "stream",
     "text": [
      "concat geodataframe is                 id  version   user_id               tstamp  changeset_id   \n",
      "9        112284719        1    128186  2011-05-08 05:42:39       8079069  \\\n",
      "91       112284722        1    128186  2011-05-08 05:42:39       8079069   \n",
      "2265     112284730        1    128186  2011-05-08 05:42:40       8079069   \n",
      "2276     112284731        1    128186  2011-05-08 05:42:40       8079069   \n",
      "3334     171432787        2     84409  2012-07-28 07:19:42      12519566   \n",
      "...            ...      ...       ...                  ...           ...   \n",
      "102890  1175018154        1  18777513  2023-05-22 11:25:21     136408613   \n",
      "102891  1175018155        1  18777513  2023-05-22 11:25:21     136408613   \n",
      "102896  1175018160        1  18777513  2023-05-22 11:25:21     136408613   \n",
      "102897  1175018161        1  18777513  2023-05-22 11:25:21     136408613   \n",
      "102898  1175018162        1  18777513  2023-05-22 11:25:21     136408613   \n",
      "\n",
      "                                       tags   \n",
      "9       {'seamark:type': 'separation_line'}  \\\n",
      "91      {'seamark:type': 'separation_line'}   \n",
      "2265    {'seamark:type': 'separation_line'}   \n",
      "2276    {'seamark:type': 'separation_line'}   \n",
      "3334    {'seamark:type': 'separation_line'}   \n",
      "...                                     ...   \n",
      "102890  {'seamark:type': 'separation_zone'}   \n",
      "102891  {'seamark:type': 'separation_zone'}   \n",
      "102896  {'seamark:type': 'separation_zone'}   \n",
      "102897  {'seamark:type': 'separation_zone'}   \n",
      "102898  {'seamark:type': 'separation_zone'}   \n",
      "\n",
      "                                                     geom   \n",
      "9         LINESTRING (0.18577 53.54447, 0.21993 53.54697)  \\\n",
      "91        LINESTRING (0.29078 53.52062, 0.34667 53.49817)   \n",
      "2265    LINESTRING (0.28449 53.57461, 0.34421 53.61661...   \n",
      "2276      LINESTRING (0.30492 53.54530, 0.38267 53.54533)   \n",
      "3334    LINESTRING (28.35444 60.47129, 28.35452 60.54584)   \n",
      "...                                                   ...   \n",
      "102890  LINESTRING (-6.65783 50.04217, -6.70833 50.051...   \n",
      "102891  LINESTRING (-6.61217 49.87367, -6.54633 50.021...   \n",
      "102896  LINESTRING (-6.27667 49.60933, -6.56167 49.609...   \n",
      "102897  LINESTRING (-6.27667 49.69250, -6.52450 49.692...   \n",
      "102898  LINESTRING (-6.27667 49.76833, -6.49167 49.768...   \n",
      "\n",
      "                                                    nodes   \n",
      "9                                  [838043893, 838042689]  \\\n",
      "91                                 [863140180, 863865058]   \n",
      "2265                 [1276680173, 1276680131, 1276680154]   \n",
      "2276                               [863140151, 863864734]   \n",
      "3334                             [1824599580, 1824600922]   \n",
      "...                                                   ...   \n",
      "102890  [10918123277, 10918123280, 10918123279, 109181...   \n",
      "102891  [10918123281, 10918123284, 10918123283, 109181...   \n",
      "102896  [10918123291, 10918123294, 10918123293, 109181...   \n",
      "102897  [10918123295, 10918123298, 10918123297, 109181...   \n",
      "102898  [10918123299, 10918123302, 10918123301, 109181...   \n",
      "\n",
      "                                               linestring  \n",
      "9       0102000020E61000000200000048F949B54FC7C73F2860...  \n",
      "91      0102000020E610000002000000ACE5CE4C309CD23FEE5E...  \n",
      "2265    0102000020E6100000030000008B8BA3721335D23F5F7E...  \n",
      "2276    0102000020E610000002000000C6A4BF97C283D33F2041...  \n",
      "3334    0102000020E6100000020000007CF1457BBC5A3C40AC84...  \n",
      "...                                                   ...  \n",
      "102890  0102000020E61000000500000008E1760D9FA11AC079BD...  \n",
      "102891  0102000020E6100000050000000DCDD0D3DB721AC0580D...  \n",
      "102896  0102000020E610000005000000A891F1834E1B19C090EE...  \n",
      "102897  0102000020E610000005000000A891F1834E1B19C0713D...  \n",
      "102898  0102000020E610000005000000A891F1834E1B19C0C1F6...  \n",
      "\n",
      "[507 rows x 9 columns]\n"
     ]
    },
    {
     "data": {
      "text/html": [
       "<div>\n",
       "<style scoped>\n",
       "    .dataframe tbody tr th:only-of-type {\n",
       "        vertical-align: middle;\n",
       "    }\n",
       "\n",
       "    .dataframe tbody tr th {\n",
       "        vertical-align: top;\n",
       "    }\n",
       "\n",
       "    .dataframe thead th {\n",
       "        text-align: right;\n",
       "    }\n",
       "</style>\n",
       "<table border=\"1\" class=\"dataframe\">\n",
       "  <thead>\n",
       "    <tr style=\"text-align: right;\">\n",
       "      <th></th>\n",
       "      <th>id</th>\n",
       "      <th>version</th>\n",
       "      <th>user_id</th>\n",
       "      <th>tstamp</th>\n",
       "      <th>changeset_id</th>\n",
       "      <th>tags</th>\n",
       "      <th>geom</th>\n",
       "      <th>nodes</th>\n",
       "      <th>linestring</th>\n",
       "    </tr>\n",
       "  </thead>\n",
       "  <tbody>\n",
       "    <tr>\n",
       "      <th>9</th>\n",
       "      <td>112284719</td>\n",
       "      <td>1</td>\n",
       "      <td>128186</td>\n",
       "      <td>2011-05-08 05:42:39</td>\n",
       "      <td>8079069</td>\n",
       "      <td>{'seamark:type': 'separation_line'}</td>\n",
       "      <td>LINESTRING (0.18577 53.54447, 0.21993 53.54697)</td>\n",
       "      <td>[838043893, 838042689]</td>\n",
       "      <td>0102000020E61000000200000048F949B54FC7C73F2860...</td>\n",
       "    </tr>\n",
       "    <tr>\n",
       "      <th>91</th>\n",
       "      <td>112284722</td>\n",
       "      <td>1</td>\n",
       "      <td>128186</td>\n",
       "      <td>2011-05-08 05:42:39</td>\n",
       "      <td>8079069</td>\n",
       "      <td>{'seamark:type': 'separation_line'}</td>\n",
       "      <td>LINESTRING (0.29078 53.52062, 0.34667 53.49817)</td>\n",
       "      <td>[863140180, 863865058]</td>\n",
       "      <td>0102000020E610000002000000ACE5CE4C309CD23FEE5E...</td>\n",
       "    </tr>\n",
       "    <tr>\n",
       "      <th>2265</th>\n",
       "      <td>112284730</td>\n",
       "      <td>1</td>\n",
       "      <td>128186</td>\n",
       "      <td>2011-05-08 05:42:40</td>\n",
       "      <td>8079069</td>\n",
       "      <td>{'seamark:type': 'separation_line'}</td>\n",
       "      <td>LINESTRING (0.28449 53.57461, 0.34421 53.61661...</td>\n",
       "      <td>[1276680173, 1276680131, 1276680154]</td>\n",
       "      <td>0102000020E6100000030000008B8BA3721335D23F5F7E...</td>\n",
       "    </tr>\n",
       "    <tr>\n",
       "      <th>2276</th>\n",
       "      <td>112284731</td>\n",
       "      <td>1</td>\n",
       "      <td>128186</td>\n",
       "      <td>2011-05-08 05:42:40</td>\n",
       "      <td>8079069</td>\n",
       "      <td>{'seamark:type': 'separation_line'}</td>\n",
       "      <td>LINESTRING (0.30492 53.54530, 0.38267 53.54533)</td>\n",
       "      <td>[863140151, 863864734]</td>\n",
       "      <td>0102000020E610000002000000C6A4BF97C283D33F2041...</td>\n",
       "    </tr>\n",
       "    <tr>\n",
       "      <th>3334</th>\n",
       "      <td>171432787</td>\n",
       "      <td>2</td>\n",
       "      <td>84409</td>\n",
       "      <td>2012-07-28 07:19:42</td>\n",
       "      <td>12519566</td>\n",
       "      <td>{'seamark:type': 'separation_line'}</td>\n",
       "      <td>LINESTRING (28.35444 60.47129, 28.35452 60.54584)</td>\n",
       "      <td>[1824599580, 1824600922]</td>\n",
       "      <td>0102000020E6100000020000007CF1457BBC5A3C40AC84...</td>\n",
       "    </tr>\n",
       "    <tr>\n",
       "      <th>...</th>\n",
       "      <td>...</td>\n",
       "      <td>...</td>\n",
       "      <td>...</td>\n",
       "      <td>...</td>\n",
       "      <td>...</td>\n",
       "      <td>...</td>\n",
       "      <td>...</td>\n",
       "      <td>...</td>\n",
       "      <td>...</td>\n",
       "    </tr>\n",
       "    <tr>\n",
       "      <th>102890</th>\n",
       "      <td>1175018154</td>\n",
       "      <td>1</td>\n",
       "      <td>18777513</td>\n",
       "      <td>2023-05-22 11:25:21</td>\n",
       "      <td>136408613</td>\n",
       "      <td>{'seamark:type': 'separation_zone'}</td>\n",
       "      <td>LINESTRING (-6.65783 50.04217, -6.70833 50.051...</td>\n",
       "      <td>[10918123277, 10918123280, 10918123279, 109181...</td>\n",
       "      <td>0102000020E61000000500000008E1760D9FA11AC079BD...</td>\n",
       "    </tr>\n",
       "    <tr>\n",
       "      <th>102891</th>\n",
       "      <td>1175018155</td>\n",
       "      <td>1</td>\n",
       "      <td>18777513</td>\n",
       "      <td>2023-05-22 11:25:21</td>\n",
       "      <td>136408613</td>\n",
       "      <td>{'seamark:type': 'separation_zone'}</td>\n",
       "      <td>LINESTRING (-6.61217 49.87367, -6.54633 50.021...</td>\n",
       "      <td>[10918123281, 10918123284, 10918123283, 109181...</td>\n",
       "      <td>0102000020E6100000050000000DCDD0D3DB721AC0580D...</td>\n",
       "    </tr>\n",
       "    <tr>\n",
       "      <th>102896</th>\n",
       "      <td>1175018160</td>\n",
       "      <td>1</td>\n",
       "      <td>18777513</td>\n",
       "      <td>2023-05-22 11:25:21</td>\n",
       "      <td>136408613</td>\n",
       "      <td>{'seamark:type': 'separation_zone'}</td>\n",
       "      <td>LINESTRING (-6.27667 49.60933, -6.56167 49.609...</td>\n",
       "      <td>[10918123291, 10918123294, 10918123293, 109181...</td>\n",
       "      <td>0102000020E610000005000000A891F1834E1B19C090EE...</td>\n",
       "    </tr>\n",
       "    <tr>\n",
       "      <th>102897</th>\n",
       "      <td>1175018161</td>\n",
       "      <td>1</td>\n",
       "      <td>18777513</td>\n",
       "      <td>2023-05-22 11:25:21</td>\n",
       "      <td>136408613</td>\n",
       "      <td>{'seamark:type': 'separation_zone'}</td>\n",
       "      <td>LINESTRING (-6.27667 49.69250, -6.52450 49.692...</td>\n",
       "      <td>[10918123295, 10918123298, 10918123297, 109181...</td>\n",
       "      <td>0102000020E610000005000000A891F1834E1B19C0713D...</td>\n",
       "    </tr>\n",
       "    <tr>\n",
       "      <th>102898</th>\n",
       "      <td>1175018162</td>\n",
       "      <td>1</td>\n",
       "      <td>18777513</td>\n",
       "      <td>2023-05-22 11:25:21</td>\n",
       "      <td>136408613</td>\n",
       "      <td>{'seamark:type': 'separation_zone'}</td>\n",
       "      <td>LINESTRING (-6.27667 49.76833, -6.49167 49.768...</td>\n",
       "      <td>[10918123299, 10918123302, 10918123301, 109181...</td>\n",
       "      <td>0102000020E610000005000000A891F1834E1B19C0C1F6...</td>\n",
       "    </tr>\n",
       "  </tbody>\n",
       "</table>\n",
       "<p>507 rows × 9 columns</p>\n",
       "</div>"
      ],
      "text/plain": [
       "                id  version   user_id               tstamp  changeset_id   \n",
       "9        112284719        1    128186  2011-05-08 05:42:39       8079069  \\\n",
       "91       112284722        1    128186  2011-05-08 05:42:39       8079069   \n",
       "2265     112284730        1    128186  2011-05-08 05:42:40       8079069   \n",
       "2276     112284731        1    128186  2011-05-08 05:42:40       8079069   \n",
       "3334     171432787        2     84409  2012-07-28 07:19:42      12519566   \n",
       "...            ...      ...       ...                  ...           ...   \n",
       "102890  1175018154        1  18777513  2023-05-22 11:25:21     136408613   \n",
       "102891  1175018155        1  18777513  2023-05-22 11:25:21     136408613   \n",
       "102896  1175018160        1  18777513  2023-05-22 11:25:21     136408613   \n",
       "102897  1175018161        1  18777513  2023-05-22 11:25:21     136408613   \n",
       "102898  1175018162        1  18777513  2023-05-22 11:25:21     136408613   \n",
       "\n",
       "                                       tags   \n",
       "9       {'seamark:type': 'separation_line'}  \\\n",
       "91      {'seamark:type': 'separation_line'}   \n",
       "2265    {'seamark:type': 'separation_line'}   \n",
       "2276    {'seamark:type': 'separation_line'}   \n",
       "3334    {'seamark:type': 'separation_line'}   \n",
       "...                                     ...   \n",
       "102890  {'seamark:type': 'separation_zone'}   \n",
       "102891  {'seamark:type': 'separation_zone'}   \n",
       "102896  {'seamark:type': 'separation_zone'}   \n",
       "102897  {'seamark:type': 'separation_zone'}   \n",
       "102898  {'seamark:type': 'separation_zone'}   \n",
       "\n",
       "                                                     geom   \n",
       "9         LINESTRING (0.18577 53.54447, 0.21993 53.54697)  \\\n",
       "91        LINESTRING (0.29078 53.52062, 0.34667 53.49817)   \n",
       "2265    LINESTRING (0.28449 53.57461, 0.34421 53.61661...   \n",
       "2276      LINESTRING (0.30492 53.54530, 0.38267 53.54533)   \n",
       "3334    LINESTRING (28.35444 60.47129, 28.35452 60.54584)   \n",
       "...                                                   ...   \n",
       "102890  LINESTRING (-6.65783 50.04217, -6.70833 50.051...   \n",
       "102891  LINESTRING (-6.61217 49.87367, -6.54633 50.021...   \n",
       "102896  LINESTRING (-6.27667 49.60933, -6.56167 49.609...   \n",
       "102897  LINESTRING (-6.27667 49.69250, -6.52450 49.692...   \n",
       "102898  LINESTRING (-6.27667 49.76833, -6.49167 49.768...   \n",
       "\n",
       "                                                    nodes   \n",
       "9                                  [838043893, 838042689]  \\\n",
       "91                                 [863140180, 863865058]   \n",
       "2265                 [1276680173, 1276680131, 1276680154]   \n",
       "2276                               [863140151, 863864734]   \n",
       "3334                             [1824599580, 1824600922]   \n",
       "...                                                   ...   \n",
       "102890  [10918123277, 10918123280, 10918123279, 109181...   \n",
       "102891  [10918123281, 10918123284, 10918123283, 109181...   \n",
       "102896  [10918123291, 10918123294, 10918123293, 109181...   \n",
       "102897  [10918123295, 10918123298, 10918123297, 109181...   \n",
       "102898  [10918123299, 10918123302, 10918123301, 109181...   \n",
       "\n",
       "                                               linestring  \n",
       "9       0102000020E61000000200000048F949B54FC7C73F2860...  \n",
       "91      0102000020E610000002000000ACE5CE4C309CD23FEE5E...  \n",
       "2265    0102000020E6100000030000008B8BA3721335D23F5F7E...  \n",
       "2276    0102000020E610000002000000C6A4BF97C283D33F2041...  \n",
       "3334    0102000020E6100000020000007CF1457BBC5A3C40AC84...  \n",
       "...                                                   ...  \n",
       "102890  0102000020E61000000500000008E1760D9FA11AC079BD...  \n",
       "102891  0102000020E6100000050000000DCDD0D3DB721AC0580D...  \n",
       "102896  0102000020E610000005000000A891F1834E1B19C090EE...  \n",
       "102897  0102000020E610000005000000A891F1834E1B19C0713D...  \n",
       "102898  0102000020E610000005000000A891F1834E1B19C0C1F6...  \n",
       "\n",
       "[507 rows x 9 columns]"
      ]
     },
     "execution_count": 21,
     "metadata": {},
     "output_type": "execute_result"
    }
   ],
   "source": [
    "gdf_seamark_combined_nodes_ways()"
   ]
  },
  {
   "cell_type": "code",
   "execution_count": 22,
   "id": "25bdbd9b",
   "metadata": {},
   "outputs": [],
   "source": [
    "from shapely.geometry import Point,LineString\n",
    "from shapely import STRtree"
   ]
  },
  {
   "cell_type": "code",
   "execution_count": 52,
   "id": "86e70de7",
   "metadata": {},
   "outputs": [],
   "source": [
    "def check_crossing(lat_start, lon_start, lat_end, lon_end,\n",
    "                       time=None):  # best way to go (keep just these arguments)\n",
    "        \"\"\"\n",
    "         Check if certain route crosses specified seamark objects\n",
    "\n",
    "         Parameters\n",
    "         ----------\n",
    "         lat_start : np.array\n",
    "            array of all origin latitudes of routing segments\n",
    "\n",
    "        lon_start : np.array\n",
    "            array of all origin longitudes of routing segments\n",
    "\n",
    "         lat_end : np.array\n",
    "            array of all destination latitudes of routing segments\n",
    "\n",
    "        lon_end : np.array\n",
    "            array of all destination longitudes of routing segments\n",
    "\n",
    "         time : datetime.datetime (optional argument)\n",
    "\n",
    "         Returns\n",
    "         ----------\n",
    "         query_tree : list\n",
    "             bool of spatial relation result (True or False)\n",
    "         \"\"\"\n",
    "\n",
    "        query_tree = []\n",
    "\n",
    "        concat_gdf = gdf_seamark_combined_nodes_ways()\n",
    "        print(concat_gdf.head())\n",
    "        lines = []\n",
    "\n",
    "        # generating the LineString geometry from start and end point\n",
    "        print(type(lat_start))\n",
    "        #for i in range(len(lat_start)):\n",
    "        #start_point = Point(lat_start, lon_start)\n",
    "        start_point = Point(lon_start,lat_start)\n",
    "#         print(start_point.x)\n",
    "#         print(start_point.y)\n",
    "        end_point = Point(lon_end,lat_end)\n",
    "        line = LineString([start_point, end_point])\n",
    "        # start_point = Point(lon_start[i], lat_start[i])\n",
    "        # end_point = Point(lon_end[i], lat_end[i])\n",
    "        # line = LineString([start_point, end_point])\n",
    "        lines.append(line)\n",
    "\n",
    "        # creating geospatial dataframe objects from linestring geometries\n",
    "        route_df = gpd.GeoDataFrame(geometry=lines)\n",
    "\n",
    "        # checking the spatial relations using shapely.STRTree spatial indexing method\n",
    "        #for predicate in self.predicates:\n",
    "        concat_df = concat_gdf\n",
    "        tree = STRtree(concat_df[\"geom\"])\n",
    "        geom_object = tree.query(route_df[\"geometry\"], predicate='contains').tolist()\n",
    "\n",
    "        # checks if there is spatial relation between routes and seamarks objects\n",
    "        if geom_object == [[], []] or geom_object == []:\n",
    "            # if route is not constrained\n",
    "            query_tree.append(False)\n",
    "        else:\n",
    "            # if route is constrained\n",
    "            query_tree.append(True)\n",
    "\n",
    "        # returns a list bools (spatial relation)\n",
    "        return query_tree"
   ]
  },
  {
   "cell_type": "code",
   "execution_count": 56,
   "id": "0094575a",
   "metadata": {},
   "outputs": [
    {
     "name": "stdout",
     "output_type": "stream",
     "text": [
      "concat geodataframe is                 id  version   user_id               tstamp  changeset_id   \n",
      "9        112284719        1    128186  2011-05-08 05:42:39       8079069  \\\n",
      "91       112284722        1    128186  2011-05-08 05:42:39       8079069   \n",
      "2265     112284730        1    128186  2011-05-08 05:42:40       8079069   \n",
      "2276     112284731        1    128186  2011-05-08 05:42:40       8079069   \n",
      "3334     171432787        2     84409  2012-07-28 07:19:42      12519566   \n",
      "...            ...      ...       ...                  ...           ...   \n",
      "102890  1175018154        1  18777513  2023-05-22 11:25:21     136408613   \n",
      "102891  1175018155        1  18777513  2023-05-22 11:25:21     136408613   \n",
      "102896  1175018160        1  18777513  2023-05-22 11:25:21     136408613   \n",
      "102897  1175018161        1  18777513  2023-05-22 11:25:21     136408613   \n",
      "102898  1175018162        1  18777513  2023-05-22 11:25:21     136408613   \n",
      "\n",
      "                                       tags   \n",
      "9       {'seamark:type': 'separation_line'}  \\\n",
      "91      {'seamark:type': 'separation_line'}   \n",
      "2265    {'seamark:type': 'separation_line'}   \n",
      "2276    {'seamark:type': 'separation_line'}   \n",
      "3334    {'seamark:type': 'separation_line'}   \n",
      "...                                     ...   \n",
      "102890  {'seamark:type': 'separation_zone'}   \n",
      "102891  {'seamark:type': 'separation_zone'}   \n",
      "102896  {'seamark:type': 'separation_zone'}   \n",
      "102897  {'seamark:type': 'separation_zone'}   \n",
      "102898  {'seamark:type': 'separation_zone'}   \n",
      "\n",
      "                                                     geom   \n",
      "9         LINESTRING (0.18577 53.54447, 0.21993 53.54697)  \\\n",
      "91        LINESTRING (0.29078 53.52062, 0.34667 53.49817)   \n",
      "2265    LINESTRING (0.28449 53.57461, 0.34421 53.61661...   \n",
      "2276      LINESTRING (0.30492 53.54530, 0.38267 53.54533)   \n",
      "3334    LINESTRING (28.35444 60.47129, 28.35452 60.54584)   \n",
      "...                                                   ...   \n",
      "102890  LINESTRING (-6.65783 50.04217, -6.70833 50.051...   \n",
      "102891  LINESTRING (-6.61217 49.87367, -6.54633 50.021...   \n",
      "102896  LINESTRING (-6.27667 49.60933, -6.56167 49.609...   \n",
      "102897  LINESTRING (-6.27667 49.69250, -6.52450 49.692...   \n",
      "102898  LINESTRING (-6.27667 49.76833, -6.49167 49.768...   \n",
      "\n",
      "                                                    nodes   \n",
      "9                                  [838043893, 838042689]  \\\n",
      "91                                 [863140180, 863865058]   \n",
      "2265                 [1276680173, 1276680131, 1276680154]   \n",
      "2276                               [863140151, 863864734]   \n",
      "3334                             [1824599580, 1824600922]   \n",
      "...                                                   ...   \n",
      "102890  [10918123277, 10918123280, 10918123279, 109181...   \n",
      "102891  [10918123281, 10918123284, 10918123283, 109181...   \n",
      "102896  [10918123291, 10918123294, 10918123293, 109181...   \n",
      "102897  [10918123295, 10918123298, 10918123297, 109181...   \n",
      "102898  [10918123299, 10918123302, 10918123301, 109181...   \n",
      "\n",
      "                                               linestring  \n",
      "9       0102000020E61000000200000048F949B54FC7C73F2860...  \n",
      "91      0102000020E610000002000000ACE5CE4C309CD23FEE5E...  \n",
      "2265    0102000020E6100000030000008B8BA3721335D23F5F7E...  \n",
      "2276    0102000020E610000002000000C6A4BF97C283D33F2041...  \n",
      "3334    0102000020E6100000020000007CF1457BBC5A3C40AC84...  \n",
      "...                                                   ...  \n",
      "102890  0102000020E61000000500000008E1760D9FA11AC079BD...  \n",
      "102891  0102000020E6100000050000000DCDD0D3DB721AC0580D...  \n",
      "102896  0102000020E610000005000000A891F1834E1B19C090EE...  \n",
      "102897  0102000020E610000005000000A891F1834E1B19C0713D...  \n",
      "102898  0102000020E610000005000000A891F1834E1B19C0C1F6...  \n",
      "\n",
      "[507 rows x 9 columns]\n",
      "             id  version  user_id               tstamp  changeset_id   \n",
      "9     112284719        1   128186  2011-05-08 05:42:39       8079069  \\\n",
      "91    112284722        1   128186  2011-05-08 05:42:39       8079069   \n",
      "2265  112284730        1   128186  2011-05-08 05:42:40       8079069   \n",
      "2276  112284731        1   128186  2011-05-08 05:42:40       8079069   \n",
      "3334  171432787        2    84409  2012-07-28 07:19:42      12519566   \n",
      "\n",
      "                                     tags   \n",
      "9     {'seamark:type': 'separation_line'}  \\\n",
      "91    {'seamark:type': 'separation_line'}   \n",
      "2265  {'seamark:type': 'separation_line'}   \n",
      "2276  {'seamark:type': 'separation_line'}   \n",
      "3334  {'seamark:type': 'separation_line'}   \n",
      "\n",
      "                                                   geom   \n",
      "9       LINESTRING (0.18577 53.54447, 0.21993 53.54697)  \\\n",
      "91      LINESTRING (0.29078 53.52062, 0.34667 53.49817)   \n",
      "2265  LINESTRING (0.28449 53.57461, 0.34421 53.61661...   \n",
      "2276    LINESTRING (0.30492 53.54530, 0.38267 53.54533)   \n",
      "3334  LINESTRING (28.35444 60.47129, 28.35452 60.54584)   \n",
      "\n",
      "                                     nodes   \n",
      "9                   [838043893, 838042689]  \\\n",
      "91                  [863140180, 863865058]   \n",
      "2265  [1276680173, 1276680131, 1276680154]   \n",
      "2276                [863140151, 863864734]   \n",
      "3334              [1824599580, 1824600922]   \n",
      "\n",
      "                                             linestring  \n",
      "9     0102000020E61000000200000048F949B54FC7C73F2860...  \n",
      "91    0102000020E610000002000000ACE5CE4C309CD23FEE5E...  \n",
      "2265  0102000020E6100000030000008B8BA3721335D23F5F7E...  \n",
      "2276  0102000020E610000002000000C6A4BF97C283D33F2041...  \n",
      "3334  0102000020E6100000020000007CF1457BBC5A3C40AC84...  \n",
      "<class 'float'>\n"
     ]
    },
    {
     "data": {
      "text/plain": [
       "[False]"
      ]
     },
     "execution_count": 56,
     "metadata": {},
     "output_type": "execute_result"
    }
   ],
   "source": [
    "check_crossing(50.5545, 0.267850.7938, 0.4504,\n",
    "                       time=None)"
   ]
  },
  {
   "cell_type": "code",
   "execution_count": 38,
   "id": "893c062e",
   "metadata": {},
   "outputs": [],
   "source": [
    "s = Point(0.7553, 50.1417)"
   ]
  },
  {
   "cell_type": "code",
   "execution_count": 39,
   "id": "99b6fa5c",
   "metadata": {},
   "outputs": [],
   "source": [
    "L= Point(0.4504, 50.7938)"
   ]
  },
  {
   "cell_type": "code",
   "execution_count": 40,
   "id": "1200282c",
   "metadata": {},
   "outputs": [
    {
     "data": {
      "text/plain": [
       "50.7938"
      ]
     },
     "execution_count": 40,
     "metadata": {},
     "output_type": "execute_result"
    }
   ],
   "source": [
    "L.y"
   ]
  },
  {
   "cell_type": "code",
   "execution_count": null,
   "id": "a59bbcec",
   "metadata": {},
   "outputs": [],
   "source": []
  },
  {
   "cell_type": "code",
   "execution_count": null,
   "id": "6a542310",
   "metadata": {},
   "outputs": [],
   "source": []
  },
  {
   "cell_type": "code",
   "execution_count": 55,
   "id": "9d54e1ed",
   "metadata": {},
   "outputs": [
    {
     "name": "stdout",
     "output_type": "stream",
     "text": [
      "concat geodataframe is                 id  version   user_id               tstamp  changeset_id   \n",
      "9        112284719        1    128186  2011-05-08 05:42:39       8079069  \\\n",
      "91       112284722        1    128186  2011-05-08 05:42:39       8079069   \n",
      "2265     112284730        1    128186  2011-05-08 05:42:40       8079069   \n",
      "2276     112284731        1    128186  2011-05-08 05:42:40       8079069   \n",
      "3334     171432787        2     84409  2012-07-28 07:19:42      12519566   \n",
      "...            ...      ...       ...                  ...           ...   \n",
      "102890  1175018154        1  18777513  2023-05-22 11:25:21     136408613   \n",
      "102891  1175018155        1  18777513  2023-05-22 11:25:21     136408613   \n",
      "102896  1175018160        1  18777513  2023-05-22 11:25:21     136408613   \n",
      "102897  1175018161        1  18777513  2023-05-22 11:25:21     136408613   \n",
      "102898  1175018162        1  18777513  2023-05-22 11:25:21     136408613   \n",
      "\n",
      "                                       tags   \n",
      "9       {'seamark:type': 'separation_line'}  \\\n",
      "91      {'seamark:type': 'separation_line'}   \n",
      "2265    {'seamark:type': 'separation_line'}   \n",
      "2276    {'seamark:type': 'separation_line'}   \n",
      "3334    {'seamark:type': 'separation_line'}   \n",
      "...                                     ...   \n",
      "102890  {'seamark:type': 'separation_zone'}   \n",
      "102891  {'seamark:type': 'separation_zone'}   \n",
      "102896  {'seamark:type': 'separation_zone'}   \n",
      "102897  {'seamark:type': 'separation_zone'}   \n",
      "102898  {'seamark:type': 'separation_zone'}   \n",
      "\n",
      "                                                     geom   \n",
      "9         LINESTRING (0.18577 53.54447, 0.21993 53.54697)  \\\n",
      "91        LINESTRING (0.29078 53.52062, 0.34667 53.49817)   \n",
      "2265    LINESTRING (0.28449 53.57461, 0.34421 53.61661...   \n",
      "2276      LINESTRING (0.30492 53.54530, 0.38267 53.54533)   \n",
      "3334    LINESTRING (28.35444 60.47129, 28.35452 60.54584)   \n",
      "...                                                   ...   \n",
      "102890  LINESTRING (-6.65783 50.04217, -6.70833 50.051...   \n",
      "102891  LINESTRING (-6.61217 49.87367, -6.54633 50.021...   \n",
      "102896  LINESTRING (-6.27667 49.60933, -6.56167 49.609...   \n",
      "102897  LINESTRING (-6.27667 49.69250, -6.52450 49.692...   \n",
      "102898  LINESTRING (-6.27667 49.76833, -6.49167 49.768...   \n",
      "\n",
      "                                                    nodes   \n",
      "9                                  [838043893, 838042689]  \\\n",
      "91                                 [863140180, 863865058]   \n",
      "2265                 [1276680173, 1276680131, 1276680154]   \n",
      "2276                               [863140151, 863864734]   \n",
      "3334                             [1824599580, 1824600922]   \n",
      "...                                                   ...   \n",
      "102890  [10918123277, 10918123280, 10918123279, 109181...   \n",
      "102891  [10918123281, 10918123284, 10918123283, 109181...   \n",
      "102896  [10918123291, 10918123294, 10918123293, 109181...   \n",
      "102897  [10918123295, 10918123298, 10918123297, 109181...   \n",
      "102898  [10918123299, 10918123302, 10918123301, 109181...   \n",
      "\n",
      "                                               linestring  \n",
      "9       0102000020E61000000200000048F949B54FC7C73F2860...  \n",
      "91      0102000020E610000002000000ACE5CE4C309CD23FEE5E...  \n",
      "2265    0102000020E6100000030000008B8BA3721335D23F5F7E...  \n",
      "2276    0102000020E610000002000000C6A4BF97C283D33F2041...  \n",
      "3334    0102000020E6100000020000007CF1457BBC5A3C40AC84...  \n",
      "...                                                   ...  \n",
      "102890  0102000020E61000000500000008E1760D9FA11AC079BD...  \n",
      "102891  0102000020E6100000050000000DCDD0D3DB721AC0580D...  \n",
      "102896  0102000020E610000005000000A891F1834E1B19C090EE...  \n",
      "102897  0102000020E610000005000000A891F1834E1B19C0713D...  \n",
      "102898  0102000020E610000005000000A891F1834E1B19C0C1F6...  \n",
      "\n",
      "[507 rows x 9 columns]\n",
      "             id  version  user_id               tstamp  changeset_id   \n",
      "9     112284719        1   128186  2011-05-08 05:42:39       8079069  \\\n",
      "91    112284722        1   128186  2011-05-08 05:42:39       8079069   \n",
      "2265  112284730        1   128186  2011-05-08 05:42:40       8079069   \n",
      "2276  112284731        1   128186  2011-05-08 05:42:40       8079069   \n",
      "3334  171432787        2    84409  2012-07-28 07:19:42      12519566   \n",
      "\n",
      "                                     tags   \n",
      "9     {'seamark:type': 'separation_line'}  \\\n",
      "91    {'seamark:type': 'separation_line'}   \n",
      "2265  {'seamark:type': 'separation_line'}   \n",
      "2276  {'seamark:type': 'separation_line'}   \n",
      "3334  {'seamark:type': 'separation_line'}   \n",
      "\n",
      "                                                   geom   \n",
      "9       LINESTRING (0.18577 53.54447, 0.21993 53.54697)  \\\n",
      "91      LINESTRING (0.29078 53.52062, 0.34667 53.49817)   \n",
      "2265  LINESTRING (0.28449 53.57461, 0.34421 53.61661...   \n",
      "2276    LINESTRING (0.30492 53.54530, 0.38267 53.54533)   \n",
      "3334  LINESTRING (28.35444 60.47129, 28.35452 60.54584)   \n",
      "\n",
      "                                     nodes   \n",
      "9                   [838043893, 838042689]  \\\n",
      "91                  [863140180, 863865058]   \n",
      "2265  [1276680173, 1276680131, 1276680154]   \n",
      "2276                [863140151, 863864734]   \n",
      "3334              [1824599580, 1824600922]   \n",
      "\n",
      "                                             linestring  \n",
      "9     0102000020E61000000200000048F949B54FC7C73F2860...  \n",
      "91    0102000020E610000002000000ACE5CE4C309CD23FEE5E...  \n",
      "2265  0102000020E6100000030000008B8BA3721335D23F5F7E...  \n",
      "2276  0102000020E610000002000000C6A4BF97C283D33F2041...  \n",
      "3334  0102000020E6100000020000007CF1457BBC5A3C40AC84...  \n",
      "<class 'float'>\n"
     ]
    },
    {
     "data": {
      "text/plain": [
       "[False]"
      ]
     },
     "execution_count": 55,
     "metadata": {},
     "output_type": "execute_result"
    }
   ],
   "source": [
    "check_crossing(50.5545, 0.2678, 50.62379002869808, 0.26110753062442, \n",
    "                       time=None)"
   ]
  },
  {
   "cell_type": "code",
   "execution_count": null,
   "id": "504ba4b5",
   "metadata": {},
   "outputs": [],
   "source": []
  },
  {
   "cell_type": "code",
   "execution_count": null,
   "id": "d65afcd8",
   "metadata": {},
   "outputs": [],
   "source": []
  },
  {
   "cell_type": "code",
   "execution_count": 66,
   "id": "cb56c84c",
   "metadata": {},
   "outputs": [],
   "source": [
    "a = LineString([[0.2678, 50.5545], [0.3301241132339797, 50.47813892899026]])\n",
    "gpd.GeoDataFrame(geometry=[a], crs=\"EPSG:4326\").to_file('dataframe.geojson', driver='GeoJSON') \n",
    "\n",
    "\n"
   ]
  },
  {
   "cell_type": "code",
   "execution_count": 67,
   "id": "e70fd738",
   "metadata": {},
   "outputs": [],
   "source": [
    "a = LineString([[0.2678, 50.5545], [0.2237191019759942, 50.60833979707422]])\n",
    "gpd.GeoDataFrame(geometry=[a], crs=\"EPSG:4326\").to_file('dataframe2.geojson', driver='GeoJSON') "
   ]
  },
  {
   "cell_type": "code",
   "execution_count": null,
   "id": "1b7e5c6b",
   "metadata": {},
   "outputs": [],
   "source": []
  },
  {
   "cell_type": "code",
   "execution_count": null,
   "id": "39eab398",
   "metadata": {},
   "outputs": [],
   "source": []
  },
  {
   "cell_type": "code",
   "execution_count": null,
   "id": "77016815",
   "metadata": {},
   "outputs": [],
   "source": []
  },
  {
   "cell_type": "code",
   "execution_count": null,
   "id": "4b798c15",
   "metadata": {},
   "outputs": [],
   "source": []
  },
  {
   "cell_type": "code",
   "execution_count": 41,
   "id": "bb3b93c3",
   "metadata": {},
   "outputs": [
    {
     "data": {
      "text/html": [
       "<div style=\"width:100%;\"><div style=\"position:relative;width:100%;height:0;padding-bottom:60%;\"><span style=\"color:#565656\">Make this Notebook Trusted to load map: File -> Trust Notebook</span><iframe srcdoc=\"&lt;!DOCTYPE html&gt;\n",
       "&lt;html&gt;\n",
       "&lt;head&gt;\n",
       "    \n",
       "    &lt;meta http-equiv=&quot;content-type&quot; content=&quot;text/html; charset=UTF-8&quot; /&gt;\n",
       "    \n",
       "        &lt;script&gt;\n",
       "            L_NO_TOUCH = false;\n",
       "            L_DISABLE_3D = false;\n",
       "        &lt;/script&gt;\n",
       "    \n",
       "    &lt;style&gt;html, body {width: 100%;height: 100%;margin: 0;padding: 0;}&lt;/style&gt;\n",
       "    &lt;style&gt;#map {position:absolute;top:0;bottom:0;right:0;left:0;}&lt;/style&gt;\n",
       "    &lt;script src=&quot;https://cdn.jsdelivr.net/npm/leaflet@1.9.3/dist/leaflet.js&quot;&gt;&lt;/script&gt;\n",
       "    &lt;script src=&quot;https://code.jquery.com/jquery-1.12.4.min.js&quot;&gt;&lt;/script&gt;\n",
       "    &lt;script src=&quot;https://cdn.jsdelivr.net/npm/bootstrap@5.2.2/dist/js/bootstrap.bundle.min.js&quot;&gt;&lt;/script&gt;\n",
       "    &lt;script src=&quot;https://cdnjs.cloudflare.com/ajax/libs/Leaflet.awesome-markers/2.0.2/leaflet.awesome-markers.js&quot;&gt;&lt;/script&gt;\n",
       "    &lt;link rel=&quot;stylesheet&quot; href=&quot;https://cdn.jsdelivr.net/npm/leaflet@1.9.3/dist/leaflet.css&quot;/&gt;\n",
       "    &lt;link rel=&quot;stylesheet&quot; href=&quot;https://cdn.jsdelivr.net/npm/bootstrap@5.2.2/dist/css/bootstrap.min.css&quot;/&gt;\n",
       "    &lt;link rel=&quot;stylesheet&quot; href=&quot;https://netdna.bootstrapcdn.com/bootstrap/3.0.0/css/bootstrap.min.css&quot;/&gt;\n",
       "    &lt;link rel=&quot;stylesheet&quot; href=&quot;https://cdn.jsdelivr.net/npm/@fortawesome/fontawesome-free@6.2.0/css/all.min.css&quot;/&gt;\n",
       "    &lt;link rel=&quot;stylesheet&quot; href=&quot;https://cdnjs.cloudflare.com/ajax/libs/Leaflet.awesome-markers/2.0.2/leaflet.awesome-markers.css&quot;/&gt;\n",
       "    &lt;link rel=&quot;stylesheet&quot; href=&quot;https://cdn.jsdelivr.net/gh/python-visualization/folium/folium/templates/leaflet.awesome.rotate.min.css&quot;/&gt;\n",
       "    \n",
       "            &lt;meta name=&quot;viewport&quot; content=&quot;width=device-width,\n",
       "                initial-scale=1.0, maximum-scale=1.0, user-scalable=no&quot; /&gt;\n",
       "            &lt;style&gt;\n",
       "                #map_b63f4d553f09bb89d8593aa76a4fddee {\n",
       "                    position: relative;\n",
       "                    width: 100.0%;\n",
       "                    height: 100.0%;\n",
       "                    left: 0.0%;\n",
       "                    top: 0.0%;\n",
       "                }\n",
       "                .leaflet-container { font-size: 1rem; }\n",
       "            &lt;/style&gt;\n",
       "        \n",
       "    \n",
       "                    &lt;style&gt;\n",
       "                        .foliumtooltip {\n",
       "                            \n",
       "                        }\n",
       "                       .foliumtooltip table{\n",
       "                            margin: auto;\n",
       "                        }\n",
       "                        .foliumtooltip tr{\n",
       "                            text-align: left;\n",
       "                        }\n",
       "                        .foliumtooltip th{\n",
       "                            padding: 2px; padding-right: 8px;\n",
       "                        }\n",
       "                    &lt;/style&gt;\n",
       "            \n",
       "&lt;/head&gt;\n",
       "&lt;body&gt;\n",
       "    \n",
       "    \n",
       "            &lt;div class=&quot;folium-map&quot; id=&quot;map_b63f4d553f09bb89d8593aa76a4fddee&quot; &gt;&lt;/div&gt;\n",
       "        \n",
       "&lt;/body&gt;\n",
       "&lt;script&gt;\n",
       "    \n",
       "    \n",
       "            var map_b63f4d553f09bb89d8593aa76a4fddee = L.map(\n",
       "                &quot;map_b63f4d553f09bb89d8593aa76a4fddee&quot;,\n",
       "                {\n",
       "                    center: [50.467749999999995, 0.60285],\n",
       "                    crs: L.CRS.EPSG3857,\n",
       "                    zoom: 10,\n",
       "                    zoomControl: true,\n",
       "                    preferCanvas: false,\n",
       "                }\n",
       "            );\n",
       "            L.control.scale().addTo(map_b63f4d553f09bb89d8593aa76a4fddee);\n",
       "\n",
       "            \n",
       "\n",
       "        \n",
       "    \n",
       "            var tile_layer_dd9ea1d452484ed559949d922414edbc = L.tileLayer(\n",
       "                &quot;https://{s}.tile.openstreetmap.org/{z}/{x}/{y}.png&quot;,\n",
       "                {&quot;attribution&quot;: &quot;Data by \\u0026copy; \\u003ca target=\\&quot;_blank\\&quot; href=\\&quot;http://openstreetmap.org\\&quot;\\u003eOpenStreetMap\\u003c/a\\u003e, under \\u003ca target=\\&quot;_blank\\&quot; href=\\&quot;http://www.openstreetmap.org/copyright\\&quot;\\u003eODbL\\u003c/a\\u003e.&quot;, &quot;detectRetina&quot;: false, &quot;maxNativeZoom&quot;: 18, &quot;maxZoom&quot;: 18, &quot;minZoom&quot;: 0, &quot;noWrap&quot;: false, &quot;opacity&quot;: 1, &quot;subdomains&quot;: &quot;abc&quot;, &quot;tms&quot;: false}\n",
       "            ).addTo(map_b63f4d553f09bb89d8593aa76a4fddee);\n",
       "        \n",
       "    \n",
       "            map_b63f4d553f09bb89d8593aa76a4fddee.fitBounds(\n",
       "                [[50.1417, 0.4504], [50.7938, 0.7553]],\n",
       "                {}\n",
       "            );\n",
       "        \n",
       "    \n",
       "        function geo_json_60c2e75ef92f0863ea37cb1904512fe3_styler(feature) {\n",
       "            switch(feature.id) {\n",
       "                default:\n",
       "                    return {&quot;fillOpacity&quot;: 0.5, &quot;weight&quot;: 2};\n",
       "            }\n",
       "        }\n",
       "        function geo_json_60c2e75ef92f0863ea37cb1904512fe3_highlighter(feature) {\n",
       "            switch(feature.id) {\n",
       "                default:\n",
       "                    return {&quot;fillOpacity&quot;: 0.75};\n",
       "            }\n",
       "        }\n",
       "        function geo_json_60c2e75ef92f0863ea37cb1904512fe3_pointToLayer(feature, latlng) {\n",
       "            var opts = {&quot;bubblingMouseEvents&quot;: true, &quot;color&quot;: &quot;#3388ff&quot;, &quot;dashArray&quot;: null, &quot;dashOffset&quot;: null, &quot;fill&quot;: true, &quot;fillColor&quot;: &quot;#3388ff&quot;, &quot;fillOpacity&quot;: 0.2, &quot;fillRule&quot;: &quot;evenodd&quot;, &quot;lineCap&quot;: &quot;round&quot;, &quot;lineJoin&quot;: &quot;round&quot;, &quot;opacity&quot;: 1.0, &quot;radius&quot;: 2, &quot;stroke&quot;: true, &quot;weight&quot;: 3};\n",
       "            \n",
       "            let style = geo_json_60c2e75ef92f0863ea37cb1904512fe3_styler(feature)\n",
       "            Object.assign(opts, style)\n",
       "            \n",
       "            return new L.CircleMarker(latlng, opts)\n",
       "        }\n",
       "\n",
       "        function geo_json_60c2e75ef92f0863ea37cb1904512fe3_onEachFeature(feature, layer) {\n",
       "            layer.on({\n",
       "                mouseout: function(e) {\n",
       "                    if(typeof e.target.setStyle === &quot;function&quot;){\n",
       "                        geo_json_60c2e75ef92f0863ea37cb1904512fe3.resetStyle(e.target);\n",
       "                    }\n",
       "                },\n",
       "                mouseover: function(e) {\n",
       "                    if(typeof e.target.setStyle === &quot;function&quot;){\n",
       "                        const highlightStyle = geo_json_60c2e75ef92f0863ea37cb1904512fe3_highlighter(e.target.feature)\n",
       "                        e.target.setStyle(highlightStyle);\n",
       "                    }\n",
       "                },\n",
       "            });\n",
       "        };\n",
       "        var geo_json_60c2e75ef92f0863ea37cb1904512fe3 = L.geoJson(null, {\n",
       "                onEachFeature: geo_json_60c2e75ef92f0863ea37cb1904512fe3_onEachFeature,\n",
       "            \n",
       "                style: geo_json_60c2e75ef92f0863ea37cb1904512fe3_styler,\n",
       "                pointToLayer: geo_json_60c2e75ef92f0863ea37cb1904512fe3_pointToLayer\n",
       "        });\n",
       "\n",
       "        function geo_json_60c2e75ef92f0863ea37cb1904512fe3_add (data) {\n",
       "            geo_json_60c2e75ef92f0863ea37cb1904512fe3\n",
       "                .addData(data)\n",
       "                .addTo(map_b63f4d553f09bb89d8593aa76a4fddee);\n",
       "        }\n",
       "            geo_json_60c2e75ef92f0863ea37cb1904512fe3_add({&quot;bbox&quot;: [0.4504, 50.1417, 0.7553, 50.7938], &quot;features&quot;: [{&quot;bbox&quot;: [0.7553, 50.1417, 0.7553, 50.1417], &quot;geometry&quot;: {&quot;coordinates&quot;: [0.7553, 50.1417], &quot;type&quot;: &quot;Point&quot;}, &quot;id&quot;: &quot;0&quot;, &quot;properties&quot;: {}, &quot;type&quot;: &quot;Feature&quot;}, {&quot;bbox&quot;: [0.4504, 50.7938, 0.4504, 50.7938], &quot;geometry&quot;: {&quot;coordinates&quot;: [0.4504, 50.7938], &quot;type&quot;: &quot;Point&quot;}, &quot;id&quot;: &quot;1&quot;, &quot;properties&quot;: {}, &quot;type&quot;: &quot;Feature&quot;}], &quot;type&quot;: &quot;FeatureCollection&quot;});\n",
       "\n",
       "        \n",
       "    \n",
       "    geo_json_60c2e75ef92f0863ea37cb1904512fe3.bindTooltip(\n",
       "    function(layer){\n",
       "    let div = L.DomUtil.create(&#x27;div&#x27;);\n",
       "    \n",
       "    return div\n",
       "    }\n",
       "    ,{&quot;className&quot;: &quot;foliumtooltip&quot;, &quot;sticky&quot;: true});\n",
       "                     \n",
       "&lt;/script&gt;\n",
       "&lt;/html&gt;\" style=\"position:absolute;width:100%;height:100%;left:0;top:0;border:none !important;\" allowfullscreen webkitallowfullscreen mozallowfullscreen></iframe></div></div>"
      ],
      "text/plain": [
       "<folium.folium.Map at 0x7fdff3e1d510>"
      ]
     },
     "execution_count": 41,
     "metadata": {},
     "output_type": "execute_result"
    }
   ],
   "source": [
    "gpd.GeoDataFrame(geometry=[s,L],crs=\"epsg:4326\").explore()"
   ]
  },
  {
   "cell_type": "code",
   "execution_count": 6,
   "id": "e627bfa3",
   "metadata": {},
   "outputs": [],
   "source": [
    "gdf.crs = \"EPSG:4326\""
   ]
  },
  {
   "cell_type": "code",
   "execution_count": 8,
   "id": "b90a8df1",
   "metadata": {},
   "outputs": [
    {
     "data": {
      "text/html": [
       "<div>\n",
       "<style scoped>\n",
       "    .dataframe tbody tr th:only-of-type {\n",
       "        vertical-align: middle;\n",
       "    }\n",
       "\n",
       "    .dataframe tbody tr th {\n",
       "        vertical-align: top;\n",
       "    }\n",
       "\n",
       "    .dataframe thead th {\n",
       "        text-align: right;\n",
       "    }\n",
       "</style>\n",
       "<table border=\"1\" class=\"dataframe\">\n",
       "  <thead>\n",
       "    <tr style=\"text-align: right;\">\n",
       "      <th></th>\n",
       "      <th>tags</th>\n",
       "      <th>geom</th>\n",
       "    </tr>\n",
       "  </thead>\n",
       "  <tbody>\n",
       "    <tr>\n",
       "      <th>0</th>\n",
       "      <td>{'waterway': 'lock_gate', 'seamark:type': 'gate'}</td>\n",
       "      <td>POINT (-0.03623 51.51956)</td>\n",
       "    </tr>\n",
       "    <tr>\n",
       "      <th>1</th>\n",
       "      <td>{'waterway': 'lock_gate', 'seamark:type': 'gate'}</td>\n",
       "      <td>POINT (-0.03489 51.51475)</td>\n",
       "    </tr>\n",
       "    <tr>\n",
       "      <th>2</th>\n",
       "      <td>{'waterway': 'lock_gate', 'seamark:type': 'gate'}</td>\n",
       "      <td>POINT (-0.03777 51.52499)</td>\n",
       "    </tr>\n",
       "    <tr>\n",
       "      <th>3</th>\n",
       "      <td>{}</td>\n",
       "      <td>POINT (6.16037 49.11819)</td>\n",
       "    </tr>\n",
       "    <tr>\n",
       "      <th>4</th>\n",
       "      <td>{}</td>\n",
       "      <td>POINT (11.23781 60.42730)</td>\n",
       "    </tr>\n",
       "    <tr>\n",
       "      <th>...</th>\n",
       "      <td>...</td>\n",
       "      <td>...</td>\n",
       "    </tr>\n",
       "    <tr>\n",
       "      <th>2124700</th>\n",
       "      <td>{}</td>\n",
       "      <td>POINT (20.21348 59.92810)</td>\n",
       "    </tr>\n",
       "    <tr>\n",
       "      <th>2124701</th>\n",
       "      <td>{}</td>\n",
       "      <td>POINT (20.21348 59.92808)</td>\n",
       "    </tr>\n",
       "    <tr>\n",
       "      <th>2124702</th>\n",
       "      <td>{}</td>\n",
       "      <td>POINT (20.21352 59.92806)</td>\n",
       "    </tr>\n",
       "    <tr>\n",
       "      <th>2124703</th>\n",
       "      <td>{}</td>\n",
       "      <td>POINT (20.21354 59.92804)</td>\n",
       "    </tr>\n",
       "    <tr>\n",
       "      <th>2124704</th>\n",
       "      <td>{}</td>\n",
       "      <td>POINT (20.21358 59.92801)</td>\n",
       "    </tr>\n",
       "  </tbody>\n",
       "</table>\n",
       "<p>2124705 rows × 2 columns</p>\n",
       "</div>"
      ],
      "text/plain": [
       "                                                      tags  \\\n",
       "0        {'waterway': 'lock_gate', 'seamark:type': 'gate'}   \n",
       "1        {'waterway': 'lock_gate', 'seamark:type': 'gate'}   \n",
       "2        {'waterway': 'lock_gate', 'seamark:type': 'gate'}   \n",
       "3                                                       {}   \n",
       "4                                                       {}   \n",
       "...                                                    ...   \n",
       "2124700                                                 {}   \n",
       "2124701                                                 {}   \n",
       "2124702                                                 {}   \n",
       "2124703                                                 {}   \n",
       "2124704                                                 {}   \n",
       "\n",
       "                              geom  \n",
       "0        POINT (-0.03623 51.51956)  \n",
       "1        POINT (-0.03489 51.51475)  \n",
       "2        POINT (-0.03777 51.52499)  \n",
       "3         POINT (6.16037 49.11819)  \n",
       "4        POINT (11.23781 60.42730)  \n",
       "...                            ...  \n",
       "2124700  POINT (20.21348 59.92810)  \n",
       "2124701  POINT (20.21348 59.92808)  \n",
       "2124702  POINT (20.21352 59.92806)  \n",
       "2124703  POINT (20.21354 59.92804)  \n",
       "2124704  POINT (20.21358 59.92801)  \n",
       "\n",
       "[2124705 rows x 2 columns]"
      ]
     },
     "execution_count": 8,
     "metadata": {},
     "output_type": "execute_result"
    }
   ],
   "source": [
    "gdf[['tags','geom']]"
   ]
  },
  {
   "cell_type": "code",
   "execution_count": 22,
   "id": "957acec3",
   "metadata": {},
   "outputs": [
    {
     "data": {
      "text/html": [
       "<div>\n",
       "<style scoped>\n",
       "    .dataframe tbody tr th:only-of-type {\n",
       "        vertical-align: middle;\n",
       "    }\n",
       "\n",
       "    .dataframe tbody tr th {\n",
       "        vertical-align: top;\n",
       "    }\n",
       "\n",
       "    .dataframe thead th {\n",
       "        text-align: right;\n",
       "    }\n",
       "</style>\n",
       "<table border=\"1\" class=\"dataframe\">\n",
       "  <thead>\n",
       "    <tr style=\"text-align: right;\">\n",
       "      <th></th>\n",
       "      <th>id</th>\n",
       "      <th>version</th>\n",
       "      <th>user_id</th>\n",
       "      <th>changeset_id</th>\n",
       "      <th>tags</th>\n",
       "      <th>geom</th>\n",
       "    </tr>\n",
       "  </thead>\n",
       "  <tbody>\n",
       "    <tr>\n",
       "      <th>0</th>\n",
       "      <td>106904</td>\n",
       "      <td>5</td>\n",
       "      <td>4948143</td>\n",
       "      <td>86684855</td>\n",
       "      <td>{'waterway': 'lock_gate', 'seamark:type': 'gate'}</td>\n",
       "      <td>POINT (-0.03623 51.51956)</td>\n",
       "    </tr>\n",
       "    <tr>\n",
       "      <th>1</th>\n",
       "      <td>108735</td>\n",
       "      <td>6</td>\n",
       "      <td>4948143</td>\n",
       "      <td>86684855</td>\n",
       "      <td>{'waterway': 'lock_gate', 'seamark:type': 'gate'}</td>\n",
       "      <td>POINT (-0.03489 51.51475)</td>\n",
       "    </tr>\n",
       "    <tr>\n",
       "      <th>2</th>\n",
       "      <td>110210</td>\n",
       "      <td>7</td>\n",
       "      <td>4948143</td>\n",
       "      <td>86684855</td>\n",
       "      <td>{'waterway': 'lock_gate', 'seamark:type': 'gate'}</td>\n",
       "      <td>POINT (-0.03777 51.52499)</td>\n",
       "    </tr>\n",
       "    <tr>\n",
       "      <th>3</th>\n",
       "      <td>142325</td>\n",
       "      <td>5</td>\n",
       "      <td>53773</td>\n",
       "      <td>48165623</td>\n",
       "      <td>{}</td>\n",
       "      <td>POINT (6.16037 49.11819)</td>\n",
       "    </tr>\n",
       "    <tr>\n",
       "      <th>4</th>\n",
       "      <td>148969</td>\n",
       "      <td>14</td>\n",
       "      <td>420980</td>\n",
       "      <td>63792931</td>\n",
       "      <td>{}</td>\n",
       "      <td>POINT (11.23781 60.42730)</td>\n",
       "    </tr>\n",
       "    <tr>\n",
       "      <th>5</th>\n",
       "      <td>148970</td>\n",
       "      <td>14</td>\n",
       "      <td>420980</td>\n",
       "      <td>63792931</td>\n",
       "      <td>{}</td>\n",
       "      <td>POINT (11.23849 60.42750)</td>\n",
       "    </tr>\n",
       "    <tr>\n",
       "      <th>6</th>\n",
       "      <td>148971</td>\n",
       "      <td>14</td>\n",
       "      <td>1488697</td>\n",
       "      <td>110883424</td>\n",
       "      <td>{}</td>\n",
       "      <td>POINT (11.23747 60.42713)</td>\n",
       "    </tr>\n",
       "    <tr>\n",
       "      <th>7</th>\n",
       "      <td>149005</td>\n",
       "      <td>14</td>\n",
       "      <td>605010</td>\n",
       "      <td>74622018</td>\n",
       "      <td>{}</td>\n",
       "      <td>POINT (11.23536 60.40143)</td>\n",
       "    </tr>\n",
       "    <tr>\n",
       "      <th>8</th>\n",
       "      <td>254753</td>\n",
       "      <td>7</td>\n",
       "      <td>5229644</td>\n",
       "      <td>118531707</td>\n",
       "      <td>{}</td>\n",
       "      <td>POINT (-1.37962 50.89893)</td>\n",
       "    </tr>\n",
       "    <tr>\n",
       "      <th>9</th>\n",
       "      <td>295294</td>\n",
       "      <td>8</td>\n",
       "      <td>438299</td>\n",
       "      <td>78115496</td>\n",
       "      <td>{'amenity': 'ferry_terminal'}</td>\n",
       "      <td>POINT (16.59929 58.44200)</td>\n",
       "    </tr>\n",
       "  </tbody>\n",
       "</table>\n",
       "</div>"
      ],
      "text/plain": [
       "       id  version  user_id  changeset_id  \\\n",
       "0  106904        5  4948143      86684855   \n",
       "1  108735        6  4948143      86684855   \n",
       "2  110210        7  4948143      86684855   \n",
       "3  142325        5    53773      48165623   \n",
       "4  148969       14   420980      63792931   \n",
       "5  148970       14   420980      63792931   \n",
       "6  148971       14  1488697     110883424   \n",
       "7  149005       14   605010      74622018   \n",
       "8  254753        7  5229644     118531707   \n",
       "9  295294        8   438299      78115496   \n",
       "\n",
       "                                                tags  \\\n",
       "0  {'waterway': 'lock_gate', 'seamark:type': 'gate'}   \n",
       "1  {'waterway': 'lock_gate', 'seamark:type': 'gate'}   \n",
       "2  {'waterway': 'lock_gate', 'seamark:type': 'gate'}   \n",
       "3                                                 {}   \n",
       "4                                                 {}   \n",
       "5                                                 {}   \n",
       "6                                                 {}   \n",
       "7                                                 {}   \n",
       "8                                                 {}   \n",
       "9                      {'amenity': 'ferry_terminal'}   \n",
       "\n",
       "                        geom  \n",
       "0  POINT (-0.03623 51.51956)  \n",
       "1  POINT (-0.03489 51.51475)  \n",
       "2  POINT (-0.03777 51.52499)  \n",
       "3   POINT (6.16037 49.11819)  \n",
       "4  POINT (11.23781 60.42730)  \n",
       "5  POINT (11.23849 60.42750)  \n",
       "6  POINT (11.23747 60.42713)  \n",
       "7  POINT (11.23536 60.40143)  \n",
       "8  POINT (-1.37962 50.89893)  \n",
       "9  POINT (16.59929 58.44200)  "
      ]
     },
     "execution_count": 22,
     "metadata": {},
     "output_type": "execute_result"
    }
   ],
   "source": [
    "ldf=gdf[:10]\n",
    "ldf"
   ]
  },
  {
   "cell_type": "code",
   "execution_count": 31,
   "id": "599bd030",
   "metadata": {},
   "outputs": [
    {
     "ename": "NameError",
     "evalue": "name 'folium' is not defined",
     "output_type": "error",
     "traceback": [
      "\u001b[0;31m---------------------------------------------------------------------------\u001b[0m",
      "\u001b[0;31mNameError\u001b[0m                                 Traceback (most recent call last)",
      "Cell \u001b[0;32mIn[31], line 2\u001b[0m\n\u001b[1;32m      1\u001b[0m \u001b[38;5;66;03m#gdf['geom'].head().explore()\u001b[39;00m\n\u001b[0;32m----> 2\u001b[0m m \u001b[38;5;241m=\u001b[39m \u001b[43mfolium\u001b[49m\u001b[38;5;241m.\u001b[39mMap()\n\u001b[1;32m      4\u001b[0m folium\u001b[38;5;241m.\u001b[39mGeoJson(ldf,tooltip\u001b[38;5;241m=\u001b[39mfolium\u001b[38;5;241m.\u001b[39mGeoJsonTooltip(\n\u001b[1;32m      5\u001b[0m                 fields\u001b[38;5;241m=\u001b[39m[col \u001b[38;5;28;01mfor\u001b[39;00m col \u001b[38;5;129;01min\u001b[39;00m gdf\u001b[38;5;241m.\u001b[39mcolumns \u001b[38;5;28;01mif\u001b[39;00m col \u001b[38;5;241m!=\u001b[39m \u001b[38;5;124m\"\u001b[39m\u001b[38;5;124mgeom\u001b[39m\u001b[38;5;124m\"\u001b[39m],\n\u001b[1;32m      6\u001b[0m                 style\u001b[38;5;241m=\u001b[39m(\n\u001b[1;32m      7\u001b[0m \u001b[38;5;250m                    \u001b[39m\u001b[38;5;124;03m\"\"\"background-color: grey; color: white; font-family:\"\u001b[39;00m\n\u001b[1;32m      8\u001b[0m \u001b[38;5;124;03m        courier new; font-size: 24px; padding: 10px;\"\"\"\u001b[39;00m\n\u001b[1;32m      9\u001b[0m                 )))\u001b[38;5;241m.\u001b[39madd_to(m)\n\u001b[1;32m     10\u001b[0m folium\u001b[38;5;241m.\u001b[39mLatLngPopup()\u001b[38;5;241m.\u001b[39madd_to(m)\n",
      "\u001b[0;31mNameError\u001b[0m: name 'folium' is not defined"
     ]
    }
   ],
   "source": [
    "#gdf['geom'].head().explore()\n",
    "m = folium.Map()\n",
    "\n",
    "folium.GeoJson(ldf,tooltip=folium.GeoJsonTooltip(\n",
    "                fields=[col for col in gdf.columns if col != \"geom\"],\n",
    "                style=(\n",
    "                    \"\"\"background-color: grey; color: white; font-family:\"\n",
    "        courier new; font-size: 24px; padding: 10px;\"\"\"\n",
    "                ))).add_to(m)\n",
    "folium.LatLngPopup().add_to(m)\n",
    "\n",
    "m\n"
   ]
  },
  {
   "cell_type": "code",
   "execution_count": null,
   "id": "8250e0f2",
   "metadata": {},
   "outputs": [],
   "source": []
  }
 ],
 "metadata": {
  "kernelspec": {
   "display_name": "Python 3 (ipykernel)",
   "language": "python",
   "name": "python3"
  },
  "language_info": {
   "codemirror_mode": {
    "name": "ipython",
    "version": 3
   },
   "file_extension": ".py",
   "mimetype": "text/x-python",
   "name": "python",
   "nbconvert_exporter": "python",
   "pygments_lexer": "ipython3",
   "version": "3.10.12"
  }
 },
 "nbformat": 4,
 "nbformat_minor": 5
}
