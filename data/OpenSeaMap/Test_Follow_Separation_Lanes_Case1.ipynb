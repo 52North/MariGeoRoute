{
 "cells": [
  {
   "cell_type": "code",
   "execution_count": 1,
   "id": "9f9a9ce9",
   "metadata": {},
   "outputs": [],
   "source": [
    "import os\n",
    "import sqlalchemy as db\n",
    "import geopandas as gpd\n",
    "import pandas as pd\n",
    "import osmnx\n",
    "from shapely.geometry import box, LineString, Point\n",
    "from IPython.display import display, HTML\n",
    "from shapely.ops import linemerge\n",
    "import matplotlib.pyplot as plt\n",
    "import numpy as np\n",
    "import json"
   ]
  },
  {
   "cell_type": "code",
   "execution_count": 2,
   "id": "2a4a9f00",
   "metadata": {},
   "outputs": [],
   "source": [
    "POSTGRES_HOST=\"xxxx\"\n",
    "POSTGRES_PORT=\"xxxx\"\n",
    "POSTGRES_DB=\"xxxx\"\n",
    "POSTGRES_SCHEMA=\"xxxx\"\n",
    "POSTGRES_USER=\"xxxx\"\n",
    "POSTGRES_PASSWORD=\"xxx\""
   ]
  },
  {
   "cell_type": "code",
   "execution_count": 3,
   "id": "46b83b68",
   "metadata": {},
   "outputs": [],
   "source": [
    "engine = db.create_engine('postgresql://{user}:{pw}@{host}/{db}'\n",
    "                           .format(user=POSTGRES_USER,\n",
    "                                   pw=POSTGRES_PASSWORD,\n",
    "                                   host=POSTGRES_HOST,\n",
    "                                   db=POSTGRES_DB,\n",
    "                                   port=POSTGRES_PORT))"
   ]
  },
  {
   "cell_type": "code",
   "execution_count": 4,
   "id": "f42b96c8",
   "metadata": {},
   "outputs": [],
   "source": [
    "connection = engine.connect()"
   ]
  },
  {
   "cell_type": "markdown",
   "id": "195890ae-17b4-487e-9c48-9e36aedbbe32",
   "metadata": {},
   "source": [
    "# Study area of Categena"
   ]
  },
  {
   "cell_type": "markdown",
   "id": "8e08368d-f131-449f-8587-7f74b76a178e",
   "metadata": {},
   "source": [
    "min_lon =31.50\n",
    "min_lat = 32.43\n",
    "max_lon= 36\n",
    "max_lat=  37.5\n",
    "bbox = box(min_lon, min_lat, max_lon, max_lat)\n",
    "bbox_wkt = bbox.wkt"
   ]
  },
  {
   "cell_type": "code",
   "execution_count": 26,
   "id": "044c7933-1223-4dad-b606-9b3d1dcda58b",
   "metadata": {},
   "outputs": [
    {
     "name": "stdout",
     "output_type": "stream",
     "text": [
      "id                                                      369835522\n",
      "version                                                         1\n",
      "user_id                                                   3213862\n",
      "tstamp                                        2015-09-09 10:33:14\n",
      "changeset_id                                             33904993\n",
      "tags                          {'seamark:type': 'separation_line'}\n",
      "nodes                        [3735830570, 3735830571, 3735830574]\n",
      "linestring      0102000020E61000000300000055DFF945093AE1BFB18A...\n",
      "bbox            0103000020E6100000010000000500000055DFF945093A...\n",
      "geom            LINESTRING (-0.5383345 37.519995, -0.5000007 3...\n",
      "Name: 4, dtype: object\n",
      "id                                                      369835520\n",
      "version                                                         1\n",
      "user_id                                                   3213862\n",
      "tstamp                                        2015-09-09 10:33:14\n",
      "changeset_id                                             33904993\n",
      "tags                      {'seamark:type': 'separation_boundary'}\n",
      "nodes                                    [3735830577, 3735830576]\n",
      "linestring      0102000020E610000002000000FDAD539BEE2BE7BFE401...\n",
      "bbox            0103000020E61000000100000005000000FDAD539BEE2B...\n",
      "geom            LINESTRING (-0.7241128 37.9107597, -0.5566589 ...\n",
      "Name: 5, dtype: object\n",
      "id                                                      369835521\n",
      "version                                                         1\n",
      "user_id                                                   3213862\n",
      "tstamp                                        2015-09-09 10:33:14\n",
      "changeset_id                                             33904993\n",
      "tags                      {'seamark:type': 'separation_boundary'}\n",
      "nodes                                    [3735830572, 3735830573]\n",
      "linestring      0102000020E610000002000000B59146600769EDBF1C8B...\n",
      "bbox            0103000020E61000000100000005000000B59146600769...\n",
      "geom            LINESTRING (-0.9190709 37.5540733, -0.5958294 ...\n",
      "Name: 6, dtype: object\n",
      "id                                                      369843714\n",
      "version                                                         1\n",
      "user_id                                                   3213862\n",
      "tstamp                                        2015-09-09 11:32:50\n",
      "changeset_id                                             33906358\n",
      "tags                          {'seamark:type': 'separation_lane'}\n",
      "nodes                        [3735908098, 3735908099, 3735908101]\n",
      "linestring      0102000020E6100000030000000F92AA926D85E1BF9BFD...\n",
      "bbox            0103000020E610000001000000050000000F92AA926D85...\n",
      "geom            LINESTRING (-0.5475376 37.5266334, -0.5108619 ...\n",
      "Name: 3, dtype: object\n"
     ]
    }
   ],
   "source": [
    "query = \"SELECT *,linestring AS geom FROM public.ways WHERE ST_Intersects(linestring, ST_GeomFromText('POLYGON ((0 37, 0 38, -1 38, -1 37, 0 37))', 4326)) AND (tags -> 'seamark:type'='separation_boundary' OR tags -> 'seamark:type'='separation_line' OR tags -> 'seamark:type'='separation_zone' OR tags -> 'seamark:type'='separation_lane')\"\n",
    "gdf_ways = gpd.read_postgis(query, engine)\n",
    "#gdf_ways = gpd.read_postgis(query, engine)\n",
    "gdf_ways['tstamp']=gdf_ways['tstamp'].dt.strftime('%Y-%m-%d %H:%M:%S')\n",
    "print(gdf_ways.loc[4])\n",
    "print(gdf_ways.loc[5])\n",
    "print(gdf_ways.loc[6])\n",
    "print(gdf_ways.loc[3])"
   ]
  },
  {
   "cell_type": "code",
   "execution_count": 13,
   "id": "3d36859f-6be6-4ac5-9993-b01fa54300c7",
   "metadata": {},
   "outputs": [
    {
     "data": {
      "text/html": [
       "<div style=\"width:100%;\"><div style=\"position:relative;width:100%;height:0;padding-bottom:60%;\"><span style=\"color:#565656\">Make this Notebook Trusted to load map: File -> Trust Notebook</span><iframe srcdoc=\"&lt;!DOCTYPE html&gt;\n",
       "&lt;html&gt;\n",
       "&lt;head&gt;\n",
       "    \n",
       "    &lt;meta http-equiv=&quot;content-type&quot; content=&quot;text/html; charset=UTF-8&quot; /&gt;\n",
       "    \n",
       "        &lt;script&gt;\n",
       "            L_NO_TOUCH = false;\n",
       "            L_DISABLE_3D = false;\n",
       "        &lt;/script&gt;\n",
       "    \n",
       "    &lt;style&gt;html, body {width: 100%;height: 100%;margin: 0;padding: 0;}&lt;/style&gt;\n",
       "    &lt;style&gt;#map {position:absolute;top:0;bottom:0;right:0;left:0;}&lt;/style&gt;\n",
       "    &lt;script src=&quot;https://cdn.jsdelivr.net/npm/leaflet@1.9.3/dist/leaflet.js&quot;&gt;&lt;/script&gt;\n",
       "    &lt;script src=&quot;https://code.jquery.com/jquery-1.12.4.min.js&quot;&gt;&lt;/script&gt;\n",
       "    &lt;script src=&quot;https://cdn.jsdelivr.net/npm/bootstrap@5.2.2/dist/js/bootstrap.bundle.min.js&quot;&gt;&lt;/script&gt;\n",
       "    &lt;script src=&quot;https://cdnjs.cloudflare.com/ajax/libs/Leaflet.awesome-markers/2.0.2/leaflet.awesome-markers.js&quot;&gt;&lt;/script&gt;\n",
       "    &lt;link rel=&quot;stylesheet&quot; href=&quot;https://cdn.jsdelivr.net/npm/leaflet@1.9.3/dist/leaflet.css&quot;/&gt;\n",
       "    &lt;link rel=&quot;stylesheet&quot; href=&quot;https://cdn.jsdelivr.net/npm/bootstrap@5.2.2/dist/css/bootstrap.min.css&quot;/&gt;\n",
       "    &lt;link rel=&quot;stylesheet&quot; href=&quot;https://netdna.bootstrapcdn.com/bootstrap/3.0.0/css/bootstrap.min.css&quot;/&gt;\n",
       "    &lt;link rel=&quot;stylesheet&quot; href=&quot;https://cdn.jsdelivr.net/npm/@fortawesome/fontawesome-free@6.2.0/css/all.min.css&quot;/&gt;\n",
       "    &lt;link rel=&quot;stylesheet&quot; href=&quot;https://cdnjs.cloudflare.com/ajax/libs/Leaflet.awesome-markers/2.0.2/leaflet.awesome-markers.css&quot;/&gt;\n",
       "    &lt;link rel=&quot;stylesheet&quot; href=&quot;https://cdn.jsdelivr.net/gh/python-visualization/folium/folium/templates/leaflet.awesome.rotate.min.css&quot;/&gt;\n",
       "    \n",
       "            &lt;meta name=&quot;viewport&quot; content=&quot;width=device-width,\n",
       "                initial-scale=1.0, maximum-scale=1.0, user-scalable=no&quot; /&gt;\n",
       "            &lt;style&gt;\n",
       "                #map_6c69f76b3433a60a85e6a6130bee2354 {\n",
       "                    position: relative;\n",
       "                    width: 100.0%;\n",
       "                    height: 100.0%;\n",
       "                    left: 0.0%;\n",
       "                    top: 0.0%;\n",
       "                }\n",
       "                .leaflet-container { font-size: 1rem; }\n",
       "            &lt;/style&gt;\n",
       "        \n",
       "    \n",
       "                    &lt;style&gt;\n",
       "                        .foliumtooltip {\n",
       "                            \n",
       "                        }\n",
       "                       .foliumtooltip table{\n",
       "                            margin: auto;\n",
       "                        }\n",
       "                        .foliumtooltip tr{\n",
       "                            text-align: left;\n",
       "                        }\n",
       "                        .foliumtooltip th{\n",
       "                            padding: 2px; padding-right: 8px;\n",
       "                        }\n",
       "                    &lt;/style&gt;\n",
       "            \n",
       "&lt;/head&gt;\n",
       "&lt;body&gt;\n",
       "    \n",
       "    \n",
       "            &lt;div class=&quot;folium-map&quot; id=&quot;map_6c69f76b3433a60a85e6a6130bee2354&quot; &gt;&lt;/div&gt;\n",
       "        \n",
       "&lt;/body&gt;\n",
       "&lt;script&gt;\n",
       "    \n",
       "    \n",
       "            var map_6c69f76b3433a60a85e6a6130bee2354 = L.map(\n",
       "                &quot;map_6c69f76b3433a60a85e6a6130bee2354&quot;,\n",
       "                {\n",
       "                    center: [37.71537735, -0.6987058],\n",
       "                    crs: L.CRS.EPSG3857,\n",
       "                    zoom: 10,\n",
       "                    zoomControl: true,\n",
       "                    preferCanvas: false,\n",
       "                }\n",
       "            );\n",
       "            L.control.scale().addTo(map_6c69f76b3433a60a85e6a6130bee2354);\n",
       "\n",
       "            \n",
       "\n",
       "        \n",
       "    \n",
       "            var tile_layer_9771d089de465217650f0b627191c4bd = L.tileLayer(\n",
       "                &quot;https://{s}.tile.openstreetmap.org/{z}/{x}/{y}.png&quot;,\n",
       "                {&quot;attribution&quot;: &quot;Data by \\u0026copy; \\u003ca target=\\&quot;_blank\\&quot; href=\\&quot;http://openstreetmap.org\\&quot;\\u003eOpenStreetMap\\u003c/a\\u003e, under \\u003ca target=\\&quot;_blank\\&quot; href=\\&quot;http://www.openstreetmap.org/copyright\\&quot;\\u003eODbL\\u003c/a\\u003e.&quot;, &quot;detectRetina&quot;: false, &quot;maxNativeZoom&quot;: 18, &quot;maxZoom&quot;: 18, &quot;minZoom&quot;: 0, &quot;noWrap&quot;: false, &quot;opacity&quot;: 1, &quot;subdomains&quot;: &quot;abc&quot;, &quot;tms&quot;: false}\n",
       "            ).addTo(map_6c69f76b3433a60a85e6a6130bee2354);\n",
       "        \n",
       "    \n",
       "            map_6c69f76b3433a60a85e6a6130bee2354.fitBounds(\n",
       "                [[37.519995, -0.9190709], [37.9107597, -0.4783407]],\n",
       "                {}\n",
       "            );\n",
       "        \n",
       "    \n",
       "        function geo_json_54683d01a2249248b23d1b6f95ebf1fd_styler(feature) {\n",
       "            switch(feature.id) {\n",
       "                default:\n",
       "                    return {&quot;fillOpacity&quot;: 0.5, &quot;weight&quot;: 2};\n",
       "            }\n",
       "        }\n",
       "        function geo_json_54683d01a2249248b23d1b6f95ebf1fd_highlighter(feature) {\n",
       "            switch(feature.id) {\n",
       "                default:\n",
       "                    return {&quot;fillOpacity&quot;: 0.75};\n",
       "            }\n",
       "        }\n",
       "        function geo_json_54683d01a2249248b23d1b6f95ebf1fd_pointToLayer(feature, latlng) {\n",
       "            var opts = {&quot;bubblingMouseEvents&quot;: true, &quot;color&quot;: &quot;#3388ff&quot;, &quot;dashArray&quot;: null, &quot;dashOffset&quot;: null, &quot;fill&quot;: true, &quot;fillColor&quot;: &quot;#3388ff&quot;, &quot;fillOpacity&quot;: 0.2, &quot;fillRule&quot;: &quot;evenodd&quot;, &quot;lineCap&quot;: &quot;round&quot;, &quot;lineJoin&quot;: &quot;round&quot;, &quot;opacity&quot;: 1.0, &quot;radius&quot;: 2, &quot;stroke&quot;: true, &quot;weight&quot;: 3};\n",
       "            \n",
       "            let style = geo_json_54683d01a2249248b23d1b6f95ebf1fd_styler(feature)\n",
       "            Object.assign(opts, style)\n",
       "            \n",
       "            return new L.CircleMarker(latlng, opts)\n",
       "        }\n",
       "\n",
       "        function geo_json_54683d01a2249248b23d1b6f95ebf1fd_onEachFeature(feature, layer) {\n",
       "            layer.on({\n",
       "                mouseout: function(e) {\n",
       "                    if(typeof e.target.setStyle === &quot;function&quot;){\n",
       "                        geo_json_54683d01a2249248b23d1b6f95ebf1fd.resetStyle(e.target);\n",
       "                    }\n",
       "                },\n",
       "                mouseover: function(e) {\n",
       "                    if(typeof e.target.setStyle === &quot;function&quot;){\n",
       "                        const highlightStyle = geo_json_54683d01a2249248b23d1b6f95ebf1fd_highlighter(e.target.feature)\n",
       "                        e.target.setStyle(highlightStyle);\n",
       "                    }\n",
       "                },\n",
       "            });\n",
       "        };\n",
       "        var geo_json_54683d01a2249248b23d1b6f95ebf1fd = L.geoJson(null, {\n",
       "                onEachFeature: geo_json_54683d01a2249248b23d1b6f95ebf1fd_onEachFeature,\n",
       "            \n",
       "                style: geo_json_54683d01a2249248b23d1b6f95ebf1fd_styler,\n",
       "                pointToLayer: geo_json_54683d01a2249248b23d1b6f95ebf1fd_pointToLayer\n",
       "        });\n",
       "\n",
       "        function geo_json_54683d01a2249248b23d1b6f95ebf1fd_add (data) {\n",
       "            geo_json_54683d01a2249248b23d1b6f95ebf1fd\n",
       "                .addData(data)\n",
       "                .addTo(map_6c69f76b3433a60a85e6a6130bee2354);\n",
       "        }\n",
       "            geo_json_54683d01a2249248b23d1b6f95ebf1fd_add({&quot;bbox&quot;: [-0.9190709, 37.519995, -0.4783407, 37.9107597], &quot;features&quot;: [{&quot;bbox&quot;: [-0.5859041, 37.5534249, -0.5407747, 37.5911411], &quot;geometry&quot;: {&quot;coordinates&quot;: [[-0.5407747, 37.5911411], [-0.5549508, 37.5773552], [-0.5859041, 37.5534249]], &quot;type&quot;: &quot;LineString&quot;}, &quot;id&quot;: &quot;0&quot;, &quot;properties&quot;: {&quot;bbox&quot;: &quot;0103000020E610000001000000050000003CF482F4B9BFE2BF63258BA0D6C642403CF482F4B9BFE2BF26E9F582AACB4240802260BE064EE1BF26E9F582AACB4240802260BE064EE1BF63258BA0D6C642403CF482F4B9BFE2BF63258BA0D6C64240&quot;, &quot;changeset_id&quot;: 33906358, &quot;id&quot;: 369843715, &quot;linestring&quot;: &quot;0102000020E610000003000000802260BE064EE1BF26E9F582AACB4240FD721C2E28C2E1BF781673C6E6C942403CF482F4B9BFE2BF63258BA0D6C64240&quot;, &quot;nodes&quot;: [3735908103, 3735908102, 3735908100], &quot;tags&quot;: {&quot;seamark:type&quot;: &quot;separation_lane&quot;}, &quot;tstamp&quot;: &quot;2015-09-09 11:32:50&quot;, &quot;user_id&quot;: 3213862, &quot;version&quot;: 1}, &quot;type&quot;: &quot;Feature&quot;}, {&quot;bbox&quot;: [-0.5958294, 37.5624971, -0.5566589, 37.5950012], &quot;geometry&quot;: {&quot;coordinates&quot;: [[-0.5566589, 37.5950012], [-0.5633378, 37.5833323], [-0.5958294, 37.5624971]], &quot;type&quot;: &quot;LineString&quot;}, &quot;id&quot;: &quot;1&quot;, &quot;properties&quot;: {&quot;bbox&quot;: &quot;0103000020E6100000010000000500000084D95FD10811E3BF244CACE7FFC7424084D95FD10811E3BF568AD3FF28CC4240ECDF505326D0E1BF568AD3FF28CC4240ECDF505326D0E1BF244CACE7FFC7424084D95FD10811E3BF244CACE7FFC74240&quot;, &quot;changeset_id&quot;: 33904993, &quot;id&quot;: 369835523, &quot;linestring&quot;: &quot;0102000020E610000003000000ECDF505326D0E1BF568AD3FF28CC4240063873FEDC06E2BFA999FFA1AACA424084D95FD10811E3BF244CACE7FFC74240&quot;, &quot;nodes&quot;: [3735830576, 3735830575, 3735830573], &quot;tags&quot;: {&quot;seamark:type&quot;: &quot;separation_line&quot;}, &quot;tstamp&quot;: &quot;2015-09-09 10:33:15&quot;, &quot;user_id&quot;: 3213862, &quot;version&quot;: 1}, &quot;type&quot;: &quot;Feature&quot;}, {&quot;bbox&quot;: [-0.5766664, 37.5333392, -0.5050051, 37.5866646], &quot;geometry&quot;: {&quot;coordinates&quot;: [[-0.5366601, 37.5733545], [-0.5766664, 37.5466638], [-0.5583329, 37.5333392], [-0.5233404, 37.5583324], [-0.5050051, 37.5808403], [-0.5233335, 37.5866646], [-0.5366601, 37.5733545]], &quot;type&quot;: &quot;LineString&quot;}, &quot;id&quot;: &quot;2&quot;, &quot;properties&quot;: {&quot;bbox&quot;: &quot;0103000020E610000001000000050000003B7716180D74E2BF60D67A7544C442403B7716180D74E2BF475C5BD317CB4240D0059A740029E0BF475C5BD317CB4240D0059A740029E0BF60D67A7544C442403B7716180D74E2BF60D67A7544C44240&quot;, &quot;changeset_id&quot;: 33907759, &quot;id&quot;: 369833376, &quot;linestring&quot;: &quot;0102000020E610000007000000CA2D52CD512CE1BFD94125AE63C942403B7716180D74E2BF1B745314F9C54240A1FC38F5DCDDE1BF60D67A7544C442402D9ED55D34BFE0BF0A26A36F77C74240D0059A740029E0BF735996F958CA4240C3D66CE525BFE0BF475C5BD317CB4240CA2D52CD512CE1BFD94125AE63C94240&quot;, &quot;nodes&quot;: [3735792516, 3735792514, 3735792513, 3735792515, 3735792517, 3735792518, 3735792516], &quot;tags&quot;: {&quot;seamark:name&quot;: &quot;DST Cabo de Palos&quot;, &quot;seamark:type&quot;: &quot;separation_zone&quot;}, &quot;tstamp&quot;: &quot;2015-09-09 12:30:50&quot;, &quot;user_id&quot;: 3213862, &quot;version&quot;: 2}, &quot;type&quot;: &quot;Feature&quot;}, {&quot;bbox&quot;: [-0.5475376, 37.5266334, -0.4918737, 37.5767049], &quot;geometry&quot;: {&quot;coordinates&quot;: [[-0.5475376, 37.5266334], [-0.5108619, 37.5510839], [-0.4918737, 37.5767049]], &quot;type&quot;: &quot;LineString&quot;}, &quot;id&quot;: &quot;3&quot;, &quot;properties&quot;: {&quot;bbox&quot;: &quot;0103000020E610000001000000050000000F92AA926D85E1BF9BFD26B968C342400F92AA926D85E1BFB3785677D1C942400DCDD0D3DB7ADFBFB3785677D1C942400DCDD0D3DB7ADFBF9BFD26B968C342400F92AA926D85E1BF9BFD26B968C34240&quot;, &quot;changeset_id&quot;: 33906358, &quot;id&quot;: 369843714, &quot;linestring&quot;: &quot;0102000020E6100000030000000F92AA926D85E1BF9BFD26B968C34240AFB7280EFB58E0BF13EDCFEA89C642400DCDD0D3DB7ADFBFB3785677D1C94240&quot;, &quot;nodes&quot;: [3735908098, 3735908099, 3735908101], &quot;tags&quot;: {&quot;seamark:type&quot;: &quot;separation_lane&quot;}, &quot;tstamp&quot;: &quot;2015-09-09 11:32:50&quot;, &quot;user_id&quot;: 3213862, &quot;version&quot;: 1}, &quot;type&quot;: &quot;Feature&quot;}, {&quot;bbox&quot;: [-0.5383345, 37.519995, -0.4783407, 37.5716666], &quot;geometry&quot;: {&quot;coordinates&quot;: [[-0.5383345, 37.519995], [-0.5000007, 37.5416739], [-0.4783407, 37.5716666]], &quot;type&quot;: &quot;LineString&quot;}, &quot;id&quot;: &quot;4&quot;, &quot;properties&quot;: {&quot;bbox&quot;: &quot;0103000020E6100000010000000500000055DFF945093AE1BFB18A37328FC2424055DFF945093AE1BF969B035F2CC94240B920B64F229DDEBF969B035F2CC94240B920B64F229DDEBFB18A37328FC2424055DFF945093AE1BFB18A37328FC24240&quot;, &quot;changeset_id&quot;: 33904993, &quot;id&quot;: 369835522, &quot;linestring&quot;: &quot;0102000020E61000000300000055DFF945093AE1BFB18A37328FC242407644CF770100E0BF63CC029255C54240B920B64F229DDEBF969B035F2CC94240&quot;, &quot;nodes&quot;: [3735830570, 3735830571, 3735830574], &quot;tags&quot;: {&quot;seamark:type&quot;: &quot;separation_line&quot;}, &quot;tstamp&quot;: &quot;2015-09-09 10:33:14&quot;, &quot;user_id&quot;: 3213862, &quot;version&quot;: 1}, &quot;type&quot;: &quot;Feature&quot;}, {&quot;bbox&quot;: [-0.7241128, 37.5950012, -0.5566589, 37.9107597], &quot;geometry&quot;: {&quot;coordinates&quot;: [[-0.7241128, 37.9107597], [-0.5566589, 37.5950012]], &quot;type&quot;: &quot;LineString&quot;}, &quot;id&quot;: &quot;5&quot;, &quot;properties&quot;: {&quot;bbox&quot;: &quot;0103000020E61000000100000005000000FDAD539BEE2BE7BF568AD3FF28CC4240FDAD539BEE2BE7BFE4011BC693F44240ECDF505326D0E1BFE4011BC693F44240ECDF505326D0E1BF568AD3FF28CC4240FDAD539BEE2BE7BF568AD3FF28CC4240&quot;, &quot;changeset_id&quot;: 33904993, &quot;id&quot;: 369835520, &quot;linestring&quot;: &quot;0102000020E610000002000000FDAD539BEE2BE7BFE4011BC693F44240ECDF505326D0E1BF568AD3FF28CC4240&quot;, &quot;nodes&quot;: [3735830577, 3735830576], &quot;tags&quot;: {&quot;seamark:type&quot;: &quot;separation_boundary&quot;}, &quot;tstamp&quot;: &quot;2015-09-09 10:33:14&quot;, &quot;user_id&quot;: 3213862, &quot;version&quot;: 1}, &quot;type&quot;: &quot;Feature&quot;}, {&quot;bbox&quot;: [-0.9190709, 37.5540733, -0.5958294, 37.5624971], &quot;geometry&quot;: {&quot;coordinates&quot;: [[-0.9190709, 37.5540733], [-0.5958294, 37.5624971]], &quot;type&quot;: &quot;LineString&quot;}, &quot;id&quot;: &quot;6&quot;, &quot;properties&quot;: {&quot;bbox&quot;: &quot;0103000020E61000000100000005000000B59146600769EDBF1C8BB7DFEBC64240B59146600769EDBF244CACE7FFC7424084D95FD10811E3BF244CACE7FFC7424084D95FD10811E3BF1C8BB7DFEBC64240B59146600769EDBF1C8BB7DFEBC64240&quot;, &quot;changeset_id&quot;: 33904993, &quot;id&quot;: 369835521, &quot;linestring&quot;: &quot;0102000020E610000002000000B59146600769EDBF1C8BB7DFEBC6424084D95FD10811E3BF244CACE7FFC74240&quot;, &quot;nodes&quot;: [3735830572, 3735830573], &quot;tags&quot;: {&quot;seamark:type&quot;: &quot;separation_boundary&quot;}, &quot;tstamp&quot;: &quot;2015-09-09 10:33:14&quot;, &quot;user_id&quot;: 3213862, &quot;version&quot;: 1}, &quot;type&quot;: &quot;Feature&quot;}], &quot;type&quot;: &quot;FeatureCollection&quot;});\n",
       "\n",
       "        \n",
       "    \n",
       "    geo_json_54683d01a2249248b23d1b6f95ebf1fd.bindTooltip(\n",
       "    function(layer){\n",
       "    let div = L.DomUtil.create(&#x27;div&#x27;);\n",
       "    \n",
       "    let handleObject = feature=&gt;typeof(feature)==&#x27;object&#x27; ? JSON.stringify(feature) : feature;\n",
       "    let fields = [&quot;id&quot;, &quot;version&quot;, &quot;user_id&quot;, &quot;tstamp&quot;, &quot;changeset_id&quot;, &quot;tags&quot;, &quot;nodes&quot;, &quot;linestring&quot;, &quot;bbox&quot;];\n",
       "    let aliases = [&quot;id&quot;, &quot;version&quot;, &quot;user_id&quot;, &quot;tstamp&quot;, &quot;changeset_id&quot;, &quot;tags&quot;, &quot;nodes&quot;, &quot;linestring&quot;, &quot;bbox&quot;];\n",
       "    let table = &#x27;&lt;table&gt;&#x27; +\n",
       "        String(\n",
       "        fields.map(\n",
       "        (v,i)=&gt;\n",
       "        `&lt;tr&gt;\n",
       "            &lt;th&gt;${aliases[i]}&lt;/th&gt;\n",
       "            \n",
       "            &lt;td&gt;${handleObject(layer.feature.properties[v])}&lt;/td&gt;\n",
       "        &lt;/tr&gt;`).join(&#x27;&#x27;))\n",
       "    +&#x27;&lt;/table&gt;&#x27;;\n",
       "    div.innerHTML=table;\n",
       "    \n",
       "    return div\n",
       "    }\n",
       "    ,{&quot;className&quot;: &quot;foliumtooltip&quot;, &quot;sticky&quot;: true});\n",
       "                     \n",
       "&lt;/script&gt;\n",
       "&lt;/html&gt;\" style=\"position:absolute;width:100%;height:100%;left:0;top:0;border:none !important;\" allowfullscreen webkitallowfullscreen mozallowfullscreen></iframe></div></div>"
      ],
      "text/plain": [
       "<folium.folium.Map at 0x1c8997b7d60>"
      ]
     },
     "execution_count": 13,
     "metadata": {},
     "output_type": "execute_result"
    }
   ],
   "source": [
    "gdf_ways.explore()"
   ]
  },
  {
   "cell_type": "code",
   "execution_count": 8,
   "id": "ffc08025-b1ce-473d-ad8a-5842cebf3ea9",
   "metadata": {},
   "outputs": [
    {
     "name": "stdout",
     "output_type": "stream",
     "text": [
      "                                            geometry\n",
      "0  LINESTRING (-0.62847 37.44632, -0.61483 37.48325)\n",
      "1  LINESTRING (-0.61483 37.48325, -0.62205 37.53479)\n",
      "2  LINESTRING (-0.62205 37.53479, -0.58996 37.59455)\n",
      "3  LINESTRING (-0.58996 37.59455, -0.55628 37.63458)\n",
      "4  LINESTRING (-0.55628 37.63458, -0.52820 37.66126)\n",
      "5  LINESTRING (-0.52820 37.66126, -0.46804 37.68729)\n"
     ]
    }
   ],
   "source": [
    "    filename = 'Case1/data/route_7.geojson'\n",
    "    with open(filename) as file:\n",
    "        rp_dict = json.load(file)\n",
    "\n",
    "    point_list = rp_dict['features']\n",
    "    count = len(point_list)\n",
    "    lats_per_step = np.full(count, -99, dtype=float)\n",
    "    lons_per_step = np.full(count, -99, dtype=float)\n",
    "\n",
    "    color_list = ['red', 'blue', 'green', 'purple', 'orange', 'darkred',\n",
    "                  'lightred',\n",
    "                  'beige', 'darkblue', 'darkgreen', 'cadetblue', 'darkpurple',\n",
    "                  'white', 'pink', 'lightblue', 'lightgreen', 'gray', 'black',\n",
    "                  'lightgray']\n",
    "\n",
    "    for ipoint in range(0, count):\n",
    "        coord_pair = point_list[ipoint]['geometry']['coordinates']\n",
    "        lats_per_step[ipoint] = coord_pair[1]\n",
    "        lons_per_step[ipoint] = coord_pair[0]\n",
    "\n",
    "    # Create LineString segments from X and Y columns\n",
    "    segments = []\n",
    "    for i in range(len(lons_per_step) - 1):\n",
    "        segment = LineString([(lons_per_step[i], lats_per_step[i]),\n",
    "                              (lons_per_step[i + 1], lats_per_step[i + 1])])\n",
    "        segments.append(segment)\n",
    "\n",
    "    # Add LineString segments to a new GeoDataFrame\n",
    "    segments_gdf = gpd.GeoDataFrame(geometry=segments, crs=\"EPSG:4326\")\n",
    "\n",
    "    # Print the segments GeoDataFrame\n",
    "    print(segments_gdf)\n"
   ]
  },
  {
   "cell_type": "code",
   "execution_count": 10,
   "id": "7a3792ff-f410-470f-8292-d8932fc855bc",
   "metadata": {},
   "outputs": [],
   "source": [
    "seamark_gdf = gdf_ways "
   ]
  },
  {
   "cell_type": "code",
   "execution_count": 11,
   "id": "24a772d2-f824-412a-a606-6a2670713790",
   "metadata": {
    "scrolled": true
   },
   "outputs": [
    {
     "name": "stdout",
     "output_type": "stream",
     "text": [
      "seg geometry    LINESTRING (-0.6284656661578651 37.44632394159...\n",
      "Name: 0, dtype: object\n",
      "interesct point id                                                      369835521\n",
      "version                                                         1\n",
      "user_id                                                   3213862\n",
      "tstamp                                        2015-09-09 10:33:14\n",
      "changeset_id                                             33904993\n",
      "tags                      {'seamark:type': 'separation_boundary'}\n",
      "nodes                                    [3735830572, 3735830573]\n",
      "linestring      0102000020E610000002000000B59146600769EDBF1C8B...\n",
      "bbox            0103000020E61000000100000005000000B59146600769...\n",
      "geometry            POINT (-0.6073349200175179 37.56219726164532)\n",
      "Name: 0, dtype: object\n",
      "interesct point id                                                      369835520\n",
      "version                                                         1\n",
      "user_id                                                   3213862\n",
      "tstamp                                        2015-09-09 10:33:14\n",
      "changeset_id                                             33904993\n",
      "tags                      {'seamark:type': 'separation_boundary'}\n",
      "nodes                                    [3735830577, 3735830576]\n",
      "linestring      0102000020E610000002000000FDAD539BEE2BE7BFE401...\n",
      "bbox            0103000020E61000000100000005000000FDAD539BEE2B...\n",
      "geometry            POINT (-0.5693878863387773 37.61900354113898)\n",
      "Name: 1, dtype: object\n",
      "seg geometry    LINESTRING (-0.6148297754911596 37.48325008037...\n",
      "Name: 1, dtype: object\n",
      "interesct point id                                                      369835521\n",
      "version                                                         1\n",
      "user_id                                                   3213862\n",
      "tstamp                                        2015-09-09 10:33:14\n",
      "changeset_id                                             33904993\n",
      "tags                      {'seamark:type': 'separation_boundary'}\n",
      "nodes                                    [3735830572, 3735830573]\n",
      "linestring      0102000020E610000002000000B59146600769EDBF1C8B...\n",
      "bbox            0103000020E61000000100000005000000B59146600769...\n",
      "geometry            POINT (-0.6073349200175179 37.56219726164532)\n",
      "Name: 0, dtype: object\n",
      "interesct point id                                                      369835520\n",
      "version                                                         1\n",
      "user_id                                                   3213862\n",
      "tstamp                                        2015-09-09 10:33:14\n",
      "changeset_id                                             33904993\n",
      "tags                      {'seamark:type': 'separation_boundary'}\n",
      "nodes                                    [3735830577, 3735830576]\n",
      "linestring      0102000020E610000002000000FDAD539BEE2BE7BFE401...\n",
      "bbox            0103000020E61000000100000005000000FDAD539BEE2B...\n",
      "geometry            POINT (-0.5693878863387773 37.61900354113898)\n",
      "Name: 1, dtype: object\n",
      "seg geometry    LINESTRING (-0.6220487764329903 37.53478881633...\n",
      "Name: 2, dtype: object\n",
      "interesct point id                                                      369835521\n",
      "version                                                         1\n",
      "user_id                                                   3213862\n",
      "tstamp                                        2015-09-09 10:33:14\n",
      "changeset_id                                             33904993\n",
      "tags                      {'seamark:type': 'separation_boundary'}\n",
      "nodes                                    [3735830572, 3735830573]\n",
      "linestring      0102000020E610000002000000B59146600769EDBF1C8B...\n",
      "bbox            0103000020E61000000100000005000000B59146600769...\n",
      "geometry            POINT (-0.6073349200175179 37.56219726164532)\n",
      "Name: 0, dtype: object\n",
      "____________________________________________\n",
      "interesct point id                                                      369835520\n",
      "version                                                         1\n",
      "user_id                                                   3213862\n",
      "tstamp                                        2015-09-09 10:33:14\n",
      "changeset_id                                             33904993\n",
      "tags                      {'seamark:type': 'separation_boundary'}\n",
      "nodes                                    [3735830577, 3735830576]\n",
      "linestring      0102000020E610000002000000FDAD539BEE2BE7BFE401...\n",
      "bbox            0103000020E61000000100000005000000FDAD539BEE2B...\n",
      "geometry            POINT (-0.5693878863387773 37.61900354113898)\n",
      "Name: 1, dtype: object\n",
      "seg geometry    LINESTRING (-0.5899643278059159 37.59455457935...\n",
      "Name: 3, dtype: object\n",
      "interesct point id                                                      369835521\n",
      "version                                                         1\n",
      "user_id                                                   3213862\n",
      "tstamp                                        2015-09-09 10:33:14\n",
      "changeset_id                                             33904993\n",
      "tags                      {'seamark:type': 'separation_boundary'}\n",
      "nodes                                    [3735830572, 3735830573]\n",
      "linestring      0102000020E610000002000000B59146600769EDBF1C8B...\n",
      "bbox            0103000020E61000000100000005000000B59146600769...\n",
      "geometry            POINT (-0.6073349200175179 37.56219726164532)\n",
      "Name: 0, dtype: object\n",
      "interesct point id                                                      369835520\n",
      "version                                                         1\n",
      "user_id                                                   3213862\n",
      "tstamp                                        2015-09-09 10:33:14\n",
      "changeset_id                                             33904993\n",
      "tags                      {'seamark:type': 'separation_boundary'}\n",
      "nodes                                    [3735830577, 3735830576]\n",
      "linestring      0102000020E610000002000000FDAD539BEE2BE7BFE401...\n",
      "bbox            0103000020E61000000100000005000000FDAD539BEE2B...\n",
      "geometry            POINT (-0.5693878863387773 37.61900354113898)\n",
      "Name: 1, dtype: object\n",
      "____________________________________________\n",
      "seg geometry    LINESTRING (-0.5562756567489942 37.63458351402...\n",
      "Name: 4, dtype: object\n",
      "interesct point id                                                      369835521\n",
      "version                                                         1\n",
      "user_id                                                   3213862\n",
      "tstamp                                        2015-09-09 10:33:14\n",
      "changeset_id                                             33904993\n",
      "tags                      {'seamark:type': 'separation_boundary'}\n",
      "nodes                                    [3735830572, 3735830573]\n",
      "linestring      0102000020E610000002000000B59146600769EDBF1C8B...\n",
      "bbox            0103000020E61000000100000005000000B59146600769...\n",
      "geometry            POINT (-0.6073349200175179 37.56219726164532)\n",
      "Name: 0, dtype: object\n",
      "interesct point id                                                      369835520\n",
      "version                                                         1\n",
      "user_id                                                   3213862\n",
      "tstamp                                        2015-09-09 10:33:14\n",
      "changeset_id                                             33904993\n",
      "tags                      {'seamark:type': 'separation_boundary'}\n",
      "nodes                                    [3735830577, 3735830576]\n",
      "linestring      0102000020E610000002000000FDAD539BEE2BE7BFE401...\n",
      "bbox            0103000020E61000000100000005000000FDAD539BEE2B...\n",
      "geometry            POINT (-0.5693878863387773 37.61900354113898)\n",
      "Name: 1, dtype: object\n",
      "seg geometry    LINESTRING (-0.5282017641999914 37.66125749776...\n",
      "Name: 5, dtype: object\n",
      "interesct point id                                                      369835521\n",
      "version                                                         1\n",
      "user_id                                                   3213862\n",
      "tstamp                                        2015-09-09 10:33:14\n",
      "changeset_id                                             33904993\n",
      "tags                      {'seamark:type': 'separation_boundary'}\n",
      "nodes                                    [3735830572, 3735830573]\n",
      "linestring      0102000020E610000002000000B59146600769EDBF1C8B...\n",
      "bbox            0103000020E61000000100000005000000B59146600769...\n",
      "geometry            POINT (-0.6073349200175179 37.56219726164532)\n",
      "Name: 0, dtype: object\n",
      "interesct point id                                                      369835520\n",
      "version                                                         1\n",
      "user_id                                                   3213862\n",
      "tstamp                                        2015-09-09 10:33:14\n",
      "changeset_id                                             33904993\n",
      "tags                      {'seamark:type': 'separation_boundary'}\n",
      "nodes                                    [3735830577, 3735830576]\n",
      "linestring      0102000020E610000002000000FDAD539BEE2BE7BFE401...\n",
      "bbox            0103000020E61000000100000005000000FDAD539BEE2B...\n",
      "geometry            POINT (-0.5693878863387773 37.61900354113898)\n",
      "Name: 1, dtype: object\n",
      "[2, 3]\n"
     ]
    },
    {
     "data": {
      "image/png": "[encoded data removed]",
      "text/plain": [
       "<Figure size 640x480 with 1 Axes>"
      ]
     },
     "metadata": {},
     "output_type": "display_data"
    },
    {
     "name": "stdout",
     "output_type": "stream",
     "text": [
      "          x          y\n",
      "1 -0.622049  37.534789\n",
      "          x          y\n",
      "4 -0.556276  37.634584\n"
     ]
    },
    {
     "data": {
      "image/png": "[encoded data removed]",
      "text/plain": [
       "<Figure size 640x480 with 1 Axes>"
      ]
     },
     "metadata": {},
     "output_type": "display_data"
    }
   ],
   "source": [
    " # Perform spatial overlay to find intersections\n",
    "intersection = gpd.overlay(segments_gdf, seamark_gdf, how='intersection',\n",
    "                               keep_geom_type=False)\n",
    "\n",
    "\n",
    "first_node = 0\n",
    "indx_intersect = []\n",
    "for index, seg in segments_gdf.iterrows():\n",
    "    print('seg', seg)\n",
    "    for j, inter_point in intersection.iterrows():\n",
    "        print('interesct point', inter_point)\n",
    "        buffered_point = inter_point.geometry.buffer(0.000001)\n",
    "        val = seg.geometry.intersects(buffered_point)\n",
    "        if (val):\n",
    "            print('____________________________________________')\n",
    "            indx_intersect.append(index)\n",
    "\n",
    "print(indx_intersect)\n",
    "segments_before_df = segments_gdf[0:indx_intersect[0]]\n",
    "\n",
    "last_index = indx_intersect[len(indx_intersect) - 1]\n",
    "last_index = last_index + 1\n",
    "segments_after = segments_gdf[last_index:]\n",
    "\n",
    "fig, ax = plt.subplots()\n",
    "segments_before_df.plot(ax=ax, color='yellow',\n",
    "                            label='segments before 1st intersection')\n",
    "seamark_gdf.plot(ax=ax, color='green', label='seamark')\n",
    "segments_after.plot(ax=ax, color = 'orange', label='segments after last intersection')\n",
    "ax.legend()\n",
    "plt.show()\n",
    "\n",
    "first_node_line = segments_before_df.tail(1).geometry.get_coordinates()\n",
    "point_start = first_node_line.tail(1)\n",
    "print(point_start)\n",
    "point_A = Point(point_start.x, point_start.y)\n",
    "\n",
    "first_node_line = segments_after.head(1).geometry.get_coordinates()\n",
    "point_end = first_node_line.head(1)\n",
    "print(point_end)\n",
    "point_B = Point(point_end.x, point_end.y)\n",
    "\n",
    "points = [point_A, point_B]\n",
    "p = gpd.GeoSeries(points)\n",
    "\n",
    "fig, ax = plt.subplots()\n",
    "segments_before_df.plot(ax=ax, color='red',\n",
    "                            label='segments before 1st intersection')\n",
    "seamark_gdf.plot(ax=ax, color='green', label='seamark')\n",
    "segments_after.plot(ax=ax, label='segments after last intersection')\n",
    "p.plot(ax=ax, color='yellow', label='starting and ending of correcting segment' )\n",
    "ax.legend()\n",
    "plt.show()"
   ]
  },
  {
   "cell_type": "code",
   "execution_count": 12,
   "id": "bf923761-9196-4fa0-88b9-cb9a6a30d735",
   "metadata": {},
   "outputs": [
    {
     "name": "stdout",
     "output_type": "stream",
     "text": [
      "POINT (-0.6220487764329903 37.534788816331655)\n"
     ]
    }
   ],
   "source": [
    "print(point_A)"
   ]
  },
  {
   "cell_type": "code",
   "execution_count": 13,
   "id": "07f08fd8-933b-4464-93d1-61affd18bd1f",
   "metadata": {
    "scrolled": true
   },
   "outputs": [
    {
     "name": "stdout",
     "output_type": "stream",
     "text": [
      "POINT (-0.5562756567489942 37.63458351402787)\n"
     ]
    }
   ],
   "source": [
    "print(point_B)"
   ]
  },
  {
   "cell_type": "markdown",
   "id": "9a9ab1c0-8505-4a1a-b77e-0c002ed3cd7f",
   "metadata": {},
   "source": [
    "## Find the traffic separation lanes"
   ]
  },
  {
   "cell_type": "code",
   "execution_count": 14,
   "id": "61feeaa3-36fd-4534-8340-af1a423f13c3",
   "metadata": {},
   "outputs": [
    {
     "data": {
      "text/html": [
       "<div>\n",
       "<style scoped>\n",
       "    .dataframe tbody tr th:only-of-type {\n",
       "        vertical-align: middle;\n",
       "    }\n",
       "\n",
       "    .dataframe tbody tr th {\n",
       "        vertical-align: top;\n",
       "    }\n",
       "\n",
       "    .dataframe thead th {\n",
       "        text-align: right;\n",
       "    }\n",
       "</style>\n",
       "<table border=\"1\" class=\"dataframe\">\n",
       "  <thead>\n",
       "    <tr style=\"text-align: right;\">\n",
       "      <th></th>\n",
       "      <th>id</th>\n",
       "      <th>version</th>\n",
       "      <th>user_id</th>\n",
       "      <th>tstamp</th>\n",
       "      <th>changeset_id</th>\n",
       "      <th>tags</th>\n",
       "      <th>nodes</th>\n",
       "      <th>linestring</th>\n",
       "      <th>bbox</th>\n",
       "      <th>geom</th>\n",
       "    </tr>\n",
       "  </thead>\n",
       "  <tbody>\n",
       "    <tr>\n",
       "      <th>0</th>\n",
       "      <td>369843715</td>\n",
       "      <td>1</td>\n",
       "      <td>3213862</td>\n",
       "      <td>2015-09-09 11:32:50</td>\n",
       "      <td>33906358</td>\n",
       "      <td>{'seamark:type': 'separation_lane'}</td>\n",
       "      <td>[3735908103, 3735908102, 3735908100]</td>\n",
       "      <td>0102000020E610000003000000802260BE064EE1BF26E9...</td>\n",
       "      <td>0103000020E610000001000000050000003CF482F4B9BF...</td>\n",
       "      <td>LINESTRING (-0.54077 37.59114, -0.55495 37.577...</td>\n",
       "    </tr>\n",
       "    <tr>\n",
       "      <th>1</th>\n",
       "      <td>369843714</td>\n",
       "      <td>1</td>\n",
       "      <td>3213862</td>\n",
       "      <td>2015-09-09 11:32:50</td>\n",
       "      <td>33906358</td>\n",
       "      <td>{'seamark:type': 'separation_lane'}</td>\n",
       "      <td>[3735908098, 3735908099, 3735908101]</td>\n",
       "      <td>0102000020E6100000030000000F92AA926D85E1BF9BFD...</td>\n",
       "      <td>0103000020E610000001000000050000000F92AA926D85...</td>\n",
       "      <td>LINESTRING (-0.54754 37.52663, -0.51086 37.551...</td>\n",
       "    </tr>\n",
       "  </tbody>\n",
       "</table>\n",
       "</div>"
      ],
      "text/plain": [
       "          id  version  user_id               tstamp  changeset_id  \\\n",
       "0  369843715        1  3213862  2015-09-09 11:32:50      33906358   \n",
       "1  369843714        1  3213862  2015-09-09 11:32:50      33906358   \n",
       "\n",
       "                                  tags                                 nodes  \\\n",
       "0  {'seamark:type': 'separation_lane'}  [3735908103, 3735908102, 3735908100]   \n",
       "1  {'seamark:type': 'separation_lane'}  [3735908098, 3735908099, 3735908101]   \n",
       "\n",
       "                                          linestring  \\\n",
       "0  0102000020E610000003000000802260BE064EE1BF26E9...   \n",
       "1  0102000020E6100000030000000F92AA926D85E1BF9BFD...   \n",
       "\n",
       "                                                bbox  \\\n",
       "0  0103000020E610000001000000050000003CF482F4B9BF...   \n",
       "1  0103000020E610000001000000050000000F92AA926D85...   \n",
       "\n",
       "                                                geom  \n",
       "0  LINESTRING (-0.54077 37.59114, -0.55495 37.577...  \n",
       "1  LINESTRING (-0.54754 37.52663, -0.51086 37.551...  "
      ]
     },
     "execution_count": 14,
     "metadata": {},
     "output_type": "execute_result"
    }
   ],
   "source": [
    "query = \"SELECT *,linestring AS geom FROM public.ways WHERE ST_Intersects(linestring, ST_GeomFromText('POLYGON ((0 37, 0 38, -1 38, -1 37, 0 37))', 4326)) AND ( tags -> 'seamark:type'='separation_lane')\"\n",
    "gdf_ways = gpd.read_postgis(query, engine)\n",
    "gdf_ways['tstamp']=gdf_ways['tstamp'].dt.strftime('%Y-%m-%d %H:%M:%S')\n",
    "gdf_ways"
   ]
  },
  {
   "cell_type": "code",
   "execution_count": 15,
   "id": "afdb1c08-daf8-47f1-94d8-a809cbeca37d",
   "metadata": {},
   "outputs": [
    {
     "data": {
      "text/html": [
       "<div style=\"width:100%;\"><div style=\"position:relative;width:100%;height:0;padding-bottom:60%;\"><span style=\"color:#565656\">Make this Notebook Trusted to load map: File -> Trust Notebook</span><iframe srcdoc=\"&lt;!DOCTYPE html&gt;\n",
       "&lt;html&gt;\n",
       "&lt;head&gt;\n",
       "    \n",
       "    &lt;meta http-equiv=&quot;content-type&quot; content=&quot;text/html; charset=UTF-8&quot; /&gt;\n",
       "    \n",
       "        &lt;script&gt;\n",
       "            L_NO_TOUCH = false;\n",
       "            L_DISABLE_3D = false;\n",
       "        &lt;/script&gt;\n",
       "    \n",
       "    &lt;style&gt;html, body {width: 100%;height: 100%;margin: 0;padding: 0;}&lt;/style&gt;\n",
       "    &lt;style&gt;#map {position:absolute;top:0;bottom:0;right:0;left:0;}&lt;/style&gt;\n",
       "    &lt;script src=&quot;https://cdn.jsdelivr.net/npm/leaflet@1.9.3/dist/leaflet.js&quot;&gt;&lt;/script&gt;\n",
       "    &lt;script src=&quot;https://code.jquery.com/jquery-1.12.4.min.js&quot;&gt;&lt;/script&gt;\n",
       "    &lt;script src=&quot;https://cdn.jsdelivr.net/npm/bootstrap@5.2.2/dist/js/bootstrap.bundle.min.js&quot;&gt;&lt;/script&gt;\n",
       "    &lt;script src=&quot;https://cdnjs.cloudflare.com/ajax/libs/Leaflet.awesome-markers/2.0.2/leaflet.awesome-markers.js&quot;&gt;&lt;/script&gt;\n",
       "    &lt;link rel=&quot;stylesheet&quot; href=&quot;https://cdn.jsdelivr.net/npm/leaflet@1.9.3/dist/leaflet.css&quot;/&gt;\n",
       "    &lt;link rel=&quot;stylesheet&quot; href=&quot;https://cdn.jsdelivr.net/npm/bootstrap@5.2.2/dist/css/bootstrap.min.css&quot;/&gt;\n",
       "    &lt;link rel=&quot;stylesheet&quot; href=&quot;https://netdna.bootstrapcdn.com/bootstrap/3.0.0/css/bootstrap.min.css&quot;/&gt;\n",
       "    &lt;link rel=&quot;stylesheet&quot; href=&quot;https://cdn.jsdelivr.net/npm/@fortawesome/fontawesome-free@6.2.0/css/all.min.css&quot;/&gt;\n",
       "    &lt;link rel=&quot;stylesheet&quot; href=&quot;https://cdnjs.cloudflare.com/ajax/libs/Leaflet.awesome-markers/2.0.2/leaflet.awesome-markers.css&quot;/&gt;\n",
       "    &lt;link rel=&quot;stylesheet&quot; href=&quot;https://cdn.jsdelivr.net/gh/python-visualization/folium/folium/templates/leaflet.awesome.rotate.min.css&quot;/&gt;\n",
       "    \n",
       "            &lt;meta name=&quot;viewport&quot; content=&quot;width=device-width,\n",
       "                initial-scale=1.0, maximum-scale=1.0, user-scalable=no&quot; /&gt;\n",
       "            &lt;style&gt;\n",
       "                #map_6617ee3bb2b11f69bc7b5418a29722ed {\n",
       "                    position: relative;\n",
       "                    width: 100.0%;\n",
       "                    height: 100.0%;\n",
       "                    left: 0.0%;\n",
       "                    top: 0.0%;\n",
       "                }\n",
       "                .leaflet-container { font-size: 1rem; }\n",
       "            &lt;/style&gt;\n",
       "        \n",
       "    \n",
       "                    &lt;style&gt;\n",
       "                        .foliumtooltip {\n",
       "                            \n",
       "                        }\n",
       "                       .foliumtooltip table{\n",
       "                            margin: auto;\n",
       "                        }\n",
       "                        .foliumtooltip tr{\n",
       "                            text-align: left;\n",
       "                        }\n",
       "                        .foliumtooltip th{\n",
       "                            padding: 2px; padding-right: 8px;\n",
       "                        }\n",
       "                    &lt;/style&gt;\n",
       "            \n",
       "&lt;/head&gt;\n",
       "&lt;body&gt;\n",
       "    \n",
       "    \n",
       "            &lt;div class=&quot;folium-map&quot; id=&quot;map_6617ee3bb2b11f69bc7b5418a29722ed&quot; &gt;&lt;/div&gt;\n",
       "        \n",
       "&lt;/body&gt;\n",
       "&lt;script&gt;\n",
       "    \n",
       "    \n",
       "            var map_6617ee3bb2b11f69bc7b5418a29722ed = L.map(\n",
       "                &quot;map_6617ee3bb2b11f69bc7b5418a29722ed&quot;,\n",
       "                {\n",
       "                    center: [37.55888725, -0.5388889],\n",
       "                    crs: L.CRS.EPSG3857,\n",
       "                    zoom: 10,\n",
       "                    zoomControl: true,\n",
       "                    preferCanvas: false,\n",
       "                }\n",
       "            );\n",
       "            L.control.scale().addTo(map_6617ee3bb2b11f69bc7b5418a29722ed);\n",
       "\n",
       "            \n",
       "\n",
       "        \n",
       "    \n",
       "            var tile_layer_a653dc403601d6914d5ee65c955cee0c = L.tileLayer(\n",
       "                &quot;https://{s}.tile.openstreetmap.org/{z}/{x}/{y}.png&quot;,\n",
       "                {&quot;attribution&quot;: &quot;Data by \\u0026copy; \\u003ca target=\\&quot;_blank\\&quot; href=\\&quot;http://openstreetmap.org\\&quot;\\u003eOpenStreetMap\\u003c/a\\u003e, under \\u003ca target=\\&quot;_blank\\&quot; href=\\&quot;http://www.openstreetmap.org/copyright\\&quot;\\u003eODbL\\u003c/a\\u003e.&quot;, &quot;detectRetina&quot;: false, &quot;maxNativeZoom&quot;: 18, &quot;maxZoom&quot;: 18, &quot;minZoom&quot;: 0, &quot;noWrap&quot;: false, &quot;opacity&quot;: 1, &quot;subdomains&quot;: &quot;abc&quot;, &quot;tms&quot;: false}\n",
       "            ).addTo(map_6617ee3bb2b11f69bc7b5418a29722ed);\n",
       "        \n",
       "    \n",
       "            map_6617ee3bb2b11f69bc7b5418a29722ed.fitBounds(\n",
       "                [[37.5266334, -0.5859041], [37.5911411, -0.4918737]],\n",
       "                {}\n",
       "            );\n",
       "        \n",
       "    \n",
       "        function geo_json_069084e6b8259672d7dea45b6e569fa0_styler(feature) {\n",
       "            switch(feature.id) {\n",
       "                default:\n",
       "                    return {&quot;fillOpacity&quot;: 0.5, &quot;weight&quot;: 2};\n",
       "            }\n",
       "        }\n",
       "        function geo_json_069084e6b8259672d7dea45b6e569fa0_highlighter(feature) {\n",
       "            switch(feature.id) {\n",
       "                default:\n",
       "                    return {&quot;fillOpacity&quot;: 0.75};\n",
       "            }\n",
       "        }\n",
       "        function geo_json_069084e6b8259672d7dea45b6e569fa0_pointToLayer(feature, latlng) {\n",
       "            var opts = {&quot;bubblingMouseEvents&quot;: true, &quot;color&quot;: &quot;#3388ff&quot;, &quot;dashArray&quot;: null, &quot;dashOffset&quot;: null, &quot;fill&quot;: true, &quot;fillColor&quot;: &quot;#3388ff&quot;, &quot;fillOpacity&quot;: 0.2, &quot;fillRule&quot;: &quot;evenodd&quot;, &quot;lineCap&quot;: &quot;round&quot;, &quot;lineJoin&quot;: &quot;round&quot;, &quot;opacity&quot;: 1.0, &quot;radius&quot;: 2, &quot;stroke&quot;: true, &quot;weight&quot;: 3};\n",
       "            \n",
       "            let style = geo_json_069084e6b8259672d7dea45b6e569fa0_styler(feature)\n",
       "            Object.assign(opts, style)\n",
       "            \n",
       "            return new L.CircleMarker(latlng, opts)\n",
       "        }\n",
       "\n",
       "        function geo_json_069084e6b8259672d7dea45b6e569fa0_onEachFeature(feature, layer) {\n",
       "            layer.on({\n",
       "                mouseout: function(e) {\n",
       "                    if(typeof e.target.setStyle === &quot;function&quot;){\n",
       "                        geo_json_069084e6b8259672d7dea45b6e569fa0.resetStyle(e.target);\n",
       "                    }\n",
       "                },\n",
       "                mouseover: function(e) {\n",
       "                    if(typeof e.target.setStyle === &quot;function&quot;){\n",
       "                        const highlightStyle = geo_json_069084e6b8259672d7dea45b6e569fa0_highlighter(e.target.feature)\n",
       "                        e.target.setStyle(highlightStyle);\n",
       "                    }\n",
       "                },\n",
       "            });\n",
       "        };\n",
       "        var geo_json_069084e6b8259672d7dea45b6e569fa0 = L.geoJson(null, {\n",
       "                onEachFeature: geo_json_069084e6b8259672d7dea45b6e569fa0_onEachFeature,\n",
       "            \n",
       "                style: geo_json_069084e6b8259672d7dea45b6e569fa0_styler,\n",
       "                pointToLayer: geo_json_069084e6b8259672d7dea45b6e569fa0_pointToLayer\n",
       "        });\n",
       "\n",
       "        function geo_json_069084e6b8259672d7dea45b6e569fa0_add (data) {\n",
       "            geo_json_069084e6b8259672d7dea45b6e569fa0\n",
       "                .addData(data)\n",
       "                .addTo(map_6617ee3bb2b11f69bc7b5418a29722ed);\n",
       "        }\n",
       "            geo_json_069084e6b8259672d7dea45b6e569fa0_add({&quot;bbox&quot;: [-0.5859041, 37.5266334, -0.4918737, 37.5911411], &quot;features&quot;: [{&quot;bbox&quot;: [-0.5859041, 37.5534249, -0.5407747, 37.5911411], &quot;geometry&quot;: {&quot;coordinates&quot;: [[-0.5407747, 37.5911411], [-0.5549508, 37.5773552], [-0.5859041, 37.5534249]], &quot;type&quot;: &quot;LineString&quot;}, &quot;id&quot;: &quot;0&quot;, &quot;properties&quot;: {&quot;bbox&quot;: &quot;0103000020E610000001000000050000003CF482F4B9BFE2BF63258BA0D6C642403CF482F4B9BFE2BF26E9F582AACB4240802260BE064EE1BF26E9F582AACB4240802260BE064EE1BF63258BA0D6C642403CF482F4B9BFE2BF63258BA0D6C64240&quot;, &quot;changeset_id&quot;: 33906358, &quot;id&quot;: 369843715, &quot;linestring&quot;: &quot;0102000020E610000003000000802260BE064EE1BF26E9F582AACB4240FD721C2E28C2E1BF781673C6E6C942403CF482F4B9BFE2BF63258BA0D6C64240&quot;, &quot;nodes&quot;: [3735908103, 3735908102, 3735908100], &quot;tags&quot;: {&quot;seamark:type&quot;: &quot;separation_lane&quot;}, &quot;tstamp&quot;: &quot;2015-09-09 11:32:50&quot;, &quot;user_id&quot;: 3213862, &quot;version&quot;: 1}, &quot;type&quot;: &quot;Feature&quot;}, {&quot;bbox&quot;: [-0.5475376, 37.5266334, -0.4918737, 37.5767049], &quot;geometry&quot;: {&quot;coordinates&quot;: [[-0.5475376, 37.5266334], [-0.5108619, 37.5510839], [-0.4918737, 37.5767049]], &quot;type&quot;: &quot;LineString&quot;}, &quot;id&quot;: &quot;1&quot;, &quot;properties&quot;: {&quot;bbox&quot;: &quot;0103000020E610000001000000050000000F92AA926D85E1BF9BFD26B968C342400F92AA926D85E1BFB3785677D1C942400DCDD0D3DB7ADFBFB3785677D1C942400DCDD0D3DB7ADFBF9BFD26B968C342400F92AA926D85E1BF9BFD26B968C34240&quot;, &quot;changeset_id&quot;: 33906358, &quot;id&quot;: 369843714, &quot;linestring&quot;: &quot;0102000020E6100000030000000F92AA926D85E1BF9BFD26B968C34240AFB7280EFB58E0BF13EDCFEA89C642400DCDD0D3DB7ADFBFB3785677D1C94240&quot;, &quot;nodes&quot;: [3735908098, 3735908099, 3735908101], &quot;tags&quot;: {&quot;seamark:type&quot;: &quot;separation_lane&quot;}, &quot;tstamp&quot;: &quot;2015-09-09 11:32:50&quot;, &quot;user_id&quot;: 3213862, &quot;version&quot;: 1}, &quot;type&quot;: &quot;Feature&quot;}], &quot;type&quot;: &quot;FeatureCollection&quot;});\n",
       "\n",
       "        \n",
       "    \n",
       "    geo_json_069084e6b8259672d7dea45b6e569fa0.bindTooltip(\n",
       "    function(layer){\n",
       "    let div = L.DomUtil.create(&#x27;div&#x27;);\n",
       "    \n",
       "    let handleObject = feature=&gt;typeof(feature)==&#x27;object&#x27; ? JSON.stringify(feature) : feature;\n",
       "    let fields = [&quot;id&quot;, &quot;version&quot;, &quot;user_id&quot;, &quot;tstamp&quot;, &quot;changeset_id&quot;, &quot;tags&quot;, &quot;nodes&quot;, &quot;linestring&quot;, &quot;bbox&quot;];\n",
       "    let aliases = [&quot;id&quot;, &quot;version&quot;, &quot;user_id&quot;, &quot;tstamp&quot;, &quot;changeset_id&quot;, &quot;tags&quot;, &quot;nodes&quot;, &quot;linestring&quot;, &quot;bbox&quot;];\n",
       "    let table = &#x27;&lt;table&gt;&#x27; +\n",
       "        String(\n",
       "        fields.map(\n",
       "        (v,i)=&gt;\n",
       "        `&lt;tr&gt;\n",
       "            &lt;th&gt;${aliases[i]}&lt;/th&gt;\n",
       "            \n",
       "            &lt;td&gt;${handleObject(layer.feature.properties[v])}&lt;/td&gt;\n",
       "        &lt;/tr&gt;`).join(&#x27;&#x27;))\n",
       "    +&#x27;&lt;/table&gt;&#x27;;\n",
       "    div.innerHTML=table;\n",
       "    \n",
       "    return div\n",
       "    }\n",
       "    ,{&quot;className&quot;: &quot;foliumtooltip&quot;, &quot;sticky&quot;: true});\n",
       "                     \n",
       "&lt;/script&gt;\n",
       "&lt;/html&gt;\" style=\"position:absolute;width:100%;height:100%;left:0;top:0;border:none !important;\" allowfullscreen webkitallowfullscreen mozallowfullscreen></iframe></div></div>"
      ],
      "text/plain": [
       "<folium.folium.Map at 0x1f2c7bbc400>"
      ]
     },
     "execution_count": 15,
     "metadata": {},
     "output_type": "execute_result"
    }
   ],
   "source": [
    "gdf_ways.explore()\n"
   ]
  },
  {
   "cell_type": "code",
   "execution_count": 16,
   "id": "3a3613b8-1355-4a79-8d73-fb6257fce542",
   "metadata": {},
   "outputs": [
    {
     "name": "stdout",
     "output_type": "stream",
     "text": [
      "0.09889921827129518\n",
      "0.07495616204803192\n",
      "1\n"
     ]
    }
   ],
   "source": [
    "dist_list = []\n",
    "for line in gdf_ways.geom:\n",
    "    seamark_lane_segment = line\n",
    "    x,y = seamark_lane_segment.xy\n",
    "    seamark_start_point = Point(x[0], y[0])\n",
    "    dist = point_A.distance(seamark_start_point)\n",
    "    dist_list.append(dist)\n",
    "    print(dist)\n",
    "\n",
    "mind_dist_index = dist_list.index(min(dist_list))\n",
    "print(mind_dist_index)"
   ]
  },
  {
   "cell_type": "code",
   "execution_count": 17,
   "id": "5ee25bc8-8b34-481d-bb63-f5f3677010f1",
   "metadata": {},
   "outputs": [
    {
     "name": "stdout",
     "output_type": "stream",
     "text": [
      "<class 'pandas.core.series.Series'>\n"
     ]
    }
   ],
   "source": [
    "seperation_lane = gdf_ways.loc[mind_dist_index]\n",
    "#seperation_lane_geom['geom'] =seperation_lane['geom']\n",
    "print(type(seperation_lane))"
   ]
  },
  {
   "cell_type": "code",
   "execution_count": 18,
   "id": "54520f29-6280-4a34-bc9c-a5a8f06b6f1b",
   "metadata": {},
   "outputs": [
    {
     "data": {
      "text/plain": [
       "id                                                      369843714\n",
       "version                                                         1\n",
       "user_id                                                   3213862\n",
       "tstamp                                        2015-09-09 11:32:50\n",
       "changeset_id                                             33906358\n",
       "tags                          {'seamark:type': 'separation_lane'}\n",
       "nodes                        [3735908098, 3735908099, 3735908101]\n",
       "linestring      0102000020E6100000030000000F92AA926D85E1BF9BFD...\n",
       "bbox            0103000020E610000001000000050000000F92AA926D85...\n",
       "geom            LINESTRING (-0.5475376 37.5266334, -0.5108619 ...\n",
       "Name: 1, dtype: object"
      ]
     },
     "execution_count": 18,
     "metadata": {},
     "output_type": "execute_result"
    }
   ],
   "source": [
    "seperation_lane"
   ]
  },
  {
   "cell_type": "code",
   "execution_count": 19,
   "id": "1000dc9b-eecd-41a8-80ea-17fcdebdfd79",
   "metadata": {},
   "outputs": [],
   "source": []
  },
  {
   "cell_type": "code",
   "execution_count": 20,
   "id": "f8622b5c-57ba-4126-8eee-24428602b9e3",
   "metadata": {},
   "outputs": [],
   "source": [
    "seperation_lane_geom = seperation_lane.geom"
   ]
  },
  {
   "cell_type": "code",
   "execution_count": 21,
   "id": "7d0ec711-8b8b-4459-a288-d8a46e506ab5",
   "metadata": {},
   "outputs": [
    {
     "name": "stdout",
     "output_type": "stream",
     "text": [
      "LINESTRING (-0.5475376 37.5266334, -0.5108619 37.5510839, -0.4918737 37.5767049)\n",
      "<class 'shapely.geometry.linestring.LineString'>\n"
     ]
    }
   ],
   "source": [
    "print(seperation_lane_geom)\n",
    "print(type(seperation_lane_geom))"
   ]
  },
  {
   "cell_type": "code",
   "execution_count": 22,
   "id": "34cf68cb-2706-4269-bb8a-5c3b2af0adc7",
   "metadata": {},
   "outputs": [
    {
     "name": "stdout",
     "output_type": "stream",
     "text": [
      "<class 'geopandas.geodataframe.GeoDataFrame'>\n"
     ]
    }
   ],
   "source": [
    "print(type(segments_before_df))"
   ]
  },
  {
   "cell_type": "code",
   "execution_count": 23,
   "id": "002b8809-9795-486f-ab94-f3ed25db904c",
   "metadata": {},
   "outputs": [
    {
     "data": {
      "text/html": [
       "<div>\n",
       "<style scoped>\n",
       "    .dataframe tbody tr th:only-of-type {\n",
       "        vertical-align: middle;\n",
       "    }\n",
       "\n",
       "    .dataframe tbody tr th {\n",
       "        vertical-align: top;\n",
       "    }\n",
       "\n",
       "    .dataframe thead th {\n",
       "        text-align: right;\n",
       "    }\n",
       "</style>\n",
       "<table border=\"1\" class=\"dataframe\">\n",
       "  <thead>\n",
       "    <tr style=\"text-align: right;\">\n",
       "      <th></th>\n",
       "      <th>geometry</th>\n",
       "    </tr>\n",
       "  </thead>\n",
       "  <tbody>\n",
       "    <tr>\n",
       "      <th>4</th>\n",
       "      <td>LINESTRING (-0.55628 37.63458, -0.52820 37.66126)</td>\n",
       "    </tr>\n",
       "    <tr>\n",
       "      <th>5</th>\n",
       "      <td>LINESTRING (-0.52820 37.66126, -0.46804 37.68729)</td>\n",
       "    </tr>\n",
       "  </tbody>\n",
       "</table>\n",
       "</div>"
      ],
      "text/plain": [
       "                                            geometry\n",
       "4  LINESTRING (-0.55628 37.63458, -0.52820 37.66126)\n",
       "5  LINESTRING (-0.52820 37.66126, -0.46804 37.68729)"
      ]
     },
     "execution_count": 23,
     "metadata": {},
     "output_type": "execute_result"
    }
   ],
   "source": [
    "segments_after"
   ]
  },
  {
   "cell_type": "markdown",
   "id": "d8cacbc3-1a66-4da2-92f8-787be585fdfd",
   "metadata": {},
   "source": [
    "## ============================================================================="
   ]
  },
  {
   "cell_type": "code",
   "execution_count": 196,
   "id": "1298c993-4277-46bf-912b-e28a929331c9",
   "metadata": {},
   "outputs": [
    {
     "data": {
      "text/html": [
       "<div>\n",
       "<style scoped>\n",
       "    .dataframe tbody tr th:only-of-type {\n",
       "        vertical-align: middle;\n",
       "    }\n",
       "\n",
       "    .dataframe tbody tr th {\n",
       "        vertical-align: top;\n",
       "    }\n",
       "\n",
       "    .dataframe thead th {\n",
       "        text-align: right;\n",
       "    }\n",
       "</style>\n",
       "<table border=\"1\" class=\"dataframe\">\n",
       "  <thead>\n",
       "    <tr style=\"text-align: right;\">\n",
       "      <th></th>\n",
       "      <th>geometry</th>\n",
       "    </tr>\n",
       "  </thead>\n",
       "  <tbody>\n",
       "    <tr>\n",
       "      <th>0</th>\n",
       "      <td>LINESTRING (-0.62847 37.44632, -0.61483 37.48325)</td>\n",
       "    </tr>\n",
       "    <tr>\n",
       "      <th>1</th>\n",
       "      <td>LINESTRING (-0.61483 37.48325, -0.62205 37.53479)</td>\n",
       "    </tr>\n",
       "  </tbody>\n",
       "</table>\n",
       "</div>"
      ],
      "text/plain": [
       "                                            geometry\n",
       "0  LINESTRING (-0.62847 37.44632, -0.61483 37.48325)\n",
       "1  LINESTRING (-0.61483 37.48325, -0.62205 37.53479)"
      ]
     },
     "execution_count": 196,
     "metadata": {},
     "output_type": "execute_result"
    }
   ],
   "source": [
    "segments_before_df"
   ]
  },
  {
   "cell_type": "code",
   "execution_count": 213,
   "id": "4d41a9b5-cf2c-4256-8155-cf7f7b4bfebe",
   "metadata": {
    "scrolled": true
   },
   "outputs": [
    {
     "name": "stdout",
     "output_type": "stream",
     "text": [
      "Shapely LineString: LINESTRING (-0.6148297754911596 37.483250080379364, -0.6220487764329903 37.534788816331655)\n"
     ]
    },
    {
     "data": {
      "image/svg+xml": [
       "<svg xmlns=\"http://www.w3.org/2000/svg\" xmlns:xlink=\"http://www.w3.org/1999/xlink\" width=\"100.0\" height=\"100.0\" viewBox=\"-1.6220487764329903 36.534788816331655 2.0 2.0\" preserveAspectRatio=\"xMinYMin meet\"><g transform=\"matrix(1,0,0,-1,0,75.06957763266331)\"><circle cx=\"-0.6220487764329903\" cy=\"37.534788816331655\" r=\"0.06\" stroke=\"#555555\" stroke-width=\"0.02\" fill=\"#66cc99\" opacity=\"0.6\" /></g></svg>"
      ],
      "text/plain": [
       "<POINT (-0.622 37.535)>"
      ]
     },
     "execution_count": 213,
     "metadata": {},
     "output_type": "execute_result"
    }
   ],
   "source": [
    "# Create ´connecting lines\n",
    "last_line_start_seg = segments_before_df.tail(1)\n",
    "\n",
    "geom =last_line_start_seg['geometry']\n",
    "# Access one of the LineString geometries from the GeoSeries (for example, the first one)\n",
    "line_gdf = last_line_start_seg.iloc[0]\n",
    "\n",
    "# Convert the GeoDataFrame to a Shapely LineString\n",
    "line_shapely = LineString(line_gdf.geometry.coords)\n",
    "\n",
    "print(\"Shapely LineString:\", line_shapely)\n",
    "x, y = line_shapely.xy\n",
    "d = {'x': x, 'y': y}\n",
    "df = pd.DataFrame(data = d)\n",
    "last_point_rs = Point([df['x'].tail(1),df['y'].tail(1)])\n",
    "last_point_rs"
   ]
  },
  {
   "cell_type": "code",
   "execution_count": 203,
   "id": "4e761255-c56f-4c8d-a307-56645fec1be5",
   "metadata": {},
   "outputs": [
    {
     "name": "stdout",
     "output_type": "stream",
     "text": [
      "LINESTRING (-0.5475376 37.5266334, -0.5108619 37.5510839, -0.4918737 37.5767049)\n",
      "<class 'shapely.geometry.linestring.LineString'>\n"
     ]
    }
   ],
   "source": [
    "seperation_lane = gdf_ways.loc[mind_dist_index]\n",
    "print(seperation_lane.geom)\n",
    "print(type(seperation_lane.geom))"
   ]
  },
  {
   "cell_type": "code",
   "execution_count": 182,
   "id": "e3e16b2b-43fb-4cd7-97d1-e4e76b2816ff",
   "metadata": {},
   "outputs": [],
   "source": [
    "x, y = seperation_lane.geom.xy\n",
    "d = {'x': x, 'y': y}\n",
    "df = pd.DataFrame(data = d)"
   ]
  },
  {
   "cell_type": "code",
   "execution_count": 191,
   "id": "f4db93ee-440b-427b-be20-fced08420ca1",
   "metadata": {
    "scrolled": true
   },
   "outputs": [
    {
     "data": {
      "image/svg+xml": [
       "<svg xmlns=\"http://www.w3.org/2000/svg\" xmlns:xlink=\"http://www.w3.org/1999/xlink\" width=\"100.0\" height=\"100.0\" viewBox=\"-1.5475376 36.5266334 2.0 2.0\" preserveAspectRatio=\"xMinYMin meet\"><g transform=\"matrix(1,0,0,-1,0,75.0532668)\"><circle cx=\"-0.5475376\" cy=\"37.5266334\" r=\"0.06\" stroke=\"#555555\" stroke-width=\"0.02\" fill=\"#66cc99\" opacity=\"0.6\" /></g></svg>"
      ],
      "text/plain": [
       "<POINT (-0.548 37.527)>"
      ]
     },
     "execution_count": 191,
     "metadata": {},
     "output_type": "execute_result"
    }
   ],
   "source": [
    "firts_point_sl = Point([df['x'].head(1),df['y'].head(1)])\n",
    "firts_point_sl"
   ]
  },
  {
   "cell_type": "code",
   "execution_count": 216,
   "id": "4a2b7035-d36d-43bf-a500-32b525abd01e",
   "metadata": {},
   "outputs": [
    {
     "name": "stdout",
     "output_type": "stream",
     "text": [
      "LINESTRING (-0.6220487764329903 37.534788816331655, -0.5475376 37.5266334)\n"
     ]
    }
   ],
   "source": [
    "segments_1 = LineString([last_point_rs,firts_point_sl ])\n",
    "print(segments_1)"
   ]
  },
  {
   "cell_type": "markdown",
   "id": "d63be1e1-efce-476e-8cf4-c96f5ec284ad",
   "metadata": {},
   "source": [
    "#=============================="
   ]
  },
  {
   "cell_type": "code",
   "execution_count": 229,
   "id": "68a01fe2-b6ef-45ba-a853-07a88a39a270",
   "metadata": {},
   "outputs": [
    {
     "name": "stdout",
     "output_type": "stream",
     "text": [
      "Shapely LineString: LINESTRING (-0.5562756567489942 37.63458351402787, -0.5282017641999914 37.6612574977633)\n"
     ]
    },
    {
     "data": {
      "image/svg+xml": [
       "<svg xmlns=\"http://www.w3.org/2000/svg\" xmlns:xlink=\"http://www.w3.org/1999/xlink\" width=\"100.0\" height=\"100.0\" viewBox=\"-1.5562756567489942 36.63458351402787 2.0 2.0\" preserveAspectRatio=\"xMinYMin meet\"><g transform=\"matrix(1,0,0,-1,0,75.26916702805573)\"><circle cx=\"-0.5562756567489942\" cy=\"37.63458351402787\" r=\"0.06\" stroke=\"#555555\" stroke-width=\"0.02\" fill=\"#66cc99\" opacity=\"0.6\" /></g></svg>"
      ],
      "text/plain": [
       "<POINT (-0.556 37.635)>"
      ]
     },
     "execution_count": 229,
     "metadata": {},
     "output_type": "execute_result"
    }
   ],
   "source": [
    "# Create ´connecting lines\n",
    "first_line_end_seg = segments_after.head(1)\n",
    "\n",
    "geom =first_line_end_seg['geometry']\n",
    "# Access one of the LineString geometries from the GeoSeries (for example, the first one)\n",
    "line_gdf = first_line_end_seg.iloc[0]\n",
    "\n",
    "# Convert the GeoDataFrame to a Shapely LineString\n",
    "line_shapely = LineString(line_gdf.geometry.coords)\n",
    "\n",
    "print(\"Shapely LineString:\", line_shapely)\n",
    "x, y = line_shapely.xy\n",
    "d = {'x': x, 'y': y}\n",
    "df = pd.DataFrame(data = d)\n",
    "first_point_rs = Point([df['x'].head(1),df['y'].head(1)])\n",
    "first_point_rs"
   ]
  },
  {
   "cell_type": "code",
   "execution_count": 230,
   "id": "8ef251d1-5991-49b5-9459-b2b3d7443ade",
   "metadata": {},
   "outputs": [
    {
     "name": "stdout",
     "output_type": "stream",
     "text": [
      "LINESTRING (-0.5475376 37.5266334, -0.5108619 37.5510839, -0.4918737 37.5767049)\n",
      "<class 'shapely.geometry.linestring.LineString'>\n"
     ]
    },
    {
     "data": {
      "image/svg+xml": [
       "<svg xmlns=\"http://www.w3.org/2000/svg\" xmlns:xlink=\"http://www.w3.org/1999/xlink\" width=\"100.0\" height=\"100.0\" viewBox=\"-1.4918737 36.5767049 2.0 2.0\" preserveAspectRatio=\"xMinYMin meet\"><g transform=\"matrix(1,0,0,-1,0,75.1534098)\"><circle cx=\"-0.4918737\" cy=\"37.5767049\" r=\"0.06\" stroke=\"#555555\" stroke-width=\"0.02\" fill=\"#66cc99\" opacity=\"0.6\" /></g></svg>"
      ],
      "text/plain": [
       "<POINT (-0.492 37.577)>"
      ]
     },
     "execution_count": 230,
     "metadata": {},
     "output_type": "execute_result"
    }
   ],
   "source": [
    "seperation_lane = gdf_ways.loc[mind_dist_index]\n",
    "print(seperation_lane.geom)\n",
    "print(type(seperation_lane.geom))\n",
    "x, y = seperation_lane.geom.xy\n",
    "d = {'x': x, 'y': y}\n",
    "df = pd.DataFrame(data = d)\n",
    "last_point_sl = Point([df['x'].tail(1),df['y'].tail(1)])\n",
    "last_point_sl"
   ]
  },
  {
   "cell_type": "code",
   "execution_count": 231,
   "id": "cc02b133-c3f6-42f2-80d3-f19bdc2cc348",
   "metadata": {},
   "outputs": [
    {
     "name": "stdout",
     "output_type": "stream",
     "text": [
      "LINESTRING (-0.4918737 37.5767049, -0.5562756567489942 37.63458351402787)\n"
     ]
    }
   ],
   "source": [
    "segments_2 = LineString([last_point_sl,first_point_rs ])\n",
    "print(segments_2)"
   ]
  },
  {
   "cell_type": "markdown",
   "id": "1f034875-2161-4279-8c49-705ac2db3c8e",
   "metadata": {},
   "source": [
    "## ================================================="
   ]
  },
  {
   "cell_type": "code",
   "execution_count": 232,
   "id": "e14d3494-6825-4c0b-a10d-36ed4b7f7209",
   "metadata": {},
   "outputs": [
    {
     "name": "stdout",
     "output_type": "stream",
     "text": [
      "                                            geometry\n",
      "0  LINESTRING (-0.62847 37.44632, -0.61483 37.48325)\n",
      "1  LINESTRING (-0.61483 37.48325, -0.62205 37.53479)\n",
      "2  LINESTRING (-0.62205 37.53479, -0.54754 37.52663)\n",
      "3  LINESTRING (-0.54754 37.52663, -0.51086 37.551...\n",
      "4  LINESTRING (-0.49187 37.57670, -0.55628 37.63458)\n",
      "5  LINESTRING (-0.55628 37.63458, -0.52820 37.66126)\n",
      "6  LINESTRING (-0.52820 37.66126, -0.46804 37.68729)\n"
     ]
    }
   ],
   "source": [
    "# Create a new GeoDataFrame with the new LineString\n",
    "first_line_Seg =  gpd.GeoDataFrame(geometry=[segments_1], crs=segments_before_df.crs)\n",
    "seperation_lane = gpd.GeoDataFrame(geometry=[seperation_lane_geom], crs=segments_before_df.crs)\n",
    "second_line_Seg =  gpd.GeoDataFrame(geometry=[segments_2], crs=segments_before_df.crs)\n",
    "\n",
    "# Append the new GeoDataFrame to the existing one\n",
    "#combined_gdf = segments_before_df.append(new_gdf, ignore_index=True)\n",
    "combined_first_route_gdf = gpd.GeoDataFrame(pd.concat([segments_before_df, first_line_Seg], ignore_index=True), crs=segments_before_df.crs)\n",
    "combined_gdf = gpd.GeoDataFrame(pd.concat([combined_first_route_gdf, seperation_lane], ignore_index=True), crs=segments_before_df.crs)\n",
    "combined_last_route_seg = gpd.GeoDataFrame(pd.concat([combined_gdf, second_line_Seg], ignore_index=True), crs=segments_before_df.crs)\n",
    "final_route = gpd.GeoDataFrame(pd.concat([combined_last_route_seg, segments_after], ignore_index=True), crs=segments_before_df.crs)\n",
    "# Now combined_gdf contains the original LineStrings along with the new LineString\n",
    "#print(combined_gdf)\n",
    "# Now combined_gdf contains the original LineStrings along with the new LineString\n",
    "print(final_route)"
   ]
  },
  {
   "cell_type": "code",
   "execution_count": 233,
   "id": "b30ff4e2-e32d-4d88-b4c5-05580fd905e9",
   "metadata": {},
   "outputs": [
    {
     "data": {
      "text/html": [
       "<div style=\"width:100%;\"><div style=\"position:relative;width:100%;height:0;padding-bottom:60%;\"><span style=\"color:#565656\">Make this Notebook Trusted to load map: File -> Trust Notebook</span><iframe srcdoc=\"&lt;!DOCTYPE html&gt;\n",
       "&lt;html&gt;\n",
       "&lt;head&gt;\n",
       "    \n",
       "    &lt;meta http-equiv=&quot;content-type&quot; content=&quot;text/html; charset=UTF-8&quot; /&gt;\n",
       "    \n",
       "        &lt;script&gt;\n",
       "            L_NO_TOUCH = false;\n",
       "            L_DISABLE_3D = false;\n",
       "        &lt;/script&gt;\n",
       "    \n",
       "    &lt;style&gt;html, body {width: 100%;height: 100%;margin: 0;padding: 0;}&lt;/style&gt;\n",
       "    &lt;style&gt;#map {position:absolute;top:0;bottom:0;right:0;left:0;}&lt;/style&gt;\n",
       "    &lt;script src=&quot;https://cdn.jsdelivr.net/npm/leaflet@1.9.3/dist/leaflet.js&quot;&gt;&lt;/script&gt;\n",
       "    &lt;script src=&quot;https://code.jquery.com/jquery-1.12.4.min.js&quot;&gt;&lt;/script&gt;\n",
       "    &lt;script src=&quot;https://cdn.jsdelivr.net/npm/bootstrap@5.2.2/dist/js/bootstrap.bundle.min.js&quot;&gt;&lt;/script&gt;\n",
       "    &lt;script src=&quot;https://cdnjs.cloudflare.com/ajax/libs/Leaflet.awesome-markers/2.0.2/leaflet.awesome-markers.js&quot;&gt;&lt;/script&gt;\n",
       "    &lt;link rel=&quot;stylesheet&quot; href=&quot;https://cdn.jsdelivr.net/npm/leaflet@1.9.3/dist/leaflet.css&quot;/&gt;\n",
       "    &lt;link rel=&quot;stylesheet&quot; href=&quot;https://cdn.jsdelivr.net/npm/bootstrap@5.2.2/dist/css/bootstrap.min.css&quot;/&gt;\n",
       "    &lt;link rel=&quot;stylesheet&quot; href=&quot;https://netdna.bootstrapcdn.com/bootstrap/3.0.0/css/bootstrap.min.css&quot;/&gt;\n",
       "    &lt;link rel=&quot;stylesheet&quot; href=&quot;https://cdn.jsdelivr.net/npm/@fortawesome/fontawesome-free@6.2.0/css/all.min.css&quot;/&gt;\n",
       "    &lt;link rel=&quot;stylesheet&quot; href=&quot;https://cdnjs.cloudflare.com/ajax/libs/Leaflet.awesome-markers/2.0.2/leaflet.awesome-markers.css&quot;/&gt;\n",
       "    &lt;link rel=&quot;stylesheet&quot; href=&quot;https://cdn.jsdelivr.net/gh/python-visualization/folium/folium/templates/leaflet.awesome.rotate.min.css&quot;/&gt;\n",
       "    \n",
       "            &lt;meta name=&quot;viewport&quot; content=&quot;width=device-width,\n",
       "                initial-scale=1.0, maximum-scale=1.0, user-scalable=no&quot; /&gt;\n",
       "            &lt;style&gt;\n",
       "                #map_759948aeb3694e32e4260e7df9e73468 {\n",
       "                    position: relative;\n",
       "                    width: 100.0%;\n",
       "                    height: 100.0%;\n",
       "                    left: 0.0%;\n",
       "                    top: 0.0%;\n",
       "                }\n",
       "                .leaflet-container { font-size: 1rem; }\n",
       "            &lt;/style&gt;\n",
       "        \n",
       "    \n",
       "                    &lt;style&gt;\n",
       "                        .foliumtooltip {\n",
       "                            \n",
       "                        }\n",
       "                       .foliumtooltip table{\n",
       "                            margin: auto;\n",
       "                        }\n",
       "                        .foliumtooltip tr{\n",
       "                            text-align: left;\n",
       "                        }\n",
       "                        .foliumtooltip th{\n",
       "                            padding: 2px; padding-right: 8px;\n",
       "                        }\n",
       "                    &lt;/style&gt;\n",
       "            \n",
       "&lt;/head&gt;\n",
       "&lt;body&gt;\n",
       "    \n",
       "    \n",
       "            &lt;div class=&quot;folium-map&quot; id=&quot;map_759948aeb3694e32e4260e7df9e73468&quot; &gt;&lt;/div&gt;\n",
       "        \n",
       "&lt;/body&gt;\n",
       "&lt;script&gt;\n",
       "    \n",
       "    \n",
       "            var map_759948aeb3694e32e4260e7df9e73468 = L.map(\n",
       "                &quot;map_759948aeb3694e32e4260e7df9e73468&quot;,\n",
       "                {\n",
       "                    center: [37.566805543406375, -0.5482545445922113],\n",
       "                    crs: L.CRS.EPSG3857,\n",
       "                    zoom: 10,\n",
       "                    zoomControl: true,\n",
       "                    preferCanvas: false,\n",
       "                }\n",
       "            );\n",
       "            L.control.scale().addTo(map_759948aeb3694e32e4260e7df9e73468);\n",
       "\n",
       "            \n",
       "\n",
       "        \n",
       "    \n",
       "            var tile_layer_3f2a83c829f73a2edeb5c3f83d259d58 = L.tileLayer(\n",
       "                &quot;https://{s}.tile.openstreetmap.org/{z}/{x}/{y}.png&quot;,\n",
       "                {&quot;attribution&quot;: &quot;Data by \\u0026copy; \\u003ca target=\\&quot;_blank\\&quot; href=\\&quot;http://openstreetmap.org\\&quot;\\u003eOpenStreetMap\\u003c/a\\u003e, under \\u003ca target=\\&quot;_blank\\&quot; href=\\&quot;http://www.openstreetmap.org/copyright\\&quot;\\u003eODbL\\u003c/a\\u003e.&quot;, &quot;detectRetina&quot;: false, &quot;maxNativeZoom&quot;: 18, &quot;maxZoom&quot;: 18, &quot;minZoom&quot;: 0, &quot;noWrap&quot;: false, &quot;opacity&quot;: 1, &quot;subdomains&quot;: &quot;abc&quot;, &quot;tms&quot;: false}\n",
       "            ).addTo(map_759948aeb3694e32e4260e7df9e73468);\n",
       "        \n",
       "    \n",
       "            map_759948aeb3694e32e4260e7df9e73468.fitBounds(\n",
       "                [[37.44632394159261, -0.6284656661578651], [37.68728714522014, -0.46804342302655755]],\n",
       "                {}\n",
       "            );\n",
       "        \n",
       "    \n",
       "        function geo_json_6e3fdb896a0ff75e3ef149c691e9ae60_styler(feature) {\n",
       "            switch(feature.id) {\n",
       "                default:\n",
       "                    return {&quot;fillOpacity&quot;: 0.5, &quot;weight&quot;: 2};\n",
       "            }\n",
       "        }\n",
       "        function geo_json_6e3fdb896a0ff75e3ef149c691e9ae60_highlighter(feature) {\n",
       "            switch(feature.id) {\n",
       "                default:\n",
       "                    return {&quot;fillOpacity&quot;: 0.75};\n",
       "            }\n",
       "        }\n",
       "        function geo_json_6e3fdb896a0ff75e3ef149c691e9ae60_pointToLayer(feature, latlng) {\n",
       "            var opts = {&quot;bubblingMouseEvents&quot;: true, &quot;color&quot;: &quot;#3388ff&quot;, &quot;dashArray&quot;: null, &quot;dashOffset&quot;: null, &quot;fill&quot;: true, &quot;fillColor&quot;: &quot;#3388ff&quot;, &quot;fillOpacity&quot;: 0.2, &quot;fillRule&quot;: &quot;evenodd&quot;, &quot;lineCap&quot;: &quot;round&quot;, &quot;lineJoin&quot;: &quot;round&quot;, &quot;opacity&quot;: 1.0, &quot;radius&quot;: 2, &quot;stroke&quot;: true, &quot;weight&quot;: 3};\n",
       "            \n",
       "            let style = geo_json_6e3fdb896a0ff75e3ef149c691e9ae60_styler(feature)\n",
       "            Object.assign(opts, style)\n",
       "            \n",
       "            return new L.CircleMarker(latlng, opts)\n",
       "        }\n",
       "\n",
       "        function geo_json_6e3fdb896a0ff75e3ef149c691e9ae60_onEachFeature(feature, layer) {\n",
       "            layer.on({\n",
       "                mouseout: function(e) {\n",
       "                    if(typeof e.target.setStyle === &quot;function&quot;){\n",
       "                        geo_json_6e3fdb896a0ff75e3ef149c691e9ae60.resetStyle(e.target);\n",
       "                    }\n",
       "                },\n",
       "                mouseover: function(e) {\n",
       "                    if(typeof e.target.setStyle === &quot;function&quot;){\n",
       "                        const highlightStyle = geo_json_6e3fdb896a0ff75e3ef149c691e9ae60_highlighter(e.target.feature)\n",
       "                        e.target.setStyle(highlightStyle);\n",
       "                    }\n",
       "                },\n",
       "            });\n",
       "        };\n",
       "        var geo_json_6e3fdb896a0ff75e3ef149c691e9ae60 = L.geoJson(null, {\n",
       "                onEachFeature: geo_json_6e3fdb896a0ff75e3ef149c691e9ae60_onEachFeature,\n",
       "            \n",
       "                style: geo_json_6e3fdb896a0ff75e3ef149c691e9ae60_styler,\n",
       "                pointToLayer: geo_json_6e3fdb896a0ff75e3ef149c691e9ae60_pointToLayer\n",
       "        });\n",
       "\n",
       "        function geo_json_6e3fdb896a0ff75e3ef149c691e9ae60_add (data) {\n",
       "            geo_json_6e3fdb896a0ff75e3ef149c691e9ae60\n",
       "                .addData(data)\n",
       "                .addTo(map_759948aeb3694e32e4260e7df9e73468);\n",
       "        }\n",
       "            geo_json_6e3fdb896a0ff75e3ef149c691e9ae60_add({&quot;bbox&quot;: [-0.6284656661578651, 37.44632394159261, -0.46804342302655755, 37.68728714522014], &quot;features&quot;: [{&quot;bbox&quot;: [-0.6284656661578651, 37.44632394159261, -0.6148297754911596, 37.483250080379364], &quot;geometry&quot;: {&quot;coordinates&quot;: [[-0.6284656661578651, 37.44632394159261], [-0.6148297754911596, 37.483250080379364]], &quot;type&quot;: &quot;LineString&quot;}, &quot;id&quot;: &quot;0&quot;, &quot;properties&quot;: {}, &quot;type&quot;: &quot;Feature&quot;}, {&quot;bbox&quot;: [-0.6220487764329903, 37.483250080379364, -0.6148297754911596, 37.534788816331655], &quot;geometry&quot;: {&quot;coordinates&quot;: [[-0.6148297754911596, 37.483250080379364], [-0.6220487764329903, 37.534788816331655]], &quot;type&quot;: &quot;LineString&quot;}, &quot;id&quot;: &quot;1&quot;, &quot;properties&quot;: {}, &quot;type&quot;: &quot;Feature&quot;}, {&quot;bbox&quot;: [-0.6220487764329903, 37.5266334, -0.5475376, 37.534788816331655], &quot;geometry&quot;: {&quot;coordinates&quot;: [[-0.6220487764329903, 37.534788816331655], [-0.5475376, 37.5266334]], &quot;type&quot;: &quot;LineString&quot;}, &quot;id&quot;: &quot;2&quot;, &quot;properties&quot;: {}, &quot;type&quot;: &quot;Feature&quot;}, {&quot;bbox&quot;: [-0.5475376, 37.5266334, -0.4918737, 37.5767049], &quot;geometry&quot;: {&quot;coordinates&quot;: [[-0.5475376, 37.5266334], [-0.5108619, 37.5510839], [-0.4918737, 37.5767049]], &quot;type&quot;: &quot;LineString&quot;}, &quot;id&quot;: &quot;3&quot;, &quot;properties&quot;: {}, &quot;type&quot;: &quot;Feature&quot;}, {&quot;bbox&quot;: [-0.5562756567489942, 37.5767049, -0.4918737, 37.63458351402787], &quot;geometry&quot;: {&quot;coordinates&quot;: [[-0.4918737, 37.5767049], [-0.5562756567489942, 37.63458351402787]], &quot;type&quot;: &quot;LineString&quot;}, &quot;id&quot;: &quot;4&quot;, &quot;properties&quot;: {}, &quot;type&quot;: &quot;Feature&quot;}, {&quot;bbox&quot;: [-0.5562756567489942, 37.63458351402787, -0.5282017641999914, 37.6612574977633], &quot;geometry&quot;: {&quot;coordinates&quot;: [[-0.5562756567489942, 37.63458351402787], [-0.5282017641999914, 37.6612574977633]], &quot;type&quot;: &quot;LineString&quot;}, &quot;id&quot;: &quot;5&quot;, &quot;properties&quot;: {}, &quot;type&quot;: &quot;Feature&quot;}, {&quot;bbox&quot;: [-0.5282017641999914, 37.6612574977633, -0.46804342302655755, 37.68728714522014], &quot;geometry&quot;: {&quot;coordinates&quot;: [[-0.5282017641999914, 37.6612574977633], [-0.46804342302655755, 37.68728714522014]], &quot;type&quot;: &quot;LineString&quot;}, &quot;id&quot;: &quot;6&quot;, &quot;properties&quot;: {}, &quot;type&quot;: &quot;Feature&quot;}], &quot;type&quot;: &quot;FeatureCollection&quot;});\n",
       "\n",
       "        \n",
       "    \n",
       "    geo_json_6e3fdb896a0ff75e3ef149c691e9ae60.bindTooltip(\n",
       "    function(layer){\n",
       "    let div = L.DomUtil.create(&#x27;div&#x27;);\n",
       "    \n",
       "    return div\n",
       "    }\n",
       "    ,{&quot;className&quot;: &quot;foliumtooltip&quot;, &quot;sticky&quot;: true});\n",
       "                     \n",
       "&lt;/script&gt;\n",
       "&lt;/html&gt;\" style=\"position:absolute;width:100%;height:100%;left:0;top:0;border:none !important;\" allowfullscreen webkitallowfullscreen mozallowfullscreen></iframe></div></div>"
      ],
      "text/plain": [
       "<folium.folium.Map at 0x2c04e98cca0>"
      ]
     },
     "execution_count": 233,
     "metadata": {},
     "output_type": "execute_result"
    }
   ],
   "source": [
    "final_route.explore()"
   ]
  },
  {
   "cell_type": "code",
   "execution_count": 271,
   "id": "90362472-9f33-409b-a71f-0c6861eef718",
   "metadata": {},
   "outputs": [
    {
     "data": {
      "image/png": "[encoded data removed]",
      "text/plain": [
       "<Figure size 1000x1000 with 1 Axes>"
      ]
     },
     "metadata": {},
     "output_type": "display_data"
    }
   ],
   "source": [
    "fig, ax = plt.subplots(figsize=(10,10))\n",
    "segments_before_df.plot(ax=ax, color='blue',alpha=0.7,label='segments before 1st intersection', linewidth=4)\n",
    "segments_after.plot(ax=ax, color='blue',label='segments after last intersection',  linewidth=4)\n",
    "seamark_gdf.plot(ax=ax, color='purple', alpha=0.4, label='seamark')\n",
    "\n",
    "gdf_ways.plot(ax=ax,  color='c',alpha=0.3, label='Seperation Lane',  linewidth=5)\n",
    "\n",
    "p.plot(ax=ax, color='yellow', label='starting and ending of correcting segment' )\n",
    "final_route.plot(ax=ax, color = 'red',linestyle='dashed', label='Final Route', linewidth=1.5)\n",
    "\n",
    "ax.legend()\n",
    "plt.show()\n",
    "#plt.savefig( 'C:/Users/Maneesha/Documents/52N/TSS/Case1/routes_final.png')"
   ]
  },
  {
   "cell_type": "code",
   "execution_count": null,
   "id": "193031ae-3537-4d54-a534-9bcd5504c19c",
   "metadata": {},
   "outputs": [],
   "source": []
  }
 ],
 "metadata": {
  "kernelspec": {
   "display_name": "Python 3 (ipykernel)",
   "language": "python",
   "name": "python3"
  },
  "language_info": {
   "codemirror_mode": {
    "name": "ipython",
    "version": 3
   },
   "file_extension": ".py",
   "mimetype": "text/x-python",
   "name": "python",
   "nbconvert_exporter": "python",
   "pygments_lexer": "ipython3",
   "version": "3.9.18"
  }
 },
 "nbformat": 4,
 "nbformat_minor": 5
}
