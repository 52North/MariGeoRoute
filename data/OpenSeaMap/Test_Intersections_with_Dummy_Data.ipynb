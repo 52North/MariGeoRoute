{
 "cells": [
  {
   "cell_type": "code",
   "execution_count": 4,
   "id": "93d24698-ef32-4b1e-a930-e69e9a13b993",
   "metadata": {},
   "outputs": [],
   "source": [
    "import folium\n",
    "import shapely\n",
    "from folium import plugins\n",
    "import pandas as pd\n",
    "import matplotlib.pyplot as plt\n",
    "import seaborn as sns\n",
    "import json\n",
    "import geopandas as gpd\n",
    "import numpy as np\n",
    "import sqlalchemy\n",
    "from shapely.strtree import STRtree\n",
    "from WeatherRoutingTool.utils.maps import Map\n",
    "from shapely.geometry import Point, LineString, box, Polygon\n",
    "import matplotlib.pyplot as plt"
   ]
  },
  {
   "cell_type": "code",
   "execution_count": 5,
   "id": "262ee75c-6525-4c8a-9185-3b25b5abb54c",
   "metadata": {},
   "outputs": [],
   "source": [
    "lons_per_step =[2, 3, 6, 8, 9, 10, 12, 14, 16]"
   ]
  },
  {
   "cell_type": "code",
   "execution_count": 6,
   "id": "10e80864-6286-44a7-98a7-d1b6064ad4c1",
   "metadata": {},
   "outputs": [],
   "source": [
    "lats_per_step =[2, 4, 4, 6, 9, 4, 2, 4, 6]"
   ]
  },
  {
   "cell_type": "code",
   "execution_count": 7,
   "id": "f199a85e-fa2e-49b6-9b2a-73b96a1507d2",
   "metadata": {},
   "outputs": [
    {
     "data": {
      "text/plain": [
       "[<LINESTRING (2 2, 3 4)>,\n",
       " <LINESTRING (3 4, 6 4)>,\n",
       " <LINESTRING (6 4, 8 6)>,\n",
       " <LINESTRING (8 6, 9 9)>,\n",
       " <LINESTRING (9 9, 10 4)>,\n",
       " <LINESTRING (10 4, 12 2)>,\n",
       " <LINESTRING (12 2, 14 4)>,\n",
       " <LINESTRING (14 4, 16 6)>]"
      ]
     },
     "execution_count": 7,
     "metadata": {},
     "output_type": "execute_result"
    }
   ],
   "source": [
    " # Create LineString segments from X and Y columns\n",
    "segments = []\n",
    "for i in range(len(lons_per_step)-1):\n",
    "    segment = LineString([(lons_per_step[i], lats_per_step[i]), (lons_per_step[i + 1],lats_per_step[i + 1])])\n",
    "    segments.append(segment)\n",
    "segments"
   ]
  },
  {
   "cell_type": "code",
   "execution_count": 8,
   "id": "d4bebcef-5ecb-4e51-a2f4-30e1c1395205",
   "metadata": {},
   "outputs": [],
   "source": [
    "seamark_lon = [4, 8,10]\n",
    "seamark_lat = [8, 4, 6]"
   ]
  },
  {
   "cell_type": "code",
   "execution_count": 9,
   "id": "07041465-d0e1-4e4b-9126-4898543cfe63",
   "metadata": {},
   "outputs": [
    {
     "name": "stdout",
     "output_type": "stream",
     "text": [
      "3\n",
      "0\n",
      "LINESTRING (4 8, 8 4)\n",
      "1\n",
      "LINESTRING (8 4, 10 6)\n",
      "[<LINESTRING (4 8, 8 4)>, <LINESTRING (8 4, 10 6)>]\n"
     ]
    }
   ],
   "source": [
    "# Create LineString segments from X and Y columns\n",
    "segments_s = []\n",
    "print(len(seamark_lon))\n",
    "for i in range(len(seamark_lon)-1):\n",
    "    print(i)\n",
    "    seamark_segments = LineString([(seamark_lon[i], seamark_lat[i]), (seamark_lon[i + 1],seamark_lat[i + 1])])\n",
    "    print(seamark_segments)\n",
    "    segments_s.append(seamark_segments)\n",
    "    #seamark_segments.append(seamark_segments)\n",
    "print(segments_s)"
   ]
  },
  {
   "cell_type": "code",
   "execution_count": 10,
   "id": "bf08c05e-fa50-4476-b2b3-046be45cc3ed",
   "metadata": {},
   "outputs": [
    {
     "data": {
      "text/html": [
       "<div>\n",
       "<style scoped>\n",
       "    .dataframe tbody tr th:only-of-type {\n",
       "        vertical-align: middle;\n",
       "    }\n",
       "\n",
       "    .dataframe tbody tr th {\n",
       "        vertical-align: top;\n",
       "    }\n",
       "\n",
       "    .dataframe thead th {\n",
       "        text-align: right;\n",
       "    }\n",
       "</style>\n",
       "<table border=\"1\" class=\"dataframe\">\n",
       "  <thead>\n",
       "    <tr style=\"text-align: right;\">\n",
       "      <th></th>\n",
       "      <th>geometry</th>\n",
       "    </tr>\n",
       "  </thead>\n",
       "  <tbody>\n",
       "    <tr>\n",
       "      <th>0</th>\n",
       "      <td>LINESTRING (2.00000 2.00000, 3.00000 4.00000)</td>\n",
       "    </tr>\n",
       "    <tr>\n",
       "      <th>1</th>\n",
       "      <td>LINESTRING (3.00000 4.00000, 6.00000 4.00000)</td>\n",
       "    </tr>\n",
       "    <tr>\n",
       "      <th>2</th>\n",
       "      <td>LINESTRING (6.00000 4.00000, 8.00000 6.00000)</td>\n",
       "    </tr>\n",
       "    <tr>\n",
       "      <th>3</th>\n",
       "      <td>LINESTRING (8.00000 6.00000, 9.00000 9.00000)</td>\n",
       "    </tr>\n",
       "    <tr>\n",
       "      <th>4</th>\n",
       "      <td>LINESTRING (9.00000 9.00000, 10.00000 4.00000)</td>\n",
       "    </tr>\n",
       "    <tr>\n",
       "      <th>5</th>\n",
       "      <td>LINESTRING (10.00000 4.00000, 12.00000 2.00000)</td>\n",
       "    </tr>\n",
       "    <tr>\n",
       "      <th>6</th>\n",
       "      <td>LINESTRING (12.00000 2.00000, 14.00000 4.00000)</td>\n",
       "    </tr>\n",
       "    <tr>\n",
       "      <th>7</th>\n",
       "      <td>LINESTRING (14.00000 4.00000, 16.00000 6.00000)</td>\n",
       "    </tr>\n",
       "  </tbody>\n",
       "</table>\n",
       "</div>"
      ],
      "text/plain": [
       "                                          geometry\n",
       "0    LINESTRING (2.00000 2.00000, 3.00000 4.00000)\n",
       "1    LINESTRING (3.00000 4.00000, 6.00000 4.00000)\n",
       "2    LINESTRING (6.00000 4.00000, 8.00000 6.00000)\n",
       "3    LINESTRING (8.00000 6.00000, 9.00000 9.00000)\n",
       "4   LINESTRING (9.00000 9.00000, 10.00000 4.00000)\n",
       "5  LINESTRING (10.00000 4.00000, 12.00000 2.00000)\n",
       "6  LINESTRING (12.00000 2.00000, 14.00000 4.00000)\n",
       "7  LINESTRING (14.00000 4.00000, 16.00000 6.00000)"
      ]
     },
     "execution_count": 10,
     "metadata": {},
     "output_type": "execute_result"
    }
   ],
   "source": [
    "    # Add LineString segments to a new GeoDataFrame\n",
    "segments_gdf = gpd.GeoDataFrame(geometry=segments, crs=\"EPSG:4326\")\n",
    "segments_gdf"
   ]
  },
  {
   "cell_type": "code",
   "execution_count": 11,
   "id": "8e82fe16-8fe5-4392-9836-9404304697fa",
   "metadata": {},
   "outputs": [
    {
     "data": {
      "text/html": [
       "<div>\n",
       "<style scoped>\n",
       "    .dataframe tbody tr th:only-of-type {\n",
       "        vertical-align: middle;\n",
       "    }\n",
       "\n",
       "    .dataframe tbody tr th {\n",
       "        vertical-align: top;\n",
       "    }\n",
       "\n",
       "    .dataframe thead th {\n",
       "        text-align: right;\n",
       "    }\n",
       "</style>\n",
       "<table border=\"1\" class=\"dataframe\">\n",
       "  <thead>\n",
       "    <tr style=\"text-align: right;\">\n",
       "      <th></th>\n",
       "      <th>geometry</th>\n",
       "    </tr>\n",
       "  </thead>\n",
       "  <tbody>\n",
       "    <tr>\n",
       "      <th>0</th>\n",
       "      <td>LINESTRING (4.00000 8.00000, 8.00000 4.00000)</td>\n",
       "    </tr>\n",
       "    <tr>\n",
       "      <th>1</th>\n",
       "      <td>LINESTRING (8.00000 4.00000, 10.00000 6.00000)</td>\n",
       "    </tr>\n",
       "  </tbody>\n",
       "</table>\n",
       "</div>"
      ],
      "text/plain": [
       "                                         geometry\n",
       "0   LINESTRING (4.00000 8.00000, 8.00000 4.00000)\n",
       "1  LINESTRING (8.00000 4.00000, 10.00000 6.00000)"
      ]
     },
     "execution_count": 11,
     "metadata": {},
     "output_type": "execute_result"
    }
   ],
   "source": [
    "    # Add LineString segments to a new GeoDataFrame\n",
    "seamark_gdf = gpd.GeoDataFrame(geometry=segments_s, crs=\"EPSG:4326\")\n",
    "seamark_gdf"
   ]
  },
  {
   "cell_type": "code",
   "execution_count": 12,
   "id": "396cfb42-453f-41e4-8489-dce0a01ce67d",
   "metadata": {},
   "outputs": [
    {
     "data": {
      "text/plain": [
       "<Axes: >"
      ]
     },
     "execution_count": 12,
     "metadata": {},
     "output_type": "execute_result"
    },
    {
     "data": {
      "image/png": "[encoded data removed]",
      "text/plain": [
       "<Figure size 640x480 with 1 Axes>"
      ]
     },
     "metadata": {},
     "output_type": "display_data"
    }
   ],
   "source": [
    "fig, ax =plt.subplots() \n",
    "segments_gdf.plot(ax=ax)\n",
    "seamark_gdf.plot(ax=ax)"
   ]
  },
  {
   "cell_type": "code",
   "execution_count": 13,
   "id": "1fc69788-7ee5-4dfe-88aa-bf0823ab6324",
   "metadata": {
    "scrolled": true
   },
   "outputs": [
    {
     "name": "stdout",
     "output_type": "stream",
     "text": [
      "                  geometry\n",
      "0  POINT (7.00000 5.00000)\n",
      "1  POINT (9.66667 5.66667)\n"
     ]
    }
   ],
   "source": [
    "# Perform spatial overlay to find intersections\n",
    "intersection = gpd.overlay(segments_gdf, seamark_gdf, how='intersection',keep_geom_type=False)\n",
    "\n",
    "# Print the resulting intersection GeoDataFrame\n",
    "print(intersection)"
   ]
  },
  {
   "cell_type": "code",
   "execution_count": 14,
   "id": "41f698b8-8b19-4931-93b6-a840c14f01b1",
   "metadata": {},
   "outputs": [
    {
     "data": {
      "text/plain": [
       "<matplotlib.legend.Legend at 0x1a7540ca220>"
      ]
     },
     "execution_count": 14,
     "metadata": {},
     "output_type": "execute_result"
    },
    {
     "data": {
      "image/png": "[encoded data removed]",
      "text/plain": [
       "<Figure size 640x480 with 1 Axes>"
      ]
     },
     "metadata": {},
     "output_type": "display_data"
    }
   ],
   "source": [
    "fig, ax =plt.subplots() \n",
    "segments_gdf.plot(ax=ax, label = 'ship route')\n",
    "seamark_gdf.plot(ax=ax, color = 'green', label='seamark')\n",
    "intersection.plot(ax= ax, color='red', label = 'intersects')\n",
    "ax.legend()"
   ]
  },
  {
   "cell_type": "code",
   "execution_count": 15,
   "id": "c514fb70-fd3f-46e8-96d4-538a4b5804b1",
   "metadata": {},
   "outputs": [
    {
     "name": "stdout",
     "output_type": "stream",
     "text": [
      "seg geometry    LINESTRING (2 2, 3 4)\n",
      "Name: 0, dtype: object\n",
      "interesct point geometry    POINT (7 5)\n",
      "Name: 0, dtype: object\n",
      "False\n",
      "interesct point geometry    POINT (9.666666666666666 5.666666666666667)\n",
      "Name: 1, dtype: object\n",
      "False\n",
      "##################\n",
      "seg geometry    LINESTRING (3 4, 6 4)\n",
      "Name: 1, dtype: object\n",
      "interesct point geometry    POINT (7 5)\n",
      "Name: 0, dtype: object\n",
      "False\n",
      "interesct point geometry    POINT (9.666666666666666 5.666666666666667)\n",
      "Name: 1, dtype: object\n",
      "False\n",
      "##################\n",
      "seg geometry    LINESTRING (6 4, 8 6)\n",
      "Name: 2, dtype: object\n",
      "interesct point geometry    POINT (7 5)\n",
      "Name: 0, dtype: object\n",
      "True\n",
      "____________________________________________\n",
      "interesct point geometry    POINT (9.666666666666666 5.666666666666667)\n",
      "Name: 1, dtype: object\n",
      "False\n",
      "##################\n",
      "seg geometry    LINESTRING (8 6, 9 9)\n",
      "Name: 3, dtype: object\n",
      "interesct point geometry    POINT (7 5)\n",
      "Name: 0, dtype: object\n",
      "False\n",
      "interesct point geometry    POINT (9.666666666666666 5.666666666666667)\n",
      "Name: 1, dtype: object\n",
      "False\n",
      "##################\n",
      "seg geometry    LINESTRING (9 9, 10 4)\n",
      "Name: 4, dtype: object\n",
      "interesct point geometry    POINT (7 5)\n",
      "Name: 0, dtype: object\n",
      "False\n",
      "interesct point geometry    POINT (9.666666666666666 5.666666666666667)\n",
      "Name: 1, dtype: object\n",
      "True\n",
      "____________________________________________\n",
      "##################\n",
      "seg geometry    LINESTRING (10 4, 12 2)\n",
      "Name: 5, dtype: object\n",
      "interesct point geometry    POINT (7 5)\n",
      "Name: 0, dtype: object\n",
      "False\n",
      "interesct point geometry    POINT (9.666666666666666 5.666666666666667)\n",
      "Name: 1, dtype: object\n",
      "False\n",
      "##################\n",
      "seg geometry    LINESTRING (12 2, 14 4)\n",
      "Name: 6, dtype: object\n",
      "interesct point geometry    POINT (7 5)\n",
      "Name: 0, dtype: object\n",
      "False\n",
      "interesct point geometry    POINT (9.666666666666666 5.666666666666667)\n",
      "Name: 1, dtype: object\n",
      "False\n",
      "##################\n",
      "seg geometry    LINESTRING (14 4, 16 6)\n",
      "Name: 7, dtype: object\n",
      "interesct point geometry    POINT (7 5)\n",
      "Name: 0, dtype: object\n",
      "False\n",
      "interesct point geometry    POINT (9.666666666666666 5.666666666666667)\n",
      "Name: 1, dtype: object\n",
      "False\n",
      "##################\n",
      "[2, 4]\n"
     ]
    }
   ],
   "source": [
    "first_node = 0\n",
    "indx_intersect= []\n",
    "for index, seg in segments_gdf.iterrows():\n",
    "    print('seg',seg)\n",
    "    for j, inter_point in intersection.iterrows():\n",
    "        print('interesct point',inter_point)\n",
    "        buffered_point =  inter_point.geometry.buffer(0.000001)\n",
    "        val = seg.geometry.intersects(buffered_point)\n",
    "        print(val)\n",
    "        if (val ):\n",
    "            print('____________________________________________')\n",
    "            indx_intersect.append(index)\n",
    "            \n",
    "            #break\n",
    "    print('##################')\n",
    "print(indx_intersect)"
   ]
  },
  {
   "cell_type": "code",
   "execution_count": 16,
   "id": "fcaf331f-36e9-496c-9cee-3b2ef75e1cc0",
   "metadata": {},
   "outputs": [
    {
     "data": {
      "text/plain": [
       "[2, 4]"
      ]
     },
     "execution_count": 16,
     "metadata": {},
     "output_type": "execute_result"
    }
   ],
   "source": [
    "indx_intersect"
   ]
  },
  {
   "cell_type": "code",
   "execution_count": 17,
   "id": "b1856b50-2b26-4ebe-924b-da3e339c37cf",
   "metadata": {},
   "outputs": [
    {
     "data": {
      "text/html": [
       "<div>\n",
       "<style scoped>\n",
       "    .dataframe tbody tr th:only-of-type {\n",
       "        vertical-align: middle;\n",
       "    }\n",
       "\n",
       "    .dataframe tbody tr th {\n",
       "        vertical-align: top;\n",
       "    }\n",
       "\n",
       "    .dataframe thead th {\n",
       "        text-align: right;\n",
       "    }\n",
       "</style>\n",
       "<table border=\"1\" class=\"dataframe\">\n",
       "  <thead>\n",
       "    <tr style=\"text-align: right;\">\n",
       "      <th></th>\n",
       "      <th>geometry</th>\n",
       "    </tr>\n",
       "  </thead>\n",
       "  <tbody>\n",
       "    <tr>\n",
       "      <th>0</th>\n",
       "      <td>LINESTRING (2.00000 2.00000, 3.00000 4.00000)</td>\n",
       "    </tr>\n",
       "    <tr>\n",
       "      <th>1</th>\n",
       "      <td>LINESTRING (3.00000 4.00000, 6.00000 4.00000)</td>\n",
       "    </tr>\n",
       "  </tbody>\n",
       "</table>\n",
       "</div>"
      ],
      "text/plain": [
       "                                        geometry\n",
       "0  LINESTRING (2.00000 2.00000, 3.00000 4.00000)\n",
       "1  LINESTRING (3.00000 4.00000, 6.00000 4.00000)"
      ]
     },
     "execution_count": 17,
     "metadata": {},
     "output_type": "execute_result"
    }
   ],
   "source": [
    "segments_before_df = segments_gdf[0:indx_intersect[0]]\n",
    "segments_before_df"
   ]
  },
  {
   "cell_type": "code",
   "execution_count": 18,
   "id": "abb646e5-878f-440e-a3c5-6488fa0d2f79",
   "metadata": {},
   "outputs": [
    {
     "data": {
      "text/plain": [
       "list"
      ]
     },
     "execution_count": 18,
     "metadata": {},
     "output_type": "execute_result"
    }
   ],
   "source": [
    "type(indx_intersect)"
   ]
  },
  {
   "cell_type": "code",
   "execution_count": 19,
   "id": "e1e577fe-6248-412d-97e4-83e180dc9cf4",
   "metadata": {},
   "outputs": [
    {
     "data": {
      "text/html": [
       "<div>\n",
       "<style scoped>\n",
       "    .dataframe tbody tr th:only-of-type {\n",
       "        vertical-align: middle;\n",
       "    }\n",
       "\n",
       "    .dataframe tbody tr th {\n",
       "        vertical-align: top;\n",
       "    }\n",
       "\n",
       "    .dataframe thead th {\n",
       "        text-align: right;\n",
       "    }\n",
       "</style>\n",
       "<table border=\"1\" class=\"dataframe\">\n",
       "  <thead>\n",
       "    <tr style=\"text-align: right;\">\n",
       "      <th></th>\n",
       "      <th>geometry</th>\n",
       "    </tr>\n",
       "  </thead>\n",
       "  <tbody>\n",
       "    <tr>\n",
       "      <th>0</th>\n",
       "      <td>LINESTRING (2.00000 2.00000, 3.00000 4.00000)</td>\n",
       "    </tr>\n",
       "    <tr>\n",
       "      <th>1</th>\n",
       "      <td>LINESTRING (3.00000 4.00000, 6.00000 4.00000)</td>\n",
       "    </tr>\n",
       "    <tr>\n",
       "      <th>2</th>\n",
       "      <td>LINESTRING (6.00000 4.00000, 8.00000 6.00000)</td>\n",
       "    </tr>\n",
       "    <tr>\n",
       "      <th>3</th>\n",
       "      <td>LINESTRING (8.00000 6.00000, 9.00000 9.00000)</td>\n",
       "    </tr>\n",
       "    <tr>\n",
       "      <th>4</th>\n",
       "      <td>LINESTRING (9.00000 9.00000, 10.00000 4.00000)</td>\n",
       "    </tr>\n",
       "    <tr>\n",
       "      <th>5</th>\n",
       "      <td>LINESTRING (10.00000 4.00000, 12.00000 2.00000)</td>\n",
       "    </tr>\n",
       "    <tr>\n",
       "      <th>6</th>\n",
       "      <td>LINESTRING (12.00000 2.00000, 14.00000 4.00000)</td>\n",
       "    </tr>\n",
       "    <tr>\n",
       "      <th>7</th>\n",
       "      <td>LINESTRING (14.00000 4.00000, 16.00000 6.00000)</td>\n",
       "    </tr>\n",
       "  </tbody>\n",
       "</table>\n",
       "</div>"
      ],
      "text/plain": [
       "                                          geometry\n",
       "0    LINESTRING (2.00000 2.00000, 3.00000 4.00000)\n",
       "1    LINESTRING (3.00000 4.00000, 6.00000 4.00000)\n",
       "2    LINESTRING (6.00000 4.00000, 8.00000 6.00000)\n",
       "3    LINESTRING (8.00000 6.00000, 9.00000 9.00000)\n",
       "4   LINESTRING (9.00000 9.00000, 10.00000 4.00000)\n",
       "5  LINESTRING (10.00000 4.00000, 12.00000 2.00000)\n",
       "6  LINESTRING (12.00000 2.00000, 14.00000 4.00000)\n",
       "7  LINESTRING (14.00000 4.00000, 16.00000 6.00000)"
      ]
     },
     "execution_count": 19,
     "metadata": {},
     "output_type": "execute_result"
    }
   ],
   "source": [
    "segments_gdf"
   ]
  },
  {
   "cell_type": "code",
   "execution_count": 20,
   "id": "95a38fdf-e4c4-418d-8006-fd8e49054d1c",
   "metadata": {},
   "outputs": [],
   "source": [
    "last_index = indx_intersect[len(indx_intersect)-1]\n",
    "last_index = last_index+1"
   ]
  },
  {
   "cell_type": "code",
   "execution_count": 21,
   "id": "728afeb5-18b2-4d17-8a47-7c2408d8f84c",
   "metadata": {},
   "outputs": [
    {
     "data": {
      "text/html": [
       "<div>\n",
       "<style scoped>\n",
       "    .dataframe tbody tr th:only-of-type {\n",
       "        vertical-align: middle;\n",
       "    }\n",
       "\n",
       "    .dataframe tbody tr th {\n",
       "        vertical-align: top;\n",
       "    }\n",
       "\n",
       "    .dataframe thead th {\n",
       "        text-align: right;\n",
       "    }\n",
       "</style>\n",
       "<table border=\"1\" class=\"dataframe\">\n",
       "  <thead>\n",
       "    <tr style=\"text-align: right;\">\n",
       "      <th></th>\n",
       "      <th>geometry</th>\n",
       "    </tr>\n",
       "  </thead>\n",
       "  <tbody>\n",
       "    <tr>\n",
       "      <th>5</th>\n",
       "      <td>LINESTRING (10.00000 4.00000, 12.00000 2.00000)</td>\n",
       "    </tr>\n",
       "    <tr>\n",
       "      <th>6</th>\n",
       "      <td>LINESTRING (12.00000 2.00000, 14.00000 4.00000)</td>\n",
       "    </tr>\n",
       "    <tr>\n",
       "      <th>7</th>\n",
       "      <td>LINESTRING (14.00000 4.00000, 16.00000 6.00000)</td>\n",
       "    </tr>\n",
       "  </tbody>\n",
       "</table>\n",
       "</div>"
      ],
      "text/plain": [
       "                                          geometry\n",
       "5  LINESTRING (10.00000 4.00000, 12.00000 2.00000)\n",
       "6  LINESTRING (12.00000 2.00000, 14.00000 4.00000)\n",
       "7  LINESTRING (14.00000 4.00000, 16.00000 6.00000)"
      ]
     },
     "execution_count": 21,
     "metadata": {},
     "output_type": "execute_result"
    }
   ],
   "source": [
    "segments_after = segments_gdf[last_index:]\n",
    "segments_after"
   ]
  },
  {
   "cell_type": "code",
   "execution_count": 22,
   "id": "a622e9a0-4104-48e5-ad39-e2d28bc76e1e",
   "metadata": {},
   "outputs": [
    {
     "data": {
      "text/plain": [
       "<matplotlib.legend.Legend at 0x1a753fe6b20>"
      ]
     },
     "execution_count": 22,
     "metadata": {},
     "output_type": "execute_result"
    },
    {
     "data": {
      "image/png": "[encoded data removed]",
      "text/plain": [
       "<Figure size 640x480 with 1 Axes>"
      ]
     },
     "metadata": {},
     "output_type": "display_data"
    }
   ],
   "source": [
    "fig, ax =plt.subplots() \n",
    "segments_before_df.plot(ax= ax, color='red', label = 'segments before 1st intersection')\n",
    "seamark_gdf.plot(ax=ax, color = 'green', label='seamark')\n",
    "segments_after.plot(ax=ax, label = 'segments after last intersection')\n",
    "ax.legend()"
   ]
  },
  {
   "cell_type": "markdown",
   "id": "a4a35d4e-6695-4e98-b327-623ae01a1343",
   "metadata": {},
   "source": [
    "## Get the last node"
   ]
  },
  {
   "cell_type": "code",
   "execution_count": 23,
   "id": "aa1dcc19-8341-437f-93fd-a00f6ddc1a7a",
   "metadata": {},
   "outputs": [
    {
     "data": {
      "text/html": [
       "<div>\n",
       "<style scoped>\n",
       "    .dataframe tbody tr th:only-of-type {\n",
       "        vertical-align: middle;\n",
       "    }\n",
       "\n",
       "    .dataframe tbody tr th {\n",
       "        vertical-align: top;\n",
       "    }\n",
       "\n",
       "    .dataframe thead th {\n",
       "        text-align: right;\n",
       "    }\n",
       "</style>\n",
       "<table border=\"1\" class=\"dataframe\">\n",
       "  <thead>\n",
       "    <tr style=\"text-align: right;\">\n",
       "      <th></th>\n",
       "      <th>x</th>\n",
       "      <th>y</th>\n",
       "    </tr>\n",
       "  </thead>\n",
       "  <tbody>\n",
       "    <tr>\n",
       "      <th>1</th>\n",
       "      <td>6.0</td>\n",
       "      <td>4.0</td>\n",
       "    </tr>\n",
       "  </tbody>\n",
       "</table>\n",
       "</div>"
      ],
      "text/plain": [
       "     x    y\n",
       "1  6.0  4.0"
      ]
     },
     "execution_count": 23,
     "metadata": {},
     "output_type": "execute_result"
    }
   ],
   "source": [
    "first_node_line = segments_before_df.tail(1).geometry.get_coordinates()\n",
    "point_end =first_node_line.tail(1)\n",
    "point_end\n",
    "#last = Point(first_node_line.geomtery.coords[-1])\n"
   ]
  },
  {
   "cell_type": "code",
   "execution_count": 24,
   "id": "60652589-2015-415a-af34-1aa4738845ce",
   "metadata": {},
   "outputs": [
    {
     "data": {
      "text/html": [
       "<div>\n",
       "<style scoped>\n",
       "    .dataframe tbody tr th:only-of-type {\n",
       "        vertical-align: middle;\n",
       "    }\n",
       "\n",
       "    .dataframe tbody tr th {\n",
       "        vertical-align: top;\n",
       "    }\n",
       "\n",
       "    .dataframe thead th {\n",
       "        text-align: right;\n",
       "    }\n",
       "</style>\n",
       "<table border=\"1\" class=\"dataframe\">\n",
       "  <thead>\n",
       "    <tr style=\"text-align: right;\">\n",
       "      <th></th>\n",
       "      <th>x</th>\n",
       "      <th>y</th>\n",
       "    </tr>\n",
       "  </thead>\n",
       "  <tbody>\n",
       "    <tr>\n",
       "      <th>5</th>\n",
       "      <td>12.0</td>\n",
       "      <td>2.0</td>\n",
       "    </tr>\n",
       "  </tbody>\n",
       "</table>\n",
       "</div>"
      ],
      "text/plain": [
       "      x    y\n",
       "5  12.0  2.0"
      ]
     },
     "execution_count": 24,
     "metadata": {},
     "output_type": "execute_result"
    }
   ],
   "source": [
    "first_node_line = segments_after.head(1).geometry.get_coordinates()\n",
    "point_start =first_node_line.tail(1)\n",
    "point_start"
   ]
  },
  {
   "cell_type": "code",
   "execution_count": 32,
   "id": "09f93442-916a-4bc9-bbb3-143632605e1a",
   "metadata": {},
   "outputs": [
    {
     "name": "stdout",
     "output_type": "stream",
     "text": [
      "     x    y\n",
      "1  6.0  4.0\n",
      "      x    y\n",
      "5  10.0  4.0\n"
     ]
    }
   ],
   "source": [
    "first_node_line = segments_before_df.tail(1).geometry.get_coordinates()\n",
    "point_start = first_node_line.tail(1)\n",
    "print(point_start)\n",
    "point_A = Point(point_start.x, point_start.y)\n",
    "    \n",
    "\n",
    "first_node_line = segments_after.head(1).geometry.get_coordinates()\n",
    "point_end = first_node_line.head(1)\n",
    "print(point_end)\n",
    "point_B = Point(point_end.x, point_end.y)\n",
    "    \n",
    "points = [point_A, point_B]\n",
    "p = gpd.GeoSeries(points)\n",
    " "
   ]
  },
  {
   "cell_type": "code",
   "execution_count": 33,
   "id": "5c896c4a-4a9b-4b59-99a2-b7f84fb4edb1",
   "metadata": {},
   "outputs": [
    {
     "data": {
      "text/plain": [
       "<Axes: >"
      ]
     },
     "execution_count": 33,
     "metadata": {},
     "output_type": "execute_result"
    },
    {
     "data": {
      "image/png": "[encoded data removed]",
      "text/plain": [
       "<Figure size 640x480 with 1 Axes>"
      ]
     },
     "metadata": {},
     "output_type": "display_data"
    }
   ],
   "source": [
    "fig, ax =plt.subplots() \n",
    "segments_before_df.plot(ax= ax, color='red', label = 'segments before 1st intersection')\n",
    "seamark_gdf.plot(ax=ax, color = 'green', label='seamark')\n",
    "segments_after.plot(ax=ax, label = 'segments after last intersection')\n",
    "p.plot(ax=ax, color = 'yellow')"
   ]
  },
  {
   "cell_type": "code",
   "execution_count": 139,
   "id": "3c006e3c-4a46-479f-8d68-22c6abf5c86f",
   "metadata": {},
   "outputs": [
    {
     "data": {
      "text/plain": [
       "<Axes: >"
      ]
     },
     "execution_count": 139,
     "metadata": {},
     "output_type": "execute_result"
    },
    {
     "data": {
      "image/png": "[encoded data removed]",
      "text/plain": [
       "<Figure size 640x480 with 1 Axes>"
      ]
     },
     "metadata": {},
     "output_type": "display_data"
    }
   ],
   "source": [
    "res_difference = segments_gdf.overlay(seamark_gdf, how='difference')\n",
    "res_difference.plot()"
   ]
  },
  {
   "cell_type": "code",
   "execution_count": 109,
   "id": "4ecf7ca0-ce02-4349-8f12-3886dc9ef3e3",
   "metadata": {},
   "outputs": [
    {
     "data": {
      "text/html": [
       "<div>\n",
       "<style scoped>\n",
       "    .dataframe tbody tr th:only-of-type {\n",
       "        vertical-align: middle;\n",
       "    }\n",
       "\n",
       "    .dataframe tbody tr th {\n",
       "        vertical-align: top;\n",
       "    }\n",
       "\n",
       "    .dataframe thead th {\n",
       "        text-align: right;\n",
       "    }\n",
       "</style>\n",
       "<table border=\"1\" class=\"dataframe\">\n",
       "  <thead>\n",
       "    <tr style=\"text-align: right;\">\n",
       "      <th></th>\n",
       "      <th>geometry</th>\n",
       "    </tr>\n",
       "  </thead>\n",
       "  <tbody>\n",
       "    <tr>\n",
       "      <th>0</th>\n",
       "      <td>LINESTRING (2.00000 2.00000, 3.00000 4.00000)</td>\n",
       "    </tr>\n",
       "    <tr>\n",
       "      <th>1</th>\n",
       "      <td>LINESTRING (3.00000 4.00000, 6.00000 4.00000)</td>\n",
       "    </tr>\n",
       "    <tr>\n",
       "      <th>2</th>\n",
       "      <td>MULTILINESTRING ((6.00000 4.00000, 7.00000 5.0...</td>\n",
       "    </tr>\n",
       "    <tr>\n",
       "      <th>3</th>\n",
       "      <td>LINESTRING (8.00000 6.00000, 9.00000 7.00000)</td>\n",
       "    </tr>\n",
       "    <tr>\n",
       "      <th>4</th>\n",
       "      <td>MULTILINESTRING ((9.00000 7.00000, 9.50000 5.5...</td>\n",
       "    </tr>\n",
       "    <tr>\n",
       "      <th>5</th>\n",
       "      <td>LINESTRING (10.00000 4.00000, 12.00000 2.00000)</td>\n",
       "    </tr>\n",
       "    <tr>\n",
       "      <th>6</th>\n",
       "      <td>LINESTRING (12.00000 2.00000, 14.00000 4.00000)</td>\n",
       "    </tr>\n",
       "  </tbody>\n",
       "</table>\n",
       "</div>"
      ],
      "text/plain": [
       "                                            geometry\n",
       "0      LINESTRING (2.00000 2.00000, 3.00000 4.00000)\n",
       "1      LINESTRING (3.00000 4.00000, 6.00000 4.00000)\n",
       "2  MULTILINESTRING ((6.00000 4.00000, 7.00000 5.0...\n",
       "3      LINESTRING (8.00000 6.00000, 9.00000 7.00000)\n",
       "4  MULTILINESTRING ((9.00000 7.00000, 9.50000 5.5...\n",
       "5    LINESTRING (10.00000 4.00000, 12.00000 2.00000)\n",
       "6    LINESTRING (12.00000 2.00000, 14.00000 4.00000)"
      ]
     },
     "execution_count": 109,
     "metadata": {},
     "output_type": "execute_result"
    }
   ],
   "source": [
    "res_difference"
   ]
  },
  {
   "cell_type": "code",
   "execution_count": null,
   "id": "7373a217-8be3-459d-b12a-1cfb3a5eaa18",
   "metadata": {},
   "outputs": [],
   "source": []
  },
  {
   "cell_type": "code",
   "execution_count": null,
   "id": "28164567-5c2d-4448-84b2-d2bb3fd96713",
   "metadata": {},
   "outputs": [],
   "source": []
  }
 ],
 "metadata": {
  "kernelspec": {
   "display_name": "mgr_python_3_9",
   "language": "python",
   "name": "mgr_python_3_9"
  },
  "language_info": {
   "codemirror_mode": {
    "name": "ipython",
    "version": 3
   },
   "file_extension": ".py",
   "mimetype": "text/x-python",
   "name": "python",
   "nbconvert_exporter": "python",
   "pygments_lexer": "ipython3",
   "version": "3.9.18"
  }
 },
 "nbformat": 4,
 "nbformat_minor": 5
}
