{
 "cells": [
  {
   "cell_type": "code",
   "execution_count": 1,
   "id": "9f9a9ce9",
   "metadata": {},
   "outputs": [],
   "source": [
    "import os\n",
    "import sqlalchemy as db\n",
    "import geopandas as gpd\n",
    "import pandas as pd\n",
    "import osmnx\n",
    "from shapely.geometry import box, LineString, Point\n",
    "from IPython.display import display, HTML\n",
    "import matplotlib.pyplot as plt\n",
    "import numpy as np\n",
    "import json"
   ]
  },
  {
   "cell_type": "code",
   "execution_count": 2,
   "id": "2a4a9f00",
   "metadata": {},
   "outputs": [],
   "source": [
    "POSTGRES_HOST=\"xxxx\"\n",
    "POSTGRES_PORT=\"xxxx\"\n",
    "POSTGRES_DB=\"xxxx\"\n",
    "POSTGRES_SCHEMA=\"xxxx\"\n",
    "POSTGRES_USER=\"xxxx\"\n",
    "POSTGRES_PASSWORD=\"xxxx\""
   ]
  },
  {
   "cell_type": "code",
   "execution_count": 3,
   "id": "46b83b68",
   "metadata": {},
   "outputs": [],
   "source": [
    "engine = db.create_engine('postgresql://{user}:{pw}@{host}/{db}'\n",
    "                           .format(user=POSTGRES_USER,\n",
    "                                   pw=POSTGRES_PASSWORD,\n",
    "                                   host=POSTGRES_HOST,\n",
    "                                   db=POSTGRES_DB,\n",
    "                                   port=POSTGRES_PORT))"
   ]
  },
  {
   "cell_type": "code",
   "execution_count": 4,
   "id": "f42b96c8",
   "metadata": {},
   "outputs": [],
   "source": [
    "connection = engine.connect()"
   ]
  },
  {
   "cell_type": "markdown",
   "id": "195890ae-17b4-487e-9c48-9e36aedbbe32",
   "metadata": {},
   "source": [
    "# Study area of Tunisia"
   ]
  },
  {
   "cell_type": "markdown",
   "id": "cb042231-c3e0-4dbf-8c71-28f2cc055943",
   "metadata": {},
   "source": [
    "\tCourse\tDistance\tCoordinate\n",
    "1.\t91.32°\t222.49 nm\tN 36.311° - E 13.323°\n",
    "2.\t301.04°\t1.31 nm\tN 36.323° - E 13.300°\n",
    "3.\t359.25°\t127.22 nm\tN 38.441° - E 13.265°\n",
    "4.\t273.77°\t205.68 nm\tN 38.585° - E 8.891°\n",
    "5.\t183.41°\t124.88 nm\tN 36.508° - E 8.736°"
   ]
  },
  {
   "cell_type": "code",
   "execution_count": 5,
   "id": "e8dfba25-c2a6-4252-8f29-fec9d75891ff",
   "metadata": {},
   "outputs": [
    {
     "data": {
      "text/plain": [
       "'POLYGON ((13.323 36.311, 13.323 38.585, 8.736 38.585, 8.736 36.311, 13.323 36.311))'"
      ]
     },
     "execution_count": 5,
     "metadata": {},
     "output_type": "execute_result"
    }
   ],
   "source": [
    "min_lon =8.736\n",
    "min_lat = 36.311\n",
    "max_lon= 13.323\n",
    "max_lat=  38.585\n",
    "bbox = box(min_lon, min_lat, max_lon, max_lat)\n",
    "bbox_wkt = bbox.wkt\n",
    "bbox_wkt"
   ]
  },
  {
   "cell_type": "code",
   "execution_count": 55,
   "id": "044c7933-1223-4dad-b606-9b3d1dcda58b",
   "metadata": {},
   "outputs": [
    {
     "data": {
      "text/html": [
       "<div style=\"width:100%;\"><div style=\"position:relative;width:100%;height:0;padding-bottom:60%;\"><span style=\"color:#565656\">Make this Notebook Trusted to load map: File -> Trust Notebook</span><iframe srcdoc=\"&lt;!DOCTYPE html&gt;\n",
       "&lt;html&gt;\n",
       "&lt;head&gt;\n",
       "    \n",
       "    &lt;meta http-equiv=&quot;content-type&quot; content=&quot;text/html; charset=UTF-8&quot; /&gt;\n",
       "    \n",
       "        &lt;script&gt;\n",
       "            L_NO_TOUCH = false;\n",
       "            L_DISABLE_3D = false;\n",
       "        &lt;/script&gt;\n",
       "    \n",
       "    &lt;style&gt;html, body {width: 100%;height: 100%;margin: 0;padding: 0;}&lt;/style&gt;\n",
       "    &lt;style&gt;#map {position:absolute;top:0;bottom:0;right:0;left:0;}&lt;/style&gt;\n",
       "    &lt;script src=&quot;https://cdn.jsdelivr.net/npm/leaflet@1.9.3/dist/leaflet.js&quot;&gt;&lt;/script&gt;\n",
       "    &lt;script src=&quot;https://code.jquery.com/jquery-1.12.4.min.js&quot;&gt;&lt;/script&gt;\n",
       "    &lt;script src=&quot;https://cdn.jsdelivr.net/npm/bootstrap@5.2.2/dist/js/bootstrap.bundle.min.js&quot;&gt;&lt;/script&gt;\n",
       "    &lt;script src=&quot;https://cdnjs.cloudflare.com/ajax/libs/Leaflet.awesome-markers/2.0.2/leaflet.awesome-markers.js&quot;&gt;&lt;/script&gt;\n",
       "    &lt;link rel=&quot;stylesheet&quot; href=&quot;https://cdn.jsdelivr.net/npm/leaflet@1.9.3/dist/leaflet.css&quot;/&gt;\n",
       "    &lt;link rel=&quot;stylesheet&quot; href=&quot;https://cdn.jsdelivr.net/npm/bootstrap@5.2.2/dist/css/bootstrap.min.css&quot;/&gt;\n",
       "    &lt;link rel=&quot;stylesheet&quot; href=&quot;https://netdna.bootstrapcdn.com/bootstrap/3.0.0/css/bootstrap.min.css&quot;/&gt;\n",
       "    &lt;link rel=&quot;stylesheet&quot; href=&quot;https://cdn.jsdelivr.net/npm/@fortawesome/fontawesome-free@6.2.0/css/all.min.css&quot;/&gt;\n",
       "    &lt;link rel=&quot;stylesheet&quot; href=&quot;https://cdnjs.cloudflare.com/ajax/libs/Leaflet.awesome-markers/2.0.2/leaflet.awesome-markers.css&quot;/&gt;\n",
       "    &lt;link rel=&quot;stylesheet&quot; href=&quot;https://cdn.jsdelivr.net/gh/python-visualization/folium/folium/templates/leaflet.awesome.rotate.min.css&quot;/&gt;\n",
       "    \n",
       "            &lt;meta name=&quot;viewport&quot; content=&quot;width=device-width,\n",
       "                initial-scale=1.0, maximum-scale=1.0, user-scalable=no&quot; /&gt;\n",
       "            &lt;style&gt;\n",
       "                #map_97b2c7371888ea27b5a70993aa4e447a {\n",
       "                    position: relative;\n",
       "                    width: 100.0%;\n",
       "                    height: 100.0%;\n",
       "                    left: 0.0%;\n",
       "                    top: 0.0%;\n",
       "                }\n",
       "                .leaflet-container { font-size: 1rem; }\n",
       "            &lt;/style&gt;\n",
       "        \n",
       "    \n",
       "                    &lt;style&gt;\n",
       "                        .foliumtooltip {\n",
       "                            \n",
       "                        }\n",
       "                       .foliumtooltip table{\n",
       "                            margin: auto;\n",
       "                        }\n",
       "                        .foliumtooltip tr{\n",
       "                            text-align: left;\n",
       "                        }\n",
       "                        .foliumtooltip th{\n",
       "                            padding: 2px; padding-right: 8px;\n",
       "                        }\n",
       "                    &lt;/style&gt;\n",
       "            \n",
       "&lt;/head&gt;\n",
       "&lt;body&gt;\n",
       "    \n",
       "    \n",
       "            &lt;div class=&quot;folium-map&quot; id=&quot;map_97b2c7371888ea27b5a70993aa4e447a&quot; &gt;&lt;/div&gt;\n",
       "        \n",
       "&lt;/body&gt;\n",
       "&lt;script&gt;\n",
       "    \n",
       "    \n",
       "            var map_97b2c7371888ea27b5a70993aa4e447a = L.map(\n",
       "                &quot;map_97b2c7371888ea27b5a70993aa4e447a&quot;,\n",
       "                {\n",
       "                    center: [37.48072245, 10.698046],\n",
       "                    crs: L.CRS.EPSG3857,\n",
       "                    zoom: 10,\n",
       "                    zoomControl: true,\n",
       "                    preferCanvas: false,\n",
       "                }\n",
       "            );\n",
       "            L.control.scale().addTo(map_97b2c7371888ea27b5a70993aa4e447a);\n",
       "\n",
       "            \n",
       "\n",
       "        \n",
       "    \n",
       "            var tile_layer_b1da1d1b70c48c819f6589a64a156bf9 = L.tileLayer(\n",
       "                &quot;https://{s}.tile.openstreetmap.org/{z}/{x}/{y}.png&quot;,\n",
       "                {&quot;attribution&quot;: &quot;Data by \\u0026copy; \\u003ca target=\\&quot;_blank\\&quot; href=\\&quot;http://openstreetmap.org\\&quot;\\u003eOpenStreetMap\\u003c/a\\u003e, under \\u003ca target=\\&quot;_blank\\&quot; href=\\&quot;http://www.openstreetmap.org/copyright\\&quot;\\u003eODbL\\u003c/a\\u003e.&quot;, &quot;detectRetina&quot;: false, &quot;maxNativeZoom&quot;: 18, &quot;maxZoom&quot;: 18, &quot;minZoom&quot;: 0, &quot;noWrap&quot;: false, &quot;opacity&quot;: 1, &quot;subdomains&quot;: &quot;abc&quot;, &quot;tms&quot;: false}\n",
       "            ).addTo(map_97b2c7371888ea27b5a70993aa4e447a);\n",
       "        \n",
       "    \n",
       "            map_97b2c7371888ea27b5a70993aa4e447a.fitBounds(\n",
       "                [[37.2879966, 10.040894], [37.6734483, 11.355198]],\n",
       "                {}\n",
       "            );\n",
       "        \n",
       "    \n",
       "        function geo_json_d7ff51e105f852d1e317623cf5a1e0c3_styler(feature) {\n",
       "            switch(feature.id) {\n",
       "                default:\n",
       "                    return {&quot;fillOpacity&quot;: 0.5, &quot;weight&quot;: 2};\n",
       "            }\n",
       "        }\n",
       "        function geo_json_d7ff51e105f852d1e317623cf5a1e0c3_highlighter(feature) {\n",
       "            switch(feature.id) {\n",
       "                default:\n",
       "                    return {&quot;fillOpacity&quot;: 0.75};\n",
       "            }\n",
       "        }\n",
       "        function geo_json_d7ff51e105f852d1e317623cf5a1e0c3_pointToLayer(feature, latlng) {\n",
       "            var opts = {&quot;bubblingMouseEvents&quot;: true, &quot;color&quot;: &quot;#3388ff&quot;, &quot;dashArray&quot;: null, &quot;dashOffset&quot;: null, &quot;fill&quot;: true, &quot;fillColor&quot;: &quot;#3388ff&quot;, &quot;fillOpacity&quot;: 0.2, &quot;fillRule&quot;: &quot;evenodd&quot;, &quot;lineCap&quot;: &quot;round&quot;, &quot;lineJoin&quot;: &quot;round&quot;, &quot;opacity&quot;: 1.0, &quot;radius&quot;: 2, &quot;stroke&quot;: true, &quot;weight&quot;: 3};\n",
       "            \n",
       "            let style = geo_json_d7ff51e105f852d1e317623cf5a1e0c3_styler(feature)\n",
       "            Object.assign(opts, style)\n",
       "            \n",
       "            return new L.CircleMarker(latlng, opts)\n",
       "        }\n",
       "\n",
       "        function geo_json_d7ff51e105f852d1e317623cf5a1e0c3_onEachFeature(feature, layer) {\n",
       "            layer.on({\n",
       "                mouseout: function(e) {\n",
       "                    if(typeof e.target.setStyle === &quot;function&quot;){\n",
       "                        geo_json_d7ff51e105f852d1e317623cf5a1e0c3.resetStyle(e.target);\n",
       "                    }\n",
       "                },\n",
       "                mouseover: function(e) {\n",
       "                    if(typeof e.target.setStyle === &quot;function&quot;){\n",
       "                        const highlightStyle = geo_json_d7ff51e105f852d1e317623cf5a1e0c3_highlighter(e.target.feature)\n",
       "                        e.target.setStyle(highlightStyle);\n",
       "                    }\n",
       "                },\n",
       "            });\n",
       "        };\n",
       "        var geo_json_d7ff51e105f852d1e317623cf5a1e0c3 = L.geoJson(null, {\n",
       "                onEachFeature: geo_json_d7ff51e105f852d1e317623cf5a1e0c3_onEachFeature,\n",
       "            \n",
       "                style: geo_json_d7ff51e105f852d1e317623cf5a1e0c3_styler,\n",
       "                pointToLayer: geo_json_d7ff51e105f852d1e317623cf5a1e0c3_pointToLayer\n",
       "        });\n",
       "\n",
       "        function geo_json_d7ff51e105f852d1e317623cf5a1e0c3_add (data) {\n",
       "            geo_json_d7ff51e105f852d1e317623cf5a1e0c3\n",
       "                .addData(data)\n",
       "                .addTo(map_97b2c7371888ea27b5a70993aa4e447a);\n",
       "        }\n",
       "            geo_json_d7ff51e105f852d1e317623cf5a1e0c3_add({&quot;bbox&quot;: [10.040894, 37.2879966, 11.355198, 37.6734483], &quot;features&quot;: [{&quot;bbox&quot;: [11.1411872, 37.3114469, 11.2920777, 37.3844744], &quot;geometry&quot;: {&quot;coordinates&quot;: [[11.1411872, 37.3844744], [11.2920777, 37.3114469]], &quot;type&quot;: &quot;LineString&quot;}, &quot;id&quot;: &quot;0&quot;, &quot;properties&quot;: {&quot;bbox&quot;: &quot;0103000020E61000000100000005000000453A4DB04948264065F8F47DDDA74240453A4DB0494826401A13077536B1424024C852358B9526401A13077536B1424024C852358B95264065F8F47DDDA74240453A4DB04948264065F8F47DDDA74240&quot;, &quot;changeset_id&quot;: 26186018, &quot;id&quot;: 308520793, &quot;linestring&quot;: &quot;0102000020E610000002000000453A4DB0494826401A13077536B1424024C852358B95264065F8F47DDDA74240&quot;, &quot;nodes&quot;: [3137900431, 3137899926], &quot;tags&quot;: {&quot;seamark:type&quot;: &quot;separation_lane&quot;}, &quot;tstamp&quot;: &quot;2014-10-19 05:28:12&quot;, &quot;user_id&quot;: 554973, &quot;version&quot;: 1}, &quot;type&quot;: &quot;Feature&quot;}, {&quot;bbox&quot;: [11.1271172, 37.2879966, 11.2788345, 37.3613686], &quot;geometry&quot;: {&quot;coordinates&quot;: [[11.1271172, 37.3613686], [11.2788345, 37.2879966]], &quot;type&quot;: &quot;LineString&quot;}, &quot;id&quot;: &quot;1&quot;, &quot;properties&quot;: {&quot;bbox&quot;: &quot;0103000020E61000000100000005000000A884718115412640FA2D9512DDA44240A8847181154126409166875341AE424037FE4465C38E26409166875341AE424037FE4465C38E2640FA2D9512DDA44240A884718115412640FA2D9512DDA44240&quot;, &quot;changeset_id&quot;: 26186018, &quot;id&quot;: 308520795, &quot;linestring&quot;: &quot;0102000020E610000002000000A8847181154126409166875341AE424037FE4465C38E2640FA2D9512DDA44240&quot;, &quot;nodes&quot;: [3137900429, 3137899925], &quot;tags&quot;: {&quot;seamark:type&quot;: &quot;separation_boundary&quot;}, &quot;tstamp&quot;: &quot;2014-10-19 05:28:12&quot;, &quot;user_id&quot;: 554973, &quot;version&quot;: 1}, &quot;type&quot;: &quot;Feature&quot;}, {&quot;bbox&quot;: [11.1899247, 37.3872431, 11.3402474, 37.4561747], &quot;geometry&quot;: {&quot;coordinates&quot;: [[11.3402474, 37.3872431], [11.1899247, 37.4561747]], &quot;type&quot;: &quot;LineString&quot;}, &quot;id&quot;: &quot;2&quot;, &quot;properties&quot;: {&quot;bbox&quot;: &quot;0103000020E61000000100000005000000BD676ECF3D612640030D912E91B14240BD676ECF3D6126409DE1BCEE63BA42401B193FE834AE26409DE1BCEE63BA42401B193FE834AE2640030D912E91B14240BD676ECF3D612640030D912E91B14240&quot;, &quot;changeset_id&quot;: 26186018, &quot;id&quot;: 308520797, &quot;linestring&quot;: &quot;0102000020E6100000020000001B193FE834AE2640030D912E91B14240BD676ECF3D6126409DE1BCEE63BA4240&quot;, &quot;nodes&quot;: [3137900430, 3137900435], &quot;tags&quot;: {&quot;seamark:type&quot;: &quot;separation_lane&quot;}, &quot;tstamp&quot;: &quot;2014-10-19 05:28:12&quot;, &quot;user_id&quot;: 554973, &quot;version&quot;: 1}, &quot;type&quot;: &quot;Feature&quot;}, {&quot;bbox&quot;: [11.2054762, 37.4105883, 11.355198, 37.4788707], &quot;geometry&quot;: {&quot;coordinates&quot;: [[11.355198, 37.4105883], [11.2054762, 37.4788707]], &quot;type&quot;: &quot;LineString&quot;}, &quot;id&quot;: &quot;3&quot;, &quot;properties&quot;: {&quot;bbox&quot;: &quot;0103000020E6100000010000000500000074362E2D34692640644F4C288EB4424074362E2D346926409EC195A24BBD42408F352383DCB526409EC195A24BBD42408F352383DCB52640644F4C288EB4424074362E2D34692640644F4C288EB44240&quot;, &quot;changeset_id&quot;: 26186018, &quot;id&quot;: 308520799, &quot;linestring&quot;: &quot;0102000020E6100000020000008F352383DCB52640644F4C288EB4424074362E2D346926409EC195A24BBD4240&quot;, &quot;nodes&quot;: [3137900432, 3137900436], &quot;tags&quot;: {&quot;seamark:type&quot;: &quot;separation_boundary&quot;}, &quot;tstamp&quot;: &quot;2014-10-19 05:28:12&quot;, &quot;user_id&quot;: 554973, &quot;version&quot;: 1}, &quot;type&quot;: &quot;Feature&quot;}, {&quot;bbox&quot;: [11.1552573, 37.3348899, 11.3252968, 37.4334718], &quot;geometry&quot;: {&quot;coordinates&quot;: [[11.1743732, 37.4334718], [11.3252968, 37.3638906], [11.3053209, 37.3348899], [11.1552573, 37.407573], [11.1743732, 37.4334718]], &quot;type&quot;: &quot;LineString&quot;}, &quot;id&quot;: &quot;4&quot;, &quot;properties&quot;: {&quot;bbox&quot;: &quot;0103000020E6100000010000000500000037EE83E27D4F26405F2118ACDDAA424037EE83E27D4F26407F5E02017CB74240A6FC5A4D8DA626407F5E02017CB74240A6FC5A4D8DA626405F2118ACDDAA424037EE83E27D4F26405F2118ACDDAA4240&quot;, &quot;changeset_id&quot;: 26186018, &quot;id&quot;: 308520800, &quot;linestring&quot;: &quot;0102000020E6100000050000000599AE71475926407F5E02017CB74240A6FC5A4D8DA62640312999F793AE424011926005539C26405F2118ACDDAA424037EE83E27D4F2640C6DD205A2BB442400599AE71475926407F5E02017CB74240&quot;, &quot;nodes&quot;: [3137900434, 3137899928, 3137899927, 3137900433, 3137900434], &quot;tags&quot;: {&quot;seamark:type&quot;: &quot;separation_zone&quot;}, &quot;tstamp&quot;: &quot;2014-10-19 05:28:12&quot;, &quot;user_id&quot;: 554973, &quot;version&quot;: 1}, &quot;type&quot;: &quot;Feature&quot;}, {&quot;bbox&quot;: [10.040904, 37.5237014, 10.222793, 37.5399933], &quot;geometry&quot;: {&quot;coordinates&quot;: [[10.040904, 37.5399565], [10.2227878, 37.5399933], [10.222793, 37.5237381], [10.0409093, 37.5237014], [10.040904, 37.5399565]], &quot;type&quot;: &quot;LineString&quot;}, &quot;id&quot;: &quot;5&quot;, &quot;properties&quot;: {&quot;bbox&quot;: &quot;0103000020E61000000100000005000000198D7C5EF114244049EFC0A508C34240198D7C5EF114244091C71D801EC54240328E91EC1172244091C71D801EC54240328E91EC1172244049EFC0A508C34240198D7C5EF114244049EFC0A508C34240&quot;, &quot;changeset_id&quot;: 97985515, &quot;id&quot;: 898527698, &quot;linestring&quot;: &quot;0102000020E610000005000000198D7C5EF11424409E616A4B1DC5424045E5153E1172244091C71D801EC54240328E91EC11722440A8959DD909C342405A345310F214244049EFC0A508C34240198D7C5EF11424409E616A4B1DC54240&quot;, &quot;nodes&quot;: [8349670159, 8349670158, 8349670157, 8349670156, 8349670159], &quot;tags&quot;: {&quot;seamark:type&quot;: &quot;separation_zone&quot;}, &quot;tstamp&quot;: &quot;2021-01-22 16:13:50&quot;, &quot;user_id&quot;: 554973, &quot;version&quot;: 1}, &quot;type&quot;: &quot;Feature&quot;}, {&quot;bbox&quot;: [10.0409167, 37.5651325, 10.2228375, 37.5651548], &quot;geometry&quot;: {&quot;coordinates&quot;: [[10.0409167, 37.5651325], [10.2228375, 37.5651548]], &quot;type&quot;: &quot;LineString&quot;}, &quot;id&quot;: &quot;6&quot;, &quot;properties&quot;: {&quot;bbox&quot;: &quot;0103000020E6100000010000000500000072B8A008F31424400FB4024356C8424072B8A008F3142440B69613FE56C8424012A5BDC117722440B69613FE56C8424012A5BDC1177224400FB4024356C8424072B8A008F31424400FB4024356C84240&quot;, &quot;changeset_id&quot;: 97985515, &quot;id&quot;: 898527699, &quot;linestring&quot;: &quot;0102000020E61000000200000072B8A008F31424400FB4024356C8424012A5BDC117722440B69613FE56C84240&quot;, &quot;nodes&quot;: [8349670162, 8349670163], &quot;tags&quot;: {&quot;seamark:type&quot;: &quot;separation_lane&quot;}, &quot;tstamp&quot;: &quot;2021-01-22 16:13:50&quot;, &quot;user_id&quot;: 554973, &quot;version&quot;: 1}, &quot;type&quot;: &quot;Feature&quot;}, {&quot;bbox&quot;: [10.0409928, 37.64844, 10.2227688, 37.6485206], &quot;geometry&quot;: {&quot;coordinates&quot;: [[10.2227688, 37.6485206], [10.0409928, 37.64844]], &quot;type&quot;: &quot;LineString&quot;}, &quot;id&quot;: &quot;7&quot;, &quot;properties&quot;: {&quot;bbox&quot;: &quot;0103000020E6100000010000000500000031BE1E02FD14244089B5F81400D3424031BE1E02FD14244022E417B902D342406A238DC00E72244022E417B902D342406A238DC00E72244089B5F81400D3424031BE1E02FD14244089B5F81400D34240&quot;, &quot;changeset_id&quot;: 97985515, &quot;id&quot;: 898527700, &quot;linestring&quot;: &quot;0102000020E6100000020000006A238DC00E72244022E417B902D3424031BE1E02FD14244089B5F81400D34240&quot;, &quot;nodes&quot;: [8349670160, 8349670161], &quot;tags&quot;: {&quot;seamark:type&quot;: &quot;separation_lane&quot;}, &quot;tstamp&quot;: &quot;2021-01-22 16:13:50&quot;, &quot;user_id&quot;: 554973, &quot;version&quot;: 1}, &quot;type&quot;: &quot;Feature&quot;}, {&quot;bbox&quot;: [10.040904, 37.5399565, 10.2227878, 37.5399933], &quot;geometry&quot;: {&quot;coordinates&quot;: [[10.040904, 37.5399565], [10.2227878, 37.5399933]], &quot;type&quot;: &quot;LineString&quot;}, &quot;id&quot;: &quot;8&quot;, &quot;properties&quot;: {&quot;bbox&quot;: &quot;0103000020E61000000100000005000000198D7C5EF11424409E616A4B1DC54240198D7C5EF114244091C71D801EC5424045E5153E1172244091C71D801EC5424045E5153E117224409E616A4B1DC54240198D7C5EF11424409E616A4B1DC54240&quot;, &quot;changeset_id&quot;: 97985515, &quot;id&quot;: 898527701, &quot;linestring&quot;: &quot;0102000020E610000002000000198D7C5EF11424409E616A4B1DC5424045E5153E1172244091C71D801EC54240&quot;, &quot;nodes&quot;: [8349670159, 8349670158], &quot;tags&quot;: {&quot;seamark:type&quot;: &quot;separation_boundary&quot;}, &quot;tstamp&quot;: &quot;2021-01-22 16:13:50&quot;, &quot;user_id&quot;: 554973, &quot;version&quot;: 1}, &quot;type&quot;: &quot;Feature&quot;}, {&quot;bbox&quot;: [10.040894, 37.5902272, 10.2227995, 37.6236033], &quot;geometry&quot;: {&quot;coordinates&quot;: [[10.040894, 37.6235288], [10.2227777, 37.6236033], [10.2227995, 37.5903018], [10.0409158, 37.5902272], [10.040894, 37.6235288]], &quot;type&quot;: &quot;LineString&quot;}, &quot;id&quot;: &quot;9&quot;, &quot;properties&quot;: {&quot;bbox&quot;: &quot;0103000020E610000001000000050000008B34F10EF0142440D69A9C908CCB42408B34F10EF0142440BE96A13BD2CF42405C21ACC612722440BE96A13BD2CF42405C21ACC612722440D69A9C908CCB42408B34F10EF0142440D69A9C908CCB4240&quot;, &quot;changeset_id&quot;: 97985515, &quot;id&quot;: 898527702, &quot;linestring&quot;: &quot;0102000020E6100000050000008B34F10EF01424409C0EAECACFCF4240638E2FEB0F722440BE96A13BD2CF42405C21ACC6127224408DE266028FCB424084C76DEAF2142440D69A9C908CCB42408B34F10EF01424409C0EAECACFCF4240&quot;, &quot;nodes&quot;: [8349670167, 8349670166, 8349670165, 8349670164, 8349670167], &quot;tags&quot;: {&quot;seamark:type&quot;: &quot;separation_zone&quot;}, &quot;tstamp&quot;: &quot;2021-01-22 16:13:50&quot;, &quot;user_id&quot;: 554973, &quot;version&quot;: 1}, &quot;type&quot;: &quot;Feature&quot;}, {&quot;bbox&quot;: [10.0411055, 37.673324, 10.2228058, 37.6734483], &quot;geometry&quot;: {&quot;coordinates&quot;: [[10.2228058, 37.6734483], [10.0411055, 37.673324]], &quot;type&quot;: &quot;LineString&quot;}, &quot;id&quot;: &quot;10&quot;, &quot;properties&quot;: {&quot;bbox&quot;: &quot;0103000020E61000000100000005000000185FB4C70B15244053CE177B2FD64240185FB4C70B152440FD05CC8D33D64240DEB7109A13722440FD05CC8D33D64240DEB7109A1372244053CE177B2FD64240185FB4C70B15244053CE177B2FD64240&quot;, &quot;changeset_id&quot;: 97985515, &quot;id&quot;: 898527703, &quot;linestring&quot;: &quot;0102000020E610000002000000DEB7109A13722440FD05CC8D33D64240185FB4C70B15244053CE177B2FD64240&quot;, &quot;nodes&quot;: [8349670169, 8349670168], &quot;tags&quot;: {&quot;seamark:type&quot;: &quot;separation_boundary&quot;}, &quot;tstamp&quot;: &quot;2021-01-22 16:13:50&quot;, &quot;user_id&quot;: 554973, &quot;version&quot;: 1}, &quot;type&quot;: &quot;Feature&quot;}], &quot;type&quot;: &quot;FeatureCollection&quot;});\n",
       "\n",
       "        \n",
       "    \n",
       "    geo_json_d7ff51e105f852d1e317623cf5a1e0c3.bindTooltip(\n",
       "    function(layer){\n",
       "    let div = L.DomUtil.create(&#x27;div&#x27;);\n",
       "    \n",
       "    let handleObject = feature=&gt;typeof(feature)==&#x27;object&#x27; ? JSON.stringify(feature) : feature;\n",
       "    let fields = [&quot;id&quot;, &quot;version&quot;, &quot;user_id&quot;, &quot;tstamp&quot;, &quot;changeset_id&quot;, &quot;tags&quot;, &quot;nodes&quot;, &quot;linestring&quot;, &quot;bbox&quot;];\n",
       "    let aliases = [&quot;id&quot;, &quot;version&quot;, &quot;user_id&quot;, &quot;tstamp&quot;, &quot;changeset_id&quot;, &quot;tags&quot;, &quot;nodes&quot;, &quot;linestring&quot;, &quot;bbox&quot;];\n",
       "    let table = &#x27;&lt;table&gt;&#x27; +\n",
       "        String(\n",
       "        fields.map(\n",
       "        (v,i)=&gt;\n",
       "        `&lt;tr&gt;\n",
       "            &lt;th&gt;${aliases[i]}&lt;/th&gt;\n",
       "            \n",
       "            &lt;td&gt;${handleObject(layer.feature.properties[v])}&lt;/td&gt;\n",
       "        &lt;/tr&gt;`).join(&#x27;&#x27;))\n",
       "    +&#x27;&lt;/table&gt;&#x27;;\n",
       "    div.innerHTML=table;\n",
       "    \n",
       "    return div\n",
       "    }\n",
       "    ,{&quot;className&quot;: &quot;foliumtooltip&quot;, &quot;sticky&quot;: true});\n",
       "                     \n",
       "&lt;/script&gt;\n",
       "&lt;/html&gt;\" style=\"position:absolute;width:100%;height:100%;left:0;top:0;border:none !important;\" allowfullscreen webkitallowfullscreen mozallowfullscreen></iframe></div></div>"
      ],
      "text/plain": [
       "<folium.folium.Map at 0x2d2d62e1e50>"
      ]
     },
     "execution_count": 55,
     "metadata": {},
     "output_type": "execute_result"
    }
   ],
   "source": [
    "query = \"SELECT *,linestring AS geom FROM public.ways WHERE ST_Intersects(linestring, ST_GeomFromText('POLYGON ((13.323 36.311, 13.323 38.585, 8.736 38.585, 8.736 36.311, 13.323 36.311))', 4326)) AND (tags -> 'seamark:type'='separation_boundary' OR tags -> 'seamark:type'='separation_line' OR tags -> 'seamark:type'='separation_zone' OR tags -> 'seamark:type'='separation_lane')\"\n",
    "gdf_ways = gpd.read_postgis(query, engine)\n",
    "#gdf_ways = gpd.read_postgis(query, engine)\n",
    "gdf_ways['tstamp']=gdf_ways['tstamp'].dt.strftime('%Y-%m-%d %H:%M:%S')\n",
    "gdf_ways\n",
    "gdf_ways.explore()"
   ]
  },
  {
   "cell_type": "code",
   "execution_count": null,
   "id": "2c0e6879-6b97-4731-96af-ffd01e644ccd",
   "metadata": {},
   "outputs": [],
   "source": []
  },
  {
   "cell_type": "code",
   "execution_count": 58,
   "id": "ffc08025-b1ce-473d-ad8a-5842cebf3ea9",
   "metadata": {},
   "outputs": [
    {
     "name": "stdout",
     "output_type": "stream",
     "text": [
      "                                            geometry\n",
      "0  LINESTRING (12.41500 37.66700, 11.71534 37.52821)\n",
      "1  LINESTRING (11.71534 37.52821, 10.91776 37.40824)\n",
      "2  LINESTRING (10.91776 37.40824, 10.07823 37.42354)\n",
      "3   LINESTRING (10.07823 37.42354, 9.43700 37.55550)\n"
     ]
    }
   ],
   "source": [
    "    filename = 'Case2/Data/route_2.geojson'\n",
    "    filename = 'ROUTE/min_time_route.json'\n",
    "    with open(filename) as file:\n",
    "        rp_dict = json.load(file)\n",
    "\n",
    "    point_list = rp_dict['features']\n",
    "    count = len(point_list)\n",
    "    lats_per_step = np.full(count, -99, dtype=float)\n",
    "    lons_per_step = np.full(count, -99, dtype=float)\n",
    "\n",
    "    color_list = ['red', 'blue', 'green', 'purple', 'orange', 'darkred',\n",
    "                  'lightred',\n",
    "                  'beige', 'darkblue', 'darkgreen', 'cadetblue', 'darkpurple',\n",
    "                  'white', 'pink', 'lightblue', 'lightgreen', 'gray', 'black',\n",
    "                  'lightgray']\n",
    "\n",
    "    for ipoint in range(0, count):\n",
    "        coord_pair = point_list[ipoint]['geometry']['coordinates']\n",
    "        lats_per_step[ipoint] = coord_pair[1]\n",
    "        lons_per_step[ipoint] = coord_pair[0]\n",
    "\n",
    "    # Create LineString segments from X and Y columns\n",
    "    segments = []\n",
    "    for i in range(len(lons_per_step) - 1):\n",
    "        segment = LineString([(lons_per_step[i], lats_per_step[i]),\n",
    "                              (lons_per_step[i + 1], lats_per_step[i + 1])])\n",
    "        segments.append(segment)\n",
    "\n",
    "    # Add LineString segments to a new GeoDataFrame\n",
    "    segments_gdf = gpd.GeoDataFrame(geometry=segments, crs=\"EPSG:4326\")\n",
    "\n",
    "    # Print the segments GeoDataFrame\n",
    "    print(segments_gdf)\n"
   ]
  },
  {
   "cell_type": "code",
   "execution_count": null,
   "id": "76cbece9-f485-422b-a0ba-5794a5ba0556",
   "metadata": {},
   "outputs": [],
   "source": []
  },
  {
   "cell_type": "code",
   "execution_count": 59,
   "id": "7a3792ff-f410-470f-8292-d8932fc855bc",
   "metadata": {},
   "outputs": [],
   "source": [
    "seamark_gdf = gdf_ways "
   ]
  },
  {
   "cell_type": "code",
   "execution_count": 60,
   "id": "24a772d2-f824-412a-a606-6a2670713790",
   "metadata": {
    "scrolled": true
   },
   "outputs": [
    {
     "name": "stdout",
     "output_type": "stream",
     "text": [
      "seg geometry    LINESTRING (12.415 37.667, 11.715339790563805 ...\n",
      "Name: 0, dtype: object\n",
      "interesct point id                                                      308520797\n",
      "version                                                         1\n",
      "user_id                                                    554973\n",
      "tstamp                                        2014-10-19 05:28:12\n",
      "changeset_id                                             26186018\n",
      "tags                          {'seamark:type': 'separation_lane'}\n",
      "nodes                                    [3137900430, 3137900435]\n",
      "linestring      0102000020E6100000020000001B193FE834AE2640030D...\n",
      "bbox            0103000020E61000000100000005000000BD676ECF3D61...\n",
      "geometry             POINT (11.201409618064403 37.45090820479969)\n",
      "Name: 0, dtype: object\n",
      "interesct point id                                                      308520799\n",
      "version                                                         1\n",
      "user_id                                                    554973\n",
      "tstamp                                        2014-10-19 05:28:12\n",
      "changeset_id                                             26186018\n",
      "tags                      {'seamark:type': 'separation_boundary'}\n",
      "nodes                                    [3137900432, 3137900436]\n",
      "linestring      0102000020E6100000020000008F352383DCB52640644F...\n",
      "bbox            0103000020E6100000010000000500000074362E2D3469...\n",
      "geometry            POINT (11.250573838971775 37.458303387669226)\n",
      "Name: 1, dtype: object\n",
      "seg geometry    LINESTRING (11.715339790563805 37.528212543964...\n",
      "Name: 1, dtype: object\n",
      "interesct point id                                                      308520797\n",
      "version                                                         1\n",
      "user_id                                                    554973\n",
      "tstamp                                        2014-10-19 05:28:12\n",
      "changeset_id                                             26186018\n",
      "tags                          {'seamark:type': 'separation_lane'}\n",
      "nodes                                    [3137900430, 3137900435]\n",
      "linestring      0102000020E6100000020000001B193FE834AE2640030D...\n",
      "bbox            0103000020E61000000100000005000000BD676ECF3D61...\n",
      "geometry             POINT (11.201409618064403 37.45090820479969)\n",
      "Name: 0, dtype: object\n",
      "____________________________________________\n",
      "interesct point id                                                      308520799\n",
      "version                                                         1\n",
      "user_id                                                    554973\n",
      "tstamp                                        2014-10-19 05:28:12\n",
      "changeset_id                                             26186018\n",
      "tags                      {'seamark:type': 'separation_boundary'}\n",
      "nodes                                    [3137900432, 3137900436]\n",
      "linestring      0102000020E6100000020000008F352383DCB52640644F...\n",
      "bbox            0103000020E6100000010000000500000074362E2D3469...\n",
      "geometry            POINT (11.250573838971775 37.458303387669226)\n",
      "Name: 1, dtype: object\n",
      "____________________________________________\n",
      "seg geometry    LINESTRING (10.917762243471175 37.408242539263...\n",
      "Name: 2, dtype: object\n",
      "interesct point id                                                      308520797\n",
      "version                                                         1\n",
      "user_id                                                    554973\n",
      "tstamp                                        2014-10-19 05:28:12\n",
      "changeset_id                                             26186018\n",
      "tags                          {'seamark:type': 'separation_lane'}\n",
      "nodes                                    [3137900430, 3137900435]\n",
      "linestring      0102000020E6100000020000001B193FE834AE2640030D...\n",
      "bbox            0103000020E61000000100000005000000BD676ECF3D61...\n",
      "geometry             POINT (11.201409618064403 37.45090820479969)\n",
      "Name: 0, dtype: object\n",
      "interesct point id                                                      308520799\n",
      "version                                                         1\n",
      "user_id                                                    554973\n",
      "tstamp                                        2014-10-19 05:28:12\n",
      "changeset_id                                             26186018\n",
      "tags                      {'seamark:type': 'separation_boundary'}\n",
      "nodes                                    [3137900432, 3137900436]\n",
      "linestring      0102000020E6100000020000008F352383DCB52640644F...\n",
      "bbox            0103000020E6100000010000000500000074362E2D3469...\n",
      "geometry            POINT (11.250573838971775 37.458303387669226)\n",
      "Name: 1, dtype: object\n",
      "seg geometry    LINESTRING (10.078227581932445 37.423535743498...\n",
      "Name: 3, dtype: object\n",
      "interesct point id                                                      308520797\n",
      "version                                                         1\n",
      "user_id                                                    554973\n",
      "tstamp                                        2014-10-19 05:28:12\n",
      "changeset_id                                             26186018\n",
      "tags                          {'seamark:type': 'separation_lane'}\n",
      "nodes                                    [3137900430, 3137900435]\n",
      "linestring      0102000020E6100000020000001B193FE834AE2640030D...\n",
      "bbox            0103000020E61000000100000005000000BD676ECF3D61...\n",
      "geometry             POINT (11.201409618064403 37.45090820479969)\n",
      "Name: 0, dtype: object\n",
      "interesct point id                                                      308520799\n",
      "version                                                         1\n",
      "user_id                                                    554973\n",
      "tstamp                                        2014-10-19 05:28:12\n",
      "changeset_id                                             26186018\n",
      "tags                      {'seamark:type': 'separation_boundary'}\n",
      "nodes                                    [3137900432, 3137900436]\n",
      "linestring      0102000020E6100000020000008F352383DCB52640644F...\n",
      "bbox            0103000020E6100000010000000500000074362E2D3469...\n",
      "geometry            POINT (11.250573838971775 37.458303387669226)\n",
      "Name: 1, dtype: object\n",
      "[1, 1]\n"
     ]
    },
    {
     "data": {
      "image/png": "[encoded data removed]",
      "text/plain": [
       "<Figure size 640x480 with 1 Axes>"
      ]
     },
     "metadata": {},
     "output_type": "display_data"
    },
    {
     "name": "stdout",
     "output_type": "stream",
     "text": [
      "          x          y\n",
      "0  11.71534  37.528213\n",
      "           x          y\n",
      "2  10.917762  37.408243\n"
     ]
    },
    {
     "data": {
      "image/png": "[encoded data removed]",
      "text/plain": [
       "<Figure size 640x480 with 1 Axes>"
      ]
     },
     "metadata": {},
     "output_type": "display_data"
    }
   ],
   "source": [
    " # Perform spatial overlay to find intersections\n",
    "intersection = gpd.overlay(segments_gdf, seamark_gdf, how='intersection',\n",
    "                               keep_geom_type=False)\n",
    "\n",
    "\n",
    "first_node = 0\n",
    "indx_intersect = []\n",
    "for index, seg in segments_gdf.iterrows():\n",
    "    print('seg', seg)\n",
    "    for j, inter_point in intersection.iterrows():\n",
    "        print('interesct point', inter_point)\n",
    "        buffered_point = inter_point.geometry.buffer(0.000001)\n",
    "        val = seg.geometry.intersects(buffered_point)\n",
    "        if (val):\n",
    "            print('____________________________________________')\n",
    "            indx_intersect.append(index)\n",
    "\n",
    "print(indx_intersect)\n",
    "segments_before_df = segments_gdf[0:indx_intersect[0]]\n",
    "\n",
    "last_index = indx_intersect[len(indx_intersect) - 1]\n",
    "last_index = last_index + 1\n",
    "segments_after = segments_gdf[last_index:]\n",
    "\n",
    "fig, ax = plt.subplots()\n",
    "segments_before_df.plot(ax=ax, color='yellow',\n",
    "                            label='segments before 1st intersection')\n",
    "seamark_gdf.plot(ax=ax, color='green', label='seamark')\n",
    "segments_after.plot(ax=ax, color = 'orange', label='segments after last intersection')\n",
    "ax.legend()\n",
    "plt.show()\n",
    "\n",
    "first_node_line = segments_before_df.tail(1).geometry.get_coordinates()\n",
    "point_start = first_node_line.tail(1)\n",
    "print(point_start)\n",
    "point_A = Point(point_start.x, point_start.y)\n",
    "\n",
    "first_node_line = segments_after.head(1).geometry.get_coordinates()\n",
    "point_end = first_node_line.head(1)\n",
    "print(point_end)\n",
    "point_B = Point(point_end.x, point_end.y)\n",
    "\n",
    "points = [point_A, point_B]\n",
    "p = gpd.GeoSeries(points)\n",
    "\n",
    "fig, ax = plt.subplots()\n",
    "segments_before_df.plot(ax=ax, color='red',\n",
    "                            label='segments before 1st intersection')\n",
    "seamark_gdf.plot(ax=ax, color='green', label='seamark')\n",
    "segments_after.plot(ax=ax, label='segments after last intersection')\n",
    "p.plot(ax=ax, color='yellow', label='starting and ending of correcting segment' )\n",
    "ax.legend()\n",
    "plt.show()"
   ]
  },
  {
   "cell_type": "code",
   "execution_count": 61,
   "id": "bf923761-9196-4fa0-88b9-cb9a6a30d735",
   "metadata": {},
   "outputs": [
    {
     "name": "stdout",
     "output_type": "stream",
     "text": [
      "POINT (11.715339790563805 37.52821254396468)\n"
     ]
    }
   ],
   "source": [
    "print(point_A)"
   ]
  },
  {
   "cell_type": "code",
   "execution_count": 62,
   "id": "07f08fd8-933b-4464-93d1-61affd18bd1f",
   "metadata": {
    "scrolled": true
   },
   "outputs": [
    {
     "name": "stdout",
     "output_type": "stream",
     "text": [
      "POINT (10.917762243471175 37.4082425392635)\n"
     ]
    }
   ],
   "source": [
    "print(point_B)"
   ]
  },
  {
   "cell_type": "markdown",
   "id": "9a9ab1c0-8505-4a1a-b77e-0c002ed3cd7f",
   "metadata": {},
   "source": [
    "## Find the traffic separation lanes"
   ]
  },
  {
   "cell_type": "code",
   "execution_count": 63,
   "id": "61feeaa3-36fd-4534-8340-af1a423f13c3",
   "metadata": {},
   "outputs": [
    {
     "data": {
      "text/html": [
       "<div>\n",
       "<style scoped>\n",
       "    .dataframe tbody tr th:only-of-type {\n",
       "        vertical-align: middle;\n",
       "    }\n",
       "\n",
       "    .dataframe tbody tr th {\n",
       "        vertical-align: top;\n",
       "    }\n",
       "\n",
       "    .dataframe thead th {\n",
       "        text-align: right;\n",
       "    }\n",
       "</style>\n",
       "<table border=\"1\" class=\"dataframe\">\n",
       "  <thead>\n",
       "    <tr style=\"text-align: right;\">\n",
       "      <th></th>\n",
       "      <th>id</th>\n",
       "      <th>version</th>\n",
       "      <th>user_id</th>\n",
       "      <th>tstamp</th>\n",
       "      <th>changeset_id</th>\n",
       "      <th>tags</th>\n",
       "      <th>nodes</th>\n",
       "      <th>linestring</th>\n",
       "      <th>bbox</th>\n",
       "      <th>geom</th>\n",
       "    </tr>\n",
       "  </thead>\n",
       "  <tbody>\n",
       "    <tr>\n",
       "      <th>0</th>\n",
       "      <td>308520793</td>\n",
       "      <td>1</td>\n",
       "      <td>554973</td>\n",
       "      <td>2014-10-19 05:28:12</td>\n",
       "      <td>26186018</td>\n",
       "      <td>{'seamark:type': 'separation_lane'}</td>\n",
       "      <td>[3137900431, 3137899926]</td>\n",
       "      <td>0102000020E610000002000000453A4DB0494826401A13...</td>\n",
       "      <td>0103000020E61000000100000005000000453A4DB04948...</td>\n",
       "      <td>LINESTRING (11.14119 37.38447, 11.29208 37.31145)</td>\n",
       "    </tr>\n",
       "    <tr>\n",
       "      <th>1</th>\n",
       "      <td>308520797</td>\n",
       "      <td>1</td>\n",
       "      <td>554973</td>\n",
       "      <td>2014-10-19 05:28:12</td>\n",
       "      <td>26186018</td>\n",
       "      <td>{'seamark:type': 'separation_lane'}</td>\n",
       "      <td>[3137900430, 3137900435]</td>\n",
       "      <td>0102000020E6100000020000001B193FE834AE2640030D...</td>\n",
       "      <td>0103000020E61000000100000005000000BD676ECF3D61...</td>\n",
       "      <td>LINESTRING (11.34025 37.38724, 11.18992 37.45617)</td>\n",
       "    </tr>\n",
       "    <tr>\n",
       "      <th>2</th>\n",
       "      <td>898527699</td>\n",
       "      <td>1</td>\n",
       "      <td>554973</td>\n",
       "      <td>2021-01-22 16:13:50</td>\n",
       "      <td>97985515</td>\n",
       "      <td>{'seamark:type': 'separation_lane'}</td>\n",
       "      <td>[8349670162, 8349670163]</td>\n",
       "      <td>0102000020E61000000200000072B8A008F31424400FB4...</td>\n",
       "      <td>0103000020E6100000010000000500000072B8A008F314...</td>\n",
       "      <td>LINESTRING (10.04092 37.56513, 10.22284 37.56515)</td>\n",
       "    </tr>\n",
       "    <tr>\n",
       "      <th>3</th>\n",
       "      <td>898527700</td>\n",
       "      <td>1</td>\n",
       "      <td>554973</td>\n",
       "      <td>2021-01-22 16:13:50</td>\n",
       "      <td>97985515</td>\n",
       "      <td>{'seamark:type': 'separation_lane'}</td>\n",
       "      <td>[8349670160, 8349670161]</td>\n",
       "      <td>0102000020E6100000020000006A238DC00E72244022E4...</td>\n",
       "      <td>0103000020E6100000010000000500000031BE1E02FD14...</td>\n",
       "      <td>LINESTRING (10.22277 37.64852, 10.04099 37.64844)</td>\n",
       "    </tr>\n",
       "  </tbody>\n",
       "</table>\n",
       "</div>"
      ],
      "text/plain": [
       "          id  version  user_id               tstamp  changeset_id  \\\n",
       "0  308520793        1   554973  2014-10-19 05:28:12      26186018   \n",
       "1  308520797        1   554973  2014-10-19 05:28:12      26186018   \n",
       "2  898527699        1   554973  2021-01-22 16:13:50      97985515   \n",
       "3  898527700        1   554973  2021-01-22 16:13:50      97985515   \n",
       "\n",
       "                                  tags                     nodes  \\\n",
       "0  {'seamark:type': 'separation_lane'}  [3137900431, 3137899926]   \n",
       "1  {'seamark:type': 'separation_lane'}  [3137900430, 3137900435]   \n",
       "2  {'seamark:type': 'separation_lane'}  [8349670162, 8349670163]   \n",
       "3  {'seamark:type': 'separation_lane'}  [8349670160, 8349670161]   \n",
       "\n",
       "                                          linestring  \\\n",
       "0  0102000020E610000002000000453A4DB0494826401A13...   \n",
       "1  0102000020E6100000020000001B193FE834AE2640030D...   \n",
       "2  0102000020E61000000200000072B8A008F31424400FB4...   \n",
       "3  0102000020E6100000020000006A238DC00E72244022E4...   \n",
       "\n",
       "                                                bbox  \\\n",
       "0  0103000020E61000000100000005000000453A4DB04948...   \n",
       "1  0103000020E61000000100000005000000BD676ECF3D61...   \n",
       "2  0103000020E6100000010000000500000072B8A008F314...   \n",
       "3  0103000020E6100000010000000500000031BE1E02FD14...   \n",
       "\n",
       "                                                geom  \n",
       "0  LINESTRING (11.14119 37.38447, 11.29208 37.31145)  \n",
       "1  LINESTRING (11.34025 37.38724, 11.18992 37.45617)  \n",
       "2  LINESTRING (10.04092 37.56513, 10.22284 37.56515)  \n",
       "3  LINESTRING (10.22277 37.64852, 10.04099 37.64844)  "
      ]
     },
     "execution_count": 63,
     "metadata": {},
     "output_type": "execute_result"
    }
   ],
   "source": [
    "query = \"SELECT *,linestring AS geom FROM public.ways WHERE ST_Intersects(linestring, ST_GeomFromText('POLYGON ((13.323 36.311, 13.323 38.585, 8.736 38.585, 8.736 36.311, 13.323 36.311))', 4326)) AND ( tags -> 'seamark:type'='separation_lane')\"\n",
    "gdf_ways = gpd.read_postgis(query, engine)\n",
    "gdf_ways['tstamp']=gdf_ways['tstamp'].dt.strftime('%Y-%m-%d %H:%M:%S')\n",
    "gdf_ways"
   ]
  },
  {
   "cell_type": "code",
   "execution_count": 64,
   "id": "afdb1c08-daf8-47f1-94d8-a809cbeca37d",
   "metadata": {},
   "outputs": [
    {
     "data": {
      "text/html": [
       "<div style=\"width:100%;\"><div style=\"position:relative;width:100%;height:0;padding-bottom:60%;\"><span style=\"color:#565656\">Make this Notebook Trusted to load map: File -> Trust Notebook</span><iframe srcdoc=\"&lt;!DOCTYPE html&gt;\n",
       "&lt;html&gt;\n",
       "&lt;head&gt;\n",
       "    \n",
       "    &lt;meta http-equiv=&quot;content-type&quot; content=&quot;text/html; charset=UTF-8&quot; /&gt;\n",
       "    \n",
       "        &lt;script&gt;\n",
       "            L_NO_TOUCH = false;\n",
       "            L_DISABLE_3D = false;\n",
       "        &lt;/script&gt;\n",
       "    \n",
       "    &lt;style&gt;html, body {width: 100%;height: 100%;margin: 0;padding: 0;}&lt;/style&gt;\n",
       "    &lt;style&gt;#map {position:absolute;top:0;bottom:0;right:0;left:0;}&lt;/style&gt;\n",
       "    &lt;script src=&quot;https://cdn.jsdelivr.net/npm/leaflet@1.9.3/dist/leaflet.js&quot;&gt;&lt;/script&gt;\n",
       "    &lt;script src=&quot;https://code.jquery.com/jquery-1.12.4.min.js&quot;&gt;&lt;/script&gt;\n",
       "    &lt;script src=&quot;https://cdn.jsdelivr.net/npm/bootstrap@5.2.2/dist/js/bootstrap.bundle.min.js&quot;&gt;&lt;/script&gt;\n",
       "    &lt;script src=&quot;https://cdnjs.cloudflare.com/ajax/libs/Leaflet.awesome-markers/2.0.2/leaflet.awesome-markers.js&quot;&gt;&lt;/script&gt;\n",
       "    &lt;link rel=&quot;stylesheet&quot; href=&quot;https://cdn.jsdelivr.net/npm/leaflet@1.9.3/dist/leaflet.css&quot;/&gt;\n",
       "    &lt;link rel=&quot;stylesheet&quot; href=&quot;https://cdn.jsdelivr.net/npm/bootstrap@5.2.2/dist/css/bootstrap.min.css&quot;/&gt;\n",
       "    &lt;link rel=&quot;stylesheet&quot; href=&quot;https://netdna.bootstrapcdn.com/bootstrap/3.0.0/css/bootstrap.min.css&quot;/&gt;\n",
       "    &lt;link rel=&quot;stylesheet&quot; href=&quot;https://cdn.jsdelivr.net/npm/@fortawesome/fontawesome-free@6.2.0/css/all.min.css&quot;/&gt;\n",
       "    &lt;link rel=&quot;stylesheet&quot; href=&quot;https://cdnjs.cloudflare.com/ajax/libs/Leaflet.awesome-markers/2.0.2/leaflet.awesome-markers.css&quot;/&gt;\n",
       "    &lt;link rel=&quot;stylesheet&quot; href=&quot;https://cdn.jsdelivr.net/gh/python-visualization/folium/folium/templates/leaflet.awesome.rotate.min.css&quot;/&gt;\n",
       "    \n",
       "            &lt;meta name=&quot;viewport&quot; content=&quot;width=device-width,\n",
       "                initial-scale=1.0, maximum-scale=1.0, user-scalable=no&quot; /&gt;\n",
       "            &lt;style&gt;\n",
       "                #map_981e020b39cfaff17ddd0e66d657eaec {\n",
       "                    position: relative;\n",
       "                    width: 100.0%;\n",
       "                    height: 100.0%;\n",
       "                    left: 0.0%;\n",
       "                    top: 0.0%;\n",
       "                }\n",
       "                .leaflet-container { font-size: 1rem; }\n",
       "            &lt;/style&gt;\n",
       "        \n",
       "    \n",
       "                    &lt;style&gt;\n",
       "                        .foliumtooltip {\n",
       "                            \n",
       "                        }\n",
       "                       .foliumtooltip table{\n",
       "                            margin: auto;\n",
       "                        }\n",
       "                        .foliumtooltip tr{\n",
       "                            text-align: left;\n",
       "                        }\n",
       "                        .foliumtooltip th{\n",
       "                            padding: 2px; padding-right: 8px;\n",
       "                        }\n",
       "                    &lt;/style&gt;\n",
       "            \n",
       "&lt;/head&gt;\n",
       "&lt;body&gt;\n",
       "    \n",
       "    \n",
       "            &lt;div class=&quot;folium-map&quot; id=&quot;map_981e020b39cfaff17ddd0e66d657eaec&quot; &gt;&lt;/div&gt;\n",
       "        \n",
       "&lt;/body&gt;\n",
       "&lt;script&gt;\n",
       "    \n",
       "    \n",
       "            var map_981e020b39cfaff17ddd0e66d657eaec = L.map(\n",
       "                &quot;map_981e020b39cfaff17ddd0e66d657eaec&quot;,\n",
       "                {\n",
       "                    center: [37.47998375, 10.69058205],\n",
       "                    crs: L.CRS.EPSG3857,\n",
       "                    zoom: 10,\n",
       "                    zoomControl: true,\n",
       "                    preferCanvas: false,\n",
       "                }\n",
       "            );\n",
       "            L.control.scale().addTo(map_981e020b39cfaff17ddd0e66d657eaec);\n",
       "\n",
       "            \n",
       "\n",
       "        \n",
       "    \n",
       "            var tile_layer_6410c51180de2853223bab288b540c1e = L.tileLayer(\n",
       "                &quot;https://{s}.tile.openstreetmap.org/{z}/{x}/{y}.png&quot;,\n",
       "                {&quot;attribution&quot;: &quot;Data by \\u0026copy; \\u003ca target=\\&quot;_blank\\&quot; href=\\&quot;http://openstreetmap.org\\&quot;\\u003eOpenStreetMap\\u003c/a\\u003e, under \\u003ca target=\\&quot;_blank\\&quot; href=\\&quot;http://www.openstreetmap.org/copyright\\&quot;\\u003eODbL\\u003c/a\\u003e.&quot;, &quot;detectRetina&quot;: false, &quot;maxNativeZoom&quot;: 18, &quot;maxZoom&quot;: 18, &quot;minZoom&quot;: 0, &quot;noWrap&quot;: false, &quot;opacity&quot;: 1, &quot;subdomains&quot;: &quot;abc&quot;, &quot;tms&quot;: false}\n",
       "            ).addTo(map_981e020b39cfaff17ddd0e66d657eaec);\n",
       "        \n",
       "    \n",
       "            map_981e020b39cfaff17ddd0e66d657eaec.fitBounds(\n",
       "                [[37.3114469, 10.0409167], [37.6485206, 11.3402474]],\n",
       "                {}\n",
       "            );\n",
       "        \n",
       "    \n",
       "        function geo_json_7a56f1bc524a501de71d75f3cbd663b2_styler(feature) {\n",
       "            switch(feature.id) {\n",
       "                default:\n",
       "                    return {&quot;fillOpacity&quot;: 0.5, &quot;weight&quot;: 2};\n",
       "            }\n",
       "        }\n",
       "        function geo_json_7a56f1bc524a501de71d75f3cbd663b2_highlighter(feature) {\n",
       "            switch(feature.id) {\n",
       "                default:\n",
       "                    return {&quot;fillOpacity&quot;: 0.75};\n",
       "            }\n",
       "        }\n",
       "        function geo_json_7a56f1bc524a501de71d75f3cbd663b2_pointToLayer(feature, latlng) {\n",
       "            var opts = {&quot;bubblingMouseEvents&quot;: true, &quot;color&quot;: &quot;#3388ff&quot;, &quot;dashArray&quot;: null, &quot;dashOffset&quot;: null, &quot;fill&quot;: true, &quot;fillColor&quot;: &quot;#3388ff&quot;, &quot;fillOpacity&quot;: 0.2, &quot;fillRule&quot;: &quot;evenodd&quot;, &quot;lineCap&quot;: &quot;round&quot;, &quot;lineJoin&quot;: &quot;round&quot;, &quot;opacity&quot;: 1.0, &quot;radius&quot;: 2, &quot;stroke&quot;: true, &quot;weight&quot;: 3};\n",
       "            \n",
       "            let style = geo_json_7a56f1bc524a501de71d75f3cbd663b2_styler(feature)\n",
       "            Object.assign(opts, style)\n",
       "            \n",
       "            return new L.CircleMarker(latlng, opts)\n",
       "        }\n",
       "\n",
       "        function geo_json_7a56f1bc524a501de71d75f3cbd663b2_onEachFeature(feature, layer) {\n",
       "            layer.on({\n",
       "                mouseout: function(e) {\n",
       "                    if(typeof e.target.setStyle === &quot;function&quot;){\n",
       "                        geo_json_7a56f1bc524a501de71d75f3cbd663b2.resetStyle(e.target);\n",
       "                    }\n",
       "                },\n",
       "                mouseover: function(e) {\n",
       "                    if(typeof e.target.setStyle === &quot;function&quot;){\n",
       "                        const highlightStyle = geo_json_7a56f1bc524a501de71d75f3cbd663b2_highlighter(e.target.feature)\n",
       "                        e.target.setStyle(highlightStyle);\n",
       "                    }\n",
       "                },\n",
       "            });\n",
       "        };\n",
       "        var geo_json_7a56f1bc524a501de71d75f3cbd663b2 = L.geoJson(null, {\n",
       "                onEachFeature: geo_json_7a56f1bc524a501de71d75f3cbd663b2_onEachFeature,\n",
       "            \n",
       "                style: geo_json_7a56f1bc524a501de71d75f3cbd663b2_styler,\n",
       "                pointToLayer: geo_json_7a56f1bc524a501de71d75f3cbd663b2_pointToLayer\n",
       "        });\n",
       "\n",
       "        function geo_json_7a56f1bc524a501de71d75f3cbd663b2_add (data) {\n",
       "            geo_json_7a56f1bc524a501de71d75f3cbd663b2\n",
       "                .addData(data)\n",
       "                .addTo(map_981e020b39cfaff17ddd0e66d657eaec);\n",
       "        }\n",
       "            geo_json_7a56f1bc524a501de71d75f3cbd663b2_add({&quot;bbox&quot;: [10.0409167, 37.3114469, 11.3402474, 37.6485206], &quot;features&quot;: [{&quot;bbox&quot;: [11.1411872, 37.3114469, 11.2920777, 37.3844744], &quot;geometry&quot;: {&quot;coordinates&quot;: [[11.1411872, 37.3844744], [11.2920777, 37.3114469]], &quot;type&quot;: &quot;LineString&quot;}, &quot;id&quot;: &quot;0&quot;, &quot;properties&quot;: {&quot;bbox&quot;: &quot;0103000020E61000000100000005000000453A4DB04948264065F8F47DDDA74240453A4DB0494826401A13077536B1424024C852358B9526401A13077536B1424024C852358B95264065F8F47DDDA74240453A4DB04948264065F8F47DDDA74240&quot;, &quot;changeset_id&quot;: 26186018, &quot;id&quot;: 308520793, &quot;linestring&quot;: &quot;0102000020E610000002000000453A4DB0494826401A13077536B1424024C852358B95264065F8F47DDDA74240&quot;, &quot;nodes&quot;: [3137900431, 3137899926], &quot;tags&quot;: {&quot;seamark:type&quot;: &quot;separation_lane&quot;}, &quot;tstamp&quot;: &quot;2014-10-19 05:28:12&quot;, &quot;user_id&quot;: 554973, &quot;version&quot;: 1}, &quot;type&quot;: &quot;Feature&quot;}, {&quot;bbox&quot;: [11.1899247, 37.3872431, 11.3402474, 37.4561747], &quot;geometry&quot;: {&quot;coordinates&quot;: [[11.3402474, 37.3872431], [11.1899247, 37.4561747]], &quot;type&quot;: &quot;LineString&quot;}, &quot;id&quot;: &quot;1&quot;, &quot;properties&quot;: {&quot;bbox&quot;: &quot;0103000020E61000000100000005000000BD676ECF3D612640030D912E91B14240BD676ECF3D6126409DE1BCEE63BA42401B193FE834AE26409DE1BCEE63BA42401B193FE834AE2640030D912E91B14240BD676ECF3D612640030D912E91B14240&quot;, &quot;changeset_id&quot;: 26186018, &quot;id&quot;: 308520797, &quot;linestring&quot;: &quot;0102000020E6100000020000001B193FE834AE2640030D912E91B14240BD676ECF3D6126409DE1BCEE63BA4240&quot;, &quot;nodes&quot;: [3137900430, 3137900435], &quot;tags&quot;: {&quot;seamark:type&quot;: &quot;separation_lane&quot;}, &quot;tstamp&quot;: &quot;2014-10-19 05:28:12&quot;, &quot;user_id&quot;: 554973, &quot;version&quot;: 1}, &quot;type&quot;: &quot;Feature&quot;}, {&quot;bbox&quot;: [10.0409167, 37.5651325, 10.2228375, 37.5651548], &quot;geometry&quot;: {&quot;coordinates&quot;: [[10.0409167, 37.5651325], [10.2228375, 37.5651548]], &quot;type&quot;: &quot;LineString&quot;}, &quot;id&quot;: &quot;2&quot;, &quot;properties&quot;: {&quot;bbox&quot;: &quot;0103000020E6100000010000000500000072B8A008F31424400FB4024356C8424072B8A008F3142440B69613FE56C8424012A5BDC117722440B69613FE56C8424012A5BDC1177224400FB4024356C8424072B8A008F31424400FB4024356C84240&quot;, &quot;changeset_id&quot;: 97985515, &quot;id&quot;: 898527699, &quot;linestring&quot;: &quot;0102000020E61000000200000072B8A008F31424400FB4024356C8424012A5BDC117722440B69613FE56C84240&quot;, &quot;nodes&quot;: [8349670162, 8349670163], &quot;tags&quot;: {&quot;seamark:type&quot;: &quot;separation_lane&quot;}, &quot;tstamp&quot;: &quot;2021-01-22 16:13:50&quot;, &quot;user_id&quot;: 554973, &quot;version&quot;: 1}, &quot;type&quot;: &quot;Feature&quot;}, {&quot;bbox&quot;: [10.0409928, 37.64844, 10.2227688, 37.6485206], &quot;geometry&quot;: {&quot;coordinates&quot;: [[10.2227688, 37.6485206], [10.0409928, 37.64844]], &quot;type&quot;: &quot;LineString&quot;}, &quot;id&quot;: &quot;3&quot;, &quot;properties&quot;: {&quot;bbox&quot;: &quot;0103000020E6100000010000000500000031BE1E02FD14244089B5F81400D3424031BE1E02FD14244022E417B902D342406A238DC00E72244022E417B902D342406A238DC00E72244089B5F81400D3424031BE1E02FD14244089B5F81400D34240&quot;, &quot;changeset_id&quot;: 97985515, &quot;id&quot;: 898527700, &quot;linestring&quot;: &quot;0102000020E6100000020000006A238DC00E72244022E417B902D3424031BE1E02FD14244089B5F81400D34240&quot;, &quot;nodes&quot;: [8349670160, 8349670161], &quot;tags&quot;: {&quot;seamark:type&quot;: &quot;separation_lane&quot;}, &quot;tstamp&quot;: &quot;2021-01-22 16:13:50&quot;, &quot;user_id&quot;: 554973, &quot;version&quot;: 1}, &quot;type&quot;: &quot;Feature&quot;}], &quot;type&quot;: &quot;FeatureCollection&quot;});\n",
       "\n",
       "        \n",
       "    \n",
       "    geo_json_7a56f1bc524a501de71d75f3cbd663b2.bindTooltip(\n",
       "    function(layer){\n",
       "    let div = L.DomUtil.create(&#x27;div&#x27;);\n",
       "    \n",
       "    let handleObject = feature=&gt;typeof(feature)==&#x27;object&#x27; ? JSON.stringify(feature) : feature;\n",
       "    let fields = [&quot;id&quot;, &quot;version&quot;, &quot;user_id&quot;, &quot;tstamp&quot;, &quot;changeset_id&quot;, &quot;tags&quot;, &quot;nodes&quot;, &quot;linestring&quot;, &quot;bbox&quot;];\n",
       "    let aliases = [&quot;id&quot;, &quot;version&quot;, &quot;user_id&quot;, &quot;tstamp&quot;, &quot;changeset_id&quot;, &quot;tags&quot;, &quot;nodes&quot;, &quot;linestring&quot;, &quot;bbox&quot;];\n",
       "    let table = &#x27;&lt;table&gt;&#x27; +\n",
       "        String(\n",
       "        fields.map(\n",
       "        (v,i)=&gt;\n",
       "        `&lt;tr&gt;\n",
       "            &lt;th&gt;${aliases[i]}&lt;/th&gt;\n",
       "            \n",
       "            &lt;td&gt;${handleObject(layer.feature.properties[v])}&lt;/td&gt;\n",
       "        &lt;/tr&gt;`).join(&#x27;&#x27;))\n",
       "    +&#x27;&lt;/table&gt;&#x27;;\n",
       "    div.innerHTML=table;\n",
       "    \n",
       "    return div\n",
       "    }\n",
       "    ,{&quot;className&quot;: &quot;foliumtooltip&quot;, &quot;sticky&quot;: true});\n",
       "                     \n",
       "&lt;/script&gt;\n",
       "&lt;/html&gt;\" style=\"position:absolute;width:100%;height:100%;left:0;top:0;border:none !important;\" allowfullscreen webkitallowfullscreen mozallowfullscreen></iframe></div></div>"
      ],
      "text/plain": [
       "<folium.folium.Map at 0x2d2d63dbf10>"
      ]
     },
     "execution_count": 64,
     "metadata": {},
     "output_type": "execute_result"
    }
   ],
   "source": [
    "gdf_ways.explore()\n"
   ]
  },
  {
   "cell_type": "code",
   "execution_count": 65,
   "id": "3a3613b8-1355-4a79-8d73-fb6257fce542",
   "metadata": {},
   "outputs": [
    {
     "name": "stdout",
     "output_type": "stream",
     "text": [
      "0.5918714820647628\n",
      "0.4007077308844688\n",
      "1.6748300717884463\n",
      "1.4974118305328072\n",
      "1\n"
     ]
    }
   ],
   "source": [
    "dist_list = []\n",
    "for line in gdf_ways.geom:\n",
    "    seamark_lane_segment = line\n",
    "    x,y = seamark_lane_segment.xy\n",
    "    seamark_start_point = Point(x[0], y[0])\n",
    "    dist = point_A.distance(seamark_start_point)\n",
    "    dist_list.append(dist)\n",
    "    print(dist)\n",
    "\n",
    "mind_dist_index = dist_list.index(min(dist_list))\n",
    "print(mind_dist_index)"
   ]
  },
  {
   "cell_type": "code",
   "execution_count": 66,
   "id": "5ee25bc8-8b34-481d-bb63-f5f3677010f1",
   "metadata": {},
   "outputs": [
    {
     "name": "stdout",
     "output_type": "stream",
     "text": [
      "<class 'pandas.core.series.Series'>\n"
     ]
    }
   ],
   "source": [
    "seperation_lane = gdf_ways.loc[mind_dist_index]\n",
    "#seperation_lane_geom['geom'] =seperation_lane['geom']\n",
    "print(type(seperation_lane))"
   ]
  },
  {
   "cell_type": "code",
   "execution_count": 67,
   "id": "54520f29-6280-4a34-bc9c-a5a8f06b6f1b",
   "metadata": {},
   "outputs": [
    {
     "data": {
      "text/plain": [
       "id                                                      308520797\n",
       "version                                                         1\n",
       "user_id                                                    554973\n",
       "tstamp                                        2014-10-19 05:28:12\n",
       "changeset_id                                             26186018\n",
       "tags                          {'seamark:type': 'separation_lane'}\n",
       "nodes                                    [3137900430, 3137900435]\n",
       "linestring      0102000020E6100000020000001B193FE834AE2640030D...\n",
       "bbox            0103000020E61000000100000005000000BD676ECF3D61...\n",
       "geom            LINESTRING (11.3402474 37.3872431, 11.1899247 ...\n",
       "Name: 1, dtype: object"
      ]
     },
     "execution_count": 67,
     "metadata": {},
     "output_type": "execute_result"
    }
   ],
   "source": [
    "seperation_lane"
   ]
  },
  {
   "cell_type": "code",
   "execution_count": 68,
   "id": "1000dc9b-eecd-41a8-80ea-17fcdebdfd79",
   "metadata": {},
   "outputs": [],
   "source": [
    "from shapely.ops import linemerge"
   ]
  },
  {
   "cell_type": "code",
   "execution_count": 69,
   "id": "f8622b5c-57ba-4126-8eee-24428602b9e3",
   "metadata": {},
   "outputs": [],
   "source": [
    "seperation_lane_geom = seperation_lane.geom"
   ]
  },
  {
   "cell_type": "code",
   "execution_count": 70,
   "id": "7d0ec711-8b8b-4459-a288-d8a46e506ab5",
   "metadata": {},
   "outputs": [
    {
     "name": "stdout",
     "output_type": "stream",
     "text": [
      "LINESTRING (11.3402474 37.3872431, 11.1899247 37.4561747)\n",
      "<class 'shapely.geometry.linestring.LineString'>\n"
     ]
    }
   ],
   "source": [
    "print(seperation_lane_geom)\n",
    "print(type(seperation_lane_geom))"
   ]
  },
  {
   "cell_type": "code",
   "execution_count": 71,
   "id": "34cf68cb-2706-4269-bb8a-5c3b2af0adc7",
   "metadata": {},
   "outputs": [
    {
     "name": "stdout",
     "output_type": "stream",
     "text": [
      "<class 'geopandas.geodataframe.GeoDataFrame'>\n"
     ]
    }
   ],
   "source": [
    "print(type(segments_before_df))"
   ]
  },
  {
   "cell_type": "code",
   "execution_count": 72,
   "id": "002b8809-9795-486f-ab94-f3ed25db904c",
   "metadata": {},
   "outputs": [
    {
     "data": {
      "text/html": [
       "<div>\n",
       "<style scoped>\n",
       "    .dataframe tbody tr th:only-of-type {\n",
       "        vertical-align: middle;\n",
       "    }\n",
       "\n",
       "    .dataframe tbody tr th {\n",
       "        vertical-align: top;\n",
       "    }\n",
       "\n",
       "    .dataframe thead th {\n",
       "        text-align: right;\n",
       "    }\n",
       "</style>\n",
       "<table border=\"1\" class=\"dataframe\">\n",
       "  <thead>\n",
       "    <tr style=\"text-align: right;\">\n",
       "      <th></th>\n",
       "      <th>geometry</th>\n",
       "    </tr>\n",
       "  </thead>\n",
       "  <tbody>\n",
       "    <tr>\n",
       "      <th>2</th>\n",
       "      <td>LINESTRING (10.91776 37.40824, 10.07823 37.42354)</td>\n",
       "    </tr>\n",
       "    <tr>\n",
       "      <th>3</th>\n",
       "      <td>LINESTRING (10.07823 37.42354, 9.43700 37.55550)</td>\n",
       "    </tr>\n",
       "  </tbody>\n",
       "</table>\n",
       "</div>"
      ],
      "text/plain": [
       "                                            geometry\n",
       "2  LINESTRING (10.91776 37.40824, 10.07823 37.42354)\n",
       "3   LINESTRING (10.07823 37.42354, 9.43700 37.55550)"
      ]
     },
     "execution_count": 72,
     "metadata": {},
     "output_type": "execute_result"
    }
   ],
   "source": [
    "segments_after"
   ]
  },
  {
   "cell_type": "markdown",
   "id": "d8cacbc3-1a66-4da2-92f8-787be585fdfd",
   "metadata": {},
   "source": [
    "## ============================================================================="
   ]
  },
  {
   "cell_type": "code",
   "execution_count": 73,
   "id": "1298c993-4277-46bf-912b-e28a929331c9",
   "metadata": {},
   "outputs": [
    {
     "data": {
      "text/html": [
       "<div>\n",
       "<style scoped>\n",
       "    .dataframe tbody tr th:only-of-type {\n",
       "        vertical-align: middle;\n",
       "    }\n",
       "\n",
       "    .dataframe tbody tr th {\n",
       "        vertical-align: top;\n",
       "    }\n",
       "\n",
       "    .dataframe thead th {\n",
       "        text-align: right;\n",
       "    }\n",
       "</style>\n",
       "<table border=\"1\" class=\"dataframe\">\n",
       "  <thead>\n",
       "    <tr style=\"text-align: right;\">\n",
       "      <th></th>\n",
       "      <th>geometry</th>\n",
       "    </tr>\n",
       "  </thead>\n",
       "  <tbody>\n",
       "    <tr>\n",
       "      <th>0</th>\n",
       "      <td>LINESTRING (12.41500 37.66700, 11.71534 37.52821)</td>\n",
       "    </tr>\n",
       "  </tbody>\n",
       "</table>\n",
       "</div>"
      ],
      "text/plain": [
       "                                            geometry\n",
       "0  LINESTRING (12.41500 37.66700, 11.71534 37.52821)"
      ]
     },
     "execution_count": 73,
     "metadata": {},
     "output_type": "execute_result"
    }
   ],
   "source": [
    "segments_before_df"
   ]
  },
  {
   "cell_type": "code",
   "execution_count": 74,
   "id": "4d41a9b5-cf2c-4256-8155-cf7f7b4bfebe",
   "metadata": {
    "scrolled": true
   },
   "outputs": [
    {
     "name": "stdout",
     "output_type": "stream",
     "text": [
      "Shapely LineString: LINESTRING (12.415 37.667, 11.715339790563805 37.52821254396468)\n"
     ]
    },
    {
     "data": {
      "image/svg+xml": [
       "<svg xmlns=\"http://www.w3.org/2000/svg\" xmlns:xlink=\"http://www.w3.org/1999/xlink\" width=\"100.0\" height=\"100.0\" viewBox=\"10.715339790563805 36.52821254396468 2.0 2.0\" preserveAspectRatio=\"xMinYMin meet\"><g transform=\"matrix(1,0,0,-1,0,75.05642508792936)\"><circle cx=\"11.715339790563805\" cy=\"37.52821254396468\" r=\"0.06\" stroke=\"#555555\" stroke-width=\"0.02\" fill=\"#66cc99\" opacity=\"0.6\" /></g></svg>"
      ],
      "text/plain": [
       "<POINT (11.715 37.528)>"
      ]
     },
     "execution_count": 74,
     "metadata": {},
     "output_type": "execute_result"
    }
   ],
   "source": [
    "# Create ´connecting lines\n",
    "last_line_start_seg = segments_before_df.tail(1)\n",
    "\n",
    "geom =last_line_start_seg['geometry']\n",
    "# Access one of the LineString geometries from the GeoSeries (for example, the first one)\n",
    "line_gdf = last_line_start_seg.iloc[0]\n",
    "\n",
    "# Convert the GeoDataFrame to a Shapely LineString\n",
    "line_shapely = LineString(line_gdf.geometry.coords)\n",
    "\n",
    "print(\"Shapely LineString:\", line_shapely)\n",
    "x, y = line_shapely.xy\n",
    "d = {'x': x, 'y': y}\n",
    "df = pd.DataFrame(data = d)\n",
    "last_point_rs = Point([df['x'].tail(1),df['y'].tail(1)])\n",
    "last_point_rs"
   ]
  },
  {
   "cell_type": "code",
   "execution_count": 75,
   "id": "4e761255-c56f-4c8d-a307-56645fec1be5",
   "metadata": {},
   "outputs": [
    {
     "name": "stdout",
     "output_type": "stream",
     "text": [
      "LINESTRING (11.3402474 37.3872431, 11.1899247 37.4561747)\n",
      "<class 'shapely.geometry.linestring.LineString'>\n"
     ]
    }
   ],
   "source": [
    "seperation_lane = gdf_ways.loc[mind_dist_index]\n",
    "print(seperation_lane.geom)\n",
    "print(type(seperation_lane.geom))"
   ]
  },
  {
   "cell_type": "code",
   "execution_count": 76,
   "id": "e3e16b2b-43fb-4cd7-97d1-e4e76b2816ff",
   "metadata": {},
   "outputs": [],
   "source": [
    "x, y = seperation_lane.geom.xy\n",
    "d = {'x': x, 'y': y}\n",
    "df = pd.DataFrame(data = d)"
   ]
  },
  {
   "cell_type": "code",
   "execution_count": 77,
   "id": "f4db93ee-440b-427b-be20-fced08420ca1",
   "metadata": {
    "scrolled": true
   },
   "outputs": [
    {
     "data": {
      "image/svg+xml": [
       "<svg xmlns=\"http://www.w3.org/2000/svg\" xmlns:xlink=\"http://www.w3.org/1999/xlink\" width=\"100.0\" height=\"100.0\" viewBox=\"10.3402474 36.3872431 2.0 2.0\" preserveAspectRatio=\"xMinYMin meet\"><g transform=\"matrix(1,0,0,-1,0,74.7744862)\"><circle cx=\"11.3402474\" cy=\"37.3872431\" r=\"0.06\" stroke=\"#555555\" stroke-width=\"0.02\" fill=\"#66cc99\" opacity=\"0.6\" /></g></svg>"
      ],
      "text/plain": [
       "<POINT (11.34 37.387)>"
      ]
     },
     "execution_count": 77,
     "metadata": {},
     "output_type": "execute_result"
    }
   ],
   "source": [
    "firts_point_sl = Point([df['x'].head(1),df['y'].head(1)])\n",
    "firts_point_sl"
   ]
  },
  {
   "cell_type": "code",
   "execution_count": 78,
   "id": "4a2b7035-d36d-43bf-a500-32b525abd01e",
   "metadata": {},
   "outputs": [
    {
     "name": "stdout",
     "output_type": "stream",
     "text": [
      "LINESTRING (11.715339790563805 37.52821254396468, 11.3402474 37.3872431)\n"
     ]
    }
   ],
   "source": [
    "segments_1 = LineString([last_point_rs,firts_point_sl ])\n",
    "print(segments_1)"
   ]
  },
  {
   "cell_type": "markdown",
   "id": "d63be1e1-efce-476e-8cf4-c96f5ec284ad",
   "metadata": {},
   "source": [
    "#=============================="
   ]
  },
  {
   "cell_type": "code",
   "execution_count": 79,
   "id": "68a01fe2-b6ef-45ba-a853-07a88a39a270",
   "metadata": {},
   "outputs": [
    {
     "name": "stdout",
     "output_type": "stream",
     "text": [
      "Shapely LineString: LINESTRING (10.917762243471175 37.4082425392635, 10.078227581932445 37.423535743498356)\n"
     ]
    },
    {
     "data": {
      "image/svg+xml": [
       "<svg xmlns=\"http://www.w3.org/2000/svg\" xmlns:xlink=\"http://www.w3.org/1999/xlink\" width=\"100.0\" height=\"100.0\" viewBox=\"9.917762243471175 36.4082425392635 2.0 2.0\" preserveAspectRatio=\"xMinYMin meet\"><g transform=\"matrix(1,0,0,-1,0,74.816485078527)\"><circle cx=\"10.917762243471175\" cy=\"37.4082425392635\" r=\"0.06\" stroke=\"#555555\" stroke-width=\"0.02\" fill=\"#66cc99\" opacity=\"0.6\" /></g></svg>"
      ],
      "text/plain": [
       "<POINT (10.918 37.408)>"
      ]
     },
     "execution_count": 79,
     "metadata": {},
     "output_type": "execute_result"
    }
   ],
   "source": [
    "# Create ´connecting lines\n",
    "first_line_end_seg = segments_after.head(1)\n",
    "\n",
    "geom =first_line_end_seg['geometry']\n",
    "# Access one of the LineString geometries from the GeoSeries (for example, the first one)\n",
    "line_gdf = first_line_end_seg.iloc[0]\n",
    "\n",
    "# Convert the GeoDataFrame to a Shapely LineString\n",
    "line_shapely = LineString(line_gdf.geometry.coords)\n",
    "\n",
    "print(\"Shapely LineString:\", line_shapely)\n",
    "x, y = line_shapely.xy\n",
    "d = {'x': x, 'y': y}\n",
    "df = pd.DataFrame(data = d)\n",
    "first_point_rs = Point([df['x'].head(1),df['y'].head(1)])\n",
    "first_point_rs"
   ]
  },
  {
   "cell_type": "code",
   "execution_count": 80,
   "id": "8ef251d1-5991-49b5-9459-b2b3d7443ade",
   "metadata": {},
   "outputs": [
    {
     "name": "stdout",
     "output_type": "stream",
     "text": [
      "LINESTRING (11.3402474 37.3872431, 11.1899247 37.4561747)\n",
      "<class 'shapely.geometry.linestring.LineString'>\n"
     ]
    },
    {
     "data": {
      "image/svg+xml": [
       "<svg xmlns=\"http://www.w3.org/2000/svg\" xmlns:xlink=\"http://www.w3.org/1999/xlink\" width=\"100.0\" height=\"100.0\" viewBox=\"10.1899247 36.4561747 2.0 2.0\" preserveAspectRatio=\"xMinYMin meet\"><g transform=\"matrix(1,0,0,-1,0,74.9123494)\"><circle cx=\"11.1899247\" cy=\"37.4561747\" r=\"0.06\" stroke=\"#555555\" stroke-width=\"0.02\" fill=\"#66cc99\" opacity=\"0.6\" /></g></svg>"
      ],
      "text/plain": [
       "<POINT (11.19 37.456)>"
      ]
     },
     "execution_count": 80,
     "metadata": {},
     "output_type": "execute_result"
    }
   ],
   "source": [
    "seperation_lane = gdf_ways.loc[mind_dist_index]\n",
    "print(seperation_lane.geom)\n",
    "print(type(seperation_lane.geom))\n",
    "x, y = seperation_lane.geom.xy\n",
    "d = {'x': x, 'y': y}\n",
    "df = pd.DataFrame(data = d)\n",
    "last_point_sl = Point([df['x'].tail(1),df['y'].tail(1)])\n",
    "last_point_sl"
   ]
  },
  {
   "cell_type": "code",
   "execution_count": 81,
   "id": "cc02b133-c3f6-42f2-80d3-f19bdc2cc348",
   "metadata": {},
   "outputs": [
    {
     "name": "stdout",
     "output_type": "stream",
     "text": [
      "LINESTRING (11.1899247 37.4561747, 10.917762243471175 37.4082425392635)\n"
     ]
    }
   ],
   "source": [
    "segments_2 = LineString([last_point_sl,first_point_rs ])\n",
    "print(segments_2)"
   ]
  },
  {
   "cell_type": "markdown",
   "id": "1f034875-2161-4279-8c49-705ac2db3c8e",
   "metadata": {},
   "source": [
    "## ================================================="
   ]
  },
  {
   "cell_type": "code",
   "execution_count": 82,
   "id": "e14d3494-6825-4c0b-a10d-36ed4b7f7209",
   "metadata": {},
   "outputs": [
    {
     "name": "stdout",
     "output_type": "stream",
     "text": [
      "                                            geometry\n",
      "0  LINESTRING (12.41500 37.66700, 11.71534 37.52821)\n",
      "1  LINESTRING (11.71534 37.52821, 11.34025 37.38724)\n",
      "2  LINESTRING (11.34025 37.38724, 11.18992 37.45617)\n",
      "3  LINESTRING (11.18992 37.45617, 10.91776 37.40824)\n",
      "4  LINESTRING (10.91776 37.40824, 10.07823 37.42354)\n",
      "5   LINESTRING (10.07823 37.42354, 9.43700 37.55550)\n"
     ]
    }
   ],
   "source": [
    "# Create a new GeoDataFrame with the new LineString\n",
    "first_line_Seg =  gpd.GeoDataFrame(geometry=[segments_1], crs=segments_before_df.crs)\n",
    "seperation_lane = gpd.GeoDataFrame(geometry=[seperation_lane_geom], crs=segments_before_df.crs)\n",
    "second_line_Seg =  gpd.GeoDataFrame(geometry=[segments_2], crs=segments_before_df.crs)\n",
    "\n",
    "# Append the new GeoDataFrame to the existing one\n",
    "#combined_gdf = segments_before_df.append(new_gdf, ignore_index=True)\n",
    "combined_first_route_gdf = gpd.GeoDataFrame(pd.concat([segments_before_df, first_line_Seg], ignore_index=True), crs=segments_before_df.crs)\n",
    "combined_gdf = gpd.GeoDataFrame(pd.concat([combined_first_route_gdf, seperation_lane], ignore_index=True), crs=segments_before_df.crs)\n",
    "combined_last_route_seg = gpd.GeoDataFrame(pd.concat([combined_gdf, second_line_Seg], ignore_index=True), crs=segments_before_df.crs)\n",
    "final_route = gpd.GeoDataFrame(pd.concat([combined_last_route_seg, segments_after], ignore_index=True), crs=segments_before_df.crs)\n",
    "# Now combined_gdf contains the original LineStrings along with the new LineString\n",
    "#print(combined_gdf)\n",
    "# Now combined_gdf contains the original LineStrings along with the new LineString\n",
    "print(final_route)"
   ]
  },
  {
   "cell_type": "code",
   "execution_count": 83,
   "id": "b30ff4e2-e32d-4d88-b4c5-05580fd905e9",
   "metadata": {},
   "outputs": [
    {
     "data": {
      "text/html": [
       "<div style=\"width:100%;\"><div style=\"position:relative;width:100%;height:0;padding-bottom:60%;\"><span style=\"color:#565656\">Make this Notebook Trusted to load map: File -> Trust Notebook</span><iframe srcdoc=\"&lt;!DOCTYPE html&gt;\n",
       "&lt;html&gt;\n",
       "&lt;head&gt;\n",
       "    \n",
       "    &lt;meta http-equiv=&quot;content-type&quot; content=&quot;text/html; charset=UTF-8&quot; /&gt;\n",
       "    \n",
       "        &lt;script&gt;\n",
       "            L_NO_TOUCH = false;\n",
       "            L_DISABLE_3D = false;\n",
       "        &lt;/script&gt;\n",
       "    \n",
       "    &lt;style&gt;html, body {width: 100%;height: 100%;margin: 0;padding: 0;}&lt;/style&gt;\n",
       "    &lt;style&gt;#map {position:absolute;top:0;bottom:0;right:0;left:0;}&lt;/style&gt;\n",
       "    &lt;script src=&quot;https://cdn.jsdelivr.net/npm/leaflet@1.9.3/dist/leaflet.js&quot;&gt;&lt;/script&gt;\n",
       "    &lt;script src=&quot;https://code.jquery.com/jquery-1.12.4.min.js&quot;&gt;&lt;/script&gt;\n",
       "    &lt;script src=&quot;https://cdn.jsdelivr.net/npm/bootstrap@5.2.2/dist/js/bootstrap.bundle.min.js&quot;&gt;&lt;/script&gt;\n",
       "    &lt;script src=&quot;https://cdnjs.cloudflare.com/ajax/libs/Leaflet.awesome-markers/2.0.2/leaflet.awesome-markers.js&quot;&gt;&lt;/script&gt;\n",
       "    &lt;link rel=&quot;stylesheet&quot; href=&quot;https://cdn.jsdelivr.net/npm/leaflet@1.9.3/dist/leaflet.css&quot;/&gt;\n",
       "    &lt;link rel=&quot;stylesheet&quot; href=&quot;https://cdn.jsdelivr.net/npm/bootstrap@5.2.2/dist/css/bootstrap.min.css&quot;/&gt;\n",
       "    &lt;link rel=&quot;stylesheet&quot; href=&quot;https://netdna.bootstrapcdn.com/bootstrap/3.0.0/css/bootstrap.min.css&quot;/&gt;\n",
       "    &lt;link rel=&quot;stylesheet&quot; href=&quot;https://cdn.jsdelivr.net/npm/@fortawesome/fontawesome-free@6.2.0/css/all.min.css&quot;/&gt;\n",
       "    &lt;link rel=&quot;stylesheet&quot; href=&quot;https://cdnjs.cloudflare.com/ajax/libs/Leaflet.awesome-markers/2.0.2/leaflet.awesome-markers.css&quot;/&gt;\n",
       "    &lt;link rel=&quot;stylesheet&quot; href=&quot;https://cdn.jsdelivr.net/gh/python-visualization/folium/folium/templates/leaflet.awesome.rotate.min.css&quot;/&gt;\n",
       "    \n",
       "            &lt;meta name=&quot;viewport&quot; content=&quot;width=device-width,\n",
       "                initial-scale=1.0, maximum-scale=1.0, user-scalable=no&quot; /&gt;\n",
       "            &lt;style&gt;\n",
       "                #map_a58dc91f61b383bbe2e6934c9ea1e74c {\n",
       "                    position: relative;\n",
       "                    width: 100.0%;\n",
       "                    height: 100.0%;\n",
       "                    left: 0.0%;\n",
       "                    top: 0.0%;\n",
       "                }\n",
       "                .leaflet-container { font-size: 1rem; }\n",
       "            &lt;/style&gt;\n",
       "        \n",
       "    \n",
       "                    &lt;style&gt;\n",
       "                        .foliumtooltip {\n",
       "                            \n",
       "                        }\n",
       "                       .foliumtooltip table{\n",
       "                            margin: auto;\n",
       "                        }\n",
       "                        .foliumtooltip tr{\n",
       "                            text-align: left;\n",
       "                        }\n",
       "                        .foliumtooltip th{\n",
       "                            padding: 2px; padding-right: 8px;\n",
       "                        }\n",
       "                    &lt;/style&gt;\n",
       "            \n",
       "&lt;/head&gt;\n",
       "&lt;body&gt;\n",
       "    \n",
       "    \n",
       "            &lt;div class=&quot;folium-map&quot; id=&quot;map_a58dc91f61b383bbe2e6934c9ea1e74c&quot; &gt;&lt;/div&gt;\n",
       "        \n",
       "&lt;/body&gt;\n",
       "&lt;script&gt;\n",
       "    \n",
       "    \n",
       "            var map_a58dc91f61b383bbe2e6934c9ea1e74c = L.map(\n",
       "                &quot;map_a58dc91f61b383bbe2e6934c9ea1e74c&quot;,\n",
       "                {\n",
       "                    center: [37.527121550000004, 10.925999999999998],\n",
       "                    crs: L.CRS.EPSG3857,\n",
       "                    zoom: 10,\n",
       "                    zoomControl: true,\n",
       "                    preferCanvas: false,\n",
       "                }\n",
       "            );\n",
       "            L.control.scale().addTo(map_a58dc91f61b383bbe2e6934c9ea1e74c);\n",
       "\n",
       "            \n",
       "\n",
       "        \n",
       "    \n",
       "            var tile_layer_91721ed9c268f51fcdb24b12771f768c = L.tileLayer(\n",
       "                &quot;https://{s}.tile.openstreetmap.org/{z}/{x}/{y}.png&quot;,\n",
       "                {&quot;attribution&quot;: &quot;Data by \\u0026copy; \\u003ca target=\\&quot;_blank\\&quot; href=\\&quot;http://openstreetmap.org\\&quot;\\u003eOpenStreetMap\\u003c/a\\u003e, under \\u003ca target=\\&quot;_blank\\&quot; href=\\&quot;http://www.openstreetmap.org/copyright\\&quot;\\u003eODbL\\u003c/a\\u003e.&quot;, &quot;detectRetina&quot;: false, &quot;maxNativeZoom&quot;: 18, &quot;maxZoom&quot;: 18, &quot;minZoom&quot;: 0, &quot;noWrap&quot;: false, &quot;opacity&quot;: 1, &quot;subdomains&quot;: &quot;abc&quot;, &quot;tms&quot;: false}\n",
       "            ).addTo(map_a58dc91f61b383bbe2e6934c9ea1e74c);\n",
       "        \n",
       "    \n",
       "            map_a58dc91f61b383bbe2e6934c9ea1e74c.fitBounds(\n",
       "                [[37.3872431, 9.437], [37.667, 12.415]],\n",
       "                {}\n",
       "            );\n",
       "        \n",
       "    \n",
       "        function geo_json_ecde607705b05cebda0c6f078e53ccbd_styler(feature) {\n",
       "            switch(feature.id) {\n",
       "                default:\n",
       "                    return {&quot;fillOpacity&quot;: 0.5, &quot;weight&quot;: 2};\n",
       "            }\n",
       "        }\n",
       "        function geo_json_ecde607705b05cebda0c6f078e53ccbd_highlighter(feature) {\n",
       "            switch(feature.id) {\n",
       "                default:\n",
       "                    return {&quot;fillOpacity&quot;: 0.75};\n",
       "            }\n",
       "        }\n",
       "        function geo_json_ecde607705b05cebda0c6f078e53ccbd_pointToLayer(feature, latlng) {\n",
       "            var opts = {&quot;bubblingMouseEvents&quot;: true, &quot;color&quot;: &quot;#3388ff&quot;, &quot;dashArray&quot;: null, &quot;dashOffset&quot;: null, &quot;fill&quot;: true, &quot;fillColor&quot;: &quot;#3388ff&quot;, &quot;fillOpacity&quot;: 0.2, &quot;fillRule&quot;: &quot;evenodd&quot;, &quot;lineCap&quot;: &quot;round&quot;, &quot;lineJoin&quot;: &quot;round&quot;, &quot;opacity&quot;: 1.0, &quot;radius&quot;: 2, &quot;stroke&quot;: true, &quot;weight&quot;: 3};\n",
       "            \n",
       "            let style = geo_json_ecde607705b05cebda0c6f078e53ccbd_styler(feature)\n",
       "            Object.assign(opts, style)\n",
       "            \n",
       "            return new L.CircleMarker(latlng, opts)\n",
       "        }\n",
       "\n",
       "        function geo_json_ecde607705b05cebda0c6f078e53ccbd_onEachFeature(feature, layer) {\n",
       "            layer.on({\n",
       "                mouseout: function(e) {\n",
       "                    if(typeof e.target.setStyle === &quot;function&quot;){\n",
       "                        geo_json_ecde607705b05cebda0c6f078e53ccbd.resetStyle(e.target);\n",
       "                    }\n",
       "                },\n",
       "                mouseover: function(e) {\n",
       "                    if(typeof e.target.setStyle === &quot;function&quot;){\n",
       "                        const highlightStyle = geo_json_ecde607705b05cebda0c6f078e53ccbd_highlighter(e.target.feature)\n",
       "                        e.target.setStyle(highlightStyle);\n",
       "                    }\n",
       "                },\n",
       "            });\n",
       "        };\n",
       "        var geo_json_ecde607705b05cebda0c6f078e53ccbd = L.geoJson(null, {\n",
       "                onEachFeature: geo_json_ecde607705b05cebda0c6f078e53ccbd_onEachFeature,\n",
       "            \n",
       "                style: geo_json_ecde607705b05cebda0c6f078e53ccbd_styler,\n",
       "                pointToLayer: geo_json_ecde607705b05cebda0c6f078e53ccbd_pointToLayer\n",
       "        });\n",
       "\n",
       "        function geo_json_ecde607705b05cebda0c6f078e53ccbd_add (data) {\n",
       "            geo_json_ecde607705b05cebda0c6f078e53ccbd\n",
       "                .addData(data)\n",
       "                .addTo(map_a58dc91f61b383bbe2e6934c9ea1e74c);\n",
       "        }\n",
       "            geo_json_ecde607705b05cebda0c6f078e53ccbd_add({&quot;bbox&quot;: [9.437, 37.3872431, 12.415, 37.667], &quot;features&quot;: [{&quot;bbox&quot;: [11.715339790563805, 37.52821254396468, 12.415, 37.667], &quot;geometry&quot;: {&quot;coordinates&quot;: [[12.415, 37.667], [11.715339790563805, 37.52821254396468]], &quot;type&quot;: &quot;LineString&quot;}, &quot;id&quot;: &quot;0&quot;, &quot;properties&quot;: {}, &quot;type&quot;: &quot;Feature&quot;}, {&quot;bbox&quot;: [11.3402474, 37.3872431, 11.715339790563805, 37.52821254396468], &quot;geometry&quot;: {&quot;coordinates&quot;: [[11.715339790563805, 37.52821254396468], [11.3402474, 37.3872431]], &quot;type&quot;: &quot;LineString&quot;}, &quot;id&quot;: &quot;1&quot;, &quot;properties&quot;: {}, &quot;type&quot;: &quot;Feature&quot;}, {&quot;bbox&quot;: [11.1899247, 37.3872431, 11.3402474, 37.4561747], &quot;geometry&quot;: {&quot;coordinates&quot;: [[11.3402474, 37.3872431], [11.1899247, 37.4561747]], &quot;type&quot;: &quot;LineString&quot;}, &quot;id&quot;: &quot;2&quot;, &quot;properties&quot;: {}, &quot;type&quot;: &quot;Feature&quot;}, {&quot;bbox&quot;: [10.917762243471175, 37.4082425392635, 11.1899247, 37.4561747], &quot;geometry&quot;: {&quot;coordinates&quot;: [[11.1899247, 37.4561747], [10.917762243471175, 37.4082425392635]], &quot;type&quot;: &quot;LineString&quot;}, &quot;id&quot;: &quot;3&quot;, &quot;properties&quot;: {}, &quot;type&quot;: &quot;Feature&quot;}, {&quot;bbox&quot;: [10.078227581932445, 37.4082425392635, 10.917762243471175, 37.423535743498356], &quot;geometry&quot;: {&quot;coordinates&quot;: [[10.917762243471175, 37.4082425392635], [10.078227581932445, 37.423535743498356]], &quot;type&quot;: &quot;LineString&quot;}, &quot;id&quot;: &quot;4&quot;, &quot;properties&quot;: {}, &quot;type&quot;: &quot;Feature&quot;}, {&quot;bbox&quot;: [9.437, 37.423535743498356, 10.078227581932445, 37.5555], &quot;geometry&quot;: {&quot;coordinates&quot;: [[10.078227581932445, 37.423535743498356], [9.437, 37.5555]], &quot;type&quot;: &quot;LineString&quot;}, &quot;id&quot;: &quot;5&quot;, &quot;properties&quot;: {}, &quot;type&quot;: &quot;Feature&quot;}], &quot;type&quot;: &quot;FeatureCollection&quot;});\n",
       "\n",
       "        \n",
       "    \n",
       "    geo_json_ecde607705b05cebda0c6f078e53ccbd.bindTooltip(\n",
       "    function(layer){\n",
       "    let div = L.DomUtil.create(&#x27;div&#x27;);\n",
       "    \n",
       "    return div\n",
       "    }\n",
       "    ,{&quot;className&quot;: &quot;foliumtooltip&quot;, &quot;sticky&quot;: true});\n",
       "                     \n",
       "&lt;/script&gt;\n",
       "&lt;/html&gt;\" style=\"position:absolute;width:100%;height:100%;left:0;top:0;border:none !important;\" allowfullscreen webkitallowfullscreen mozallowfullscreen></iframe></div></div>"
      ],
      "text/plain": [
       "<folium.folium.Map at 0x2d2d638f790>"
      ]
     },
     "execution_count": 83,
     "metadata": {},
     "output_type": "execute_result"
    }
   ],
   "source": [
    "final_route.explore()"
   ]
  },
  {
   "cell_type": "code",
   "execution_count": 84,
   "id": "90362472-9f33-409b-a71f-0c6861eef718",
   "metadata": {},
   "outputs": [
    {
     "data": {
      "image/png": "[encoded data removed]",
      "text/plain": [
       "<Figure size 1000x1000 with 1 Axes>"
      ]
     },
     "metadata": {},
     "output_type": "display_data"
    }
   ],
   "source": [
    "fig, ax = plt.subplots(figsize=(10,10))\n",
    "segments_before_df.plot(ax=ax, color='blue',alpha=0.7,label='segments before 1st intersection', linewidth=4)\n",
    "segments_after.plot(ax=ax, color='blue',label='segments after last intersection',  linewidth=4)\n",
    "seamark_gdf.plot(ax=ax, color='purple', alpha=0.4, label='seamark')\n",
    "\n",
    "gdf_ways.plot(ax=ax,  color='c',alpha=0.3, label='Seperation Lane',  linewidth=5)\n",
    "\n",
    "p.plot(ax=ax, color='yellow', label='starting and ending of correcting segment' )\n",
    "final_route.plot(ax=ax, color = 'red',linestyle='dashed', label='Final Route', linewidth=1.5)\n",
    "\n",
    "#ax.legend()\n",
    "plt.show()\n",
    "#plt.savefig( 'C:/Users/Maneesha/Documents/52N/TSS/Case1/routes_final.png')"
   ]
  },
  {
   "cell_type": "code",
   "execution_count": null,
   "id": "193031ae-3537-4d54-a534-9bcd5504c19c",
   "metadata": {},
   "outputs": [],
   "source": []
  }
 ],
 "metadata": {
  "kernelspec": {
   "display_name": "Python 3 (ipykernel)",
   "language": "python",
   "name": "python3"
  },
  "language_info": {
   "codemirror_mode": {
    "name": "ipython",
    "version": 3
   },
   "file_extension": ".py",
   "mimetype": "text/x-python",
   "name": "python",
   "nbconvert_exporter": "python",
   "pygments_lexer": "ipython3",
   "version": "3.9.18"
  }
 },
 "nbformat": 4,
 "nbformat_minor": 5
}
