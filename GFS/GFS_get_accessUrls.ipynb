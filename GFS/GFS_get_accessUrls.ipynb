{
 "cells": [
  {
   "cell_type": "markdown",
   "metadata": {},
   "source": [
    "## GFS access Urls\n",
    "\n"
   ]
  },
  {
   "cell_type": "code",
   "execution_count": 1,
   "metadata": {
    "ExecuteTime": {
     "end_time": "2021-03-11T11:39:08.370661Z",
     "start_time": "2021-03-11T11:39:08.232603Z"
    }
   },
   "outputs": [
    {
     "data": {
      "application/javascript": [
       "\n",
       "            setTimeout(function() {\n",
       "                var nbb_cell_id = 1;\n",
       "                var nbb_unformatted_code = \"from siphon.catalog import TDSCatalog\\n\\n\\n# for autocompletion disable the autocompletion tool 'jedi'\\n%config Completer.use_jedi = False\\n\\n\\n# formatter\\n%load_ext nb_black\";\n",
       "                var nbb_formatted_code = \"from siphon.catalog import TDSCatalog\\n\\n\\n# for autocompletion disable the autocompletion tool 'jedi'\\n%config Completer.use_jedi = False\\n\\n\\n# formatter\\n%load_ext nb_black\";\n",
       "                var nbb_cells = Jupyter.notebook.get_cells();\n",
       "                for (var i = 0; i < nbb_cells.length; ++i) {\n",
       "                    if (nbb_cells[i].input_prompt_number == nbb_cell_id) {\n",
       "                        if (nbb_cells[i].get_text() == nbb_unformatted_code) {\n",
       "                             nbb_cells[i].set_text(nbb_formatted_code);\n",
       "                        }\n",
       "                        break;\n",
       "                    }\n",
       "                }\n",
       "            }, 500);\n",
       "            "
      ],
      "text/plain": [
       "<IPython.core.display.Javascript object>"
      ]
     },
     "metadata": {},
     "output_type": "display_data"
    }
   ],
   "source": [
    "from siphon.catalog import TDSCatalog\n",
    "\n",
    "\n",
    "# for autocompletion disable the autocompletion tool 'jedi'\n",
    "%config Completer.use_jedi = False\n",
    "\n",
    "\n",
    "# formatter\n",
    "%load_ext nb_black"
   ]
  },
  {
   "cell_type": "code",
   "execution_count": 2,
   "metadata": {
    "ExecuteTime": {
     "end_time": "2021-03-11T11:39:10.232442Z",
     "start_time": "2021-03-11T11:39:08.371858Z"
    }
   },
   "outputs": [
    {
     "data": {
      "text/plain": [
       "['Forecast Model Data', 'Forecast Products and Analyses', 'Observation Data', 'Radar Data', 'Satellite Data', 'Unidata case studies']"
      ]
     },
     "execution_count": 2,
     "metadata": {},
     "output_type": "execute_result"
    },
    {
     "data": {
      "application/javascript": [
       "\n",
       "            setTimeout(function() {\n",
       "                var nbb_cell_id = 2;\n",
       "                var nbb_unformatted_code = \"# Catalog https://thredds.ucar.edu/thredds/catalog/grib/NCEP/GFS/Global_0p25deg/catalog.html\\ncatalog = TDSCatalog(catalog_url=\\\"http://thredds.ucar.edu/thredds/catalog.xml\\\")\\ncatalog.catalog_refs\";\n",
       "                var nbb_formatted_code = \"# Catalog https://thredds.ucar.edu/thredds/catalog/grib/NCEP/GFS/Global_0p25deg/catalog.html\\ncatalog = TDSCatalog(catalog_url=\\\"http://thredds.ucar.edu/thredds/catalog.xml\\\")\\ncatalog.catalog_refs\";\n",
       "                var nbb_cells = Jupyter.notebook.get_cells();\n",
       "                for (var i = 0; i < nbb_cells.length; ++i) {\n",
       "                    if (nbb_cells[i].input_prompt_number == nbb_cell_id) {\n",
       "                        if (nbb_cells[i].get_text() == nbb_unformatted_code) {\n",
       "                             nbb_cells[i].set_text(nbb_formatted_code);\n",
       "                        }\n",
       "                        break;\n",
       "                    }\n",
       "                }\n",
       "            }, 500);\n",
       "            "
      ],
      "text/plain": [
       "<IPython.core.display.Javascript object>"
      ]
     },
     "metadata": {},
     "output_type": "display_data"
    }
   ],
   "source": [
    "# Catalog https://thredds.ucar.edu/thredds/catalog/grib/NCEP/GFS/Global_0p25deg/catalog.html\n",
    "catalog = TDSCatalog(catalog_url=\"http://thredds.ucar.edu/thredds/catalog.xml\")\n",
    "catalog.catalog_refs"
   ]
  },
  {
   "cell_type": "code",
   "execution_count": 3,
   "metadata": {
    "ExecuteTime": {
     "end_time": "2021-03-11T11:39:11.683818Z",
     "start_time": "2021-03-11T11:39:10.234808Z"
    }
   },
   "outputs": [
    {
     "data": {
      "text/plain": [
       "Unidata THREDDS Data Server - NCEP models"
      ]
     },
     "execution_count": 3,
     "metadata": {},
     "output_type": "execute_result"
    },
    {
     "data": {
      "application/javascript": [
       "\n",
       "            setTimeout(function() {\n",
       "                var nbb_cell_id = 3;\n",
       "                var nbb_unformatted_code = \"lala = catalog.catalog_refs[0]\\nnewCat = lala.follow()\\nnewCat\";\n",
       "                var nbb_formatted_code = \"lala = catalog.catalog_refs[0]\\nnewCat = lala.follow()\\nnewCat\";\n",
       "                var nbb_cells = Jupyter.notebook.get_cells();\n",
       "                for (var i = 0; i < nbb_cells.length; ++i) {\n",
       "                    if (nbb_cells[i].input_prompt_number == nbb_cell_id) {\n",
       "                        if (nbb_cells[i].get_text() == nbb_unformatted_code) {\n",
       "                             nbb_cells[i].set_text(nbb_formatted_code);\n",
       "                        }\n",
       "                        break;\n",
       "                    }\n",
       "                }\n",
       "            }, 500);\n",
       "            "
      ],
      "text/plain": [
       "<IPython.core.display.Javascript object>"
      ]
     },
     "metadata": {},
     "output_type": "display_data"
    }
   ],
   "source": [
    "lala = catalog.catalog_refs[0]\n",
    "newCat = lala.follow()\n",
    "newCat"
   ]
  },
  {
   "cell_type": "code",
   "execution_count": 4,
   "metadata": {
    "ExecuteTime": {
     "end_time": "2021-03-11T11:39:11.694527Z",
     "start_time": "2021-03-11T11:39:11.686007Z"
    }
   },
   "outputs": [
    {
     "data": {
      "text/plain": [
       "['GEFS Members - Analysis', 'GEFS Members - Forecasts', 'GEFS Derived Forecast Products', 'GFS Quarter Degree Analysis', 'GFS Quarter Degree Forecast', 'GFS Half Degree Analysis', 'GFS Half Degree Forecast', 'GFS One Degree Analysis', 'GFS One Degree Forecast', 'GFS Global 1.0 Degree (NOAAPORT)', 'GFS Pacific 20km', 'GFS Puerto Rico Quarter Degree', 'GFS CONUS 80km', 'GFS CONUS 20km', 'GFS Alaska 20km', 'GSD HRRR CONUS 3km wrfprs', 'GSD HRRR CONUS 3km surface', 'NCEP HRRR CONUS 2.5km Analysis', 'NCEP HRRR CONUS 2.5km', 'NAM Alaska 11km', 'NAM Alaska 45km from NOAAPORT', 'NAM Alaska 45km from CONDUIT', 'NAM Alaska 95km', 'NAM CONUS 12km from NOAAPORT', 'NAM CONUS 12km from CONDUIT', 'NAM CONUS 20km', 'NAM CONUS 40km', 'NAM CONUS 80km', 'NAM Polar 90km', 'NAM Fireweather Nested', 'Rapid Refresh CONUS 13km', 'Rapid Refresh CONUS 20km', 'Rapid Refresh CONUS 40km', 'SREF CONUS 40km Ensemble Derived Products', 'SREF CONUS 40km Ensemble Derived Products (Bias Corrected)', 'SREF Alaska 45km Ensemble Derived Products', 'SREF Pacific North East 0.4 Degree Ensemble Derived Products', 'Wave Watch III Global', 'Wave Watch III Regional Alaska', 'Wave Watch III Coastal Alaska', 'Wave Watch III Regional Eastern Pacific', 'Wave Watch III Regional US East Coast', 'Wave Watch III Regional US West Coast', 'Wave Watch III Coastal US East Coast', 'Wave Watch III Coastal US West Coast', 'RDPS North America 15km', 'FNMOC NAVGEM Global 0.5 Degree', 'FNMOC WW3 Global 1.0 Degree', 'FNMOC WW3 Europe', 'FNMOC FAROP Global 1.0 Degree', 'FNMOC COAMPS Western Atlantic', 'FNMOC COAMPS Europe', 'FNMOC COAMPS Equatorial America', 'FNMOC COAMPS Northeast Pacific', 'FNMOC COAMPS Southern California', 'FNMOC NCODA Global Ocean']"
      ]
     },
     "execution_count": 4,
     "metadata": {},
     "output_type": "execute_result"
    },
    {
     "data": {
      "application/javascript": [
       "\n",
       "            setTimeout(function() {\n",
       "                var nbb_cell_id = 4;\n",
       "                var nbb_unformatted_code = \"newCat2 = newCat.catalog_refs\\nnewCat2\";\n",
       "                var nbb_formatted_code = \"newCat2 = newCat.catalog_refs\\nnewCat2\";\n",
       "                var nbb_cells = Jupyter.notebook.get_cells();\n",
       "                for (var i = 0; i < nbb_cells.length; ++i) {\n",
       "                    if (nbb_cells[i].input_prompt_number == nbb_cell_id) {\n",
       "                        if (nbb_cells[i].get_text() == nbb_unformatted_code) {\n",
       "                             nbb_cells[i].set_text(nbb_formatted_code);\n",
       "                        }\n",
       "                        break;\n",
       "                    }\n",
       "                }\n",
       "            }, 500);\n",
       "            "
      ],
      "text/plain": [
       "<IPython.core.display.Javascript object>"
      ]
     },
     "metadata": {},
     "output_type": "display_data"
    }
   ],
   "source": [
    "newCat2 = newCat.catalog_refs\n",
    "newCat2"
   ]
  },
  {
   "cell_type": "code",
   "execution_count": 5,
   "metadata": {
    "ExecuteTime": {
     "end_time": "2021-03-11T11:39:14.327085Z",
     "start_time": "2021-03-11T11:39:11.697755Z"
    }
   },
   "outputs": [
    {
     "data": {
      "text/plain": [
       "['Full Collection (Reference / Forecast Time) Dataset', 'Best GFS Quarter Degree Forecast Time Series', 'Latest Collection for GFS Quarter Degree Forecast']"
      ]
     },
     "execution_count": 5,
     "metadata": {},
     "output_type": "execute_result"
    },
    {
     "data": {
      "application/javascript": [
       "\n",
       "            setTimeout(function() {\n",
       "                var nbb_cell_id = 5;\n",
       "                var nbb_unformatted_code = \"GFS_025_ref = newCat2.get(\\\"GFS Quarter Degree Forecast\\\")\\nGFS_025 = GFS_025_ref.follow()\\nGFS_025.datasets\";\n",
       "                var nbb_formatted_code = \"GFS_025_ref = newCat2.get(\\\"GFS Quarter Degree Forecast\\\")\\nGFS_025 = GFS_025_ref.follow()\\nGFS_025.datasets\";\n",
       "                var nbb_cells = Jupyter.notebook.get_cells();\n",
       "                for (var i = 0; i < nbb_cells.length; ++i) {\n",
       "                    if (nbb_cells[i].input_prompt_number == nbb_cell_id) {\n",
       "                        if (nbb_cells[i].get_text() == nbb_unformatted_code) {\n",
       "                             nbb_cells[i].set_text(nbb_formatted_code);\n",
       "                        }\n",
       "                        break;\n",
       "                    }\n",
       "                }\n",
       "            }, 500);\n",
       "            "
      ],
      "text/plain": [
       "<IPython.core.display.Javascript object>"
      ]
     },
     "metadata": {},
     "output_type": "display_data"
    }
   ],
   "source": [
    "GFS_025_ref = newCat2.get(\"GFS Quarter Degree Forecast\")\n",
    "GFS_025 = GFS_025_ref.follow()\n",
    "GFS_025.datasets"
   ]
  },
  {
   "cell_type": "code",
   "execution_count": 6,
   "metadata": {
    "ExecuteTime": {
     "end_time": "2021-03-11T11:39:14.339702Z",
     "start_time": "2021-03-11T11:39:14.328991Z"
    }
   },
   "outputs": [
    {
     "data": {
      "text/plain": [
       "{'OPENDAP': 'https://thredds.ucar.edu/thredds/dodsC/grib/NCEP/GFS/Global_0p25deg/Best',\n",
       " 'WCS': 'https://thredds.ucar.edu/thredds/wcs/grib/NCEP/GFS/Global_0p25deg/Best',\n",
       " 'WMS': 'https://thredds.ucar.edu/thredds/wms/grib/NCEP/GFS/Global_0p25deg/Best',\n",
       " 'NetcdfSubset': 'https://thredds.ucar.edu/thredds/ncss/grib/NCEP/GFS/Global_0p25deg/Best',\n",
       " 'CdmRemote': 'https://thredds.ucar.edu/thredds/cdmremote/grib/NCEP/GFS/Global_0p25deg/Best',\n",
       " 'NCML': 'https://thredds.ucar.edu/thredds/ncml/grib/NCEP/GFS/Global_0p25deg/Best',\n",
       " 'UDDC': 'https://thredds.ucar.edu/thredds/uddc/grib/NCEP/GFS/Global_0p25deg/Best',\n",
       " 'ISO': 'https://thredds.ucar.edu/thredds/iso/grib/NCEP/GFS/Global_0p25deg/Best'}"
      ]
     },
     "execution_count": 6,
     "metadata": {},
     "output_type": "execute_result"
    },
    {
     "data": {
      "application/javascript": [
       "\n",
       "            setTimeout(function() {\n",
       "                var nbb_cell_id = 6;\n",
       "                var nbb_unformatted_code = \"GFS_025_best = GFS_025.datasets[1]\\nGFS_025_best.access_urls\";\n",
       "                var nbb_formatted_code = \"GFS_025_best = GFS_025.datasets[1]\\nGFS_025_best.access_urls\";\n",
       "                var nbb_cells = Jupyter.notebook.get_cells();\n",
       "                for (var i = 0; i < nbb_cells.length; ++i) {\n",
       "                    if (nbb_cells[i].input_prompt_number == nbb_cell_id) {\n",
       "                        if (nbb_cells[i].get_text() == nbb_unformatted_code) {\n",
       "                             nbb_cells[i].set_text(nbb_formatted_code);\n",
       "                        }\n",
       "                        break;\n",
       "                    }\n",
       "                }\n",
       "            }, 500);\n",
       "            "
      ],
      "text/plain": [
       "<IPython.core.display.Javascript object>"
      ]
     },
     "metadata": {},
     "output_type": "display_data"
    }
   ],
   "source": [
    "GFS_025_best = GFS_025.datasets[1]\n",
    "GFS_025_best.access_urls"
   ]
  },
  {
   "cell_type": "code",
   "execution_count": 10,
   "metadata": {
    "ExecuteTime": {
     "end_time": "2021-03-11T11:40:12.902069Z",
     "start_time": "2021-03-11T11:40:08.327823Z"
    }
   },
   "outputs": [
    {
     "data": {
      "text/plain": [
       "Best GFS Quarter Degree Forecast Time Series"
      ]
     },
     "execution_count": 10,
     "metadata": {},
     "output_type": "execute_result"
    },
    {
     "data": {
      "application/javascript": [
       "\n",
       "            setTimeout(function() {\n",
       "                var nbb_cell_id = 10;\n",
       "                var nbb_unformatted_code = \"best_gfs = TDSCatalog(\\n    catalog_url=\\\"http://thredds.ucar.edu/thredds/catalog/grib/NCEP/GFS/\\\"\\n    \\\"Global_0p25deg/catalog.xml\\\"\\n)\\nbest_gfs.datasets[1]\";\n",
       "                var nbb_formatted_code = \"best_gfs = TDSCatalog(\\n    catalog_url=\\\"http://thredds.ucar.edu/thredds/catalog/grib/NCEP/GFS/\\\"\\n    \\\"Global_0p25deg/catalog.xml\\\"\\n)\\nbest_gfs.datasets[1]\";\n",
       "                var nbb_cells = Jupyter.notebook.get_cells();\n",
       "                for (var i = 0; i < nbb_cells.length; ++i) {\n",
       "                    if (nbb_cells[i].input_prompt_number == nbb_cell_id) {\n",
       "                        if (nbb_cells[i].get_text() == nbb_unformatted_code) {\n",
       "                             nbb_cells[i].set_text(nbb_formatted_code);\n",
       "                        }\n",
       "                        break;\n",
       "                    }\n",
       "                }\n",
       "            }, 500);\n",
       "            "
      ],
      "text/plain": [
       "<IPython.core.display.Javascript object>"
      ]
     },
     "metadata": {},
     "output_type": "display_data"
    }
   ],
   "source": [
    "best_gfs = TDSCatalog(\n",
    "    catalog_url=\"http://thredds.ucar.edu/thredds/catalog/grib/NCEP/GFS/\"\n",
    "    \"Global_0p25deg/catalog.xml\"\n",
    ")\n",
    "best_gfs"
   ]
  },
  {
   "cell_type": "code",
   "execution_count": 11,
   "metadata": {
    "ExecuteTime": {
     "end_time": "2021-03-11T11:40:45.496472Z",
     "start_time": "2021-03-11T11:40:45.479627Z"
    }
   },
   "outputs": [
    {
     "data": {
      "application/javascript": [
       "\n",
       "            setTimeout(function() {\n",
       "                var nbb_cell_id = 11;\n",
       "                var nbb_unformatted_code = \"bestDS= best_gfs.datasets[1]\";\n",
       "                var nbb_formatted_code = \"bestDS = best_gfs.datasets[1]\";\n",
       "                var nbb_cells = Jupyter.notebook.get_cells();\n",
       "                for (var i = 0; i < nbb_cells.length; ++i) {\n",
       "                    if (nbb_cells[i].input_prompt_number == nbb_cell_id) {\n",
       "                        if (nbb_cells[i].get_text() == nbb_unformatted_code) {\n",
       "                             nbb_cells[i].set_text(nbb_formatted_code);\n",
       "                        }\n",
       "                        break;\n",
       "                    }\n",
       "                }\n",
       "            }, 500);\n",
       "            "
      ],
      "text/plain": [
       "<IPython.core.display.Javascript object>"
      ]
     },
     "metadata": {},
     "output_type": "display_data"
    }
   ],
   "source": [
    "bestDS = best_gfs.datasets[1]"
   ]
  },
  {
   "cell_type": "code",
   "execution_count": 13,
   "metadata": {
    "ExecuteTime": {
     "end_time": "2021-03-11T11:40:59.903538Z",
     "start_time": "2021-03-11T11:40:59.879174Z"
    }
   },
   "outputs": [
    {
     "data": {
      "text/plain": [
       "{'OPENDAP': 'https://thredds.ucar.edu/thredds/dodsC/grib/NCEP/GFS/Global_0p25deg/Best',\n",
       " 'WCS': 'https://thredds.ucar.edu/thredds/wcs/grib/NCEP/GFS/Global_0p25deg/Best',\n",
       " 'WMS': 'https://thredds.ucar.edu/thredds/wms/grib/NCEP/GFS/Global_0p25deg/Best',\n",
       " 'NetcdfSubset': 'https://thredds.ucar.edu/thredds/ncss/grib/NCEP/GFS/Global_0p25deg/Best',\n",
       " 'CdmRemote': 'https://thredds.ucar.edu/thredds/cdmremote/grib/NCEP/GFS/Global_0p25deg/Best',\n",
       " 'NCML': 'https://thredds.ucar.edu/thredds/ncml/grib/NCEP/GFS/Global_0p25deg/Best',\n",
       " 'UDDC': 'https://thredds.ucar.edu/thredds/uddc/grib/NCEP/GFS/Global_0p25deg/Best',\n",
       " 'ISO': 'https://thredds.ucar.edu/thredds/iso/grib/NCEP/GFS/Global_0p25deg/Best'}"
      ]
     },
     "execution_count": 13,
     "metadata": {},
     "output_type": "execute_result"
    },
    {
     "data": {
      "application/javascript": [
       "\n",
       "            setTimeout(function() {\n",
       "                var nbb_cell_id = 13;\n",
       "                var nbb_unformatted_code = \"bestDS.access_urls\";\n",
       "                var nbb_formatted_code = \"bestDS.access_urls\";\n",
       "                var nbb_cells = Jupyter.notebook.get_cells();\n",
       "                for (var i = 0; i < nbb_cells.length; ++i) {\n",
       "                    if (nbb_cells[i].input_prompt_number == nbb_cell_id) {\n",
       "                        if (nbb_cells[i].get_text() == nbb_unformatted_code) {\n",
       "                             nbb_cells[i].set_text(nbb_formatted_code);\n",
       "                        }\n",
       "                        break;\n",
       "                    }\n",
       "                }\n",
       "            }, 500);\n",
       "            "
      ],
      "text/plain": [
       "<IPython.core.display.Javascript object>"
      ]
     },
     "metadata": {},
     "output_type": "display_data"
    }
   ],
   "source": [
    "bestDS.access_urls"
   ]
  },
  {
   "cell_type": "code",
   "execution_count": null,
   "metadata": {},
   "outputs": [],
   "source": []
  }
 ],
 "metadata": {
  "kernelspec": {
   "display_name": "query_gfs",
   "language": "python",
   "name": "query_gfs"
  },
  "language_info": {
   "codemirror_mode": {
    "name": "ipython",
    "version": 3
   },
   "file_extension": ".py",
   "mimetype": "text/x-python",
   "name": "python",
   "nbconvert_exporter": "python",
   "pygments_lexer": "ipython3",
   "version": "3.8.5"
  }
 },
 "nbformat": 4,
 "nbformat_minor": 4
}
