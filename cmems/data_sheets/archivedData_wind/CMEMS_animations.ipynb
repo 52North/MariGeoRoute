{
 "cells": [
  {
   "cell_type": "code",
   "execution_count": null,
   "metadata": {
    "ExecuteTime": {
     "end_time": "2021-02-01T14:25:31.101608Z",
     "start_time": "2021-02-01T14:25:30.461785Z"
    }
   },
   "outputs": [],
   "source": [
    "import cartopy.crs as ccrs\n",
    "import numpy as np\n",
    "import xarray as xr\n",
    "import matplotlib.pyplot as plt\n",
    "\n",
    "# import netCDF4\n",
    "\n",
    "# open a local NetCDF file or remote OPeNDAP URL\n",
    "path = \"/home/imke/Desktop/MariData/Data/CMEMS/wind_speed/CERSAT-GLO-BLENDED_WIND_L4-V6-OBS_FULL_TIME_SERIE_1612188011738.nc\"\n",
    "wind = xr.open_dataset(path)\n",
    "\n",
    "# for autocompletion disable the autocompletion tool 'jedi'\n",
    "%config Completer.use_jedi = False\n",
    "\n",
    "# formatter\n",
    "%load_ext nb_black\n",
    "\n",
    "# examine the variables\n",
    "wind\n",
    "# nc.variables['z']\n",
    "\n",
    "# sample every 10th point of the 'z' variable\n",
    "# topo = nc.variables['z'][::10,::10]\n",
    "\n",
    "# make image\n",
    "# plt.figure(figsize=(10,10))\n",
    "# plt.imshow(topo,origin='lower')\n",
    "# plt.title(nc.title)\n",
    "# plt.savefig('image.png', bbox_inches=0)"
   ]
  },
  {
   "cell_type": "code",
   "execution_count": null,
   "metadata": {
    "ExecuteTime": {
     "end_time": "2021-02-01T14:25:57.224235Z",
     "start_time": "2021-02-01T14:25:57.210455Z"
    }
   },
   "outputs": [],
   "source": [
    "# fig = plt.figure(figsize=(20, 10))\n",
    "# ax = plt.axes(projection=ccrs.Orthographic())\n",
    "# ax.coastlines()\n",
    "# # ax.add_feature(cfeature.LAKES)\n",
    "# ax.set_extent([-45, 55, 20, 80], ccrs.PlateCarree())\n",
    "# p = wind.wind_stress_curl.isel(time=2).plot(\n",
    "#     transform=ccrs.PlateCarree(), robust=True, cmap=\"RdBu_r\", vmin=-4e-7, vmax=4e-7\n",
    "# )"
   ]
  },
  {
   "cell_type": "code",
   "execution_count": null,
   "metadata": {
    "ExecuteTime": {
     "end_time": "2021-02-01T14:40:52.287074Z",
     "start_time": "2021-02-01T14:40:52.278950Z"
    }
   },
   "outputs": [],
   "source": [
    "# timemoments = len(wind.time.values)\n",
    "\n",
    "# frameNr = list(range(0, timemoments))\n",
    "\n",
    "# for number in frameNr:\n",
    "#     fig = plt.figure(figsize=(20, 10))\n",
    "#     # fig.suptitle(\"{variable}\".format(variable=v.name))\n",
    "#     ax = plt.axes(projection=ccrs.Robinson())\n",
    "#     ax.coastlines()\n",
    "#     p = wind.wind_speed.isel(time=number).plot(\n",
    "#         transform=ccrs.PlateCarree(), robust=True, cmap=\"viridis\", vmin=0, vmax=20\n",
    "#     )\n",
    "#     plt.savefig(\"/home/imke/Desktop/MariData/Data/CMEMS/wind_speed/{nr}.png\".format(nr=number+1), bbox_inches=0)\n",
    "    \n"
   ]
  },
  {
   "cell_type": "code",
   "execution_count": null,
   "metadata": {
    "ExecuteTime": {
     "end_time": "2021-02-01T12:49:29.984044Z",
     "start_time": "2021-02-01T12:49:24.229995Z"
    }
   },
   "outputs": [],
   "source": [
    "\n",
    "fig = plt.figure(figsize=(20, 10))\n",
    "ax = plt.axes(projection=ccrs.Robinson())\n",
    "ax.coastlines()\n",
    "p = wind.wind_speed.isel(time=6).plot(\n",
    "    transform=ccrs.PlateCarree(), robust=True, cmap=\"viridis\", vmin=0, vmax=20\n",
    ")\n",
    "plt.savefig(\"/home/imke/Desktop/MariData/Data/CMEMS/7.png\", bbox_inches=0)"
   ]
  },
  {
   "cell_type": "code",
   "execution_count": null,
   "metadata": {
    "ExecuteTime": {
     "end_time": "2021-02-01T12:43:20.544207Z",
     "start_time": "2021-02-01T12:43:20.539459Z"
    }
   },
   "outputs": [],
   "source": [
    "# fig = plt.figure(figsize=(20, 10))\n",
    "# ax = plt.axes(projection=ccrs.Robinson())\n",
    "# ax.coastlines()\n",
    "# p = wind.wind_vector_curl.isel(time=0).plot(\n",
    "#     transform=ccrs.PlateCarree(), robust=True, cmap=\"RdBu_r\"  # , vmin=-4e-7, vmax=4e-7\n",
    "# )\n",
    "# plt.savefig(\"/home/imke/Desktop/MariData/Data/CMEMS/image.png\", bbox_inches=0)\n",
    "\n",
    "\n"
   ]
  },
  {
   "cell_type": "code",
   "execution_count": null,
   "metadata": {
    "ExecuteTime": {
     "end_time": "2021-02-01T15:26:30.088236Z",
     "start_time": "2021-02-01T15:26:25.579269Z"
    }
   },
   "outputs": [],
   "source": [
    "import os\n",
    "from PIL import Image\n",
    "\n",
    "fp_in = \"/home/imke/Desktop/MariData/Data/CMEMS/wind_speed/\"\n",
    "fp_out = \"/home/imke/Desktop/MariData/Data/CMEMS/wind_speed/wind_speed.gif\"\n",
    "\n",
    "os.chdir(\"/home/imke/Desktop/MariData/Data/CMEMS/wind_speed\")\n",
    "\n",
    "img, *imgs = [\n",
    "    Image.open(f) for f in sorted(l, key=lambda x: int(os.path.splitext(x)[0]))\n",
    "]  \n",
    "img.save(fp=fp_out, format='GIF', append_images=imgs,\n",
    "         save_all=True, duration=120)#, loop=0)\n"
   ]
  },
  {
   "cell_type": "code",
   "execution_count": null,
   "metadata": {
    "ExecuteTime": {
     "end_time": "2021-02-01T15:30:59.943308Z",
     "start_time": "2021-02-01T15:30:58.670879Z"
    }
   },
   "outputs": [],
   "source": [
    "fig = plt.figure(figsize=(20, 10))\n",
    "ax1 = plt.axes(projection=ccrs.Orthographic())\n",
    "ax1.coastlines()\n",
    "# ax.add_feature(cfeature.LAKES)\n",
    "ax1.set_extent([-45, 55, 20, 80], ccrs.PlateCarree())\n",
    "p = wind.wind_speed.isel(time=2).plot(\n",
    "    transform=ccrs.PlateCarree(), robust=True, cmap=\"RdBu_r\", vmin=0, vmax=16\n",
    ")\n",
    "\n",
    "ax2 = plt.axes(projection=ccrs.Robinson())\n",
    "ax2.coastlines()\n",
    "p = wind.wind_speed.isel(time=6).plot(\n",
    "    transform=ccrs.PlateCarree(), robust=True, cmap=\"viridis\", vmin=0, vmax=20\n",
    ")\n",
    "plt.savefig(\"/home/imke/Desktop/MariData/Data/CMEMS/7.png\", bbox_inches=0)"
   ]
  },
  {
   "cell_type": "code",
   "execution_count": null,
   "metadata": {
    "ExecuteTime": {
     "end_time": "2021-02-01T15:22:18.868686Z",
     "start_time": "2021-02-01T15:22:18.863027Z"
    }
   },
   "outputs": [],
   "source": [
    "# for number in frameNr:\n",
    "#     fig = plt.figure(figsize=(20, 10))\n",
    "#     ax = plt.axes(projection=ccrs.Orthographic())\n",
    "#     ax.coastlines()\n",
    "#     p = wind.wind_speed.isel(time=number).plot(\n",
    "#         transform=ccrs.PlateCarree(), robust=True, cmap=\"viridis\", vmin=0, vmax=20\n",
    "#     )\n",
    "#     plt.savefig(\"/home/imke/Desktop/MariData/Data/CMEMS/wind_speed/{nr}.png\".format(nr=number+1), bbox_inches=0)\n",
    "    \n"
   ]
  },
  {
   "cell_type": "code",
   "execution_count": null,
   "metadata": {
    "ExecuteTime": {
     "end_time": "2021-02-01T16:19:53.418774Z",
     "start_time": "2021-02-01T16:18:33.405950Z"
    }
   },
   "outputs": [],
   "source": [
    "timemoments = len(wind.time.values)\n",
    "\n",
    "frameNr = list(range(0, timemoments))\n",
    "del frameNr[:2]\n",
    "k=4\n",
    "del frameNr[k-1::k]\n",
    "frameNr\n",
    "\n",
    "for number in testlist:\n",
    "    fig = plt.figure(figsize=(20, 20))\n",
    "    ax1 = plt.subplot(2, 1, 1, projection=ccrs.Robinson())\n",
    "    ax1.coastlines()\n",
    "    # ax2.set_extent([-45, 55, 20, 80], ccrs.PlateCarree())\n",
    "    p = wind.wind_speed.isel(time=number).plot(\n",
    "        transform=ccrs.PlateCarree(), robust=True, cmap=\"viridis\", vmin=0, vmax=20\n",
    "    )\n",
    "\n",
    "    ax2 = plt.subplot(2, 1, 2, projection=ccrs.Orthographic())\n",
    "    ax2.coastlines()\n",
    "    ax2.set_extent([-45, 55, 20, 80], ccrs.PlateCarree())\n",
    "    p = wind.wind_speed.isel(time=number).plot(\n",
    "        transform=ccrs.PlateCarree(), robust=True, cmap=\"RdBu_r\", vmin=0, vmax=20\n",
    "    )\n",
    "\n",
    "    plt.savefig(\"/home/imke/Desktop/MariData/Data/CMEMS/wind_speed/wind_speed_mediterranean_sea/{nr}.png\".format(nr=number+1), bbox_inches=0)\n"
   ]
  },
  {
   "cell_type": "code",
   "execution_count": null,
   "metadata": {
    "ExecuteTime": {
     "end_time": "2021-02-01T16:00:05.429683Z",
     "start_time": "2021-02-01T15:59:58.749410Z"
    }
   },
   "outputs": [],
   "source": [
    "fig = plt.figure(figsize=(20, 20))\n",
    "ax1 = plt.subplot(2, 1, 1, projection=ccrs.Robinson())\n",
    "ax1.coastlines()\n",
    "# ax2.set_extent([-45, 55, 20, 80], ccrs.PlateCarree())\n",
    "p = wind.wind_speed.isel(time=number).plot(\n",
    "    transform=ccrs.PlateCarree(), robust=True, cmap=\"viridis\", vmin=0, vmax=20\n",
    ")\n",
    "\n",
    "ax2 = plt.subplot(2, 1, 2, projection=ccrs.Orthographic())\n",
    "ax2.coastlines()\n",
    "ax2.set_extent([-45, 55, 20, 80], ccrs.PlateCarree())\n",
    "p = wind.wind_speed.isel(time=number).plot(\n",
    "    transform=ccrs.PlateCarree(), robust=True, cmap=\"RdBu_r\", vmin=0, vmax=20\n",
    ")\n",
    "\n",
    "plt.show"
   ]
  },
  {
   "cell_type": "code",
   "execution_count": null,
   "metadata": {},
   "outputs": [],
   "source": []
  }
 ],
 "metadata": {
  "kernelspec": {
   "display_name": "data",
   "language": "python",
   "name": "data"
  },
  "language_info": {
   "codemirror_mode": {
    "name": "ipython",
    "version": 3
   },
   "file_extension": ".py",
   "mimetype": "text/x-python",
   "name": "python",
   "nbconvert_exporter": "python",
   "pygments_lexer": "ipython3",
   "version": "3.8.5"
  }
 },
 "nbformat": 4,
 "nbformat_minor": 4
}
