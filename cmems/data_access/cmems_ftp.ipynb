{
 "cells": [
  {
   "cell_type": "code",
   "execution_count": 49,
   "metadata": {},
   "outputs": [],
   "source": [
    "import ftplib # https://docs.python.org/3/library/ftplib.html\n",
    "import os"
   ]
  },
  {
   "cell_type": "code",
   "execution_count": 50,
   "metadata": {},
   "outputs": [],
   "source": [
    "def download(url, user, passwd, ftp_path, filename):\n",
    "    \n",
    "    with ftplib.FTP(url) as ftp:\n",
    "        \n",
    "        try:\n",
    "            ftp.login(user, passwd)\n",
    "            \n",
    "            # Change directory\n",
    "            ftp.cwd(ftp_path)\n",
    "            \n",
    "            # Download file (if there is not yet a local copy)\n",
    "            if os.path.isfile(filename):\n",
    "                print(\"There is already a local copy of {}\".format(filename))\n",
    "            else:\n",
    "                with open(filename, 'wb') as fp:\n",
    "                    ftp.retrbinary('RETR {}'.format(filename), fp.write)\n",
    "        \n",
    "        except ftplib.all_errors as e:\n",
    "            print('FTP error:', e)\n",
    "    "
   ]
  },
  {
   "cell_type": "code",
   "execution_count": 51,
   "metadata": {},
   "outputs": [],
   "source": [
    "# Set credentials from environment variables\n",
    "UN_CMEMS = %env UN_CMEMS\n",
    "PW_CMEMS = %env PW_CMEMS"
   ]
  },
  {
   "cell_type": "code",
   "execution_count": 52,
   "metadata": {},
   "outputs": [
    {
     "name": "stdout",
     "output_type": "stream",
     "text": [
      "220 Welcome to CMEMS NRT FTP service\n"
     ]
    }
   ],
   "source": [
    "# Check if service is reachable\n",
    "\n",
    "with ftplib.FTP('nrt.cmems-du.eu') as ftp:\n",
    "    print(ftp.getwelcome())"
   ]
  },
  {
   "cell_type": "code",
   "execution_count": 53,
   "metadata": {},
   "outputs": [
    {
     "name": "stdout",
     "output_type": "stream",
     "text": [
      "-rw-rw-r--    1 ftp      ftp      636072983 Dec 02 06:47 mfwamglocep_2020120100_R20201202.nc\n",
      "-rw-rw-r--    1 ftp      ftp      638244251 Dec 03 06:47 mfwamglocep_2020120200_R20201203.nc\n",
      "-rw-rw-r--    1 ftp      ftp      639929447 Dec 04 06:46 mfwamglocep_2020120300_R20201204.nc\n",
      "-rw-rw-r--    1 ftp      ftp      640554233 Dec 05 06:46 mfwamglocep_2020120400_R20201205.nc\n",
      "-rw-rw-r--    1 ftp      ftp      640951547 Dec 06 06:46 mfwamglocep_2020120500_R20201206.nc\n",
      "-rw-rw-r--    1 ftp      ftp      639077342 Dec 07 06:47 mfwamglocep_2020120600_R20201207.nc\n",
      "-rw-rw-r--    1 ftp      ftp      634399221 Dec 08 06:47 mfwamglocep_2020120700_R20201208.nc\n",
      "-rw-rw-r--    1 ftp      ftp      631415150 Dec 09 06:47 mfwamglocep_2020120800_R20201209.nc\n",
      "-rw-rw-r--    1 ftp      ftp      635397521 Dec 10 06:47 mfwamglocep_2020120900_R20201210.nc\n",
      "-rw-rw-r--    1 ftp      ftp      637635238 Dec 11 06:46 mfwamglocep_2020121000_R20201211.nc\n",
      "-rw-rw-r--    1 ftp      ftp      634636270 Dec 12 06:47 mfwamglocep_2020121100_R20201212.nc\n",
      "-rw-rw-r--    1 ftp      ftp      634589553 Dec 13 06:47 mfwamglocep_2020121200_R20201213.nc\n",
      "-rw-rw-r--    1 ftp      ftp      636796470 Dec 14 06:47 mfwamglocep_2020121300_R20201214.nc\n",
      "-rw-rw-r--    1 ftp      ftp      635515561 Dec 15 06:47 mfwamglocep_2020121400_R20201215.nc\n",
      "-rw-rw-r--    1 ftp      ftp      637234133 Dec 16 06:47 mfwamglocep_2020121500_R20201216.nc\n",
      "-rw-rw-r--    1 ftp      ftp      640299522 Dec 17 06:47 mfwamglocep_2020121600_R20201217.nc\n",
      "-rw-rw-r--    1 ftp      ftp      635030726 Dec 18 06:48 mfwamglocep_2020121700_R20201218.nc\n",
      "-rw-rw-r--    1 ftp      ftp      632636421 Dec 19 06:48 mfwamglocep_2020121800_R20201219.nc\n",
      "-rw-rw-r--    1 ftp      ftp      630781842 Dec 20 06:47 mfwamglocep_2020121900_R20201220.nc\n",
      "-rw-rw-r--    1 ftp      ftp      630547056 Dec 21 06:48 mfwamglocep_2020122000_R20201221.nc\n",
      "-rw-rw-r--    1 ftp      ftp      629321942 Dec 22 06:47 mfwamglocep_2020122100_R20201222.nc\n",
      "-rw-rw-r--    1 ftp      ftp      628667163 Dec 23 06:49 mfwamglocep_2020122200_R20201223.nc\n",
      "-rw-rw-r--    1 ftp      ftp      630698823 Dec 24 06:48 mfwamglocep_2020122300_R20201224.nc\n",
      "-rw-rw-r--    1 ftp      ftp      636511063 Dec 25 06:47 mfwamglocep_2020122400_R20201225.nc\n",
      "-rw-rw-r--    1 ftp      ftp      642273892 Dec 26 06:47 mfwamglocep_2020122500_R20201226.nc\n",
      "-rw-rw-r--    1 ftp      ftp      643655287 Dec 27 06:47 mfwamglocep_2020122600_R20201227.nc\n",
      "-rw-rw-r--    1 ftp      ftp      643814344 Dec 28 06:47 mfwamglocep_2020122700_R20201228.nc\n",
      "-rw-rw-r--    1 ftp      ftp      642229250 Dec 29 06:47 mfwamglocep_2020122800_R20201229.nc\n",
      "-rw-rw-r--    1 ftp      ftp      639850263 Dec 30 06:47 mfwamglocep_2020122900_R20201230.nc\n",
      "-rw-rw-r--    1 ftp      ftp      641094471 Dec 31 06:47 mfwamglocep_2020123000_R20201231.nc\n",
      "-rw-rw-r--    1 ftp      ftp      645051418 Jan 01 06:48 mfwamglocep_2020123100_R20210101.nc\n",
      "['mfwamglocep_2020120100_R20201202.nc', 'mfwamglocep_2020120200_R20201203.nc', 'mfwamglocep_2020120300_R20201204.nc', 'mfwamglocep_2020120400_R20201205.nc', 'mfwamglocep_2020120500_R20201206.nc', 'mfwamglocep_2020120600_R20201207.nc', 'mfwamglocep_2020120700_R20201208.nc', 'mfwamglocep_2020120800_R20201209.nc', 'mfwamglocep_2020120900_R20201210.nc', 'mfwamglocep_2020121000_R20201211.nc', 'mfwamglocep_2020121100_R20201212.nc', 'mfwamglocep_2020121200_R20201213.nc', 'mfwamglocep_2020121300_R20201214.nc', 'mfwamglocep_2020121400_R20201215.nc', 'mfwamglocep_2020121500_R20201216.nc', 'mfwamglocep_2020121600_R20201217.nc', 'mfwamglocep_2020121700_R20201218.nc', 'mfwamglocep_2020121800_R20201219.nc', 'mfwamglocep_2020121900_R20201220.nc', 'mfwamglocep_2020122000_R20201221.nc', 'mfwamglocep_2020122100_R20201222.nc', 'mfwamglocep_2020122200_R20201223.nc', 'mfwamglocep_2020122300_R20201224.nc', 'mfwamglocep_2020122400_R20201225.nc', 'mfwamglocep_2020122500_R20201226.nc', 'mfwamglocep_2020122600_R20201227.nc', 'mfwamglocep_2020122700_R20201228.nc', 'mfwamglocep_2020122800_R20201229.nc', 'mfwamglocep_2020122900_R20201230.nc', 'mfwamglocep_2020123000_R20201231.nc', 'mfwamglocep_2020123100_R20210101.nc']\n",
      "636.072983 MB\n"
     ]
    }
   ],
   "source": [
    "# Check contents\n",
    "\n",
    "with ftplib.FTP('nrt.cmems-du.eu') as ftp:\n",
    "    \n",
    "    try:\n",
    "        ftp.login(UN_CMEMS, PW_CMEMS)\n",
    "        \n",
    "        # Change directory\n",
    "        ftp.cwd('Core/GLOBAL_ANALYSIS_FORECAST_WAV_001_027/global-analysis-forecast-wav-001-027/2020/12')\n",
    "        \n",
    "        # List directory contents with additional information\n",
    "        ftp.retrlines('LIST') \n",
    "           \n",
    "        # Get list of directory contents without additional information\n",
    "        files = []\n",
    "        ftp.retrlines('NLST', files.append) \n",
    "        print(files) \n",
    "        \n",
    "        # Check file size\n",
    "        print(\"{} MB\".format(ftp.size('mfwamglocep_2020120100_R20201202.nc')/1000000))\n",
    "            \n",
    "    except ftplib.all_errors as e:\n",
    "        print('FTP error:', e)"
   ]
  },
  {
   "cell_type": "code",
   "execution_count": 56,
   "metadata": {},
   "outputs": [],
   "source": [
    "# Download file\n",
    "\n",
    "url = 'nrt.cmems-du.eu'\n",
    "path = 'Core/GLOBAL_ANALYSIS_FORECAST_WAV_001_027/global-analysis-forecast-wav-001-027/2020/12'\n",
    "filename = 'mfwamglocep_2020120200_R20201203.nc'\n",
    "\n",
    "download(url, UN_CMEMS, PW_CMEMS, path, filename)"
   ]
  },
  {
   "cell_type": "code",
   "execution_count": null,
   "metadata": {},
   "outputs": [],
   "source": []
  },
  {
   "cell_type": "code",
   "execution_count": null,
   "metadata": {},
   "outputs": [],
   "source": []
  }
 ],
 "metadata": {
  "kernelspec": {
   "display_name": "Python 3",
   "language": "python",
   "name": "python3"
  },
  "language_info": {
   "codemirror_mode": {
    "name": "ipython",
    "version": 3
   },
   "file_extension": ".py",
   "mimetype": "text/x-python",
   "name": "python",
   "nbconvert_exporter": "python",
   "pygments_lexer": "ipython3",
   "version": "3.6.9"
  }
 },
 "nbformat": 4,
 "nbformat_minor": 4
}
