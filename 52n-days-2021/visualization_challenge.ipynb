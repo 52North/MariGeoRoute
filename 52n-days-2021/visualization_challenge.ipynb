{
 "cells": [
  {
   "cell_type": "markdown",
   "id": "streaming-evening",
   "metadata": {},
   "source": [
    "#### Run the following cell to import important libraries for your environment:"
   ]
  },
  {
   "cell_type": "code",
   "execution_count": null,
   "id": "dedicated-proof",
   "metadata": {
    "ExecuteTime": {
     "end_time": "2021-02-17T15:36:40.622183Z",
     "start_time": "2021-02-17T15:36:38.756842Z"
    }
   },
   "outputs": [],
   "source": [
    "import plotly.express as px\n",
    "import pandas as pd\n",
    "import netCDF4 as nc\n",
    "import numpy as np\n",
    "import xarray as xr\n",
    "import seaborn as sns"
   ]
  },
  {
   "cell_type": "markdown",
   "id": "wireless-mainland",
   "metadata": {},
   "source": [
    "### AIS data:\n",
    "\n",
    "| variable_name            | explanation |\n",
    "| ------         |    ------       |\n",
    "| LAT |  latitude coordinate\n",
    "| LON      |  longitude coordinate\n",
    "| SOG      |  Speed over Ground in Knots\n",
    "|COG| Course over Ground - up to 0.1° relative to true north\n",
    "|Length| the length of the vessel (m)\n",
    "|Width | the width of the vessel (m)\n",
    "|Draft | Draught in metres\n",
    "|Heading| Heading of the vessel - 0 to 359 degrees|\n",
    "\n",
    "### Weather data:\n",
    "\n",
    "| variable_name            | explanation |\n",
    "| ------         |    ------       |\n",
    "| VHM0_WW      |  Spectral significant wind wave height\n",
    "| VMDR_SW2      |  Mean secondary swell wave direction from\n",
    "| VMDR_SW1      |  Mean primary swell wave direction from\n",
    "| VMDR      |  Mean wave direction from (Mdir)\n",
    "| VTM10      |  Spectral moments (-1,0) wave period (Tm-10)\n",
    "| VTPK      |  Wave period at spectral peak / peak period (Tp)\n",
    "| VPED      |  Wave principal direction at spectral peak\n",
    "| VTM02      |  Spectral moments (0,2) wave period (Tm02)\n",
    "| VMDR_WW      |  Mean wind wave direction from\n",
    "| VTM01_SW2      |  Spectral moments (0,1) secondary swell wave period\n",
    "| VHM0_SW1      |  Spectral significant primary swell wave height\n",
    "| VTM01_SW1      |  Spectral moments (0,1) primary swell wave period\n",
    "| VSDX      |  Stokes drift U\n",
    "| VSDY      |  Stokes drift V\n",
    "| VHM0      |  Spectral significant wave height (Hm0)\n",
    "| VTM01_WW      |  Spectral moments (0,1) wind wave period\n",
    "| VHM0_SW2      | Spectral significant secondary swell wave height\n",
    "\n",
    "\n",
    "- Make sure first to download the CSV files.\n",
    "- Copy the CSV-file into the working directory or upload it in google colab disk space.\n",
    "\n",
    "\n",
    "1. Change the `file_name` according to the path of CSV-file:\n",
    "```python\n",
    "your_file_name = '{your_path_to_csv_file.csv}'\n",
    "```\n",
    "2. Use `read_csv(your_file_name)` function of pandas to import the csv as dataframe in the notebook:\n",
    "```python\n",
    "dataframe = pd.read_csv(your_file_name).drop(['Unnamed: 0'], axis=1, errors='ignore')\n",
    "```\n",
    "3. Select the features for analysis by selecting multiple `variable_names`:\n",
    "```python\n",
    "selected_features = dataframe[['{variable_name}', '{variable_name}', '{variable_name}']] \n",
    "```\n",
    "4. Print the coorlation matrix using `corr()` function:\n",
    "```python\n",
    "corr = selected_features.corr()\n",
    "corr.style.background_gradient(cmap='coolwarm')\n",
    "```"
   ]
  },
  {
   "cell_type": "code",
   "execution_count": null,
   "id": "developing-springer",
   "metadata": {
    "ExecuteTime": {
     "end_time": "2021-02-17T15:02:43.541313Z",
     "start_time": "2021-02-17T15:02:43.536365Z"
    }
   },
   "outputs": [],
   "source": [
    "# visulize coorleation matrix of selected features\n",
    "# your code here\n"
   ]
  },
  {
   "cell_type": "markdown",
   "id": "printable-drunk",
   "metadata": {},
   "source": [
    "5. Print the coorlation matrix using `pairplot(selected_features)` function:\n",
    "```python\n",
    "sns.pairplot(selected_features)\n",
    "```"
   ]
  },
  {
   "cell_type": "code",
   "execution_count": null,
   "id": "touched-church",
   "metadata": {
    "ExecuteTime": {
     "end_time": "2021-02-17T12:37:19.901823Z",
     "start_time": "2021-02-17T12:37:18.880053Z"
    }
   },
   "outputs": [],
   "source": [
    "# visulize pairwise features each with a scatter plots\n",
    "# your code here\n"
   ]
  },
  {
   "cell_type": "markdown",
   "id": "large-ground",
   "metadata": {},
   "source": [
    "6. Use the following function to plot an interactive map and choose a feature (`variable_name`) to visulize:\n",
    "```python\n",
    "fig = px.scatter_mapbox(dataframe,\n",
    "                lat=dataframe.LAT,\n",
    "                lon=dataframe.LON, color='{variable_name}', \n",
    "                mapbox_style=\"stamen-toner\")\n",
    "fig.show()\n",
    "```"
   ]
  },
  {
   "cell_type": "code",
   "execution_count": null,
   "id": "toxic-vault",
   "metadata": {
    "ExecuteTime": {
     "end_time": "2021-02-17T15:36:40.964138Z",
     "start_time": "2021-02-17T15:36:40.638957Z"
    }
   },
   "outputs": [],
   "source": [
    "# visualize AIS Data in plotly\n",
    "# your code here\n"
   ]
  }
 ],
 "metadata": {
  "kernelspec": {
   "display_name": "Python 3",
   "language": "python",
   "name": "python3"
  },
  "language_info": {
   "codemirror_mode": {
    "name": "ipython",
    "version": 3
   },
   "file_extension": ".py",
   "mimetype": "text/x-python",
   "name": "python",
   "nbconvert_exporter": "python",
   "pygments_lexer": "ipython3",
   "version": "3.8.6"
  }
 },
 "nbformat": 4,
 "nbformat_minor": 5
}
