{
 "cells": [
  {
   "cell_type": "markdown",
   "id": "bb531306",
   "metadata": {},
   "source": [
    "<h1 style=\"font-size:3rem;color:orange;\"> OpenSeaMap </h1>"
   ]
  },
  {
   "cell_type": "markdown",
   "id": "c8a65413",
   "metadata": {},
   "source": [
    "# Provide OpenSeaMap as WFS to include it in Geonode"
   ]
  },
  {
   "cell_type": "markdown",
   "id": "d8a17312",
   "metadata": {},
   "source": [
    "## Data extration"
   ]
  },
  {
   "cell_type": "markdown",
   "id": "c20e76e6",
   "metadata": {},
   "source": [
    "In this section, we will show two different ways to download the data:\n",
    "\n",
    "1. One way is using wget tool, a tool for downloading data through the shell. We follow the [link](https://www.jcchouinard.com/wget/#Download_Wget_on_Windows) to download wget and use it afterwards with the command:"
   ]
  },
  {
   "cell_type": "code",
   "execution_count": null,
   "id": "214e63d2",
   "metadata": {},
   "outputs": [],
   "source": [
    "wget -O muenchen.osm \"https://api.openstreetmap.org/api/0.6/map?bbox=11.54,48.14,11.543,48.145\""
   ]
  },
  {
   "cell_type": "markdown",
   "id": "a9a143b7",
   "metadata": {},
   "source": [
    "Navigating in shell to the file of wget where wget.exe is we run the above command where we specify the output file and we give the link to the data we want to download. \n",
    "\n"
   ]
  },
  {
   "cell_type": "markdown",
   "id": "238cf260",
   "metadata": {},
   "source": [
    "2. Another way is to download the data from the server of OpenStreetMap in the format of .osm.pbf where the files as compresed in size. We can download for free from Geofabrik through the following link:  https://download.geofabrik.de/\n",
    "and for the data of the whole planet we follow the link: https://planet.openstreetmap.org/"
   ]
  },
  {
   "cell_type": "markdown",
   "id": "1862c578",
   "metadata": {},
   "source": [
    "## Osmosis"
   ]
  },
  {
   "cell_type": "markdown",
   "id": "f5a2b837",
   "metadata": {},
   "source": [
    "In order to filter the downloaded data from OpenStreetMap to OpenSeaMap we will use OSMOSIS Tool. Osmosis is a command line Java application for processing OSM data ([Osmosis](https://wiki.openstreetmap.org/wiki/Osmosis#Downloading)). We can download the osmosis file from the github .zip file: [Osmosis.zip](https://github.com/openstreetmap/osmosis/releases/tag/0.48.3). "
   ]
  },
  {
   "cell_type": "code",
   "execution_count": null,
   "id": "7cbdb596",
   "metadata": {},
   "outputs": [],
   "source": [
    "C:\\Users\\Mirjeta\\Desktop\\osmosis\\bin\\osmosis.bat --read-pbf C:\\Users\\Mirjeta\\Downloads\\netherlands-latest.osm.pbf --tag-filter accept-nodes seamark:type=* --write-xml C:\\Users\\Mirjeta\\Desktop\\seamarks_ned.osm "
   ]
  },
  {
   "cell_type": "markdown",
   "id": "0fe1c838",
   "metadata": {},
   "source": [
    "The previous command that we execute in Shell, uses the osmosis to filter the data into Seamarks which is our area of interest. The first path is the path to the .bat file of osmosis and the second path is for the data we downloaded as .pbf format. Then in the last path, we specify the output location of processed data. "
   ]
  },
  {
   "cell_type": "markdown",
   "id": "b59c14d4",
   "metadata": {},
   "source": [
    "## OSM2PGSQL"
   ]
  },
  {
   "cell_type": "markdown",
   "id": "62f1bade",
   "metadata": {},
   "source": [
    "To upload our already filtered data by osmosis in the database of PostgreSQL we are going to use oms2pgsql tool."
   ]
  },
  {
   "cell_type": "code",
   "execution_count": null,
   "id": "c71697b9",
   "metadata": {},
   "outputs": [],
   "source": [
    "\"C:\\Users\\Mirjeta\\Desktop\\osm2pgsql-bin\\osm2pgsql.exe\" -c -d geoserver -U geonode-postgres-admin -W -H localhost -S \"C:\\Users\\Mirjeta\\Desktop\\default.style\" \"C:\\Users\\Mirjeta\\Desktop\\seamarks.osm\""
   ]
  },
  {
   "cell_type": "markdown",
   "id": "3481cf31",
   "metadata": {},
   "source": [
    "The first path is the path to the osm2pgsql.exe of the osm2pgsql file we can download [here](https://osm2pgsql.org/doc/install.html). Then we specify the name of database and the username of the connection where we want our data to transfer. We also include the style file through the path, which we can download from [here](https://learnosm.org/en/osm-data/osm2pgsql/#get-the-style-file). Then in the end we include the path of data we provided from osmosis.\n",
    "After running the command above, we have to provide the password of the user geonode-postgres-admin and the procedure of uploading the data into postgresql will be done. "
   ]
  },
  {
   "cell_type": "markdown",
   "id": "90426e96",
   "metadata": {},
   "source": [
    "## Publishing the data into Geoserver"
   ]
  },
  {
   "cell_type": "markdown",
   "id": "91d2b44c",
   "metadata": {},
   "source": [
    "There are two ways we can publish the data into geoserver, manually and automatically:"
   ]
  },
  {
   "cell_type": "markdown",
   "id": "41c258c8",
   "metadata": {},
   "source": [
    "1. Manually. For this, we have to connect out database of postgresql with geoserver. We add a new store where we fill out the data of database and then we publish it. "
   ]
  },
  {
   "cell_type": "markdown",
   "id": "2b59ae36",
   "metadata": {},
   "source": [
    "2. Automatically. For this, we use RestAPI. The following work is based on the tutorials on the website: https://geoserver-rest.readthedocs.io/en/latest/ . From the website we follow the instructions for the installation of the library in different os, and for windows we follow the lines (we need as well gdal dependency):"
   ]
  },
  {
   "cell_type": "code",
   "execution_count": null,
   "id": "57820dcb",
   "metadata": {},
   "outputs": [],
   "source": [
    "pip install pipwin\n",
    "pipwin refresh\n",
    "pipwin install gdal\n",
    "pip install geoserver-rest"
   ]
  },
  {
   "cell_type": "markdown",
   "id": "788e9e85",
   "metadata": {},
   "source": [
    "The geoserver-rest package is useful for the management of geospatial data in GeoServer. To use this, firstly we initialize the library and we specify the parameters of geoserver as below:"
   ]
  },
  {
   "cell_type": "code",
   "execution_count": 17,
   "id": "e04097b5",
   "metadata": {},
   "outputs": [],
   "source": [
    "from geo.Geoserver import Geoserver\n",
    "geo = Geoserver('http://localhost/geoserver', username='admin', password='geoserver')"
   ]
  },
  {
   "cell_type": "markdown",
   "id": "35793f09",
   "metadata": {},
   "source": [
    "To create a workspace we use the following function. It creates a workspace with the name demo."
   ]
  },
  {
   "cell_type": "code",
   "execution_count": 19,
   "id": "83d41359",
   "metadata": {},
   "outputs": [
    {
     "data": {
      "text/plain": [
       "'Error: The workspace can not be created'"
      ]
     },
     "execution_count": 19,
     "metadata": {},
     "output_type": "execute_result"
    }
   ],
   "source": [
    "geo.create_workspace(workspace='demo')"
   ]
  },
  {
   "cell_type": "markdown",
   "id": "940fc6e1",
   "metadata": {},
   "source": [
    "Now we need to create and publish featurestores and featurestore layers. In the function below for creating featurestore we give parameteres like the name of the store we want to create, part of which workspace and the details of the postgres connection. Then we publish with the next function by specifying the workspace and the store along the table of db we want to publish."
   ]
  },
  {
   "cell_type": "code",
   "execution_count": null,
   "id": "d5f323c7",
   "metadata": {},
   "outputs": [],
   "source": [
    "geo.create_featurestore(store_name='neth_data', workspace='demo', db='geoserver', host='db', pg_user='geonode-postgres-admin', pg_password='geonode-postgres-admin-passwort')\n",
    "geo.publish_featurestore(workspace='demo', store_name='neth_data', pg_table='planet_osm_point')"
   ]
  }
 ],
 "metadata": {
  "kernelspec": {
   "display_name": "Python 3 (ipykernel)",
   "language": "python",
   "name": "python3"
  },
  "language_info": {
   "codemirror_mode": {
    "name": "ipython",
    "version": 3
   },
   "file_extension": ".py",
   "mimetype": "text/x-python",
   "name": "python",
   "nbconvert_exporter": "python",
   "pygments_lexer": "ipython3",
   "version": "3.10.4"
  }
 },
 "nbformat": 4,
 "nbformat_minor": 5
}
